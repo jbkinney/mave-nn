{
 "cells": [
  {
   "cell_type": "code",
   "execution_count": 1,
   "metadata": {
    "collapsed": true
   },
   "outputs": [],
   "source": [
    "import numpy as np\n",
    "import pandas as pd\n",
    "import matplotlib.pyplot as plt\n",
    "import sys\n",
    "sys.path.insert(0, '/Users/tareen/Desktop/Research_Projects/2022_mavenn2_github/mavenn')\n",
    "\n",
    "import mavenn\n",
    "import logomaker\n",
    "import seaborn as sns\n",
    "import re\n",
    "\n",
    "%matplotlib inline"
   ]
  },
  {
   "cell_type": "code",
   "execution_count": 2,
   "metadata": {},
   "outputs": [
    {
     "name": "stdout",
     "output_type": "stream",
     "text": [
      "test N: 9,935\n",
      "training + validation N: 40,583\n"
     ]
    },
    {
     "data": {
      "text/html": [
       "<div>\n",
       "<style scoped>\n",
       "    .dataframe tbody tr th:only-of-type {\n",
       "        vertical-align: middle;\n",
       "    }\n",
       "\n",
       "    .dataframe tbody tr th {\n",
       "        vertical-align: top;\n",
       "    }\n",
       "\n",
       "    .dataframe thead th {\n",
       "        text-align: right;\n",
       "    }\n",
       "</style>\n",
       "<table border=\"1\" class=\"dataframe\">\n",
       "  <thead>\n",
       "    <tr style=\"text-align: right;\">\n",
       "      <th></th>\n",
       "      <th>set</th>\n",
       "      <th>ct_0</th>\n",
       "      <th>ct_1</th>\n",
       "      <th>ct_2</th>\n",
       "      <th>ct_3</th>\n",
       "      <th>ct_4</th>\n",
       "      <th>ct_5</th>\n",
       "      <th>ct_6</th>\n",
       "      <th>ct_7</th>\n",
       "      <th>ct_8</th>\n",
       "      <th>ct_9</th>\n",
       "      <th>x</th>\n",
       "    </tr>\n",
       "  </thead>\n",
       "  <tbody>\n",
       "    <tr>\n",
       "      <th>0</th>\n",
       "      <td>training</td>\n",
       "      <td>0</td>\n",
       "      <td>1</td>\n",
       "      <td>0</td>\n",
       "      <td>0</td>\n",
       "      <td>0</td>\n",
       "      <td>0</td>\n",
       "      <td>0</td>\n",
       "      <td>0</td>\n",
       "      <td>0</td>\n",
       "      <td>0</td>\n",
       "      <td>AAAAAAAGTGAGTTAGCCAACTAATTAGGCACCGTACGCTTTATAG...</td>\n",
       "    </tr>\n",
       "    <tr>\n",
       "      <th>1</th>\n",
       "      <td>training</td>\n",
       "      <td>0</td>\n",
       "      <td>0</td>\n",
       "      <td>0</td>\n",
       "      <td>0</td>\n",
       "      <td>0</td>\n",
       "      <td>0</td>\n",
       "      <td>0</td>\n",
       "      <td>0</td>\n",
       "      <td>0</td>\n",
       "      <td>1</td>\n",
       "      <td>AAAAAATGAGAGTTAGTTCACTCATTCGGCACCACAGGCTTTACAA...</td>\n",
       "    </tr>\n",
       "    <tr>\n",
       "      <th>2</th>\n",
       "      <td>training</td>\n",
       "      <td>0</td>\n",
       "      <td>0</td>\n",
       "      <td>0</td>\n",
       "      <td>0</td>\n",
       "      <td>0</td>\n",
       "      <td>0</td>\n",
       "      <td>0</td>\n",
       "      <td>0</td>\n",
       "      <td>0</td>\n",
       "      <td>1</td>\n",
       "      <td>AAAAAATGGGTGTTAGCTCTATCATTAGGCACCCCCGGCTTTACAC...</td>\n",
       "    </tr>\n",
       "    <tr>\n",
       "      <th>3</th>\n",
       "      <td>training</td>\n",
       "      <td>0</td>\n",
       "      <td>1</td>\n",
       "      <td>0</td>\n",
       "      <td>0</td>\n",
       "      <td>0</td>\n",
       "      <td>0</td>\n",
       "      <td>0</td>\n",
       "      <td>0</td>\n",
       "      <td>0</td>\n",
       "      <td>0</td>\n",
       "      <td>AAAAAATGTCAGTTAGCTGACTCATTAGGCACCCCTGGCTTTACGT...</td>\n",
       "    </tr>\n",
       "    <tr>\n",
       "      <th>4</th>\n",
       "      <td>validation</td>\n",
       "      <td>0</td>\n",
       "      <td>0</td>\n",
       "      <td>0</td>\n",
       "      <td>0</td>\n",
       "      <td>0</td>\n",
       "      <td>0</td>\n",
       "      <td>1</td>\n",
       "      <td>0</td>\n",
       "      <td>0</td>\n",
       "      <td>0</td>\n",
       "      <td>AAAAAATGTGAGAAAGCTCACTCCTTTGGCACCGCAGGCTTTACAC...</td>\n",
       "    </tr>\n",
       "  </tbody>\n",
       "</table>\n",
       "</div>"
      ],
      "text/plain": [
       "          set  ct_0  ct_1  ct_2  ct_3  ct_4  ct_5  ct_6  ct_7  ct_8  ct_9  \\\n",
       "0    training     0     1     0     0     0     0     0     0     0     0   \n",
       "1    training     0     0     0     0     0     0     0     0     0     1   \n",
       "2    training     0     0     0     0     0     0     0     0     0     1   \n",
       "3    training     0     1     0     0     0     0     0     0     0     0   \n",
       "4  validation     0     0     0     0     0     0     1     0     0     0   \n",
       "\n",
       "                                                   x  \n",
       "0  AAAAAAAGTGAGTTAGCCAACTAATTAGGCACCGTACGCTTTATAG...  \n",
       "1  AAAAAATGAGAGTTAGTTCACTCATTCGGCACCACAGGCTTTACAA...  \n",
       "2  AAAAAATGGGTGTTAGCTCTATCATTAGGCACCCCCGGCTTTACAC...  \n",
       "3  AAAAAATGTCAGTTAGCTGACTCATTAGGCACCCCTGGCTTTACGT...  \n",
       "4  AAAAAATGTGAGAAAGCTCACTCCTTTGGCACCGCAGGCTTTACAC...  "
      ]
     },
     "execution_count": 2,
     "metadata": {},
     "output_type": "execute_result"
    }
   ],
   "source": [
    "# Load example data\n",
    "data_df = mavenn.load_example_dataset('sortseq')\n",
    "\n",
    "# Separate test from data_df\n",
    "ix_test = data_df['set']=='test'\n",
    "test_df = data_df[ix_test].reset_index(drop=True)\n",
    "print(f'test N: {len(test_df):,}')\n",
    "\n",
    "# Remove test data from data_df\n",
    "data_df = data_df[~ix_test].reset_index(drop=True)\n",
    "print(f'training + validation N: {len(data_df):,}')\n",
    "data_df.head()"
   ]
  },
  {
   "cell_type": "code",
   "execution_count": 3,
   "metadata": {},
   "outputs": [
    {
     "name": "stdout",
     "output_type": "stream",
     "text": [
      "L=75, Y=10\n"
     ]
    }
   ],
   "source": [
    "# set positional argumnets for gpmap function\n",
    "L = len(data_df['x'][0])\n",
    "alphabet=['A','C','G','T']\n",
    "\n",
    "y_cols = data_df.columns[1:-1]\n",
    "Y = len(y_cols)\n",
    "print(f'L={L}, Y={Y}')\n",
    "\n",
    "# get test set data.\n",
    "x_test = test_df['x'].values"
   ]
  },
  {
   "cell_type": "code",
   "execution_count": 4,
   "metadata": {},
   "outputs": [
    {
     "name": "stderr",
     "output_type": "stream",
     "text": [
      "2022-03-29 12:55:23.045441: I tensorflow/core/platform/cpu_feature_guard.cc:151] This TensorFlow binary is optimized with oneAPI Deep Neural Network Library (oneDNN) to use the following CPU instructions in performance-critical operations:  AVX2 FMA\n",
      "To enable them in other operations, rebuild TensorFlow with the appropriate compiler flags.\n"
     ]
    }
   ],
   "source": [
    "# instantiate gpmap object\n",
    "gpmap = mavenn.gpmap.AdditiveGPMapLayer(L, alphabet)\n"
   ]
  },
  {
   "cell_type": "markdown",
   "metadata": {},
   "source": [
    "### Create measurement process object(s)"
   ]
  },
  {
   "cell_type": "code",
   "execution_count": 5,
   "metadata": {},
   "outputs": [],
   "source": [
    "# I think this shouldn't require any positional arguments.\n",
    "# mp_GE = mavenn.measurement_process_layers.GlobalEpistasisLayer(K=50,\n",
    "#                                                                eta=1e-5,\n",
    "#                                                                monotonic=True)\n",
    "mp_mpa = mavenn.measurement_process_layers.DiscreteAgnosticMP(info_for_layers_dict={'H_y_norm':0},\n",
    "                                                                      Y=10,\n",
    "                                                                      K=50,\n",
    "                                                                      eta=1e-5,)\n"
   ]
  },
  {
   "cell_type": "code",
   "execution_count": 6,
   "metadata": {},
   "outputs": [],
   "source": [
    "model = mavenn.Model2(gpmap=gpmap,\n",
    "                      mp_list=[mp_mpa])"
   ]
  },
  {
   "cell_type": "code",
   "execution_count": 7,
   "metadata": {},
   "outputs": [
    {
     "name": "stdout",
     "output_type": "stream",
     "text": [
      "Model: \"model\"\n",
      "__________________________________________________________________________________________________\n",
      " Layer (type)                   Output Shape         Param #     Connected to                     \n",
      "==================================================================================================\n",
      " Sequence_labels_input (InputLa  [(None, 310)]       0           []                               \n",
      " yer)                                                                                             \n",
      "                                                                                                  \n",
      " Sequence_only (Lambda)         (None, 300)          0           ['Sequence_labels_input[0][0]']  \n",
      "                                                                                                  \n",
      " additive_gp_map_layer (Additiv  (None, 1)           301         ['Sequence_only[0][0]']          \n",
      " eGPMapLayer)                                                                                     \n",
      "                                                                                                  \n",
      " Labels_input_0 (Lambda)        (None, 10)           0           ['Sequence_labels_input[0][0]']  \n",
      "                                                                                                  \n",
      " concatenate (Concatenate)      (None, 11)           0           ['additive_gp_map_layer[0][0]',  \n",
      "                                                                  'Labels_input_0[0][0]']         \n",
      "                                                                                                  \n",
      " discrete_agnostic_mp (Discrete  (None,)             1510        ['concatenate[0][0]']            \n",
      " AgnosticMP)                                                                                      \n",
      "                                                                                                  \n",
      "==================================================================================================\n",
      "Total params: 1,811\n",
      "Trainable params: 1,811\n",
      "Non-trainable params: 0\n",
      "__________________________________________________________________________________________________\n"
     ]
    }
   ],
   "source": [
    "model.model.summary()"
   ]
  },
  {
   "cell_type": "code",
   "execution_count": 9,
   "metadata": {},
   "outputs": [],
   "source": [
    "# #*np.ones(shape=y_list[0].shape[0])\n",
    "\n",
    "# y_cts_df = pd.DataFrame(np.random.rand(y_list[0].shape[0]))\n",
    "# y_cts_df.head()"
   ]
  },
  {
   "cell_type": "code",
   "execution_count": 10,
   "metadata": {},
   "outputs": [],
   "source": [
    "# y_dict = {}\n",
    "\n",
    "# y_list=[data_df[y_cols].values]\n",
    "# #y_dict[output_layer_index] = current_y_norm\n",
    "# y_discrete_df = pd.DataFrame(y_list[0])\n",
    "# y_discrete_df.head()"
   ]
  },
  {
   "cell_type": "code",
   "execution_count": 11,
   "metadata": {},
   "outputs": [],
   "source": [
    "# np.hstack([model.x_ohe,np.hstack([y_cts_df.values,y_discrete_df.values])])"
   ]
  },
  {
   "cell_type": "code",
   "execution_count": 12,
   "metadata": {},
   "outputs": [],
   "source": [
    "\n",
    "#np.hstack([y_cts_df.values])"
   ]
  },
  {
   "cell_type": "code",
   "execution_count": 13,
   "metadata": {},
   "outputs": [
    {
     "name": "stdout",
     "output_type": "stream",
     "text": [
      "N = 40,583 observations set as training data.\n",
      "Using 24.8% for validation.\n",
      "Time to set data: 0.816 sec.\n"
     ]
    }
   ],
   "source": [
    "# Set training data\n",
    "model.set_data(x=data_df['x'].values,\n",
    "               y_list=[data_df[y_cols].values],\n",
    "               validation_flags=(data_df['set']=='validation'),\n",
    "               shuffle=False)\n"
   ]
  },
  {
   "cell_type": "code",
   "execution_count": 14,
   "metadata": {},
   "outputs": [
    {
     "name": "stdout",
     "output_type": "stream",
     "text": [
      "Epoch 1/1000\n",
      "62/62 [==============================] - 1s 8ms/step - loss: 1178.7405 - I_var: 0.0068 - val_loss: 1138.2491 - val_I_var: 0.1010\n",
      "Epoch 2/1000\n",
      "62/62 [==============================] - 0s 5ms/step - loss: 1050.3658 - I_var: 0.3671 - val_loss: 1004.6932 - val_I_var: 0.4835\n",
      "Epoch 3/1000\n",
      "62/62 [==============================] - 0s 5ms/step - loss: 995.7657 - I_var: 0.5175 - val_loss: 995.8412 - val_I_var: 0.5090\n",
      "Epoch 4/1000\n",
      "62/62 [==============================] - 0s 5ms/step - loss: 988.6883 - I_var: 0.5392 - val_loss: 976.5082 - val_I_var: 0.5628\n",
      "Epoch 5/1000\n",
      "62/62 [==============================] - 0s 5ms/step - loss: 981.8998 - I_var: 0.5626 - val_loss: 967.2554 - val_I_var: 0.5901\n",
      "Epoch 6/1000\n",
      "62/62 [==============================] - 0s 5ms/step - loss: 973.1430 - I_var: 0.5851 - val_loss: 964.6166 - val_I_var: 0.5968\n",
      "Epoch 7/1000\n",
      "62/62 [==============================] - 0s 6ms/step - loss: 971.1596 - I_var: 0.5913 - val_loss: 957.5903 - val_I_var: 0.6160\n",
      "Epoch 8/1000\n",
      "62/62 [==============================] - 0s 6ms/step - loss: 964.9741 - I_var: 0.6125 - val_loss: 954.7104 - val_I_var: 0.6240\n",
      "Epoch 9/1000\n",
      "62/62 [==============================] - 0s 6ms/step - loss: 964.1854 - I_var: 0.6090 - val_loss: 956.8615 - val_I_var: 0.6179\n",
      "Epoch 10/1000\n",
      "62/62 [==============================] - 0s 5ms/step - loss: 962.6336 - I_var: 0.6022 - val_loss: 949.7477 - val_I_var: 0.6357\n",
      "Epoch 11/1000\n",
      "62/62 [==============================] - 0s 4ms/step - loss: 959.9618 - I_var: 0.6182 - val_loss: 953.8434 - val_I_var: 0.6221\n",
      "Epoch 12/1000\n",
      "62/62 [==============================] - 0s 5ms/step - loss: 961.7012 - I_var: 0.6159 - val_loss: 949.7583 - val_I_var: 0.6361\n",
      "Epoch 13/1000\n",
      "62/62 [==============================] - 0s 5ms/step - loss: 957.1696 - I_var: 0.6395 - val_loss: 950.1691 - val_I_var: 0.6374\n",
      "Epoch 14/1000\n",
      "62/62 [==============================] - 0s 4ms/step - loss: 956.2564 - I_var: 0.6238 - val_loss: 966.3663 - val_I_var: 0.5861\n",
      "Epoch 15/1000\n",
      "62/62 [==============================] - 0s 5ms/step - loss: 957.0765 - I_var: 0.6270 - val_loss: 955.5268 - val_I_var: 0.6216\n",
      "Epoch 16/1000\n",
      "62/62 [==============================] - 0s 4ms/step - loss: 957.2768 - I_var: 0.6329 - val_loss: 944.3460 - val_I_var: 0.6513\n",
      "Epoch 17/1000\n",
      "62/62 [==============================] - 0s 4ms/step - loss: 955.1815 - I_var: 0.6351 - val_loss: 945.5770 - val_I_var: 0.6469\n",
      "Epoch 18/1000\n",
      "62/62 [==============================] - 0s 4ms/step - loss: 954.5399 - I_var: 0.6376 - val_loss: 959.1542 - val_I_var: 0.6106\n",
      "Epoch 19/1000\n",
      "62/62 [==============================] - 0s 4ms/step - loss: 955.6666 - I_var: 0.6310 - val_loss: 945.1809 - val_I_var: 0.6484\n",
      "Epoch 20/1000\n",
      "62/62 [==============================] - 0s 4ms/step - loss: 954.6890 - I_var: 0.6362 - val_loss: 942.4103 - val_I_var: 0.6561\n",
      "Epoch 21/1000\n",
      "62/62 [==============================] - 0s 4ms/step - loss: 952.9848 - I_var: 0.6340 - val_loss: 946.3970 - val_I_var: 0.6475\n",
      "Epoch 22/1000\n",
      "62/62 [==============================] - 0s 4ms/step - loss: 954.6418 - I_var: 0.6370 - val_loss: 947.7252 - val_I_var: 0.6381\n",
      "Epoch 23/1000\n",
      "62/62 [==============================] - 0s 4ms/step - loss: 953.2424 - I_var: 0.6437 - val_loss: 944.4762 - val_I_var: 0.6517\n",
      "Epoch 24/1000\n",
      "62/62 [==============================] - 0s 4ms/step - loss: 954.6559 - I_var: 0.6343 - val_loss: 948.8857 - val_I_var: 0.6355\n",
      "Epoch 25/1000\n",
      "62/62 [==============================] - 0s 4ms/step - loss: 955.7536 - I_var: 0.6292 - val_loss: 945.5566 - val_I_var: 0.6465\n",
      "Epoch 26/1000\n",
      "62/62 [==============================] - 0s 4ms/step - loss: 954.5458 - I_var: 0.6367 - val_loss: 949.5378 - val_I_var: 0.6363\n",
      "Epoch 27/1000\n",
      "62/62 [==============================] - 0s 4ms/step - loss: 953.2685 - I_var: 0.6335 - val_loss: 947.0255 - val_I_var: 0.6415\n",
      "Epoch 28/1000\n",
      "62/62 [==============================] - 0s 4ms/step - loss: 952.7192 - I_var: 0.6391 - val_loss: 942.9590 - val_I_var: 0.6540\n",
      "Epoch 29/1000\n",
      "62/62 [==============================] - 0s 4ms/step - loss: 953.1271 - I_var: 0.6384 - val_loss: 947.6812 - val_I_var: 0.6405\n",
      "Epoch 30/1000\n",
      "62/62 [==============================] - 0s 4ms/step - loss: 952.2299 - I_var: 0.6451 - val_loss: 942.0458 - val_I_var: 0.6563\n",
      "Epoch 31/1000\n",
      "62/62 [==============================] - 0s 5ms/step - loss: 952.4548 - I_var: 0.6405 - val_loss: 943.9862 - val_I_var: 0.6495\n",
      "Epoch 32/1000\n",
      "62/62 [==============================] - 0s 4ms/step - loss: 953.5001 - I_var: 0.6385 - val_loss: 945.2581 - val_I_var: 0.6468\n",
      "Epoch 33/1000\n",
      "62/62 [==============================] - 0s 5ms/step - loss: 953.0953 - I_var: 0.6329 - val_loss: 943.4802 - val_I_var: 0.6526\n",
      "Epoch 34/1000\n",
      "62/62 [==============================] - 0s 4ms/step - loss: 952.9843 - I_var: 0.6380 - val_loss: 941.9560 - val_I_var: 0.6585\n",
      "Epoch 35/1000\n",
      "62/62 [==============================] - 0s 5ms/step - loss: 952.4323 - I_var: 0.6504 - val_loss: 945.6031 - val_I_var: 0.6459\n",
      "Epoch 36/1000\n",
      "62/62 [==============================] - 0s 4ms/step - loss: 954.6465 - I_var: 0.6326 - val_loss: 944.1228 - val_I_var: 0.6515\n",
      "Epoch 37/1000\n",
      "62/62 [==============================] - 0s 4ms/step - loss: 952.4111 - I_var: 0.6447 - val_loss: 943.8369 - val_I_var: 0.6512\n",
      "Epoch 38/1000\n",
      "62/62 [==============================] - 0s 4ms/step - loss: 953.4580 - I_var: 0.6351 - val_loss: 941.3181 - val_I_var: 0.6591\n",
      "Epoch 39/1000\n",
      "62/62 [==============================] - 0s 4ms/step - loss: 951.7875 - I_var: 0.6416 - val_loss: 942.2141 - val_I_var: 0.6579\n",
      "Epoch 40/1000\n",
      "62/62 [==============================] - 0s 4ms/step - loss: 952.8940 - I_var: 0.6406 - val_loss: 948.7328 - val_I_var: 0.6387\n",
      "Epoch 41/1000\n",
      "62/62 [==============================] - 0s 4ms/step - loss: 951.8394 - I_var: 0.6376 - val_loss: 944.1224 - val_I_var: 0.6505\n",
      "Epoch 42/1000\n",
      "62/62 [==============================] - 0s 4ms/step - loss: 951.0925 - I_var: 0.6423 - val_loss: 943.8332 - val_I_var: 0.6528\n",
      "Epoch 43/1000\n",
      "62/62 [==============================] - 0s 7ms/step - loss: 952.3712 - I_var: 0.6412 - val_loss: 941.1572 - val_I_var: 0.6599\n",
      "Epoch 44/1000\n",
      "62/62 [==============================] - 0s 6ms/step - loss: 953.3925 - I_var: 0.6408 - val_loss: 943.0159 - val_I_var: 0.6544\n",
      "Epoch 45/1000\n",
      "62/62 [==============================] - 0s 5ms/step - loss: 952.9368 - I_var: 0.6409 - val_loss: 953.8964 - val_I_var: 0.6224\n",
      "Epoch 46/1000\n",
      "62/62 [==============================] - 0s 5ms/step - loss: 954.7762 - I_var: 0.6379 - val_loss: 943.5314 - val_I_var: 0.6515\n",
      "Epoch 47/1000\n",
      "62/62 [==============================] - 0s 4ms/step - loss: 951.8325 - I_var: 0.6434 - val_loss: 940.5211 - val_I_var: 0.6606\n",
      "Epoch 48/1000\n",
      "62/62 [==============================] - 0s 5ms/step - loss: 951.7095 - I_var: 0.6406 - val_loss: 940.9886 - val_I_var: 0.6593\n",
      "Epoch 49/1000\n",
      "62/62 [==============================] - 0s 4ms/step - loss: 951.0941 - I_var: 0.6461 - val_loss: 943.1389 - val_I_var: 0.6523\n",
      "Epoch 50/1000\n",
      "62/62 [==============================] - 0s 4ms/step - loss: 951.3812 - I_var: 0.6456 - val_loss: 944.5100 - val_I_var: 0.6503\n",
      "Epoch 51/1000\n",
      "62/62 [==============================] - 0s 4ms/step - loss: 951.4976 - I_var: 0.6439 - val_loss: 941.9777 - val_I_var: 0.6572\n",
      "Epoch 52/1000\n",
      "62/62 [==============================] - 0s 4ms/step - loss: 951.7274 - I_var: 0.6482 - val_loss: 947.3038 - val_I_var: 0.6415\n",
      "Epoch 53/1000\n",
      "62/62 [==============================] - 0s 4ms/step - loss: 952.0812 - I_var: 0.6425 - val_loss: 945.8493 - val_I_var: 0.6468\n",
      "Epoch 54/1000\n",
      "62/62 [==============================] - 0s 4ms/step - loss: 951.7496 - I_var: 0.6439 - val_loss: 943.3049 - val_I_var: 0.6555\n",
      "Epoch 55/1000\n",
      "62/62 [==============================] - 0s 4ms/step - loss: 954.2567 - I_var: 0.6358 - val_loss: 943.7115 - val_I_var: 0.6516\n",
      "Epoch 56/1000\n",
      "62/62 [==============================] - 0s 4ms/step - loss: 951.9357 - I_var: 0.6455 - val_loss: 942.9052 - val_I_var: 0.6545\n",
      "Epoch 57/1000\n",
      "62/62 [==============================] - 0s 4ms/step - loss: 952.4173 - I_var: 0.6428 - val_loss: 942.8960 - val_I_var: 0.6534\n",
      "Training time: 17.8 seconds\n"
     ]
    },
    {
     "data": {
      "text/plain": [
       "<keras.callbacks.History at 0x7fe30bf01ac0>"
      ]
     },
     "execution_count": 14,
     "metadata": {},
     "output_type": "execute_result"
    }
   ],
   "source": [
    "\n",
    "# Fit model to data\n",
    "model.fit(learning_rate=.005,\n",
    "          epochs=1000,\n",
    "          batch_size=500,\n",
    "          try_tqdm = False,\n",
    "          early_stopping=True,\n",
    "          early_stopping_patience=10,\n",
    "          linear_initialization=False)"
   ]
  },
  {
   "cell_type": "code",
   "execution_count": 15,
   "metadata": {},
   "outputs": [
    {
     "name": "stdout",
     "output_type": "stream",
     "text": [
      "On test data:\n"
     ]
    },
    {
     "data": {
      "text/plain": [
       "Text(0.5, 1.0, 'training hisotry')"
      ]
     },
     "execution_count": 15,
     "metadata": {},
     "output_type": "execute_result"
    },
    {
     "data": {
      "image/png": "[encoded data removed]",
      "text/plain": [
       "<Figure size 288x288 with 1 Axes>"
      ]
     },
     "metadata": {
      "needs_background": "light"
     },
     "output_type": "display_data"
    }
   ],
   "source": [
    "# Show training history\n",
    "print('On test data:')\n",
    "x_test = test_df['x'].values\n",
    "y_test = test_df[y_cols].values\n",
    "\n",
    "\n",
    "I_var_hist = model.history['I_var']\n",
    "val_I_var_hist = model.history['val_I_var']\n",
    "\n",
    "fig, ax = plt.subplots(1,1,figsize=[4,4])\n",
    "ax.plot(I_var_hist, label='I_var_train')\n",
    "ax.plot(val_I_var_hist, label='I_var_val')\n",
    "ax.legend()\n",
    "ax.set_xlabel('epochs')\n",
    "ax.set_ylabel('bits')\n",
    "ax.set_title('training hisotry')"
   ]
  },
  {
   "cell_type": "code",
   "execution_count": 16,
   "metadata": {},
   "outputs": [
    {
     "data": {
      "image/png": "[encoded data removed]",
      "text/plain": [
       "<Figure size 864x288 with 2 Axes>"
      ]
     },
     "metadata": {
      "needs_background": "light"
     },
     "output_type": "display_data"
    }
   ],
   "source": [
    "# Get G-P map parameters in matrix form\n",
    "theta = np.squeeze(gpmap.weights[1].numpy())\n",
    "\n",
    "# Create grid in phi space\n",
    "phi_lim = [-5, 3]\n",
    "phi_grid = np.linspace(phi_lim[0], phi_lim[1], 1000)\n",
    "\n",
    "# Create array of allowable y values\n",
    "Y = mp_mpa.Y    # Y = number of bins\n",
    "y_lim = [-.5, Y-.5]\n",
    "y_all = range(Y)\n",
    "\n",
    "# Compute matrix of p(y|phi) values\n",
    "#measurement_process = mp_mpa.p_of_y_given_phi(y_all, phi_grid)\n",
    "\n",
    "# Create figure with two panels\n",
    "fig, axs = plt.subplots(1,2,figsize=[12,4])\n",
    "\n",
    "# Left panel: draw logo using logomaker\n",
    "ax = axs[0]\n",
    "logo = logomaker.Logo(-pd.DataFrame(theta,columns=model.alphabet), ax=ax,center_values=True)\n",
    "ax.set_ylabel(r'parameter value ($\\theta_{l:c}$)')\n",
    "ax.set_xlabel(r'position ($l$)')\n",
    "ax.set_title('G-P map parameters')\n",
    "\n",
    "# Right panel: draw measurement process as heatmap\n",
    "# ax = axs[1]\n",
    "# im = ax.imshow(measurement_process,\n",
    "#                cmap='Greens',\n",
    "#                extent=phi_lim+y_lim,\n",
    "#                vmin=0,\n",
    "#                origin='lower',\n",
    "#                interpolation='nearest',\n",
    "#                aspect=\"auto\")\n",
    "# ax.set_yticks(y_all)\n",
    "# ax.set_ylabel('bin number (y)')\n",
    "# ax.set_xlabel('latent phenotype ($\\phi$)')\n",
    "# ax.set_title('measurement process')\n",
    "# cb = plt.colorbar(im)\n",
    "# cb.set_label('probability  $p(y|\\phi)$', rotation=-90, va=\"bottom\")\n",
    "\n",
    "# Fix up plot\n",
    "fig.tight_layout(w_pad=3)\n",
    "#fig.savefig('sortseq_g-p_map_mpa_visualization.png')\n",
    "plt.show()"
   ]
  },
  {
   "cell_type": "code",
   "execution_count": null,
   "metadata": {
    "collapsed": true
   },
   "outputs": [],
   "source": []
  }
 ],
 "metadata": {
  "kernelspec": {
   "display_name": "Python 3 (ipykernel)",
   "language": "python",
   "name": "python3"
  },
  "language_info": {
   "codemirror_mode": {
    "name": "ipython",
    "version": 3
   },
   "file_extension": ".py",
   "mimetype": "text/x-python",
   "name": "python",
   "nbconvert_exporter": "python",
   "pygments_lexer": "ipython3",
   "version": "3.9.7"
  }
 },
 "nbformat": 4,
 "nbformat_minor": 2
}
