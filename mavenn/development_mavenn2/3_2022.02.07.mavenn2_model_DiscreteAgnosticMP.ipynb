{
 "cells": [
  {
   "cell_type": "code",
   "execution_count": 1,
   "metadata": {
    "collapsed": true
   },
   "outputs": [],
   "source": [
    "import numpy as np\n",
    "import pandas as pd\n",
    "import matplotlib.pyplot as plt\n",
    "import sys\n",
    "sys.path.insert(0, '/Users/tareen/Desktop/Research_Projects/2022_mavenn2_github/mavenn')\n",
    "\n",
    "import mavenn\n",
    "import logomaker\n",
    "import seaborn as sns\n",
    "import re\n",
    "\n",
    "%matplotlib inline"
   ]
  },
  {
   "cell_type": "code",
   "execution_count": 2,
   "metadata": {},
   "outputs": [
    {
     "name": "stdout",
     "output_type": "stream",
     "text": [
      "test N: 9,935\n",
      "training + validation N: 40,583\n"
     ]
    },
    {
     "data": {
      "text/html": [
       "<div>\n",
       "<style scoped>\n",
       "    .dataframe tbody tr th:only-of-type {\n",
       "        vertical-align: middle;\n",
       "    }\n",
       "\n",
       "    .dataframe tbody tr th {\n",
       "        vertical-align: top;\n",
       "    }\n",
       "\n",
       "    .dataframe thead th {\n",
       "        text-align: right;\n",
       "    }\n",
       "</style>\n",
       "<table border=\"1\" class=\"dataframe\">\n",
       "  <thead>\n",
       "    <tr style=\"text-align: right;\">\n",
       "      <th></th>\n",
       "      <th>set</th>\n",
       "      <th>ct_0</th>\n",
       "      <th>ct_1</th>\n",
       "      <th>ct_2</th>\n",
       "      <th>ct_3</th>\n",
       "      <th>ct_4</th>\n",
       "      <th>ct_5</th>\n",
       "      <th>ct_6</th>\n",
       "      <th>ct_7</th>\n",
       "      <th>ct_8</th>\n",
       "      <th>ct_9</th>\n",
       "      <th>x</th>\n",
       "    </tr>\n",
       "  </thead>\n",
       "  <tbody>\n",
       "    <tr>\n",
       "      <th>0</th>\n",
       "      <td>training</td>\n",
       "      <td>0</td>\n",
       "      <td>1</td>\n",
       "      <td>0</td>\n",
       "      <td>0</td>\n",
       "      <td>0</td>\n",
       "      <td>0</td>\n",
       "      <td>0</td>\n",
       "      <td>0</td>\n",
       "      <td>0</td>\n",
       "      <td>0</td>\n",
       "      <td>AAAAAAAGTGAGTTAGCCAACTAATTAGGCACCGTACGCTTTATAG...</td>\n",
       "    </tr>\n",
       "    <tr>\n",
       "      <th>1</th>\n",
       "      <td>training</td>\n",
       "      <td>0</td>\n",
       "      <td>0</td>\n",
       "      <td>0</td>\n",
       "      <td>0</td>\n",
       "      <td>0</td>\n",
       "      <td>0</td>\n",
       "      <td>0</td>\n",
       "      <td>0</td>\n",
       "      <td>0</td>\n",
       "      <td>1</td>\n",
       "      <td>AAAAAATGAGAGTTAGTTCACTCATTCGGCACCACAGGCTTTACAA...</td>\n",
       "    </tr>\n",
       "    <tr>\n",
       "      <th>2</th>\n",
       "      <td>training</td>\n",
       "      <td>0</td>\n",
       "      <td>0</td>\n",
       "      <td>0</td>\n",
       "      <td>0</td>\n",
       "      <td>0</td>\n",
       "      <td>0</td>\n",
       "      <td>0</td>\n",
       "      <td>0</td>\n",
       "      <td>0</td>\n",
       "      <td>1</td>\n",
       "      <td>AAAAAATGGGTGTTAGCTCTATCATTAGGCACCCCCGGCTTTACAC...</td>\n",
       "    </tr>\n",
       "    <tr>\n",
       "      <th>3</th>\n",
       "      <td>training</td>\n",
       "      <td>0</td>\n",
       "      <td>1</td>\n",
       "      <td>0</td>\n",
       "      <td>0</td>\n",
       "      <td>0</td>\n",
       "      <td>0</td>\n",
       "      <td>0</td>\n",
       "      <td>0</td>\n",
       "      <td>0</td>\n",
       "      <td>0</td>\n",
       "      <td>AAAAAATGTCAGTTAGCTGACTCATTAGGCACCCCTGGCTTTACGT...</td>\n",
       "    </tr>\n",
       "    <tr>\n",
       "      <th>4</th>\n",
       "      <td>validation</td>\n",
       "      <td>0</td>\n",
       "      <td>0</td>\n",
       "      <td>0</td>\n",
       "      <td>0</td>\n",
       "      <td>0</td>\n",
       "      <td>0</td>\n",
       "      <td>1</td>\n",
       "      <td>0</td>\n",
       "      <td>0</td>\n",
       "      <td>0</td>\n",
       "      <td>AAAAAATGTGAGAAAGCTCACTCCTTTGGCACCGCAGGCTTTACAC...</td>\n",
       "    </tr>\n",
       "  </tbody>\n",
       "</table>\n",
       "</div>"
      ],
      "text/plain": [
       "          set  ct_0  ct_1  ct_2  ct_3  ct_4  ct_5  ct_6  ct_7  ct_8  ct_9  \\\n",
       "0    training     0     1     0     0     0     0     0     0     0     0   \n",
       "1    training     0     0     0     0     0     0     0     0     0     1   \n",
       "2    training     0     0     0     0     0     0     0     0     0     1   \n",
       "3    training     0     1     0     0     0     0     0     0     0     0   \n",
       "4  validation     0     0     0     0     0     0     1     0     0     0   \n",
       "\n",
       "                                                   x  \n",
       "0  AAAAAAAGTGAGTTAGCCAACTAATTAGGCACCGTACGCTTTATAG...  \n",
       "1  AAAAAATGAGAGTTAGTTCACTCATTCGGCACCACAGGCTTTACAA...  \n",
       "2  AAAAAATGGGTGTTAGCTCTATCATTAGGCACCCCCGGCTTTACAC...  \n",
       "3  AAAAAATGTCAGTTAGCTGACTCATTAGGCACCCCTGGCTTTACGT...  \n",
       "4  AAAAAATGTGAGAAAGCTCACTCCTTTGGCACCGCAGGCTTTACAC...  "
      ]
     },
     "execution_count": 2,
     "metadata": {},
     "output_type": "execute_result"
    }
   ],
   "source": [
    "# Load example data\n",
    "data_df = mavenn.load_example_dataset('sortseq')\n",
    "\n",
    "# Separate test from data_df\n",
    "ix_test = data_df['set']=='test'\n",
    "test_df = data_df[ix_test].reset_index(drop=True)\n",
    "print(f'test N: {len(test_df):,}')\n",
    "\n",
    "# Remove test data from data_df\n",
    "data_df = data_df[~ix_test].reset_index(drop=True)\n",
    "print(f'training + validation N: {len(data_df):,}')\n",
    "data_df.head()"
   ]
  },
  {
   "cell_type": "code",
   "execution_count": 3,
   "metadata": {},
   "outputs": [
    {
     "name": "stdout",
     "output_type": "stream",
     "text": [
      "L=75, Y=10\n"
     ]
    }
   ],
   "source": [
    "# set positional argumnets for gpmap function\n",
    "L = len(data_df['x'][0])\n",
    "alphabet=['A','C','G','T']\n",
    "\n",
    "y_cols = data_df.columns[1:-1]\n",
    "Y = len(y_cols)\n",
    "print(f'L={L}, Y={Y}')\n",
    "\n",
    "# get test set data.\n",
    "x_test = test_df['x'].values"
   ]
  },
  {
   "cell_type": "code",
   "execution_count": 4,
   "metadata": {},
   "outputs": [
    {
     "name": "stderr",
     "output_type": "stream",
     "text": [
      "2022-04-14 13:08:44.223580: I tensorflow/core/platform/cpu_feature_guard.cc:151] This TensorFlow binary is optimized with oneAPI Deep Neural Network Library (oneDNN) to use the following CPU instructions in performance-critical operations:  AVX2 FMA\n",
      "To enable them in other operations, rebuild TensorFlow with the appropriate compiler flags.\n"
     ]
    }
   ],
   "source": [
    "# instantiate gpmap object\n",
    "gpmap = mavenn.gpmap.AdditiveGPMapLayer(L, alphabet)\n"
   ]
  },
  {
   "cell_type": "markdown",
   "metadata": {},
   "source": [
    "### Create measurement process object(s)"
   ]
  },
  {
   "cell_type": "code",
   "execution_count": 5,
   "metadata": {},
   "outputs": [],
   "source": [
    "# I think this shouldn't require any positional arguments.\n",
    "# mp_GE = mavenn.measurement_process_layers.GlobalEpistasisLayer(K=50,\n",
    "#                                                                eta=1e-5,\n",
    "#                                                                monotonic=True)\n",
    "mp_mpa = mavenn.measurement_process_layers.DiscreteAgnosticMP(info_for_layers_dict={'H_y_norm':0},\n",
    "                                                                      Y=10,\n",
    "                                                                      K=50,\n",
    "                                                                      eta=1e-5,)\n"
   ]
  },
  {
   "cell_type": "code",
   "execution_count": 6,
   "metadata": {},
   "outputs": [],
   "source": [
    "model = mavenn.Model2(gpmap=gpmap,\n",
    "                      mp_list=[mp_mpa])"
   ]
  },
  {
   "cell_type": "code",
   "execution_count": 7,
   "metadata": {},
   "outputs": [
    {
     "name": "stdout",
     "output_type": "stream",
     "text": [
      "Model: \"model\"\n",
      "__________________________________________________________________________________________________\n",
      " Layer (type)                   Output Shape         Param #     Connected to                     \n",
      "==================================================================================================\n",
      " Sequence_labels_input (InputLa  [(None, 310)]       0           []                               \n",
      " yer)                                                                                             \n",
      "                                                                                                  \n",
      " Sequence_only (Lambda)         (None, 300)          0           ['Sequence_labels_input[0][0]']  \n",
      "                                                                                                  \n",
      " additive_gp_map_layer (Additiv  (None, 1)           301         ['Sequence_only[0][0]']          \n",
      " eGPMapLayer)                                                                                     \n",
      "                                                                                                  \n",
      " Labels_input_0 (Lambda)        (None, 10)           0           ['Sequence_labels_input[0][0]']  \n",
      "                                                                                                  \n",
      " concatenate (Concatenate)      (None, 11)           0           ['additive_gp_map_layer[0][0]',  \n",
      "                                                                  'Labels_input_0[0][0]']         \n",
      "                                                                                                  \n",
      " discrete_agnostic_mp (Discrete  (None,)             1510        ['concatenate[0][0]']            \n",
      " AgnosticMP)                                                                                      \n",
      "                                                                                                  \n",
      "==================================================================================================\n",
      "Total params: 1,811\n",
      "Trainable params: 1,811\n",
      "Non-trainable params: 0\n",
      "__________________________________________________________________________________________________\n"
     ]
    }
   ],
   "source": [
    "model.model.summary()"
   ]
  },
  {
   "cell_type": "code",
   "execution_count": 8,
   "metadata": {},
   "outputs": [],
   "source": [
    "# #*np.ones(shape=y_list[0].shape[0])\n",
    "\n",
    "# y_cts_df = pd.DataFrame(np.random.rand(y_list[0].shape[0]))\n",
    "# y_cts_df.head()"
   ]
  },
  {
   "cell_type": "code",
   "execution_count": 9,
   "metadata": {},
   "outputs": [],
   "source": [
    "# y_dict = {}\n",
    "\n",
    "# y_list=[data_df[y_cols].values]\n",
    "# #y_dict[output_layer_index] = current_y_norm\n",
    "# y_discrete_df = pd.DataFrame(y_list[0])\n",
    "# y_discrete_df.head()"
   ]
  },
  {
   "cell_type": "code",
   "execution_count": 10,
   "metadata": {},
   "outputs": [],
   "source": [
    "# np.hstack([model.x_ohe,np.hstack([y_cts_df.values,y_discrete_df.values])])"
   ]
  },
  {
   "cell_type": "code",
   "execution_count": 11,
   "metadata": {},
   "outputs": [],
   "source": [
    "\n",
    "#np.hstack([y_cts_df.values])"
   ]
  },
  {
   "cell_type": "code",
   "execution_count": 12,
   "metadata": {},
   "outputs": [
    {
     "name": "stdout",
     "output_type": "stream",
     "text": [
      "N = 40,583 observations set as training data.\n",
      "Using 24.8% for validation.\n",
      "Data shuffled.\n",
      "Time to set data: 1.23 sec.\n"
     ]
    }
   ],
   "source": [
    "# Set training data\n",
    "model.set_data(x=data_df['x'].values,\n",
    "               y_list=[data_df[y_cols].values],\n",
    "               validation_flags=(data_df['set']=='validation'),\n",
    "               shuffle=True)\n"
   ]
  },
  {
   "cell_type": "code",
   "execution_count": 13,
   "metadata": {},
   "outputs": [
    {
     "name": "stdout",
     "output_type": "stream",
     "text": [
      "Epoch 1/1000\n",
      "62/62 [==============================] - 2s 12ms/step - loss: 1169.6366 - I_var: 0.0371 - val_loss: 1108.6173 - val_I_var: 0.1764\n",
      "Epoch 2/1000\n",
      "62/62 [==============================] - 0s 7ms/step - loss: 1039.6621 - I_var: 0.3990 - val_loss: 986.3484 - val_I_var: 0.5296\n",
      "Epoch 3/1000\n",
      "62/62 [==============================] - 0s 7ms/step - loss: 992.1113 - I_var: 0.5222 - val_loss: 1003.9975 - val_I_var: 0.4803\n",
      "Epoch 4/1000\n",
      "62/62 [==============================] - 0s 7ms/step - loss: 987.3055 - I_var: 0.5392 - val_loss: 986.2880 - val_I_var: 0.5263\n",
      "Epoch 5/1000\n",
      "62/62 [==============================] - 0s 8ms/step - loss: 980.1790 - I_var: 0.5625 - val_loss: 973.1298 - val_I_var: 0.5667\n",
      "Epoch 6/1000\n",
      "62/62 [==============================] - 0s 7ms/step - loss: 974.8976 - I_var: 0.5831 - val_loss: 967.7375 - val_I_var: 0.5787\n",
      "Epoch 7/1000\n",
      "62/62 [==============================] - 1s 9ms/step - loss: 969.1288 - I_var: 0.5926 - val_loss: 961.3747 - val_I_var: 0.5990\n",
      "Epoch 8/1000\n",
      "62/62 [==============================] - 0s 8ms/step - loss: 966.3665 - I_var: 0.5977 - val_loss: 959.1074 - val_I_var: 0.6020\n",
      "Epoch 9/1000\n",
      "62/62 [==============================] - 0s 8ms/step - loss: 965.4022 - I_var: 0.6032 - val_loss: 971.2036 - val_I_var: 0.5720\n",
      "Epoch 10/1000\n",
      "62/62 [==============================] - 0s 8ms/step - loss: 961.3818 - I_var: 0.6091 - val_loss: 949.4749 - val_I_var: 0.6312\n",
      "Epoch 11/1000\n",
      "62/62 [==============================] - 0s 6ms/step - loss: 958.1166 - I_var: 0.6242 - val_loss: 953.0305 - val_I_var: 0.6169\n",
      "Epoch 12/1000\n",
      "62/62 [==============================] - 1s 8ms/step - loss: 959.0984 - I_var: 0.6234 - val_loss: 947.7876 - val_I_var: 0.6355\n",
      "Epoch 13/1000\n",
      "62/62 [==============================] - 0s 8ms/step - loss: 955.1817 - I_var: 0.6296 - val_loss: 947.8365 - val_I_var: 0.6346\n",
      "Epoch 14/1000\n",
      "62/62 [==============================] - 0s 7ms/step - loss: 954.6339 - I_var: 0.6329 - val_loss: 944.7247 - val_I_var: 0.6427\n",
      "Epoch 15/1000\n",
      "62/62 [==============================] - 0s 7ms/step - loss: 954.0038 - I_var: 0.6404 - val_loss: 944.8495 - val_I_var: 0.6427\n",
      "Epoch 16/1000\n",
      "62/62 [==============================] - 0s 8ms/step - loss: 953.3442 - I_var: 0.6358 - val_loss: 944.5962 - val_I_var: 0.6439\n",
      "Epoch 17/1000\n",
      "62/62 [==============================] - 0s 7ms/step - loss: 955.3152 - I_var: 0.6246 - val_loss: 946.0885 - val_I_var: 0.6397\n",
      "Epoch 18/1000\n",
      "62/62 [==============================] - 1s 8ms/step - loss: 954.4850 - I_var: 0.6362 - val_loss: 943.1482 - val_I_var: 0.6470\n",
      "Epoch 19/1000\n",
      "62/62 [==============================] - 0s 7ms/step - loss: 954.8363 - I_var: 0.6312 - val_loss: 942.2559 - val_I_var: 0.6500\n",
      "Epoch 20/1000\n",
      "62/62 [==============================] - 0s 8ms/step - loss: 953.0498 - I_var: 0.6401 - val_loss: 945.5816 - val_I_var: 0.6409\n",
      "Epoch 21/1000\n",
      "62/62 [==============================] - 0s 7ms/step - loss: 954.9850 - I_var: 0.6352 - val_loss: 948.3809 - val_I_var: 0.6340\n",
      "Epoch 22/1000\n",
      "62/62 [==============================] - 0s 8ms/step - loss: 955.3961 - I_var: 0.6258 - val_loss: 943.9299 - val_I_var: 0.6439\n",
      "Epoch 23/1000\n",
      "62/62 [==============================] - 1s 10ms/step - loss: 954.3054 - I_var: 0.6314 - val_loss: 944.1476 - val_I_var: 0.6431\n",
      "Epoch 24/1000\n",
      "62/62 [==============================] - 0s 7ms/step - loss: 956.0201 - I_var: 0.6370 - val_loss: 947.3253 - val_I_var: 0.6371\n",
      "Epoch 25/1000\n",
      "62/62 [==============================] - 1s 8ms/step - loss: 952.4061 - I_var: 0.6382 - val_loss: 945.3649 - val_I_var: 0.6411\n",
      "Epoch 26/1000\n",
      "62/62 [==============================] - 0s 7ms/step - loss: 952.5341 - I_var: 0.6366 - val_loss: 942.1871 - val_I_var: 0.6524\n",
      "Epoch 27/1000\n",
      "62/62 [==============================] - 0s 7ms/step - loss: 953.5341 - I_var: 0.6407 - val_loss: 942.7385 - val_I_var: 0.6478\n",
      "Epoch 28/1000\n",
      "62/62 [==============================] - 0s 7ms/step - loss: 954.6868 - I_var: 0.6425 - val_loss: 942.5776 - val_I_var: 0.6496\n",
      "Epoch 29/1000\n",
      "62/62 [==============================] - 0s 7ms/step - loss: 954.1238 - I_var: 0.6353 - val_loss: 949.0554 - val_I_var: 0.6286\n",
      "Epoch 30/1000\n",
      "62/62 [==============================] - 1s 8ms/step - loss: 955.3648 - I_var: 0.6348 - val_loss: 946.4619 - val_I_var: 0.6375\n",
      "Epoch 31/1000\n",
      "62/62 [==============================] - 0s 6ms/step - loss: 952.4425 - I_var: 0.6443 - val_loss: 942.4890 - val_I_var: 0.6513\n",
      "Epoch 32/1000\n",
      "62/62 [==============================] - 0s 7ms/step - loss: 952.6613 - I_var: 0.6426 - val_loss: 941.4255 - val_I_var: 0.6527\n",
      "Epoch 33/1000\n",
      "62/62 [==============================] - 0s 7ms/step - loss: 952.6695 - I_var: 0.6414 - val_loss: 943.8029 - val_I_var: 0.6482\n",
      "Epoch 34/1000\n",
      "62/62 [==============================] - 0s 7ms/step - loss: 952.7800 - I_var: 0.6428 - val_loss: 944.2327 - val_I_var: 0.6478\n",
      "Epoch 35/1000\n",
      "62/62 [==============================] - 0s 7ms/step - loss: 952.1592 - I_var: 0.6372 - val_loss: 946.4229 - val_I_var: 0.6419\n",
      "Epoch 36/1000\n",
      "62/62 [==============================] - 0s 6ms/step - loss: 952.2623 - I_var: 0.6389 - val_loss: 943.2383 - val_I_var: 0.6464\n",
      "Epoch 37/1000\n",
      "62/62 [==============================] - 0s 7ms/step - loss: 951.2032 - I_var: 0.6449 - val_loss: 939.9980 - val_I_var: 0.6589\n",
      "Epoch 38/1000\n",
      "62/62 [==============================] - 0s 8ms/step - loss: 953.4984 - I_var: 0.6384 - val_loss: 947.0004 - val_I_var: 0.6346\n",
      "Epoch 39/1000\n",
      "62/62 [==============================] - 0s 7ms/step - loss: 955.2214 - I_var: 0.6324 - val_loss: 940.8542 - val_I_var: 0.6550\n",
      "Epoch 40/1000\n",
      "62/62 [==============================] - 0s 7ms/step - loss: 952.6862 - I_var: 0.6361 - val_loss: 941.8305 - val_I_var: 0.6515\n",
      "Epoch 41/1000\n",
      "62/62 [==============================] - 0s 7ms/step - loss: 951.1733 - I_var: 0.6488 - val_loss: 942.2894 - val_I_var: 0.6518\n",
      "Epoch 42/1000\n",
      "62/62 [==============================] - 0s 7ms/step - loss: 951.9616 - I_var: 0.6396 - val_loss: 940.4800 - val_I_var: 0.6555\n",
      "Epoch 43/1000\n",
      "62/62 [==============================] - 0s 6ms/step - loss: 952.7868 - I_var: 0.6417 - val_loss: 949.3196 - val_I_var: 0.6330\n",
      "Epoch 44/1000\n",
      "62/62 [==============================] - 1s 9ms/step - loss: 952.1814 - I_var: 0.6491 - val_loss: 941.2745 - val_I_var: 0.6537\n",
      "Epoch 45/1000\n",
      "62/62 [==============================] - 1s 8ms/step - loss: 950.6212 - I_var: 0.6537 - val_loss: 942.9412 - val_I_var: 0.6491\n",
      "Epoch 46/1000\n",
      "62/62 [==============================] - 0s 8ms/step - loss: 951.3940 - I_var: 0.6457 - val_loss: 941.9971 - val_I_var: 0.6521\n",
      "Epoch 47/1000\n",
      "62/62 [==============================] - 0s 7ms/step - loss: 952.2750 - I_var: 0.6459 - val_loss: 944.7828 - val_I_var: 0.6436\n",
      "Training time: 24.0 seconds\n"
     ]
    },
    {
     "data": {
      "text/plain": [
       "<keras.callbacks.History at 0x7fbc0d5f9310>"
      ]
     },
     "execution_count": 13,
     "metadata": {},
     "output_type": "execute_result"
    }
   ],
   "source": [
    "\n",
    "# Fit model to data\n",
    "model.fit(learning_rate=.005,\n",
    "          epochs=1000,\n",
    "          batch_size=500,\n",
    "          try_tqdm = False,\n",
    "          early_stopping=True,\n",
    "          early_stopping_patience=10,\n",
    "          linear_initialization=False)"
   ]
  },
  {
   "cell_type": "code",
   "execution_count": 16,
   "metadata": {},
   "outputs": [
    {
     "name": "stdout",
     "output_type": "stream",
     "text": [
      "On test data:\n"
     ]
    },
    {
     "data": {
      "text/plain": [
       "Text(0.5, 1.0, 'training hisotry')"
      ]
     },
     "execution_count": 16,
     "metadata": {},
     "output_type": "execute_result"
    },
    {
     "data": {
      "image/png": "[encoded data removed]",
      "text/plain": [
       "<Figure size 288x288 with 1 Axes>"
      ]
     },
     "metadata": {
      "needs_background": "light"
     },
     "output_type": "display_data"
    }
   ],
   "source": [
    "# Show training history\n",
    "print('On test data:')\n",
    "x_test = test_df['x'].values\n",
    "y_test = test_df[y_cols].values\n",
    "\n",
    "\n",
    "I_var_hist = model.history['I_var']\n",
    "val_I_var_hist = model.history['val_I_var']\n",
    "\n",
    "fig, ax = plt.subplots(1,1,figsize=[4,4])\n",
    "ax.plot(I_var_hist, label='I_var_train')\n",
    "ax.plot(val_I_var_hist, label='I_var_val')\n",
    "ax.legend()\n",
    "ax.set_xlabel('epochs')\n",
    "ax.set_ylabel('bits')\n",
    "ax.set_title('training hisotry')"
   ]
  },
  {
   "cell_type": "code",
   "execution_count": 17,
   "metadata": {},
   "outputs": [
    {
     "data": {
      "image/png": "[encoded data removed]",
      "text/plain": [
       "<Figure size 864x288 with 2 Axes>"
      ]
     },
     "metadata": {
      "needs_background": "light"
     },
     "output_type": "display_data"
    }
   ],
   "source": [
    "# Get G-P map parameters in matrix form\n",
    "theta = np.squeeze(gpmap.weights[1].numpy())\n",
    "\n",
    "# Create grid in phi space\n",
    "phi_lim = [-5, 3]\n",
    "phi_grid = np.linspace(phi_lim[0], phi_lim[1], 1000)\n",
    "\n",
    "# Create array of allowable y values\n",
    "Y = mp_mpa.Y    # Y = number of bins\n",
    "y_lim = [-.5, Y-.5]\n",
    "y_all = range(Y)\n",
    "\n",
    "# Compute matrix of p(y|phi) values\n",
    "#measurement_process = mp_mpa.p_of_y_given_phi(y_all, phi_grid)\n",
    "\n",
    "# Create figure with two panels\n",
    "fig, axs = plt.subplots(1,2,figsize=[12,4])\n",
    "\n",
    "# Left panel: draw logo using logomaker\n",
    "ax = axs[0]\n",
    "logo = logomaker.Logo(-pd.DataFrame(theta,columns=model.alphabet), ax=ax,center_values=True)\n",
    "ax.set_ylabel(r'parameter value ($\\theta_{l:c}$)')\n",
    "ax.set_xlabel(r'position ($l$)')\n",
    "ax.set_title('G-P map parameters')\n",
    "\n",
    "# Right panel: draw measurement process as heatmap\n",
    "# ax = axs[1]\n",
    "# im = ax.imshow(measurement_process,\n",
    "#                cmap='Greens',\n",
    "#                extent=phi_lim+y_lim,\n",
    "#                vmin=0,\n",
    "#                origin='lower',\n",
    "#                interpolation='nearest',\n",
    "#                aspect=\"auto\")\n",
    "# ax.set_yticks(y_all)\n",
    "# ax.set_ylabel('bin number (y)')\n",
    "# ax.set_xlabel('latent phenotype ($\\phi$)')\n",
    "# ax.set_title('measurement process')\n",
    "# cb = plt.colorbar(im)\n",
    "# cb.set_label('probability  $p(y|\\phi)$', rotation=-90, va=\"bottom\")\n",
    "\n",
    "# Fix up plot\n",
    "fig.tight_layout(w_pad=3)\n",
    "#fig.savefig('sortseq_g-p_map_mpa_visualization.png')\n",
    "plt.show()"
   ]
  },
  {
   "cell_type": "code",
   "execution_count": null,
   "metadata": {
    "collapsed": true
   },
   "outputs": [],
   "source": []
  }
 ],
 "metadata": {
  "kernelspec": {
   "display_name": "Python 3 (ipykernel)",
   "language": "python",
   "name": "python3"
  },
  "language_info": {
   "codemirror_mode": {
    "name": "ipython",
    "version": 3
   },
   "file_extension": ".py",
   "mimetype": "text/x-python",
   "name": "python",
   "nbconvert_exporter": "python",
   "pygments_lexer": "ipython3",
   "version": "3.9.7"
  }
 },
 "nbformat": 4,
 "nbformat_minor": 2
}
