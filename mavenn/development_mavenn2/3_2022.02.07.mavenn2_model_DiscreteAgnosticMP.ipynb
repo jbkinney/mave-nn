{
 "cells": [
  {
   "cell_type": "code",
   "execution_count": 1,
   "metadata": {
    "collapsed": true
   },
   "outputs": [],
   "source": [
    "import numpy as np\n",
    "import pandas as pd\n",
    "import matplotlib.pyplot as plt\n",
    "import sys\n",
    "#sys.path.insert(0, '/Users/ammar.tareen/Desktop/Research_projects/mavenn2/')\n",
    "sys.path.insert(0, '/Users/tareen/Desktop/Research_Projects/2022_mavenn2_github/mavenn')\n",
    "\n",
    "import mavenn\n",
    "import logomaker\n",
    "import seaborn as sns\n",
    "import re\n",
    "\n",
    "%matplotlib inline"
   ]
  },
  {
   "cell_type": "code",
   "execution_count": 2,
   "metadata": {},
   "outputs": [
    {
     "name": "stdout",
     "output_type": "stream",
     "text": [
      "test N: 9,935\n",
      "training + validation N: 40,583\n"
     ]
    },
    {
     "data": {
      "text/html": [
       "<div>\n",
       "<style scoped>\n",
       "    .dataframe tbody tr th:only-of-type {\n",
       "        vertical-align: middle;\n",
       "    }\n",
       "\n",
       "    .dataframe tbody tr th {\n",
       "        vertical-align: top;\n",
       "    }\n",
       "\n",
       "    .dataframe thead th {\n",
       "        text-align: right;\n",
       "    }\n",
       "</style>\n",
       "<table border=\"1\" class=\"dataframe\">\n",
       "  <thead>\n",
       "    <tr style=\"text-align: right;\">\n",
       "      <th></th>\n",
       "      <th>set</th>\n",
       "      <th>ct_0</th>\n",
       "      <th>ct_1</th>\n",
       "      <th>ct_2</th>\n",
       "      <th>ct_3</th>\n",
       "      <th>ct_4</th>\n",
       "      <th>ct_5</th>\n",
       "      <th>ct_6</th>\n",
       "      <th>ct_7</th>\n",
       "      <th>ct_8</th>\n",
       "      <th>ct_9</th>\n",
       "      <th>x</th>\n",
       "    </tr>\n",
       "  </thead>\n",
       "  <tbody>\n",
       "    <tr>\n",
       "      <th>0</th>\n",
       "      <td>training</td>\n",
       "      <td>0</td>\n",
       "      <td>1</td>\n",
       "      <td>0</td>\n",
       "      <td>0</td>\n",
       "      <td>0</td>\n",
       "      <td>0</td>\n",
       "      <td>0</td>\n",
       "      <td>0</td>\n",
       "      <td>0</td>\n",
       "      <td>0</td>\n",
       "      <td>AAAAAAAGTGAGTTAGCCAACTAATTAGGCACCGTACGCTTTATAG...</td>\n",
       "    </tr>\n",
       "    <tr>\n",
       "      <th>1</th>\n",
       "      <td>training</td>\n",
       "      <td>0</td>\n",
       "      <td>0</td>\n",
       "      <td>0</td>\n",
       "      <td>0</td>\n",
       "      <td>0</td>\n",
       "      <td>0</td>\n",
       "      <td>0</td>\n",
       "      <td>0</td>\n",
       "      <td>0</td>\n",
       "      <td>1</td>\n",
       "      <td>AAAAAATGAGAGTTAGTTCACTCATTCGGCACCACAGGCTTTACAA...</td>\n",
       "    </tr>\n",
       "    <tr>\n",
       "      <th>2</th>\n",
       "      <td>training</td>\n",
       "      <td>0</td>\n",
       "      <td>0</td>\n",
       "      <td>0</td>\n",
       "      <td>0</td>\n",
       "      <td>0</td>\n",
       "      <td>0</td>\n",
       "      <td>0</td>\n",
       "      <td>0</td>\n",
       "      <td>0</td>\n",
       "      <td>1</td>\n",
       "      <td>AAAAAATGGGTGTTAGCTCTATCATTAGGCACCCCCGGCTTTACAC...</td>\n",
       "    </tr>\n",
       "    <tr>\n",
       "      <th>3</th>\n",
       "      <td>training</td>\n",
       "      <td>0</td>\n",
       "      <td>1</td>\n",
       "      <td>0</td>\n",
       "      <td>0</td>\n",
       "      <td>0</td>\n",
       "      <td>0</td>\n",
       "      <td>0</td>\n",
       "      <td>0</td>\n",
       "      <td>0</td>\n",
       "      <td>0</td>\n",
       "      <td>AAAAAATGTCAGTTAGCTGACTCATTAGGCACCCCTGGCTTTACGT...</td>\n",
       "    </tr>\n",
       "    <tr>\n",
       "      <th>4</th>\n",
       "      <td>validation</td>\n",
       "      <td>0</td>\n",
       "      <td>0</td>\n",
       "      <td>0</td>\n",
       "      <td>0</td>\n",
       "      <td>0</td>\n",
       "      <td>0</td>\n",
       "      <td>1</td>\n",
       "      <td>0</td>\n",
       "      <td>0</td>\n",
       "      <td>0</td>\n",
       "      <td>AAAAAATGTGAGAAAGCTCACTCCTTTGGCACCGCAGGCTTTACAC...</td>\n",
       "    </tr>\n",
       "  </tbody>\n",
       "</table>\n",
       "</div>"
      ],
      "text/plain": [
       "          set  ct_0  ct_1  ct_2  ct_3  ct_4  ct_5  ct_6  ct_7  ct_8  ct_9  \\\n",
       "0    training     0     1     0     0     0     0     0     0     0     0   \n",
       "1    training     0     0     0     0     0     0     0     0     0     1   \n",
       "2    training     0     0     0     0     0     0     0     0     0     1   \n",
       "3    training     0     1     0     0     0     0     0     0     0     0   \n",
       "4  validation     0     0     0     0     0     0     1     0     0     0   \n",
       "\n",
       "                                                   x  \n",
       "0  AAAAAAAGTGAGTTAGCCAACTAATTAGGCACCGTACGCTTTATAG...  \n",
       "1  AAAAAATGAGAGTTAGTTCACTCATTCGGCACCACAGGCTTTACAA...  \n",
       "2  AAAAAATGGGTGTTAGCTCTATCATTAGGCACCCCCGGCTTTACAC...  \n",
       "3  AAAAAATGTCAGTTAGCTGACTCATTAGGCACCCCTGGCTTTACGT...  \n",
       "4  AAAAAATGTGAGAAAGCTCACTCCTTTGGCACCGCAGGCTTTACAC...  "
      ]
     },
     "execution_count": 2,
     "metadata": {},
     "output_type": "execute_result"
    }
   ],
   "source": [
    "# Load example data\n",
    "data_df = mavenn.load_example_dataset('sortseq')\n",
    "\n",
    "# Separate test from data_df\n",
    "ix_test = data_df['set']=='test'\n",
    "test_df = data_df[ix_test].reset_index(drop=True)\n",
    "print(f'test N: {len(test_df):,}')\n",
    "\n",
    "# Remove test data from data_df\n",
    "data_df = data_df[~ix_test].reset_index(drop=True)\n",
    "print(f'training + validation N: {len(data_df):,}')\n",
    "data_df.head()"
   ]
  },
  {
   "cell_type": "code",
   "execution_count": 3,
   "metadata": {},
   "outputs": [
    {
     "name": "stdout",
     "output_type": "stream",
     "text": [
      "L=75, Y=10\n"
     ]
    }
   ],
   "source": [
    "# set positional argumnets for gpmap function\n",
    "L = len(data_df['x'][0])\n",
    "alphabet=['A','C','G','T']\n",
    "\n",
    "y_cols = data_df.columns[1:-1]\n",
    "Y = len(y_cols)\n",
    "print(f'L={L}, Y={Y}')\n",
    "\n",
    "# get test set data.\n",
    "x_test = test_df['x'].values"
   ]
  },
  {
   "cell_type": "code",
   "execution_count": 4,
   "metadata": {},
   "outputs": [
    {
     "name": "stderr",
     "output_type": "stream",
     "text": [
      "2022-05-11 21:52:17.079833: I tensorflow/core/platform/cpu_feature_guard.cc:151] This TensorFlow binary is optimized with oneAPI Deep Neural Network Library (oneDNN) to use the following CPU instructions in performance-critical operations:  AVX2 FMA\n",
      "To enable them in other operations, rebuild TensorFlow with the appropriate compiler flags.\n"
     ]
    }
   ],
   "source": [
    "# instantiate gpmap object\n",
    "gpmap = mavenn.gpmap.AdditiveGPMapLayer(L, alphabet)\n"
   ]
  },
  {
   "cell_type": "markdown",
   "metadata": {},
   "source": [
    "### Create measurement process object(s)"
   ]
  },
  {
   "cell_type": "code",
   "execution_count": 5,
   "metadata": {
    "collapsed": true
   },
   "outputs": [],
   "source": [
    "# I think this shouldn't require any positional arguments.\n",
    "# mp_GE = mavenn.measurement_process_layers.GlobalEpistasisLayer(K=50,\n",
    "#                                                                eta=1e-5,\n",
    "#                                                                monotonic=True)\n",
    "mp_mpa = mavenn.measurement_process_layers.DiscreteAgnosticMP(info_for_layers_dict={'H_y_norm':0},\n",
    "                                                                      Y=10,\n",
    "                                                                      K=50,\n",
    "                                                                      eta=1e-5,)\n"
   ]
  },
  {
   "cell_type": "code",
   "execution_count": 6,
   "metadata": {},
   "outputs": [],
   "source": [
    "model = mavenn.Model2(gpmap=gpmap,\n",
    "                      mp_list=[mp_mpa])"
   ]
  },
  {
   "cell_type": "code",
   "execution_count": 7,
   "metadata": {},
   "outputs": [
    {
     "name": "stdout",
     "output_type": "stream",
     "text": [
      "Model: \"model\"\n",
      "__________________________________________________________________________________________________\n",
      " Layer (type)                   Output Shape         Param #     Connected to                     \n",
      "==================================================================================================\n",
      " Sequence_labels_input (InputLa  [(None, 310)]       0           []                               \n",
      " yer)                                                                                             \n",
      "                                                                                                  \n",
      " Sequence_only (Lambda)         (None, 300)          0           ['Sequence_labels_input[0][0]']  \n",
      "                                                                                                  \n",
      " additive_gp_map_layer (Additiv  (None, 1)           301         ['Sequence_only[0][0]']          \n",
      " eGPMapLayer)                                                                                     \n",
      "                                                                                                  \n",
      " Labels_input_0 (Lambda)        (None, 10)           0           ['Sequence_labels_input[0][0]']  \n",
      "                                                                                                  \n",
      " concatenate (Concatenate)      (None, 11)           0           ['additive_gp_map_layer[0][0]',  \n",
      "                                                                  'Labels_input_0[0][0]']         \n",
      "                                                                                                  \n",
      " discrete_agnostic_mp (Discrete  (None,)             1510        ['concatenate[0][0]']            \n",
      " AgnosticMP)                                                                                      \n",
      "                                                                                                  \n",
      "==================================================================================================\n",
      "Total params: 1,811\n",
      "Trainable params: 1,811\n",
      "Non-trainable params: 0\n",
      "__________________________________________________________________________________________________\n"
     ]
    }
   ],
   "source": [
    "model.model.summary()"
   ]
  },
  {
   "cell_type": "code",
   "execution_count": 8,
   "metadata": {
    "collapsed": true
   },
   "outputs": [],
   "source": [
    "# #*np.ones(shape=y_list[0].shape[0])\n",
    "\n",
    "# y_cts_df = pd.DataFrame(np.random.rand(y_list[0].shape[0]))\n",
    "# y_cts_df.head()"
   ]
  },
  {
   "cell_type": "code",
   "execution_count": 9,
   "metadata": {
    "collapsed": true
   },
   "outputs": [],
   "source": [
    "# y_dict = {}\n",
    "\n",
    "# y_list=[data_df[y_cols].values]\n",
    "# #y_dict[output_layer_index] = current_y_norm\n",
    "# y_discrete_df = pd.DataFrame(y_list[0])\n",
    "# y_discrete_df.head()"
   ]
  },
  {
   "cell_type": "code",
   "execution_count": 10,
   "metadata": {
    "collapsed": true
   },
   "outputs": [],
   "source": [
    "# np.hstack([model.x_ohe,np.hstack([y_cts_df.values,y_discrete_df.values])])"
   ]
  },
  {
   "cell_type": "code",
   "execution_count": 11,
   "metadata": {
    "collapsed": true
   },
   "outputs": [],
   "source": [
    "\n",
    "#np.hstack([y_cts_df.values])"
   ]
  },
  {
   "cell_type": "code",
   "execution_count": 12,
   "metadata": {},
   "outputs": [
    {
     "name": "stdout",
     "output_type": "stream",
     "text": [
      "N = 40,583 observations set as training data.\n",
      "Using 24.8% for validation.\n",
      "Data shuffled.\n",
      "Time to set data: 0.919 sec.\n"
     ]
    }
   ],
   "source": [
    "# Set training data\n",
    "model.set_data(x=data_df['x'].values,\n",
    "               y_list=[data_df[y_cols].values],\n",
    "               validation_flags=(data_df['set']=='validation'),\n",
    "               shuffle=True)\n"
   ]
  },
  {
   "cell_type": "code",
   "execution_count": 13,
   "metadata": {},
   "outputs": [
    {
     "name": "stdout",
     "output_type": "stream",
     "text": [
      "Epoch 1/1000\n",
      "153/153 [==============================] - 2s 5ms/step - loss: 469.2802 - I_var: 0.0170 - val_loss: 458.5898 - val_I_var: 0.0780\n",
      "Epoch 2/1000\n",
      "153/153 [==============================] - 1s 4ms/step - loss: 443.1174 - I_var: 0.2020 - val_loss: 422.1330 - val_I_var: 0.3346\n",
      "Epoch 3/1000\n",
      "153/153 [==============================] - 0s 3ms/step - loss: 411.9513 - I_var: 0.4200 - val_loss: 400.1930 - val_I_var: 0.4900\n",
      "Epoch 4/1000\n",
      "153/153 [==============================] - 0s 3ms/step - loss: 399.4218 - I_var: 0.5073 - val_loss: 394.5695 - val_I_var: 0.5303\n",
      "Epoch 5/1000\n",
      "153/153 [==============================] - 0s 3ms/step - loss: 396.2907 - I_var: 0.5306 - val_loss: 393.0457 - val_I_var: 0.5409\n",
      "Epoch 6/1000\n",
      "153/153 [==============================] - 0s 3ms/step - loss: 394.9841 - I_var: 0.5395 - val_loss: 391.7931 - val_I_var: 0.5500\n",
      "Epoch 7/1000\n",
      "153/153 [==============================] - 0s 3ms/step - loss: 393.8531 - I_var: 0.5476 - val_loss: 391.4315 - val_I_var: 0.5531\n",
      "Epoch 8/1000\n",
      "153/153 [==============================] - 0s 3ms/step - loss: 393.0019 - I_var: 0.5532 - val_loss: 389.7366 - val_I_var: 0.5646\n",
      "Epoch 9/1000\n",
      "153/153 [==============================] - 0s 3ms/step - loss: 391.7867 - I_var: 0.5613 - val_loss: 390.0077 - val_I_var: 0.5634\n",
      "Epoch 10/1000\n",
      "153/153 [==============================] - 0s 3ms/step - loss: 390.8828 - I_var: 0.5684 - val_loss: 387.9915 - val_I_var: 0.5773\n",
      "Epoch 11/1000\n",
      "153/153 [==============================] - 0s 3ms/step - loss: 389.9947 - I_var: 0.5741 - val_loss: 387.0982 - val_I_var: 0.5840\n",
      "Epoch 12/1000\n",
      "153/153 [==============================] - 0s 3ms/step - loss: 388.9924 - I_var: 0.5814 - val_loss: 387.9954 - val_I_var: 0.5779\n",
      "Epoch 13/1000\n",
      "153/153 [==============================] - 0s 3ms/step - loss: 388.3310 - I_var: 0.5867 - val_loss: 386.9054 - val_I_var: 0.5848\n",
      "Epoch 14/1000\n",
      "153/153 [==============================] - 0s 3ms/step - loss: 387.3904 - I_var: 0.5932 - val_loss: 384.9566 - val_I_var: 0.5988\n",
      "Epoch 15/1000\n",
      "153/153 [==============================] - 0s 3ms/step - loss: 386.6493 - I_var: 0.5987 - val_loss: 384.1478 - val_I_var: 0.6048\n",
      "Epoch 16/1000\n",
      "153/153 [==============================] - 0s 3ms/step - loss: 385.9417 - I_var: 0.6036 - val_loss: 383.3154 - val_I_var: 0.6103\n",
      "Epoch 17/1000\n",
      "153/153 [==============================] - 0s 3ms/step - loss: 385.4577 - I_var: 0.6067 - val_loss: 383.4969 - val_I_var: 0.6094\n",
      "Epoch 18/1000\n",
      "153/153 [==============================] - 0s 3ms/step - loss: 384.3963 - I_var: 0.6136 - val_loss: 382.3432 - val_I_var: 0.6175\n",
      "Epoch 19/1000\n",
      "153/153 [==============================] - 0s 3ms/step - loss: 383.9938 - I_var: 0.6167 - val_loss: 381.5419 - val_I_var: 0.6231\n",
      "Epoch 20/1000\n",
      "153/153 [==============================] - 0s 3ms/step - loss: 383.5940 - I_var: 0.6200 - val_loss: 381.3235 - val_I_var: 0.6247\n",
      "Epoch 21/1000\n",
      "153/153 [==============================] - 0s 3ms/step - loss: 383.4800 - I_var: 0.6202 - val_loss: 382.1721 - val_I_var: 0.6184\n",
      "Epoch 22/1000\n",
      "153/153 [==============================] - 0s 3ms/step - loss: 382.9674 - I_var: 0.6237 - val_loss: 380.7614 - val_I_var: 0.6284\n",
      "Epoch 23/1000\n",
      "153/153 [==============================] - 0s 3ms/step - loss: 382.4733 - I_var: 0.6274 - val_loss: 379.9377 - val_I_var: 0.6344\n",
      "Epoch 24/1000\n",
      "153/153 [==============================] - 0s 3ms/step - loss: 382.1789 - I_var: 0.6296 - val_loss: 379.4898 - val_I_var: 0.6374\n",
      "Epoch 25/1000\n",
      "153/153 [==============================] - 0s 3ms/step - loss: 381.9814 - I_var: 0.6308 - val_loss: 379.2475 - val_I_var: 0.6391\n",
      "Epoch 26/1000\n",
      "153/153 [==============================] - 0s 3ms/step - loss: 381.8994 - I_var: 0.6316 - val_loss: 379.2203 - val_I_var: 0.6392\n",
      "Epoch 27/1000\n",
      "153/153 [==============================] - 0s 3ms/step - loss: 381.7028 - I_var: 0.6334 - val_loss: 379.1700 - val_I_var: 0.6394\n",
      "Epoch 28/1000\n",
      "153/153 [==============================] - 1s 3ms/step - loss: 381.5782 - I_var: 0.6339 - val_loss: 379.0780 - val_I_var: 0.6405\n",
      "Epoch 29/1000\n",
      "153/153 [==============================] - 0s 3ms/step - loss: 381.4997 - I_var: 0.6336 - val_loss: 378.9662 - val_I_var: 0.6408\n",
      "Epoch 30/1000\n",
      "153/153 [==============================] - 0s 3ms/step - loss: 381.1109 - I_var: 0.6379 - val_loss: 378.7324 - val_I_var: 0.6420\n",
      "Epoch 31/1000\n",
      "153/153 [==============================] - 0s 3ms/step - loss: 381.1015 - I_var: 0.6377 - val_loss: 379.4490 - val_I_var: 0.6374\n",
      "Epoch 32/1000\n",
      "153/153 [==============================] - 0s 3ms/step - loss: 380.9036 - I_var: 0.6383 - val_loss: 378.1453 - val_I_var: 0.6468\n",
      "Epoch 33/1000\n",
      "153/153 [==============================] - 0s 3ms/step - loss: 380.7050 - I_var: 0.6405 - val_loss: 378.2052 - val_I_var: 0.6463\n",
      "Epoch 34/1000\n",
      "153/153 [==============================] - 0s 3ms/step - loss: 380.9898 - I_var: 0.6382 - val_loss: 378.5080 - val_I_var: 0.6439\n",
      "Epoch 35/1000\n",
      "153/153 [==============================] - 1s 3ms/step - loss: 380.6584 - I_var: 0.6411 - val_loss: 377.9885 - val_I_var: 0.6476\n",
      "Epoch 36/1000\n",
      "153/153 [==============================] - 0s 3ms/step - loss: 380.5812 - I_var: 0.6404 - val_loss: 377.9215 - val_I_var: 0.6487\n",
      "Epoch 37/1000\n",
      "153/153 [==============================] - 0s 3ms/step - loss: 380.5880 - I_var: 0.6408 - val_loss: 377.8937 - val_I_var: 0.6485\n",
      "Epoch 38/1000\n",
      "153/153 [==============================] - 0s 3ms/step - loss: 380.5612 - I_var: 0.6411 - val_loss: 378.1971 - val_I_var: 0.6460\n",
      "Epoch 39/1000\n",
      "153/153 [==============================] - 0s 3ms/step - loss: 380.3534 - I_var: 0.6432 - val_loss: 377.7662 - val_I_var: 0.6492\n",
      "Epoch 40/1000\n",
      "153/153 [==============================] - 0s 3ms/step - loss: 380.0883 - I_var: 0.6441 - val_loss: 377.7266 - val_I_var: 0.6493\n",
      "Epoch 41/1000\n",
      "153/153 [==============================] - 0s 3ms/step - loss: 380.5576 - I_var: 0.6416 - val_loss: 377.7282 - val_I_var: 0.6496\n",
      "Epoch 42/1000\n",
      "153/153 [==============================] - 0s 3ms/step - loss: 380.0361 - I_var: 0.6449 - val_loss: 378.5283 - val_I_var: 0.6436\n",
      "Epoch 43/1000\n",
      "153/153 [==============================] - 0s 3ms/step - loss: 380.0952 - I_var: 0.6443 - val_loss: 377.6599 - val_I_var: 0.6500\n",
      "Epoch 44/1000\n",
      "153/153 [==============================] - 0s 3ms/step - loss: 380.1122 - I_var: 0.6441 - val_loss: 378.3686 - val_I_var: 0.6449\n",
      "Epoch 45/1000\n",
      "153/153 [==============================] - 0s 3ms/step - loss: 380.1978 - I_var: 0.6445 - val_loss: 377.3472 - val_I_var: 0.6523\n",
      "Epoch 46/1000\n",
      "153/153 [==============================] - 0s 3ms/step - loss: 380.0223 - I_var: 0.6455 - val_loss: 377.9431 - val_I_var: 0.6478\n",
      "Epoch 47/1000\n",
      "153/153 [==============================] - 0s 3ms/step - loss: 379.9010 - I_var: 0.6454 - val_loss: 377.8067 - val_I_var: 0.6490\n",
      "Epoch 48/1000\n",
      "153/153 [==============================] - 0s 3ms/step - loss: 379.8416 - I_var: 0.6462 - val_loss: 377.2188 - val_I_var: 0.6529\n",
      "Epoch 49/1000\n",
      "153/153 [==============================] - 0s 3ms/step - loss: 379.6696 - I_var: 0.6476 - val_loss: 377.0081 - val_I_var: 0.6547\n",
      "Epoch 50/1000\n",
      "153/153 [==============================] - 0s 3ms/step - loss: 379.9337 - I_var: 0.6454 - val_loss: 377.3251 - val_I_var: 0.6524\n",
      "Epoch 51/1000\n",
      "153/153 [==============================] - 0s 3ms/step - loss: 379.6877 - I_var: 0.6474 - val_loss: 377.4376 - val_I_var: 0.6516\n",
      "Epoch 52/1000\n",
      "153/153 [==============================] - 0s 3ms/step - loss: 379.7503 - I_var: 0.6475 - val_loss: 377.0403 - val_I_var: 0.6542\n",
      "Epoch 53/1000\n",
      "153/153 [==============================] - 0s 3ms/step - loss: 379.7302 - I_var: 0.6470 - val_loss: 377.0320 - val_I_var: 0.6543\n",
      "Epoch 54/1000\n",
      "153/153 [==============================] - 0s 3ms/step - loss: 379.8429 - I_var: 0.6461 - val_loss: 378.8194 - val_I_var: 0.6416\n",
      "Epoch 55/1000\n",
      "153/153 [==============================] - 0s 3ms/step - loss: 379.7869 - I_var: 0.6469 - val_loss: 376.9226 - val_I_var: 0.6552\n",
      "Epoch 56/1000\n",
      "153/153 [==============================] - 0s 3ms/step - loss: 379.6390 - I_var: 0.6471 - val_loss: 377.0564 - val_I_var: 0.6545\n",
      "Epoch 57/1000\n",
      "153/153 [==============================] - 0s 3ms/step - loss: 379.5118 - I_var: 0.6486 - val_loss: 377.1389 - val_I_var: 0.6536\n",
      "Epoch 58/1000\n"
     ]
    },
    {
     "name": "stdout",
     "output_type": "stream",
     "text": [
      "153/153 [==============================] - 1s 4ms/step - loss: 379.8394 - I_var: 0.6452 - val_loss: 377.2536 - val_I_var: 0.6530\n",
      "Epoch 59/1000\n",
      "153/153 [==============================] - 1s 4ms/step - loss: 379.7402 - I_var: 0.6467 - val_loss: 379.2665 - val_I_var: 0.6386\n",
      "Epoch 60/1000\n",
      "153/153 [==============================] - 1s 4ms/step - loss: 379.7892 - I_var: 0.6468 - val_loss: 377.0374 - val_I_var: 0.6546\n",
      "Epoch 61/1000\n",
      "153/153 [==============================] - 0s 3ms/step - loss: 379.5475 - I_var: 0.6481 - val_loss: 377.2728 - val_I_var: 0.6526\n",
      "Epoch 62/1000\n",
      "153/153 [==============================] - 0s 3ms/step - loss: 379.5953 - I_var: 0.6476 - val_loss: 378.2881 - val_I_var: 0.6451\n",
      "Epoch 63/1000\n",
      "153/153 [==============================] - 1s 4ms/step - loss: 379.7621 - I_var: 0.6478 - val_loss: 377.0841 - val_I_var: 0.6540\n",
      "Epoch 64/1000\n",
      "153/153 [==============================] - 2s 10ms/step - loss: 379.5238 - I_var: 0.6490 - val_loss: 378.8287 - val_I_var: 0.6418\n",
      "Epoch 65/1000\n",
      "153/153 [==============================] - 1s 6ms/step - loss: 379.5133 - I_var: 0.6483 - val_loss: 376.7916 - val_I_var: 0.6561\n",
      "Epoch 66/1000\n",
      "153/153 [==============================] - 1s 6ms/step - loss: 379.4473 - I_var: 0.6496 - val_loss: 377.5862 - val_I_var: 0.6504\n",
      "Epoch 67/1000\n",
      "153/153 [==============================] - 1s 6ms/step - loss: 379.5977 - I_var: 0.6482 - val_loss: 377.0537 - val_I_var: 0.6542\n",
      "Epoch 68/1000\n",
      "153/153 [==============================] - 1s 6ms/step - loss: 379.8270 - I_var: 0.6458 - val_loss: 376.6505 - val_I_var: 0.6571\n",
      "Epoch 69/1000\n",
      "153/153 [==============================] - 1s 5ms/step - loss: 379.7169 - I_var: 0.6469 - val_loss: 376.6585 - val_I_var: 0.6570\n",
      "Epoch 70/1000\n",
      "153/153 [==============================] - 1s 5ms/step - loss: 379.4921 - I_var: 0.6487 - val_loss: 377.3429 - val_I_var: 0.6521\n",
      "Epoch 71/1000\n",
      "153/153 [==============================] - 1s 4ms/step - loss: 379.4568 - I_var: 0.6489 - val_loss: 376.5581 - val_I_var: 0.6577\n",
      "Epoch 72/1000\n",
      "153/153 [==============================] - 1s 4ms/step - loss: 379.5085 - I_var: 0.6488 - val_loss: 377.2717 - val_I_var: 0.6524\n",
      "Epoch 73/1000\n",
      "153/153 [==============================] - 1s 3ms/step - loss: 379.3880 - I_var: 0.6493 - val_loss: 377.0134 - val_I_var: 0.6547\n",
      "Epoch 74/1000\n",
      "153/153 [==============================] - 0s 3ms/step - loss: 379.5049 - I_var: 0.6483 - val_loss: 376.5216 - val_I_var: 0.6579\n",
      "Epoch 75/1000\n",
      "153/153 [==============================] - 0s 3ms/step - loss: 379.5290 - I_var: 0.6482 - val_loss: 376.6512 - val_I_var: 0.6571\n",
      "Epoch 76/1000\n",
      "153/153 [==============================] - 1s 5ms/step - loss: 379.5032 - I_var: 0.6483 - val_loss: 376.9153 - val_I_var: 0.6549\n",
      "Epoch 77/1000\n",
      "153/153 [==============================] - 1s 3ms/step - loss: 379.4725 - I_var: 0.6491 - val_loss: 378.0881 - val_I_var: 0.6472\n",
      "Epoch 78/1000\n",
      "153/153 [==============================] - 0s 3ms/step - loss: 379.9005 - I_var: 0.6463 - val_loss: 378.8808 - val_I_var: 0.6412\n",
      "Epoch 79/1000\n",
      "153/153 [==============================] - 0s 3ms/step - loss: 379.3907 - I_var: 0.6496 - val_loss: 377.3353 - val_I_var: 0.6522\n",
      "Epoch 80/1000\n",
      "153/153 [==============================] - 0s 3ms/step - loss: 379.3975 - I_var: 0.6488 - val_loss: 377.7129 - val_I_var: 0.6498\n",
      "Epoch 81/1000\n",
      "153/153 [==============================] - 0s 3ms/step - loss: 379.4459 - I_var: 0.6495 - val_loss: 379.4317 - val_I_var: 0.6374\n",
      "Epoch 82/1000\n",
      "153/153 [==============================] - 0s 3ms/step - loss: 379.7186 - I_var: 0.6476 - val_loss: 378.3064 - val_I_var: 0.6454\n",
      "Epoch 83/1000\n",
      "153/153 [==============================] - 1s 4ms/step - loss: 379.4525 - I_var: 0.6500 - val_loss: 376.6195 - val_I_var: 0.6574\n",
      "Epoch 84/1000\n",
      "153/153 [==============================] - 0s 3ms/step - loss: 379.3957 - I_var: 0.6497 - val_loss: 376.6758 - val_I_var: 0.6570\n",
      "Training time: 44.7 seconds\n"
     ]
    },
    {
     "data": {
      "text/plain": [
       "<keras.callbacks.History at 0x7fd0a8dcd0d0>"
      ]
     },
     "execution_count": 13,
     "metadata": {},
     "output_type": "execute_result"
    }
   ],
   "source": [
    "\n",
    "# Fit model to data\n",
    "model.fit(learning_rate=.001,\n",
    "          epochs=1000,\n",
    "          batch_size=200,\n",
    "          try_tqdm = False,\n",
    "          early_stopping=True,\n",
    "          early_stopping_patience=10,\n",
    "          linear_initialization=False)"
   ]
  },
  {
   "cell_type": "code",
   "execution_count": 14,
   "metadata": {},
   "outputs": [
    {
     "name": "stdout",
     "output_type": "stream",
     "text": [
      "On test data:\n"
     ]
    },
    {
     "data": {
      "text/plain": [
       "Text(0.5, 1.0, 'training hisotry')"
      ]
     },
     "execution_count": 14,
     "metadata": {},
     "output_type": "execute_result"
    },
    {
     "data": {
      "image/png": "[encoded data removed]",
      "text/plain": [
       "<Figure size 288x288 with 1 Axes>"
      ]
     },
     "metadata": {
      "needs_background": "light"
     },
     "output_type": "display_data"
    }
   ],
   "source": [
    "# Show training history\n",
    "print('On test data:')\n",
    "x_test = test_df['x'].values\n",
    "y_test = test_df[y_cols].values\n",
    "\n",
    "\n",
    "I_var_hist = model.history['I_var']\n",
    "val_I_var_hist = model.history['val_I_var']\n",
    "\n",
    "fig, ax = plt.subplots(1,1,figsize=[4,4])\n",
    "ax.plot(I_var_hist, label='I_var_train')\n",
    "ax.plot(val_I_var_hist, label='I_var_val')\n",
    "ax.legend()\n",
    "ax.set_xlabel('epochs')\n",
    "ax.set_ylabel('bits')\n",
    "ax.set_title('training hisotry')"
   ]
  },
  {
   "cell_type": "code",
   "execution_count": 15,
   "metadata": {},
   "outputs": [
    {
     "data": {
      "image/png": "[encoded data removed]",
      "text/plain": [
       "<Figure size 720x288 with 1 Axes>"
      ]
     },
     "metadata": {
      "needs_background": "light"
     },
     "output_type": "display_data"
    }
   ],
   "source": [
    "# Get G-P map parameters in matrix form\n",
    "theta = np.squeeze(gpmap.weights[1].numpy())\n",
    "\n",
    "# Create grid in phi space\n",
    "phi_lim = [-5, 3]\n",
    "phi_grid = np.linspace(phi_lim[0], phi_lim[1], 1000)\n",
    "\n",
    "# Create array of allowable y values\n",
    "Y = mp_mpa.Y    # Y = number of bins\n",
    "y_lim = [-.5, Y-.5]\n",
    "y_all = range(Y)\n",
    "\n",
    "# Compute matrix of p(y|phi) values\n",
    "#measurement_process = mp_mpa.p_of_y_given_phi(y_all, phi_grid)\n",
    "\n",
    "# Create figure with two panels\n",
    "fig, axs = plt.subplots(1,1,figsize=[10,4])\n",
    "\n",
    "# Left panel: draw logo using logomaker\n",
    "ax = axs\n",
    "logo = logomaker.Logo(pd.DataFrame(theta,columns=model.alphabet), ax=ax,center_values=True)\n",
    "ax.set_ylabel(r'parameter value ($\\theta_{l:c}$)')\n",
    "ax.set_xlabel(r'position ($l$)')\n",
    "ax.set_title('G-P map parameters')\n",
    "\n",
    "# Right panel: draw measurement process as heatmap\n",
    "# ax = axs[1]\n",
    "# im = ax.imshow(measurement_process,\n",
    "#                cmap='Greens',\n",
    "#                extent=phi_lim+y_lim,\n",
    "#                vmin=0,\n",
    "#                origin='lower',\n",
    "#                interpolation='nearest',\n",
    "#                aspect=\"auto\")\n",
    "# ax.set_yticks(y_all)\n",
    "# ax.set_ylabel('bin number (y)')\n",
    "# ax.set_xlabel('latent phenotype ($\\phi$)')\n",
    "# ax.set_title('measurement process')\n",
    "# cb = plt.colorbar(im)\n",
    "# cb.set_label('probability  $p(y|\\phi)$', rotation=-90, va=\"bottom\")\n",
    "\n",
    "# Fix up plot\n",
    "fig.tight_layout(w_pad=3)\n",
    "#fig.savefig('sortseq_g-p_map_mpa_visualization.png')\n",
    "plt.show()"
   ]
  },
  {
   "cell_type": "code",
   "execution_count": 16,
   "metadata": {},
   "outputs": [
    {
     "name": "stdout",
     "output_type": "stream",
     "text": [
      "all_y = [0 1 2 3 4 5 6 7 8 9]\n",
      "y_ix shape = (10000, 10)\n",
      "phi shape = (10000,)\n",
      "p_of_all_y_given_phi shape = (10000, 10)\n"
     ]
    },
    {
     "data": {
      "image/png": "[encoded data removed]",
      "text/plain": [
       "<Figure size 432x432 with 2 Axes>"
      ]
     },
     "metadata": {
      "needs_background": "light"
     },
     "output_type": "display_data"
    }
   ],
   "source": [
    "# Create grid in phi space\n",
    "phi_lim = [-5, 3]\n",
    "phi_grid = np.linspace(phi_lim[0], phi_lim[1], 1000)\n",
    "\n",
    "# Create array of allowable y values\n",
    "Y = mp_mpa.Y    # Y = number of bins\n",
    "y_lim = [-.5, Y-.5]\n",
    "y_all = range(Y)\n",
    "\n",
    "# Compute matrix of p(y|phi) values\n",
    "measurement_process = mp_mpa.p_of_y_given_phi(y_all, phi_grid)\n",
    "\n",
    "\n",
    "# Create figure with two panels\n",
    "fig, ax = plt.subplots(1,1,figsize=[6,6])\n",
    "\n",
    "# Right panel: draw measurement process as heatmap\n",
    "im = ax.imshow(measurement_process,\n",
    "               cmap='Greens',\n",
    "               extent=phi_lim+y_lim,\n",
    "               vmin=0,\n",
    "               origin='lower',\n",
    "               interpolation='nearest',\n",
    "               aspect=\"auto\")\n",
    "ax.set_yticks(y_all)\n",
    "ax.set_ylabel('bin number (y)')\n",
    "ax.set_xlabel('latent phenotype ($\\phi$)')\n",
    "ax.set_title('measurement process')\n",
    "cb = plt.colorbar(im)\n",
    "cb.set_label('probability  $p(y|\\phi)$', rotation=-90, va=\"bottom\")\n"
   ]
  },
  {
   "cell_type": "code",
   "execution_count": null,
   "metadata": {
    "collapsed": true
   },
   "outputs": [],
   "source": []
  }
 ],
 "metadata": {
  "kernelspec": {
   "display_name": "Python 3 (ipykernel)",
   "language": "python",
   "name": "python3"
  },
  "language_info": {
   "codemirror_mode": {
    "name": "ipython",
    "version": 3
   },
   "file_extension": ".py",
   "mimetype": "text/x-python",
   "name": "python",
   "nbconvert_exporter": "python",
   "pygments_lexer": "ipython3",
   "version": "3.9.7"
  }
 },
 "nbformat": 4,
 "nbformat_minor": 2
}
