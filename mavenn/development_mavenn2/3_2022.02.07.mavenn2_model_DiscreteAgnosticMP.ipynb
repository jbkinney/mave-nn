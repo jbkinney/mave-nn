{
 "cells": [
  {
   "cell_type": "code",
   "execution_count": 1,
   "metadata": {},
   "outputs": [],
   "source": [
    "import numpy as np\n",
    "import pandas as pd\n",
    "import matplotlib.pyplot as plt\n",
    "import sys\n",
    "sys.path.insert(0, '/Users/ammar.tareen/Desktop/Research_projects/mavenn2/')\n",
    "\n",
    "import mavenn\n",
    "import logomaker\n",
    "import seaborn as sns\n",
    "import re\n",
    "\n",
    "%matplotlib inline"
   ]
  },
  {
   "cell_type": "code",
   "execution_count": 2,
   "metadata": {},
   "outputs": [
    {
     "name": "stdout",
     "output_type": "stream",
     "text": [
      "test N: 9,935\n",
      "training + validation N: 40,583\n"
     ]
    },
    {
     "data": {
      "text/html": [
       "<div>\n",
       "<style scoped>\n",
       "    .dataframe tbody tr th:only-of-type {\n",
       "        vertical-align: middle;\n",
       "    }\n",
       "\n",
       "    .dataframe tbody tr th {\n",
       "        vertical-align: top;\n",
       "    }\n",
       "\n",
       "    .dataframe thead th {\n",
       "        text-align: right;\n",
       "    }\n",
       "</style>\n",
       "<table border=\"1\" class=\"dataframe\">\n",
       "  <thead>\n",
       "    <tr style=\"text-align: right;\">\n",
       "      <th></th>\n",
       "      <th>set</th>\n",
       "      <th>ct_0</th>\n",
       "      <th>ct_1</th>\n",
       "      <th>ct_2</th>\n",
       "      <th>ct_3</th>\n",
       "      <th>ct_4</th>\n",
       "      <th>ct_5</th>\n",
       "      <th>ct_6</th>\n",
       "      <th>ct_7</th>\n",
       "      <th>ct_8</th>\n",
       "      <th>ct_9</th>\n",
       "      <th>x</th>\n",
       "    </tr>\n",
       "  </thead>\n",
       "  <tbody>\n",
       "    <tr>\n",
       "      <th>0</th>\n",
       "      <td>training</td>\n",
       "      <td>0</td>\n",
       "      <td>1</td>\n",
       "      <td>0</td>\n",
       "      <td>0</td>\n",
       "      <td>0</td>\n",
       "      <td>0</td>\n",
       "      <td>0</td>\n",
       "      <td>0</td>\n",
       "      <td>0</td>\n",
       "      <td>0</td>\n",
       "      <td>AAAAAAAGTGAGTTAGCCAACTAATTAGGCACCGTACGCTTTATAG...</td>\n",
       "    </tr>\n",
       "    <tr>\n",
       "      <th>1</th>\n",
       "      <td>training</td>\n",
       "      <td>0</td>\n",
       "      <td>0</td>\n",
       "      <td>0</td>\n",
       "      <td>0</td>\n",
       "      <td>0</td>\n",
       "      <td>0</td>\n",
       "      <td>0</td>\n",
       "      <td>0</td>\n",
       "      <td>0</td>\n",
       "      <td>1</td>\n",
       "      <td>AAAAAATGAGAGTTAGTTCACTCATTCGGCACCACAGGCTTTACAA...</td>\n",
       "    </tr>\n",
       "    <tr>\n",
       "      <th>2</th>\n",
       "      <td>training</td>\n",
       "      <td>0</td>\n",
       "      <td>0</td>\n",
       "      <td>0</td>\n",
       "      <td>0</td>\n",
       "      <td>0</td>\n",
       "      <td>0</td>\n",
       "      <td>0</td>\n",
       "      <td>0</td>\n",
       "      <td>0</td>\n",
       "      <td>1</td>\n",
       "      <td>AAAAAATGGGTGTTAGCTCTATCATTAGGCACCCCCGGCTTTACAC...</td>\n",
       "    </tr>\n",
       "    <tr>\n",
       "      <th>3</th>\n",
       "      <td>training</td>\n",
       "      <td>0</td>\n",
       "      <td>1</td>\n",
       "      <td>0</td>\n",
       "      <td>0</td>\n",
       "      <td>0</td>\n",
       "      <td>0</td>\n",
       "      <td>0</td>\n",
       "      <td>0</td>\n",
       "      <td>0</td>\n",
       "      <td>0</td>\n",
       "      <td>AAAAAATGTCAGTTAGCTGACTCATTAGGCACCCCTGGCTTTACGT...</td>\n",
       "    </tr>\n",
       "    <tr>\n",
       "      <th>4</th>\n",
       "      <td>validation</td>\n",
       "      <td>0</td>\n",
       "      <td>0</td>\n",
       "      <td>0</td>\n",
       "      <td>0</td>\n",
       "      <td>0</td>\n",
       "      <td>0</td>\n",
       "      <td>1</td>\n",
       "      <td>0</td>\n",
       "      <td>0</td>\n",
       "      <td>0</td>\n",
       "      <td>AAAAAATGTGAGAAAGCTCACTCCTTTGGCACCGCAGGCTTTACAC...</td>\n",
       "    </tr>\n",
       "  </tbody>\n",
       "</table>\n",
       "</div>"
      ],
      "text/plain": [
       "          set  ct_0  ct_1  ct_2  ct_3  ct_4  ct_5  ct_6  ct_7  ct_8  ct_9  \\\n",
       "0    training     0     1     0     0     0     0     0     0     0     0   \n",
       "1    training     0     0     0     0     0     0     0     0     0     1   \n",
       "2    training     0     0     0     0     0     0     0     0     0     1   \n",
       "3    training     0     1     0     0     0     0     0     0     0     0   \n",
       "4  validation     0     0     0     0     0     0     1     0     0     0   \n",
       "\n",
       "                                                   x  \n",
       "0  AAAAAAAGTGAGTTAGCCAACTAATTAGGCACCGTACGCTTTATAG...  \n",
       "1  AAAAAATGAGAGTTAGTTCACTCATTCGGCACCACAGGCTTTACAA...  \n",
       "2  AAAAAATGGGTGTTAGCTCTATCATTAGGCACCCCCGGCTTTACAC...  \n",
       "3  AAAAAATGTCAGTTAGCTGACTCATTAGGCACCCCTGGCTTTACGT...  \n",
       "4  AAAAAATGTGAGAAAGCTCACTCCTTTGGCACCGCAGGCTTTACAC...  "
      ]
     },
     "execution_count": 2,
     "metadata": {},
     "output_type": "execute_result"
    }
   ],
   "source": [
    "# Load example data\n",
    "data_df = mavenn.load_example_dataset('sortseq')\n",
    "\n",
    "# Separate test from data_df\n",
    "ix_test = data_df['set']=='test'\n",
    "test_df = data_df[ix_test].reset_index(drop=True)\n",
    "print(f'test N: {len(test_df):,}')\n",
    "\n",
    "# Remove test data from data_df\n",
    "data_df = data_df[~ix_test].reset_index(drop=True)\n",
    "print(f'training + validation N: {len(data_df):,}')\n",
    "data_df.head()"
   ]
  },
  {
   "cell_type": "code",
   "execution_count": 3,
   "metadata": {},
   "outputs": [
    {
     "name": "stdout",
     "output_type": "stream",
     "text": [
      "L=75, Y=10\n"
     ]
    }
   ],
   "source": [
    "# set positional argumnets for gpmap function\n",
    "L = len(data_df['x'][0])\n",
    "alphabet=['A','C','G','T']\n",
    "\n",
    "y_cols = data_df.columns[1:-1]\n",
    "Y = len(y_cols)\n",
    "print(f'L={L}, Y={Y}')\n",
    "\n",
    "# get test set data.\n",
    "x_test = test_df['x'].values"
   ]
  },
  {
   "cell_type": "code",
   "execution_count": 4,
   "metadata": {},
   "outputs": [
    {
     "name": "stderr",
     "output_type": "stream",
     "text": [
      "2022-05-10 13:06:18.584885: I tensorflow/core/platform/cpu_feature_guard.cc:151] This TensorFlow binary is optimized with oneAPI Deep Neural Network Library (oneDNN) to use the following CPU instructions in performance-critical operations:  AVX2 FMA\n",
      "To enable them in other operations, rebuild TensorFlow with the appropriate compiler flags.\n"
     ]
    }
   ],
   "source": [
    "# instantiate gpmap object\n",
    "gpmap = mavenn.gpmap.AdditiveGPMapLayer(L, alphabet)\n"
   ]
  },
  {
   "cell_type": "markdown",
   "metadata": {},
   "source": [
    "### Create measurement process object(s)"
   ]
  },
  {
   "cell_type": "code",
   "execution_count": 5,
   "metadata": {},
   "outputs": [],
   "source": [
    "# I think this shouldn't require any positional arguments.\n",
    "# mp_GE = mavenn.measurement_process_layers.GlobalEpistasisLayer(K=50,\n",
    "#                                                                eta=1e-5,\n",
    "#                                                                monotonic=True)\n",
    "mp_mpa = mavenn.measurement_process_layers.DiscreteAgnosticMP(info_for_layers_dict={'H_y_norm':0},\n",
    "                                                                      Y=10,\n",
    "                                                                      K=50,\n",
    "                                                                      eta=1e-5,)\n"
   ]
  },
  {
   "cell_type": "code",
   "execution_count": 6,
   "metadata": {},
   "outputs": [],
   "source": [
    "model = mavenn.Model2(gpmap=gpmap,\n",
    "                      mp_list=[mp_mpa])"
   ]
  },
  {
   "cell_type": "code",
   "execution_count": 7,
   "metadata": {},
   "outputs": [
    {
     "name": "stdout",
     "output_type": "stream",
     "text": [
      "Model: \"model\"\n",
      "__________________________________________________________________________________________________\n",
      " Layer (type)                   Output Shape         Param #     Connected to                     \n",
      "==================================================================================================\n",
      " Sequence_labels_input (InputLa  [(None, 310)]       0           []                               \n",
      " yer)                                                                                             \n",
      "                                                                                                  \n",
      " Sequence_only (Lambda)         (None, 300)          0           ['Sequence_labels_input[0][0]']  \n",
      "                                                                                                  \n",
      " additive_gp_map_layer (Additiv  (None, 1)           301         ['Sequence_only[0][0]']          \n",
      " eGPMapLayer)                                                                                     \n",
      "                                                                                                  \n",
      " Labels_input_0 (Lambda)        (None, 10)           0           ['Sequence_labels_input[0][0]']  \n",
      "                                                                                                  \n",
      " concatenate (Concatenate)      (None, 11)           0           ['additive_gp_map_layer[0][0]',  \n",
      "                                                                  'Labels_input_0[0][0]']         \n",
      "                                                                                                  \n",
      " discrete_agnostic_mp (Discrete  (None,)             1510        ['concatenate[0][0]']            \n",
      " AgnosticMP)                                                                                      \n",
      "                                                                                                  \n",
      "==================================================================================================\n",
      "Total params: 1,811\n",
      "Trainable params: 1,811\n",
      "Non-trainable params: 0\n",
      "__________________________________________________________________________________________________\n"
     ]
    }
   ],
   "source": [
    "model.model.summary()"
   ]
  },
  {
   "cell_type": "code",
   "execution_count": 8,
   "metadata": {},
   "outputs": [],
   "source": [
    "# #*np.ones(shape=y_list[0].shape[0])\n",
    "\n",
    "# y_cts_df = pd.DataFrame(np.random.rand(y_list[0].shape[0]))\n",
    "# y_cts_df.head()"
   ]
  },
  {
   "cell_type": "code",
   "execution_count": 9,
   "metadata": {},
   "outputs": [],
   "source": [
    "# y_dict = {}\n",
    "\n",
    "# y_list=[data_df[y_cols].values]\n",
    "# #y_dict[output_layer_index] = current_y_norm\n",
    "# y_discrete_df = pd.DataFrame(y_list[0])\n",
    "# y_discrete_df.head()"
   ]
  },
  {
   "cell_type": "code",
   "execution_count": 10,
   "metadata": {},
   "outputs": [],
   "source": [
    "# np.hstack([model.x_ohe,np.hstack([y_cts_df.values,y_discrete_df.values])])"
   ]
  },
  {
   "cell_type": "code",
   "execution_count": 11,
   "metadata": {},
   "outputs": [],
   "source": [
    "\n",
    "#np.hstack([y_cts_df.values])"
   ]
  },
  {
   "cell_type": "code",
   "execution_count": 12,
   "metadata": {},
   "outputs": [
    {
     "name": "stdout",
     "output_type": "stream",
     "text": [
      "N = 40,583 observations set as training data.\n",
      "Using 24.8% for validation.\n",
      "Data shuffled.\n",
      "Time to set data: 0.809 sec.\n"
     ]
    }
   ],
   "source": [
    "# Set training data\n",
    "model.set_data(x=data_df['x'].values,\n",
    "               y_list=[data_df[y_cols].values],\n",
    "               validation_flags=(data_df['set']=='validation'),\n",
    "               shuffle=True)\n"
   ]
  },
  {
   "cell_type": "code",
   "execution_count": 13,
   "metadata": {},
   "outputs": [
    {
     "name": "stdout",
     "output_type": "stream",
     "text": [
      "Epoch 1/1000\n",
      "153/153 [==============================] - 1s 4ms/step - loss: 467.8255 - I_var: 0.0271 - val_loss: 454.7781 - val_I_var: 0.1050\n",
      "Epoch 2/1000\n",
      "153/153 [==============================] - 0s 2ms/step - loss: 439.3519 - I_var: 0.2279 - val_loss: 417.8612 - val_I_var: 0.3690\n",
      "Epoch 3/1000\n",
      "153/153 [==============================] - 0s 2ms/step - loss: 409.9061 - I_var: 0.4346 - val_loss: 398.2943 - val_I_var: 0.5075\n",
      "Epoch 4/1000\n",
      "153/153 [==============================] - 0s 2ms/step - loss: 398.8584 - I_var: 0.5128 - val_loss: 393.6372 - val_I_var: 0.5401\n",
      "Epoch 5/1000\n",
      "153/153 [==============================] - 0s 2ms/step - loss: 395.7846 - I_var: 0.5328 - val_loss: 393.4662 - val_I_var: 0.5414\n",
      "Epoch 6/1000\n",
      "153/153 [==============================] - 0s 2ms/step - loss: 394.5306 - I_var: 0.5422 - val_loss: 391.5982 - val_I_var: 0.5542\n",
      "Epoch 7/1000\n",
      "153/153 [==============================] - 0s 2ms/step - loss: 393.3153 - I_var: 0.5506 - val_loss: 390.5459 - val_I_var: 0.5615\n",
      "Epoch 8/1000\n",
      "153/153 [==============================] - 0s 2ms/step - loss: 392.3436 - I_var: 0.5576 - val_loss: 390.0520 - val_I_var: 0.5649\n",
      "Epoch 9/1000\n",
      "153/153 [==============================] - 0s 3ms/step - loss: 391.4596 - I_var: 0.5641 - val_loss: 389.4167 - val_I_var: 0.5686\n",
      "Epoch 10/1000\n",
      "153/153 [==============================] - 0s 3ms/step - loss: 390.6686 - I_var: 0.5706 - val_loss: 387.8210 - val_I_var: 0.5806\n",
      "Epoch 11/1000\n",
      "153/153 [==============================] - 0s 3ms/step - loss: 389.7595 - I_var: 0.5760 - val_loss: 387.8978 - val_I_var: 0.5789\n",
      "Epoch 12/1000\n",
      "153/153 [==============================] - 0s 3ms/step - loss: 388.8573 - I_var: 0.5815 - val_loss: 386.6813 - val_I_var: 0.5881\n",
      "Epoch 13/1000\n",
      "153/153 [==============================] - 0s 3ms/step - loss: 388.0803 - I_var: 0.5885 - val_loss: 385.3586 - val_I_var: 0.5975\n",
      "Epoch 14/1000\n",
      "153/153 [==============================] - 0s 2ms/step - loss: 387.4704 - I_var: 0.5926 - val_loss: 384.7732 - val_I_var: 0.6014\n",
      "Epoch 15/1000\n",
      "153/153 [==============================] - 0s 2ms/step - loss: 386.8973 - I_var: 0.5973 - val_loss: 383.8972 - val_I_var: 0.6075\n",
      "Epoch 16/1000\n",
      "153/153 [==============================] - 0s 2ms/step - loss: 386.1586 - I_var: 0.6011 - val_loss: 383.2314 - val_I_var: 0.6118\n",
      "Epoch 17/1000\n",
      "153/153 [==============================] - 0s 3ms/step - loss: 385.3578 - I_var: 0.6077 - val_loss: 382.4868 - val_I_var: 0.6179\n",
      "Epoch 18/1000\n",
      "153/153 [==============================] - 0s 2ms/step - loss: 384.7248 - I_var: 0.6111 - val_loss: 382.4334 - val_I_var: 0.6181\n",
      "Epoch 19/1000\n",
      "153/153 [==============================] - 0s 2ms/step - loss: 384.3113 - I_var: 0.6145 - val_loss: 381.5935 - val_I_var: 0.6235\n",
      "Epoch 20/1000\n",
      "153/153 [==============================] - 0s 3ms/step - loss: 383.8539 - I_var: 0.6179 - val_loss: 381.2267 - val_I_var: 0.6258\n",
      "Epoch 21/1000\n",
      "153/153 [==============================] - 0s 3ms/step - loss: 383.7544 - I_var: 0.6183 - val_loss: 380.6851 - val_I_var: 0.6294\n",
      "Epoch 22/1000\n",
      "153/153 [==============================] - 0s 2ms/step - loss: 382.8994 - I_var: 0.6248 - val_loss: 380.3525 - val_I_var: 0.6317\n",
      "Epoch 23/1000\n",
      "153/153 [==============================] - 0s 2ms/step - loss: 382.4906 - I_var: 0.6275 - val_loss: 380.6300 - val_I_var: 0.6307\n",
      "Epoch 24/1000\n",
      "153/153 [==============================] - 0s 2ms/step - loss: 382.1500 - I_var: 0.6304 - val_loss: 379.5086 - val_I_var: 0.6381\n",
      "Epoch 25/1000\n",
      "153/153 [==============================] - 0s 2ms/step - loss: 381.8233 - I_var: 0.6326 - val_loss: 378.9167 - val_I_var: 0.6416\n",
      "Epoch 26/1000\n",
      "153/153 [==============================] - 0s 3ms/step - loss: 381.6796 - I_var: 0.6335 - val_loss: 378.5079 - val_I_var: 0.6443\n",
      "Epoch 27/1000\n",
      "153/153 [==============================] - 0s 3ms/step - loss: 381.1713 - I_var: 0.6371 - val_loss: 378.5487 - val_I_var: 0.6438\n",
      "Epoch 28/1000\n",
      "153/153 [==============================] - 0s 3ms/step - loss: 380.9168 - I_var: 0.6391 - val_loss: 378.0386 - val_I_var: 0.6476\n",
      "Epoch 29/1000\n",
      "153/153 [==============================] - 0s 3ms/step - loss: 380.9252 - I_var: 0.6387 - val_loss: 379.0954 - val_I_var: 0.6396\n",
      "Epoch 30/1000\n",
      "153/153 [==============================] - 0s 2ms/step - loss: 380.7824 - I_var: 0.6397 - val_loss: 377.6275 - val_I_var: 0.6505\n",
      "Epoch 31/1000\n",
      "153/153 [==============================] - 0s 3ms/step - loss: 380.9837 - I_var: 0.6383 - val_loss: 379.2875 - val_I_var: 0.6399\n",
      "Epoch 32/1000\n",
      "153/153 [==============================] - 0s 3ms/step - loss: 380.5170 - I_var: 0.6410 - val_loss: 377.7503 - val_I_var: 0.6500\n",
      "Epoch 33/1000\n",
      "153/153 [==============================] - 0s 3ms/step - loss: 380.1724 - I_var: 0.6439 - val_loss: 377.5370 - val_I_var: 0.6510\n",
      "Epoch 34/1000\n",
      "153/153 [==============================] - 0s 3ms/step - loss: 380.1082 - I_var: 0.6441 - val_loss: 377.3796 - val_I_var: 0.6520\n",
      "Epoch 35/1000\n",
      "153/153 [==============================] - 0s 3ms/step - loss: 379.8885 - I_var: 0.6453 - val_loss: 377.4468 - val_I_var: 0.6510\n",
      "Epoch 36/1000\n",
      "153/153 [==============================] - 0s 3ms/step - loss: 380.0246 - I_var: 0.6449 - val_loss: 377.6285 - val_I_var: 0.6495\n",
      "Epoch 37/1000\n",
      "153/153 [==============================] - 0s 3ms/step - loss: 379.9981 - I_var: 0.6443 - val_loss: 378.6408 - val_I_var: 0.6423\n",
      "Epoch 38/1000\n",
      "153/153 [==============================] - 0s 3ms/step - loss: 380.3132 - I_var: 0.6427 - val_loss: 377.2374 - val_I_var: 0.6536\n",
      "Epoch 39/1000\n",
      "153/153 [==============================] - 0s 3ms/step - loss: 379.8369 - I_var: 0.6450 - val_loss: 378.6178 - val_I_var: 0.6442\n",
      "Epoch 40/1000\n",
      "153/153 [==============================] - 0s 2ms/step - loss: 379.6810 - I_var: 0.6468 - val_loss: 377.6592 - val_I_var: 0.6493\n",
      "Epoch 41/1000\n",
      "153/153 [==============================] - 0s 3ms/step - loss: 379.7989 - I_var: 0.6459 - val_loss: 377.7019 - val_I_var: 0.6500\n",
      "Epoch 42/1000\n",
      "153/153 [==============================] - 0s 3ms/step - loss: 379.9365 - I_var: 0.6463 - val_loss: 377.1648 - val_I_var: 0.6541\n",
      "Epoch 43/1000\n",
      "153/153 [==============================] - 0s 2ms/step - loss: 379.6962 - I_var: 0.6467 - val_loss: 377.3711 - val_I_var: 0.6517\n",
      "Epoch 44/1000\n",
      "153/153 [==============================] - 0s 3ms/step - loss: 379.8589 - I_var: 0.6464 - val_loss: 377.1748 - val_I_var: 0.6532\n",
      "Epoch 45/1000\n",
      "153/153 [==============================] - 0s 2ms/step - loss: 379.6745 - I_var: 0.6472 - val_loss: 377.2566 - val_I_var: 0.6534\n",
      "Epoch 46/1000\n",
      "153/153 [==============================] - 0s 3ms/step - loss: 379.7631 - I_var: 0.6468 - val_loss: 377.7591 - val_I_var: 0.6487\n",
      "Epoch 47/1000\n",
      "153/153 [==============================] - 0s 3ms/step - loss: 379.4700 - I_var: 0.6498 - val_loss: 377.5038 - val_I_var: 0.6517\n",
      "Epoch 48/1000\n",
      "153/153 [==============================] - 0s 3ms/step - loss: 379.7664 - I_var: 0.6470 - val_loss: 377.9862 - val_I_var: 0.6487\n",
      "Epoch 49/1000\n",
      "153/153 [==============================] - 0s 3ms/step - loss: 379.7286 - I_var: 0.6470 - val_loss: 377.9426 - val_I_var: 0.6468\n",
      "Epoch 50/1000\n",
      "153/153 [==============================] - 0s 3ms/step - loss: 379.5846 - I_var: 0.6479 - val_loss: 376.5768 - val_I_var: 0.6575\n",
      "Epoch 51/1000\n",
      "153/153 [==============================] - 0s 2ms/step - loss: 379.5393 - I_var: 0.6482 - val_loss: 377.3977 - val_I_var: 0.6519\n",
      "Epoch 52/1000\n",
      "153/153 [==============================] - 0s 3ms/step - loss: 379.5717 - I_var: 0.6487 - val_loss: 376.9640 - val_I_var: 0.6542\n",
      "Epoch 53/1000\n",
      "153/153 [==============================] - 0s 2ms/step - loss: 379.6679 - I_var: 0.6473 - val_loss: 376.8095 - val_I_var: 0.6563\n",
      "Epoch 54/1000\n",
      "153/153 [==============================] - 0s 3ms/step - loss: 379.7086 - I_var: 0.6476 - val_loss: 377.2393 - val_I_var: 0.6526\n",
      "Epoch 55/1000\n",
      "153/153 [==============================] - 0s 3ms/step - loss: 379.4825 - I_var: 0.6486 - val_loss: 376.7346 - val_I_var: 0.6563\n",
      "Epoch 56/1000\n",
      "153/153 [==============================] - 0s 3ms/step - loss: 379.5416 - I_var: 0.6483 - val_loss: 376.6252 - val_I_var: 0.6574\n",
      "Epoch 57/1000\n",
      "153/153 [==============================] - 0s 3ms/step - loss: 379.3933 - I_var: 0.6496 - val_loss: 376.9531 - val_I_var: 0.6548\n",
      "Epoch 58/1000\n"
     ]
    },
    {
     "name": "stdout",
     "output_type": "stream",
     "text": [
      "153/153 [==============================] - 0s 3ms/step - loss: 379.5157 - I_var: 0.6488 - val_loss: 376.9565 - val_I_var: 0.6545\n",
      "Epoch 59/1000\n",
      "153/153 [==============================] - 0s 3ms/step - loss: 379.5098 - I_var: 0.6491 - val_loss: 376.7421 - val_I_var: 0.6560\n",
      "Epoch 60/1000\n",
      "153/153 [==============================] - 0s 3ms/step - loss: 379.8121 - I_var: 0.6463 - val_loss: 377.9463 - val_I_var: 0.6469\n",
      "Training time: 25.2 seconds\n"
     ]
    },
    {
     "data": {
      "text/plain": [
       "<keras.callbacks.History at 0x7fc3117512e0>"
      ]
     },
     "execution_count": 13,
     "metadata": {},
     "output_type": "execute_result"
    }
   ],
   "source": [
    "\n",
    "# Fit model to data\n",
    "model.fit(learning_rate=.001,\n",
    "          epochs=1000,\n",
    "          batch_size=200,\n",
    "          try_tqdm = False,\n",
    "          early_stopping=True,\n",
    "          early_stopping_patience=10,\n",
    "          linear_initialization=False)"
   ]
  },
  {
   "cell_type": "code",
   "execution_count": 14,
   "metadata": {},
   "outputs": [
    {
     "name": "stdout",
     "output_type": "stream",
     "text": [
      "On test data:\n"
     ]
    },
    {
     "data": {
      "text/plain": [
       "Text(0.5, 1.0, 'training hisotry')"
      ]
     },
     "execution_count": 14,
     "metadata": {},
     "output_type": "execute_result"
    },
    {
     "data": {
      "image/png": "[encoded data removed]",
      "text/plain": [
       "<Figure size 288x288 with 1 Axes>"
      ]
     },
     "metadata": {
      "needs_background": "light"
     },
     "output_type": "display_data"
    }
   ],
   "source": [
    "# Show training history\n",
    "print('On test data:')\n",
    "x_test = test_df['x'].values\n",
    "y_test = test_df[y_cols].values\n",
    "\n",
    "\n",
    "I_var_hist = model.history['I_var']\n",
    "val_I_var_hist = model.history['val_I_var']\n",
    "\n",
    "fig, ax = plt.subplots(1,1,figsize=[4,4])\n",
    "ax.plot(I_var_hist, label='I_var_train')\n",
    "ax.plot(val_I_var_hist, label='I_var_val')\n",
    "ax.legend()\n",
    "ax.set_xlabel('epochs')\n",
    "ax.set_ylabel('bits')\n",
    "ax.set_title('training hisotry')"
   ]
  },
  {
   "cell_type": "code",
   "execution_count": 18,
   "metadata": {},
   "outputs": [
    {
     "data": {
      "image/png": "[encoded data removed]",
      "text/plain": [
       "<Figure size 720x288 with 1 Axes>"
      ]
     },
     "metadata": {
      "needs_background": "light"
     },
     "output_type": "display_data"
    }
   ],
   "source": [
    "# Get G-P map parameters in matrix form\n",
    "theta = np.squeeze(gpmap.weights[1].numpy())\n",
    "\n",
    "# Create grid in phi space\n",
    "phi_lim = [-5, 3]\n",
    "phi_grid = np.linspace(phi_lim[0], phi_lim[1], 1000)\n",
    "\n",
    "# Create array of allowable y values\n",
    "Y = mp_mpa.Y    # Y = number of bins\n",
    "y_lim = [-.5, Y-.5]\n",
    "y_all = range(Y)\n",
    "\n",
    "# Compute matrix of p(y|phi) values\n",
    "#measurement_process = mp_mpa.p_of_y_given_phi(y_all, phi_grid)\n",
    "\n",
    "# Create figure with two panels\n",
    "fig, axs = plt.subplots(1,1,figsize=[10,4])\n",
    "\n",
    "# Left panel: draw logo using logomaker\n",
    "ax = axs\n",
    "logo = logomaker.Logo(-pd.DataFrame(theta,columns=model.alphabet), ax=ax,center_values=True)\n",
    "ax.set_ylabel(r'parameter value ($\\theta_{l:c}$)')\n",
    "ax.set_xlabel(r'position ($l$)')\n",
    "ax.set_title('G-P map parameters')\n",
    "\n",
    "# Right panel: draw measurement process as heatmap\n",
    "# ax = axs[1]\n",
    "# im = ax.imshow(measurement_process,\n",
    "#                cmap='Greens',\n",
    "#                extent=phi_lim+y_lim,\n",
    "#                vmin=0,\n",
    "#                origin='lower',\n",
    "#                interpolation='nearest',\n",
    "#                aspect=\"auto\")\n",
    "# ax.set_yticks(y_all)\n",
    "# ax.set_ylabel('bin number (y)')\n",
    "# ax.set_xlabel('latent phenotype ($\\phi$)')\n",
    "# ax.set_title('measurement process')\n",
    "# cb = plt.colorbar(im)\n",
    "# cb.set_label('probability  $p(y|\\phi)$', rotation=-90, va=\"bottom\")\n",
    "\n",
    "# Fix up plot\n",
    "fig.tight_layout(w_pad=3)\n",
    "#fig.savefig('sortseq_g-p_map_mpa_visualization.png')\n",
    "plt.show()"
   ]
  },
  {
   "cell_type": "code",
   "execution_count": 19,
   "metadata": {},
   "outputs": [
    {
     "data": {
      "image/png": "[encoded data removed]",
      "text/plain": [
       "<Figure size 432x432 with 2 Axes>"
      ]
     },
     "metadata": {
      "needs_background": "light"
     },
     "output_type": "display_data"
    }
   ],
   "source": [
    "# Create grid in phi space\n",
    "phi_lim = [-5, 3]\n",
    "phi_grid = np.linspace(phi_lim[0], phi_lim[1], 1000)\n",
    "\n",
    "# Create array of allowable y values\n",
    "Y = mp_mpa.Y    # Y = number of bins\n",
    "y_lim = [-.5, Y-.5]\n",
    "y_all = range(Y)\n",
    "\n",
    "# Compute matrix of p(y|phi) values\n",
    "measurement_process = mp_mpa.p_of_y_given_phi(y_all, phi_grid)\n",
    "\n",
    "\n",
    "# Create figure with two panels\n",
    "fig, ax = plt.subplots(1,1,figsize=[6,6])\n",
    "\n",
    "# Right panel: draw measurement process as heatmap\n",
    "im = ax.imshow(measurement_process,\n",
    "               cmap='Greens',\n",
    "               extent=phi_lim+y_lim,\n",
    "               vmin=0,\n",
    "               origin='lower',\n",
    "               interpolation='nearest',\n",
    "               aspect=\"auto\")\n",
    "ax.set_yticks(y_all)\n",
    "ax.set_ylabel('bin number (y)')\n",
    "ax.set_xlabel('latent phenotype ($\\phi$)')\n",
    "ax.set_title('measurement process')\n",
    "cb = plt.colorbar(im)\n",
    "cb.set_label('probability  $p(y|\\phi)$', rotation=-90, va=\"bottom\")\n"
   ]
  },
  {
   "cell_type": "code",
   "execution_count": null,
   "metadata": {},
   "outputs": [],
   "source": []
  }
 ],
 "metadata": {
  "kernelspec": {
   "display_name": "Python 3 (ipykernel)",
   "language": "python",
   "name": "python3"
  },
  "language_info": {
   "codemirror_mode": {
    "name": "ipython",
    "version": 3
   },
   "file_extension": ".py",
   "mimetype": "text/x-python",
   "name": "python",
   "nbconvert_exporter": "python",
   "pygments_lexer": "ipython3",
   "version": "3.9.5"
  }
 },
 "nbformat": 4,
 "nbformat_minor": 2
}
