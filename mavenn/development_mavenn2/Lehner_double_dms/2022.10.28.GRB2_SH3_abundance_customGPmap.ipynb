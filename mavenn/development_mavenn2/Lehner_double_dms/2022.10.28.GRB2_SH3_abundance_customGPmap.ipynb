{
 "cells": [
  {
   "cell_type": "code",
   "execution_count": 1,
   "metadata": {},
   "outputs": [],
   "source": [
    "import numpy as np\n",
    "import pandas as pd\n",
    "import matplotlib.pyplot as plt\n",
    "# import sys\n",
    "# sys.path.insert(0, '/Users/tareen/Desktop/Research_Projects/2022_mavenn2_github/mavenn')\n",
    "\n",
    "import mavenn\n",
    "import logomaker\n",
    "import seaborn as sns\n",
    "import re\n",
    "\n",
    "%matplotlib inline"
   ]
  },
  {
   "cell_type": "code",
   "execution_count": 2,
   "metadata": {},
   "outputs": [
    {
     "data": {
      "text/plain": [
       "['/Library/Frameworks/Python.framework/Versions/3.9/lib/python3.9/site-packages/mavenn']"
      ]
     },
     "execution_count": 2,
     "metadata": {},
     "output_type": "execute_result"
    }
   ],
   "source": [
    "mavenn.__path__"
   ]
  },
  {
   "cell_type": "code",
   "execution_count": 3,
   "metadata": {},
   "outputs": [
    {
     "name": "stderr",
     "output_type": "stream",
     "text": [
      "/Library/Frameworks/Python.framework/Versions/3.9/lib/python3.9/site-packages/IPython/core/interactiveshell.py:3457: DtypeWarning: Columns (6) have mixed types.Specify dtype option on import or set low_memory=False.\n",
      "  exec(code_obj, self.user_global_ns, self.user_ns)\n"
     ]
    }
   ],
   "source": [
    "binding_df_full = pd.read_csv('data/GRB2-SH3.binding.csv')\n",
    "binding_df = binding_df_full[['aa_seq','count_e1_s0','count_e1_s1']].dropna().reset_index(drop=True).copy()"
   ]
  },
  {
   "cell_type": "code",
   "execution_count": 4,
   "metadata": {},
   "outputs": [],
   "source": [
    "abundance_df_full = pd.read_csv('data/GRB2-SH3.abundance.csv')\n",
    "abundance_df = abundance_df_full[['aa_seq','count_e1_s0','count_e1_s1']].dropna().reset_index(drop=True).copy()"
   ]
  },
  {
   "cell_type": "code",
   "execution_count": 5,
   "metadata": {},
   "outputs": [],
   "source": [
    "data_df = abundance_df.copy()\n",
    "y_cols = data_df.columns[1:] "
   ]
  },
  {
   "cell_type": "code",
   "execution_count": 6,
   "metadata": {},
   "outputs": [],
   "source": [
    "X = data_df['aa_seq']\n",
    "y = data_df[y_cols]"
   ]
  },
  {
   "cell_type": "code",
   "execution_count": 7,
   "metadata": {},
   "outputs": [
    {
     "name": "stdout",
     "output_type": "stream",
     "text": [
      "L=57, Y=2\n"
     ]
    }
   ],
   "source": [
    "# set positional argumnets for gpmap function\n",
    "L = len(data_df['aa_seq'][0])\n",
    "alphabet=['A', 'C', 'D', 'E', 'F',\n",
    "          'G', 'H', 'I', 'K', 'L',\n",
    "          'M', 'N', 'P', 'Q', 'R',\n",
    "          'S', 'T', 'V', 'W', 'Y', '*']\n",
    "\n",
    "\n",
    "Y = len(y_cols)\n",
    "print(f'L={L}, Y={Y}')"
   ]
  },
  {
   "cell_type": "code",
   "execution_count": 8,
   "metadata": {},
   "outputs": [
    {
     "ename": "ImportError",
     "evalue": "cannot import name 'CustomGPMapLayer' from 'mavenn.src.layers.gpmap' (/Library/Frameworks/Python.framework/Versions/3.9/lib/python3.9/site-packages/mavenn/src/layers/gpmap.py)",
     "output_type": "error",
     "traceback": [
      "\u001b[0;31m---------------------------------------------------------------------------\u001b[0m",
      "\u001b[0;31mImportError\u001b[0m                               Traceback (most recent call last)",
      "\u001b[0;32m/var/folders/kx/rdhxdz2129n1dd59rnympr580000gp/T/ipykernel_44561/673938874.py\u001b[0m in \u001b[0;36m<module>\u001b[0;34m\u001b[0m\n\u001b[0;32m----> 1\u001b[0;31m \u001b[0;32mfrom\u001b[0m \u001b[0mmavenn\u001b[0m\u001b[0;34m.\u001b[0m\u001b[0msrc\u001b[0m\u001b[0;34m.\u001b[0m\u001b[0mlayers\u001b[0m\u001b[0;34m.\u001b[0m\u001b[0mgpmap\u001b[0m \u001b[0;32mimport\u001b[0m \u001b[0mCustomGPMapLayer\u001b[0m\u001b[0;34m\u001b[0m\u001b[0;34m\u001b[0m\u001b[0m\n\u001b[0m\u001b[1;32m      2\u001b[0m \u001b[0;34m\u001b[0m\u001b[0m\n\u001b[1;32m      3\u001b[0m \u001b[0;34m\u001b[0m\u001b[0m\n\u001b[1;32m      4\u001b[0m \u001b[0;31m# Tensorflow imports\u001b[0m\u001b[0;34m\u001b[0m\u001b[0;34m\u001b[0m\u001b[0m\n\u001b[1;32m      5\u001b[0m \u001b[0;32mimport\u001b[0m \u001b[0mtensorflow\u001b[0m \u001b[0;32mas\u001b[0m \u001b[0mtf\u001b[0m\u001b[0;34m\u001b[0m\u001b[0;34m\u001b[0m\u001b[0m\n",
      "\u001b[0;31mImportError\u001b[0m: cannot import name 'CustomGPMapLayer' from 'mavenn.src.layers.gpmap' (/Library/Frameworks/Python.framework/Versions/3.9/lib/python3.9/site-packages/mavenn/src/layers/gpmap.py)"
     ]
    }
   ],
   "source": [
    "from mavenn.src.layers.gpmap import CustomGPMapLayer\n",
    "\n",
    "\n",
    "# Tensorflow imports\n",
    "import tensorflow as tf\n",
    "import tensorflow.keras.backend as K\n",
    "from tensorflow.keras.initializers import Constant\n",
    "from tensorflow.keras.layers import Layer, Dense\n",
    "\n",
    "class ThermodynamicLayer(CustomGPMapLayer):\n",
    "    \"\"\"Represents an thermodynamic model of transcription\n",
    "       regulation in E. Coli at the lac promoter, which \n",
    "       contains binding sites for RNAP and CRP.\n",
    "    \"\"\"\n",
    "\n",
    "    def __init__(self, \n",
    "                 TF_start,\n",
    "                 TF_end,\n",
    "                 RNAP_start,\n",
    "                 RNAP_end,\n",
    "                 C,\n",
    "                 regularizer, \n",
    "                 *args, **kwargs):\n",
    "        \"\"\"Construct layer instance.\"\"\"\n",
    "        \n",
    "        # set attributes\n",
    "        self.TF_start = TF_start\n",
    "        self.TF_end = TF_end        \n",
    "        self.RNAP_start = RNAP_start\n",
    "        self.RNAP_end = RNAP_end        \n",
    "        self.C=C\n",
    "        self.regularizer = tf.keras.regularizers.L2(regularizer)\n",
    "        \n",
    "        # form helpful variables\n",
    "        self.L_TF = TF_end-TF_start\n",
    "        self.L_RNAP = RNAP_end - RNAP_start\n",
    "        \n",
    "        super().__init__(*args, **kwargs)\n",
    "\n",
    "    def build(self, input_shape):\n",
    "        \"\"\"Build layer.\"\"\"\n",
    "        \n",
    "        # define bias/chemical potential weight for crp\n",
    "        self.mu_TF = self.add_weight(name='mu_TF',\n",
    "                                       shape=(1,),\n",
    "                                       initializer=Constant(1.),\n",
    "                                       trainable=True,\n",
    "                                       regularizer=self.regularizer)\n",
    "\n",
    "        # define bias/chemical potential weight for rnap\n",
    "        self.mu_RNAP = self.add_weight(name='mu_RNAP',\n",
    "                                       shape=(1,),\n",
    "                                       initializer=Constant(1.),\n",
    "                                       trainable=True,\n",
    "                                       regularizer=self.regularizer)\n",
    "\n",
    "\n",
    "        # Define theta_TF_lc parameters\n",
    "        theta_TF_lc_shape = (1, self.L_TF, self.C)\n",
    "\n",
    "        theta_TF_lc_init = np.random.randn(*theta_TF_lc_shape)/np.sqrt(self.L_TF)\n",
    "        self.theta_TF_lc = self.add_weight(name='theta_TF_lc',\n",
    "                                        shape=theta_TF_lc_shape,\n",
    "                                        initializer=Constant(theta_TF_lc_init),\n",
    "                                        trainable=True,\n",
    "                                        regularizer=self.regularizer)\n",
    "        \n",
    "        # Define theta_rnap_lc parameters\n",
    "        theta_RNAP_lc_shape = (1, self.L_RNAP, self.C)\n",
    "\n",
    "        theta_RNAP_lc_init = np.random.randn(*theta_RNAP_lc_shape)/np.sqrt(self.L_RNAP)\n",
    "        self.theta_RNAP_lc = self.add_weight(name='theta_RNAP_lc',\n",
    "                                        shape=theta_RNAP_lc_shape,\n",
    "                                        initializer=Constant(theta_RNAP_lc_init),\n",
    "                                        trainable=True,\n",
    "                                        regularizer=self.regularizer)\n",
    "        \n",
    "        # define interaction term. Not sure if this needs regularization\n",
    "        self.interaction = self.add_weight(name='interaction',\n",
    "                               shape=(1,),\n",
    "                               initializer=Constant(0),\n",
    "                               trainable=True,\n",
    "                               regularizer=tf.keras.regularizers.L2(0))\n",
    "        \n",
    "        # define tsat term. Not sure if this needs regularization\n",
    "        self.tsat = self.add_weight(name='tsat',\n",
    "                               shape=(1,),\n",
    "                               initializer=Constant(1.),\n",
    "                               trainable=True,\n",
    "                               regularizer=tf.keras.regularizers.L2(0))        \n",
    "        \n",
    "        # Call superclass build\n",
    "        super().build(input_shape)\n",
    "\n",
    "    def call(self, x_lc):\n",
    "        \"\"\"Process layer input and return output.\n",
    "        \n",
    "        x_lc: (tensor)\n",
    "            Input tensor that represents one-hot encoded \n",
    "            sequence values. \n",
    "        \"\"\"\n",
    "        \n",
    "        # extract locations of binding sites from entire lac-promoter sequence.\n",
    "        x_TF_lc = x_lc[:,self.C * self.TF_start:self.C * self.TF_end]\n",
    "        x_RNAP_lc = x_lc[:,self.C * self.RNAP_start: self.C * self.RNAP_end]\n",
    "        \n",
    "        # reshape according to crp and rnap lengths. \n",
    "        x_TF_lc = tf.reshape(x_TF_lc, [-1, self.L_TF, self.C])\n",
    "        x_RNAP_lc = tf.reshape(x_RNAP_lc, [-1, self.L_RNAP, self.C])\n",
    "                \n",
    "        # compute delta G for crp    \n",
    "        phi_TF = self.mu_TF + \\\n",
    "              tf.reshape(K.sum(self.theta_TF_lc * x_TF_lc, axis=[1, 2]),\n",
    "                         shape=[-1, 1])\n",
    "            \n",
    "        # compute delta G for rnap\n",
    "        phi_RNAP = self.mu_RNAP + \\\n",
    "              tf.reshape(K.sum(self.theta_RNAP_lc * x_RNAP_lc, axis=[1, 2]),\n",
    "                         shape=[-1, 1])            \n",
    "        \n",
    "        # compute rate of transcription\n",
    "        t = (self.tsat)*(K.exp(-phi_RNAP)+K.exp(-phi_TF-phi_RNAP-self.interaction))/(1+K.exp(-phi_TF)+K.exp(-phi_RNAP)+K.exp(-phi_TF-phi_RNAP-self.interaction))\n",
    "        \n",
    "        # return rate of transcription\n",
    "        return t\n"
   ]
  },
  {
   "cell_type": "code",
   "execution_count": null,
   "metadata": {},
   "outputs": [],
   "source": [
    "gpmap_abundance_DM = mavenn.gpmap.AdditiveGPMapLayer(L, alphabet)\n",
    "gpmap_abundance_EE = mavenn.gpmap.AdditiveGPMapLayer(L, alphabet)\n",
    "\n",
    "#gpmap_abundance = mavenn.gpmap.AdditiveGPMapLayer(L, alphabet)\n",
    "\n",
    "# # instantiate gpmap object\n",
    "# gpmap = mavenn.gpmap.Multi_AdditiveGPMapLayer(L=L, \n",
    "#                                               alphabet=alphabet,\n",
    "#                                               number_latent_nodes=2)\n",
    "\n"
   ]
  },
  {
   "cell_type": "code",
   "execution_count": null,
   "metadata": {},
   "outputs": [],
   "source": [
    "from sklearn.model_selection import train_test_split\n",
    "\n",
    "# split data into training and testing sets\n",
    "x_train, x_test, y_train, y_test = train_test_split(X, y, test_size=0.1)"
   ]
  },
  {
   "cell_type": "code",
   "execution_count": null,
   "metadata": {},
   "outputs": [],
   "source": [
    "def model_local(gpmap, \n",
    "                mp,\n",
    "                x_train,\n",
    "                y_train):\n",
    "    \n",
    "    model = mavenn.Model2(gpmap=gpmap,\n",
    "                          mp_list=[mp])\n",
    "    \n",
    "    # Set training data\n",
    "    model.set_data(x=x_train.values,\n",
    "                   y_list=[y_train.values],\n",
    "                   shuffle=True)\n",
    "    \n",
    "    return model\n",
    "    "
   ]
  },
  {
   "cell_type": "code",
   "execution_count": null,
   "metadata": {},
   "outputs": [],
   "source": [
    "mp_DM = mavenn.measurement_process_layers.DiscreteMonotonicMP(info_for_layers_dict={'H_y_norm':0},\n",
    "                                                               Y=Y,\n",
    "                                                               K=50,\n",
    "                                                               eta=1e-5,)\n",
    "\n",
    "\n",
    "mp_EE = mavenn.measurement_process_layers.ExponentialEnrichmentMP(Y=Y,\n",
    "                                                                  t_y=[0,1],\n",
    "                                                                  eta=1e-5,\n",
    "                                                                  info_for_layers_dict={'H_y_norm':0})\n"
   ]
  },
  {
   "cell_type": "code",
   "execution_count": null,
   "metadata": {},
   "outputs": [],
   "source": [
    "model_abundance_DM = model_local(gpmap_abundance_DM,mp_DM, x_train, y_train)\n",
    "model_abundance_EE = model_local(gpmap_abundance_EE,mp_EE, x_train, y_train)"
   ]
  },
  {
   "cell_type": "code",
   "execution_count": null,
   "metadata": {},
   "outputs": [],
   "source": [
    "# # Set training data\n",
    "# model.set_data(x=x_train.values,\n",
    "#                y_list=[y_train.values],\n",
    "#                shuffle=True)\n"
   ]
  },
  {
   "cell_type": "code",
   "execution_count": null,
   "metadata": {},
   "outputs": [],
   "source": [
    "# from tensorflow.keras.utils import plot_model\n",
    "# plot_model(model.model,show_shapes=True,show_dtype=False,dpi=300,to_file='lehner.png')"
   ]
  },
  {
   "cell_type": "code",
   "execution_count": null,
   "metadata": {},
   "outputs": [],
   "source": [
    "\n",
    "# Fit model to data\n",
    "model_abundance_DM.fit(learning_rate=.0005,\n",
    "                     epochs=300,\n",
    "                     batch_size=300,\n",
    "                     try_tqdm = False,\n",
    "                     early_stopping=False,\n",
    "                     verbose=False,\n",
    "                     early_stopping_patience=10,\n",
    "                     linear_initialization=False)\n",
    "\n",
    "model_abundance_EE.fit(learning_rate=.0005,\n",
    "                     epochs=300,\n",
    "                     batch_size=300,\n",
    "                     try_tqdm = False,\n",
    "                     early_stopping=False,\n",
    "                     verbose=False,\n",
    "                     early_stopping_patience=10,\n",
    "                     linear_initialization=False)"
   ]
  },
  {
   "cell_type": "code",
   "execution_count": null,
   "metadata": {},
   "outputs": [],
   "source": [
    "# Show training history\n",
    "print('On test data:')\n",
    "# x_test = test_df['x'].values\n",
    "# y_test = test_df[y_cols].values\n",
    "\n",
    "\n",
    "I_var_hist = model_abundance_DM.history['I_var']\n",
    "val_I_var_hist = model_abundance_DM.history['val_I_var']\n",
    "\n",
    "fig, ax = plt.subplots(figsize=[4,4])\n",
    "\n",
    "ax.plot(I_var_hist, label='I_var_train-DM')\n",
    "ax.plot(val_I_var_hist, label='I_var_val-DM')\n",
    "#ax.set_xscale('log')\n",
    "ax.set_title('training history - abundance')\n",
    "\n",
    "I_var_hist = model_abundance_EE.history['I_var']\n",
    "val_I_var_hist = model_abundance_EE.history['val_I_var']\n",
    "\n",
    "ax.plot(I_var_hist, label='I_var_train-EE')\n",
    "ax.plot(val_I_var_hist, label='I_var_val-EE')\n",
    "\n",
    "ax.legend()\n",
    "ax.set_xlabel('epochs')\n",
    "ax.set_ylabel('bits')\n",
    "\n",
    "fig.tight_layout()\n",
    "fig.savefig('plots/GRB2_SH3/training_history_abundance.png',dpi=200,bbox_inches='tight')\n"
   ]
  },
  {
   "cell_type": "code",
   "execution_count": null,
   "metadata": {},
   "outputs": [],
   "source": [
    "phi_DM = gpmap_abundance_DM.x_to_phi(x_test)\n",
    "phi_EE = gpmap_abundance_EE.x_to_phi(x_test)"
   ]
  },
  {
   "cell_type": "code",
   "execution_count": null,
   "metadata": {},
   "outputs": [],
   "source": [
    "theta_lc_DM = gpmap_abundance_DM.get_theta(model_abundance_DM,gauge='consensus')['theta_lc']\n",
    "theta_lc_EE = gpmap_abundance_EE.get_theta(model_abundance_EE,gauge='consensus')['theta_lc']\n",
    "theta_lc_consensus_EE_df = pd.DataFrame(theta_lc_EE,columns=alphabet)\n",
    "theta_lc_consensus_DM_df = pd.DataFrame(theta_lc_DM,columns=alphabet)\n",
    "# theta_raw_df = pd.DataFrame(theta,columns=alphabet)"
   ]
  },
  {
   "cell_type": "code",
   "execution_count": null,
   "metadata": {},
   "outputs": [],
   "source": [
    "\n",
    "# # Create fig and ax objects\n",
    "fig, axs = plt.subplots(2,1, figsize=[12,8])\n",
    "\n",
    "ax = axs[0]\n",
    "# Draw heatmap\n",
    "ax, cb = mavenn.heatmap(ax=ax,\n",
    "                        values=theta_lc_DM,\n",
    "                        alphabet=alphabet,\n",
    "                        seq=model_abundance_DM.x_stats['consensus_seq'],\n",
    "                        seq_kwargs={'c':'gray', 's':20,'marker':'o'},\n",
    "                        cmap='RdBu',\n",
    "                        cbar=True,\n",
    "                        #clim = [-5,1],\n",
    "                        cmap_size='2%',\n",
    "                        cmap_pad=.3,\n",
    "                        ccenter=0)\n",
    "\n",
    "# Style colorbar\n",
    "cb.set_label('Additive effect - WT gauge ($\\\\theta$)',\n",
    "             labelpad=10, ha='center', va='center', rotation=-90)\n",
    "cb.outline.set_visible(False)\n",
    "cb.ax.tick_params(direction='in', size=20, color='white')\n",
    "ax.set_title('Discrete monotonic - abundance')\n",
    "\n",
    "ax = axs[1]\n",
    "# Draw heatmap\n",
    "ax, cb = mavenn.heatmap(ax=ax,\n",
    "                        values=theta_lc_EE,\n",
    "                        alphabet=alphabet,\n",
    "                        seq=model_abundance_EE.x_stats['consensus_seq'],\n",
    "                        seq_kwargs={'c':'gray', 's':20,'marker':'o'},\n",
    "                        cmap='RdBu',\n",
    "                        cbar=True,\n",
    "                        #clim = [-5,1],\n",
    "                        cmap_size='2%',\n",
    "                        cmap_pad=.3,\n",
    "                        ccenter=0)\n",
    "\n",
    "# Style colorbar\n",
    "cb.set_label('Additive effect - WT gauge ($\\\\theta$)',\n",
    "             labelpad=10, ha='center', va='center', rotation=-90)\n",
    "cb.outline.set_visible(False)\n",
    "cb.ax.tick_params(direction='in', size=20, color='white')\n",
    "ax.set_title('Exponential enrichment - abundance')\n",
    "\n",
    "\n",
    "fig.tight_layout()\n",
    "fig.savefig('plots/GRB2_SH3/GP_map_abundance.png',dpi=300,bbox_inches='tight')"
   ]
  },
  {
   "cell_type": "code",
   "execution_count": null,
   "metadata": {},
   "outputs": [],
   "source": [
    "plt.figure(figsize=(5,5))\n",
    "plt.scatter(theta_lc_DM.ravel(),theta_lc_EE.ravel(),c='blue',s=5,alpha=0.3)\n",
    "plt.xlabel('Theta discrete monotonic')\n",
    "plt.ylabel('Theta exponential enrichment')"
   ]
  },
  {
   "cell_type": "code",
   "execution_count": null,
   "metadata": {},
   "outputs": [],
   "source": [
    "# Create grid in phi space\n",
    "phi_lim = [-5, 5]\n",
    "phi_grid = np.linspace(phi_lim[0], phi_lim[1], 1000)\n",
    "\n",
    "# Create array of allowable y values\n",
    "Y = mp_DM.Y    # Y = number of bins\n",
    "y_lim = [-.5, Y-.5]\n",
    "y_all = range(Y)\n",
    "\n",
    "# Compute matrix of p(y|phi) values\n",
    "\n",
    "\n",
    "\n",
    "# Create figure with two panels\n",
    "fig, axs = plt.subplots(1,2,figsize=[12,6])\n",
    "\n",
    "ax = axs[0]\n",
    "# Right panel: draw measurement process as heatmap\n",
    "\n",
    "measurement_process = mp_DM.p_of_y_given_phi(y_all, phi_grid)\n",
    "im = ax.imshow(measurement_process,\n",
    "               cmap='Greens',\n",
    "               extent=phi_lim+y_lim,\n",
    "               vmin=0,\n",
    "               origin='lower',\n",
    "               interpolation='nearest',\n",
    "               aspect=\"auto\")\n",
    "ax.set_yticks(y_all)\n",
    "ax.set_ylabel('bin number (y)')\n",
    "ax.set_xlabel('latent phenotype ($\\phi$)')\n",
    "ax.set_title('measurement process - discrete monotonic')\n",
    "cb = plt.colorbar(im,ax=ax)\n",
    "cb.set_label('probability  $p(y|\\phi)$', rotation=-90, va=\"bottom\")\n",
    "\n",
    "ax = axs[1]\n",
    "# Right panel: draw measurement process as heatmap\n",
    "\n",
    "measurement_process = mp_EE.p_of_y_given_phi(y_all, phi_grid)\n",
    "im = ax.imshow(measurement_process,\n",
    "               cmap='Greens',\n",
    "               extent=phi_lim+y_lim,\n",
    "               vmin=0,\n",
    "               origin='lower',\n",
    "               interpolation='nearest',\n",
    "               aspect=\"auto\")\n",
    "ax.set_yticks(y_all)\n",
    "ax.set_ylabel('bin number (y)')\n",
    "ax.set_xlabel('latent phenotype ($\\phi$)')\n",
    "ax.set_title('measurement process - Exponential enrichment')\n",
    "cb = plt.colorbar(im,ax=ax)\n",
    "cb.set_label('probability  $p(y|\\phi)$', rotation=-90, va=\"bottom\")\n",
    "\n",
    "\n",
    "fig.tight_layout()\n",
    "fig.savefig('plots/GRB2_SH3/lehner_measurment_prcoess_abundance.png',dpi=300,bbox_inches='tight')\n"
   ]
  },
  {
   "cell_type": "code",
   "execution_count": null,
   "metadata": {},
   "outputs": [],
   "source": [
    "stop"
   ]
  },
  {
   "cell_type": "code",
   "execution_count": null,
   "metadata": {},
   "outputs": [],
   "source": [
    "data_df_GE = abundance_df_full[['aa_seq','fitness']].copy()"
   ]
  },
  {
   "cell_type": "code",
   "execution_count": null,
   "metadata": {},
   "outputs": [],
   "source": [
    "plt.hist(data_df_GE['fitness'],bins=20,color='blue')\n",
    "plt.show()"
   ]
  },
  {
   "cell_type": "code",
   "execution_count": null,
   "metadata": {},
   "outputs": [],
   "source": [
    "gpmapGE = mavenn.gpmap.AdditiveGPMapLayer(L, alphabet)\n",
    "mp_GE = mavenn.measurement_process_layers.GlobalEpsitasisMP(K=50,\n",
    "                                                           monotonic=True,\n",
    "                                                           ge_heteroskedasticity_order=2,\n",
    "                                                           ge_noise_model_type='Gaussian')"
   ]
  },
  {
   "cell_type": "code",
   "execution_count": null,
   "metadata": {},
   "outputs": [],
   "source": [
    "from sklearn.model_selection import train_test_split\n",
    "\n",
    "# split data into training and testing sets\n",
    "x_train_GE, x_test_GE, y_train_GE, y_test_GE = train_test_split(data_df_GE['aa_seq'].values, \n",
    "                                                                data_df_GE['fitness'].values, test_size=0.1)"
   ]
  },
  {
   "cell_type": "code",
   "execution_count": null,
   "metadata": {},
   "outputs": [],
   "source": [
    "model_GE = mavenn.Model2(gpmap=gpmapGE,\n",
    "                      mp_list=[mp_GE])\n",
    "\n",
    "# Set training data\n",
    "model_GE.set_data(x=x_train_GE,\n",
    "               #y_list=[data_df['y'].values.reshape(-1,1)],\n",
    "               y_list=[y_train_GE.reshape(-1,1)],\n",
    "               shuffle=False)"
   ]
  },
  {
   "cell_type": "code",
   "execution_count": null,
   "metadata": {},
   "outputs": [],
   "source": [
    "# Fit model to data\n",
    "history = model_GE.fit(learning_rate=.0005,\n",
    "                    epochs=150,\n",
    "                    batch_size=300,\n",
    "                    try_tqdm=False,\n",
    "                    early_stopping=False,\n",
    "                    early_stopping_patience=5,\n",
    "                    linear_initialization=False)"
   ]
  },
  {
   "cell_type": "code",
   "execution_count": null,
   "metadata": {},
   "outputs": [],
   "source": [
    "# Show training history\n",
    "print('On test data:')\n",
    "# x_test = test_df['x'].values\n",
    "# y_test = test_df[y_cols].values\n",
    "\n",
    "\n",
    "I_var_hist = model_GE.history['I_var']\n",
    "val_I_var_hist = model_GE.history['val_I_var']\n",
    "\n",
    "fig, axs = plt.subplots(1,2,figsize=[8,4])\n",
    "\n",
    "ax = axs[0]\n",
    "ax.plot(I_var_hist, label='I_var_train')\n",
    "ax.plot(val_I_var_hist, label='I_var_val')\n",
    "ax.legend()\n",
    "ax.set_xlabel('epochs')\n",
    "ax.set_ylabel('bits')\n",
    "#ax.set_xscale('log')\n",
    "ax.set_title('training history')\n",
    "\n",
    "ax = axs[1]\n",
    "ax.plot(model_GE.history['loss'], label='loss_train')\n",
    "ax.plot(model_GE.history['val_loss'], label='loss_val')\n",
    "# ax.set_xlim(100,300)\n",
    "# ax.set_ylim(0.7*1e6,0.8*1e6)\n",
    "ax.legend()\n",
    "ax.set_xlabel('epochs')\n",
    "ax.set_ylabel('loss')\n",
    "# ax.set_xscale('log')\n",
    "# ax.set_yscale('log')\n",
    "ax.set_title('training hisotry')\n",
    "fig.tight_layout()"
   ]
  },
  {
   "cell_type": "code",
   "execution_count": null,
   "metadata": {},
   "outputs": [],
   "source": [
    "phi = gpmapGE.x_to_phi(x_test_GE)"
   ]
  },
  {
   "cell_type": "code",
   "execution_count": null,
   "metadata": {},
   "outputs": [],
   "source": [
    "WT_phi = gpmapGE.x_to_phi(model_GE.x_consensus)"
   ]
  },
  {
   "cell_type": "code",
   "execution_count": null,
   "metadata": {},
   "outputs": [],
   "source": []
  },
  {
   "cell_type": "code",
   "execution_count": null,
   "metadata": {},
   "outputs": [],
   "source": [
    "fig, axs = plt.subplots(1,2, figsize=(8,4))\n",
    "\n",
    "ax = axs[0]\n",
    "yhat = mp_GE.phi_to_yhat(phi)\n",
    "ax.scatter(-(phi-WT_phi)*3,y_test_GE,s=2,alpha=0.1,c='black',label='test data')\n",
    "#ax.scatter(phi,yhat* model.y_std+model.y_mean,s=1,alpha=0.1,c='r',label='$\\hat{y} = g(\\phi)$')\n",
    "ax.scatter(-(phi-WT_phi)*3,yhat,s=1,alpha=0.3,c='r',label='$\\hat{y} = g(\\phi)$')\n",
    "ax.axvline(0,color='black')\n",
    "ax.axhline(0,color='black')\n",
    "\n",
    "ax.set_xlabel('latent phenotype ($\\phi$)')\n",
    "ax.set_ylabel('Abundance fitness \\n (observed)')\n",
    "ax.set_title('GRB2-SH3 - abundance')\n",
    "leg = ax.legend()\n",
    "\n",
    "for lh in leg.legendHandles: \n",
    "    lh.set_alpha(1)\n",
    "    \n",
    "    \n",
    "ax = axs[1]\n",
    "ax.scatter(yhat,y_test_GE,s=2,alpha=0.2,c='b',label='test data')\n",
    "Rsq = np.corrcoef(yhat.numpy().ravel(),y_test_GE)[0,1]**2\n",
    "\n",
    "ax.set_xlabel('$\\hat{y} = g(\\phi)$')\n",
    "ax.set_ylabel('measurement ($y$)')\n",
    "ax.set_title(f'GRB2-SH3, $R^2 = $ {Rsq:.3f}')\n",
    "leg = ax.legend()\n",
    "\n",
    "for lh in leg.legendHandles: \n",
    "    lh.set_alpha(1)\n",
    "\n",
    "fig.tight_layout()\n",
    "fig.savefig('plots/GRB2_SH3/global_epistasis_binding_abundance.png',dpi=300,bbox_inches='tight')    "
   ]
  },
  {
   "cell_type": "code",
   "execution_count": null,
   "metadata": {},
   "outputs": [],
   "source": [
    "theta_lc_GE = gpmapGE.get_theta(model_GE,gauge='consensus')['theta_lc']"
   ]
  },
  {
   "cell_type": "code",
   "execution_count": null,
   "metadata": {},
   "outputs": [],
   "source": [
    "plt.figure(figsize=(5,5))\n",
    "plt.scatter(theta_lc_DM.ravel(),theta_lc_GE.ravel(),c='blue',s=5,alpha=0.3)\n",
    "plt.xlabel('Theta discrete monotonic')\n",
    "plt.ylabel('Theta global epistasis')"
   ]
  },
  {
   "cell_type": "code",
   "execution_count": null,
   "metadata": {},
   "outputs": [],
   "source": [
    "lehner_abundance_singles_df = pd.read_csv('data/GRB2-SH3.singles_abundance.csv')\n",
    "lehner_abundance_singles_df"
   ]
  },
  {
   "cell_type": "code",
   "execution_count": null,
   "metadata": {},
   "outputs": [],
   "source": [
    "abundance_singles_transformed_df = pd.DataFrame(np.nan*np.ones(shape=(57,21)),columns=alphabet)\n",
    "abundance_singles_transformed_df.head()"
   ]
  },
  {
   "cell_type": "code",
   "execution_count": null,
   "metadata": {},
   "outputs": [],
   "source": []
  },
  {
   "cell_type": "code",
   "execution_count": null,
   "metadata": {},
   "outputs": [],
   "source": [
    "for idx in lehner_abundance_singles_df.index:\n",
    "\n",
    "    mutant = lehner_abundance_singles_df.loc[idx]['Mut']\n",
    "    value = lehner_abundance_singles_df.loc[idx]['fitness']\n",
    "    \n",
    "    pos = lehner_abundance_singles_df.loc[idx]['Pos']-1\n",
    "    abundance_singles_transformed_df[mutant][pos] = value\n",
    "\n"
   ]
  },
  {
   "cell_type": "code",
   "execution_count": null,
   "metadata": {},
   "outputs": [],
   "source": [
    "fig, axs = plt.subplots(1,2,figsize=(8,4))\n",
    "\n",
    "ax = axs[0]\n",
    "Rsq = np.corrcoef(theta_lc_consensus_EE_df.fillna(0).values.ravel(),abundance_singles_transformed_df.fillna(0).values.ravel())[0,1]**2\n",
    "ax.scatter(theta_lc_consensus_EE_df.values.ravel(),abundance_singles_transformed_df.values.ravel(),s=3,alpha=0.3,color='blue')\n",
    "ax.set_xlabel(' $\\\\theta$ - exponential enrichment')\n",
    "ax.set_ylabel(' Abundance, singles - Lehner')\n",
    "ax.set_title(f'$R^2 = $ {Rsq:.3f}')\n",
    "\n",
    "ax = axs[1]\n",
    "Rsq = np.corrcoef(theta_lc_consensus_DM_df.fillna(0).values.ravel(),abundance_singles_transformed_df.fillna(0).values.ravel())[0,1]**2\n",
    "ax.scatter(theta_lc_consensus_DM_df.values.ravel(),abundance_singles_transformed_df.values.ravel(),s=3,alpha=0.3,color='blue')\n",
    "ax.set_xlabel(' $\\\\theta$ - discrete monotonic')\n",
    "ax.set_ylabel(' Abundance, singles - Lehner')\n",
    "ax.set_title(f'$R^2 = $ {Rsq:.3f}')\n",
    "\n",
    "fig.tight_layout()\n",
    "\n",
    "fig.savefig('plots/GRB2_SH3/GRB2_SH3.singles_abundance_comparison_to_Lehner.png',dpi=200,bbox_inches='tight')\n"
   ]
  },
  {
   "cell_type": "code",
   "execution_count": null,
   "metadata": {},
   "outputs": [],
   "source": [
    "# # Create fig and ax objects\n",
    "fig, ax = plt.subplots(figsize=[12,4])\n",
    "\n",
    "# Draw heatmap\n",
    "ax, cb = mavenn.heatmap(ax=ax,\n",
    "                        values=abundance_singles_transformed_df.values,\n",
    "                        alphabet=alphabet,\n",
    "                        seq=model_abundance_DM.x_stats['consensus_seq'],\n",
    "                        seq_kwargs={'c':'gray', 's':20,'marker':'o'},\n",
    "                        cmap='RdBu',\n",
    "                        cbar=True,\n",
    "                        #clim = [-5,1],\n",
    "                        cmap_size='2%',\n",
    "                        cmap_pad=.3,\n",
    "                        ccenter=0)\n",
    "\n",
    "# Style colorbar\n",
    "cb.set_label('Additive effect - WT gauge ($\\\\theta$)',\n",
    "             labelpad=10, ha='center', va='center', rotation=-90)\n",
    "cb.outline.set_visible(False)\n",
    "cb.ax.tick_params(direction='in', size=20, color='white')\n",
    "ax.set_title('Lehner - abundance')\n",
    "\n",
    "fig.savefig('plots/GRB2_SH3/Lehner_GP_map_abundance.png',dpi=300,bbox_inches='tight')"
   ]
  },
  {
   "cell_type": "code",
   "execution_count": null,
   "metadata": {},
   "outputs": [],
   "source": []
  }
 ],
 "metadata": {
  "kernelspec": {
   "display_name": "Python 3 (ipykernel)",
   "language": "python",
   "name": "python3"
  },
  "language_info": {
   "codemirror_mode": {
    "name": "ipython",
    "version": 3
   },
   "file_extension": ".py",
   "mimetype": "text/x-python",
   "name": "python",
   "nbconvert_exporter": "python",
   "pygments_lexer": "ipython3",
   "version": "3.9.7"
  }
 },
 "nbformat": 4,
 "nbformat_minor": 2
}
