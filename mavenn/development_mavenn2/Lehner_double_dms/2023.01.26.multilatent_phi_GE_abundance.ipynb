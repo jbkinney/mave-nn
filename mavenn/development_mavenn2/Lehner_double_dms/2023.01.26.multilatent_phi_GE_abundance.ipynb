{
 "cells": [
  {
   "cell_type": "code",
   "execution_count": 1,
   "metadata": {},
   "outputs": [],
   "source": [
    "import numpy as np\n",
    "import pandas as pd\n",
    "import matplotlib.pyplot as plt\n",
    "import sys\n",
    "sys.path.insert(0, '/Users/tareen/Desktop/Research_Projects/2022_mavenn2_github/mavenn')\n",
    "\n",
    "import mavenn\n",
    "import logomaker\n",
    "import seaborn as sns\n",
    "import re\n",
    "\n",
    "%matplotlib inline"
   ]
  },
  {
   "cell_type": "code",
   "execution_count": 2,
   "metadata": {},
   "outputs": [
    {
     "name": "stderr",
     "output_type": "stream",
     "text": [
      "/Library/Frameworks/Python.framework/Versions/3.9/lib/python3.9/site-packages/IPython/core/interactiveshell.py:3457: DtypeWarning: Columns (6) have mixed types.Specify dtype option on import or set low_memory=False.\n",
      "  exec(code_obj, self.user_global_ns, self.user_ns)\n"
     ]
    }
   ],
   "source": [
    "binding_df_full = pd.read_csv('data/GRB2-SH3.binding.csv')\n",
    "binding_df = binding_df_full[['aa_seq','count_e1_s0','count_e1_s1']].dropna().reset_index(drop=True).copy()"
   ]
  },
  {
   "cell_type": "code",
   "execution_count": 3,
   "metadata": {},
   "outputs": [],
   "source": [
    "abundance_df_full = pd.read_csv('data/GRB2-SH3.abundance.csv')\n",
    "abundance_df = abundance_df_full[['aa_seq','count_e1_s0','count_e1_s1']].dropna().reset_index(drop=True).copy()"
   ]
  },
  {
   "cell_type": "code",
   "execution_count": 4,
   "metadata": {},
   "outputs": [],
   "source": [
    "data_df = binding_df.copy()\n",
    "y_cols = data_df.columns[1:] "
   ]
  },
  {
   "cell_type": "code",
   "execution_count": 5,
   "metadata": {},
   "outputs": [],
   "source": [
    "X = data_df['aa_seq']\n",
    "y = data_df[y_cols]"
   ]
  },
  {
   "cell_type": "code",
   "execution_count": 6,
   "metadata": {},
   "outputs": [
    {
     "name": "stdout",
     "output_type": "stream",
     "text": [
      "L=57, Y=2\n"
     ]
    }
   ],
   "source": [
    "# set positional argumnets for gpmap function\n",
    "L = len(data_df['aa_seq'][0])\n",
    "alphabet=['A', 'C', 'D', 'E', 'F',\n",
    "          'G', 'H', 'I', 'K', 'L',\n",
    "          'M', 'N', 'P', 'Q', 'R',\n",
    "          'S', 'T', 'V', 'W', 'Y', '*']\n",
    "\n",
    "\n",
    "Y = len(y_cols)\n",
    "print(f'L={L}, Y={Y}')"
   ]
  },
  {
   "cell_type": "code",
   "execution_count": 7,
   "metadata": {},
   "outputs": [],
   "source": [
    "data_df_GE = abundance_df_full[['aa_seq','fitness']].copy()"
   ]
  },
  {
   "cell_type": "code",
   "execution_count": 8,
   "metadata": {},
   "outputs": [
    {
     "name": "stdout",
     "output_type": "stream",
     "text": [
      "(69744, 33) (46388, 33)\n"
     ]
    }
   ],
   "source": [
    "print(abundance_df_full.shape, binding_df_full.shape)"
   ]
  },
  {
   "cell_type": "code",
   "execution_count": 9,
   "metadata": {},
   "outputs": [
    {
     "name": "stdout",
     "output_type": "stream",
     "text": [
      "2022.06.12.GRB2_SH3_abundance.ipynb\r\n",
      "2022.06.12.GRB2_SH3_binding.ipynb\r\n",
      "2022.06.15.GRB2_SH3_abundance_blackbox_gpmap.ipynb\r\n",
      "2022.06.15.GRB2_SH3_binding_blackbox_gpmap.ipynb\r\n",
      "2022.10.28.GRB2_SH3_abundance_customGPmap.ipynb\r\n",
      "2023.01.22.multilatent_phi_discrete_agnostic_binding.ipynb\r\n",
      "2023.01.26.multilatent_phi_GE_abundance.ipynb\r\n",
      "2023.01.26.multilatent_phi_GE_binding.ipynb\r\n",
      "3d_scatter_lehner.png\r\n",
      "abundance_lehner_GE.csv\r\n",
      "abundance_phi.txt\r\n",
      "binding_phi.txt\r\n",
      "\u001b[34mdata\u001b[m\u001b[m\r\n",
      "\u001b[34mplots\u001b[m\u001b[m\r\n",
      "same_seq_data.csv\r\n"
     ]
    }
   ],
   "source": [
    "!ls"
   ]
  },
  {
   "cell_type": "code",
   "execution_count": 10,
   "metadata": {},
   "outputs": [
    {
     "data": {
      "image/png": "[encoded data removed]",
      "text/plain": [
       "<Figure size 432x360 with 1 Axes>"
      ]
     },
     "metadata": {
      "needs_background": "light"
     },
     "output_type": "display_data"
    }
   ],
   "source": [
    "plt.figure(figsize=(6,5))\n",
    "plt.hist(abundance_df_full['fitness'],bins=20,color='blue',alpha=0.75,label='abundance')\n",
    "plt.hist(binding_df_full['fitness'],bins=20,color='orange',alpha=0.75,label='binding')\n",
    "plt.title('Histogram of binding and abundance fitness values')\n",
    "plt.legend()\n",
    "plt.xlabel('Fitness')\n",
    "plt.ylabel('Counts (histogram)')\n",
    "plt.savefig('plots/GRB2_SH3/histogram_of_fitness_data.png',dpi=200,bbox_inches='tight',facecolor='white')\n",
    "plt.show()"
   ]
  },
  {
   "cell_type": "code",
   "execution_count": 11,
   "metadata": {},
   "outputs": [],
   "source": [
    "#gpmapGE = mavenn.gpmap.AdditiveGPMapLayer(L, alphabet)\n",
    "\n",
    "number_latent_nodes = 2\n",
    "\n",
    "gpmapGE = mavenn.gpmap.Multi_AdditiveGPMapLayer(L=L, \n",
    "                                              alphabet=alphabet,\n",
    "                                              number_latent_nodes=number_latent_nodes)\n",
    "\n",
    "#gpmapGE = mavenn.gpmap.MultilayerPerceptronGPMap(L, alphabet)\n",
    "mp_GE = mavenn.measurement_process_layers.GlobalEpsistasisMP(K=50,\n",
    "                                                           monotonic=True,\n",
    "                                                           number_latent_nodes=number_latent_nodes,\n",
    "                                                           ge_heteroskedasticity_order=2,\n",
    "                                                           ge_noise_model_type='Gaussian')"
   ]
  },
  {
   "cell_type": "code",
   "execution_count": 12,
   "metadata": {},
   "outputs": [],
   "source": [
    "from sklearn.model_selection import train_test_split\n",
    "\n",
    "# split data into training and testing sets\n",
    "x_train_GE, x_test_GE, y_train_GE, y_test_GE = train_test_split(data_df_GE['aa_seq'].values, \n",
    "                                                                data_df_GE['fitness'].values, test_size=0.1)"
   ]
  },
  {
   "cell_type": "code",
   "execution_count": 13,
   "metadata": {},
   "outputs": [
    {
     "name": "stderr",
     "output_type": "stream",
     "text": [
      "2023-01-27 11:29:19.634481: I tensorflow/core/platform/cpu_feature_guard.cc:151] This TensorFlow binary is optimized with oneAPI Deep Neural Network Library (oneDNN) to use the following CPU instructions in performance-critical operations:  AVX2 FMA\n",
      "To enable them in other operations, rebuild TensorFlow with the appropriate compiler flags.\n"
     ]
    },
    {
     "name": "stdout",
     "output_type": "stream",
     "text": [
      "N = 62,769 observations set as training data.\n",
      "Using 20.2% for validation.\n",
      "Time to set data: 2.01 sec.\n"
     ]
    }
   ],
   "source": [
    "model_GE = mavenn.Model2(gpmap=gpmapGE,\n",
    "                      mp_list=[mp_GE])\n",
    "\n",
    "# Set training data\n",
    "model_GE.set_data(x=x_train_GE,\n",
    "               #y_list=[data_df['y'].values.reshape(-1,1)],\n",
    "               y_list=[y_train_GE.reshape(-1,1)],\n",
    "               shuffle=False)"
   ]
  },
  {
   "cell_type": "code",
   "execution_count": 14,
   "metadata": {},
   "outputs": [
    {
     "name": "stdout",
     "output_type": "stream",
     "text": [
      "Model: \"model\"\n",
      "__________________________________________________________________________________________________\n",
      " Layer (type)                   Output Shape         Param #     Connected to                     \n",
      "==================================================================================================\n",
      " Sequence_labels_input (InputLa  [(None, 1198)]      0           []                               \n",
      " yer)                                                                                             \n",
      "                                                                                                  \n",
      " Sequence_only (Lambda)         (None, 1197)         0           ['Sequence_labels_input[0][0]']  \n",
      "                                                                                                  \n",
      " multi__additive_gp_map_layer (  (None, 2)           2396        ['Sequence_only[0][0]']          \n",
      " Multi_AdditiveGPMapLayer)                                                                        \n",
      "                                                                                                  \n",
      " multi_latent_global_epistasis_  (None, 1)           201         ['multi__additive_gp_map_layer[0]\n",
      " layer (MultiLatentGlobalEpista                                  [0]']                            \n",
      " sisLayer)                                                                                        \n",
      "                                                                                                  \n",
      " Labels_input_0 (Lambda)        (None, 1)            0           ['Sequence_labels_input[0][0]']  \n",
      "                                                                                                  \n",
      " yhat_and_y_to_ll_0 (Concatenat  (None, 2)           0           ['multi_latent_global_epistasis_l\n",
      " e)                                                              ayer[0][0]',                     \n",
      "                                                                  'Labels_input_0[0][0]']         \n",
      "                                                                                                  \n",
      " gaussian_noise_model_layer (Ga  (None, 1)           3           ['yhat_and_y_to_ll_0[0][0]']     \n",
      " ussianNoiseModelLayer)                                                                           \n",
      "                                                                                                  \n",
      "==================================================================================================\n",
      "Total params: 2,600\n",
      "Trainable params: 2,600\n",
      "Non-trainable params: 0\n",
      "__________________________________________________________________________________________________\n"
     ]
    }
   ],
   "source": [
    "model_GE.model.summary()"
   ]
  },
  {
   "cell_type": "code",
   "execution_count": 15,
   "metadata": {
    "scrolled": false
   },
   "outputs": [
    {
     "name": "stdout",
     "output_type": "stream",
     "text": [
      "Epoch 1/300\n",
      "167/167 [==============================] - 2s 8ms/step - loss: 293.5610 - I_var: -0.8037 - val_loss: 258.3418 - val_I_var: -0.6404\n",
      "Epoch 2/300\n",
      "167/167 [==============================] - 2s 9ms/step - loss: 227.7629 - I_var: -0.4872 - val_loss: 190.6405 - val_I_var: -0.3131\n",
      "Epoch 3/300\n",
      "167/167 [==============================] - 1s 6ms/step - loss: 154.3719 - I_var: -0.1342 - val_loss: 122.6561 - val_I_var: 0.0156\n",
      "Epoch 4/300\n",
      "167/167 [==============================] - 1s 7ms/step - loss: 93.8230 - I_var: 0.1570 - val_loss: 72.4840 - val_I_var: 0.2578\n",
      "Epoch 5/300\n",
      "167/167 [==============================] - 1s 7ms/step - loss: 51.9539 - I_var: 0.3584 - val_loss: 40.0983 - val_I_var: 0.4142\n",
      "Epoch 6/300\n",
      "167/167 [==============================] - 1s 8ms/step - loss: 24.6676 - I_var: 0.4896 - val_loss: 21.5212 - val_I_var: 0.5043\n",
      "Epoch 7/300\n",
      "167/167 [==============================] - 1s 8ms/step - loss: 8.9753 - I_var: 0.5651 - val_loss: 14.4503 - val_I_var: 0.5390\n",
      "Epoch 8/300\n",
      "167/167 [==============================] - 1s 4ms/step - loss: 0.7758 - I_var: 0.6046 - val_loss: 7.5264 - val_I_var: 0.5725\n",
      "Epoch 9/300\n",
      "167/167 [==============================] - 1s 5ms/step - loss: -2.8558 - I_var: 0.6220 - val_loss: 5.6533 - val_I_var: 0.5817\n",
      "Epoch 10/300\n",
      "167/167 [==============================] - 1s 6ms/step - loss: -4.6732 - I_var: 0.6308 - val_loss: 4.3440 - val_I_var: 0.5880\n",
      "Epoch 11/300\n",
      "167/167 [==============================] - 1s 4ms/step - loss: -7.2259 - I_var: 0.6431 - val_loss: 2.7816 - val_I_var: 0.5956\n",
      "Epoch 12/300\n",
      "167/167 [==============================] - 1s 5ms/step - loss: -8.9710 - I_var: 0.6514 - val_loss: 3.1766 - val_I_var: 0.5940\n",
      "Epoch 13/300\n",
      "167/167 [==============================] - 1s 9ms/step - loss: -10.7751 - I_var: 0.6602 - val_loss: 0.8236 - val_I_var: 0.6054\n",
      "Epoch 14/300\n",
      "167/167 [==============================] - 1s 8ms/step - loss: -12.4365 - I_var: 0.6682 - val_loss: -1.1754 - val_I_var: 0.6149\n",
      "Epoch 15/300\n",
      "167/167 [==============================] - 1s 8ms/step - loss: -14.8735 - I_var: 0.6799 - val_loss: -0.8474 - val_I_var: 0.6134\n",
      "Epoch 16/300\n",
      "167/167 [==============================] - 1s 7ms/step - loss: -17.1209 - I_var: 0.6907 - val_loss: -3.6013 - val_I_var: 0.6263\n",
      "Epoch 17/300\n",
      "167/167 [==============================] - 1s 8ms/step - loss: -19.4521 - I_var: 0.7019 - val_loss: -8.4048 - val_I_var: 0.6496\n",
      "Epoch 18/300\n",
      "167/167 [==============================] - 1s 8ms/step - loss: -22.5576 - I_var: 0.7168 - val_loss: -11.2734 - val_I_var: 0.6636\n",
      "Epoch 19/300\n",
      "167/167 [==============================] - 1s 8ms/step - loss: -25.8532 - I_var: 0.7327 - val_loss: -14.9401 - val_I_var: 0.6812\n",
      "Epoch 20/300\n",
      "167/167 [==============================] - 2s 10ms/step - loss: -29.2531 - I_var: 0.7490 - val_loss: -18.0641 - val_I_var: 0.6962\n",
      "Epoch 21/300\n",
      "167/167 [==============================] - 1s 7ms/step - loss: -32.9221 - I_var: 0.7667 - val_loss: -20.4699 - val_I_var: 0.7077\n",
      "Epoch 22/300\n",
      "167/167 [==============================] - 1s 7ms/step - loss: -36.9442 - I_var: 0.7861 - val_loss: -24.6036 - val_I_var: 0.7277\n",
      "Epoch 23/300\n",
      "167/167 [==============================] - 1s 6ms/step - loss: -41.0249 - I_var: 0.8057 - val_loss: -30.1533 - val_I_var: 0.7544\n",
      "Epoch 24/300\n",
      "167/167 [==============================] - 1s 4ms/step - loss: -45.0623 - I_var: 0.8251 - val_loss: -34.5474 - val_I_var: 0.7756\n",
      "Epoch 25/300\n",
      "167/167 [==============================] - 1s 5ms/step - loss: -48.9766 - I_var: 0.8440 - val_loss: -37.2927 - val_I_var: 0.7887\n",
      "Epoch 26/300\n",
      "167/167 [==============================] - 1s 4ms/step - loss: -53.1683 - I_var: 0.8642 - val_loss: -41.5562 - val_I_var: 0.8092\n",
      "Epoch 27/300\n",
      "167/167 [==============================] - 1s 5ms/step - loss: -56.4489 - I_var: 0.8799 - val_loss: -45.4337 - val_I_var: 0.8278\n",
      "Epoch 28/300\n",
      "167/167 [==============================] - 1s 4ms/step - loss: -59.2355 - I_var: 0.8933 - val_loss: -48.8973 - val_I_var: 0.8444\n",
      "Epoch 29/300\n",
      "167/167 [==============================] - 1s 4ms/step - loss: -62.5004 - I_var: 0.9091 - val_loss: -51.4280 - val_I_var: 0.8566\n",
      "Epoch 30/300\n",
      "167/167 [==============================] - 1s 4ms/step - loss: -64.9459 - I_var: 0.9208 - val_loss: -53.4572 - val_I_var: 0.8663\n",
      "Epoch 31/300\n",
      "167/167 [==============================] - 1s 4ms/step - loss: -66.9077 - I_var: 0.9303 - val_loss: -54.6621 - val_I_var: 0.8721\n",
      "Epoch 32/300\n",
      "167/167 [==============================] - 1s 4ms/step - loss: -69.5496 - I_var: 0.9430 - val_loss: -58.3271 - val_I_var: 0.8897\n",
      "Epoch 33/300\n",
      "167/167 [==============================] - 1s 4ms/step - loss: -71.0432 - I_var: 0.9501 - val_loss: -59.9685 - val_I_var: 0.8976\n",
      "Epoch 34/300\n",
      "167/167 [==============================] - 1s 4ms/step - loss: -72.7645 - I_var: 0.9584 - val_loss: -61.1739 - val_I_var: 0.9033\n",
      "Epoch 35/300\n",
      "167/167 [==============================] - 1s 5ms/step - loss: -73.6102 - I_var: 0.9625 - val_loss: -61.9829 - val_I_var: 0.9074\n",
      "Epoch 36/300\n",
      "167/167 [==============================] - 1s 4ms/step - loss: -75.4404 - I_var: 0.9713 - val_loss: -62.5248 - val_I_var: 0.9100\n",
      "Epoch 37/300\n",
      "167/167 [==============================] - 1s 4ms/step - loss: -76.7103 - I_var: 0.9774 - val_loss: -65.3287 - val_I_var: 0.9233\n",
      "Epoch 38/300\n",
      "167/167 [==============================] - 1s 4ms/step - loss: -77.4793 - I_var: 0.9811 - val_loss: -65.0140 - val_I_var: 0.9219\n",
      "Epoch 39/300\n",
      "167/167 [==============================] - 1s 4ms/step - loss: -78.3655 - I_var: 0.9854 - val_loss: -67.1092 - val_I_var: 0.9321\n",
      "Epoch 40/300\n",
      "167/167 [==============================] - 1s 4ms/step - loss: -79.3775 - I_var: 0.9903 - val_loss: -68.8061 - val_I_var: 0.9404\n",
      "Epoch 41/300\n",
      "167/167 [==============================] - 1s 4ms/step - loss: -80.4267 - I_var: 0.9953 - val_loss: -68.7145 - val_I_var: 0.9397\n",
      "Epoch 42/300\n",
      "167/167 [==============================] - 1s 4ms/step - loss: -81.1869 - I_var: 0.9990 - val_loss: -70.2722 - val_I_var: 0.9473\n",
      "Epoch 43/300\n",
      "167/167 [==============================] - 1s 4ms/step - loss: -82.4587 - I_var: 1.0051 - val_loss: -71.5906 - val_I_var: 0.9537\n",
      "Epoch 44/300\n",
      "167/167 [==============================] - 1s 4ms/step - loss: -82.8059 - I_var: 1.0068 - val_loss: -70.5830 - val_I_var: 0.9486\n",
      "Epoch 45/300\n",
      "167/167 [==============================] - 1s 4ms/step - loss: -83.2303 - I_var: 1.0088 - val_loss: -71.4092 - val_I_var: 0.9530\n",
      "Epoch 46/300\n",
      "167/167 [==============================] - 1s 4ms/step - loss: -84.4789 - I_var: 1.0149 - val_loss: -73.3410 - val_I_var: 0.9622\n",
      "Epoch 47/300\n",
      "167/167 [==============================] - 1s 4ms/step - loss: -84.8930 - I_var: 1.0168 - val_loss: -74.1129 - val_I_var: 0.9659\n",
      "Epoch 48/300\n",
      "167/167 [==============================] - 1s 4ms/step - loss: -85.8408 - I_var: 1.0214 - val_loss: -74.8874 - val_I_var: 0.9699\n",
      "Epoch 49/300\n",
      "167/167 [==============================] - 1s 4ms/step - loss: -85.4499 - I_var: 1.0196 - val_loss: -74.3864 - val_I_var: 0.9672\n",
      "Epoch 50/300\n",
      "167/167 [==============================] - 1s 4ms/step - loss: -86.5797 - I_var: 1.0250 - val_loss: -73.1869 - val_I_var: 0.9613\n",
      "Epoch 51/300\n",
      "167/167 [==============================] - 1s 4ms/step - loss: -87.0668 - I_var: 1.0273 - val_loss: -71.6759 - val_I_var: 0.9540\n",
      "Epoch 52/300\n",
      "167/167 [==============================] - 1s 4ms/step - loss: -87.6686 - I_var: 1.0302 - val_loss: -77.6218 - val_I_var: 0.9832\n",
      "Epoch 53/300\n",
      "167/167 [==============================] - 1s 4ms/step - loss: -88.1865 - I_var: 1.0327 - val_loss: -78.0760 - val_I_var: 0.9852\n",
      "Epoch 54/300\n",
      "167/167 [==============================] - 1s 4ms/step - loss: -88.6569 - I_var: 1.0350 - val_loss: -78.2929 - val_I_var: 0.9862\n",
      "Epoch 55/300\n",
      "167/167 [==============================] - 1s 4ms/step - loss: -89.0393 - I_var: 1.0369 - val_loss: -78.3612 - val_I_var: 0.9866\n",
      "Epoch 56/300\n",
      "167/167 [==============================] - 1s 4ms/step - loss: -89.7095 - I_var: 1.0401 - val_loss: -79.4078 - val_I_var: 0.9918\n",
      "Epoch 57/300\n",
      "167/167 [==============================] - 1s 4ms/step - loss: -90.2827 - I_var: 1.0429 - val_loss: -78.9146 - val_I_var: 0.9892\n",
      "Epoch 58/300\n",
      "167/167 [==============================] - 1s 4ms/step - loss: -89.9420 - I_var: 1.0412 - val_loss: -78.8311 - val_I_var: 0.9888\n"
     ]
    },
    {
     "name": "stdout",
     "output_type": "stream",
     "text": [
      "Epoch 59/300\n",
      "167/167 [==============================] - 1s 5ms/step - loss: -90.6245 - I_var: 1.0445 - val_loss: -80.0002 - val_I_var: 0.9945\n",
      "Epoch 60/300\n",
      "167/167 [==============================] - 1s 6ms/step - loss: -90.9509 - I_var: 1.0461 - val_loss: -80.9688 - val_I_var: 0.9993\n",
      "Epoch 61/300\n",
      "167/167 [==============================] - 1s 6ms/step - loss: -91.5961 - I_var: 1.0492 - val_loss: -80.7744 - val_I_var: 0.9982\n",
      "Epoch 62/300\n",
      "167/167 [==============================] - 1s 5ms/step - loss: -91.9291 - I_var: 1.0508 - val_loss: -81.6236 - val_I_var: 1.0027\n",
      "Epoch 63/300\n",
      "167/167 [==============================] - 1s 4ms/step - loss: -92.3268 - I_var: 1.0528 - val_loss: -82.1689 - val_I_var: 1.0053\n",
      "Epoch 64/300\n",
      "167/167 [==============================] - 1s 5ms/step - loss: -92.0056 - I_var: 1.0512 - val_loss: -81.8064 - val_I_var: 1.0035\n",
      "Epoch 65/300\n",
      "167/167 [==============================] - 1s 6ms/step - loss: -92.6738 - I_var: 1.0544 - val_loss: -82.9817 - val_I_var: 1.0092\n",
      "Epoch 66/300\n",
      "167/167 [==============================] - 1s 5ms/step - loss: -93.1471 - I_var: 1.0567 - val_loss: -82.9284 - val_I_var: 1.0090\n",
      "Epoch 67/300\n",
      "167/167 [==============================] - 1s 5ms/step - loss: -94.0244 - I_var: 1.0609 - val_loss: -83.1620 - val_I_var: 1.0101\n",
      "Epoch 68/300\n",
      "167/167 [==============================] - 1s 4ms/step - loss: -93.8335 - I_var: 1.0600 - val_loss: -84.0480 - val_I_var: 1.0144\n",
      "Epoch 69/300\n",
      "167/167 [==============================] - 1s 5ms/step - loss: -94.0574 - I_var: 1.0611 - val_loss: -84.2656 - val_I_var: 1.0155\n",
      "Epoch 70/300\n",
      "167/167 [==============================] - 1s 5ms/step - loss: -94.4190 - I_var: 1.0628 - val_loss: -84.5007 - val_I_var: 1.0164\n",
      "Epoch 71/300\n",
      "167/167 [==============================] - 1s 5ms/step - loss: -94.9410 - I_var: 1.0654 - val_loss: -84.7378 - val_I_var: 1.0176\n",
      "Epoch 72/300\n",
      "167/167 [==============================] - 1s 4ms/step - loss: -95.0750 - I_var: 1.0660 - val_loss: -85.2980 - val_I_var: 1.0204\n",
      "Epoch 73/300\n",
      "167/167 [==============================] - 1s 4ms/step - loss: -95.5811 - I_var: 1.0684 - val_loss: -84.0083 - val_I_var: 1.0140\n",
      "Epoch 74/300\n",
      "167/167 [==============================] - 1s 5ms/step - loss: -95.7191 - I_var: 1.0691 - val_loss: -85.9816 - val_I_var: 1.0238\n",
      "Epoch 75/300\n",
      "167/167 [==============================] - 1s 4ms/step - loss: -96.0690 - I_var: 1.0708 - val_loss: -86.2778 - val_I_var: 1.0252\n",
      "Epoch 76/300\n",
      "167/167 [==============================] - 1s 4ms/step - loss: -96.4956 - I_var: 1.0728 - val_loss: -86.4366 - val_I_var: 1.0261\n",
      "Epoch 77/300\n",
      "167/167 [==============================] - 1s 4ms/step - loss: -97.1483 - I_var: 1.0760 - val_loss: -86.9006 - val_I_var: 1.0284\n",
      "Epoch 78/300\n",
      "167/167 [==============================] - 1s 4ms/step - loss: -97.0837 - I_var: 1.0757 - val_loss: -85.1805 - val_I_var: 1.0198\n",
      "Epoch 79/300\n",
      "167/167 [==============================] - 1s 5ms/step - loss: -97.8158 - I_var: 1.0792 - val_loss: -87.5476 - val_I_var: 1.0313\n",
      "Epoch 80/300\n",
      "167/167 [==============================] - 1s 5ms/step - loss: -98.1571 - I_var: 1.0809 - val_loss: -87.6089 - val_I_var: 1.0317\n",
      "Epoch 81/300\n",
      "167/167 [==============================] - 1s 4ms/step - loss: -98.6855 - I_var: 1.0834 - val_loss: -87.1713 - val_I_var: 1.0298\n",
      "Epoch 82/300\n",
      "167/167 [==============================] - 1s 4ms/step - loss: -98.5495 - I_var: 1.0828 - val_loss: -87.9474 - val_I_var: 1.0337\n",
      "Epoch 83/300\n",
      "167/167 [==============================] - 1s 5ms/step - loss: -99.2345 - I_var: 1.0861 - val_loss: -89.1412 - val_I_var: 1.0393\n",
      "Epoch 84/300\n",
      "167/167 [==============================] - 1s 4ms/step - loss: -99.5290 - I_var: 1.0875 - val_loss: -89.2636 - val_I_var: 1.0398\n",
      "Epoch 85/300\n",
      "167/167 [==============================] - 1s 4ms/step - loss: -99.9556 - I_var: 1.0896 - val_loss: -89.5486 - val_I_var: 1.0412\n",
      "Epoch 86/300\n",
      "167/167 [==============================] - 1s 4ms/step - loss: -99.5676 - I_var: 1.0877 - val_loss: -89.8892 - val_I_var: 1.0428\n",
      "Epoch 87/300\n",
      "167/167 [==============================] - 1s 4ms/step - loss: -100.4871 - I_var: 1.0921 - val_loss: -90.6427 - val_I_var: 1.0466\n",
      "Epoch 88/300\n",
      "167/167 [==============================] - 1s 4ms/step - loss: -100.4512 - I_var: 1.0919 - val_loss: -90.0833 - val_I_var: 1.0439\n",
      "Epoch 89/300\n",
      "167/167 [==============================] - 1s 4ms/step - loss: -101.8932 - I_var: 1.0989 - val_loss: -90.9390 - val_I_var: 1.0481\n",
      "Epoch 90/300\n",
      "167/167 [==============================] - 1s 4ms/step - loss: -102.2465 - I_var: 1.1006 - val_loss: -91.5282 - val_I_var: 1.0510\n",
      "Epoch 91/300\n",
      "167/167 [==============================] - 1s 5ms/step - loss: -102.6537 - I_var: 1.1026 - val_loss: -88.6382 - val_I_var: 1.0368\n",
      "Epoch 92/300\n",
      "167/167 [==============================] - 1s 5ms/step - loss: -103.1036 - I_var: 1.1047 - val_loss: -87.2925 - val_I_var: 1.0303\n",
      "Epoch 93/300\n",
      "167/167 [==============================] - 1s 5ms/step - loss: -103.2785 - I_var: 1.1056 - val_loss: -92.2166 - val_I_var: 1.0544\n",
      "Epoch 94/300\n",
      "167/167 [==============================] - 1s 5ms/step - loss: -103.6683 - I_var: 1.1075 - val_loss: -92.3293 - val_I_var: 1.0552\n",
      "Epoch 95/300\n",
      "167/167 [==============================] - 1s 4ms/step - loss: -104.7351 - I_var: 1.1126 - val_loss: -92.1176 - val_I_var: 1.0542\n",
      "Epoch 96/300\n",
      "167/167 [==============================] - 1s 4ms/step - loss: -105.3608 - I_var: 1.1156 - val_loss: -92.1292 - val_I_var: 1.0539\n",
      "Epoch 97/300\n",
      "167/167 [==============================] - 1s 4ms/step - loss: -105.6684 - I_var: 1.1171 - val_loss: -94.3162 - val_I_var: 1.0649\n",
      "Epoch 98/300\n",
      "167/167 [==============================] - 1s 4ms/step - loss: -106.3082 - I_var: 1.1201 - val_loss: -93.8822 - val_I_var: 1.0627\n",
      "Epoch 99/300\n",
      "167/167 [==============================] - 1s 4ms/step - loss: -106.5682 - I_var: 1.1214 - val_loss: -94.8918 - val_I_var: 1.0678\n",
      "Epoch 100/300\n",
      "167/167 [==============================] - 1s 4ms/step - loss: -106.5713 - I_var: 1.1215 - val_loss: -95.1684 - val_I_var: 1.0694\n",
      "Epoch 101/300\n",
      "167/167 [==============================] - 1s 4ms/step - loss: -107.4328 - I_var: 1.1256 - val_loss: -95.4596 - val_I_var: 1.0706\n",
      "Epoch 102/300\n",
      "167/167 [==============================] - 1s 4ms/step - loss: -108.2344 - I_var: 1.1295 - val_loss: -96.1712 - val_I_var: 1.0741\n",
      "Epoch 103/300\n",
      "167/167 [==============================] - 1s 4ms/step - loss: -108.4600 - I_var: 1.1306 - val_loss: -95.7531 - val_I_var: 1.0723\n",
      "Epoch 104/300\n",
      "167/167 [==============================] - 1s 5ms/step - loss: -109.5121 - I_var: 1.1357 - val_loss: -95.8224 - val_I_var: 1.0728\n",
      "Epoch 105/300\n",
      "167/167 [==============================] - 1s 5ms/step - loss: -109.2652 - I_var: 1.1345 - val_loss: -97.2252 - val_I_var: 1.0795\n",
      "Epoch 106/300\n",
      "167/167 [==============================] - 1s 4ms/step - loss: -110.2375 - I_var: 1.1392 - val_loss: -97.6825 - val_I_var: 1.0820\n",
      "Epoch 107/300\n",
      "167/167 [==============================] - 1s 4ms/step - loss: -111.0727 - I_var: 1.1432 - val_loss: -98.3858 - val_I_var: 1.0854\n",
      "Epoch 108/300\n",
      "167/167 [==============================] - 1s 4ms/step - loss: -111.4201 - I_var: 1.1449 - val_loss: -97.9269 - val_I_var: 1.0831\n",
      "Epoch 109/300\n",
      "167/167 [==============================] - 1s 4ms/step - loss: -111.2707 - I_var: 1.1441 - val_loss: -97.6168 - val_I_var: 1.0817\n",
      "Epoch 110/300\n",
      "167/167 [==============================] - 1s 4ms/step - loss: -112.4156 - I_var: 1.1497 - val_loss: -98.5647 - val_I_var: 1.0863\n",
      "Epoch 111/300\n",
      "167/167 [==============================] - 1s 4ms/step - loss: -112.3636 - I_var: 1.1494 - val_loss: -99.5814 - val_I_var: 1.0914\n",
      "Epoch 112/300\n",
      "167/167 [==============================] - 1s 4ms/step - loss: -113.4450 - I_var: 1.1546 - val_loss: -99.8265 - val_I_var: 1.0927\n",
      "Epoch 113/300\n",
      "167/167 [==============================] - 1s 4ms/step - loss: -113.5675 - I_var: 1.1552 - val_loss: -98.9011 - val_I_var: 1.0885\n",
      "Epoch 114/300\n",
      "167/167 [==============================] - 1s 4ms/step - loss: -114.2687 - I_var: 1.1586 - val_loss: -98.6665 - val_I_var: 1.0875\n",
      "Epoch 115/300\n",
      "167/167 [==============================] - 1s 4ms/step - loss: -114.9923 - I_var: 1.1621 - val_loss: -101.1665 - val_I_var: 1.0996\n",
      "Epoch 116/300\n"
     ]
    },
    {
     "name": "stdout",
     "output_type": "stream",
     "text": [
      "167/167 [==============================] - 1s 4ms/step - loss: -115.1988 - I_var: 1.1631 - val_loss: -101.3295 - val_I_var: 1.1005\n",
      "Epoch 117/300\n",
      "167/167 [==============================] - 1s 5ms/step - loss: -115.1235 - I_var: 1.1627 - val_loss: -101.8737 - val_I_var: 1.1032\n",
      "Epoch 118/300\n",
      "167/167 [==============================] - 1s 4ms/step - loss: -116.2617 - I_var: 1.1682 - val_loss: -102.1414 - val_I_var: 1.1045\n",
      "Epoch 119/300\n",
      "167/167 [==============================] - 1s 4ms/step - loss: -116.8335 - I_var: 1.1710 - val_loss: -101.6442 - val_I_var: 1.1023\n",
      "Epoch 120/300\n",
      "167/167 [==============================] - 1s 4ms/step - loss: -116.7404 - I_var: 1.1705 - val_loss: -102.8440 - val_I_var: 1.1081\n",
      "Epoch 121/300\n",
      "167/167 [==============================] - 1s 4ms/step - loss: -117.4431 - I_var: 1.1739 - val_loss: -103.5349 - val_I_var: 1.1116\n",
      "Epoch 122/300\n",
      "167/167 [==============================] - 1s 4ms/step - loss: -118.1646 - I_var: 1.1774 - val_loss: -103.1797 - val_I_var: 1.1100\n",
      "Epoch 123/300\n",
      "167/167 [==============================] - 1s 4ms/step - loss: -118.4664 - I_var: 1.1788 - val_loss: -103.8926 - val_I_var: 1.1135\n",
      "Epoch 124/300\n",
      "167/167 [==============================] - 1s 5ms/step - loss: -118.9281 - I_var: 1.1810 - val_loss: -104.4949 - val_I_var: 1.1164\n",
      "Epoch 125/300\n",
      "167/167 [==============================] - 1s 4ms/step - loss: -118.9121 - I_var: 1.1810 - val_loss: -104.3415 - val_I_var: 1.1156\n",
      "Epoch 126/300\n",
      "167/167 [==============================] - 1s 4ms/step - loss: -120.0088 - I_var: 1.1863 - val_loss: -103.6689 - val_I_var: 1.1124\n",
      "Epoch 127/300\n",
      "167/167 [==============================] - 1s 4ms/step - loss: -120.0985 - I_var: 1.1867 - val_loss: -105.0230 - val_I_var: 1.1192\n",
      "Epoch 128/300\n",
      "167/167 [==============================] - 1s 4ms/step - loss: -120.5001 - I_var: 1.1887 - val_loss: -103.3585 - val_I_var: 1.1114\n",
      "Epoch 129/300\n",
      "167/167 [==============================] - 1s 4ms/step - loss: -120.7794 - I_var: 1.1900 - val_loss: -105.0041 - val_I_var: 1.1193\n",
      "Epoch 130/300\n",
      "167/167 [==============================] - 1s 4ms/step - loss: -121.2197 - I_var: 1.1921 - val_loss: -105.3133 - val_I_var: 1.1209\n",
      "Epoch 131/300\n",
      "167/167 [==============================] - 1s 4ms/step - loss: -121.7703 - I_var: 1.1948 - val_loss: -105.7152 - val_I_var: 1.1228\n",
      "Epoch 132/300\n",
      "167/167 [==============================] - 1s 4ms/step - loss: -121.9156 - I_var: 1.1955 - val_loss: -106.4401 - val_I_var: 1.1263\n",
      "Epoch 133/300\n",
      "167/167 [==============================] - 1s 4ms/step - loss: -122.5221 - I_var: 1.1984 - val_loss: -106.6967 - val_I_var: 1.1276\n",
      "Epoch 134/300\n",
      "167/167 [==============================] - 1s 4ms/step - loss: -122.8141 - I_var: 1.1998 - val_loss: -103.6311 - val_I_var: 1.1127\n",
      "Epoch 135/300\n",
      "167/167 [==============================] - 1s 4ms/step - loss: -122.6711 - I_var: 1.1991 - val_loss: -107.1424 - val_I_var: 1.1299\n",
      "Epoch 136/300\n",
      "167/167 [==============================] - 1s 4ms/step - loss: -123.3428 - I_var: 1.2024 - val_loss: -106.2607 - val_I_var: 1.1257\n",
      "Epoch 137/300\n",
      "167/167 [==============================] - 1s 4ms/step - loss: -123.8672 - I_var: 1.2049 - val_loss: -107.7629 - val_I_var: 1.1329\n",
      "Epoch 138/300\n",
      "167/167 [==============================] - 1s 5ms/step - loss: -123.8381 - I_var: 1.2047 - val_loss: -107.8524 - val_I_var: 1.1335\n",
      "Epoch 139/300\n",
      "167/167 [==============================] - 1s 4ms/step - loss: -124.5066 - I_var: 1.2080 - val_loss: -108.0494 - val_I_var: 1.1345\n",
      "Epoch 140/300\n",
      "167/167 [==============================] - 1s 5ms/step - loss: -124.6583 - I_var: 1.2087 - val_loss: -108.4859 - val_I_var: 1.1366\n",
      "Epoch 141/300\n",
      "167/167 [==============================] - 1s 6ms/step - loss: -125.1832 - I_var: 1.2113 - val_loss: -108.5214 - val_I_var: 1.1368\n",
      "Epoch 142/300\n",
      "167/167 [==============================] - 1s 5ms/step - loss: -124.8399 - I_var: 1.2096 - val_loss: -108.9714 - val_I_var: 1.1388\n",
      "Epoch 143/300\n",
      "167/167 [==============================] - 1s 6ms/step - loss: -125.3699 - I_var: 1.2122 - val_loss: -106.4346 - val_I_var: 1.1267\n",
      "Epoch 144/300\n",
      "167/167 [==============================] - 1s 5ms/step - loss: -125.4587 - I_var: 1.2126 - val_loss: -103.0629 - val_I_var: 1.1107\n",
      "Epoch 145/300\n",
      "167/167 [==============================] - 1s 6ms/step - loss: -126.1932 - I_var: 1.2161 - val_loss: -108.7489 - val_I_var: 1.1381\n",
      "Epoch 146/300\n",
      "167/167 [==============================] - 1s 5ms/step - loss: -126.1035 - I_var: 1.2157 - val_loss: -108.8862 - val_I_var: 1.1388\n",
      "Epoch 147/300\n",
      "167/167 [==============================] - 1s 5ms/step - loss: -127.0921 - I_var: 1.2205 - val_loss: -109.0050 - val_I_var: 1.1393\n",
      "Epoch 148/300\n",
      "167/167 [==============================] - 1s 5ms/step - loss: -127.0051 - I_var: 1.2200 - val_loss: -109.2874 - val_I_var: 1.1406\n",
      "Epoch 149/300\n",
      "167/167 [==============================] - 1s 6ms/step - loss: -127.2884 - I_var: 1.2214 - val_loss: -104.0548 - val_I_var: 1.1153\n",
      "Epoch 150/300\n",
      "167/167 [==============================] - 1s 8ms/step - loss: -127.4295 - I_var: 1.2221 - val_loss: -108.1284 - val_I_var: 1.1354\n",
      "Epoch 151/300\n",
      "167/167 [==============================] - 1s 7ms/step - loss: -127.6709 - I_var: 1.2233 - val_loss: -110.0965 - val_I_var: 1.1447\n",
      "Epoch 152/300\n",
      "167/167 [==============================] - 1s 7ms/step - loss: -127.6906 - I_var: 1.2233 - val_loss: -109.8694 - val_I_var: 1.1436\n",
      "Epoch 153/300\n",
      "167/167 [==============================] - 1s 7ms/step - loss: -127.9872 - I_var: 1.2248 - val_loss: -108.8658 - val_I_var: 1.1386\n",
      "Epoch 154/300\n",
      "167/167 [==============================] - 1s 6ms/step - loss: -127.8683 - I_var: 1.2242 - val_loss: -110.7994 - val_I_var: 1.1481\n",
      "Epoch 155/300\n",
      "167/167 [==============================] - 1s 7ms/step - loss: -128.3652 - I_var: 1.2266 - val_loss: -108.7870 - val_I_var: 1.1385\n",
      "Epoch 156/300\n",
      "167/167 [==============================] - 1s 7ms/step - loss: -128.4339 - I_var: 1.2269 - val_loss: -110.2028 - val_I_var: 1.1454\n",
      "Epoch 157/300\n",
      "167/167 [==============================] - 1s 8ms/step - loss: -128.9016 - I_var: 1.2292 - val_loss: -109.5082 - val_I_var: 1.1421\n",
      "Epoch 158/300\n",
      "167/167 [==============================] - 1s 8ms/step - loss: -129.4566 - I_var: 1.2319 - val_loss: -111.0558 - val_I_var: 1.1494\n",
      "Epoch 159/300\n",
      "167/167 [==============================] - 1s 8ms/step - loss: -129.4656 - I_var: 1.2319 - val_loss: -111.7096 - val_I_var: 1.1525\n",
      "Epoch 160/300\n",
      "167/167 [==============================] - 1s 6ms/step - loss: -129.4760 - I_var: 1.2320 - val_loss: -111.1315 - val_I_var: 1.1498\n",
      "Epoch 161/300\n",
      "167/167 [==============================] - 1s 6ms/step - loss: -129.5410 - I_var: 1.2323 - val_loss: -109.1043 - val_I_var: 1.1401\n",
      "Epoch 162/300\n",
      "167/167 [==============================] - 1s 6ms/step - loss: -129.4686 - I_var: 1.2320 - val_loss: -111.0751 - val_I_var: 1.1497\n",
      "Epoch 163/300\n",
      "167/167 [==============================] - 1s 7ms/step - loss: -129.5495 - I_var: 1.2323 - val_loss: -111.4998 - val_I_var: 1.1516\n",
      "Epoch 164/300\n",
      "167/167 [==============================] - 1s 5ms/step - loss: -129.6211 - I_var: 1.2327 - val_loss: -104.8573 - val_I_var: 1.1198\n",
      "Epoch 165/300\n",
      "167/167 [==============================] - ETA: 0s - loss: -128.9731 - I_var: 1.2295 ETA: 0s - l - 1s 6ms/step - loss: -129.0093 - I_var: 1.2298 - val_loss: -111.0363 - val_I_var: 1.1494\n",
      "Epoch 166/300\n",
      "167/167 [==============================] - 1s 7ms/step - loss: -130.3905 - I_var: 1.2364 - val_loss: -109.1912 - val_I_var: 1.1406\n",
      "Epoch 167/300\n",
      "167/167 [==============================] - 1s 5ms/step - loss: -130.6816 - I_var: 1.2378 - val_loss: -112.0837 - val_I_var: 1.1544\n",
      "Epoch 168/300\n",
      "167/167 [==============================] - 1s 5ms/step - loss: -130.7632 - I_var: 1.2382 - val_loss: -112.1891 - val_I_var: 1.1551\n",
      "Epoch 169/300\n",
      "167/167 [==============================] - 1s 6ms/step - loss: -130.4709 - I_var: 1.2368 - val_loss: -110.2013 - val_I_var: 1.1454\n",
      "Epoch 170/300\n",
      "167/167 [==============================] - 1s 6ms/step - loss: -130.5660 - I_var: 1.2373 - val_loss: -110.0060 - val_I_var: 1.1444\n",
      "Epoch 171/300\n",
      "167/167 [==============================] - 1s 8ms/step - loss: -130.0052 - I_var: 1.2346 - val_loss: -111.5107 - val_I_var: 1.1517\n",
      "Epoch 172/300\n"
     ]
    },
    {
     "name": "stdout",
     "output_type": "stream",
     "text": [
      "167/167 [==============================] - 2s 9ms/step - loss: -130.9616 - I_var: 1.2392 - val_loss: -113.1285 - val_I_var: 1.1596\n",
      "Epoch 173/300\n",
      "167/167 [==============================] - 1s 6ms/step - loss: -131.3542 - I_var: 1.2411 - val_loss: -112.8370 - val_I_var: 1.1581\n",
      "Epoch 174/300\n",
      "167/167 [==============================] - 1s 7ms/step - loss: -131.4020 - I_var: 1.2413 - val_loss: -113.2152 - val_I_var: 1.1599\n",
      "Epoch 175/300\n",
      "167/167 [==============================] - 2s 9ms/step - loss: -131.0757 - I_var: 1.2397 - val_loss: -112.9078 - val_I_var: 1.1585\n",
      "Epoch 176/300\n",
      "167/167 [==============================] - 1s 8ms/step - loss: -131.3864 - I_var: 1.2412 - val_loss: -111.1475 - val_I_var: 1.1499\n",
      "Epoch 177/300\n",
      "167/167 [==============================] - 1s 8ms/step - loss: -131.7121 - I_var: 1.2428 - val_loss: -112.9204 - val_I_var: 1.1586\n",
      "Epoch 178/300\n",
      "167/167 [==============================] - 1s 8ms/step - loss: -131.4761 - I_var: 1.2417 - val_loss: -113.0522 - val_I_var: 1.1593\n",
      "Epoch 179/300\n",
      "167/167 [==============================] - 1s 7ms/step - loss: -132.0846 - I_var: 1.2446 - val_loss: -112.8084 - val_I_var: 1.1582\n",
      "Epoch 180/300\n",
      "167/167 [==============================] - 1s 8ms/step - loss: -131.9435 - I_var: 1.2439 - val_loss: -110.5883 - val_I_var: 1.1473\n",
      "Epoch 181/300\n",
      "167/167 [==============================] - 1s 8ms/step - loss: -131.8199 - I_var: 1.2434 - val_loss: -110.5506 - val_I_var: 1.1472\n",
      "Epoch 182/300\n",
      "167/167 [==============================] - 1s 8ms/step - loss: -130.5331 - I_var: 1.2372 - val_loss: -112.3763 - val_I_var: 1.1558\n",
      "Epoch 183/300\n",
      "167/167 [==============================] - 1s 9ms/step - loss: -132.0097 - I_var: 1.2443 - val_loss: -112.8677 - val_I_var: 1.1585\n",
      "Epoch 184/300\n",
      "167/167 [==============================] - 2s 10ms/step - loss: -132.0945 - I_var: 1.2447 - val_loss: -113.6185 - val_I_var: 1.1620\n",
      "Epoch 185/300\n",
      "167/167 [==============================] - 2s 12ms/step - loss: -132.2840 - I_var: 1.2456 - val_loss: -112.4768 - val_I_var: 1.1565\n",
      "Epoch 186/300\n",
      "167/167 [==============================] - 2s 11ms/step - loss: -132.3272 - I_var: 1.2458 - val_loss: -113.4591 - val_I_var: 1.1613\n",
      "Epoch 187/300\n",
      "167/167 [==============================] - 1s 8ms/step - loss: -131.9031 - I_var: 1.2438 - val_loss: -113.8420 - val_I_var: 1.1631\n",
      "Epoch 188/300\n",
      "167/167 [==============================] - 1s 6ms/step - loss: -132.7321 - I_var: 1.2478 - val_loss: -112.4938 - val_I_var: 1.1567\n",
      "Epoch 189/300\n",
      "167/167 [==============================] - 1s 5ms/step - loss: -132.3274 - I_var: 1.2458 - val_loss: -112.9557 - val_I_var: 1.1590\n",
      "Epoch 190/300\n",
      "167/167 [==============================] - 1s 8ms/step - loss: -132.5253 - I_var: 1.2467 - val_loss: -112.4383 - val_I_var: 1.1564\n",
      "Epoch 191/300\n",
      "167/167 [==============================] - 1s 8ms/step - loss: -132.2633 - I_var: 1.2455 - val_loss: -113.8480 - val_I_var: 1.1631\n",
      "Epoch 192/300\n",
      "167/167 [==============================] - 1s 9ms/step - loss: -132.7018 - I_var: 1.2476 - val_loss: -113.7754 - val_I_var: 1.1628\n",
      "Epoch 193/300\n",
      "167/167 [==============================] - 2s 10ms/step - loss: -132.1225 - I_var: 1.2448 - val_loss: -113.2049 - val_I_var: 1.1601\n",
      "Epoch 194/300\n",
      "167/167 [==============================] - 1s 7ms/step - loss: -132.3800 - I_var: 1.2461 - val_loss: -110.7202 - val_I_var: 1.1481\n",
      "Epoch 195/300\n",
      "167/167 [==============================] - 1s 8ms/step - loss: -132.1655 - I_var: 1.2451 - val_loss: -113.7120 - val_I_var: 1.1625\n",
      "Epoch 196/300\n",
      "167/167 [==============================] - 1s 5ms/step - loss: -132.9575 - I_var: 1.2489 - val_loss: -113.1044 - val_I_var: 1.1596\n",
      "Epoch 197/300\n",
      "167/167 [==============================] - 1s 5ms/step - loss: -132.7743 - I_var: 1.2480 - val_loss: -114.0290 - val_I_var: 1.1640\n",
      "Epoch 198/300\n",
      "167/167 [==============================] - 1s 5ms/step - loss: -132.2198 - I_var: 1.2453 - val_loss: -113.7651 - val_I_var: 1.1626\n",
      "Epoch 199/300\n",
      "167/167 [==============================] - 1s 5ms/step - loss: -133.0793 - I_var: 1.2495 - val_loss: -114.0323 - val_I_var: 1.1640\n",
      "Epoch 200/300\n",
      "167/167 [==============================] - 1s 5ms/step - loss: -132.9538 - I_var: 1.2488 - val_loss: -113.3337 - val_I_var: 1.1608\n",
      "Epoch 201/300\n",
      "167/167 [==============================] - 1s 5ms/step - loss: -133.0723 - I_var: 1.2494 - val_loss: -113.4942 - val_I_var: 1.1617\n",
      "Epoch 202/300\n",
      "167/167 [==============================] - 1s 5ms/step - loss: -133.3449 - I_var: 1.2508 - val_loss: -113.1746 - val_I_var: 1.1601\n",
      "Epoch 203/300\n",
      "167/167 [==============================] - 1s 5ms/step - loss: -132.6654 - I_var: 1.2475 - val_loss: -112.8310 - val_I_var: 1.1583\n",
      "Epoch 204/300\n",
      "167/167 [==============================] - 1s 5ms/step - loss: -132.9546 - I_var: 1.2489 - val_loss: -112.5040 - val_I_var: 1.1568\n",
      "Epoch 205/300\n",
      "167/167 [==============================] - 1s 5ms/step - loss: -133.2358 - I_var: 1.2502 - val_loss: -113.8848 - val_I_var: 1.1634\n",
      "Epoch 206/300\n",
      "167/167 [==============================] - 1s 5ms/step - loss: -133.0677 - I_var: 1.2494 - val_loss: -108.8997 - val_I_var: 1.1396\n",
      "Epoch 207/300\n",
      "167/167 [==============================] - 1s 5ms/step - loss: -132.8819 - I_var: 1.2485 - val_loss: -113.2531 - val_I_var: 1.1603\n",
      "Epoch 208/300\n",
      "167/167 [==============================] - 1s 5ms/step - loss: -132.8768 - I_var: 1.2485 - val_loss: -112.9788 - val_I_var: 1.1591\n",
      "Epoch 209/300\n",
      "167/167 [==============================] - 1s 5ms/step - loss: -133.0780 - I_var: 1.2495 - val_loss: -112.5685 - val_I_var: 1.1569\n",
      "Epoch 210/300\n",
      "167/167 [==============================] - 1s 5ms/step - loss: -133.4387 - I_var: 1.2512 - val_loss: -114.2663 - val_I_var: 1.1652\n",
      "Epoch 211/300\n",
      "167/167 [==============================] - 1s 5ms/step - loss: -133.7201 - I_var: 1.2526 - val_loss: -114.1131 - val_I_var: 1.1646\n",
      "Epoch 212/300\n",
      "167/167 [==============================] - 1s 5ms/step - loss: -133.4772 - I_var: 1.2514 - val_loss: -112.2627 - val_I_var: 1.1555\n",
      "Epoch 213/300\n",
      "167/167 [==============================] - 1s 5ms/step - loss: -133.6106 - I_var: 1.2521 - val_loss: -113.4488 - val_I_var: 1.1612\n",
      "Epoch 214/300\n",
      "167/167 [==============================] - 1s 5ms/step - loss: -133.5621 - I_var: 1.2518 - val_loss: -112.5850 - val_I_var: 1.1571\n",
      "Epoch 215/300\n",
      "167/167 [==============================] - 1s 5ms/step - loss: -133.0095 - I_var: 1.2492 - val_loss: -114.2527 - val_I_var: 1.1653\n",
      "Epoch 216/300\n",
      "167/167 [==============================] - 1s 5ms/step - loss: -133.2457 - I_var: 1.2503 - val_loss: -110.8787 - val_I_var: 1.1489\n",
      "Epoch 217/300\n",
      "167/167 [==============================] - 1s 5ms/step - loss: -133.4847 - I_var: 1.2515 - val_loss: -112.0339 - val_I_var: 1.1545\n",
      "Epoch 218/300\n",
      "167/167 [==============================] - 1s 5ms/step - loss: -133.5379 - I_var: 1.2517 - val_loss: -114.2869 - val_I_var: 1.1654\n",
      "Epoch 219/300\n",
      "167/167 [==============================] - 1s 5ms/step - loss: -133.7014 - I_var: 1.2525 - val_loss: -114.2323 - val_I_var: 1.1651\n",
      "Epoch 220/300\n",
      "167/167 [==============================] - 1s 5ms/step - loss: -133.3043 - I_var: 1.2506 - val_loss: -112.5135 - val_I_var: 1.1570\n",
      "Epoch 221/300\n",
      "167/167 [==============================] - 1s 5ms/step - loss: -133.7944 - I_var: 1.2530 - val_loss: -114.3600 - val_I_var: 1.1657\n",
      "Epoch 222/300\n",
      "167/167 [==============================] - 1s 5ms/step - loss: -133.6170 - I_var: 1.2521 - val_loss: -113.7710 - val_I_var: 1.1630\n",
      "Epoch 223/300\n",
      "167/167 [==============================] - 1s 5ms/step - loss: -133.0231 - I_var: 1.2492 - val_loss: -114.3582 - val_I_var: 1.1658\n",
      "Epoch 224/300\n",
      "167/167 [==============================] - 1s 5ms/step - loss: -133.9014 - I_var: 1.2535 - val_loss: -114.4303 - val_I_var: 1.1661\n",
      "Epoch 225/300\n",
      "167/167 [==============================] - 1s 5ms/step - loss: -133.7367 - I_var: 1.2527 - val_loss: -113.7889 - val_I_var: 1.1629\n",
      "Epoch 226/300\n",
      "167/167 [==============================] - 1s 5ms/step - loss: -134.0873 - I_var: 1.2544 - val_loss: -113.8987 - val_I_var: 1.1635\n",
      "Epoch 227/300\n",
      "167/167 [==============================] - 1s 5ms/step - loss: -133.4524 - I_var: 1.2513 - val_loss: -110.9567 - val_I_var: 1.1492\n",
      "Epoch 228/300\n"
     ]
    },
    {
     "name": "stdout",
     "output_type": "stream",
     "text": [
      "167/167 [==============================] - 1s 5ms/step - loss: -133.6651 - I_var: 1.2523 - val_loss: -113.9586 - val_I_var: 1.1638\n",
      "Epoch 229/300\n",
      "167/167 [==============================] - 1s 5ms/step - loss: -133.8989 - I_var: 1.2535 - val_loss: -114.2665 - val_I_var: 1.1653\n",
      "Epoch 230/300\n",
      "167/167 [==============================] - 1s 5ms/step - loss: -133.8891 - I_var: 1.2535 - val_loss: -112.2033 - val_I_var: 1.1555\n",
      "Epoch 231/300\n",
      "167/167 [==============================] - 1s 5ms/step - loss: -134.2010 - I_var: 1.2549 - val_loss: -113.3896 - val_I_var: 1.1612\n",
      "Epoch 232/300\n",
      "167/167 [==============================] - 1s 5ms/step - loss: -133.4915 - I_var: 1.2515 - val_loss: -111.2583 - val_I_var: 1.1506\n",
      "Epoch 233/300\n",
      "167/167 [==============================] - 1s 5ms/step - loss: -133.4373 - I_var: 1.2513 - val_loss: -112.2331 - val_I_var: 1.1555\n",
      "Epoch 234/300\n",
      "167/167 [==============================] - 1s 5ms/step - loss: -133.8739 - I_var: 1.2533 - val_loss: -113.3092 - val_I_var: 1.1606\n",
      "Epoch 235/300\n",
      "167/167 [==============================] - 1s 5ms/step - loss: -132.9422 - I_var: 1.2489 - val_loss: -114.5561 - val_I_var: 1.1666\n",
      "Epoch 236/300\n",
      "167/167 [==============================] - 1s 5ms/step - loss: -133.6274 - I_var: 1.2522 - val_loss: -113.6499 - val_I_var: 1.1624\n",
      "Epoch 237/300\n",
      "167/167 [==============================] - 1s 5ms/step - loss: -133.7243 - I_var: 1.2526 - val_loss: -114.8176 - val_I_var: 1.1679\n",
      "Epoch 238/300\n",
      "167/167 [==============================] - 1s 5ms/step - loss: -133.8063 - I_var: 1.2531 - val_loss: -111.4609 - val_I_var: 1.1520\n",
      "Epoch 239/300\n",
      "167/167 [==============================] - 1s 5ms/step - loss: -134.1191 - I_var: 1.2546 - val_loss: -114.1452 - val_I_var: 1.1649\n",
      "Epoch 240/300\n",
      "167/167 [==============================] - 1s 5ms/step - loss: -133.6438 - I_var: 1.2522 - val_loss: -113.3756 - val_I_var: 1.1610\n",
      "Epoch 241/300\n",
      "167/167 [==============================] - 1s 5ms/step - loss: -133.7055 - I_var: 1.2526 - val_loss: -110.4441 - val_I_var: 1.1470\n",
      "Epoch 242/300\n",
      "167/167 [==============================] - 1s 5ms/step - loss: -134.1930 - I_var: 1.2549 - val_loss: -113.0796 - val_I_var: 1.1598\n",
      "Epoch 243/300\n",
      "167/167 [==============================] - 1s 5ms/step - loss: -133.3421 - I_var: 1.2508 - val_loss: -111.0626 - val_I_var: 1.1498\n",
      "Epoch 244/300\n",
      "167/167 [==============================] - 1s 6ms/step - loss: -133.8322 - I_var: 1.2532 - val_loss: -113.8998 - val_I_var: 1.1637\n",
      "Epoch 245/300\n",
      "167/167 [==============================] - 1s 9ms/step - loss: -133.5679 - I_var: 1.2519 - val_loss: -113.8720 - val_I_var: 1.1635\n",
      "Epoch 246/300\n",
      "167/167 [==============================] - 1s 8ms/step - loss: -134.0326 - I_var: 1.2542 - val_loss: -110.1946 - val_I_var: 1.1459\n",
      "Epoch 247/300\n",
      "167/167 [==============================] - 1s 8ms/step - loss: -134.2462 - I_var: 1.2552 - val_loss: -114.0992 - val_I_var: 1.1648\n",
      "Epoch 248/300\n",
      "167/167 [==============================] - 1s 7ms/step - loss: -134.4089 - I_var: 1.2560 - val_loss: -113.3488 - val_I_var: 1.1612\n",
      "Epoch 249/300\n",
      "167/167 [==============================] - 1s 6ms/step - loss: -134.1108 - I_var: 1.2545 - val_loss: -113.9037 - val_I_var: 1.1636\n",
      "Epoch 250/300\n",
      "167/167 [==============================] - 1s 8ms/step - loss: -134.1053 - I_var: 1.2545 - val_loss: -113.8105 - val_I_var: 1.1631\n",
      "Epoch 251/300\n",
      "167/167 [==============================] - 1s 6ms/step - loss: -133.7251 - I_var: 1.2527 - val_loss: -108.6493 - val_I_var: 1.1385\n",
      "Epoch 252/300\n",
      "167/167 [==============================] - 1s 6ms/step - loss: -133.9572 - I_var: 1.2538 - val_loss: -113.9995 - val_I_var: 1.1640\n",
      "Epoch 253/300\n",
      "167/167 [==============================] - 1s 6ms/step - loss: -134.3094 - I_var: 1.2555 - val_loss: -113.9457 - val_I_var: 1.1638\n",
      "Epoch 254/300\n",
      "167/167 [==============================] - 1s 6ms/step - loss: -134.0617 - I_var: 1.2543 - val_loss: -114.1441 - val_I_var: 1.1648\n",
      "Epoch 255/300\n",
      "167/167 [==============================] - 1s 6ms/step - loss: -134.2609 - I_var: 1.2553 - val_loss: -113.2256 - val_I_var: 1.1603\n",
      "Epoch 256/300\n",
      "167/167 [==============================] - 1s 6ms/step - loss: -134.2887 - I_var: 1.2554 - val_loss: -114.2866 - val_I_var: 1.1655\n",
      "Epoch 257/300\n",
      "167/167 [==============================] - 1s 6ms/step - loss: -134.2773 - I_var: 1.2554 - val_loss: -112.0060 - val_I_var: 1.1546\n",
      "Epoch 258/300\n",
      "167/167 [==============================] - 1s 6ms/step - loss: -134.1260 - I_var: 1.2546 - val_loss: -112.2547 - val_I_var: 1.1558\n",
      "Epoch 259/300\n",
      "167/167 [==============================] - 1s 6ms/step - loss: -134.4037 - I_var: 1.2559 - val_loss: -114.0099 - val_I_var: 1.1644\n",
      "Epoch 260/300\n",
      "167/167 [==============================] - 1s 7ms/step - loss: -134.0700 - I_var: 1.2543 - val_loss: -113.6130 - val_I_var: 1.1623\n",
      "Epoch 261/300\n",
      "167/167 [==============================] - 1s 7ms/step - loss: -134.4761 - I_var: 1.2563 - val_loss: -113.3741 - val_I_var: 1.1614\n",
      "Epoch 262/300\n",
      "167/167 [==============================] - 1s 7ms/step - loss: -134.0324 - I_var: 1.2542 - val_loss: -110.2530 - val_I_var: 1.1459\n",
      "Epoch 263/300\n",
      "167/167 [==============================] - 1s 6ms/step - loss: -134.0023 - I_var: 1.2540 - val_loss: -113.7050 - val_I_var: 1.1627\n",
      "Epoch 264/300\n",
      "167/167 [==============================] - 1s 7ms/step - loss: -134.2163 - I_var: 1.2551 - val_loss: -114.4742 - val_I_var: 1.1664\n",
      "Epoch 265/300\n",
      "167/167 [==============================] - 1s 8ms/step - loss: -133.7240 - I_var: 1.2527 - val_loss: -113.8098 - val_I_var: 1.1631\n",
      "Epoch 266/300\n",
      "167/167 [==============================] - 1s 7ms/step - loss: -134.2904 - I_var: 1.2554 - val_loss: -113.2308 - val_I_var: 1.1604\n",
      "Epoch 267/300\n",
      "167/167 [==============================] - 1s 7ms/step - loss: -134.5595 - I_var: 1.2567 - val_loss: -114.0181 - val_I_var: 1.1642\n",
      "Epoch 268/300\n",
      "167/167 [==============================] - 1s 5ms/step - loss: -134.3940 - I_var: 1.2559 - val_loss: -112.5534 - val_I_var: 1.1573\n",
      "Epoch 269/300\n",
      "167/167 [==============================] - 1s 6ms/step - loss: -134.3176 - I_var: 1.2556 - val_loss: -113.5254 - val_I_var: 1.1619\n",
      "Epoch 270/300\n",
      "167/167 [==============================] - 1s 9ms/step - loss: -134.2379 - I_var: 1.2552 - val_loss: -112.0179 - val_I_var: 1.1548\n",
      "Epoch 271/300\n",
      "167/167 [==============================] - 1s 8ms/step - loss: -134.3400 - I_var: 1.2557 - val_loss: -111.3240 - val_I_var: 1.1515\n",
      "Epoch 272/300\n",
      "167/167 [==============================] - 1s 7ms/step - loss: -134.5744 - I_var: 1.2568 - val_loss: -112.3407 - val_I_var: 1.1563\n",
      "Epoch 273/300\n",
      "167/167 [==============================] - 1s 7ms/step - loss: -134.3494 - I_var: 1.2557 - val_loss: -109.4013 - val_I_var: 1.1422\n",
      "Epoch 274/300\n",
      "167/167 [==============================] - 1s 9ms/step - loss: -134.4402 - I_var: 1.2562 - val_loss: -113.0924 - val_I_var: 1.1601\n",
      "Epoch 275/300\n",
      "167/167 [==============================] - 1s 7ms/step - loss: -134.8940 - I_var: 1.2583 - val_loss: -113.7258 - val_I_var: 1.1630\n",
      "Epoch 276/300\n",
      "167/167 [==============================] - 1s 9ms/step - loss: -134.6263 - I_var: 1.2571 - val_loss: -113.2695 - val_I_var: 1.1606\n",
      "Epoch 277/300\n",
      "167/167 [==============================] - 1s 7ms/step - loss: -134.7734 - I_var: 1.2578 - val_loss: -113.2946 - val_I_var: 1.1608\n",
      "Epoch 278/300\n",
      "167/167 [==============================] - 1s 9ms/step - loss: -134.1410 - I_var: 1.2548 - val_loss: -111.4882 - val_I_var: 1.1520\n",
      "Epoch 279/300\n",
      "167/167 [==============================] - 1s 7ms/step - loss: -133.7923 - I_var: 1.2530 - val_loss: -110.9128 - val_I_var: 1.1491\n",
      "Epoch 280/300\n",
      "167/167 [==============================] - 2s 10ms/step - loss: -134.4714 - I_var: 1.2563 - val_loss: -113.9167 - val_I_var: 1.1639\n",
      "Epoch 281/300\n",
      "167/167 [==============================] - 1s 8ms/step - loss: -134.2975 - I_var: 1.2555 - val_loss: -112.8802 - val_I_var: 1.1590\n",
      "Epoch 282/300\n",
      "167/167 [==============================] - 1s 8ms/step - loss: -134.2614 - I_var: 1.2553 - val_loss: -113.7060 - val_I_var: 1.1629\n",
      "Epoch 283/300\n",
      "167/167 [==============================] - 2s 10ms/step - loss: -134.2776 - I_var: 1.2554 - val_loss: -112.4086 - val_I_var: 1.1566\n",
      "Epoch 284/300\n"
     ]
    },
    {
     "name": "stdout",
     "output_type": "stream",
     "text": [
      "167/167 [==============================] - 1s 9ms/step - loss: -134.4867 - I_var: 1.2564 - val_loss: -113.8581 - val_I_var: 1.1636\n",
      "Epoch 285/300\n",
      "167/167 [==============================] - 2s 9ms/step - loss: -134.4451 - I_var: 1.2562 - val_loss: -111.9094 - val_I_var: 1.1541\n",
      "Epoch 286/300\n",
      "167/167 [==============================] - 2s 9ms/step - loss: -134.4655 - I_var: 1.2563 - val_loss: -111.2863 - val_I_var: 1.1511\n",
      "Epoch 287/300\n",
      "167/167 [==============================] - 2s 11ms/step - loss: -134.4479 - I_var: 1.2562 - val_loss: -114.0995 - val_I_var: 1.1648\n",
      "Epoch 288/300\n",
      "167/167 [==============================] - 2s 10ms/step - loss: -134.4780 - I_var: 1.2564 - val_loss: -113.4720 - val_I_var: 1.1617\n",
      "Epoch 289/300\n",
      "167/167 [==============================] - 2s 9ms/step - loss: -134.3021 - I_var: 1.2555 - val_loss: -113.2537 - val_I_var: 1.1606\n",
      "Epoch 290/300\n",
      "167/167 [==============================] - 1s 8ms/step - loss: -134.0299 - I_var: 1.2543 - val_loss: -114.4841 - val_I_var: 1.1664\n",
      "Epoch 291/300\n",
      "167/167 [==============================] - 1s 6ms/step - loss: -134.6858 - I_var: 1.2574 - val_loss: -113.4099 - val_I_var: 1.1614\n",
      "Epoch 292/300\n",
      "167/167 [==============================] - 1s 7ms/step - loss: -134.3125 - I_var: 1.2556 - val_loss: -110.7181 - val_I_var: 1.1484\n",
      "Epoch 293/300\n",
      "167/167 [==============================] - 1s 5ms/step - loss: -134.6488 - I_var: 1.2571 - val_loss: -112.0139 - val_I_var: 1.1548\n",
      "Epoch 294/300\n",
      "167/167 [==============================] - 1s 7ms/step - loss: -134.0581 - I_var: 1.2544 - val_loss: -113.6222 - val_I_var: 1.1623\n",
      "Epoch 295/300\n",
      "167/167 [==============================] - 1s 7ms/step - loss: -134.5141 - I_var: 1.2566 - val_loss: -112.9785 - val_I_var: 1.1595\n",
      "Epoch 296/300\n",
      "167/167 [==============================] - 1s 6ms/step - loss: -134.6151 - I_var: 1.2570 - val_loss: -111.4344 - val_I_var: 1.1518\n",
      "Epoch 297/300\n",
      "167/167 [==============================] - 1s 6ms/step - loss: -134.2998 - I_var: 1.2556 - val_loss: -114.1093 - val_I_var: 1.1649\n",
      "Epoch 298/300\n",
      "167/167 [==============================] - 1s 5ms/step - loss: -133.9897 - I_var: 1.2540 - val_loss: -114.2800 - val_I_var: 1.1656\n",
      "Epoch 299/300\n",
      "167/167 [==============================] - 1s 5ms/step - loss: -134.7896 - I_var: 1.2578 - val_loss: -111.4692 - val_I_var: 1.1522\n",
      "Epoch 300/300\n",
      "167/167 [==============================] - 1s 5ms/step - loss: -134.3574 - I_var: 1.2558 - val_loss: -110.2184 - val_I_var: 1.1460\n",
      "Training time: 290.0 seconds\n"
     ]
    }
   ],
   "source": [
    "# Fit model to data\n",
    "history = model_GE.fit(learning_rate=.0005,\n",
    "                    epochs=300,\n",
    "                    batch_size=300,\n",
    "                    try_tqdm=False,\n",
    "                    early_stopping=False,\n",
    "                    early_stopping_patience=5,\n",
    "                    linear_initialization=False)"
   ]
  },
  {
   "cell_type": "code",
   "execution_count": 16,
   "metadata": {},
   "outputs": [
    {
     "name": "stdout",
     "output_type": "stream",
     "text": [
      "On test data:\n"
     ]
    },
    {
     "data": {
      "image/png": "[encoded data removed]",
      "text/plain": [
       "<Figure size 576x288 with 2 Axes>"
      ]
     },
     "metadata": {
      "needs_background": "light"
     },
     "output_type": "display_data"
    }
   ],
   "source": [
    "# Show training history\n",
    "print('On test data:')\n",
    "# x_test = test_df['x'].values\n",
    "# y_test = test_df[y_cols].values\n",
    "\n",
    "\n",
    "I_var_hist = model_GE.history['I_var']\n",
    "val_I_var_hist = model_GE.history['val_I_var']\n",
    "\n",
    "fig, axs = plt.subplots(1,2,figsize=[8,4])\n",
    "\n",
    "ax = axs[0]\n",
    "ax.plot(I_var_hist, label='I_var_train')\n",
    "ax.plot(val_I_var_hist, label='I_var_val')\n",
    "ax.legend()\n",
    "ax.set_xlabel('epochs')\n",
    "ax.set_ylabel('bits')\n",
    "#ax.set_xscale('log')\n",
    "ax.set_title('training hisotry')\n",
    "\n",
    "ax = axs[1]\n",
    "ax.plot(model_GE.history['loss'], label='loss_train')\n",
    "ax.plot(model_GE.history['val_loss'], label='loss_val')\n",
    "# ax.set_xlim(100,300)\n",
    "# ax.set_ylim(0.7*1e6,0.8*1e6)\n",
    "ax.legend()\n",
    "ax.set_xlabel('epochs')\n",
    "ax.set_ylabel('loss')\n",
    "# ax.set_xscale('log')\n",
    "# ax.set_yscale('log')\n",
    "ax.set_title('training hisotry')\n",
    "fig.tight_layout()"
   ]
  },
  {
   "cell_type": "code",
   "execution_count": 17,
   "metadata": {},
   "outputs": [],
   "source": [
    "# phi = gpmapGE.x_to_phi(x_test_GE)\n",
    "# phi_train = gpmapGE.x_to_phi(x_train_GE)\n",
    "from mavenn.src.utils import x_to_ohe"
   ]
  },
  {
   "cell_type": "code",
   "execution_count": 18,
   "metadata": {},
   "outputs": [],
   "source": [
    "x_test_OHE = x_to_ohe(x=x_test_GE,\n",
    "                      alphabet=alphabet)\n"
   ]
  },
  {
   "cell_type": "code",
   "execution_count": 19,
   "metadata": {},
   "outputs": [],
   "source": [
    "y_hat_multi_GE = model_GE.model.predict(np.hstack([x_test_OHE,y_test_GE.reshape(-1,1)])).ravel()\n",
    "\n",
    "\n"
   ]
  },
  {
   "cell_type": "code",
   "execution_count": 20,
   "metadata": {},
   "outputs": [],
   "source": [
    "#model_GE\n",
    "phi = gpmapGE.x_to_phi(x_test_GE)"
   ]
  },
  {
   "cell_type": "code",
   "execution_count": 21,
   "metadata": {},
   "outputs": [
    {
     "data": {
      "text/plain": [
       "numpy.ndarray"
      ]
     },
     "execution_count": 21,
     "metadata": {},
     "output_type": "execute_result"
    }
   ],
   "source": [
    "type(phi)"
   ]
  },
  {
   "cell_type": "code",
   "execution_count": 22,
   "metadata": {},
   "outputs": [
    {
     "data": {
      "text/plain": [
       "(6975, 2)"
      ]
     },
     "execution_count": 22,
     "metadata": {},
     "output_type": "execute_result"
    }
   ],
   "source": [
    "phi.shape"
   ]
  },
  {
   "cell_type": "code",
   "execution_count": 23,
   "metadata": {},
   "outputs": [],
   "source": [
    "yhat = mp_GE.phi_to_yhat(phi)"
   ]
  },
  {
   "cell_type": "code",
   "execution_count": 30,
   "metadata": {
    "scrolled": false
   },
   "outputs": [
    {
     "data": {
      "image/png": "[encoded data removed]",
      "text/plain": [
       "<Figure size 360x360 with 1 Axes>"
      ]
     },
     "metadata": {
      "needs_background": "light"
     },
     "output_type": "display_data"
    }
   ],
   "source": [
    "fig, ax = plt.subplots(1,1, figsize=(5,5))\n",
    "\n",
    "yhat = mp_GE.phi_to_yhat(phi)\n",
    "\n",
    "\n",
    "lims = [min(min(yhat.numpy().ravel()),min(y_test_GE.ravel())),\n",
    "        max(max(yhat.numpy().ravel()),max(y_test_GE.ravel()))]\n",
    "\n",
    "ax.plot(lims,lims,ls='--',color='orange',lw=2)\n",
    "\n",
    "    \n",
    "ax.scatter(yhat,y_test_GE,s=2,alpha=0.2,c='b',label='test data')\n",
    "Rsq = np.corrcoef(yhat.numpy().ravel(),y_test_GE)[0,1]**2\n",
    "\n",
    "ax.set_xlabel('$\\hat{y} = g(\\phi)$')\n",
    "ax.set_ylabel('measurement ($y$)')\n",
    "ax.set_title(f'Abundance, Multi-phi $R^2 = $ {Rsq:.3f}')\n",
    "leg = ax.legend()\n",
    "\n",
    "for lh in leg.legendHandles: \n",
    "    lh.set_alpha(1)\n",
    "\n",
    "fig.tight_layout()\n",
    "fig.savefig('plots/GRB2_SH3/global_epistasis_abundance_multi_phi.png',dpi=300,bbox_inches='tight')    \n"
   ]
  },
  {
   "cell_type": "code",
   "execution_count": 33,
   "metadata": {},
   "outputs": [],
   "source": [
    "#theta_lc_GE = gpmapGE.get_theta(model_GE,gauge='consensus')['theta_lc']\n"
   ]
  },
  {
   "cell_type": "code",
   "execution_count": 60,
   "metadata": {},
   "outputs": [
    {
     "data": {
      "image/png": "[encoded data removed]",
      "text/plain": [
       "<Figure size 684x360 with 2 Axes>"
      ]
     },
     "metadata": {
      "needs_background": "light"
     },
     "output_type": "display_data"
    }
   ],
   "source": [
    "#theta_2_phi[0].shape\n",
    "fig, axs = plt.subplots(1,2,figsize=(9.5,5))\n",
    "\n",
    "theta_2_phi = np.squeeze(model_GE.model.layers[2].get_weights()[1])\n",
    "GE_1_phi_theta_abundance_raw = np.load('model_data/GE_1_phi_theta_abundance_raw.npy')\n",
    "GE_1_phi_theta_binding_raw = np.load('model_data/GE_1_phi_theta_binding_raw.npy')\n",
    "\n",
    "ax = axs[0]\n",
    "\n",
    "lims = [min(min(theta_2_phi[0].ravel()),min(GE_1_phi_theta_binding_raw.ravel())),\n",
    "        max(max(theta_2_phi[0].ravel()),max(GE_1_phi_theta_binding_raw.ravel()))]\n",
    "\n",
    "ax.plot(lims,lims,ls='--',color='orange',lw=2)\n",
    "\n",
    "\n",
    "Rsq = np.corrcoef(theta_2_phi[0].ravel(),GE_1_phi_theta_binding_raw.ravel())[0,1]**2\n",
    "ax.scatter(theta_2_phi[0],GE_1_phi_theta_binding_raw,s=5,c='blue',alpha=0.5)\n",
    "ax.set_xlabel('$\\\\theta_{1}$, multi $\\phi$',fontsize=14)\n",
    "ax.set_ylabel('$\\\\theta$-binding, single $\\phi$',fontsize=14)\n",
    "ax.set_title(f'Rsq = {Rsq:.3f}')\n",
    "\n",
    "\n",
    "\n",
    "ax = axs[1]\n",
    "\n",
    "lims = [min(min(theta_2_phi[1].ravel()),min(GE_1_phi_theta_abundance_raw.ravel())),\n",
    "        max(max(theta_2_phi[1].ravel()),max(GE_1_phi_theta_abundance_raw.ravel()))]\n",
    "\n",
    "ax.plot(lims,lims,ls='--',color='orange',lw=2)\n",
    "\n",
    "Rsq = np.corrcoef(theta_2_phi[1].ravel(),GE_1_phi_theta_abundance_raw.ravel())[0,1]**2\n",
    "ax.scatter(theta_2_phi[1],GE_1_phi_theta_abundance_raw,s=5,c='blue',alpha=0.5)\n",
    "ax.set_xlabel('$\\\\theta_{2}$, multi $\\phi$',fontsize=14)\n",
    "ax.set_ylabel('$\\\\theta$-abundance, single $\\phi$',fontsize=14)\n",
    "ax.set_title(f'Rsq = {Rsq:.3f}')\n",
    "\n",
    "fig.suptitle('Training set - Abundance',fontweight='bold',fontsize=14)\n",
    "fig.tight_layout()\n",
    "fig.savefig('plots/GRB2_SH3/multi_theta_to_single_theta_comparison_abundance.png',dpi=300,bbox_inches='tight')  \n"
   ]
  },
  {
   "cell_type": "code",
   "execution_count": 53,
   "metadata": {},
   "outputs": [
    {
     "data": {
      "text/plain": [
       "<matplotlib.collections.PathCollection at 0x7f829042dfd0>"
      ]
     },
     "execution_count": 53,
     "metadata": {},
     "output_type": "execute_result"
    },
    {
     "data": {
      "image/png": "[encoded data removed]",
      "text/plain": [
       "<Figure size 432x288 with 1 Axes>"
      ]
     },
     "metadata": {
      "needs_background": "light"
     },
     "output_type": "display_data"
    }
   ],
   "source": [
    "plt.scatter(GE_1_phi_theta_binding_raw,GE_1_phi_theta_abundance_raw,s=2,alpha=0.5)"
   ]
  },
  {
   "cell_type": "code",
   "execution_count": 31,
   "metadata": {},
   "outputs": [],
   "source": [
    "fig, ax = plt.subplots(1,2,figsize=(10,5))\n",
    "ax[0].scatter(theta_2_lc[0].ravel(),theta_lc_GE.ravel(),c='blue',s=5,alpha=0.3)\n",
    "ax[0].set_xlabel('Theta-1 multi-discrete monotonic')\n",
    "ax[0].set_ylabel('Theta global epistasis')\n",
    "\n",
    "ax[1].scatter(theta_2_lc[1].ravel(),theta_lc_GE.ravel(),c='blue',s=5,alpha=0.3)\n",
    "ax[1].set_xlabel('Theta-2 multi-discrete monotonic')\n",
    "ax[1].set_ylabel('Theta global epistasis')\n",
    "\n",
    "fig.tight_layout()"
   ]
  },
  {
   "cell_type": "code",
   "execution_count": null,
   "metadata": {},
   "outputs": [],
   "source": [
    "lehner_binding_singles_df = pd.read_csv('data/GRB2-SH3.singles_binding.csv',index_col=[0])\n",
    "lehner_binding_singles_df"
   ]
  },
  {
   "cell_type": "code",
   "execution_count": null,
   "metadata": {},
   "outputs": [],
   "source": [
    "binding_singles_transformed_df = pd.DataFrame(np.nan*np.ones(shape=(57,21)),columns=alphabet)\n",
    "binding_singles_transformed_df.head()"
   ]
  },
  {
   "cell_type": "code",
   "execution_count": null,
   "metadata": {},
   "outputs": [],
   "source": [
    "for idx in lehner_binding_singles_df.index:\n",
    "\n",
    "    mutant = lehner_binding_singles_df.loc[idx]['Mut']\n",
    "    value = lehner_binding_singles_df.loc[idx]['fitness']\n",
    "    \n",
    "    pos = lehner_binding_singles_df.loc[idx]['Pos']-1\n",
    "    binding_singles_transformed_df[mutant][pos] = value"
   ]
  },
  {
   "cell_type": "code",
   "execution_count": null,
   "metadata": {},
   "outputs": [],
   "source": [
    "fig, axs = plt.subplots(1,2,figsize=(8,4))\n",
    "\n",
    "ax = axs[0]\n",
    "Rsq = np.corrcoef(theta_2_lc[0].ravel(),binding_singles_transformed_df.fillna(0).values.ravel())[0,1]**2\n",
    "ax.scatter(theta_2_lc[0].ravel(),binding_singles_transformed_df.values.ravel(),s=3,alpha=0.3,color='blue')\n",
    "ax.set_xlabel(' $\\\\theta$ - 1')\n",
    "ax.set_ylabel(' Binding, singles - Lehner')\n",
    "ax.set_title(f'$R^2 = $ {Rsq:.3f}')\n",
    "\n",
    "ax = axs[1]\n",
    "Rsq = np.corrcoef(theta_2_lc[1].ravel(),binding_singles_transformed_df.fillna(0).values.ravel())[0,1]**2\n",
    "ax.scatter(theta_2_lc[1].ravel(),binding_singles_transformed_df.values.ravel(),s=3,alpha=0.3,color='blue')\n",
    "ax.set_xlabel(' $\\\\theta$ - 2')\n",
    "ax.set_ylabel(' Binding, singles - Lehner')\n",
    "ax.set_title(f'$R^2 = $ {Rsq:.3f}')\n",
    "\n",
    "fig.tight_layout()\n",
    "\n",
    "#fig.savefig('plots/GRB2_SH3/GRB2_SH3.singles_binding_comparison_to_Lehner.png',dpi=200,bbox_inches='tight')\n"
   ]
  },
  {
   "cell_type": "code",
   "execution_count": null,
   "metadata": {},
   "outputs": [],
   "source": [
    "# # Create fig and ax objects\n",
    "fig, ax = plt.subplots(figsize=[12,4])\n",
    "\n",
    "# Draw heatmap\n",
    "ax, cb = mavenn.heatmap(ax=ax,\n",
    "                        values=binding_singles_transformed_df.values,\n",
    "                        alphabet=alphabet,\n",
    "                        seq=model.x_stats['consensus_seq'],\n",
    "                        seq_kwargs={'c':'gray', 's':20,'marker':'o'},\n",
    "                        cmap='RdBu',\n",
    "                        cbar=True,\n",
    "                        #clim = [-5,1],\n",
    "                        cmap_size='2%',\n",
    "                        cmap_pad=.3,\n",
    "                        ccenter=0)\n",
    "\n",
    "# Style colorbar\n",
    "cb.set_label('Additive effect - WT gauge ($\\\\theta$)',\n",
    "             labelpad=10, ha='center', va='center', rotation=-90)\n",
    "cb.outline.set_visible(False)\n",
    "cb.ax.tick_params(direction='in', size=20, color='white')\n",
    "ax.set_title('Lehner - binding')\n",
    "\n",
    "#fig.savefig('plots/GRB2_SH3/Lehner_GP_map_binding.png',dpi=300,bbox_inches='tight')"
   ]
  },
  {
   "cell_type": "code",
   "execution_count": null,
   "metadata": {},
   "outputs": [],
   "source": []
  }
 ],
 "metadata": {
  "kernelspec": {
   "display_name": "Python 3 (ipykernel)",
   "language": "python",
   "name": "python3"
  },
  "language_info": {
   "codemirror_mode": {
    "name": "ipython",
    "version": 3
   },
   "file_extension": ".py",
   "mimetype": "text/x-python",
   "name": "python",
   "nbconvert_exporter": "python",
   "pygments_lexer": "ipython3",
   "version": "3.9.7"
  }
 },
 "nbformat": 4,
 "nbformat_minor": 2
}
