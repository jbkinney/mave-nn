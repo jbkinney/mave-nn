{
 "cells": [
  {
   "cell_type": "code",
   "execution_count": 1,
   "metadata": {},
   "outputs": [],
   "source": [
    "import numpy as np\n",
    "import pandas as pd\n",
    "import matplotlib.pyplot as plt\n",
    "import sys\n",
    "sys.path.insert(0, '/Users/tareen/Desktop/Research_Projects/2022_mavenn2_github/mavenn')\n",
    "\n",
    "import mavenn\n",
    "import logomaker\n",
    "import seaborn as sns\n",
    "import re\n",
    "\n",
    "%matplotlib inline"
   ]
  },
  {
   "cell_type": "code",
   "execution_count": 2,
   "metadata": {},
   "outputs": [
    {
     "name": "stderr",
     "output_type": "stream",
     "text": [
      "/Library/Frameworks/Python.framework/Versions/3.9/lib/python3.9/site-packages/IPython/core/interactiveshell.py:3457: DtypeWarning: Columns (6) have mixed types.Specify dtype option on import or set low_memory=False.\n",
      "  exec(code_obj, self.user_global_ns, self.user_ns)\n"
     ]
    }
   ],
   "source": [
    "binding_df_full = pd.read_csv('data/GRB2-SH3.binding.csv')\n",
    "binding_df = binding_df_full[['aa_seq','count_e1_s0','count_e1_s1']].dropna().reset_index(drop=True).copy()"
   ]
  },
  {
   "cell_type": "code",
   "execution_count": 3,
   "metadata": {},
   "outputs": [],
   "source": [
    "abundance_df = pd.read_csv('data/GRB2-SH3.abundance.csv')\n",
    "abundance_df = abundance_df[['aa_seq','count_e1_s0','count_e1_s1']].dropna().reset_index(drop=True).copy()"
   ]
  },
  {
   "cell_type": "code",
   "execution_count": 4,
   "metadata": {},
   "outputs": [],
   "source": [
    "data_df = binding_df.copy()\n",
    "y_cols = data_df.columns[1:] "
   ]
  },
  {
   "cell_type": "code",
   "execution_count": 5,
   "metadata": {},
   "outputs": [],
   "source": [
    "X = data_df['aa_seq']\n",
    "y = data_df[y_cols]"
   ]
  },
  {
   "cell_type": "code",
   "execution_count": 6,
   "metadata": {},
   "outputs": [
    {
     "name": "stdout",
     "output_type": "stream",
     "text": [
      "L=57, Y=2\n"
     ]
    }
   ],
   "source": [
    "# set positional argumnets for gpmap function\n",
    "L = len(data_df['aa_seq'][0])\n",
    "alphabet=['A', 'C', 'D', 'E', 'F',\n",
    "          'G', 'H', 'I', 'K', 'L',\n",
    "          'M', 'N', 'P', 'Q', 'R',\n",
    "          'S', 'T', 'V', 'W', 'Y', '*']\n",
    "\n",
    "\n",
    "Y = len(y_cols)\n",
    "print(f'L={L}, Y={Y}')"
   ]
  },
  {
   "cell_type": "code",
   "execution_count": 7,
   "metadata": {},
   "outputs": [],
   "source": [
    "data_df_GE = binding_df_full[['aa_seq','fitness']].copy()"
   ]
  },
  {
   "cell_type": "code",
   "execution_count": 8,
   "metadata": {},
   "outputs": [
    {
     "data": {
      "image/png": "[encoded data removed]",
      "text/plain": [
       "<Figure size 432x288 with 1 Axes>"
      ]
     },
     "metadata": {
      "needs_background": "light"
     },
     "output_type": "display_data"
    }
   ],
   "source": [
    "plt.hist(data_df_GE['fitness'],bins=20,color='blue')\n",
    "plt.show()"
   ]
  },
  {
   "cell_type": "code",
   "execution_count": 9,
   "metadata": {},
   "outputs": [],
   "source": [
    "#gpmapGE = mavenn.gpmap.AdditiveGPMapLayer(L, alphabet)\n",
    "\n",
    "gpmapGE = mavenn.gpmap.Multi_AdditiveGPMapLayer(L=L, \n",
    "                                              alphabet=alphabet,\n",
    "                                              number_latent_nodes=2)\n",
    "\n",
    "#gpmapGE = mavenn.gpmap.MultilayerPerceptronGPMap(L, alphabet)\n",
    "mp_GE = mavenn.measurement_process_layers.GlobalEpsistasisMP(K=50,\n",
    "                                                           monotonic=True,\n",
    "                                                           number_latent_nodes=2,\n",
    "                                                           ge_heteroskedasticity_order=2,\n",
    "                                                           ge_noise_model_type='Gaussian')"
   ]
  },
  {
   "cell_type": "code",
   "execution_count": 10,
   "metadata": {},
   "outputs": [],
   "source": [
    "from sklearn.model_selection import train_test_split\n",
    "\n",
    "# split data into training and testing sets\n",
    "x_train_GE, x_test_GE, y_train_GE, y_test_GE = train_test_split(data_df_GE['aa_seq'].values, \n",
    "                                                                data_df_GE['fitness'].values, test_size=0.1)"
   ]
  },
  {
   "cell_type": "code",
   "execution_count": 11,
   "metadata": {},
   "outputs": [
    {
     "name": "stderr",
     "output_type": "stream",
     "text": [
      "2023-01-26 08:03:50.572073: I tensorflow/core/platform/cpu_feature_guard.cc:151] This TensorFlow binary is optimized with oneAPI Deep Neural Network Library (oneDNN) to use the following CPU instructions in performance-critical operations:  AVX2 FMA\n",
      "To enable them in other operations, rebuild TensorFlow with the appropriate compiler flags.\n"
     ]
    },
    {
     "name": "stdout",
     "output_type": "stream",
     "text": [
      "N = 41,749 observations set as training data.\n",
      "Using 20.0% for validation.\n",
      "Time to set data: 1.38 sec.\n"
     ]
    }
   ],
   "source": [
    "model_GE = mavenn.Model2(gpmap=gpmapGE,\n",
    "                      mp_list=[mp_GE])\n",
    "\n",
    "# Set training data\n",
    "model_GE.set_data(x=x_train_GE,\n",
    "               #y_list=[data_df['y'].values.reshape(-1,1)],\n",
    "               y_list=[y_train_GE.reshape(-1,1)],\n",
    "               shuffle=False)"
   ]
  },
  {
   "cell_type": "code",
   "execution_count": 12,
   "metadata": {},
   "outputs": [
    {
     "name": "stdout",
     "output_type": "stream",
     "text": [
      "Model: \"model\"\n",
      "__________________________________________________________________________________________________\n",
      " Layer (type)                   Output Shape         Param #     Connected to                     \n",
      "==================================================================================================\n",
      " Sequence_labels_input (InputLa  [(None, 1198)]      0           []                               \n",
      " yer)                                                                                             \n",
      "                                                                                                  \n",
      " Sequence_only (Lambda)         (None, 1197)         0           ['Sequence_labels_input[0][0]']  \n",
      "                                                                                                  \n",
      " multi__additive_gp_map_layer (  (None, 2)           2396        ['Sequence_only[0][0]']          \n",
      " Multi_AdditiveGPMapLayer)                                                                        \n",
      "                                                                                                  \n",
      " multi_latent_global_epistasis_  (None, 1)           201         ['multi__additive_gp_map_layer[0]\n",
      " layer (MultiLatentGlobalEpista                                  [0]']                            \n",
      " sisLayer)                                                                                        \n",
      "                                                                                                  \n",
      " Labels_input_0 (Lambda)        (None, 1)            0           ['Sequence_labels_input[0][0]']  \n",
      "                                                                                                  \n",
      " yhat_and_y_to_ll_0 (Concatenat  (None, 2)           0           ['multi_latent_global_epistasis_l\n",
      " e)                                                              ayer[0][0]',                     \n",
      "                                                                  'Labels_input_0[0][0]']         \n",
      "                                                                                                  \n",
      " gaussian_noise_model_layer (Ga  (None, 1)           3           ['yhat_and_y_to_ll_0[0][0]']     \n",
      " ussianNoiseModelLayer)                                                                           \n",
      "                                                                                                  \n",
      "==================================================================================================\n",
      "Total params: 2,600\n",
      "Trainable params: 2,600\n",
      "Non-trainable params: 0\n",
      "__________________________________________________________________________________________________\n"
     ]
    }
   ],
   "source": [
    "model_GE.model.summary()"
   ]
  },
  {
   "cell_type": "code",
   "execution_count": 13,
   "metadata": {
    "scrolled": false
   },
   "outputs": [
    {
     "name": "stdout",
     "output_type": "stream",
     "text": [
      "Epoch 1/150\n",
      "112/112 [==============================] - 2s 6ms/step - loss: 258.7858 - I_var: -1.0143 - val_loss: 245.3947 - val_I_var: -0.9521\n",
      "Epoch 2/150\n",
      "112/112 [==============================] - 0s 4ms/step - loss: 232.2683 - I_var: -0.8865 - val_loss: 217.1174 - val_I_var: -0.8157\n",
      "Epoch 3/150\n",
      "112/112 [==============================] - 0s 4ms/step - loss: 199.7713 - I_var: -0.7296 - val_loss: 180.3073 - val_I_var: -0.6380\n",
      "Epoch 4/150\n",
      "112/112 [==============================] - 0s 4ms/step - loss: 162.3992 - I_var: -0.5498 - val_loss: 144.1238 - val_I_var: -0.4634\n",
      "Epoch 5/150\n",
      "112/112 [==============================] - 0s 4ms/step - loss: 128.0048 - I_var: -0.3840 - val_loss: 112.3411 - val_I_var: -0.3100\n",
      "Epoch 6/150\n",
      "112/112 [==============================] - 0s 4ms/step - loss: 97.7084 - I_var: -0.2386 - val_loss: 84.6994 - val_I_var: -0.1766\n",
      "Epoch 7/150\n",
      "112/112 [==============================] - 0s 4ms/step - loss: 71.9443 - I_var: -0.1149 - val_loss: 60.8839 - val_I_var: -0.0617\n",
      "Epoch 8/150\n",
      "112/112 [==============================] - 0s 4ms/step - loss: 48.5759 - I_var: -0.0022 - val_loss: 39.6593 - val_I_var: 0.0408\n",
      "Epoch 9/150\n",
      "112/112 [==============================] - 0s 4ms/step - loss: 28.1783 - I_var: 0.0969 - val_loss: 22.2547 - val_I_var: 0.1248\n",
      "Epoch 10/150\n",
      "112/112 [==============================] - 0s 4ms/step - loss: 10.4423 - I_var: 0.1814 - val_loss: 6.9049 - val_I_var: 0.1989\n",
      "Epoch 11/150\n",
      "112/112 [==============================] - 0s 4ms/step - loss: -4.3900 - I_var: 0.2541 - val_loss: -8.0845 - val_I_var: 0.2713\n",
      "Epoch 12/150\n",
      "112/112 [==============================] - 0s 4ms/step - loss: -18.3809 - I_var: 0.3201 - val_loss: -16.5255 - val_I_var: 0.3120\n",
      "Epoch 13/150\n",
      "112/112 [==============================] - 1s 5ms/step - loss: -29.1827 - I_var: 0.3721 - val_loss: -25.7673 - val_I_var: 0.3567\n",
      "Epoch 14/150\n",
      "112/112 [==============================] - 0s 4ms/step - loss: -38.4979 - I_var: 0.4175 - val_loss: -36.6269 - val_I_var: 0.4091\n",
      "Epoch 15/150\n",
      "112/112 [==============================] - 1s 5ms/step - loss: -45.6495 - I_var: 0.4519 - val_loss: -41.8601 - val_I_var: 0.4344\n",
      "Epoch 16/150\n",
      "112/112 [==============================] - 1s 5ms/step - loss: -51.8152 - I_var: 0.4821 - val_loss: -43.5048 - val_I_var: 0.4424\n",
      "Epoch 17/150\n",
      "112/112 [==============================] - 0s 4ms/step - loss: -55.8592 - I_var: 0.5015 - val_loss: -43.4432 - val_I_var: 0.4422\n",
      "Epoch 18/150\n",
      "112/112 [==============================] - 1s 5ms/step - loss: -59.2689 - I_var: 0.5173 - val_loss: -46.8063 - val_I_var: 0.4585\n",
      "Epoch 19/150\n",
      "112/112 [==============================] - 1s 5ms/step - loss: -62.3217 - I_var: 0.5309 - val_loss: -53.8125 - val_I_var: 0.4923\n",
      "Epoch 20/150\n",
      "112/112 [==============================] - 1s 4ms/step - loss: -65.2189 - I_var: 0.5467 - val_loss: -54.3930 - val_I_var: 0.4951\n",
      "Epoch 21/150\n",
      "112/112 [==============================] - 1s 5ms/step - loss: -67.8948 - I_var: 0.5593 - val_loss: -57.2733 - val_I_var: 0.5090\n",
      "Epoch 22/150\n",
      "112/112 [==============================] - 1s 5ms/step - loss: -70.0594 - I_var: 0.5694 - val_loss: -51.2850 - val_I_var: 0.4802\n",
      "Epoch 23/150\n",
      "112/112 [==============================] - 1s 5ms/step - loss: -73.2933 - I_var: 0.5860 - val_loss: -61.8082 - val_I_var: 0.5309\n",
      "Epoch 24/150\n",
      "112/112 [==============================] - 0s 4ms/step - loss: -76.0560 - I_var: 0.5974 - val_loss: -64.4412 - val_I_var: 0.5437\n",
      "Epoch 25/150\n",
      "112/112 [==============================] - 0s 4ms/step - loss: -78.0279 - I_var: 0.6073 - val_loss: -59.1839 - val_I_var: 0.5183\n",
      "Epoch 26/150\n",
      "112/112 [==============================] - 0s 4ms/step - loss: -78.9487 - I_var: 0.6126 - val_loss: -64.8868 - val_I_var: 0.5458\n",
      "Epoch 27/150\n",
      "112/112 [==============================] - 0s 4ms/step - loss: -82.9852 - I_var: 0.6317 - val_loss: -72.1232 - val_I_var: 0.5807\n",
      "Epoch 28/150\n",
      "112/112 [==============================] - 1s 4ms/step - loss: -86.8956 - I_var: 0.6504 - val_loss: -72.6760 - val_I_var: 0.5833\n",
      "Epoch 29/150\n",
      "112/112 [==============================] - 0s 4ms/step - loss: -89.8590 - I_var: 0.6648 - val_loss: -77.6889 - val_I_var: 0.6075\n",
      "Epoch 30/150\n",
      "112/112 [==============================] - 0s 4ms/step - loss: -93.2076 - I_var: 0.6804 - val_loss: -79.2946 - val_I_var: 0.6153\n",
      "Epoch 31/150\n",
      "112/112 [==============================] - 1s 5ms/step - loss: -96.4076 - I_var: 0.6955 - val_loss: -83.5878 - val_I_var: 0.6359\n",
      "Epoch 32/150\n",
      "112/112 [==============================] - 0s 4ms/step - loss: -98.7063 - I_var: 0.7073 - val_loss: -85.1074 - val_I_var: 0.6432\n",
      "Epoch 33/150\n",
      "112/112 [==============================] - 1s 4ms/step - loss: -101.8857 - I_var: 0.7235 - val_loss: -87.6073 - val_I_var: 0.6553\n",
      "Epoch 34/150\n",
      "112/112 [==============================] - 0s 4ms/step - loss: -105.0048 - I_var: 0.7366 - val_loss: -92.9494 - val_I_var: 0.6811\n",
      "Epoch 35/150\n",
      "112/112 [==============================] - 0s 4ms/step - loss: -108.3548 - I_var: 0.7535 - val_loss: -96.0637 - val_I_var: 0.6961\n",
      "Epoch 36/150\n",
      "112/112 [==============================] - 0s 4ms/step - loss: -111.3138 - I_var: 0.7699 - val_loss: -96.0909 - val_I_var: 0.6962\n",
      "Epoch 37/150\n",
      "112/112 [==============================] - 0s 4ms/step - loss: -114.2849 - I_var: 0.7830 - val_loss: -102.1338 - val_I_var: 0.7253\n",
      "Epoch 38/150\n",
      "112/112 [==============================] - 1s 4ms/step - loss: -118.1428 - I_var: 0.8015 - val_loss: -104.1354 - val_I_var: 0.7350\n",
      "Epoch 39/150\n",
      "112/112 [==============================] - 1s 5ms/step - loss: -120.9053 - I_var: 0.8159 - val_loss: -106.3674 - val_I_var: 0.7457\n",
      "Epoch 40/150\n",
      "112/112 [==============================] - 1s 5ms/step - loss: -124.3115 - I_var: 0.8305 - val_loss: -110.8113 - val_I_var: 0.7671\n",
      "Epoch 41/150\n",
      "112/112 [==============================] - 0s 4ms/step - loss: -126.7535 - I_var: 0.8424 - val_loss: -115.2357 - val_I_var: 0.7885\n",
      "Epoch 42/150\n",
      "112/112 [==============================] - 1s 5ms/step - loss: -130.8927 - I_var: 0.8619 - val_loss: -112.9626 - val_I_var: 0.7775\n",
      "Epoch 43/150\n",
      "112/112 [==============================] - 0s 4ms/step - loss: -132.9980 - I_var: 0.8735 - val_loss: -121.1708 - val_I_var: 0.8171\n",
      "Epoch 44/150\n",
      "112/112 [==============================] - 1s 5ms/step - loss: -137.0291 - I_var: 0.8926 - val_loss: -124.0227 - val_I_var: 0.8308\n",
      "Epoch 45/150\n",
      "112/112 [==============================] - 1s 6ms/step - loss: -139.6446 - I_var: 0.9029 - val_loss: -124.6912 - val_I_var: 0.8340\n",
      "Epoch 46/150\n",
      "112/112 [==============================] - 1s 5ms/step - loss: -141.3992 - I_var: 0.9123 - val_loss: -129.1552 - val_I_var: 0.8556\n",
      "Epoch 47/150\n",
      "112/112 [==============================] - 1s 6ms/step - loss: -145.3463 - I_var: 0.9330 - val_loss: -131.4159 - val_I_var: 0.8665\n",
      "Epoch 48/150\n",
      "112/112 [==============================] - 0s 4ms/step - loss: -147.1763 - I_var: 0.9412 - val_loss: -131.8733 - val_I_var: 0.8687\n",
      "Epoch 49/150\n",
      "112/112 [==============================] - 0s 4ms/step - loss: -150.1211 - I_var: 0.9542 - val_loss: -133.1500 - val_I_var: 0.8749\n",
      "Epoch 50/150\n",
      "112/112 [==============================] - 0s 4ms/step - loss: -151.8345 - I_var: 0.9640 - val_loss: -133.0382 - val_I_var: 0.8743\n",
      "Epoch 51/150\n",
      "112/112 [==============================] - 0s 4ms/step - loss: -153.4881 - I_var: 0.9717 - val_loss: -131.4784 - val_I_var: 0.8668\n",
      "Epoch 52/150\n",
      "112/112 [==============================] - 0s 4ms/step - loss: -155.1978 - I_var: 0.9803 - val_loss: -139.2825 - val_I_var: 0.9045\n",
      "Epoch 53/150\n",
      "112/112 [==============================] - 0s 4ms/step - loss: -157.0630 - I_var: 0.9883 - val_loss: -140.7515 - val_I_var: 0.9115\n",
      "Epoch 54/150\n",
      "112/112 [==============================] - 0s 4ms/step - loss: -158.1618 - I_var: 0.9954 - val_loss: -138.2312 - val_I_var: 0.8994\n",
      "Epoch 55/150\n",
      "112/112 [==============================] - 0s 4ms/step - loss: -159.3647 - I_var: 0.9980 - val_loss: -133.3501 - val_I_var: 0.8758\n",
      "Epoch 56/150\n",
      "112/112 [==============================] - 0s 4ms/step - loss: -159.3296 - I_var: 0.9998 - val_loss: -142.7459 - val_I_var: 0.9212\n",
      "Epoch 57/150\n",
      "112/112 [==============================] - 0s 4ms/step - loss: -160.9806 - I_var: 1.0070 - val_loss: -141.5975 - val_I_var: 0.9156\n",
      "Epoch 58/150\n"
     ]
    },
    {
     "name": "stdout",
     "output_type": "stream",
     "text": [
      "112/112 [==============================] - 0s 4ms/step - loss: -161.9463 - I_var: 1.0130 - val_loss: -142.2161 - val_I_var: 0.9186\n",
      "Epoch 59/150\n",
      "112/112 [==============================] - 0s 4ms/step - loss: -162.5024 - I_var: 1.0126 - val_loss: -143.0742 - val_I_var: 0.9228\n",
      "Epoch 60/150\n",
      "112/112 [==============================] - 0s 4ms/step - loss: -163.2668 - I_var: 1.0189 - val_loss: -143.4724 - val_I_var: 0.9247\n",
      "Epoch 61/150\n",
      "112/112 [==============================] - 0s 4ms/step - loss: -164.1487 - I_var: 1.0226 - val_loss: -145.2103 - val_I_var: 0.9331\n",
      "Epoch 62/150\n",
      "112/112 [==============================] - 0s 4ms/step - loss: -164.0474 - I_var: 1.0221 - val_loss: -141.8680 - val_I_var: 0.9171\n",
      "Epoch 63/150\n",
      "112/112 [==============================] - 0s 4ms/step - loss: -164.9215 - I_var: 1.0268 - val_loss: -145.5807 - val_I_var: 0.9349\n",
      "Epoch 64/150\n",
      "112/112 [==============================] - 0s 4ms/step - loss: -165.8442 - I_var: 1.0289 - val_loss: -146.4751 - val_I_var: 0.9393\n",
      "Epoch 65/150\n",
      "112/112 [==============================] - 0s 4ms/step - loss: -166.6669 - I_var: 1.0362 - val_loss: -146.6225 - val_I_var: 0.9400\n",
      "Epoch 66/150\n",
      "112/112 [==============================] - 0s 4ms/step - loss: -166.8010 - I_var: 1.0329 - val_loss: -147.1954 - val_I_var: 0.9427\n",
      "Epoch 67/150\n",
      "112/112 [==============================] - 1s 5ms/step - loss: -167.1767 - I_var: 1.0386 - val_loss: -146.2066 - val_I_var: 0.9380\n",
      "Epoch 68/150\n",
      "112/112 [==============================] - 1s 5ms/step - loss: -167.7828 - I_var: 1.0425 - val_loss: -145.5478 - val_I_var: 0.9348\n",
      "Epoch 69/150\n",
      "112/112 [==============================] - 0s 4ms/step - loss: -168.7157 - I_var: 1.0415 - val_loss: -148.5622 - val_I_var: 0.9493\n",
      "Epoch 70/150\n",
      "112/112 [==============================] - 1s 5ms/step - loss: -169.1002 - I_var: 1.0457 - val_loss: -146.9700 - val_I_var: 0.9417\n",
      "Epoch 71/150\n",
      "112/112 [==============================] - 0s 4ms/step - loss: -169.2543 - I_var: 1.0472 - val_loss: -148.3543 - val_I_var: 0.9484\n",
      "Epoch 72/150\n",
      "112/112 [==============================] - 1s 5ms/step - loss: -169.8560 - I_var: 1.0507 - val_loss: -149.2255 - val_I_var: 0.9526\n",
      "Epoch 73/150\n",
      "112/112 [==============================] - 1s 5ms/step - loss: -170.3486 - I_var: 1.0531 - val_loss: -149.7151 - val_I_var: 0.9549\n",
      "Epoch 74/150\n",
      "112/112 [==============================] - 1s 5ms/step - loss: -170.3926 - I_var: 1.0553 - val_loss: -149.9810 - val_I_var: 0.9562\n",
      "Epoch 75/150\n",
      "112/112 [==============================] - 1s 5ms/step - loss: -171.5218 - I_var: 1.0586 - val_loss: -149.3714 - val_I_var: 0.9533\n",
      "Epoch 76/150\n",
      "112/112 [==============================] - 1s 5ms/step - loss: -172.5653 - I_var: 1.0639 - val_loss: -143.6371 - val_I_var: 0.9256\n",
      "Epoch 77/150\n",
      "112/112 [==============================] - 1s 5ms/step - loss: -172.8108 - I_var: 1.0636 - val_loss: -152.3451 - val_I_var: 0.9677\n",
      "Epoch 78/150\n",
      "112/112 [==============================] - 1s 5ms/step - loss: -172.4996 - I_var: 1.0619 - val_loss: -153.1960 - val_I_var: 0.9718\n",
      "Epoch 79/150\n",
      "112/112 [==============================] - 1s 5ms/step - loss: -174.0745 - I_var: 1.0722 - val_loss: -153.7436 - val_I_var: 0.9744\n",
      "Epoch 80/150\n",
      "112/112 [==============================] - 1s 7ms/step - loss: -174.1739 - I_var: 1.0703 - val_loss: -154.2459 - val_I_var: 0.9769\n",
      "Epoch 81/150\n",
      "112/112 [==============================] - 1s 6ms/step - loss: -175.2003 - I_var: 1.0770 - val_loss: -154.6434 - val_I_var: 0.9788\n",
      "Epoch 82/150\n",
      "112/112 [==============================] - 1s 5ms/step - loss: -174.9767 - I_var: 1.0760 - val_loss: -155.1958 - val_I_var: 0.9814\n",
      "Epoch 83/150\n",
      "112/112 [==============================] - 1s 5ms/step - loss: -176.2497 - I_var: 1.0830 - val_loss: -153.4224 - val_I_var: 0.9728\n",
      "Epoch 84/150\n",
      "112/112 [==============================] - 1s 5ms/step - loss: -176.4868 - I_var: 1.0839 - val_loss: -155.6316 - val_I_var: 0.9836\n",
      "Epoch 85/150\n",
      "112/112 [==============================] - 1s 5ms/step - loss: -177.4642 - I_var: 1.0870 - val_loss: -156.5849 - val_I_var: 0.9882\n",
      "Epoch 86/150\n",
      "112/112 [==============================] - 1s 5ms/step - loss: -177.2566 - I_var: 1.0835 - val_loss: -154.2483 - val_I_var: 0.9770\n",
      "Epoch 87/150\n",
      "112/112 [==============================] - 1s 6ms/step - loss: -177.4284 - I_var: 1.0872 - val_loss: -152.9003 - val_I_var: 0.9705\n",
      "Epoch 88/150\n",
      "112/112 [==============================] - 1s 6ms/step - loss: -176.9569 - I_var: 1.0832 - val_loss: -157.4316 - val_I_var: 0.9923\n",
      "Epoch 89/150\n",
      "112/112 [==============================] - 1s 6ms/step - loss: -178.4379 - I_var: 1.0925 - val_loss: -156.4756 - val_I_var: 0.9877\n",
      "Epoch 90/150\n",
      "112/112 [==============================] - 0s 4ms/step - loss: -178.7639 - I_var: 1.0914 - val_loss: -158.6153 - val_I_var: 0.9980\n",
      "Epoch 91/150\n",
      "112/112 [==============================] - 0s 4ms/step - loss: -179.6002 - I_var: 1.0957 - val_loss: -153.2660 - val_I_var: 0.9721\n",
      "Epoch 92/150\n",
      "112/112 [==============================] - 1s 5ms/step - loss: -178.5202 - I_var: 1.0942 - val_loss: -159.1879 - val_I_var: 1.0008\n",
      "Epoch 93/150\n",
      "112/112 [==============================] - 1s 5ms/step - loss: -179.8286 - I_var: 1.0980 - val_loss: -159.3116 - val_I_var: 1.0014\n",
      "Epoch 94/150\n",
      "112/112 [==============================] - 0s 4ms/step - loss: -179.8070 - I_var: 1.0985 - val_loss: -153.6479 - val_I_var: 0.9741\n",
      "Epoch 95/150\n",
      "112/112 [==============================] - 1s 5ms/step - loss: -179.7455 - I_var: 1.0975 - val_loss: -157.0484 - val_I_var: 0.9904\n",
      "Epoch 96/150\n",
      "112/112 [==============================] - 1s 5ms/step - loss: -180.6550 - I_var: 1.1042 - val_loss: -158.8751 - val_I_var: 0.9993\n",
      "Epoch 97/150\n",
      "112/112 [==============================] - 1s 6ms/step - loss: -180.5064 - I_var: 1.1040 - val_loss: -159.7902 - val_I_var: 1.0037\n",
      "Epoch 98/150\n",
      "112/112 [==============================] - 1s 5ms/step - loss: -181.0851 - I_var: 1.1049 - val_loss: -157.1763 - val_I_var: 0.9912\n",
      "Epoch 99/150\n",
      "112/112 [==============================] - 1s 6ms/step - loss: -181.6030 - I_var: 1.1052 - val_loss: -158.7027 - val_I_var: 0.9984\n",
      "Epoch 100/150\n",
      "112/112 [==============================] - 1s 8ms/step - loss: -180.5569 - I_var: 1.1024 - val_loss: -160.1516 - val_I_var: 1.0054\n",
      "Epoch 101/150\n",
      "112/112 [==============================] - 1s 5ms/step - loss: -181.4649 - I_var: 1.1070 - val_loss: -157.3156 - val_I_var: 0.9917\n",
      "Epoch 102/150\n",
      "112/112 [==============================] - 0s 4ms/step - loss: -181.0775 - I_var: 1.1035 - val_loss: -159.3988 - val_I_var: 1.0019\n",
      "Epoch 103/150\n",
      "112/112 [==============================] - 1s 6ms/step - loss: -181.5809 - I_var: 1.1056 - val_loss: -159.9385 - val_I_var: 1.0044\n",
      "Epoch 104/150\n",
      "112/112 [==============================] - 1s 6ms/step - loss: -180.6457 - I_var: 1.1015 - val_loss: -159.3304 - val_I_var: 1.0014\n",
      "Epoch 105/150\n",
      "112/112 [==============================] - 1s 7ms/step - loss: -182.0393 - I_var: 1.1058 - val_loss: -159.3835 - val_I_var: 1.0017\n",
      "Epoch 106/150\n",
      "112/112 [==============================] - 1s 6ms/step - loss: -181.2952 - I_var: 1.1067 - val_loss: -160.6446 - val_I_var: 1.0078\n",
      "Epoch 107/150\n",
      "112/112 [==============================] - 1s 8ms/step - loss: -181.8174 - I_var: 1.1060 - val_loss: -160.9034 - val_I_var: 1.0091\n",
      "Epoch 108/150\n",
      "112/112 [==============================] - 1s 8ms/step - loss: -181.6299 - I_var: 1.1081 - val_loss: -155.4913 - val_I_var: 0.9829\n",
      "Epoch 109/150\n",
      "112/112 [==============================] - 1s 8ms/step - loss: -181.8903 - I_var: 1.1065 - val_loss: -160.6426 - val_I_var: 1.0078\n",
      "Epoch 110/150\n",
      "112/112 [==============================] - 1s 7ms/step - loss: -182.1137 - I_var: 1.1100 - val_loss: -160.1168 - val_I_var: 1.0053\n",
      "Epoch 111/150\n",
      "112/112 [==============================] - 1s 7ms/step - loss: -180.8397 - I_var: 1.1026 - val_loss: -159.0816 - val_I_var: 1.0002\n",
      "Epoch 112/150\n",
      "112/112 [==============================] - 1s 7ms/step - loss: -181.6581 - I_var: 1.1083 - val_loss: -160.9895 - val_I_var: 1.0095\n",
      "Epoch 113/150\n",
      "112/112 [==============================] - 1s 7ms/step - loss: -182.3523 - I_var: 1.1084 - val_loss: -155.6019 - val_I_var: 0.9834\n",
      "Epoch 114/150\n",
      "112/112 [==============================] - 1s 8ms/step - loss: -182.0345 - I_var: 1.1085 - val_loss: -160.8640 - val_I_var: 1.0089\n"
     ]
    },
    {
     "name": "stdout",
     "output_type": "stream",
     "text": [
      "Epoch 115/150\n",
      "112/112 [==============================] - 1s 7ms/step - loss: -182.4697 - I_var: 1.1102 - val_loss: -160.9588 - val_I_var: 1.0094\n",
      "Epoch 116/150\n",
      "112/112 [==============================] - 1s 7ms/step - loss: -181.0832 - I_var: 1.1058 - val_loss: -159.1999 - val_I_var: 1.0010\n",
      "Epoch 117/150\n",
      "112/112 [==============================] - 1s 7ms/step - loss: -182.3065 - I_var: 1.1105 - val_loss: -159.3808 - val_I_var: 1.0017\n",
      "Epoch 118/150\n",
      "112/112 [==============================] - 1s 7ms/step - loss: -182.5175 - I_var: 1.1130 - val_loss: -160.9473 - val_I_var: 1.0093\n",
      "Epoch 119/150\n",
      "112/112 [==============================] - 1s 8ms/step - loss: -182.9160 - I_var: 1.1070 - val_loss: -160.7438 - val_I_var: 1.0084\n",
      "Epoch 120/150\n",
      "112/112 [==============================] - 1s 7ms/step - loss: -181.8691 - I_var: 1.1071 - val_loss: -161.0869 - val_I_var: 1.0100\n",
      "Epoch 121/150\n",
      "112/112 [==============================] - 1s 7ms/step - loss: -182.8723 - I_var: 1.1134 - val_loss: -160.2299 - val_I_var: 1.0059\n",
      "Epoch 122/150\n",
      "112/112 [==============================] - 1s 7ms/step - loss: -182.3617 - I_var: 1.1120 - val_loss: -157.4639 - val_I_var: 0.9924\n",
      "Epoch 123/150\n",
      "112/112 [==============================] - 1s 8ms/step - loss: -182.8081 - I_var: 1.1126 - val_loss: -159.9551 - val_I_var: 1.0045\n",
      "Epoch 124/150\n",
      "112/112 [==============================] - 1s 7ms/step - loss: -182.7180 - I_var: 1.1136 - val_loss: -159.9173 - val_I_var: 1.0044\n",
      "Epoch 125/150\n",
      "112/112 [==============================] - 1s 7ms/step - loss: -182.4291 - I_var: 1.1122 - val_loss: -158.7352 - val_I_var: 0.9987\n",
      "Epoch 126/150\n",
      "112/112 [==============================] - 1s 7ms/step - loss: -182.3880 - I_var: 1.1089 - val_loss: -158.9559 - val_I_var: 0.9997\n",
      "Epoch 127/150\n",
      "112/112 [==============================] - 1s 7ms/step - loss: -182.5568 - I_var: 1.1102 - val_loss: -160.6631 - val_I_var: 1.0079\n",
      "Epoch 128/150\n",
      "112/112 [==============================] - 1s 7ms/step - loss: -182.0082 - I_var: 1.1102 - val_loss: -159.3073 - val_I_var: 1.0015\n",
      "Epoch 129/150\n",
      "112/112 [==============================] - 1s 8ms/step - loss: -182.1495 - I_var: 1.1103 - val_loss: -159.6691 - val_I_var: 1.0032\n",
      "Epoch 130/150\n",
      "112/112 [==============================] - 1s 7ms/step - loss: -182.6744 - I_var: 1.1094 - val_loss: -160.8523 - val_I_var: 1.0089\n",
      "Epoch 131/150\n",
      "112/112 [==============================] - 1s 7ms/step - loss: -182.6403 - I_var: 1.1097 - val_loss: -160.1652 - val_I_var: 1.0056\n",
      "Epoch 132/150\n",
      "112/112 [==============================] - 1s 7ms/step - loss: -182.7724 - I_var: 1.1141 - val_loss: -160.5393 - val_I_var: 1.0073\n",
      "Epoch 133/150\n",
      "112/112 [==============================] - 1s 7ms/step - loss: -182.9592 - I_var: 1.1144 - val_loss: -157.7048 - val_I_var: 0.9938\n",
      "Epoch 134/150\n",
      "112/112 [==============================] - 1s 7ms/step - loss: -182.9747 - I_var: 1.1157 - val_loss: -158.9136 - val_I_var: 0.9996\n",
      "Epoch 135/150\n",
      "112/112 [==============================] - 1s 7ms/step - loss: -182.0602 - I_var: 1.1121 - val_loss: -160.2068 - val_I_var: 1.0058\n",
      "Epoch 136/150\n",
      "112/112 [==============================] - 1s 9ms/step - loss: -182.6735 - I_var: 1.1115 - val_loss: -160.8410 - val_I_var: 1.0088\n",
      "Epoch 137/150\n",
      "112/112 [==============================] - 1s 7ms/step - loss: -182.6104 - I_var: 1.1098 - val_loss: -160.8830 - val_I_var: 1.0091\n",
      "Epoch 138/150\n",
      "112/112 [==============================] - 1s 8ms/step - loss: -182.5476 - I_var: 1.1119 - val_loss: -160.9652 - val_I_var: 1.0094\n",
      "Epoch 139/150\n",
      "112/112 [==============================] - 1s 8ms/step - loss: -183.0309 - I_var: 1.1141 - val_loss: -157.9285 - val_I_var: 0.9949\n",
      "Epoch 140/150\n",
      "112/112 [==============================] - 1s 8ms/step - loss: -182.5668 - I_var: 1.1103 - val_loss: -160.3002 - val_I_var: 1.0062\n",
      "Epoch 141/150\n",
      "112/112 [==============================] - 1s 7ms/step - loss: -182.2261 - I_var: 1.1096 - val_loss: -159.6166 - val_I_var: 1.0030\n",
      "Epoch 142/150\n",
      "112/112 [==============================] - 1s 8ms/step - loss: -183.0439 - I_var: 1.1125 - val_loss: -160.9168 - val_I_var: 1.0093\n",
      "Epoch 143/150\n",
      "112/112 [==============================] - 1s 7ms/step - loss: -183.1683 - I_var: 1.1136 - val_loss: -161.0210 - val_I_var: 1.0097\n",
      "Epoch 144/150\n",
      "112/112 [==============================] - 1s 7ms/step - loss: -182.9955 - I_var: 1.1152 - val_loss: -155.8696 - val_I_var: 0.9848\n",
      "Epoch 145/150\n",
      "112/112 [==============================] - 1s 7ms/step - loss: -182.1868 - I_var: 1.1104 - val_loss: -156.1156 - val_I_var: 0.9862\n",
      "Epoch 146/150\n",
      "112/112 [==============================] - 1s 6ms/step - loss: -182.3001 - I_var: 1.1095 - val_loss: -160.9067 - val_I_var: 1.0092\n",
      "Epoch 147/150\n",
      "112/112 [==============================] - 1s 6ms/step - loss: -182.9929 - I_var: 1.1118 - val_loss: -156.7065 - val_I_var: 0.9888\n",
      "Epoch 148/150\n",
      "112/112 [==============================] - 1s 6ms/step - loss: -183.5684 - I_var: 1.1126 - val_loss: -161.1317 - val_I_var: 1.0102\n",
      "Epoch 149/150\n",
      "112/112 [==============================] - 1s 6ms/step - loss: -183.4637 - I_var: 1.1147 - val_loss: -158.2918 - val_I_var: 0.9965\n",
      "Epoch 150/150\n",
      "112/112 [==============================] - 1s 6ms/step - loss: -181.8465 - I_var: 1.1078 - val_loss: -160.7821 - val_I_var: 1.0086\n",
      "Training time: 93.6 seconds\n"
     ]
    }
   ],
   "source": [
    "# Fit model to data\n",
    "history = model_GE.fit(learning_rate=.0005,\n",
    "                    epochs=150,\n",
    "                    batch_size=300,\n",
    "                    try_tqdm=False,\n",
    "                    early_stopping=False,\n",
    "                    early_stopping_patience=5,\n",
    "                    linear_initialization=False)"
   ]
  },
  {
   "cell_type": "code",
   "execution_count": 14,
   "metadata": {},
   "outputs": [
    {
     "name": "stdout",
     "output_type": "stream",
     "text": [
      "On test data:\n"
     ]
    },
    {
     "data": {
      "image/png": "[encoded data removed]",
      "text/plain": [
       "<Figure size 576x288 with 2 Axes>"
      ]
     },
     "metadata": {
      "needs_background": "light"
     },
     "output_type": "display_data"
    }
   ],
   "source": [
    "# Show training history\n",
    "print('On test data:')\n",
    "# x_test = test_df['x'].values\n",
    "# y_test = test_df[y_cols].values\n",
    "\n",
    "\n",
    "I_var_hist = model_GE.history['I_var']\n",
    "val_I_var_hist = model_GE.history['val_I_var']\n",
    "\n",
    "fig, axs = plt.subplots(1,2,figsize=[8,4])\n",
    "\n",
    "ax = axs[0]\n",
    "ax.plot(I_var_hist, label='I_var_train')\n",
    "ax.plot(val_I_var_hist, label='I_var_val')\n",
    "ax.legend()\n",
    "ax.set_xlabel('epochs')\n",
    "ax.set_ylabel('bits')\n",
    "#ax.set_xscale('log')\n",
    "ax.set_title('training hisotry')\n",
    "\n",
    "ax = axs[1]\n",
    "ax.plot(model_GE.history['loss'], label='loss_train')\n",
    "ax.plot(model_GE.history['val_loss'], label='loss_val')\n",
    "# ax.set_xlim(100,300)\n",
    "# ax.set_ylim(0.7*1e6,0.8*1e6)\n",
    "ax.legend()\n",
    "ax.set_xlabel('epochs')\n",
    "ax.set_ylabel('loss')\n",
    "# ax.set_xscale('log')\n",
    "# ax.set_yscale('log')\n",
    "ax.set_title('training hisotry')\n",
    "fig.tight_layout()"
   ]
  },
  {
   "cell_type": "code",
   "execution_count": 16,
   "metadata": {},
   "outputs": [],
   "source": [
    "# phi = gpmapGE.x_to_phi(x_test_GE)\n",
    "# phi_train = gpmapGE.x_to_phi(x_train_GE)"
   ]
  },
  {
   "cell_type": "code",
   "execution_count": 22,
   "metadata": {},
   "outputs": [
    {
     "data": {
      "text/plain": [
       "<bound method Model.predict of <keras.engine.functional.Functional object at 0x7f9341249be0>>"
      ]
     },
     "execution_count": 22,
     "metadata": {},
     "output_type": "execute_result"
    }
   ],
   "source": [
    "model_GE.model.predict"
   ]
  },
  {
   "cell_type": "code",
   "execution_count": null,
   "metadata": {},
   "outputs": [],
   "source": [
    "np.corrcoef(phi_train,y_train_GE)[0,1]**2"
   ]
  },
  {
   "cell_type": "code",
   "execution_count": null,
   "metadata": {},
   "outputs": [],
   "source": [
    "fig, axs = plt.subplots(1,2, figsize=(9,4.5))\n",
    "\n",
    "ax = axs[0]\n",
    "yhat = mp_GE.phi_to_yhat(phi)\n",
    "ax.scatter(phi,y_test_GE,s=2,alpha=0.2,c='b',label='test data')\n",
    "#ax.scatter(phi,yhat* model.y_std+model.y_mean,s=1,alpha=0.1,c='r',label='$\\hat{y} = g(\\phi)$')\n",
    "ax.scatter(phi,yhat,s=2,alpha=0.3,c='r',label='$\\hat{y} = g(\\phi)$')\n",
    "\n",
    "ax.set_xlabel('latent phenotype ($\\phi$)')\n",
    "ax.set_ylabel('measurement ($y$)')\n",
    "ax.set_title('GRB2-SH3 - binding')\n",
    "leg = ax.legend()\n",
    "\n",
    "for lh in leg.legendHandles: \n",
    "    lh.set_alpha(1)\n",
    "    \n",
    "    \n",
    "ax = axs[1]\n",
    "ax.scatter(yhat,y_test_GE,s=2,alpha=0.2,c='b',label='test data')\n",
    "Rsq = np.corrcoef(yhat.numpy().ravel(),y_test_GE)[0,1]**2\n",
    "\n",
    "ax.set_xlabel('$\\hat{y} = g(\\phi)$')\n",
    "ax.set_ylabel('measurement ($y$)')\n",
    "ax.set_title(f'GRB2-SH3, $R^2 = $ {Rsq:.3f}')\n",
    "leg = ax.legend()\n",
    "\n",
    "for lh in leg.legendHandles: \n",
    "    lh.set_alpha(1)\n",
    "\n",
    "fig.tight_layout()\n",
    "#fig.savefig('plots/GRB2_SH3/global_epistasis_binding_binding.png',dpi=300,bbox_inches='tight')    \n"
   ]
  },
  {
   "cell_type": "code",
   "execution_count": null,
   "metadata": {},
   "outputs": [],
   "source": [
    "theta_lc_GE = gpmapGE.get_theta(model_GE,gauge='consensus')['theta_lc']"
   ]
  },
  {
   "cell_type": "code",
   "execution_count": null,
   "metadata": {},
   "outputs": [],
   "source": [
    "fig, ax = plt.subplots(1,2,figsize=(10,5))\n",
    "ax[0].scatter(theta_2_lc[0].ravel(),theta_lc_GE.ravel(),c='blue',s=5,alpha=0.3)\n",
    "ax[0].set_xlabel('Theta-1 multi-discrete monotonic')\n",
    "ax[0].set_ylabel('Theta global epistasis')\n",
    "\n",
    "ax[1].scatter(theta_2_lc[1].ravel(),theta_lc_GE.ravel(),c='blue',s=5,alpha=0.3)\n",
    "ax[1].set_xlabel('Theta-2 multi-discrete monotonic')\n",
    "ax[1].set_ylabel('Theta global epistasis')\n",
    "\n",
    "fig.tight_layout()"
   ]
  },
  {
   "cell_type": "code",
   "execution_count": null,
   "metadata": {},
   "outputs": [],
   "source": [
    "lehner_binding_singles_df = pd.read_csv('data/GRB2-SH3.singles_binding.csv',index_col=[0])\n",
    "lehner_binding_singles_df"
   ]
  },
  {
   "cell_type": "code",
   "execution_count": null,
   "metadata": {},
   "outputs": [],
   "source": [
    "binding_singles_transformed_df = pd.DataFrame(np.nan*np.ones(shape=(57,21)),columns=alphabet)\n",
    "binding_singles_transformed_df.head()"
   ]
  },
  {
   "cell_type": "code",
   "execution_count": null,
   "metadata": {},
   "outputs": [],
   "source": [
    "for idx in lehner_binding_singles_df.index:\n",
    "\n",
    "    mutant = lehner_binding_singles_df.loc[idx]['Mut']\n",
    "    value = lehner_binding_singles_df.loc[idx]['fitness']\n",
    "    \n",
    "    pos = lehner_binding_singles_df.loc[idx]['Pos']-1\n",
    "    binding_singles_transformed_df[mutant][pos] = value"
   ]
  },
  {
   "cell_type": "code",
   "execution_count": null,
   "metadata": {},
   "outputs": [],
   "source": [
    "fig, axs = plt.subplots(1,2,figsize=(8,4))\n",
    "\n",
    "ax = axs[0]\n",
    "Rsq = np.corrcoef(theta_2_lc[0].ravel(),binding_singles_transformed_df.fillna(0).values.ravel())[0,1]**2\n",
    "ax.scatter(theta_2_lc[0].ravel(),binding_singles_transformed_df.values.ravel(),s=3,alpha=0.3,color='blue')\n",
    "ax.set_xlabel(' $\\\\theta$ - 1')\n",
    "ax.set_ylabel(' Binding, singles - Lehner')\n",
    "ax.set_title(f'$R^2 = $ {Rsq:.3f}')\n",
    "\n",
    "ax = axs[1]\n",
    "Rsq = np.corrcoef(theta_2_lc[1].ravel(),binding_singles_transformed_df.fillna(0).values.ravel())[0,1]**2\n",
    "ax.scatter(theta_2_lc[1].ravel(),binding_singles_transformed_df.values.ravel(),s=3,alpha=0.3,color='blue')\n",
    "ax.set_xlabel(' $\\\\theta$ - 2')\n",
    "ax.set_ylabel(' Binding, singles - Lehner')\n",
    "ax.set_title(f'$R^2 = $ {Rsq:.3f}')\n",
    "\n",
    "fig.tight_layout()\n",
    "\n",
    "#fig.savefig('plots/GRB2_SH3/GRB2_SH3.singles_binding_comparison_to_Lehner.png',dpi=200,bbox_inches='tight')\n"
   ]
  },
  {
   "cell_type": "code",
   "execution_count": null,
   "metadata": {},
   "outputs": [],
   "source": [
    "# # Create fig and ax objects\n",
    "fig, ax = plt.subplots(figsize=[12,4])\n",
    "\n",
    "# Draw heatmap\n",
    "ax, cb = mavenn.heatmap(ax=ax,\n",
    "                        values=binding_singles_transformed_df.values,\n",
    "                        alphabet=alphabet,\n",
    "                        seq=model.x_stats['consensus_seq'],\n",
    "                        seq_kwargs={'c':'gray', 's':20,'marker':'o'},\n",
    "                        cmap='RdBu',\n",
    "                        cbar=True,\n",
    "                        #clim = [-5,1],\n",
    "                        cmap_size='2%',\n",
    "                        cmap_pad=.3,\n",
    "                        ccenter=0)\n",
    "\n",
    "# Style colorbar\n",
    "cb.set_label('Additive effect - WT gauge ($\\\\theta$)',\n",
    "             labelpad=10, ha='center', va='center', rotation=-90)\n",
    "cb.outline.set_visible(False)\n",
    "cb.ax.tick_params(direction='in', size=20, color='white')\n",
    "ax.set_title('Lehner - binding')\n",
    "\n",
    "#fig.savefig('plots/GRB2_SH3/Lehner_GP_map_binding.png',dpi=300,bbox_inches='tight')"
   ]
  },
  {
   "cell_type": "code",
   "execution_count": null,
   "metadata": {},
   "outputs": [],
   "source": []
  }
 ],
 "metadata": {
  "kernelspec": {
   "display_name": "Python 3 (ipykernel)",
   "language": "python",
   "name": "python3"
  },
  "language_info": {
   "codemirror_mode": {
    "name": "ipython",
    "version": 3
   },
   "file_extension": ".py",
   "mimetype": "text/x-python",
   "name": "python",
   "nbconvert_exporter": "python",
   "pygments_lexer": "ipython3",
   "version": "3.9.7"
  }
 },
 "nbformat": 4,
 "nbformat_minor": 2
}
