{
 "cells": [
  {
   "cell_type": "code",
   "execution_count": 1,
   "metadata": {},
   "outputs": [],
   "source": [
    "import numpy as np\n",
    "import pandas as pd\n",
    "import matplotlib.pyplot as plt\n",
    "import sys\n",
    "sys.path.insert(0, '/Users/tareen/Desktop/Research_Projects/2022_mavenn2_github/mavenn')\n",
    "\n",
    "import mavenn\n",
    "import logomaker\n",
    "import seaborn as sns\n",
    "import re\n",
    "\n",
    "%matplotlib inline"
   ]
  },
  {
   "cell_type": "code",
   "execution_count": 2,
   "metadata": {},
   "outputs": [
    {
     "name": "stderr",
     "output_type": "stream",
     "text": [
      "/Library/Frameworks/Python.framework/Versions/3.9/lib/python3.9/site-packages/IPython/core/interactiveshell.py:3457: DtypeWarning: Columns (6) have mixed types.Specify dtype option on import or set low_memory=False.\n",
      "  exec(code_obj, self.user_global_ns, self.user_ns)\n"
     ]
    }
   ],
   "source": [
    "binding_df_full = pd.read_csv('data/GRB2-SH3.binding.csv')\n",
    "binding_df = binding_df_full[['aa_seq','count_e1_s0','count_e1_s1']].dropna().reset_index(drop=True).copy()"
   ]
  },
  {
   "cell_type": "code",
   "execution_count": 3,
   "metadata": {},
   "outputs": [],
   "source": [
    "abundance_df_full = pd.read_csv('data/GRB2-SH3.abundance.csv')\n",
    "abundance_df = abundance_df_full[['aa_seq','count_e1_s0','count_e1_s1']].dropna().reset_index(drop=True).copy()"
   ]
  },
  {
   "cell_type": "code",
   "execution_count": 4,
   "metadata": {},
   "outputs": [],
   "source": [
    "data_df = binding_df.copy()\n",
    "y_cols = data_df.columns[1:] "
   ]
  },
  {
   "cell_type": "code",
   "execution_count": 5,
   "metadata": {},
   "outputs": [],
   "source": [
    "X = data_df['aa_seq']\n",
    "y = data_df[y_cols]"
   ]
  },
  {
   "cell_type": "code",
   "execution_count": 6,
   "metadata": {},
   "outputs": [
    {
     "name": "stdout",
     "output_type": "stream",
     "text": [
      "L=57, Y=2\n"
     ]
    }
   ],
   "source": [
    "# set positional argumnets for gpmap function\n",
    "L = len(data_df['aa_seq'][0])\n",
    "alphabet=['A', 'C', 'D', 'E', 'F',\n",
    "          'G', 'H', 'I', 'K', 'L',\n",
    "          'M', 'N', 'P', 'Q', 'R',\n",
    "          'S', 'T', 'V', 'W', 'Y', '*']\n",
    "\n",
    "\n",
    "Y = len(y_cols)\n",
    "print(f'L={L}, Y={Y}')"
   ]
  },
  {
   "cell_type": "code",
   "execution_count": 7,
   "metadata": {},
   "outputs": [],
   "source": [
    "data_df_GE = binding_df_full[['aa_seq','fitness']].copy()"
   ]
  },
  {
   "cell_type": "code",
   "execution_count": 8,
   "metadata": {},
   "outputs": [
    {
     "data": {
      "image/png": "[encoded data removed]",
      "text/plain": [
       "<Figure size 432x288 with 1 Axes>"
      ]
     },
     "metadata": {
      "needs_background": "light"
     },
     "output_type": "display_data"
    }
   ],
   "source": [
    "plt.hist(data_df_GE['fitness'],bins=20,color='blue')\n",
    "plt.show()"
   ]
  },
  {
   "cell_type": "code",
   "execution_count": 9,
   "metadata": {},
   "outputs": [],
   "source": [
    "#gpmapGE = mavenn.gpmap.AdditiveGPMapLayer(L, alphabet)\n",
    "\n",
    "gpmapGE = mavenn.gpmap.Multi_AdditiveGPMapLayer(L=L, \n",
    "                                              alphabet=alphabet,\n",
    "                                              number_latent_nodes=2)\n",
    "\n",
    "#gpmapGE = mavenn.gpmap.MultilayerPerceptronGPMap(L, alphabet)\n",
    "mp_GE = mavenn.measurement_process_layers.GlobalEpsistasisMP(K=50,\n",
    "                                                           monotonic=True,\n",
    "                                                           number_latent_nodes=2,\n",
    "                                                           ge_heteroskedasticity_order=2,\n",
    "                                                           ge_noise_model_type='Gaussian')"
   ]
  },
  {
   "cell_type": "code",
   "execution_count": 10,
   "metadata": {},
   "outputs": [],
   "source": [
    "from sklearn.model_selection import train_test_split\n",
    "\n",
    "# split data into training and testing sets\n",
    "x_train_GE, x_test_GE, y_train_GE, y_test_GE = train_test_split(data_df_GE['aa_seq'].values, \n",
    "                                                                data_df_GE['fitness'].values, test_size=0.1)"
   ]
  },
  {
   "cell_type": "code",
   "execution_count": 11,
   "metadata": {},
   "outputs": [
    {
     "name": "stderr",
     "output_type": "stream",
     "text": [
      "2023-01-27 11:31:35.308032: I tensorflow/core/platform/cpu_feature_guard.cc:151] This TensorFlow binary is optimized with oneAPI Deep Neural Network Library (oneDNN) to use the following CPU instructions in performance-critical operations:  AVX2 FMA\n",
      "To enable them in other operations, rebuild TensorFlow with the appropriate compiler flags.\n"
     ]
    },
    {
     "name": "stdout",
     "output_type": "stream",
     "text": [
      "N = 41,749 observations set as training data.\n",
      "Using 20.0% for validation.\n",
      "Time to set data: 3.11 sec.\n"
     ]
    }
   ],
   "source": [
    "model_GE = mavenn.Model2(gpmap=gpmapGE,\n",
    "                      mp_list=[mp_GE])\n",
    "\n",
    "# Set training data\n",
    "model_GE.set_data(x=x_train_GE,\n",
    "               #y_list=[data_df['y'].values.reshape(-1,1)],\n",
    "               y_list=[y_train_GE.reshape(-1,1)],\n",
    "               shuffle=False)"
   ]
  },
  {
   "cell_type": "code",
   "execution_count": 12,
   "metadata": {},
   "outputs": [
    {
     "name": "stdout",
     "output_type": "stream",
     "text": [
      "Model: \"model\"\n",
      "__________________________________________________________________________________________________\n",
      " Layer (type)                   Output Shape         Param #     Connected to                     \n",
      "==================================================================================================\n",
      " Sequence_labels_input (InputLa  [(None, 1198)]      0           []                               \n",
      " yer)                                                                                             \n",
      "                                                                                                  \n",
      " Sequence_only (Lambda)         (None, 1197)         0           ['Sequence_labels_input[0][0]']  \n",
      "                                                                                                  \n",
      " multi__additive_gp_map_layer (  (None, 2)           2396        ['Sequence_only[0][0]']          \n",
      " Multi_AdditiveGPMapLayer)                                                                        \n",
      "                                                                                                  \n",
      " multi_latent_global_epistasis_  (None, 1)           201         ['multi__additive_gp_map_layer[0]\n",
      " layer (MultiLatentGlobalEpista                                  [0]']                            \n",
      " sisLayer)                                                                                        \n",
      "                                                                                                  \n",
      " Labels_input_0 (Lambda)        (None, 1)            0           ['Sequence_labels_input[0][0]']  \n",
      "                                                                                                  \n",
      " yhat_and_y_to_ll_0 (Concatenat  (None, 2)           0           ['multi_latent_global_epistasis_l\n",
      " e)                                                              ayer[0][0]',                     \n",
      "                                                                  'Labels_input_0[0][0]']         \n",
      "                                                                                                  \n",
      " gaussian_noise_model_layer (Ga  (None, 1)           3           ['yhat_and_y_to_ll_0[0][0]']     \n",
      " ussianNoiseModelLayer)                                                                           \n",
      "                                                                                                  \n",
      "==================================================================================================\n",
      "Total params: 2,600\n",
      "Trainable params: 2,600\n",
      "Non-trainable params: 0\n",
      "__________________________________________________________________________________________________\n"
     ]
    }
   ],
   "source": [
    "model_GE.model.summary()"
   ]
  },
  {
   "cell_type": "code",
   "execution_count": 13,
   "metadata": {
    "scrolled": false
   },
   "outputs": [
    {
     "name": "stdout",
     "output_type": "stream",
     "text": [
      "Epoch 1/150\n",
      "112/112 [==============================] - 3s 8ms/step - loss: 280.2195 - I_var: -1.1189 - val_loss: 265.1535 - val_I_var: -1.0505\n",
      "Epoch 2/150\n",
      "112/112 [==============================] - 1s 5ms/step - loss: 252.7070 - I_var: -0.9860 - val_loss: 237.0674 - val_I_var: -0.9149\n",
      "Epoch 3/150\n",
      "112/112 [==============================] - 1s 6ms/step - loss: 221.8655 - I_var: -0.8376 - val_loss: 202.7968 - val_I_var: -0.7495\n",
      "Epoch 4/150\n",
      "112/112 [==============================] - 1s 6ms/step - loss: 184.6314 - I_var: -0.6580 - val_loss: 165.2616 - val_I_var: -0.5681\n",
      "Epoch 5/150\n",
      "112/112 [==============================] - 1s 9ms/step - loss: 148.4082 - I_var: -0.4838 - val_loss: 131.4370 - val_I_var: -0.4046\n",
      "Epoch 6/150\n",
      "112/112 [==============================] - 1s 9ms/step - loss: 116.6195 - I_var: -0.3304 - val_loss: 102.4903 - val_I_var: -0.2647\n",
      "Epoch 7/150\n",
      "112/112 [==============================] - 1s 8ms/step - loss: 88.7812 - I_var: -0.1960 - val_loss: 76.6045 - val_I_var: -0.1397\n",
      "Epoch 8/150\n",
      "112/112 [==============================] - 1s 6ms/step - loss: 64.7368 - I_var: -0.0809 - val_loss: 54.1999 - val_I_var: -0.0315\n",
      "Epoch 9/150\n",
      "112/112 [==============================] - 1s 6ms/step - loss: 43.4818 - I_var: 0.0224 - val_loss: 34.2312 - val_I_var: 0.0650\n",
      "Epoch 10/150\n",
      "112/112 [==============================] - 1s 11ms/step - loss: 24.2792 - I_var: 0.1141 - val_loss: 17.1481 - val_I_var: 0.1476\n",
      "Epoch 11/150\n",
      "112/112 [==============================] - 1s 9ms/step - loss: 8.0400 - I_var: 0.1919 - val_loss: 3.7268 - val_I_var: 0.2125\n",
      "Epoch 12/150\n",
      "112/112 [==============================] - 1s 8ms/step - loss: -6.1622 - I_var: 0.2609 - val_loss: -11.9581 - val_I_var: 0.2882\n",
      "Epoch 13/150\n",
      "112/112 [==============================] - 1s 7ms/step - loss: -19.8038 - I_var: 0.3263 - val_loss: -22.9709 - val_I_var: 0.3414\n",
      "Epoch 14/150\n",
      "112/112 [==============================] - 1s 9ms/step - loss: -29.9582 - I_var: 0.3751 - val_loss: -27.1776 - val_I_var: 0.3616\n",
      "Epoch 15/150\n",
      "112/112 [==============================] - 1s 10ms/step - loss: -38.5162 - I_var: 0.4173 - val_loss: -38.2507 - val_I_var: 0.4153\n",
      "Epoch 16/150\n",
      "112/112 [==============================] - 1s 7ms/step - loss: -44.9071 - I_var: 0.4480 - val_loss: -43.8002 - val_I_var: 0.4421\n",
      "Epoch 17/150\n",
      "112/112 [==============================] - 1s 7ms/step - loss: -50.9360 - I_var: 0.4770 - val_loss: -47.5120 - val_I_var: 0.4602\n",
      "Epoch 18/150\n",
      "112/112 [==============================] - 1s 9ms/step - loss: -54.7697 - I_var: 0.4917 - val_loss: -48.9608 - val_I_var: 0.4675\n",
      "Epoch 19/150\n",
      "112/112 [==============================] - 1s 8ms/step - loss: -58.7987 - I_var: 0.5149 - val_loss: -52.0083 - val_I_var: 0.4819\n",
      "Epoch 20/150\n",
      "112/112 [==============================] - 1s 8ms/step - loss: -61.3389 - I_var: 0.5255 - val_loss: -57.0903 - val_I_var: 0.5067\n",
      "Epoch 21/150\n",
      "112/112 [==============================] - 1s 9ms/step - loss: -64.5038 - I_var: 0.5415 - val_loss: -59.3983 - val_I_var: 0.5179\n",
      "Epoch 22/150\n",
      "112/112 [==============================] - 1s 8ms/step - loss: -66.9046 - I_var: 0.5532 - val_loss: -60.2216 - val_I_var: 0.5219\n",
      "Epoch 23/150\n",
      "112/112 [==============================] - 1s 9ms/step - loss: -69.5516 - I_var: 0.5662 - val_loss: -62.6591 - val_I_var: 0.5337\n",
      "Epoch 24/150\n",
      "112/112 [==============================] - 1s 10ms/step - loss: -72.1509 - I_var: 0.5770 - val_loss: -65.8095 - val_I_var: 0.5491\n",
      "Epoch 25/150\n",
      "112/112 [==============================] - 1s 12ms/step - loss: -73.8914 - I_var: 0.5875 - val_loss: -66.9807 - val_I_var: 0.5546\n",
      "Epoch 26/150\n",
      "112/112 [==============================] - 1s 13ms/step - loss: -75.9331 - I_var: 0.5984 - val_loss: -70.3583 - val_I_var: 0.5711\n",
      "Epoch 27/150\n",
      "112/112 [==============================] - 1s 12ms/step - loss: -80.9785 - I_var: 0.6196 - val_loss: -72.6849 - val_I_var: 0.5823\n",
      "Epoch 28/150\n",
      "112/112 [==============================] - 1s 8ms/step - loss: -84.1187 - I_var: 0.6362 - val_loss: -75.7259 - val_I_var: 0.5971\n",
      "Epoch 29/150\n",
      "112/112 [==============================] - 1s 9ms/step - loss: -86.5189 - I_var: 0.6484 - val_loss: -78.3821 - val_I_var: 0.6099\n",
      "Epoch 30/150\n",
      "112/112 [==============================] - 1s 5ms/step - loss: -89.7250 - I_var: 0.6641 - val_loss: -81.5845 - val_I_var: 0.6254\n",
      "Epoch 31/150\n",
      "112/112 [==============================] - 1s 5ms/step - loss: -92.1732 - I_var: 0.6754 - val_loss: -84.1887 - val_I_var: 0.6380\n",
      "Epoch 32/150\n",
      "112/112 [==============================] - 1s 6ms/step - loss: -96.2028 - I_var: 0.6945 - val_loss: -86.8711 - val_I_var: 0.6509\n",
      "Epoch 33/150\n",
      "112/112 [==============================] - 1s 8ms/step - loss: -99.7835 - I_var: 0.7112 - val_loss: -90.2722 - val_I_var: 0.6675\n",
      "Epoch 34/150\n",
      "112/112 [==============================] - 1s 8ms/step - loss: -102.6930 - I_var: 0.7251 - val_loss: -93.3998 - val_I_var: 0.6826\n",
      "Epoch 35/150\n",
      "112/112 [==============================] - 1s 7ms/step - loss: -106.3915 - I_var: 0.7435 - val_loss: -90.6698 - val_I_var: 0.6697\n",
      "Epoch 36/150\n",
      "112/112 [==============================] - 1s 10ms/step - loss: -109.2676 - I_var: 0.7574 - val_loss: -100.2775 - val_I_var: 0.7158\n",
      "Epoch 37/150\n",
      "112/112 [==============================] - 1s 9ms/step - loss: -113.5363 - I_var: 0.7779 - val_loss: -99.9923 - val_I_var: 0.7143\n",
      "Epoch 38/150\n",
      "112/112 [==============================] - 1s 8ms/step - loss: -116.7444 - I_var: 0.7940 - val_loss: -106.2369 - val_I_var: 0.7447\n",
      "Epoch 39/150\n",
      "112/112 [==============================] - 1s 7ms/step - loss: -120.2406 - I_var: 0.8108 - val_loss: -110.1027 - val_I_var: 0.7634\n",
      "Epoch 40/150\n",
      "112/112 [==============================] - 1s 8ms/step - loss: -123.2599 - I_var: 0.8258 - val_loss: -113.5043 - val_I_var: 0.7797\n",
      "Epoch 41/150\n",
      "112/112 [==============================] - 1s 7ms/step - loss: -127.5373 - I_var: 0.8453 - val_loss: -114.6733 - val_I_var: 0.7857\n",
      "Epoch 42/150\n",
      "112/112 [==============================] - 1s 5ms/step - loss: -130.0089 - I_var: 0.8590 - val_loss: -120.0130 - val_I_var: 0.8113\n",
      "Epoch 43/150\n",
      "112/112 [==============================] - 1s 5ms/step - loss: -134.7291 - I_var: 0.8799 - val_loss: -121.7229 - val_I_var: 0.8194\n",
      "Epoch 44/150\n",
      "112/112 [==============================] - 1s 5ms/step - loss: -137.4440 - I_var: 0.8938 - val_loss: -126.1841 - val_I_var: 0.8411\n",
      "Epoch 45/150\n",
      "112/112 [==============================] - 1s 5ms/step - loss: -141.1610 - I_var: 0.9084 - val_loss: -129.5631 - val_I_var: 0.8574\n",
      "Epoch 46/150\n",
      "112/112 [==============================] - 1s 5ms/step - loss: -144.6885 - I_var: 0.9292 - val_loss: -129.7302 - val_I_var: 0.8585\n",
      "Epoch 47/150\n",
      "112/112 [==============================] - 1s 5ms/step - loss: -147.8107 - I_var: 0.9423 - val_loss: -128.0729 - val_I_var: 0.8499\n",
      "Epoch 48/150\n",
      "112/112 [==============================] - 1s 5ms/step - loss: -150.1886 - I_var: 0.9556 - val_loss: -137.6091 - val_I_var: 0.8964\n",
      "Epoch 49/150\n",
      "112/112 [==============================] - 1s 5ms/step - loss: -153.7986 - I_var: 0.9701 - val_loss: -139.3362 - val_I_var: 0.9048\n",
      "Epoch 50/150\n",
      "112/112 [==============================] - 1s 5ms/step - loss: -156.5470 - I_var: 0.9842 - val_loss: -141.8946 - val_I_var: 0.9172\n",
      "Epoch 51/150\n",
      "112/112 [==============================] - 1s 5ms/step - loss: -157.9678 - I_var: 0.9938 - val_loss: -142.7612 - val_I_var: 0.9215\n",
      "Epoch 52/150\n",
      "112/112 [==============================] - 1s 5ms/step - loss: -160.6681 - I_var: 1.0040 - val_loss: -143.5503 - val_I_var: 0.9253\n",
      "Epoch 53/150\n",
      "112/112 [==============================] - 1s 5ms/step - loss: -162.8969 - I_var: 1.0160 - val_loss: -146.8719 - val_I_var: 0.9410\n",
      "Epoch 54/150\n",
      "112/112 [==============================] - 1s 5ms/step - loss: -165.0186 - I_var: 1.0249 - val_loss: -148.0101 - val_I_var: 0.9467\n",
      "Epoch 55/150\n",
      "112/112 [==============================] - 1s 5ms/step - loss: -166.8584 - I_var: 1.0351 - val_loss: -150.2421 - val_I_var: 0.9574\n",
      "Epoch 56/150\n",
      "112/112 [==============================] - 1s 5ms/step - loss: -167.7117 - I_var: 1.0393 - val_loss: -150.7996 - val_I_var: 0.9602\n",
      "Epoch 57/150\n",
      "112/112 [==============================] - 1s 5ms/step - loss: -169.5382 - I_var: 1.0457 - val_loss: -151.8628 - val_I_var: 0.9653\n",
      "Epoch 58/150\n"
     ]
    },
    {
     "name": "stdout",
     "output_type": "stream",
     "text": [
      "112/112 [==============================] - 1s 5ms/step - loss: -170.0461 - I_var: 1.0476 - val_loss: -151.6036 - val_I_var: 0.9638\n",
      "Epoch 59/150\n",
      "112/112 [==============================] - 1s 5ms/step - loss: -171.1344 - I_var: 1.0542 - val_loss: -153.1452 - val_I_var: 0.9713\n",
      "Epoch 60/150\n",
      "112/112 [==============================] - 1s 5ms/step - loss: -172.7450 - I_var: 1.0639 - val_loss: -152.5898 - val_I_var: 0.9689\n",
      "Epoch 61/150\n",
      "112/112 [==============================] - 1s 5ms/step - loss: -173.3441 - I_var: 1.0664 - val_loss: -154.3375 - val_I_var: 0.9771\n",
      "Epoch 62/150\n",
      "112/112 [==============================] - 1s 5ms/step - loss: -172.3686 - I_var: 1.0629 - val_loss: -155.1333 - val_I_var: 0.9812\n",
      "Epoch 63/150\n",
      "112/112 [==============================] - 1s 5ms/step - loss: -175.1999 - I_var: 1.0763 - val_loss: -154.8795 - val_I_var: 0.9800\n",
      "Epoch 64/150\n",
      "112/112 [==============================] - 1s 5ms/step - loss: -175.8974 - I_var: 1.0774 - val_loss: -156.3779 - val_I_var: 0.9871\n",
      "Epoch 65/150\n",
      "112/112 [==============================] - 1s 5ms/step - loss: -174.9221 - I_var: 1.0738 - val_loss: -141.1631 - val_I_var: 0.9140\n",
      "Epoch 66/150\n",
      "112/112 [==============================] - 1s 5ms/step - loss: -176.6729 - I_var: 1.0834 - val_loss: -152.5233 - val_I_var: 0.9687\n",
      "Epoch 67/150\n",
      "112/112 [==============================] - 1s 5ms/step - loss: -177.4923 - I_var: 1.0855 - val_loss: -157.7462 - val_I_var: 0.9937\n",
      "Epoch 68/150\n",
      "112/112 [==============================] - 1s 5ms/step - loss: -176.9093 - I_var: 1.0855 - val_loss: -155.1232 - val_I_var: 0.9812\n",
      "Epoch 69/150\n",
      "112/112 [==============================] - 1s 6ms/step - loss: -178.3876 - I_var: 1.0887 - val_loss: -156.5209 - val_I_var: 0.9876\n",
      "Epoch 70/150\n",
      "112/112 [==============================] - 1s 5ms/step - loss: -176.9524 - I_var: 1.0846 - val_loss: -158.3241 - val_I_var: 0.9964\n",
      "Epoch 71/150\n",
      "112/112 [==============================] - 1s 5ms/step - loss: -179.1416 - I_var: 1.0955 - val_loss: -155.4586 - val_I_var: 0.9828\n",
      "Epoch 72/150\n",
      "112/112 [==============================] - 1s 6ms/step - loss: -179.3107 - I_var: 1.0963 - val_loss: -158.8654 - val_I_var: 0.9991\n",
      "Epoch 73/150\n",
      "112/112 [==============================] - 1s 5ms/step - loss: -179.6494 - I_var: 1.0968 - val_loss: -159.0759 - val_I_var: 1.0001\n",
      "Epoch 74/150\n",
      "112/112 [==============================] - 1s 5ms/step - loss: -179.7414 - I_var: 1.0971 - val_loss: -159.3176 - val_I_var: 1.0013\n",
      "Epoch 75/150\n",
      "112/112 [==============================] - 1s 5ms/step - loss: -179.8114 - I_var: 1.0971 - val_loss: -158.3108 - val_I_var: 0.9966\n",
      "Epoch 76/150\n",
      "112/112 [==============================] - 1s 5ms/step - loss: -179.9951 - I_var: 1.0987 - val_loss: -159.6139 - val_I_var: 1.0026\n",
      "Epoch 77/150\n",
      "112/112 [==============================] - 1s 5ms/step - loss: -180.3594 - I_var: 1.1019 - val_loss: -157.7731 - val_I_var: 0.9939\n",
      "Epoch 78/150\n",
      "112/112 [==============================] - 1s 5ms/step - loss: -180.1177 - I_var: 1.1001 - val_loss: -158.3093 - val_I_var: 0.9965\n",
      "Epoch 79/150\n",
      "112/112 [==============================] - 1s 5ms/step - loss: -180.0333 - I_var: 1.0998 - val_loss: -159.6006 - val_I_var: 1.0027\n",
      "Epoch 80/150\n",
      "112/112 [==============================] - 1s 5ms/step - loss: -180.6441 - I_var: 1.0998 - val_loss: -159.2047 - val_I_var: 1.0009\n",
      "Epoch 81/150\n",
      "112/112 [==============================] - 1s 5ms/step - loss: -180.5306 - I_var: 1.1012 - val_loss: -159.0872 - val_I_var: 1.0001\n",
      "Epoch 82/150\n",
      "112/112 [==============================] - 1s 5ms/step - loss: -181.0124 - I_var: 1.1039 - val_loss: -156.4812 - val_I_var: 0.9878\n",
      "Epoch 83/150\n",
      "112/112 [==============================] - 1s 5ms/step - loss: -180.6002 - I_var: 1.0998 - val_loss: -159.8676 - val_I_var: 1.0039\n",
      "Epoch 84/150\n",
      "112/112 [==============================] - 1s 5ms/step - loss: -181.0441 - I_var: 1.1023 - val_loss: -154.3853 - val_I_var: 0.9772\n",
      "Epoch 85/150\n",
      "112/112 [==============================] - 1s 6ms/step - loss: -180.7477 - I_var: 1.1024 - val_loss: -154.6124 - val_I_var: 0.9788\n",
      "Epoch 86/150\n",
      "112/112 [==============================] - 1s 5ms/step - loss: -180.7194 - I_var: 1.1028 - val_loss: -160.5023 - val_I_var: 1.0070\n",
      "Epoch 87/150\n",
      "112/112 [==============================] - 1s 5ms/step - loss: -181.2094 - I_var: 1.1061 - val_loss: -157.9279 - val_I_var: 0.9947\n",
      "Epoch 88/150\n",
      "112/112 [==============================] - 1s 5ms/step - loss: -181.9714 - I_var: 1.1060 - val_loss: -160.5155 - val_I_var: 1.0071\n",
      "Epoch 89/150\n",
      "112/112 [==============================] - 1s 5ms/step - loss: -181.5776 - I_var: 1.1032 - val_loss: -156.7149 - val_I_var: 0.9889\n",
      "Epoch 90/150\n",
      "112/112 [==============================] - 1s 5ms/step - loss: -181.8334 - I_var: 1.1076 - val_loss: -160.4145 - val_I_var: 1.0065\n",
      "Epoch 91/150\n",
      "112/112 [==============================] - 1s 5ms/step - loss: -181.7832 - I_var: 1.1075 - val_loss: -160.3849 - val_I_var: 1.0064\n",
      "Epoch 92/150\n",
      "112/112 [==============================] - 1s 5ms/step - loss: -181.4601 - I_var: 1.1034 - val_loss: -160.6423 - val_I_var: 1.0077\n",
      "Epoch 93/150\n",
      "112/112 [==============================] - 1s 5ms/step - loss: -181.7452 - I_var: 1.1044 - val_loss: -160.7510 - val_I_var: 1.0082\n",
      "Epoch 94/150\n",
      "112/112 [==============================] - 1s 5ms/step - loss: -182.1349 - I_var: 1.1067 - val_loss: -159.1834 - val_I_var: 1.0008\n",
      "Epoch 95/150\n",
      "112/112 [==============================] - 1s 5ms/step - loss: -181.1191 - I_var: 1.1034 - val_loss: -160.8376 - val_I_var: 1.0085\n",
      "Epoch 96/150\n",
      "112/112 [==============================] - 1s 5ms/step - loss: -181.9837 - I_var: 1.1068 - val_loss: -158.1330 - val_I_var: 0.9957\n",
      "Epoch 97/150\n",
      "112/112 [==============================] - 1s 5ms/step - loss: -182.7764 - I_var: 1.1093 - val_loss: -158.7067 - val_I_var: 0.9985\n",
      "Epoch 98/150\n",
      "112/112 [==============================] - 1s 5ms/step - loss: -181.4883 - I_var: 1.1057 - val_loss: -160.8145 - val_I_var: 1.0085\n",
      "Epoch 99/150\n",
      "112/112 [==============================] - 1s 5ms/step - loss: -182.6745 - I_var: 1.1121 - val_loss: -158.3545 - val_I_var: 0.9968\n",
      "Epoch 100/150\n",
      "112/112 [==============================] - 1s 5ms/step - loss: -181.8056 - I_var: 1.1060 - val_loss: -160.2087 - val_I_var: 1.0055\n",
      "Epoch 101/150\n",
      "112/112 [==============================] - 1s 5ms/step - loss: -182.3829 - I_var: 1.1095 - val_loss: -160.1491 - val_I_var: 1.0054\n",
      "Epoch 102/150\n",
      "112/112 [==============================] - 1s 5ms/step - loss: -182.2358 - I_var: 1.1109 - val_loss: -159.7923 - val_I_var: 1.0037\n",
      "Epoch 103/150\n",
      "112/112 [==============================] - 1s 5ms/step - loss: -181.9343 - I_var: 1.1089 - val_loss: -160.4675 - val_I_var: 1.0067\n",
      "Epoch 104/150\n",
      "112/112 [==============================] - 1s 5ms/step - loss: -181.9957 - I_var: 1.1083 - val_loss: -156.8832 - val_I_var: 0.9897\n",
      "Epoch 105/150\n",
      "112/112 [==============================] - 1s 5ms/step - loss: -182.8188 - I_var: 1.1120 - val_loss: -159.8699 - val_I_var: 1.0041\n",
      "Epoch 106/150\n",
      "112/112 [==============================] - 1s 5ms/step - loss: -182.9615 - I_var: 1.1133 - val_loss: -160.8982 - val_I_var: 1.0089\n",
      "Epoch 107/150\n",
      "112/112 [==============================] - 1s 6ms/step - loss: -182.5520 - I_var: 1.1126 - val_loss: -158.8894 - val_I_var: 0.9994\n",
      "Epoch 108/150\n",
      "112/112 [==============================] - 1s 5ms/step - loss: -181.7883 - I_var: 1.1091 - val_loss: -160.6925 - val_I_var: 1.0080\n",
      "Epoch 109/150\n",
      "112/112 [==============================] - 1s 5ms/step - loss: -182.6743 - I_var: 1.1116 - val_loss: -160.9497 - val_I_var: 1.0092\n",
      "Epoch 110/150\n",
      "112/112 [==============================] - 1s 5ms/step - loss: -182.8276 - I_var: 1.1127 - val_loss: -157.9836 - val_I_var: 0.9950\n",
      "Epoch 111/150\n",
      "112/112 [==============================] - 1s 5ms/step - loss: -182.9475 - I_var: 1.1123 - val_loss: -161.2159 - val_I_var: 1.0105\n",
      "Epoch 112/150\n",
      "112/112 [==============================] - 1s 5ms/step - loss: -182.9452 - I_var: 1.1133 - val_loss: -157.8145 - val_I_var: 0.9942\n",
      "Epoch 113/150\n",
      "112/112 [==============================] - 1s 8ms/step - loss: -181.9522 - I_var: 1.1051 - val_loss: -159.8514 - val_I_var: 1.0037\n",
      "Epoch 114/150\n",
      "112/112 [==============================] - 1s 9ms/step - loss: -182.6740 - I_var: 1.1112 - val_loss: -161.1362 - val_I_var: 1.0100\n"
     ]
    },
    {
     "name": "stdout",
     "output_type": "stream",
     "text": [
      "Epoch 115/150\n",
      "112/112 [==============================] - 1s 7ms/step - loss: -183.1778 - I_var: 1.1134 - val_loss: -155.8458 - val_I_var: 0.9842\n",
      "Epoch 116/150\n",
      "112/112 [==============================] - 1s 9ms/step - loss: -183.0273 - I_var: 1.1130 - val_loss: -161.2630 - val_I_var: 1.0107\n",
      "Epoch 117/150\n",
      "112/112 [==============================] - 1s 7ms/step - loss: -182.2724 - I_var: 1.1082 - val_loss: -161.0191 - val_I_var: 1.0095\n",
      "Epoch 118/150\n",
      "112/112 [==============================] - 1s 7ms/step - loss: -183.2473 - I_var: 1.1116 - val_loss: -159.6815 - val_I_var: 1.0031\n",
      "Epoch 119/150\n",
      "112/112 [==============================] - 1s 7ms/step - loss: -182.7042 - I_var: 1.1099 - val_loss: -159.0063 - val_I_var: 0.9999\n",
      "Epoch 120/150\n",
      "112/112 [==============================] - 1s 6ms/step - loss: -182.7253 - I_var: 1.1097 - val_loss: -161.3498 - val_I_var: 1.0111\n",
      "Epoch 121/150\n",
      "112/112 [==============================] - 1s 8ms/step - loss: -183.6793 - I_var: 1.1141 - val_loss: -161.3700 - val_I_var: 1.0112\n",
      "Epoch 122/150\n",
      "112/112 [==============================] - 1s 6ms/step - loss: -182.9250 - I_var: 1.1133 - val_loss: -161.5210 - val_I_var: 1.0119\n",
      "Epoch 123/150\n",
      "112/112 [==============================] - 1s 6ms/step - loss: -183.8571 - I_var: 1.1171 - val_loss: -158.6365 - val_I_var: 0.9981\n",
      "Epoch 124/150\n",
      "112/112 [==============================] - 1s 6ms/step - loss: -183.7439 - I_var: 1.1181 - val_loss: -158.5192 - val_I_var: 0.9976\n",
      "Epoch 125/150\n",
      "112/112 [==============================] - 1s 6ms/step - loss: -183.8746 - I_var: 1.1176 - val_loss: -160.6239 - val_I_var: 1.0076\n",
      "Epoch 126/150\n",
      "112/112 [==============================] - 1s 6ms/step - loss: -183.1143 - I_var: 1.1126 - val_loss: -161.4114 - val_I_var: 1.0114\n",
      "Epoch 127/150\n",
      "112/112 [==============================] - 1s 6ms/step - loss: -183.3112 - I_var: 1.1128 - val_loss: -160.7715 - val_I_var: 1.0082\n",
      "Epoch 128/150\n",
      "112/112 [==============================] - 1s 6ms/step - loss: -183.6231 - I_var: 1.1154 - val_loss: -161.5500 - val_I_var: 1.0120\n",
      "Epoch 129/150\n",
      "112/112 [==============================] - 1s 6ms/step - loss: -183.6265 - I_var: 1.1145 - val_loss: -160.7278 - val_I_var: 1.0081\n",
      "Epoch 130/150\n",
      "112/112 [==============================] - 1s 6ms/step - loss: -183.7240 - I_var: 1.1155 - val_loss: -156.8951 - val_I_var: 0.9898\n",
      "Epoch 131/150\n",
      "112/112 [==============================] - 1s 6ms/step - loss: -183.6962 - I_var: 1.1142 - val_loss: -161.5107 - val_I_var: 1.0118\n",
      "Epoch 132/150\n",
      "112/112 [==============================] - 1s 6ms/step - loss: -184.0736 - I_var: 1.1192 - val_loss: -160.8395 - val_I_var: 1.0085\n",
      "Epoch 133/150\n",
      "112/112 [==============================] - 1s 6ms/step - loss: -183.5966 - I_var: 1.1149 - val_loss: -153.7193 - val_I_var: 0.9745\n",
      "Epoch 134/150\n",
      "112/112 [==============================] - 1s 6ms/step - loss: -183.1065 - I_var: 1.1147 - val_loss: -161.8641 - val_I_var: 1.0136\n",
      "Epoch 135/150\n",
      "112/112 [==============================] - 1s 6ms/step - loss: -183.3454 - I_var: 1.1145 - val_loss: -161.6754 - val_I_var: 1.0127\n",
      "Epoch 136/150\n",
      "112/112 [==============================] - 1s 8ms/step - loss: -184.2619 - I_var: 1.1191 - val_loss: -159.4765 - val_I_var: 1.0018\n",
      "Epoch 137/150\n",
      "112/112 [==============================] - 1s 6ms/step - loss: -183.5922 - I_var: 1.1165 - val_loss: -160.0085 - val_I_var: 1.0047\n",
      "Epoch 138/150\n",
      "112/112 [==============================] - 1s 6ms/step - loss: -184.1868 - I_var: 1.1195 - val_loss: -161.6740 - val_I_var: 1.0127\n",
      "Epoch 139/150\n",
      "112/112 [==============================] - 1s 8ms/step - loss: -184.1060 - I_var: 1.1172 - val_loss: -158.5282 - val_I_var: 0.9976\n",
      "Epoch 140/150\n",
      "112/112 [==============================] - 1s 7ms/step - loss: -183.9129 - I_var: 1.1172 - val_loss: -161.4288 - val_I_var: 1.0115\n",
      "Epoch 141/150\n",
      "112/112 [==============================] - 1s 7ms/step - loss: -184.1004 - I_var: 1.1197 - val_loss: -156.2172 - val_I_var: 0.9865\n",
      "Epoch 142/150\n",
      "112/112 [==============================] - 1s 7ms/step - loss: -183.4708 - I_var: 1.1171 - val_loss: -161.2911 - val_I_var: 1.0109\n",
      "Epoch 143/150\n",
      "112/112 [==============================] - 1s 8ms/step - loss: -183.5989 - I_var: 1.1176 - val_loss: -161.2782 - val_I_var: 1.0108\n",
      "Epoch 144/150\n",
      "112/112 [==============================] - 1s 7ms/step - loss: -184.5324 - I_var: 1.1204 - val_loss: -159.6599 - val_I_var: 1.0027\n",
      "Epoch 145/150\n",
      "112/112 [==============================] - 1s 6ms/step - loss: -184.7386 - I_var: 1.1203 - val_loss: -159.3803 - val_I_var: 1.0013\n",
      "Epoch 146/150\n",
      "112/112 [==============================] - 1s 8ms/step - loss: -183.4413 - I_var: 1.1172 - val_loss: -162.0750 - val_I_var: 1.0145\n",
      "Epoch 147/150\n",
      "112/112 [==============================] - 1s 7ms/step - loss: -184.7212 - I_var: 1.1230 - val_loss: -160.9591 - val_I_var: 1.0092\n",
      "Epoch 148/150\n",
      "112/112 [==============================] - 1s 6ms/step - loss: -184.9534 - I_var: 1.1195 - val_loss: -158.9784 - val_I_var: 0.9998\n",
      "Epoch 149/150\n",
      "112/112 [==============================] - 1s 6ms/step - loss: -184.7644 - I_var: 1.1223 - val_loss: -162.2376 - val_I_var: 1.0154\n",
      "Epoch 150/150\n",
      "112/112 [==============================] - 1s 9ms/step - loss: -184.8986 - I_var: 1.1225 - val_loss: -162.3678 - val_I_var: 1.0160\n",
      "Training time: 112.2 seconds\n"
     ]
    }
   ],
   "source": [
    "# Fit model to data\n",
    "history = model_GE.fit(learning_rate=.0005,\n",
    "                    epochs=150,\n",
    "                    batch_size=300,\n",
    "                    try_tqdm=False,\n",
    "                    early_stopping=False,\n",
    "                    early_stopping_patience=5,\n",
    "                    linear_initialization=False)"
   ]
  },
  {
   "cell_type": "code",
   "execution_count": 14,
   "metadata": {},
   "outputs": [
    {
     "name": "stdout",
     "output_type": "stream",
     "text": [
      "On test data:\n"
     ]
    },
    {
     "data": {
      "image/png": "[encoded data removed]",
      "text/plain": [
       "<Figure size 576x288 with 2 Axes>"
      ]
     },
     "metadata": {
      "needs_background": "light"
     },
     "output_type": "display_data"
    }
   ],
   "source": [
    "# Show training history\n",
    "print('On test data:')\n",
    "# x_test = test_df['x'].values\n",
    "# y_test = test_df[y_cols].values\n",
    "\n",
    "\n",
    "I_var_hist = model_GE.history['I_var']\n",
    "val_I_var_hist = model_GE.history['val_I_var']\n",
    "\n",
    "fig, axs = plt.subplots(1,2,figsize=[8,4])\n",
    "\n",
    "ax = axs[0]\n",
    "ax.plot(I_var_hist, label='I_var_train')\n",
    "ax.plot(val_I_var_hist, label='I_var_val')\n",
    "ax.legend()\n",
    "ax.set_xlabel('epochs')\n",
    "ax.set_ylabel('bits')\n",
    "#ax.set_xscale('log')\n",
    "ax.set_title('training hisotry')\n",
    "\n",
    "ax = axs[1]\n",
    "ax.plot(model_GE.history['loss'], label='loss_train')\n",
    "ax.plot(model_GE.history['val_loss'], label='loss_val')\n",
    "# ax.set_xlim(100,300)\n",
    "# ax.set_ylim(0.7*1e6,0.8*1e6)\n",
    "ax.legend()\n",
    "ax.set_xlabel('epochs')\n",
    "ax.set_ylabel('loss')\n",
    "# ax.set_xscale('log')\n",
    "# ax.set_yscale('log')\n",
    "ax.set_title('training hisotry')\n",
    "fig.tight_layout()"
   ]
  },
  {
   "cell_type": "code",
   "execution_count": 15,
   "metadata": {},
   "outputs": [],
   "source": [
    "phi = gpmapGE.x_to_phi(x_test_GE)"
   ]
  },
  {
   "cell_type": "code",
   "execution_count": 21,
   "metadata": {
    "scrolled": false
   },
   "outputs": [
    {
     "data": {
      "image/png": "[encoded data removed]",
      "text/plain": [
       "<Figure size 360x360 with 1 Axes>"
      ]
     },
     "metadata": {
      "needs_background": "light"
     },
     "output_type": "display_data"
    }
   ],
   "source": [
    "fig, ax = plt.subplots(1,1, figsize=(5,5))\n",
    "\n",
    "yhat = mp_GE.phi_to_yhat(phi)\n",
    "\n",
    "\n",
    "lims = [min(min(yhat.numpy().ravel()),min(y_test_GE.ravel())),\n",
    "        max(max(yhat.numpy().ravel()),max(y_test_GE.ravel()))]\n",
    "\n",
    "ax.plot(lims,lims,ls='--',color='orange',lw=2)\n",
    "\n",
    "    \n",
    "ax.scatter(yhat,y_test_GE,s=2,alpha=0.2,c='b',label='test data')\n",
    "Rsq = np.corrcoef(yhat.numpy().ravel(),y_test_GE)[0,1]**2\n",
    "\n",
    "ax.set_xlabel('$\\hat{y} = g(\\phi)$')\n",
    "ax.set_ylabel('measurement ($y$)')\n",
    "ax.set_title(f'Binding, Multi-phi $R^2 = $ {Rsq:.3f}')\n",
    "leg = ax.legend()\n",
    "\n",
    "for lh in leg.legendHandles: \n",
    "    lh.set_alpha(1)\n",
    "\n",
    "fig.tight_layout()\n",
    "fig.savefig('plots/GRB2_SH3/global_epistasis_binding_multi_phi.png',dpi=300,bbox_inches='tight')    \n"
   ]
  },
  {
   "cell_type": "code",
   "execution_count": null,
   "metadata": {},
   "outputs": [],
   "source": [
    "theta_lc_GE = gpmapGE.get_theta(model_GE,gauge='consensus')['theta_lc']"
   ]
  },
  {
   "cell_type": "code",
   "execution_count": null,
   "metadata": {},
   "outputs": [],
   "source": [
    "fig, ax = plt.subplots(1,2,figsize=(10,5))\n",
    "ax[0].scatter(theta_2_lc[0].ravel(),theta_lc_GE.ravel(),c='blue',s=5,alpha=0.3)\n",
    "ax[0].set_xlabel('Theta-1 multi-discrete monotonic')\n",
    "ax[0].set_ylabel('Theta global epistasis')\n",
    "\n",
    "ax[1].scatter(theta_2_lc[1].ravel(),theta_lc_GE.ravel(),c='blue',s=5,alpha=0.3)\n",
    "ax[1].set_xlabel('Theta-2 multi-discrete monotonic')\n",
    "ax[1].set_ylabel('Theta global epistasis')\n",
    "\n",
    "fig.tight_layout()"
   ]
  },
  {
   "cell_type": "code",
   "execution_count": null,
   "metadata": {},
   "outputs": [],
   "source": [
    "lehner_binding_singles_df = pd.read_csv('data/GRB2-SH3.singles_binding.csv',index_col=[0])\n",
    "lehner_binding_singles_df"
   ]
  },
  {
   "cell_type": "code",
   "execution_count": null,
   "metadata": {},
   "outputs": [],
   "source": [
    "binding_singles_transformed_df = pd.DataFrame(np.nan*np.ones(shape=(57,21)),columns=alphabet)\n",
    "binding_singles_transformed_df.head()"
   ]
  },
  {
   "cell_type": "code",
   "execution_count": null,
   "metadata": {},
   "outputs": [],
   "source": [
    "for idx in lehner_binding_singles_df.index:\n",
    "\n",
    "    mutant = lehner_binding_singles_df.loc[idx]['Mut']\n",
    "    value = lehner_binding_singles_df.loc[idx]['fitness']\n",
    "    \n",
    "    pos = lehner_binding_singles_df.loc[idx]['Pos']-1\n",
    "    binding_singles_transformed_df[mutant][pos] = value"
   ]
  },
  {
   "cell_type": "code",
   "execution_count": null,
   "metadata": {},
   "outputs": [],
   "source": [
    "fig, axs = plt.subplots(1,2,figsize=(8,4))\n",
    "\n",
    "ax = axs[0]\n",
    "Rsq = np.corrcoef(theta_2_lc[0].ravel(),binding_singles_transformed_df.fillna(0).values.ravel())[0,1]**2\n",
    "ax.scatter(theta_2_lc[0].ravel(),binding_singles_transformed_df.values.ravel(),s=3,alpha=0.3,color='blue')\n",
    "ax.set_xlabel(' $\\\\theta$ - 1')\n",
    "ax.set_ylabel(' Binding, singles - Lehner')\n",
    "ax.set_title(f'$R^2 = $ {Rsq:.3f}')\n",
    "\n",
    "ax = axs[1]\n",
    "Rsq = np.corrcoef(theta_2_lc[1].ravel(),binding_singles_transformed_df.fillna(0).values.ravel())[0,1]**2\n",
    "ax.scatter(theta_2_lc[1].ravel(),binding_singles_transformed_df.values.ravel(),s=3,alpha=0.3,color='blue')\n",
    "ax.set_xlabel(' $\\\\theta$ - 2')\n",
    "ax.set_ylabel(' Binding, singles - Lehner')\n",
    "ax.set_title(f'$R^2 = $ {Rsq:.3f}')\n",
    "\n",
    "fig.tight_layout()\n",
    "\n",
    "#fig.savefig('plots/GRB2_SH3/GRB2_SH3.singles_binding_comparison_to_Lehner.png',dpi=200,bbox_inches='tight')\n"
   ]
  },
  {
   "cell_type": "code",
   "execution_count": null,
   "metadata": {},
   "outputs": [],
   "source": [
    "# # Create fig and ax objects\n",
    "fig, ax = plt.subplots(figsize=[12,4])\n",
    "\n",
    "# Draw heatmap\n",
    "ax, cb = mavenn.heatmap(ax=ax,\n",
    "                        values=binding_singles_transformed_df.values,\n",
    "                        alphabet=alphabet,\n",
    "                        seq=model.x_stats['consensus_seq'],\n",
    "                        seq_kwargs={'c':'gray', 's':20,'marker':'o'},\n",
    "                        cmap='RdBu',\n",
    "                        cbar=True,\n",
    "                        #clim = [-5,1],\n",
    "                        cmap_size='2%',\n",
    "                        cmap_pad=.3,\n",
    "                        ccenter=0)\n",
    "\n",
    "# Style colorbar\n",
    "cb.set_label('Additive effect - WT gauge ($\\\\theta$)',\n",
    "             labelpad=10, ha='center', va='center', rotation=-90)\n",
    "cb.outline.set_visible(False)\n",
    "cb.ax.tick_params(direction='in', size=20, color='white')\n",
    "ax.set_title('Lehner - binding')\n",
    "\n",
    "#fig.savefig('plots/GRB2_SH3/Lehner_GP_map_binding.png',dpi=300,bbox_inches='tight')"
   ]
  },
  {
   "cell_type": "code",
   "execution_count": null,
   "metadata": {},
   "outputs": [],
   "source": []
  }
 ],
 "metadata": {
  "kernelspec": {
   "display_name": "Python 3 (ipykernel)",
   "language": "python",
   "name": "python3"
  },
  "language_info": {
   "codemirror_mode": {
    "name": "ipython",
    "version": 3
   },
   "file_extension": ".py",
   "mimetype": "text/x-python",
   "name": "python",
   "nbconvert_exporter": "python",
   "pygments_lexer": "ipython3",
   "version": "3.9.7"
  }
 },
 "nbformat": 4,
 "nbformat_minor": 2
}
