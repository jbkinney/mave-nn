{
 "cells": [
  {
   "cell_type": "markdown",
   "metadata": {},
   "source": [
    "Todo (2023.01.22):\n",
    "1. Compare multi phi theta's with single phi thetas\n",
    "2. compare multi phi theta's with Ben Lehner's reported thetas\n",
    "3. Compare shapes of multi phi model with single phi models\n",
    "4. Implement multi-phi-GE regression (i.e. multi-GE measurement process will be needed) and compare performances\n",
    "5. Plot phi_1 and phi_2 vs. measured binding values\n",
    "6. Write this all up in report/packet and include single theta model results and brief summary of assays."
   ]
  },
  {
   "cell_type": "code",
   "execution_count": 1,
   "metadata": {},
   "outputs": [],
   "source": [
    "import numpy as np\n",
    "import pandas as pd\n",
    "import matplotlib.pyplot as plt\n",
    "import sys\n",
    "sys.path.insert(0, '/Users/tareen/Desktop/Research_Projects/2022_mavenn2_github/mavenn')\n",
    "\n",
    "import mavenn\n",
    "import logomaker\n",
    "import seaborn as sns\n",
    "import re\n",
    "\n",
    "%matplotlib inline"
   ]
  },
  {
   "cell_type": "code",
   "execution_count": 2,
   "metadata": {},
   "outputs": [
    {
     "name": "stderr",
     "output_type": "stream",
     "text": [
      "/Library/Frameworks/Python.framework/Versions/3.9/lib/python3.9/site-packages/IPython/core/interactiveshell.py:3457: DtypeWarning: Columns (6) have mixed types.Specify dtype option on import or set low_memory=False.\n",
      "  exec(code_obj, self.user_global_ns, self.user_ns)\n"
     ]
    }
   ],
   "source": [
    "binding_df_full = pd.read_csv('data/GRB2-SH3.binding.csv')\n",
    "binding_df = binding_df_full[['aa_seq','count_e1_s0','count_e1_s1']].dropna().reset_index(drop=True).copy()"
   ]
  },
  {
   "cell_type": "code",
   "execution_count": 3,
   "metadata": {},
   "outputs": [],
   "source": [
    "abundance_df = pd.read_csv('data/GRB2-SH3.abundance.csv')\n",
    "abundance_df = abundance_df[['aa_seq','count_e1_s0','count_e1_s1']].dropna().reset_index(drop=True).copy()"
   ]
  },
  {
   "cell_type": "code",
   "execution_count": 4,
   "metadata": {},
   "outputs": [],
   "source": [
    "data_df = binding_df.copy()\n",
    "y_cols = data_df.columns[1:] "
   ]
  },
  {
   "cell_type": "code",
   "execution_count": 5,
   "metadata": {},
   "outputs": [],
   "source": [
    "X = data_df['aa_seq']\n",
    "y = data_df[y_cols]"
   ]
  },
  {
   "cell_type": "code",
   "execution_count": 6,
   "metadata": {},
   "outputs": [
    {
     "name": "stdout",
     "output_type": "stream",
     "text": [
      "L=57, Y=2\n"
     ]
    }
   ],
   "source": [
    "# set positional argumnets for gpmap function\n",
    "L = len(data_df['aa_seq'][0])\n",
    "alphabet=['A', 'C', 'D', 'E', 'F',\n",
    "          'G', 'H', 'I', 'K', 'L',\n",
    "          'M', 'N', 'P', 'Q', 'R',\n",
    "          'S', 'T', 'V', 'W', 'Y', '*']\n",
    "\n",
    "\n",
    "Y = len(y_cols)\n",
    "print(f'L={L}, Y={Y}')"
   ]
  },
  {
   "cell_type": "code",
   "execution_count": 7,
   "metadata": {},
   "outputs": [],
   "source": [
    "# gpmap_binding_DM = mavenn.gpmap.AdditiveGPMapLayer(L, alphabet)\n",
    "# gpmap_binding_EE = mavenn.gpmap.AdditiveGPMapLayer(L, alphabet)\n",
    "\n",
    "#gpmap = mavenn.gpmap.AdditiveGPMapLayer(L, alphabet)\n",
    "\n",
    "#gpmap_blackbox = mavenn.gpmap.MultilayerPerceptronGPMap(L, alphabet)\n",
    "\n",
    "# # instantiate gpmap object\n",
    "gpmap = mavenn.gpmap.Multi_AdditiveGPMapLayer(L=L, \n",
    "                                              alphabet=alphabet,\n",
    "                                              number_latent_nodes=2)\n",
    "\n"
   ]
  },
  {
   "cell_type": "code",
   "execution_count": 8,
   "metadata": {},
   "outputs": [],
   "source": [
    "from sklearn.model_selection import train_test_split\n",
    "\n",
    "# split data into training and testing sets\n",
    "x_train, x_test, y_train, y_test = train_test_split(X, y, test_size=0.1)"
   ]
  },
  {
   "cell_type": "code",
   "execution_count": 9,
   "metadata": {},
   "outputs": [
    {
     "data": {
      "text/plain": [
       "2"
      ]
     },
     "execution_count": 9,
     "metadata": {},
     "output_type": "execute_result"
    }
   ],
   "source": [
    "Y"
   ]
  },
  {
   "cell_type": "code",
   "execution_count": 10,
   "metadata": {},
   "outputs": [],
   "source": [
    "mp_DM = mavenn.measurement_process_layers.MultiLatentDiscreteAgnosticMP(info_for_layers_dict={'H_y_norm':0},\n",
    "                                                               Y=Y,\n",
    "                                                               number_latent_nodes=2,\n",
    "                                                               K=50,\n",
    "                                                               eta=1e-5,)\n",
    "\n",
    "\n"
   ]
  },
  {
   "cell_type": "code",
   "execution_count": 11,
   "metadata": {},
   "outputs": [
    {
     "name": "stderr",
     "output_type": "stream",
     "text": [
      "2023-01-26 08:04:42.184986: I tensorflow/core/platform/cpu_feature_guard.cc:151] This TensorFlow binary is optimized with oneAPI Deep Neural Network Library (oneDNN) to use the following CPU instructions in performance-critical operations:  AVX2 FMA\n",
      "To enable them in other operations, rebuild TensorFlow with the appropriate compiler flags.\n"
     ]
    }
   ],
   "source": [
    "model = mavenn.Model2(gpmap=gpmap,\n",
    "                      mp_list=[mp_DM])"
   ]
  },
  {
   "cell_type": "code",
   "execution_count": 12,
   "metadata": {},
   "outputs": [
    {
     "name": "stdout",
     "output_type": "stream",
     "text": [
      "N = 38,449 observations set as training data.\n",
      "Using 20.0% for validation.\n",
      "Data shuffled.\n",
      "Time to set data: 1.98 sec.\n"
     ]
    }
   ],
   "source": [
    "# Set training data\n",
    "model.set_data(x=x_train.values,\n",
    "               y_list=[y_train.values],\n",
    "               shuffle=True)"
   ]
  },
  {
   "cell_type": "code",
   "execution_count": 13,
   "metadata": {},
   "outputs": [],
   "source": [
    "# # Set training data\n",
    "# model.set_data(x=x_train.values,\n",
    "#                y_list=[y_train.values],\n",
    "#                shuffle=True)\n"
   ]
  },
  {
   "cell_type": "markdown",
   "metadata": {},
   "source": [
    "### Note compare this model's shapes to discrete agnostic"
   ]
  },
  {
   "cell_type": "code",
   "execution_count": 14,
   "metadata": {},
   "outputs": [
    {
     "name": "stdout",
     "output_type": "stream",
     "text": [
      "Model: \"model\"\n",
      "__________________________________________________________________________________________________\n",
      " Layer (type)                   Output Shape         Param #     Connected to                     \n",
      "==================================================================================================\n",
      " Sequence_labels_input (InputLa  [(None, 1199)]      0           []                               \n",
      " yer)                                                                                             \n",
      "                                                                                                  \n",
      " Sequence_only (Lambda)         (None, 1197)         0           ['Sequence_labels_input[0][0]']  \n",
      "                                                                                                  \n",
      " multi__additive_gp_map_layer (  (None, 2)           2396        ['Sequence_only[0][0]']          \n",
      " Multi_AdditiveGPMapLayer)                                                                        \n",
      "                                                                                                  \n",
      " Labels_input_0 (Lambda)        (None, 2)            0           ['Sequence_labels_input[0][0]']  \n",
      "                                                                                                  \n",
      " concatenate (Concatenate)      (None, 4)            0           ['multi__additive_gp_map_layer[0]\n",
      "                                                                 [0]',                            \n",
      "                                                                  'Labels_input_0[0][0]']         \n",
      "                                                                                                  \n",
      " multi_latent_discrete_agnostic  (None,)             252         ['concatenate[0][0]']            \n",
      " _mp (MultiLatentDiscreteAgnost                                                                   \n",
      " icMP)                                                                                            \n",
      "                                                                                                  \n",
      "==================================================================================================\n",
      "Total params: 2,648\n",
      "Trainable params: 2,648\n",
      "Non-trainable params: 0\n",
      "__________________________________________________________________________________________________\n"
     ]
    }
   ],
   "source": [
    "model.model.summary()"
   ]
  },
  {
   "cell_type": "code",
   "execution_count": 15,
   "metadata": {},
   "outputs": [
    {
     "name": "stdout",
     "output_type": "stream",
     "text": [
      "Epoch 1/100\n",
      "77/77 [==============================] - 3s 11ms/step - loss: 112962.3047 - I_var: -0.5920 - val_loss: 92095.5391 - val_I_var: -0.1185\n",
      "Epoch 2/100\n",
      "77/77 [==============================] - 0s 6ms/step - loss: 70319.0078 - I_var: -0.0192 - val_loss: 80418.9453 - val_I_var: -4.6806e-04\n",
      "Epoch 3/100\n",
      "77/77 [==============================] - 1s 7ms/step - loss: 68331.4453 - I_var: -4.4719e-04 - val_loss: 80180.1016 - val_I_var: 0.0027\n",
      "Epoch 4/100\n",
      "77/77 [==============================] - 1s 7ms/step - loss: 68154.6875 - I_var: 0.0014 - val_loss: 79961.6641 - val_I_var: 0.0047\n",
      "Epoch 5/100\n",
      "77/77 [==============================] - 1s 7ms/step - loss: 68017.9219 - I_var: 0.0016 - val_loss: 79803.3438 - val_I_var: 0.0080\n",
      "Epoch 6/100\n",
      "77/77 [==============================] - 1s 7ms/step - loss: 68012.7578 - I_var: 0.0056 - val_loss: 79618.1328 - val_I_var: 0.0100\n",
      "Epoch 7/100\n",
      "77/77 [==============================] - 1s 7ms/step - loss: 67813.3359 - I_var: 0.0043 - val_loss: 79439.0703 - val_I_var: 0.0120\n",
      "Epoch 8/100\n",
      "77/77 [==============================] - 1s 8ms/step - loss: 67771.5781 - I_var: 0.0095 - val_loss: 79311.9609 - val_I_var: 0.0116\n",
      "Epoch 9/100\n",
      "77/77 [==============================] - 1s 8ms/step - loss: 67594.8672 - I_var: 0.0080 - val_loss: 79126.0703 - val_I_var: 0.0170\n",
      "Epoch 10/100\n",
      "77/77 [==============================] - 1s 8ms/step - loss: 67541.4375 - I_var: 0.0116 - val_loss: 78923.2734 - val_I_var: 0.0183\n",
      "Epoch 11/100\n",
      "77/77 [==============================] - 1s 7ms/step - loss: 67378.9453 - I_var: 0.0126 - val_loss: 78782.9766 - val_I_var: 0.0189\n",
      "Epoch 12/100\n",
      "77/77 [==============================] - 1s 7ms/step - loss: 67417.8281 - I_var: 0.0142 - val_loss: 78578.4062 - val_I_var: 0.0243\n",
      "Epoch 13/100\n",
      "77/77 [==============================] - 1s 7ms/step - loss: 67268.3125 - I_var: 0.0166 - val_loss: 78368.8281 - val_I_var: 0.0267\n",
      "Epoch 14/100\n",
      "77/77 [==============================] - 1s 7ms/step - loss: 67072.4453 - I_var: 0.0202 - val_loss: 78158.5391 - val_I_var: 0.0295\n",
      "Epoch 15/100\n",
      "77/77 [==============================] - 1s 7ms/step - loss: 66958.9219 - I_var: 0.0235 - val_loss: 77941.9453 - val_I_var: 0.0326\n",
      "Epoch 16/100\n",
      "77/77 [==============================] - 1s 8ms/step - loss: 66850.3750 - I_var: 0.0252 - val_loss: 77693.3125 - val_I_var: 0.0360\n",
      "Epoch 17/100\n",
      "77/77 [==============================] - 1s 7ms/step - loss: 66735.4219 - I_var: 0.0266 - val_loss: 77459.5938 - val_I_var: 0.0370\n",
      "Epoch 18/100\n",
      "77/77 [==============================] - 1s 7ms/step - loss: 66424.8516 - I_var: 0.0304 - val_loss: 77180.3438 - val_I_var: 0.0430\n",
      "Epoch 19/100\n",
      "77/77 [==============================] - 1s 7ms/step - loss: 66292.6016 - I_var: 0.0317 - val_loss: 76890.6797 - val_I_var: 0.0469\n",
      "Epoch 20/100\n",
      "77/77 [==============================] - 1s 7ms/step - loss: 66153.8125 - I_var: 0.0349 - val_loss: 76701.5469 - val_I_var: 0.0508\n",
      "Epoch 21/100\n",
      "77/77 [==============================] - 1s 7ms/step - loss: 65887.4375 - I_var: 0.0408 - val_loss: 76418.1797 - val_I_var: 0.0549\n",
      "Epoch 22/100\n",
      "77/77 [==============================] - 1s 7ms/step - loss: 65569.2891 - I_var: 0.0419 - val_loss: 76316.2500 - val_I_var: 0.0576\n",
      "Epoch 23/100\n",
      "77/77 [==============================] - 1s 8ms/step - loss: 65410.5469 - I_var: 0.0475 - val_loss: 76261.8906 - val_I_var: 0.0596\n",
      "Epoch 24/100\n",
      "77/77 [==============================] - 1s 8ms/step - loss: 65337.0273 - I_var: 0.0471 - val_loss: 75617.2109 - val_I_var: 0.0665\n",
      "Epoch 25/100\n",
      "77/77 [==============================] - 1s 7ms/step - loss: 64975.9883 - I_var: 0.0526 - val_loss: 75198.7422 - val_I_var: 0.0714\n",
      "Epoch 26/100\n",
      "77/77 [==============================] - 1s 7ms/step - loss: 64844.3008 - I_var: 0.0557 - val_loss: 75157.9844 - val_I_var: 0.0733\n",
      "Epoch 27/100\n",
      "77/77 [==============================] - 1s 7ms/step - loss: 64501.1914 - I_var: 0.0611 - val_loss: 74585.7344 - val_I_var: 0.0795\n",
      "Epoch 28/100\n",
      "77/77 [==============================] - 1s 7ms/step - loss: 64350.1211 - I_var: 0.0618 - val_loss: 75124.8984 - val_I_var: 0.0755\n",
      "Epoch 29/100\n",
      "77/77 [==============================] - 1s 7ms/step - loss: 64017.1836 - I_var: 0.0681 - val_loss: 74872.8281 - val_I_var: 0.0788\n",
      "Epoch 30/100\n",
      "77/77 [==============================] - 1s 9ms/step - loss: 63978.6016 - I_var: 0.0722 - val_loss: 74043.9141 - val_I_var: 0.0878\n",
      "Epoch 31/100\n",
      "77/77 [==============================] - 1s 7ms/step - loss: 63642.4336 - I_var: 0.0774 - val_loss: 73573.8594 - val_I_var: 0.0930\n",
      "Epoch 32/100\n",
      "77/77 [==============================] - 1s 9ms/step - loss: 63466.7695 - I_var: 0.0789 - val_loss: 73394.8984 - val_I_var: 0.0956\n",
      "Epoch 33/100\n",
      "77/77 [==============================] - 1s 7ms/step - loss: 63175.6523 - I_var: 0.0821 - val_loss: 73636.1953 - val_I_var: 0.0939\n",
      "Epoch 34/100\n",
      "77/77 [==============================] - 0s 6ms/step - loss: 62858.3359 - I_var: 0.0850 - val_loss: 72748.8047 - val_I_var: 0.1030\n",
      "Epoch 35/100\n",
      "77/77 [==============================] - 1s 7ms/step - loss: 62932.6797 - I_var: 0.0897 - val_loss: 73383.6250 - val_I_var: 0.0975\n",
      "Epoch 36/100\n",
      "77/77 [==============================] - 1s 8ms/step - loss: 62686.8320 - I_var: 0.0905 - val_loss: 72599.2422 - val_I_var: 0.1061\n",
      "Epoch 37/100\n",
      "77/77 [==============================] - 1s 9ms/step - loss: 62438.6914 - I_var: 0.0949 - val_loss: 74273.0078 - val_I_var: 0.0881\n",
      "Epoch 38/100\n",
      "77/77 [==============================] - 1s 8ms/step - loss: 62232.6289 - I_var: 0.0984 - val_loss: 73537.3516 - val_I_var: 0.0967\n",
      "Epoch 39/100\n",
      "77/77 [==============================] - 1s 8ms/step - loss: 62214.5508 - I_var: 0.1046 - val_loss: 72154.3203 - val_I_var: 0.1121\n",
      "Epoch 40/100\n",
      "77/77 [==============================] - 1s 7ms/step - loss: 61945.3945 - I_var: 0.1013 - val_loss: 71774.7812 - val_I_var: 0.1158\n",
      "Epoch 41/100\n",
      "77/77 [==============================] - 1s 7ms/step - loss: 61841.4336 - I_var: 0.1068 - val_loss: 72308.6484 - val_I_var: 0.1112\n",
      "Epoch 42/100\n",
      "77/77 [==============================] - 1s 7ms/step - loss: 61625.4062 - I_var: 0.1145 - val_loss: 72708.8516 - val_I_var: 0.1070\n",
      "Epoch 43/100\n",
      "77/77 [==============================] - 1s 8ms/step - loss: 61408.8398 - I_var: 0.1095 - val_loss: 71990.2109 - val_I_var: 0.1152\n",
      "Epoch 44/100\n",
      "77/77 [==============================] - 1s 7ms/step - loss: 61307.4648 - I_var: 0.1109 - val_loss: 72037.5703 - val_I_var: 0.1150\n",
      "Epoch 45/100\n",
      "77/77 [==============================] - 1s 8ms/step - loss: 61220.7031 - I_var: 0.1166 - val_loss: 72247.6953 - val_I_var: 0.1129\n",
      "Epoch 46/100\n",
      "77/77 [==============================] - 1s 7ms/step - loss: 61006.3398 - I_var: 0.1158 - val_loss: 72872.0078 - val_I_var: 0.1059\n",
      "Epoch 47/100\n",
      "77/77 [==============================] - 1s 9ms/step - loss: 61083.5781 - I_var: 0.1178 - val_loss: 71536.0156 - val_I_var: 0.1214\n",
      "Epoch 48/100\n",
      "77/77 [==============================] - 1s 7ms/step - loss: 60725.8281 - I_var: 0.1189 - val_loss: 71124.5078 - val_I_var: 0.1263\n",
      "Epoch 49/100\n",
      "77/77 [==============================] - 1s 8ms/step - loss: 60730.5781 - I_var: 0.1231 - val_loss: 70992.3359 - val_I_var: 0.1280\n",
      "Epoch 50/100\n",
      "77/77 [==============================] - 1s 8ms/step - loss: 60575.5586 - I_var: 0.1232 - val_loss: 71122.6172 - val_I_var: 0.1268\n",
      "Epoch 51/100\n",
      "77/77 [==============================] - 1s 7ms/step - loss: 60396.3828 - I_var: 0.1268 - val_loss: 70688.9297 - val_I_var: 0.1318\n",
      "Epoch 52/100\n",
      "77/77 [==============================] - 1s 8ms/step - loss: 60354.1211 - I_var: 0.1263 - val_loss: 71224.2422 - val_I_var: 0.1261\n",
      "Epoch 53/100\n",
      "77/77 [==============================] - 1s 8ms/step - loss: 60182.6016 - I_var: 0.1285 - val_loss: 70777.0469 - val_I_var: 0.1314\n",
      "Epoch 54/100\n",
      "77/77 [==============================] - 1s 7ms/step - loss: 60150.7617 - I_var: 0.1350 - val_loss: 70507.7656 - val_I_var: 0.1346\n",
      "Epoch 55/100\n",
      "77/77 [==============================] - 1s 7ms/step - loss: 60002.4922 - I_var: 0.1281 - val_loss: 70773.2891 - val_I_var: 0.1318\n",
      "Epoch 56/100\n",
      "77/77 [==============================] - 1s 8ms/step - loss: 59887.0742 - I_var: 0.1345 - val_loss: 71114.5938 - val_I_var: 0.1281\n",
      "Epoch 57/100\n",
      "77/77 [==============================] - 1s 9ms/step - loss: 59829.3477 - I_var: 0.1400 - val_loss: 70514.6172 - val_I_var: 0.1352\n"
     ]
    },
    {
     "name": "stdout",
     "output_type": "stream",
     "text": [
      "Epoch 58/100\n",
      "77/77 [==============================] - 1s 7ms/step - loss: 59718.5508 - I_var: 0.1348 - val_loss: 70257.0312 - val_I_var: 0.1382\n",
      "Epoch 59/100\n",
      "77/77 [==============================] - 1s 7ms/step - loss: 59832.5977 - I_var: 0.1429 - val_loss: 70450.7656 - val_I_var: 0.1362\n",
      "Epoch 60/100\n",
      "77/77 [==============================] - 1s 7ms/step - loss: 59672.5547 - I_var: 0.1408 - val_loss: 70530.8672 - val_I_var: 0.1354\n",
      "Epoch 61/100\n",
      "77/77 [==============================] - 0s 6ms/step - loss: 59524.1602 - I_var: 0.1430 - val_loss: 70525.4062 - val_I_var: 0.1357\n",
      "Epoch 62/100\n",
      "77/77 [==============================] - 1s 7ms/step - loss: 59378.3320 - I_var: 0.1406 - val_loss: 70040.0391 - val_I_var: 0.1414\n",
      "Epoch 63/100\n",
      "77/77 [==============================] - 1s 6ms/step - loss: 59351.1172 - I_var: 0.1413 - val_loss: 70176.2734 - val_I_var: 0.1400\n",
      "Epoch 64/100\n",
      "77/77 [==============================] - 1s 7ms/step - loss: 59279.4414 - I_var: 0.1407 - val_loss: 70409.8906 - val_I_var: 0.1373\n",
      "Epoch 65/100\n",
      "77/77 [==============================] - 0s 6ms/step - loss: 59284.0625 - I_var: 0.1459 - val_loss: 69944.0938 - val_I_var: 0.1429\n",
      "Epoch 66/100\n",
      "77/77 [==============================] - 1s 6ms/step - loss: 59239.8945 - I_var: 0.1463 - val_loss: 70360.7578 - val_I_var: 0.1381\n",
      "Epoch 67/100\n",
      "77/77 [==============================] - 1s 7ms/step - loss: 59113.3828 - I_var: 0.1458 - val_loss: 70212.5625 - val_I_var: 0.1399\n",
      "Epoch 68/100\n",
      "77/77 [==============================] - 0s 5ms/step - loss: 59064.2734 - I_var: 0.1500 - val_loss: 70007.3125 - val_I_var: 0.1424\n",
      "Epoch 69/100\n",
      "77/77 [==============================] - 0s 6ms/step - loss: 59113.8359 - I_var: 0.1499 - val_loss: 70022.6094 - val_I_var: 0.1423\n",
      "Epoch 70/100\n",
      "77/77 [==============================] - 0s 5ms/step - loss: 59038.0820 - I_var: 0.1494 - val_loss: 70678.3906 - val_I_var: 0.1346\n",
      "Epoch 71/100\n",
      "77/77 [==============================] - 0s 4ms/step - loss: 59026.0039 - I_var: 0.1495 - val_loss: 69667.3203 - val_I_var: 0.1466\n",
      "Epoch 72/100\n",
      "77/77 [==============================] - 0s 4ms/step - loss: 58892.4453 - I_var: 0.1513 - val_loss: 69622.6328 - val_I_var: 0.1471\n",
      "Epoch 73/100\n",
      "77/77 [==============================] - 0s 4ms/step - loss: 58843.9688 - I_var: 0.1537 - val_loss: 69671.7500 - val_I_var: 0.1466\n",
      "Epoch 74/100\n",
      "77/77 [==============================] - 0s 5ms/step - loss: 58826.2773 - I_var: 0.1523 - val_loss: 69568.7109 - val_I_var: 0.1478\n",
      "Epoch 75/100\n",
      "77/77 [==============================] - 0s 5ms/step - loss: 58832.2344 - I_var: 0.1556 - val_loss: 69560.3984 - val_I_var: 0.1479\n",
      "Epoch 76/100\n",
      "77/77 [==============================] - 0s 4ms/step - loss: 58814.4297 - I_var: 0.1501 - val_loss: 69556.3750 - val_I_var: 0.1481\n",
      "Epoch 77/100\n",
      "77/77 [==============================] - 0s 5ms/step - loss: 58696.8164 - I_var: 0.1527 - val_loss: 69510.7266 - val_I_var: 0.1486\n",
      "Epoch 78/100\n",
      "77/77 [==============================] - 0s 4ms/step - loss: 58729.4922 - I_var: 0.1566 - val_loss: 69602.5156 - val_I_var: 0.1476\n",
      "Epoch 79/100\n",
      "77/77 [==============================] - 0s 4ms/step - loss: 58676.5352 - I_var: 0.1559 - val_loss: 69468.4688 - val_I_var: 0.1492\n",
      "Epoch 80/100\n",
      "77/77 [==============================] - 0s 4ms/step - loss: 58693.5469 - I_var: 0.1542 - val_loss: 69460.0000 - val_I_var: 0.1493\n",
      "Epoch 81/100\n",
      "77/77 [==============================] - 0s 4ms/step - loss: 58632.6445 - I_var: 0.1574 - val_loss: 69436.1328 - val_I_var: 0.1496\n",
      "Epoch 82/100\n",
      "77/77 [==============================] - 0s 4ms/step - loss: 58721.7734 - I_var: 0.1529 - val_loss: 69417.1562 - val_I_var: 0.1498\n",
      "Epoch 83/100\n",
      "77/77 [==============================] - 0s 4ms/step - loss: 58505.5469 - I_var: 0.1528 - val_loss: 69461.5391 - val_I_var: 0.1494\n",
      "Epoch 84/100\n",
      "77/77 [==============================] - 0s 4ms/step - loss: 58577.6875 - I_var: 0.1580 - val_loss: 69403.7969 - val_I_var: 0.1500\n",
      "Epoch 85/100\n",
      "77/77 [==============================] - 0s 6ms/step - loss: 58452.9766 - I_var: 0.1618 - val_loss: 69389.6875 - val_I_var: 0.1501\n",
      "Epoch 86/100\n",
      "77/77 [==============================] - 0s 6ms/step - loss: 58543.2930 - I_var: 0.1598 - val_loss: 69406.5000 - val_I_var: 0.1500\n",
      "Epoch 87/100\n",
      "77/77 [==============================] - 0s 5ms/step - loss: 58542.2109 - I_var: 0.1642 - val_loss: 69416.2812 - val_I_var: 0.1499\n",
      "Epoch 88/100\n",
      "77/77 [==============================] - 0s 6ms/step - loss: 58485.9297 - I_var: 0.1572 - val_loss: 69338.5234 - val_I_var: 0.1508\n",
      "Epoch 89/100\n",
      "77/77 [==============================] - 0s 5ms/step - loss: 58521.6953 - I_var: 0.1549 - val_loss: 69376.0312 - val_I_var: 0.1502\n",
      "Epoch 90/100\n",
      "77/77 [==============================] - 0s 5ms/step - loss: 58536.2578 - I_var: 0.1577 - val_loss: 69313.7422 - val_I_var: 0.1510\n",
      "Epoch 91/100\n",
      "77/77 [==============================] - 0s 4ms/step - loss: 58330.3164 - I_var: 0.1634 - val_loss: 69407.1797 - val_I_var: 0.1500\n",
      "Epoch 92/100\n",
      "77/77 [==============================] - 0s 4ms/step - loss: 58424.7891 - I_var: 0.1540 - val_loss: 69315.8438 - val_I_var: 0.1510\n",
      "Epoch 93/100\n",
      "77/77 [==============================] - 0s 4ms/step - loss: 58421.7930 - I_var: 0.1587 - val_loss: 69377.2656 - val_I_var: 0.1503\n",
      "Epoch 94/100\n",
      "77/77 [==============================] - 0s 4ms/step - loss: 58453.9062 - I_var: 0.1613 - val_loss: 69307.1953 - val_I_var: 0.1511\n",
      "Epoch 95/100\n",
      "77/77 [==============================] - 0s 4ms/step - loss: 58389.5547 - I_var: 0.1562 - val_loss: 69286.5391 - val_I_var: 0.1513\n",
      "Epoch 96/100\n",
      "77/77 [==============================] - 0s 4ms/step - loss: 58346.9531 - I_var: 0.1600 - val_loss: 69430.2266 - val_I_var: 0.1497\n",
      "Epoch 97/100\n",
      "77/77 [==============================] - 0s 4ms/step - loss: 58416.3945 - I_var: 0.1569 - val_loss: 69271.0078 - val_I_var: 0.1516\n",
      "Epoch 98/100\n",
      "77/77 [==============================] - 0s 5ms/step - loss: 58394.6172 - I_var: 0.1579 - val_loss: 69362.9453 - val_I_var: 0.1505\n",
      "Epoch 99/100\n",
      "77/77 [==============================] - 0s 5ms/step - loss: 58284.4727 - I_var: 0.1602 - val_loss: 69267.5000 - val_I_var: 0.1516\n",
      "Epoch 100/100\n",
      "77/77 [==============================] - 0s 4ms/step - loss: 58320.2383 - I_var: 0.1668 - val_loss: 69369.2812 - val_I_var: 0.1504\n",
      "Training time: 52.6 seconds\n"
     ]
    },
    {
     "data": {
      "text/plain": [
       "<keras.callbacks.History at 0x7fea2aa43790>"
      ]
     },
     "execution_count": 15,
     "metadata": {},
     "output_type": "execute_result"
    }
   ],
   "source": [
    "\n",
    "# Fit model to data\n",
    "model.fit(learning_rate=.0002,\n",
    "                     epochs=100,\n",
    "                     batch_size=400,\n",
    "                     try_tqdm = False,\n",
    "                     early_stopping=False,\n",
    "                     verbose=True,\n",
    "                     early_stopping_patience=10,\n",
    "                     linear_initialization=False)\n"
   ]
  },
  {
   "cell_type": "code",
   "execution_count": 16,
   "metadata": {},
   "outputs": [
    {
     "name": "stdout",
     "output_type": "stream",
     "text": [
      "On test data:\n"
     ]
    },
    {
     "data": {
      "image/png": "[encoded data removed]",
      "text/plain": [
       "<Figure size 288x288 with 1 Axes>"
      ]
     },
     "metadata": {
      "needs_background": "light"
     },
     "output_type": "display_data"
    }
   ],
   "source": [
    "# Show training history\n",
    "print('On test data:')\n",
    "# x_test = test_df['x'].values\n",
    "# y_test = test_df[y_cols].values\n",
    "\n",
    "\n",
    "I_var_hist = model.history['I_var']\n",
    "val_I_var_hist = model.history['val_I_var']\n",
    "\n",
    "fig, ax = plt.subplots(figsize=[4,4])\n",
    "\n",
    "ax.plot(I_var_hist, label='I_var_train-DM')\n",
    "ax.plot(val_I_var_hist, label='I_var_val-DM')\n",
    "#ax.set_xscale('log')\n",
    "ax.set_title('training history - binding')\n",
    "\n",
    "ax.legend()\n",
    "ax.set_xlabel('epochs')\n",
    "ax.set_ylabel('bits')\n",
    "\n",
    "fig.tight_layout()\n",
    "#fig.savefig('plots/GRB2_SH3/training_history_binding.png',dpi=200,bbox_inches='tight')\n"
   ]
  },
  {
   "cell_type": "code",
   "execution_count": 17,
   "metadata": {},
   "outputs": [],
   "source": [
    "#phi = gpmap.x_to_phi(x_test)\n",
    "theta_2_lc = np.squeeze(model.model.layers[2].get_weights()[1])"
   ]
  },
  {
   "cell_type": "code",
   "execution_count": 18,
   "metadata": {},
   "outputs": [
    {
     "data": {
      "text/plain": [
       "Text(0, 0.5, '$\\\\theta_{lc}, \\\\phi_2$ ')"
      ]
     },
     "execution_count": 18,
     "metadata": {},
     "output_type": "execute_result"
    },
    {
     "data": {
      "image/png": "[encoded data removed]",
      "text/plain": [
       "<Figure size 360x360 with 1 Axes>"
      ]
     },
     "metadata": {
      "needs_background": "light"
     },
     "output_type": "display_data"
    }
   ],
   "source": [
    "fig, ax = plt.subplots(1,1,figsize=(5,5))\n",
    "ax.scatter(theta_2_lc[0],theta_2_lc[1],s=10,color='blue',alpha=0.5)\n",
    "ax.set_xlabel('$\\\\theta_{lc}, \\phi_1$ ',fontsize=18)\n",
    "ax.set_ylabel('$\\\\theta_{lc}, \\phi_2$ ',fontsize=18)"
   ]
  },
  {
   "cell_type": "code",
   "execution_count": null,
   "metadata": {},
   "outputs": [],
   "source": []
  },
  {
   "cell_type": "code",
   "execution_count": 19,
   "metadata": {},
   "outputs": [
    {
     "data": {
      "image/png": "[encoded data removed]",
      "text/plain": [
       "<Figure size 864x576 with 4 Axes>"
      ]
     },
     "metadata": {
      "needs_background": "light"
     },
     "output_type": "display_data"
    }
   ],
   "source": [
    "\n",
    "# # Create fig and ax objects\n",
    "fig, axs = plt.subplots(2,1, figsize=[12,8])\n",
    "\n",
    "ax = axs[0]\n",
    "# Draw heatmap\n",
    "ax, cb = mavenn.heatmap(ax=ax,\n",
    "                        values=theta_2_lc[0],\n",
    "                        alphabet=alphabet,\n",
    "                        seq=model.x_stats['consensus_seq'],\n",
    "                        seq_kwargs={'c':'gray', 's':20,'marker':'o'},\n",
    "                        cmap='RdBu',\n",
    "                        cbar=True,\n",
    "                        #clim = [-5,1],\n",
    "                        cmap_size='2%',\n",
    "                        cmap_pad=.3,\n",
    "                        ccenter=0)\n",
    "\n",
    "# Style colorbar\n",
    "cb.set_label('$\\\\theta, \\phi_1$',\n",
    "             labelpad=10, ha='center', va='center', rotation=-90)\n",
    "cb.outline.set_visible(False)\n",
    "cb.ax.tick_params(direction='in', size=20, color='white')\n",
    "ax.set_title('Additive parameters - raw L2 gauge, $\\phi_1$',fontsize=18)\n",
    "\n",
    "ax = axs[1]\n",
    "# Draw heatmap\n",
    "ax, cb = mavenn.heatmap(ax=ax,\n",
    "                        values=theta_2_lc[1],\n",
    "                        alphabet=alphabet,\n",
    "                        seq=model.x_stats['consensus_seq'],\n",
    "                        seq_kwargs={'c':'gray', 's':20,'marker':'o'},\n",
    "                        cmap='RdBu',\n",
    "                        cbar=True,\n",
    "                        #clim = [-5,1],\n",
    "                        cmap_size='2%',\n",
    "                        cmap_pad=.3,\n",
    "                        ccenter=0)\n",
    "\n",
    "# Style colorbar\n",
    "cb.set_label('$\\\\theta, \\phi_2$',\n",
    "             labelpad=10, ha='center', va='center', rotation=-90)\n",
    "cb.outline.set_visible(False)\n",
    "cb.ax.tick_params(direction='in', size=20, color='white')\n",
    "ax.set_title('Additive parameters - raw L2 gauge, $\\phi_2$',fontsize=18)\n",
    "\n",
    "\n",
    "fig.tight_layout()\n",
    "#fig.savefig('plots/GRB2_SH3/GP_map_binding.png',dpi=300,bbox_inches='tight')"
   ]
  },
  {
   "cell_type": "markdown",
   "metadata": {},
   "source": [
    "### Think about how to visualize measurement process"
   ]
  },
  {
   "cell_type": "code",
   "execution_count": 20,
   "metadata": {},
   "outputs": [],
   "source": [
    "# # Create grid in phi space\n",
    "# phi_lim = [-5, 5]\n",
    "# phi_grid = np.linspace(phi_lim[0], phi_lim[1], 1000)\n",
    "\n",
    "# # Create array of allowable y values\n",
    "# Y = mp_DM.Y    # Y = number of bins\n",
    "# y_lim = [-.5, Y-.5]\n",
    "# y_all = range(Y)\n",
    "\n",
    "# # Compute matrix of p(y|phi) values\n",
    "\n",
    "\n",
    "\n",
    "# # Create figure with two panels\n",
    "# fig, axs = plt.subplots(1,1,figsize=[6,6])\n",
    "\n",
    "# ax = axs\n",
    "# # Right panel: draw measurement process as heatmap\n",
    "\n",
    "# measurement_process = mp_DM.p_of_y_given_phi(y_all, phi_grid)\n",
    "# im = ax.imshow(measurement_process,\n",
    "#                cmap='Greens',\n",
    "#                extent=phi_lim+y_lim,\n",
    "#                vmin=0,\n",
    "#                origin='lower',\n",
    "#                interpolation='nearest',\n",
    "#                aspect=\"auto\")\n",
    "# ax.set_yticks(y_all)\n",
    "# ax.set_ylabel('bin number (y)')\n",
    "# ax.set_xlabel('latent phenotype ($\\phi$)')\n",
    "# ax.set_title('measurement process - discrete monotonic')\n",
    "# cb = plt.colorbar(im,ax=ax)\n",
    "# cb.set_label('probability  $p(y|\\phi)$', rotation=-90, va=\"bottom\")\n",
    "\n",
    "\n",
    "\n",
    "# fig.tight_layout()\n",
    "# #fig.savefig('plots/GRB2_SH3/lehner_measurment_prcoess_binding.png',dpi=300,bbox_inches='tight')\n"
   ]
  },
  {
   "cell_type": "code",
   "execution_count": 21,
   "metadata": {},
   "outputs": [],
   "source": [
    "data_df_GE = binding_df_full[['aa_seq','fitness']].copy()"
   ]
  },
  {
   "cell_type": "code",
   "execution_count": 22,
   "metadata": {},
   "outputs": [
    {
     "data": {
      "image/png": "[encoded data removed]",
      "text/plain": [
       "<Figure size 432x288 with 1 Axes>"
      ]
     },
     "metadata": {
      "needs_background": "light"
     },
     "output_type": "display_data"
    }
   ],
   "source": [
    "plt.hist(data_df_GE['fitness'],bins=20,color='blue')\n",
    "plt.show()"
   ]
  },
  {
   "cell_type": "code",
   "execution_count": 23,
   "metadata": {},
   "outputs": [],
   "source": [
    "gpmapGE = mavenn.gpmap.AdditiveGPMapLayer(L, alphabet)\n",
    "#gpmapGE = mavenn.gpmap.MultilayerPerceptronGPMap(L, alphabet)\n",
    "mp_GE = mavenn.measurement_process_layers.GlobalEpsistasisMP(K=50,\n",
    "                                                           monotonic=True,\n",
    "                                                           ge_heteroskedasticity_order=2,\n",
    "                                                           ge_noise_model_type='Gaussian')"
   ]
  },
  {
   "cell_type": "code",
   "execution_count": 24,
   "metadata": {},
   "outputs": [],
   "source": [
    "from sklearn.model_selection import train_test_split\n",
    "\n",
    "# split data into training and testing sets\n",
    "x_train_GE, x_test_GE, y_train_GE, y_test_GE = train_test_split(data_df_GE['aa_seq'].values, \n",
    "                                                                data_df_GE['fitness'].values, test_size=0.1)"
   ]
  },
  {
   "cell_type": "code",
   "execution_count": 25,
   "metadata": {},
   "outputs": [
    {
     "name": "stdout",
     "output_type": "stream",
     "text": [
      "N = 41,749 observations set as training data.\n",
      "Using 20.1% for validation.\n",
      "Time to set data: 1.37 sec.\n"
     ]
    }
   ],
   "source": [
    "model_GE = mavenn.Model2(gpmap=gpmapGE,\n",
    "                      mp_list=[mp_GE])\n",
    "\n",
    "# Set training data\n",
    "model_GE.set_data(x=x_train_GE,\n",
    "               #y_list=[data_df['y'].values.reshape(-1,1)],\n",
    "               y_list=[y_train_GE.reshape(-1,1)],\n",
    "               shuffle=False)"
   ]
  },
  {
   "cell_type": "code",
   "execution_count": null,
   "metadata": {},
   "outputs": [
    {
     "name": "stdout",
     "output_type": "stream",
     "text": [
      "Epoch 1/150\n",
      "112/112 [==============================] - 1s 5ms/step - loss: 304.0646 - I_var: -1.2532 - val_loss: 258.9188 - val_I_var: -1.0366\n",
      "Epoch 2/150\n",
      "112/112 [==============================] - 0s 3ms/step - loss: 244.8524 - I_var: -0.9695 - val_loss: 229.8357 - val_I_var: -0.8967\n",
      "Epoch 3/150\n",
      "112/112 [==============================] - 0s 3ms/step - loss: 217.6777 - I_var: -0.8383 - val_loss: 204.2489 - val_I_var: -0.7736\n",
      "Epoch 4/150\n",
      "112/112 [==============================] - 0s 3ms/step - loss: 193.3647 - I_var: -0.7218 - val_loss: 180.5736 - val_I_var: -0.6597\n",
      "Epoch 5/150\n",
      "112/112 [==============================] - 0s 4ms/step - loss: 168.6138 - I_var: -0.6020 - val_loss: 153.3159 - val_I_var: -0.5286\n",
      "Epoch 6/150\n",
      "112/112 [==============================] - 0s 3ms/step - loss: 137.4842 - I_var: -0.4522 - val_loss: 119.0497 - val_I_var: -0.3637\n",
      "Epoch 7/150\n",
      "112/112 [==============================] - 0s 3ms/step - loss: 101.9894 - I_var: -0.2819 - val_loss: 85.1762 - val_I_var: -0.2007\n",
      "Epoch 8/150\n",
      "112/112 [==============================] - 0s 3ms/step - loss: 69.0442 - I_var: -0.1217 - val_loss: 54.8260 - val_I_var: -0.0547\n",
      "Epoch 9/150\n",
      "112/112 [==============================] - 0s 3ms/step - loss: 39.9827 - I_var: 0.0177 - val_loss: 28.8889 - val_I_var: 0.0701\n",
      "Epoch 10/150\n",
      "112/112 [==============================] - 0s 3ms/step - loss: 15.7742 - I_var: 0.1336 - val_loss: 7.5562 - val_I_var: 0.1727\n",
      "Epoch 11/150\n",
      "112/112 [==============================] - 0s 3ms/step - loss: -4.9529 - I_var: 0.2335 - val_loss: -10.9318 - val_I_var: 0.2617\n",
      "Epoch 12/150\n",
      "112/112 [==============================] - 0s 3ms/step - loss: -22.0389 - I_var: 0.3154 - val_loss: -25.5612 - val_I_var: 0.3321\n",
      "Epoch 13/150\n",
      "112/112 [==============================] - 0s 3ms/step - loss: -36.5442 - I_var: 0.3825 - val_loss: -37.3576 - val_I_var: 0.3888\n",
      "Epoch 14/150\n",
      "112/112 [==============================] - 0s 3ms/step - loss: -47.1517 - I_var: 0.4346 - val_loss: -41.3014 - val_I_var: 0.4078\n",
      "Epoch 15/150\n",
      "112/112 [==============================] - 0s 3ms/step - loss: -56.1326 - I_var: 0.4801 - val_loss: -53.0460 - val_I_var: 0.4643\n",
      "Epoch 16/150\n",
      "112/112 [==============================] - 0s 3ms/step - loss: -63.3556 - I_var: 0.5142 - val_loss: -47.3988 - val_I_var: 0.4372\n",
      "Epoch 17/150\n",
      "112/112 [==============================] - 0s 3ms/step - loss: -68.7363 - I_var: 0.5409 - val_loss: -63.5081 - val_I_var: 0.5147\n",
      "Epoch 18/150\n",
      "112/112 [==============================] - 0s 3ms/step - loss: -74.0705 - I_var: 0.5676 - val_loss: -68.1655 - val_I_var: 0.5371\n",
      "Epoch 19/150\n",
      "112/112 [==============================] - 0s 3ms/step - loss: -78.1697 - I_var: 0.5849 - val_loss: -72.5427 - val_I_var: 0.5581\n",
      "Epoch 20/150\n",
      "112/112 [==============================] - 0s 3ms/step - loss: -82.1634 - I_var: 0.6052 - val_loss: -75.3493 - val_I_var: 0.5716\n",
      "Epoch 21/150\n",
      "112/112 [==============================] - 0s 3ms/step - loss: -84.7845 - I_var: 0.6184 - val_loss: -76.1557 - val_I_var: 0.5755\n",
      "Epoch 22/150\n",
      "112/112 [==============================] - 0s 3ms/step - loss: -89.9943 - I_var: 0.6433 - val_loss: -82.1085 - val_I_var: 0.6041\n",
      "Epoch 23/150\n",
      "112/112 [==============================] - 0s 3ms/step - loss: -93.4143 - I_var: 0.6605 - val_loss: -84.1196 - val_I_var: 0.6138\n",
      "Epoch 24/150\n",
      "112/112 [==============================] - 0s 3ms/step - loss: -97.5523 - I_var: 0.6781 - val_loss: -85.7966 - val_I_var: 0.6219\n",
      "Epoch 25/150\n",
      "112/112 [==============================] - 0s 3ms/step - loss: -101.4117 - I_var: 0.6945 - val_loss: -91.6279 - val_I_var: 0.6500\n",
      "Epoch 26/150\n",
      "112/112 [==============================] - 0s 3ms/step - loss: -105.6705 - I_var: 0.7199 - val_loss: -95.5168 - val_I_var: 0.6687\n",
      "Epoch 27/150\n",
      "112/112 [==============================] - 0s 3ms/step - loss: -108.1809 - I_var: 0.7308 - val_loss: -102.0535 - val_I_var: 0.7001\n",
      "Epoch 28/150\n",
      "112/112 [==============================] - 0s 3ms/step - loss: -113.6038 - I_var: 0.7565 - val_loss: -100.8109 - val_I_var: 0.6941\n",
      "Epoch 29/150\n",
      "112/112 [==============================] - 0s 3ms/step - loss: -117.8707 - I_var: 0.7791 - val_loss: -103.8998 - val_I_var: 0.7090\n",
      "Epoch 30/150\n",
      "112/112 [==============================] - 0s 3ms/step - loss: -121.3697 - I_var: 0.7932 - val_loss: -113.0362 - val_I_var: 0.7529\n",
      "Epoch 31/150\n",
      "112/112 [==============================] - 0s 3ms/step - loss: -125.5876 - I_var: 0.8100 - val_loss: -116.7509 - val_I_var: 0.7708\n",
      "Epoch 32/150\n",
      "112/112 [==============================] - 0s 3ms/step - loss: -129.7675 - I_var: 0.8355 - val_loss: -121.1332 - val_I_var: 0.7919\n",
      "Epoch 33/150\n",
      "112/112 [==============================] - 0s 3ms/step - loss: -132.9985 - I_var: 0.8504 - val_loss: -124.0702 - val_I_var: 0.8060\n",
      "Epoch 34/150\n",
      "112/112 [==============================] - 0s 3ms/step - loss: -137.5087 - I_var: 0.8685 - val_loss: -126.5600 - val_I_var: 0.8180\n",
      "Epoch 35/150\n",
      "112/112 [==============================] - 0s 3ms/step - loss: -140.7756 - I_var: 0.8859 - val_loss: -127.8995 - val_I_var: 0.8244\n",
      "Epoch 36/150\n",
      "112/112 [==============================] - 0s 3ms/step - loss: -143.4675 - I_var: 0.9016 - val_loss: -132.2857 - val_I_var: 0.8455\n",
      "Epoch 37/150\n",
      "112/112 [==============================] - 0s 3ms/step - loss: -147.0421 - I_var: 0.9170 - val_loss: -137.4676 - val_I_var: 0.8705\n",
      "Epoch 38/150\n",
      "112/112 [==============================] - 0s 3ms/step - loss: -150.4625 - I_var: 0.9366 - val_loss: -140.8543 - val_I_var: 0.8867\n",
      "Epoch 39/150\n",
      "112/112 [==============================] - 0s 3ms/step - loss: -153.8806 - I_var: 0.9463 - val_loss: -143.1566 - val_I_var: 0.8978\n",
      "Epoch 40/150\n",
      "112/112 [==============================] - 0s 3ms/step - loss: -156.3503 - I_var: 0.9633 - val_loss: -143.1632 - val_I_var: 0.8979\n",
      "Epoch 41/150\n",
      "112/112 [==============================] - 0s 3ms/step - loss: -158.8807 - I_var: 0.9752 - val_loss: -147.5450 - val_I_var: 0.9189\n",
      "Epoch 42/150\n",
      "112/112 [==============================] - 0s 3ms/step - loss: -161.2753 - I_var: 0.9864 - val_loss: -145.6525 - val_I_var: 0.9098\n",
      "Epoch 43/150\n",
      "112/112 [==============================] - 0s 3ms/step - loss: -163.5478 - I_var: 0.9953 - val_loss: -150.8663 - val_I_var: 0.9349\n",
      "Epoch 44/150\n",
      "112/112 [==============================] - 0s 3ms/step - loss: -165.2390 - I_var: 1.0037 - val_loss: -153.7525 - val_I_var: 0.9488\n",
      "Epoch 45/150\n",
      "112/112 [==============================] - 0s 3ms/step - loss: -167.3588 - I_var: 1.0143 - val_loss: -156.0810 - val_I_var: 0.9600\n",
      "Epoch 46/150\n",
      "112/112 [==============================] - 0s 3ms/step - loss: -168.9408 - I_var: 1.0239 - val_loss: -156.8116 - val_I_var: 0.9635\n",
      "Epoch 47/150\n",
      "112/112 [==============================] - 0s 3ms/step - loss: -170.4599 - I_var: 1.0299 - val_loss: -158.4082 - val_I_var: 0.9712\n",
      "Epoch 48/150\n",
      "112/112 [==============================] - 0s 3ms/step - loss: -169.8329 - I_var: 1.0277 - val_loss: -153.7525 - val_I_var: 0.9488\n",
      "Epoch 49/150\n",
      "112/112 [==============================] - 0s 3ms/step - loss: -172.7029 - I_var: 1.0410 - val_loss: -159.0369 - val_I_var: 0.9742\n",
      "Epoch 50/150\n",
      "112/112 [==============================] - 0s 3ms/step - loss: -173.4872 - I_var: 1.0429 - val_loss: -160.2042 - val_I_var: 0.9798\n",
      "Epoch 51/150\n",
      "112/112 [==============================] - 0s 3ms/step - loss: -174.6956 - I_var: 1.0514 - val_loss: -160.0227 - val_I_var: 0.9789\n",
      "Epoch 52/150\n",
      " 92/112 [=======================>......] - ETA: 0s - loss: -175.1223 - I_var: 1.0514"
     ]
    }
   ],
   "source": [
    "# Fit model to data\n",
    "history = model_GE.fit(learning_rate=.0005,\n",
    "                    epochs=150,\n",
    "                    batch_size=300,\n",
    "                    try_tqdm=False,\n",
    "                    early_stopping=False,\n",
    "                    early_stopping_patience=5,\n",
    "                    linear_initialization=False)"
   ]
  },
  {
   "cell_type": "code",
   "execution_count": null,
   "metadata": {},
   "outputs": [],
   "source": [
    "# Show training history\n",
    "print('On test data:')\n",
    "# x_test = test_df['x'].values\n",
    "# y_test = test_df[y_cols].values\n",
    "\n",
    "\n",
    "I_var_hist = model_GE.history['I_var']\n",
    "val_I_var_hist = model_GE.history['val_I_var']\n",
    "\n",
    "fig, axs = plt.subplots(1,2,figsize=[8,4])\n",
    "\n",
    "ax = axs[0]\n",
    "ax.plot(I_var_hist, label='I_var_train')\n",
    "ax.plot(val_I_var_hist, label='I_var_val')\n",
    "ax.legend()\n",
    "ax.set_xlabel('epochs')\n",
    "ax.set_ylabel('bits')\n",
    "#ax.set_xscale('log')\n",
    "ax.set_title('training hisotry')\n",
    "\n",
    "ax = axs[1]\n",
    "ax.plot(model_GE.history['loss'], label='loss_train')\n",
    "ax.plot(model_GE.history['val_loss'], label='loss_val')\n",
    "# ax.set_xlim(100,300)\n",
    "# ax.set_ylim(0.7*1e6,0.8*1e6)\n",
    "ax.legend()\n",
    "ax.set_xlabel('epochs')\n",
    "ax.set_ylabel('loss')\n",
    "# ax.set_xscale('log')\n",
    "# ax.set_yscale('log')\n",
    "ax.set_title('training hisotry')\n",
    "fig.tight_layout()"
   ]
  },
  {
   "cell_type": "code",
   "execution_count": null,
   "metadata": {},
   "outputs": [],
   "source": [
    "phi = gpmapGE.x_to_phi(x_test_GE)\n",
    "phi_train = gpmapGE.x_to_phi(x_train_GE)"
   ]
  },
  {
   "cell_type": "code",
   "execution_count": null,
   "metadata": {},
   "outputs": [],
   "source": [
    "model_GE.model.summary()"
   ]
  },
  {
   "cell_type": "code",
   "execution_count": null,
   "metadata": {},
   "outputs": [],
   "source": [
    "np.corrcoef(phi_train,y_train_GE)[0,1]**2"
   ]
  },
  {
   "cell_type": "code",
   "execution_count": null,
   "metadata": {},
   "outputs": [],
   "source": [
    "fig, axs = plt.subplots(1,2, figsize=(9,4.5))\n",
    "\n",
    "ax = axs[0]\n",
    "yhat = mp_GE.phi_to_yhat(phi)\n",
    "ax.scatter(phi,y_test_GE,s=2,alpha=0.2,c='b',label='test data')\n",
    "#ax.scatter(phi,yhat* model.y_std+model.y_mean,s=1,alpha=0.1,c='r',label='$\\hat{y} = g(\\phi)$')\n",
    "ax.scatter(phi,yhat,s=2,alpha=0.3,c='r',label='$\\hat{y} = g(\\phi)$')\n",
    "\n",
    "ax.set_xlabel('latent phenotype ($\\phi$)')\n",
    "ax.set_ylabel('measurement ($y$)')\n",
    "ax.set_title('GRB2-SH3 - binding')\n",
    "leg = ax.legend()\n",
    "\n",
    "for lh in leg.legendHandles: \n",
    "    lh.set_alpha(1)\n",
    "    \n",
    "    \n",
    "ax = axs[1]\n",
    "ax.scatter(yhat,y_test_GE,s=2,alpha=0.2,c='b',label='test data')\n",
    "Rsq = np.corrcoef(yhat.numpy().ravel(),y_test_GE)[0,1]**2\n",
    "\n",
    "ax.set_xlabel('$\\hat{y} = g(\\phi)$')\n",
    "ax.set_ylabel('measurement ($y$)')\n",
    "ax.set_title(f'GRB2-SH3, $R^2 = $ {Rsq:.3f}')\n",
    "leg = ax.legend()\n",
    "\n",
    "for lh in leg.legendHandles: \n",
    "    lh.set_alpha(1)\n",
    "\n",
    "fig.tight_layout()\n",
    "#fig.savefig('plots/GRB2_SH3/global_epistasis_binding_binding.png',dpi=300,bbox_inches='tight')    \n"
   ]
  },
  {
   "cell_type": "code",
   "execution_count": null,
   "metadata": {},
   "outputs": [],
   "source": [
    "theta_lc_GE = gpmapGE.get_theta(model_GE,gauge='consensus')['theta_lc']"
   ]
  },
  {
   "cell_type": "code",
   "execution_count": null,
   "metadata": {},
   "outputs": [],
   "source": [
    "fig, ax = plt.subplots(1,2,figsize=(10,5))\n",
    "ax[0].scatter(theta_2_lc[0].ravel(),theta_lc_GE.ravel(),c='blue',s=5,alpha=0.3)\n",
    "ax[0].set_xlabel('Theta-1 multi-discrete monotonic')\n",
    "ax[0].set_ylabel('Theta global epistasis')\n",
    "\n",
    "ax[1].scatter(theta_2_lc[1].ravel(),theta_lc_GE.ravel(),c='blue',s=5,alpha=0.3)\n",
    "ax[1].set_xlabel('Theta-2 multi-discrete monotonic')\n",
    "ax[1].set_ylabel('Theta global epistasis')\n",
    "\n",
    "fig.tight_layout()"
   ]
  },
  {
   "cell_type": "code",
   "execution_count": null,
   "metadata": {},
   "outputs": [],
   "source": [
    "lehner_binding_singles_df = pd.read_csv('data/GRB2-SH3.singles_binding.csv',index_col=[0])\n",
    "lehner_binding_singles_df"
   ]
  },
  {
   "cell_type": "code",
   "execution_count": null,
   "metadata": {},
   "outputs": [],
   "source": [
    "binding_singles_transformed_df = pd.DataFrame(np.nan*np.ones(shape=(57,21)),columns=alphabet)\n",
    "binding_singles_transformed_df.head()"
   ]
  },
  {
   "cell_type": "code",
   "execution_count": null,
   "metadata": {},
   "outputs": [],
   "source": [
    "for idx in lehner_binding_singles_df.index:\n",
    "\n",
    "    mutant = lehner_binding_singles_df.loc[idx]['Mut']\n",
    "    value = lehner_binding_singles_df.loc[idx]['fitness']\n",
    "    \n",
    "    pos = lehner_binding_singles_df.loc[idx]['Pos']-1\n",
    "    binding_singles_transformed_df[mutant][pos] = value"
   ]
  },
  {
   "cell_type": "code",
   "execution_count": null,
   "metadata": {},
   "outputs": [],
   "source": [
    "fig, axs = plt.subplots(1,2,figsize=(8,4))\n",
    "\n",
    "ax = axs[0]\n",
    "Rsq = np.corrcoef(theta_2_lc[0].ravel(),binding_singles_transformed_df.fillna(0).values.ravel())[0,1]**2\n",
    "ax.scatter(theta_2_lc[0].ravel(),binding_singles_transformed_df.values.ravel(),s=3,alpha=0.3,color='blue')\n",
    "ax.set_xlabel(' $\\\\theta$ - 1')\n",
    "ax.set_ylabel(' Binding, singles - Lehner')\n",
    "ax.set_title(f'$R^2 = $ {Rsq:.3f}')\n",
    "\n",
    "ax = axs[1]\n",
    "Rsq = np.corrcoef(theta_2_lc[1].ravel(),binding_singles_transformed_df.fillna(0).values.ravel())[0,1]**2\n",
    "ax.scatter(theta_2_lc[1].ravel(),binding_singles_transformed_df.values.ravel(),s=3,alpha=0.3,color='blue')\n",
    "ax.set_xlabel(' $\\\\theta$ - 2')\n",
    "ax.set_ylabel(' Binding, singles - Lehner')\n",
    "ax.set_title(f'$R^2 = $ {Rsq:.3f}')\n",
    "\n",
    "fig.tight_layout()\n",
    "\n",
    "#fig.savefig('plots/GRB2_SH3/GRB2_SH3.singles_binding_comparison_to_Lehner.png',dpi=200,bbox_inches='tight')\n"
   ]
  },
  {
   "cell_type": "code",
   "execution_count": null,
   "metadata": {},
   "outputs": [],
   "source": [
    "# # Create fig and ax objects\n",
    "fig, ax = plt.subplots(figsize=[12,4])\n",
    "\n",
    "# Draw heatmap\n",
    "ax, cb = mavenn.heatmap(ax=ax,\n",
    "                        values=binding_singles_transformed_df.values,\n",
    "                        alphabet=alphabet,\n",
    "                        seq=model.x_stats['consensus_seq'],\n",
    "                        seq_kwargs={'c':'gray', 's':20,'marker':'o'},\n",
    "                        cmap='RdBu',\n",
    "                        cbar=True,\n",
    "                        #clim = [-5,1],\n",
    "                        cmap_size='2%',\n",
    "                        cmap_pad=.3,\n",
    "                        ccenter=0)\n",
    "\n",
    "# Style colorbar\n",
    "cb.set_label('Additive effect - WT gauge ($\\\\theta$)',\n",
    "             labelpad=10, ha='center', va='center', rotation=-90)\n",
    "cb.outline.set_visible(False)\n",
    "cb.ax.tick_params(direction='in', size=20, color='white')\n",
    "ax.set_title('Lehner - binding')\n",
    "\n",
    "#fig.savefig('plots/GRB2_SH3/Lehner_GP_map_binding.png',dpi=300,bbox_inches='tight')"
   ]
  },
  {
   "cell_type": "code",
   "execution_count": null,
   "metadata": {},
   "outputs": [],
   "source": []
  }
 ],
 "metadata": {
  "kernelspec": {
   "display_name": "Python 3 (ipykernel)",
   "language": "python",
   "name": "python3"
  },
  "language_info": {
   "codemirror_mode": {
    "name": "ipython",
    "version": 3
   },
   "file_extension": ".py",
   "mimetype": "text/x-python",
   "name": "python",
   "nbconvert_exporter": "python",
   "pygments_lexer": "ipython3",
   "version": "3.9.7"
  }
 },
 "nbformat": 4,
 "nbformat_minor": 2
}
