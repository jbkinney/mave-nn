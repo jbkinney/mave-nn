{
 "cells": [
  {
   "cell_type": "code",
   "execution_count": 1,
   "metadata": {},
   "outputs": [],
   "source": [
    "import numpy as np\n",
    "import pandas as pd\n",
    "import matplotlib.pyplot as plt\n",
    "import sys\n",
    "sys.path.insert(0, '/Users/tareen/Desktop/Research_Projects/2022_mavenn2_github/mavenn')\n",
    "\n",
    "import mavenn\n",
    "import logomaker\n",
    "import seaborn as sns\n",
    "import re\n",
    "\n",
    "%matplotlib inline"
   ]
  },
  {
   "cell_type": "code",
   "execution_count": 2,
   "metadata": {},
   "outputs": [
    {
     "name": "stderr",
     "output_type": "stream",
     "text": [
      "/Library/Frameworks/Python.framework/Versions/3.9/lib/python3.9/site-packages/IPython/core/interactiveshell.py:3457: DtypeWarning: Columns (6) have mixed types.Specify dtype option on import or set low_memory=False.\n",
      "  exec(code_obj, self.user_global_ns, self.user_ns)\n"
     ]
    }
   ],
   "source": [
    "binding_df_full = pd.read_csv('data/GRB2-SH3.binding.csv')\n",
    "binding_df = binding_df_full[['aa_seq','count_e1_s0','count_e1_s1']].dropna().reset_index(drop=True).copy()"
   ]
  },
  {
   "cell_type": "code",
   "execution_count": 3,
   "metadata": {},
   "outputs": [],
   "source": [
    "abundance_df = pd.read_csv('data/GRB2-SH3.abundance.csv')\n",
    "abundance_df = abundance_df[['aa_seq','count_e1_s0','count_e1_s1']].dropna().reset_index(drop=True).copy()"
   ]
  },
  {
   "cell_type": "code",
   "execution_count": 4,
   "metadata": {},
   "outputs": [],
   "source": [
    "data_df = binding_df.copy()\n",
    "y_cols = data_df.columns[1:] "
   ]
  },
  {
   "cell_type": "code",
   "execution_count": 5,
   "metadata": {},
   "outputs": [],
   "source": [
    "X = data_df['aa_seq']\n",
    "y = data_df[y_cols]"
   ]
  },
  {
   "cell_type": "code",
   "execution_count": 6,
   "metadata": {},
   "outputs": [
    {
     "name": "stdout",
     "output_type": "stream",
     "text": [
      "L=57, Y=2\n"
     ]
    }
   ],
   "source": [
    "# set positional argumnets for gpmap function\n",
    "L = len(data_df['aa_seq'][0])\n",
    "alphabet=['A', 'C', 'D', 'E', 'F',\n",
    "          'G', 'H', 'I', 'K', 'L',\n",
    "          'M', 'N', 'P', 'Q', 'R',\n",
    "          'S', 'T', 'V', 'W', 'Y', '*']\n",
    "\n",
    "\n",
    "Y = len(y_cols)\n",
    "print(f'L={L}, Y={Y}')"
   ]
  },
  {
   "cell_type": "code",
   "execution_count": 7,
   "metadata": {},
   "outputs": [],
   "source": [
    "# gpmap_binding_DM = mavenn.gpmap.AdditiveGPMapLayer(L, alphabet)\n",
    "# gpmap_binding_EE = mavenn.gpmap.AdditiveGPMapLayer(L, alphabet)\n",
    "\n",
    "#gpmap = mavenn.gpmap.AdditiveGPMapLayer(L, alphabet)\n",
    "\n",
    "#gpmap_blackbox = mavenn.gpmap.MultilayerPerceptronGPMap(L, alphabet)\n",
    "\n",
    "# # instantiate gpmap object\n",
    "gpmap = mavenn.gpmap.Multi_AdditiveGPMapLayer(L=L, \n",
    "                                              alphabet=alphabet,\n",
    "                                              number_latent_nodes=2)\n",
    "\n"
   ]
  },
  {
   "cell_type": "code",
   "execution_count": 8,
   "metadata": {},
   "outputs": [],
   "source": [
    "from sklearn.model_selection import train_test_split\n",
    "\n",
    "# split data into training and testing sets\n",
    "x_train, x_test, y_train, y_test = train_test_split(X, y, test_size=0.1)"
   ]
  },
  {
   "cell_type": "code",
   "execution_count": 9,
   "metadata": {},
   "outputs": [
    {
     "data": {
      "text/plain": [
       "2"
      ]
     },
     "execution_count": 9,
     "metadata": {},
     "output_type": "execute_result"
    }
   ],
   "source": [
    "Y"
   ]
  },
  {
   "cell_type": "code",
   "execution_count": 10,
   "metadata": {},
   "outputs": [],
   "source": [
    "mp_DM = mavenn.measurement_process_layers.MultiLatentDiscreteAgnosticMP(info_for_layers_dict={'H_y_norm':0},\n",
    "                                                               Y=Y,\n",
    "                                                               number_latent_nodes=2,\n",
    "                                                               K=50,\n",
    "                                                               eta=1e-5,)\n",
    "\n",
    "\n"
   ]
  },
  {
   "cell_type": "code",
   "execution_count": 11,
   "metadata": {},
   "outputs": [
    {
     "name": "stderr",
     "output_type": "stream",
     "text": [
      "2023-01-22 20:14:09.454642: I tensorflow/core/platform/cpu_feature_guard.cc:151] This TensorFlow binary is optimized with oneAPI Deep Neural Network Library (oneDNN) to use the following CPU instructions in performance-critical operations:  AVX2 FMA\n",
      "To enable them in other operations, rebuild TensorFlow with the appropriate compiler flags.\n"
     ]
    },
    {
     "name": "stdout",
     "output_type": "stream",
     "text": [
      "Multilatent MPA shapes:\n",
      "tanh(K.sum(c_kl * phi, axis=1) = (None, 2, 50)\n",
      "psi_my = (None, 2)\n",
      "phi = (None, 2, 1)\n",
      "psi_my = (None, 2)\n",
      "p_my = (None, 2)\n"
     ]
    }
   ],
   "source": [
    "model = mavenn.Model2(gpmap=gpmap,\n",
    "                      mp_list=[mp_DM])"
   ]
  },
  {
   "cell_type": "code",
   "execution_count": 12,
   "metadata": {},
   "outputs": [
    {
     "name": "stdout",
     "output_type": "stream",
     "text": [
      "N = 38,449 observations set as training data.\n",
      "Using 19.9% for validation.\n",
      "Data shuffled.\n",
      "Time to set data: 1.16 sec.\n"
     ]
    }
   ],
   "source": [
    "# Set training data\n",
    "model.set_data(x=x_train.values,\n",
    "               y_list=[y_train.values],\n",
    "               shuffle=True)"
   ]
  },
  {
   "cell_type": "code",
   "execution_count": 13,
   "metadata": {},
   "outputs": [],
   "source": [
    "# # Set training data\n",
    "# model.set_data(x=x_train.values,\n",
    "#                y_list=[y_train.values],\n",
    "#                shuffle=True)\n"
   ]
  },
  {
   "cell_type": "code",
   "execution_count": 14,
   "metadata": {},
   "outputs": [
    {
     "name": "stdout",
     "output_type": "stream",
     "text": [
      "Model: \"model\"\n",
      "__________________________________________________________________________________________________\n",
      " Layer (type)                   Output Shape         Param #     Connected to                     \n",
      "==================================================================================================\n",
      " Sequence_labels_input (InputLa  [(None, 1199)]      0           []                               \n",
      " yer)                                                                                             \n",
      "                                                                                                  \n",
      " Sequence_only (Lambda)         (None, 1197)         0           ['Sequence_labels_input[0][0]']  \n",
      "                                                                                                  \n",
      " multi__additive_gp_map_layer (  (None, 2)           2396        ['Sequence_only[0][0]']          \n",
      " Multi_AdditiveGPMapLayer)                                                                        \n",
      "                                                                                                  \n",
      " Labels_input_0 (Lambda)        (None, 2)            0           ['Sequence_labels_input[0][0]']  \n",
      "                                                                                                  \n",
      " concatenate (Concatenate)      (None, 4)            0           ['multi__additive_gp_map_layer[0]\n",
      "                                                                 [0]',                            \n",
      "                                                                  'Labels_input_0[0][0]']         \n",
      "                                                                                                  \n",
      " multi_latent_discrete_agnostic  (None,)             252         ['concatenate[0][0]']            \n",
      " _mp (MultiLatentDiscreteAgnost                                                                   \n",
      " icMP)                                                                                            \n",
      "                                                                                                  \n",
      "==================================================================================================\n",
      "Total params: 2,648\n",
      "Trainable params: 2,648\n",
      "Non-trainable params: 0\n",
      "__________________________________________________________________________________________________\n"
     ]
    }
   ],
   "source": [
    "model.model.summary()"
   ]
  },
  {
   "cell_type": "code",
   "execution_count": 15,
   "metadata": {},
   "outputs": [
    {
     "name": "stdout",
     "output_type": "stream",
     "text": [
      "Epoch 1/5\n",
      "Multilatent MPA shapes:\n",
      "tanh(K.sum(c_kl * phi, axis=1) = (None, 2, 50)\n",
      "psi_my = (None, 2)\n",
      "phi = (None, 2, 1)\n",
      "psi_my = (None, 2)\n",
      "p_my = (None, 2)\n",
      "Multilatent MPA shapes:\n",
      "tanh(K.sum(c_kl * phi, axis=1) = (None, 2, 50)\n",
      "psi_my = (None, 2)\n",
      "phi = (None, 2, 1)\n",
      "psi_my = (None, 2)\n",
      "p_my = (None, 2)\n",
      "6154/6160 [============================>.] - ETA: 0s - loss: 1784.4319 - I_var: -0.1355- ETA: 1s - loMultilatent MPA shapes:\n",
      "tanh(K.sum(c_kl * phi, axis=1) = (None, 2, 50)\n",
      "psi_my = (None, 2)\n",
      "phi = (None, 2, 1)\n",
      "psi_my = (None, 2)\n",
      "p_my = (None, 2)\n",
      "6160/6160 [==============================] - 11s 2ms/step - loss: 1783.0831 - I_var: -0.1353 - val_loss: 922.9561 - val_I_var: 0.0304\n",
      "Epoch 2/5\n",
      "6160/6160 [==============================] - 11s 2ms/step - loss: 1612.9078 - I_var: 0.0509 - val_loss: 903.1564 - val_I_var: 0.1383\n",
      "Epoch 3/5\n",
      "6160/6160 [==============================] - 14s 2ms/step - loss: 1689.8103 - I_var: -0.0238 - val_loss: 900.2958 - val_I_var: 0.0486\n",
      "Epoch 4/5\n",
      "6160/6160 [==============================] - 10s 2ms/step - loss: 1565.7734 - I_var: 0.1111 - val_loss: 894.5138 - val_I_var: 0.0569\n",
      "Epoch 5/5\n",
      "6160/6160 [==============================] - 12s 2ms/step - loss: 1565.6113 - I_var: 0.0908 - val_loss: 830.0961 - val_I_var: 0.2069\n",
      "Training time: 57.9 seconds\n"
     ]
    },
    {
     "data": {
      "text/plain": [
       "<keras.callbacks.History at 0x7fbe58f92cd0>"
      ]
     },
     "execution_count": 15,
     "metadata": {},
     "output_type": "execute_result"
    }
   ],
   "source": [
    "\n",
    "# Fit model to data\n",
    "model.fit(learning_rate=.0005,\n",
    "                     epochs=50,\n",
    "                     batch_size=200,\n",
    "                     try_tqdm = False,\n",
    "                     early_stopping=False,\n",
    "                     verbose=True,\n",
    "                     early_stopping_patience=10,\n",
    "                     linear_initialization=False)\n"
   ]
  },
  {
   "cell_type": "code",
   "execution_count": 18,
   "metadata": {},
   "outputs": [
    {
     "name": "stdout",
     "output_type": "stream",
     "text": [
      "On test data:\n"
     ]
    },
    {
     "data": {
      "image/png": "[encoded data removed]",
      "text/plain": [
       "<Figure size 288x288 with 1 Axes>"
      ]
     },
     "metadata": {
      "needs_background": "light"
     },
     "output_type": "display_data"
    }
   ],
   "source": [
    "# Show training history\n",
    "print('On test data:')\n",
    "# x_test = test_df['x'].values\n",
    "# y_test = test_df[y_cols].values\n",
    "\n",
    "\n",
    "I_var_hist = model.history['I_var']\n",
    "val_I_var_hist = model.history['val_I_var']\n",
    "\n",
    "fig, ax = plt.subplots(figsize=[4,4])\n",
    "\n",
    "ax.plot(I_var_hist, label='I_var_train-DM')\n",
    "ax.plot(val_I_var_hist, label='I_var_val-DM')\n",
    "#ax.set_xscale('log')\n",
    "ax.set_title('training history - binding')\n",
    "\n",
    "ax.legend()\n",
    "ax.set_xlabel('epochs')\n",
    "ax.set_ylabel('bits')\n",
    "\n",
    "fig.tight_layout()\n",
    "#fig.savefig('plots/GRB2_SH3/training_history_binding.png',dpi=200,bbox_inches='tight')\n"
   ]
  },
  {
   "cell_type": "code",
   "execution_count": 32,
   "metadata": {},
   "outputs": [],
   "source": [
    "#phi = gpmap.x_to_phi(x_test)\n",
    "theta_2_lc = np.squeeze(model.model.layers[2].get_weights()[1])"
   ]
  },
  {
   "cell_type": "code",
   "execution_count": 45,
   "metadata": {},
   "outputs": [
    {
     "data": {
      "text/plain": [
       "Text(0, 0.5, '$\\\\theta_{lc}, \\\\phi_2$ ')"
      ]
     },
     "execution_count": 45,
     "metadata": {},
     "output_type": "execute_result"
    },
    {
     "data": {
      "image/png": "[encoded data removed]",
      "text/plain": [
       "<Figure size 360x360 with 1 Axes>"
      ]
     },
     "metadata": {
      "needs_background": "light"
     },
     "output_type": "display_data"
    }
   ],
   "source": [
    "fig, ax = plt.subplots(1,1,figsize=(5,5))\n",
    "ax.scatter(theta_2_lc[0],theta_2_lc[1],s=10,color='blue')\n",
    "ax.set_xlabel('$\\\\theta_{lc}, \\phi_1$ ',fontsize=18)\n",
    "ax.set_ylabel('$\\\\theta_{lc}, \\phi_2$ ',fontsize=18)"
   ]
  },
  {
   "cell_type": "code",
   "execution_count": null,
   "metadata": {},
   "outputs": [],
   "source": []
  },
  {
   "cell_type": "code",
   "execution_count": 46,
   "metadata": {},
   "outputs": [],
   "source": [
    "\n",
    "# # # Create fig and ax objects\n",
    "# fig, axs = plt.subplots(2,1, figsize=[12,8])\n",
    "\n",
    "# ax = axs[0]\n",
    "# # Draw heatmap\n",
    "# ax, cb = mavenn.heatmap(ax=ax,\n",
    "#                         values=theta_lc_DM,\n",
    "#                         alphabet=alphabet,\n",
    "#                         seq=model_binding_DM.x_stats['consensus_seq'],\n",
    "#                         seq_kwargs={'c':'gray', 's':20,'marker':'o'},\n",
    "#                         cmap='RdBu',\n",
    "#                         cbar=True,\n",
    "#                         #clim = [-5,1],\n",
    "#                         cmap_size='2%',\n",
    "#                         cmap_pad=.3,\n",
    "#                         ccenter=0)\n",
    "\n",
    "# # Style colorbar\n",
    "# cb.set_label('Additive effect - WT gauge ($\\\\theta$)',\n",
    "#              labelpad=10, ha='center', va='center', rotation=-90)\n",
    "# cb.outline.set_visible(False)\n",
    "# cb.ax.tick_params(direction='in', size=20, color='white')\n",
    "# ax.set_title('Discrete monotonic - binding')\n",
    "\n",
    "# ax = axs[1]\n",
    "# # Draw heatmap\n",
    "# ax, cb = mavenn.heatmap(ax=ax,\n",
    "#                         values=theta_lc_EE,\n",
    "#                         alphabet=alphabet,\n",
    "#                         seq=model_binding_EE.x_stats['consensus_seq'],\n",
    "#                         seq_kwargs={'c':'gray', 's':20,'marker':'o'},\n",
    "#                         cmap='RdBu',\n",
    "#                         cbar=True,\n",
    "#                         #clim = [-5,1],\n",
    "#                         cmap_size='2%',\n",
    "#                         cmap_pad=.3,\n",
    "#                         ccenter=0)\n",
    "\n",
    "# # Style colorbar\n",
    "# cb.set_label('Additive effect - WT gauge ($\\\\theta$)',\n",
    "#              labelpad=10, ha='center', va='center', rotation=-90)\n",
    "# cb.outline.set_visible(False)\n",
    "# cb.ax.tick_params(direction='in', size=20, color='white')\n",
    "# ax.set_title('Exponential enrichment - binding')\n",
    "\n",
    "\n",
    "# fig.tight_layout()\n",
    "# fig.savefig('plots/GRB2_SH3/GP_map_binding.png',dpi=300,bbox_inches='tight')"
   ]
  },
  {
   "cell_type": "code",
   "execution_count": null,
   "metadata": {},
   "outputs": [],
   "source": [
    "plt.figure(figsize=(5,5))\n",
    "plt.scatter(theta_lc_DM.ravel(),theta_lc_EE.ravel(),c='blue',s=5,alpha=0.3)\n",
    "plt.xlabel('Theta discrete monotonic')\n",
    "plt.ylabel('Theta exponential enrichment')"
   ]
  },
  {
   "cell_type": "code",
   "execution_count": null,
   "metadata": {},
   "outputs": [],
   "source": [
    "# Create grid in phi space\n",
    "phi_lim = [-5, 5]\n",
    "phi_grid = np.linspace(phi_lim[0], phi_lim[1], 1000)\n",
    "\n",
    "# Create array of allowable y values\n",
    "Y = mp_DM.Y    # Y = number of bins\n",
    "y_lim = [-.5, Y-.5]\n",
    "y_all = range(Y)\n",
    "\n",
    "# Compute matrix of p(y|phi) values\n",
    "\n",
    "\n",
    "\n",
    "# Create figure with two panels\n",
    "fig, axs = plt.subplots(1,2,figsize=[12,6])\n",
    "\n",
    "ax = axs[0]\n",
    "# Right panel: draw measurement process as heatmap\n",
    "\n",
    "measurement_process = mp_DM.p_of_y_given_phi(y_all, phi_grid)\n",
    "im = ax.imshow(measurement_process,\n",
    "               cmap='Greens',\n",
    "               extent=phi_lim+y_lim,\n",
    "               vmin=0,\n",
    "               origin='lower',\n",
    "               interpolation='nearest',\n",
    "               aspect=\"auto\")\n",
    "ax.set_yticks(y_all)\n",
    "ax.set_ylabel('bin number (y)')\n",
    "ax.set_xlabel('latent phenotype ($\\phi$)')\n",
    "ax.set_title('measurement process - discrete monotonic')\n",
    "cb = plt.colorbar(im,ax=ax)\n",
    "cb.set_label('probability  $p(y|\\phi)$', rotation=-90, va=\"bottom\")\n",
    "\n",
    "ax = axs[1]\n",
    "# Right panel: draw measurement process as heatmap\n",
    "\n",
    "measurement_process = mp_EE.p_of_y_given_phi(y_all, phi_grid)\n",
    "im = ax.imshow(measurement_process,\n",
    "               cmap='Greens',\n",
    "               extent=phi_lim+y_lim,\n",
    "               vmin=0,\n",
    "               origin='lower',\n",
    "               interpolation='nearest',\n",
    "               aspect=\"auto\")\n",
    "ax.set_yticks(y_all)\n",
    "ax.set_ylabel('bin number (y)')\n",
    "ax.set_xlabel('latent phenotype ($\\phi$)')\n",
    "ax.set_title('measurement process - Exponential enrichment')\n",
    "cb = plt.colorbar(im,ax=ax)\n",
    "cb.set_label('probability  $p(y|\\phi)$', rotation=-90, va=\"bottom\")\n",
    "\n",
    "\n",
    "fig.tight_layout()\n",
    "fig.savefig('plots/GRB2_SH3/lehner_measurment_prcoess_binding.png',dpi=300,bbox_inches='tight')\n"
   ]
  },
  {
   "cell_type": "code",
   "execution_count": null,
   "metadata": {},
   "outputs": [],
   "source": [
    "data_df_GE = binding_df_full[['aa_seq','fitness']].copy()"
   ]
  },
  {
   "cell_type": "code",
   "execution_count": null,
   "metadata": {},
   "outputs": [],
   "source": [
    "plt.hist(data_df_GE['fitness'],bins=20,color='blue')\n",
    "plt.show()"
   ]
  },
  {
   "cell_type": "code",
   "execution_count": null,
   "metadata": {},
   "outputs": [],
   "source": [
    "#gpmapGE = mavenn.gpmap.AdditiveGPMapLayer(L, alphabet)\n",
    "gpmapGE = mavenn.gpmap.MultilayerPerceptronGPMap(L, alphabet)\n",
    "mp_GE = mavenn.measurement_process_layers.GlobalEpsitasisMP(K=50,\n",
    "                                                           monotonic=True,\n",
    "                                                           ge_heteroskedasticity_order=2,\n",
    "                                                           ge_noise_model_type='Gaussian')"
   ]
  },
  {
   "cell_type": "code",
   "execution_count": null,
   "metadata": {},
   "outputs": [],
   "source": [
    "from sklearn.model_selection import train_test_split\n",
    "\n",
    "# split data into training and testing sets\n",
    "x_train_GE, x_test_GE, y_train_GE, y_test_GE = train_test_split(data_df_GE['aa_seq'].values, \n",
    "                                                                data_df_GE['fitness'].values, test_size=0.1)"
   ]
  },
  {
   "cell_type": "code",
   "execution_count": null,
   "metadata": {},
   "outputs": [],
   "source": [
    "model_GE = mavenn.Model2(gpmap=gpmapGE,\n",
    "                      mp_list=[mp_GE])\n",
    "\n",
    "# Set training data\n",
    "model_GE.set_data(x=x_train_GE,\n",
    "               #y_list=[data_df['y'].values.reshape(-1,1)],\n",
    "               y_list=[y_train_GE.reshape(-1,1)],\n",
    "               shuffle=False)"
   ]
  },
  {
   "cell_type": "code",
   "execution_count": null,
   "metadata": {},
   "outputs": [],
   "source": [
    "# Fit model to data\n",
    "history = model_GE.fit(learning_rate=.0005,\n",
    "                    epochs=150,\n",
    "                    batch_size=300,\n",
    "                    try_tqdm=False,\n",
    "                    early_stopping=False,\n",
    "                    early_stopping_patience=5,\n",
    "                    linear_initialization=False)"
   ]
  },
  {
   "cell_type": "code",
   "execution_count": null,
   "metadata": {},
   "outputs": [],
   "source": [
    "# Show training history\n",
    "print('On test data:')\n",
    "# x_test = test_df['x'].values\n",
    "# y_test = test_df[y_cols].values\n",
    "\n",
    "\n",
    "I_var_hist = model_GE.history['I_var']\n",
    "val_I_var_hist = model_GE.history['val_I_var']\n",
    "\n",
    "fig, axs = plt.subplots(1,2,figsize=[8,4])\n",
    "\n",
    "ax = axs[0]\n",
    "ax.plot(I_var_hist, label='I_var_train')\n",
    "ax.plot(val_I_var_hist, label='I_var_val')\n",
    "ax.legend()\n",
    "ax.set_xlabel('epochs')\n",
    "ax.set_ylabel('bits')\n",
    "#ax.set_xscale('log')\n",
    "ax.set_title('training hisotry')\n",
    "\n",
    "ax = axs[1]\n",
    "ax.plot(model_GE.history['loss'], label='loss_train')\n",
    "ax.plot(model_GE.history['val_loss'], label='loss_val')\n",
    "# ax.set_xlim(100,300)\n",
    "# ax.set_ylim(0.7*1e6,0.8*1e6)\n",
    "ax.legend()\n",
    "ax.set_xlabel('epochs')\n",
    "ax.set_ylabel('loss')\n",
    "# ax.set_xscale('log')\n",
    "# ax.set_yscale('log')\n",
    "ax.set_title('training hisotry')\n",
    "fig.tight_layout()"
   ]
  },
  {
   "cell_type": "code",
   "execution_count": null,
   "metadata": {},
   "outputs": [],
   "source": [
    "phi = gpmapGE.x_to_phi(x_test_GE)\n",
    "phi_train = gpmapGE.x_to_phi(x_train_GE)"
   ]
  },
  {
   "cell_type": "code",
   "execution_count": null,
   "metadata": {},
   "outputs": [],
   "source": [
    "np.corrcoef(phi_train,y_train_GE)[0,1]**2"
   ]
  },
  {
   "cell_type": "code",
   "execution_count": null,
   "metadata": {},
   "outputs": [],
   "source": [
    "fig, axs = plt.subplots(1,2, figsize=(9,4.5))\n",
    "\n",
    "ax = axs[0]\n",
    "yhat = mp_GE.phi_to_yhat(phi)\n",
    "ax.scatter(phi,y_test_GE,s=2,alpha=0.2,c='b',label='test data')\n",
    "#ax.scatter(phi,yhat* model.y_std+model.y_mean,s=1,alpha=0.1,c='r',label='$\\hat{y} = g(\\phi)$')\n",
    "ax.scatter(phi,yhat,s=2,alpha=0.3,c='r',label='$\\hat{y} = g(\\phi)$')\n",
    "\n",
    "ax.set_xlabel('latent phenotype ($\\phi$)')\n",
    "ax.set_ylabel('measurement ($y$)')\n",
    "ax.set_title('GRB2-SH3 - binding')\n",
    "leg = ax.legend()\n",
    "\n",
    "for lh in leg.legendHandles: \n",
    "    lh.set_alpha(1)\n",
    "    \n",
    "    \n",
    "ax = axs[1]\n",
    "ax.scatter(yhat,y_test_GE,s=2,alpha=0.2,c='b',label='test data')\n",
    "Rsq = np.corrcoef(yhat.numpy().ravel(),y_test_GE)[0,1]**2\n",
    "\n",
    "ax.set_xlabel('$\\hat{y} = g(\\phi)$')\n",
    "ax.set_ylabel('measurement ($y$)')\n",
    "ax.set_title(f'GRB2-SH3, $R^2 = $ {Rsq:.3f}')\n",
    "leg = ax.legend()\n",
    "\n",
    "for lh in leg.legendHandles: \n",
    "    lh.set_alpha(1)\n",
    "\n",
    "fig.tight_layout()\n",
    "#fig.savefig('plots/GRB2_SH3/global_epistasis_binding_binding.png',dpi=300,bbox_inches='tight')    \n"
   ]
  },
  {
   "cell_type": "code",
   "execution_count": null,
   "metadata": {},
   "outputs": [],
   "source": [
    "theta_lc_GE = gpmapGE.get_theta(model_GE,gauge='consensus')['theta_lc']"
   ]
  },
  {
   "cell_type": "code",
   "execution_count": null,
   "metadata": {},
   "outputs": [],
   "source": [
    "plt.figure(figsize=(5,5))\n",
    "plt.scatter(theta_lc_DM.ravel(),theta_lc_GE.ravel(),c='blue',s=5,alpha=0.3)\n",
    "plt.xlabel('Theta discrete monotonic')\n",
    "plt.ylabel('Theta global epistasis')"
   ]
  },
  {
   "cell_type": "code",
   "execution_count": null,
   "metadata": {},
   "outputs": [],
   "source": [
    "lehner_binding_singles_df = pd.read_csv('data/GRB2-SH3.singles_binding.csv')\n",
    "lehner_binding_singles_df"
   ]
  },
  {
   "cell_type": "code",
   "execution_count": null,
   "metadata": {},
   "outputs": [],
   "source": [
    "binding_singles_transformed_df = pd.DataFrame(np.nan*np.ones(shape=(57,21)),columns=alphabet)\n",
    "binding_singles_transformed_df.head()"
   ]
  },
  {
   "cell_type": "code",
   "execution_count": null,
   "metadata": {},
   "outputs": [],
   "source": [
    "for idx in lehner_binding_singles_df.index:\n",
    "\n",
    "    mutant = lehner_binding_singles_df.loc[idx]['Mut']\n",
    "    value = lehner_binding_singles_df.loc[idx]['fitness']\n",
    "    \n",
    "    pos = lehner_binding_singles_df.loc[idx]['Pos']-1\n",
    "    binding_singles_transformed_df[mutant][pos] = value"
   ]
  },
  {
   "cell_type": "code",
   "execution_count": null,
   "metadata": {},
   "outputs": [],
   "source": [
    "fig, axs = plt.subplots(1,2,figsize=(8,4))\n",
    "\n",
    "ax = axs[0]\n",
    "Rsq = np.corrcoef(theta_lc_consensus_EE_df.fillna(0).values.ravel(),binding_singles_transformed_df.fillna(0).values.ravel())[0,1]**2\n",
    "ax.scatter(theta_lc_consensus_EE_df.values.ravel(),binding_singles_transformed_df.values.ravel(),s=3,alpha=0.3,color='blue')\n",
    "ax.set_xlabel(' $\\\\theta$ - exponential enrichment')\n",
    "ax.set_ylabel(' Binding, singles - Lehner')\n",
    "ax.set_title(f'$R^2 = $ {Rsq:.3f}')\n",
    "\n",
    "ax = axs[1]\n",
    "Rsq = np.corrcoef(theta_lc_consensus_DM_df.fillna(0).values.ravel(),binding_singles_transformed_df.fillna(0).values.ravel())[0,1]**2\n",
    "ax.scatter(theta_lc_consensus_DM_df.values.ravel(),binding_singles_transformed_df.values.ravel(),s=3,alpha=0.3,color='blue')\n",
    "ax.set_xlabel(' $\\\\theta$ - discrete monotonic')\n",
    "ax.set_ylabel(' Binding, singles - Lehner')\n",
    "ax.set_title(f'$R^2 = $ {Rsq:.3f}')\n",
    "\n",
    "fig.tight_layout()\n",
    "\n",
    "fig.savefig('plots/GRB2_SH3/GRB2_SH3.singles_binding_comparison_to_Lehner.png',dpi=200,bbox_inches='tight')\n"
   ]
  },
  {
   "cell_type": "code",
   "execution_count": null,
   "metadata": {},
   "outputs": [],
   "source": [
    "# # Create fig and ax objects\n",
    "fig, ax = plt.subplots(figsize=[12,4])\n",
    "\n",
    "# Draw heatmap\n",
    "ax, cb = mavenn.heatmap(ax=ax,\n",
    "                        values=binding_singles_transformed_df.values,\n",
    "                        alphabet=alphabet,\n",
    "                        seq=model_binding_DM.x_stats['consensus_seq'],\n",
    "                        seq_kwargs={'c':'gray', 's':20,'marker':'o'},\n",
    "                        cmap='RdBu',\n",
    "                        cbar=True,\n",
    "                        #clim = [-5,1],\n",
    "                        cmap_size='2%',\n",
    "                        cmap_pad=.3,\n",
    "                        ccenter=0)\n",
    "\n",
    "# Style colorbar\n",
    "cb.set_label('Additive effect - WT gauge ($\\\\theta$)',\n",
    "             labelpad=10, ha='center', va='center', rotation=-90)\n",
    "cb.outline.set_visible(False)\n",
    "cb.ax.tick_params(direction='in', size=20, color='white')\n",
    "ax.set_title('Lehner - binding')\n",
    "\n",
    "fig.savefig('plots/GRB2_SH3/Lehner_GP_map_binding.png',dpi=300,bbox_inches='tight')"
   ]
  },
  {
   "cell_type": "code",
   "execution_count": null,
   "metadata": {},
   "outputs": [],
   "source": []
  }
 ],
 "metadata": {
  "kernelspec": {
   "display_name": "Python 3 (ipykernel)",
   "language": "python",
   "name": "python3"
  },
  "language_info": {
   "codemirror_mode": {
    "name": "ipython",
    "version": 3
   },
   "file_extension": ".py",
   "mimetype": "text/x-python",
   "name": "python",
   "nbconvert_exporter": "python",
   "pygments_lexer": "ipython3",
   "version": "3.9.7"
  }
 },
 "nbformat": 4,
 "nbformat_minor": 2
}
