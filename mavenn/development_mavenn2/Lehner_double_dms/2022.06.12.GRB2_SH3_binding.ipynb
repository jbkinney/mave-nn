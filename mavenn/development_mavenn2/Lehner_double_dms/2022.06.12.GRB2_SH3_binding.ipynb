{
 "cells": [
  {
   "cell_type": "code",
   "execution_count": null,
   "metadata": {},
   "outputs": [],
   "source": []
  },
  {
   "cell_type": "code",
   "execution_count": 1,
   "metadata": {},
   "outputs": [],
   "source": [
    "import numpy as np\n",
    "import pandas as pd\n",
    "import matplotlib.pyplot as plt\n",
    "import sys\n",
    "sys.path.insert(0, '/Users/tareen/Desktop/Research_Projects/2022_mavenn2_github/mavenn')\n",
    "\n",
    "import mavenn\n",
    "import logomaker\n",
    "import seaborn as sns\n",
    "import re\n",
    "\n",
    "%matplotlib inline"
   ]
  },
  {
   "cell_type": "code",
   "execution_count": 2,
   "metadata": {},
   "outputs": [
    {
     "name": "stderr",
     "output_type": "stream",
     "text": [
      "/Library/Frameworks/Python.framework/Versions/3.9/lib/python3.9/site-packages/IPython/core/interactiveshell.py:3457: DtypeWarning: Columns (6) have mixed types.Specify dtype option on import or set low_memory=False.\n",
      "  exec(code_obj, self.user_global_ns, self.user_ns)\n"
     ]
    }
   ],
   "source": [
    "binding_df_full = pd.read_csv('data/GRB2-SH3.binding.csv')\n",
    "binding_df = binding_df_full[['aa_seq','count_e1_s0','count_e1_s1']].dropna().reset_index(drop=True).copy()"
   ]
  },
  {
   "cell_type": "code",
   "execution_count": 3,
   "metadata": {},
   "outputs": [],
   "source": [
    "abundance_df = pd.read_csv('data/GRB2-SH3.abundance.csv')\n",
    "abundance_df = abundance_df[['aa_seq','count_e1_s0','count_e1_s1']].dropna().reset_index(drop=True).copy()"
   ]
  },
  {
   "cell_type": "code",
   "execution_count": 4,
   "metadata": {},
   "outputs": [],
   "source": [
    "data_df = binding_df.copy()\n",
    "y_cols = data_df.columns[1:] "
   ]
  },
  {
   "cell_type": "code",
   "execution_count": 5,
   "metadata": {},
   "outputs": [],
   "source": [
    "X = data_df['aa_seq']\n",
    "y = data_df[y_cols]"
   ]
  },
  {
   "cell_type": "code",
   "execution_count": 6,
   "metadata": {},
   "outputs": [
    {
     "name": "stdout",
     "output_type": "stream",
     "text": [
      "L=57, Y=2\n"
     ]
    }
   ],
   "source": [
    "# set positional argumnets for gpmap function\n",
    "L = len(data_df['aa_seq'][0])\n",
    "alphabet=['A', 'C', 'D', 'E', 'F',\n",
    "          'G', 'H', 'I', 'K', 'L',\n",
    "          'M', 'N', 'P', 'Q', 'R',\n",
    "          'S', 'T', 'V', 'W', 'Y', '*']\n",
    "\n",
    "\n",
    "Y = len(y_cols)\n",
    "print(f'L={L}, Y={Y}')"
   ]
  },
  {
   "cell_type": "code",
   "execution_count": 7,
   "metadata": {},
   "outputs": [
    {
     "name": "stderr",
     "output_type": "stream",
     "text": [
      "2023-01-27 06:59:41.752162: I tensorflow/core/platform/cpu_feature_guard.cc:151] This TensorFlow binary is optimized with oneAPI Deep Neural Network Library (oneDNN) to use the following CPU instructions in performance-critical operations:  AVX2 FMA\n",
      "To enable them in other operations, rebuild TensorFlow with the appropriate compiler flags.\n"
     ]
    }
   ],
   "source": [
    "gpmap_binding_DM = mavenn.gpmap.AdditiveGPMapLayer(L, alphabet)\n",
    "gpmap_binding_EE = mavenn.gpmap.AdditiveGPMapLayer(L, alphabet)\n",
    "\n",
    "gpmap_abundance = mavenn.gpmap.AdditiveGPMapLayer(L, alphabet)\n",
    "\n",
    "# # instantiate gpmap object\n",
    "# gpmap = mavenn.gpmap.Multi_AdditiveGPMapLayer(L=L, \n",
    "#                                               alphabet=alphabet,\n",
    "#                                               number_latent_nodes=2)\n",
    "\n"
   ]
  },
  {
   "cell_type": "code",
   "execution_count": 8,
   "metadata": {},
   "outputs": [],
   "source": [
    "from sklearn.model_selection import train_test_split\n",
    "\n",
    "# split data into training and testing sets\n",
    "x_train, x_test, y_train, y_test = train_test_split(X, y, test_size=0.1)"
   ]
  },
  {
   "cell_type": "code",
   "execution_count": 9,
   "metadata": {},
   "outputs": [],
   "source": [
    "def model_local(gpmap, \n",
    "                mp,\n",
    "                x_train,\n",
    "                y_train):\n",
    "    \n",
    "    model = mavenn.Model2(gpmap=gpmap,\n",
    "                          mp_list=[mp])\n",
    "    \n",
    "    # Set training data\n",
    "    model.set_data(x=x_train.values,\n",
    "                   y_list=[y_train.values],\n",
    "                   shuffle=True)\n",
    "    \n",
    "    return model\n",
    "    "
   ]
  },
  {
   "cell_type": "code",
   "execution_count": 10,
   "metadata": {},
   "outputs": [],
   "source": [
    "mp_DM = mavenn.measurement_process_layers.DiscreteMonotonicMP(info_for_layers_dict={'H_y_norm':0},\n",
    "                                                               Y=Y,\n",
    "                                                               K=50,\n",
    "                                                               eta=1e-5,)\n",
    "\n",
    "\n",
    "mp_EE = mavenn.measurement_process_layers.ExponentialEnrichmentMP(Y=Y,\n",
    "                                                                  t_y=[0,1],\n",
    "                                                                  eta=1e-5,\n",
    "                                                                  info_for_layers_dict={'H_y_norm':0})\n"
   ]
  },
  {
   "cell_type": "code",
   "execution_count": 11,
   "metadata": {},
   "outputs": [
    {
     "name": "stdout",
     "output_type": "stream",
     "text": [
      "N = 38,449 observations set as training data.\n",
      "Using 19.9% for validation.\n",
      "Data shuffled.\n",
      "Time to set data: 2.35 sec.\n",
      "N = 38,449 observations set as training data.\n",
      "Using 20.2% for validation.\n",
      "Data shuffled.\n",
      "Time to set data: 1.6 sec.\n"
     ]
    }
   ],
   "source": [
    "model_binding_DM = model_local(gpmap_binding_DM,mp_DM, x_train, y_train)\n",
    "model_binding_EE = model_local(gpmap_binding_EE,mp_EE, x_train, y_train)"
   ]
  },
  {
   "cell_type": "code",
   "execution_count": 12,
   "metadata": {},
   "outputs": [],
   "source": [
    "# # Set training data\n",
    "# model.set_data(x=x_train.values,\n",
    "#                y_list=[y_train.values],\n",
    "#                shuffle=True)\n"
   ]
  },
  {
   "cell_type": "code",
   "execution_count": 13,
   "metadata": {},
   "outputs": [],
   "source": [
    "# from tensorflow.keras.utils import plot_model\n",
    "# plot_model(model.model,show_shapes=True,show_dtype=False,dpi=300,to_file='lehner.png')"
   ]
  },
  {
   "cell_type": "code",
   "execution_count": 14,
   "metadata": {},
   "outputs": [
    {
     "name": "stdout",
     "output_type": "stream",
     "text": [
      "Training time: 163.9 seconds\n",
      "Training time: 210.7 seconds\n"
     ]
    },
    {
     "data": {
      "text/plain": [
       "<keras.callbacks.History at 0x7fe44d9c37c0>"
      ]
     },
     "execution_count": 14,
     "metadata": {},
     "output_type": "execute_result"
    }
   ],
   "source": [
    "\n",
    "# Fit model to data\n",
    "model_binding_DM.fit(learning_rate=.0005,\n",
    "                     epochs=300,\n",
    "                     batch_size=300,\n",
    "                     try_tqdm = False,\n",
    "                     early_stopping=False,\n",
    "                     verbose=False,\n",
    "                     early_stopping_patience=10,\n",
    "                     linear_initialization=False)\n",
    "\n",
    "model_binding_EE.fit(learning_rate=.0005,\n",
    "                     epochs=300,\n",
    "                     batch_size=300,\n",
    "                     try_tqdm = False,\n",
    "                     early_stopping=False,\n",
    "                     verbose=False,\n",
    "                     early_stopping_patience=10,\n",
    "                     linear_initialization=False)"
   ]
  },
  {
   "cell_type": "code",
   "execution_count": 45,
   "metadata": {},
   "outputs": [
    {
     "name": "stdout",
     "output_type": "stream",
     "text": [
      "On test data:\n"
     ]
    },
    {
     "data": {
      "image/png": "[encoded data removed]",
      "text/plain": [
       "<Figure size 288x288 with 1 Axes>"
      ]
     },
     "metadata": {
      "needs_background": "light"
     },
     "output_type": "display_data"
    }
   ],
   "source": [
    "# Show training history\n",
    "print('On test data:')\n",
    "# x_test = test_df['x'].values\n",
    "# y_test = test_df[y_cols].values\n",
    "\n",
    "\n",
    "I_var_hist = model_binding_DM.history['I_var']\n",
    "val_I_var_hist = model_binding_DM.history['val_I_var']\n",
    "\n",
    "fig, ax = plt.subplots(figsize=[4,4])\n",
    "\n",
    "ax.plot(I_var_hist, label='I_var_train-Discrete-Mono')\n",
    "ax.plot(val_I_var_hist, label='I_var_val-Discrete-Mono')\n",
    "#ax.set_xscale('log')\n",
    "ax.set_title('training history - binding')\n",
    "\n",
    "I_var_hist = model_binding_EE.history['I_var']\n",
    "val_I_var_hist = model_binding_EE.history['val_I_var']\n",
    "\n",
    "ax.plot(I_var_hist, label='I_var_train-Exponential-Enrich')\n",
    "ax.plot(val_I_var_hist, label='I_var_val-Exponential-Enrich')\n",
    "\n",
    "ax.legend()\n",
    "ax.set_xlabel('epochs')\n",
    "ax.set_ylabel('bits')\n",
    "\n",
    "fig.tight_layout()\n",
    "fig.savefig('plots/GRB2_SH3/training_history_binding.png',dpi=200,bbox_inches='tight')\n"
   ]
  },
  {
   "cell_type": "code",
   "execution_count": 16,
   "metadata": {},
   "outputs": [],
   "source": [
    "phi_DM = gpmap_binding_DM.x_to_phi(x_test)\n",
    "phi_EE = gpmap_binding_EE.x_to_phi(x_test)"
   ]
  },
  {
   "cell_type": "code",
   "execution_count": 17,
   "metadata": {},
   "outputs": [],
   "source": [
    "theta_lc_DM = gpmap_binding_DM.get_theta(model_binding_DM,gauge='consensus')['theta_lc']\n",
    "theta_lc_EE = gpmap_binding_EE.get_theta(model_binding_EE,gauge='consensus')['theta_lc']\n",
    "theta_lc_consensus_EE_df = pd.DataFrame(theta_lc_EE,columns=alphabet)\n",
    "theta_lc_consensus_DM_df = pd.DataFrame(theta_lc_DM,columns=alphabet)"
   ]
  },
  {
   "cell_type": "code",
   "execution_count": null,
   "metadata": {},
   "outputs": [],
   "source": []
  },
  {
   "cell_type": "code",
   "execution_count": 18,
   "metadata": {},
   "outputs": [
    {
     "data": {
      "image/png": "[encoded data removed]",
      "text/plain": [
       "<Figure size 864x576 with 4 Axes>"
      ]
     },
     "metadata": {
      "needs_background": "light"
     },
     "output_type": "display_data"
    }
   ],
   "source": [
    "\n",
    "# # Create fig and ax objects\n",
    "fig, axs = plt.subplots(2,1, figsize=[12,8])\n",
    "\n",
    "ax = axs[0]\n",
    "# Draw heatmap\n",
    "ax, cb = mavenn.heatmap(ax=ax,\n",
    "                        values=theta_lc_DM,\n",
    "                        alphabet=alphabet,\n",
    "                        seq=model_binding_DM.x_stats['consensus_seq'],\n",
    "                        seq_kwargs={'c':'gray', 's':20,'marker':'o'},\n",
    "                        cmap='RdBu',\n",
    "                        cbar=True,\n",
    "                        #clim = [-5,1],\n",
    "                        cmap_size='2%',\n",
    "                        cmap_pad=.3,\n",
    "                        ccenter=0)\n",
    "\n",
    "# Style colorbar\n",
    "cb.set_label('Additive effect - WT gauge ($\\\\theta$)',\n",
    "             labelpad=10, ha='center', va='center', rotation=-90)\n",
    "cb.outline.set_visible(False)\n",
    "cb.ax.tick_params(direction='in', size=20, color='white')\n",
    "ax.set_title('Discrete monotonic - binding')\n",
    "\n",
    "ax = axs[1]\n",
    "# Draw heatmap\n",
    "ax, cb = mavenn.heatmap(ax=ax,\n",
    "                        values=theta_lc_EE,\n",
    "                        alphabet=alphabet,\n",
    "                        seq=model_binding_EE.x_stats['consensus_seq'],\n",
    "                        seq_kwargs={'c':'gray', 's':20,'marker':'o'},\n",
    "                        cmap='RdBu',\n",
    "                        cbar=True,\n",
    "                        #clim = [-5,1],\n",
    "                        cmap_size='2%',\n",
    "                        cmap_pad=.3,\n",
    "                        ccenter=0)\n",
    "\n",
    "# Style colorbar\n",
    "cb.set_label('Additive effect - WT gauge ($\\\\theta$)',\n",
    "             labelpad=10, ha='center', va='center', rotation=-90)\n",
    "cb.outline.set_visible(False)\n",
    "cb.ax.tick_params(direction='in', size=20, color='white')\n",
    "ax.set_title('Exponential enrichment - binding')\n",
    "\n",
    "\n",
    "fig.tight_layout()\n",
    "fig.savefig('plots/GRB2_SH3/GP_map_binding.png',dpi=300,bbox_inches='tight')"
   ]
  },
  {
   "cell_type": "code",
   "execution_count": 49,
   "metadata": {},
   "outputs": [
    {
     "data": {
      "image/png": "[encoded data removed]",
      "text/plain": [
       "<Figure size 360x360 with 1 Axes>"
      ]
     },
     "metadata": {
      "needs_background": "light"
     },
     "output_type": "display_data"
    }
   ],
   "source": [
    "plt.figure(figsize=(5,5))\n",
    "\n",
    "\n",
    "lims = [min(min(theta_lc_DM.ravel()),min(theta_lc_EE.ravel())),\n",
    "        max(max(theta_lc_DM.ravel()),max(theta_lc_EE.ravel()))]\n",
    "plt.xlabel('Theta discrete monotonic')\n",
    "plt.ylabel('Theta exponential enrichment')\n",
    "plt.plot(lims,lims,ls='--',color='orange')\n",
    "plt.scatter(theta_lc_DM.ravel(),theta_lc_EE.ravel(),c='blue',s=5,alpha=0.3)\n",
    "plt.title('binding')\n",
    "plt.savefig('plots/GRB2_SH3/GP_map_binding_scatter_comparison.png',dpi=300,bbox_inches='tight')"
   ]
  },
  {
   "cell_type": "code",
   "execution_count": 47,
   "metadata": {},
   "outputs": [
    {
     "data": {
      "image/png": "[encoded data removed]",
      "text/plain": [
       "<Figure size 864x432 with 4 Axes>"
      ]
     },
     "metadata": {
      "needs_background": "light"
     },
     "output_type": "display_data"
    }
   ],
   "source": [
    "# Create grid in phi space\n",
    "phi_lim = [-5, 5]\n",
    "phi_grid = np.linspace(phi_lim[0], phi_lim[1], 1000)\n",
    "\n",
    "# Create array of allowable y values\n",
    "Y = mp_DM.Y    # Y = number of bins\n",
    "y_lim = [-.5, Y-.5]\n",
    "y_all = range(Y)\n",
    "\n",
    "# Compute matrix of p(y|phi) values\n",
    "\n",
    "\n",
    "\n",
    "# Create figure with two panels\n",
    "fig, axs = plt.subplots(1,2,figsize=[12,6])\n",
    "\n",
    "ax = axs[0]\n",
    "# Right panel: draw measurement process as heatmap\n",
    "\n",
    "measurement_process = mp_DM.p_of_y_given_phi(y_all, phi_grid)\n",
    "im = ax.imshow(measurement_process,\n",
    "               cmap='Greens',\n",
    "               extent=phi_lim+y_lim,\n",
    "               vmin=0,\n",
    "               origin='lower',\n",
    "               interpolation='nearest',\n",
    "               aspect=\"auto\")\n",
    "ax.set_yticks(y_all)\n",
    "ax.set_ylabel('bin number (y)')\n",
    "ax.set_xlabel('latent phenotype ($\\phi$)')\n",
    "ax.set_title('measurement process - discrete monotonic')\n",
    "cb = plt.colorbar(im,ax=ax)\n",
    "cb.set_label('probability  $p(y|\\phi)$', rotation=-90, va=\"bottom\")\n",
    "\n",
    "ax = axs[1]\n",
    "# Right panel: draw measurement process as heatmap\n",
    "\n",
    "measurement_process = mp_EE.p_of_y_given_phi(y_all, phi_grid)\n",
    "im = ax.imshow(measurement_process,\n",
    "               cmap='Greens',\n",
    "               extent=phi_lim+y_lim,\n",
    "               vmin=0,\n",
    "               origin='lower',\n",
    "               interpolation='nearest',\n",
    "               aspect=\"auto\")\n",
    "ax.set_yticks(y_all)\n",
    "ax.set_ylabel('bin number (y)')\n",
    "ax.set_xlabel('latent phenotype ($\\phi$)')\n",
    "ax.set_title('measurement process - Exponential enrichment')\n",
    "cb = plt.colorbar(im,ax=ax)\n",
    "cb.set_label('probability  $p(y|\\phi)$', rotation=-90, va=\"bottom\")\n",
    "\n",
    "fig.suptitle('Binding',fontsize=14,fontweight='bold')\n",
    "fig.tight_layout()\n",
    "fig.savefig('plots/GRB2_SH3/lehner_measurment_prcoess_binding.png',dpi=300,bbox_inches='tight')\n"
   ]
  },
  {
   "cell_type": "code",
   "execution_count": 21,
   "metadata": {},
   "outputs": [],
   "source": [
    "data_df_GE = binding_df_full[['aa_seq','fitness']].copy()"
   ]
  },
  {
   "cell_type": "code",
   "execution_count": 22,
   "metadata": {},
   "outputs": [
    {
     "data": {
      "image/png": "[encoded data removed]",
      "text/plain": [
       "<Figure size 432x288 with 1 Axes>"
      ]
     },
     "metadata": {
      "needs_background": "light"
     },
     "output_type": "display_data"
    }
   ],
   "source": [
    "plt.hist(data_df_GE['fitness'],bins=20,color='blue')\n",
    "plt.show()"
   ]
  },
  {
   "cell_type": "code",
   "execution_count": 24,
   "metadata": {},
   "outputs": [],
   "source": [
    "gpmapGE = mavenn.gpmap.AdditiveGPMapLayer(L, alphabet)\n",
    "mp_GE = mavenn.measurement_process_layers.GlobalEpsistasisMP(K=50,\n",
    "                                                           monotonic=True,\n",
    "                                                           ge_heteroskedasticity_order=2,\n",
    "                                                           ge_noise_model_type='Gaussian')"
   ]
  },
  {
   "cell_type": "code",
   "execution_count": 25,
   "metadata": {},
   "outputs": [],
   "source": [
    "from sklearn.model_selection import train_test_split\n",
    "\n",
    "# split data into training and testing sets\n",
    "x_train_GE, x_test_GE, y_train_GE, y_test_GE = train_test_split(data_df_GE['aa_seq'].values, \n",
    "                                                                data_df_GE['fitness'].values, test_size=0.1)"
   ]
  },
  {
   "cell_type": "code",
   "execution_count": 26,
   "metadata": {},
   "outputs": [
    {
     "name": "stdout",
     "output_type": "stream",
     "text": [
      "N = 41,749 observations set as training data.\n",
      "Using 20.3% for validation.\n",
      "Time to set data: 1.43 sec.\n"
     ]
    }
   ],
   "source": [
    "model_GE = mavenn.Model2(gpmap=gpmapGE,\n",
    "                      mp_list=[mp_GE])\n",
    "\n",
    "# Set training data\n",
    "model_GE.set_data(x=x_train_GE,\n",
    "               #y_list=[data_df['y'].values.reshape(-1,1)],\n",
    "               y_list=[y_train_GE.reshape(-1,1)],\n",
    "               shuffle=False)"
   ]
  },
  {
   "cell_type": "code",
   "execution_count": 27,
   "metadata": {},
   "outputs": [
    {
     "name": "stdout",
     "output_type": "stream",
     "text": [
      "Epoch 1/150\n",
      "111/111 [==============================] - 1s 5ms/step - loss: 294.1493 - I_var: -1.1855 - val_loss: 277.6438 - val_I_var: -1.1148\n",
      "Epoch 2/150\n",
      "111/111 [==============================] - 0s 3ms/step - loss: 268.6561 - I_var: -1.0629 - val_loss: 254.7838 - val_I_var: -1.0045\n",
      "Epoch 3/150\n",
      "111/111 [==============================] - 0s 4ms/step - loss: 244.7594 - I_var: -0.9479 - val_loss: 229.7658 - val_I_var: -0.8837\n",
      "Epoch 4/150\n",
      "111/111 [==============================] - 0s 3ms/step - loss: 217.2303 - I_var: -0.8153 - val_loss: 199.1579 - val_I_var: -0.7355\n",
      "Epoch 5/150\n",
      "111/111 [==============================] - 0s 3ms/step - loss: 183.0757 - I_var: -0.6509 - val_loss: 163.2967 - val_I_var: -0.5618\n",
      "Epoch 6/150\n",
      "111/111 [==============================] - 0s 4ms/step - loss: 147.3196 - I_var: -0.4788 - val_loss: 129.5428 - val_I_var: -0.3985\n",
      "Epoch 7/150\n",
      "111/111 [==============================] - 1s 5ms/step - loss: 114.4828 - I_var: -0.3208 - val_loss: 99.5120 - val_I_var: -0.2534\n",
      "Epoch 8/150\n",
      "111/111 [==============================] - 0s 3ms/step - loss: 85.0453 - I_var: -0.1791 - val_loss: 71.2349 - val_I_var: -0.1171\n",
      "Epoch 9/150\n",
      "111/111 [==============================] - 0s 3ms/step - loss: 58.7023 - I_var: -0.0524 - val_loss: 46.9495 - val_I_var: 2.8625e-04\n",
      "Epoch 10/150\n",
      "111/111 [==============================] - 0s 3ms/step - loss: 35.4606 - I_var: 0.0595 - val_loss: 26.5492 - val_I_var: 0.0991\n",
      "Epoch 11/150\n",
      "111/111 [==============================] - 0s 3ms/step - loss: 14.5380 - I_var: 0.1602 - val_loss: 6.1194 - val_I_var: 0.1973\n",
      "Epoch 12/150\n",
      "111/111 [==============================] - 0s 3ms/step - loss: -3.7296 - I_var: 0.2481 - val_loss: -10.7537 - val_I_var: 0.2788\n",
      "Epoch 13/150\n",
      "111/111 [==============================] - 0s 3ms/step - loss: -19.7233 - I_var: 0.3251 - val_loss: -21.8287 - val_I_var: 0.3331\n",
      "Epoch 14/150\n",
      "111/111 [==============================] - 0s 4ms/step - loss: -32.7399 - I_var: 0.3877 - val_loss: -37.3719 - val_I_var: 0.4073\n",
      "Epoch 15/150\n",
      "111/111 [==============================] - 0s 4ms/step - loss: -43.7790 - I_var: 0.4410 - val_loss: -41.6202 - val_I_var: 0.4258\n",
      "Epoch 16/150\n",
      "111/111 [==============================] - 0s 3ms/step - loss: -53.6251 - I_var: 0.4882 - val_loss: -54.9925 - val_I_var: 0.4916\n",
      "Epoch 17/150\n",
      "111/111 [==============================] - 0s 3ms/step - loss: -61.1044 - I_var: 0.5240 - val_loss: -61.6700 - val_I_var: 0.5235\n",
      "Epoch 18/150\n",
      "111/111 [==============================] - 0s 3ms/step - loss: -67.3019 - I_var: 0.5540 - val_loss: -66.4607 - val_I_var: 0.5468\n",
      "Epoch 19/150\n",
      "111/111 [==============================] - 0s 3ms/step - loss: -72.4898 - I_var: 0.5792 - val_loss: -71.7199 - val_I_var: 0.5719\n",
      "Epoch 20/150\n",
      "111/111 [==============================] - 0s 3ms/step - loss: -76.6425 - I_var: 0.5990 - val_loss: -74.5362 - val_I_var: 0.5851\n",
      "Epoch 21/150\n",
      "111/111 [==============================] - 0s 3ms/step - loss: -80.5353 - I_var: 0.6178 - val_loss: -78.8025 - val_I_var: 0.6060\n",
      "Epoch 22/150\n",
      "111/111 [==============================] - 0s 3ms/step - loss: -84.3692 - I_var: 0.6361 - val_loss: -81.4011 - val_I_var: 0.6186\n",
      "Epoch 23/150\n",
      "111/111 [==============================] - 0s 3ms/step - loss: -88.1111 - I_var: 0.6541 - val_loss: -85.0134 - val_I_var: 0.6365\n",
      "Epoch 24/150\n",
      "111/111 [==============================] - 0s 3ms/step - loss: -90.6950 - I_var: 0.6668 - val_loss: -86.2941 - val_I_var: 0.6418\n",
      "Epoch 25/150\n",
      "111/111 [==============================] - 0s 3ms/step - loss: -95.4542 - I_var: 0.6894 - val_loss: -91.7835 - val_I_var: 0.6692\n",
      "Epoch 26/150\n",
      "111/111 [==============================] - 0s 3ms/step - loss: -99.0755 - I_var: 0.7069 - val_loss: -91.7936 - val_I_var: 0.6680\n",
      "Epoch 27/150\n",
      "111/111 [==============================] - 0s 3ms/step - loss: -101.1915 - I_var: 0.7173 - val_loss: -97.9891 - val_I_var: 0.6986\n",
      "Epoch 28/150\n",
      "111/111 [==============================] - 0s 3ms/step - loss: -106.4812 - I_var: 0.7427 - val_loss: -100.5455 - val_I_var: 0.7110\n",
      "Epoch 29/150\n",
      "111/111 [==============================] - 0s 3ms/step - loss: -110.1100 - I_var: 0.7602 - val_loss: -102.5886 - val_I_var: 0.7204\n",
      "Epoch 30/150\n",
      "111/111 [==============================] - 0s 3ms/step - loss: -113.9015 - I_var: 0.7784 - val_loss: -105.7500 - val_I_var: 0.7369\n",
      "Epoch 31/150\n",
      "111/111 [==============================] - 0s 3ms/step - loss: -117.8248 - I_var: 0.7972 - val_loss: -111.2883 - val_I_var: 0.7645\n",
      "Epoch 32/150\n",
      "111/111 [==============================] - 0s 3ms/step - loss: -121.7193 - I_var: 0.8157 - val_loss: -112.6504 - val_I_var: 0.7719\n",
      "Epoch 33/150\n",
      "111/111 [==============================] - 0s 3ms/step - loss: -124.7911 - I_var: 0.8307 - val_loss: -118.9181 - val_I_var: 0.8014\n",
      "Epoch 34/150\n",
      "111/111 [==============================] - 0s 3ms/step - loss: -128.9997 - I_var: 0.8511 - val_loss: -122.1038 - val_I_var: 0.8168\n",
      "Epoch 35/150\n",
      "111/111 [==============================] - 0s 3ms/step - loss: -132.7534 - I_var: 0.8692 - val_loss: -125.1357 - val_I_var: 0.8311\n",
      "Epoch 36/150\n",
      "111/111 [==============================] - 0s 3ms/step - loss: -135.8002 - I_var: 0.8836 - val_loss: -128.3867 - val_I_var: 0.8467\n",
      "Epoch 37/150\n",
      "111/111 [==============================] - 0s 3ms/step - loss: -139.4775 - I_var: 0.9016 - val_loss: -130.7595 - val_I_var: 0.8583\n",
      "Epoch 38/150\n",
      "111/111 [==============================] - 0s 3ms/step - loss: -142.9764 - I_var: 0.9184 - val_loss: -132.5264 - val_I_var: 0.8667\n",
      "Epoch 39/150\n",
      "111/111 [==============================] - 0s 3ms/step - loss: -145.8547 - I_var: 0.9319 - val_loss: -137.5844 - val_I_var: 0.8923\n",
      "Epoch 40/150\n",
      "111/111 [==============================] - 0s 3ms/step - loss: -148.6462 - I_var: 0.9456 - val_loss: -140.0108 - val_I_var: 0.9044\n",
      "Epoch 41/150\n",
      "111/111 [==============================] - 0s 3ms/step - loss: -151.7670 - I_var: 0.9604 - val_loss: -142.4429 - val_I_var: 0.9162\n",
      "Epoch 42/150\n",
      "111/111 [==============================] - 0s 3ms/step - loss: -154.2495 - I_var: 0.9726 - val_loss: -144.2216 - val_I_var: 0.9254\n",
      "Epoch 43/150\n",
      "111/111 [==============================] - 0s 3ms/step - loss: -157.0335 - I_var: 0.9862 - val_loss: -146.1157 - val_I_var: 0.9344\n",
      "Epoch 44/150\n",
      "111/111 [==============================] - 0s 3ms/step - loss: -159.1639 - I_var: 0.9965 - val_loss: -146.4940 - val_I_var: 0.9368\n",
      "Epoch 45/150\n",
      "111/111 [==============================] - 0s 3ms/step - loss: -160.7598 - I_var: 1.0040 - val_loss: -147.7061 - val_I_var: 0.9430\n",
      "Epoch 46/150\n",
      "111/111 [==============================] - 0s 3ms/step - loss: -163.2887 - I_var: 1.0163 - val_loss: -151.1483 - val_I_var: 0.9588\n",
      "Epoch 47/150\n",
      "111/111 [==============================] - 0s 3ms/step - loss: -164.6094 - I_var: 1.0225 - val_loss: -152.1571 - val_I_var: 0.9635\n",
      "Epoch 48/150\n",
      "111/111 [==============================] - 0s 3ms/step - loss: -166.3520 - I_var: 1.0309 - val_loss: -154.0119 - val_I_var: 0.9732\n",
      "Epoch 49/150\n",
      "111/111 [==============================] - 0s 3ms/step - loss: -167.9809 - I_var: 1.0388 - val_loss: -154.4995 - val_I_var: 0.9763\n",
      "Epoch 50/150\n",
      "111/111 [==============================] - 0s 3ms/step - loss: -167.5290 - I_var: 1.0362 - val_loss: -156.0684 - val_I_var: 0.9837\n",
      "Epoch 51/150\n",
      "111/111 [==============================] - 0s 3ms/step - loss: -169.7894 - I_var: 1.0474 - val_loss: -155.7381 - val_I_var: 0.9815\n",
      "Epoch 52/150\n",
      "111/111 [==============================] - 0s 3ms/step - loss: -171.2032 - I_var: 1.0542 - val_loss: -156.6119 - val_I_var: 0.9867\n",
      "Epoch 53/150\n",
      "111/111 [==============================] - 0s 3ms/step - loss: -172.1159 - I_var: 1.0587 - val_loss: -157.7794 - val_I_var: 0.9930\n",
      "Epoch 54/150\n",
      "111/111 [==============================] - 0s 4ms/step - loss: -172.9708 - I_var: 1.0625 - val_loss: -158.4132 - val_I_var: 0.9959\n",
      "Epoch 55/150\n",
      "111/111 [==============================] - 0s 3ms/step - loss: -173.7922 - I_var: 1.0668 - val_loss: -158.4243 - val_I_var: 0.9957\n",
      "Epoch 56/150\n",
      "111/111 [==============================] - 0s 3ms/step - loss: -174.2181 - I_var: 1.0685 - val_loss: -158.9930 - val_I_var: 0.9988\n",
      "Epoch 57/150\n",
      "111/111 [==============================] - 0s 3ms/step - loss: -175.4452 - I_var: 1.0747 - val_loss: -159.4817 - val_I_var: 1.0016\n",
      "Epoch 58/150\n"
     ]
    },
    {
     "name": "stdout",
     "output_type": "stream",
     "text": [
      "111/111 [==============================] - 0s 3ms/step - loss: -175.9148 - I_var: 1.0772 - val_loss: -159.4689 - val_I_var: 1.0016\n",
      "Epoch 59/150\n",
      "111/111 [==============================] - 0s 3ms/step - loss: -176.1501 - I_var: 1.0779 - val_loss: -158.0677 - val_I_var: 0.9957\n",
      "Epoch 60/150\n",
      "111/111 [==============================] - 0s 4ms/step - loss: -176.9912 - I_var: 1.0820 - val_loss: -158.8988 - val_I_var: 0.9976\n",
      "Epoch 61/150\n",
      "111/111 [==============================] - 0s 3ms/step - loss: -177.0685 - I_var: 1.0826 - val_loss: -156.5452 - val_I_var: 0.9888\n",
      "Epoch 62/150\n",
      "111/111 [==============================] - 0s 3ms/step - loss: -176.9925 - I_var: 1.0822 - val_loss: -160.1757 - val_I_var: 1.0050\n",
      "Epoch 63/150\n",
      "111/111 [==============================] - 0s 3ms/step - loss: -177.8039 - I_var: 1.0858 - val_loss: -153.6784 - val_I_var: 0.9718\n",
      "Epoch 64/150\n",
      "111/111 [==============================] - 0s 3ms/step - loss: -178.2447 - I_var: 1.0882 - val_loss: -160.9484 - val_I_var: 1.0090\n",
      "Epoch 65/150\n",
      "111/111 [==============================] - 0s 3ms/step - loss: -178.7611 - I_var: 1.0905 - val_loss: -160.7660 - val_I_var: 1.0081\n",
      "Epoch 66/150\n",
      "111/111 [==============================] - 0s 3ms/step - loss: -178.4491 - I_var: 1.0891 - val_loss: -160.7743 - val_I_var: 1.0083\n",
      "Epoch 67/150\n",
      "111/111 [==============================] - 0s 3ms/step - loss: -178.4839 - I_var: 1.0896 - val_loss: -155.8746 - val_I_var: 0.9863\n",
      "Epoch 68/150\n",
      "111/111 [==============================] - 0s 3ms/step - loss: -179.3887 - I_var: 1.0936 - val_loss: -160.4653 - val_I_var: 1.0066\n",
      "Epoch 69/150\n",
      "111/111 [==============================] - 0s 3ms/step - loss: -179.6995 - I_var: 1.0953 - val_loss: -161.1300 - val_I_var: 1.0103\n",
      "Epoch 70/150\n",
      "111/111 [==============================] - 0s 3ms/step - loss: -179.3515 - I_var: 1.0933 - val_loss: -160.3456 - val_I_var: 1.0055\n",
      "Epoch 71/150\n",
      "111/111 [==============================] - 0s 3ms/step - loss: -179.8403 - I_var: 1.0960 - val_loss: -160.2995 - val_I_var: 1.0057\n",
      "Epoch 72/150\n",
      "111/111 [==============================] - 0s 3ms/step - loss: -179.1757 - I_var: 1.0926 - val_loss: -160.5399 - val_I_var: 1.0081\n",
      "Epoch 73/150\n",
      "111/111 [==============================] - 0s 3ms/step - loss: -180.2874 - I_var: 1.0981 - val_loss: -161.3035 - val_I_var: 1.0113\n",
      "Epoch 74/150\n",
      "111/111 [==============================] - 0s 3ms/step - loss: -180.8230 - I_var: 1.1005 - val_loss: -161.3401 - val_I_var: 1.0111\n",
      "Epoch 75/150\n",
      "111/111 [==============================] - 0s 3ms/step - loss: -179.9407 - I_var: 1.0966 - val_loss: -161.1279 - val_I_var: 1.0108\n",
      "Epoch 76/150\n",
      "111/111 [==============================] - 0s 3ms/step - loss: -180.6336 - I_var: 1.0994 - val_loss: -161.3256 - val_I_var: 1.0112\n",
      "Epoch 77/150\n",
      "111/111 [==============================] - 0s 3ms/step - loss: -180.4360 - I_var: 1.0984 - val_loss: -158.5646 - val_I_var: 0.9993\n",
      "Epoch 78/150\n",
      "111/111 [==============================] - 0s 3ms/step - loss: -180.8057 - I_var: 1.1005 - val_loss: -161.2296 - val_I_var: 1.0103\n",
      "Epoch 79/150\n",
      "111/111 [==============================] - 0s 3ms/step - loss: -181.2955 - I_var: 1.1028 - val_loss: -161.6044 - val_I_var: 1.0128\n",
      "Epoch 80/150\n",
      "111/111 [==============================] - 0s 3ms/step - loss: -181.3986 - I_var: 1.1036 - val_loss: -159.9062 - val_I_var: 1.0053\n",
      "Epoch 81/150\n",
      "111/111 [==============================] - 0s 3ms/step - loss: -181.5262 - I_var: 1.1042 - val_loss: -158.1414 - val_I_var: 0.9972\n",
      "Epoch 82/150\n",
      "111/111 [==============================] - 0s 3ms/step - loss: -180.7329 - I_var: 1.0999 - val_loss: -161.7923 - val_I_var: 1.0136\n",
      "Epoch 83/150\n",
      "111/111 [==============================] - 0s 3ms/step - loss: -181.8306 - I_var: 1.1055 - val_loss: -161.2498 - val_I_var: 1.0114\n",
      "Epoch 84/150\n",
      "111/111 [==============================] - 0s 3ms/step - loss: -181.8619 - I_var: 1.1054 - val_loss: -158.1588 - val_I_var: 0.9974\n",
      "Epoch 85/150\n",
      "111/111 [==============================] - 0s 3ms/step - loss: -181.0067 - I_var: 1.1016 - val_loss: -160.1196 - val_I_var: 1.0065\n",
      "Epoch 86/150\n",
      "111/111 [==============================] - 0s 3ms/step - loss: -181.8870 - I_var: 1.1054 - val_loss: -160.4368 - val_I_var: 1.0068\n",
      "Epoch 87/150\n",
      "111/111 [==============================] - 0s 3ms/step - loss: -181.6006 - I_var: 1.1046 - val_loss: -161.1880 - val_I_var: 1.0104\n",
      "Epoch 88/150\n",
      "111/111 [==============================] - 0s 3ms/step - loss: -182.1483 - I_var: 1.1070 - val_loss: -161.7202 - val_I_var: 1.0132\n",
      "Epoch 89/150\n",
      "111/111 [==============================] - 0s 3ms/step - loss: -181.1500 - I_var: 1.1019 - val_loss: -160.3150 - val_I_var: 1.0063\n",
      "Epoch 90/150\n",
      "111/111 [==============================] - 0s 3ms/step - loss: -181.6839 - I_var: 1.1044 - val_loss: -160.3817 - val_I_var: 1.0064\n",
      "Epoch 91/150\n",
      "111/111 [==============================] - 0s 3ms/step - loss: -181.9148 - I_var: 1.1055 - val_loss: -161.6037 - val_I_var: 1.0132\n",
      "Epoch 92/150\n",
      "111/111 [==============================] - 0s 3ms/step - loss: -182.4486 - I_var: 1.1082 - val_loss: -161.5817 - val_I_var: 1.0130\n",
      "Epoch 93/150\n",
      "111/111 [==============================] - 0s 3ms/step - loss: -182.3980 - I_var: 1.1082 - val_loss: -161.7462 - val_I_var: 1.0137\n",
      "Epoch 94/150\n",
      "111/111 [==============================] - 0s 3ms/step - loss: -182.5142 - I_var: 1.1087 - val_loss: -158.5432 - val_I_var: 0.9992\n",
      "Epoch 95/150\n",
      "111/111 [==============================] - 0s 3ms/step - loss: -182.1926 - I_var: 1.1073 - val_loss: -161.9759 - val_I_var: 1.0145\n",
      "Epoch 96/150\n",
      "111/111 [==============================] - 0s 3ms/step - loss: -182.8372 - I_var: 1.1102 - val_loss: -162.0713 - val_I_var: 1.0151\n",
      "Epoch 97/150\n",
      "111/111 [==============================] - 0s 3ms/step - loss: -182.3000 - I_var: 1.1073 - val_loss: -159.2161 - val_I_var: 1.0024\n",
      "Epoch 98/150\n",
      "111/111 [==============================] - 0s 3ms/step - loss: -182.8172 - I_var: 1.1098 - val_loss: -161.9805 - val_I_var: 1.0145\n",
      "Epoch 99/150\n",
      "111/111 [==============================] - 0s 3ms/step - loss: -182.8444 - I_var: 1.1105 - val_loss: -158.2958 - val_I_var: 0.9982\n",
      "Epoch 100/150\n",
      "111/111 [==============================] - 0s 3ms/step - loss: -181.7190 - I_var: 1.1050 - val_loss: -160.0205 - val_I_var: 1.0062\n",
      "Epoch 101/150\n",
      "111/111 [==============================] - 0s 3ms/step - loss: -182.6920 - I_var: 1.1098 - val_loss: -160.1165 - val_I_var: 1.0066\n",
      "Epoch 102/150\n",
      "111/111 [==============================] - 0s 3ms/step - loss: -182.6678 - I_var: 1.1095 - val_loss: -158.3627 - val_I_var: 0.9986\n",
      "Epoch 103/150\n",
      "111/111 [==============================] - 0s 3ms/step - loss: -182.8009 - I_var: 1.1102 - val_loss: -162.0534 - val_I_var: 1.0148\n",
      "Epoch 104/150\n",
      "111/111 [==============================] - 0s 3ms/step - loss: -182.8810 - I_var: 1.1106 - val_loss: -160.6105 - val_I_var: 1.0075\n",
      "Epoch 105/150\n",
      "111/111 [==============================] - 0s 3ms/step - loss: -182.8776 - I_var: 1.1102 - val_loss: -160.9409 - val_I_var: 1.0103\n",
      "Epoch 106/150\n",
      "111/111 [==============================] - 0s 3ms/step - loss: -182.9480 - I_var: 1.1107 - val_loss: -159.6613 - val_I_var: 1.0046\n",
      "Epoch 107/150\n",
      "111/111 [==============================] - 0s 3ms/step - loss: -182.7971 - I_var: 1.1098 - val_loss: -162.2069 - val_I_var: 1.0158\n",
      "Epoch 108/150\n",
      "111/111 [==============================] - 0s 3ms/step - loss: -182.9800 - I_var: 1.1110 - val_loss: -159.6593 - val_I_var: 1.0046\n",
      "Epoch 109/150\n",
      "111/111 [==============================] - 0s 3ms/step - loss: -183.2108 - I_var: 1.1121 - val_loss: -161.9097 - val_I_var: 1.0147\n",
      "Epoch 110/150\n",
      "111/111 [==============================] - 0s 3ms/step - loss: -182.8643 - I_var: 1.1106 - val_loss: -161.6677 - val_I_var: 1.0129\n",
      "Epoch 111/150\n",
      "111/111 [==============================] - 0s 3ms/step - loss: -183.2446 - I_var: 1.1124 - val_loss: -162.0275 - val_I_var: 1.0147\n",
      "Epoch 112/150\n",
      "111/111 [==============================] - 0s 3ms/step - loss: -183.3467 - I_var: 1.1128 - val_loss: -160.5582 - val_I_var: 1.0087\n",
      "Epoch 113/150\n",
      "111/111 [==============================] - 0s 3ms/step - loss: -182.7866 - I_var: 1.1097 - val_loss: -160.7341 - val_I_var: 1.0091\n",
      "Epoch 114/150\n",
      "111/111 [==============================] - 0s 3ms/step - loss: -182.7353 - I_var: 1.1099 - val_loss: -156.7264 - val_I_var: 0.9910\n"
     ]
    },
    {
     "name": "stdout",
     "output_type": "stream",
     "text": [
      "Epoch 115/150\n",
      "111/111 [==============================] - 0s 3ms/step - loss: -182.4524 - I_var: 1.1084 - val_loss: -162.1270 - val_I_var: 1.0155\n",
      "Epoch 116/150\n",
      "111/111 [==============================] - 0s 3ms/step - loss: -183.2322 - I_var: 1.1121 - val_loss: -161.5835 - val_I_var: 1.0136\n",
      "Epoch 117/150\n",
      "111/111 [==============================] - 0s 3ms/step - loss: -183.6931 - I_var: 1.1139 - val_loss: -162.1936 - val_I_var: 1.0158\n",
      "Epoch 118/150\n",
      "111/111 [==============================] - 0s 3ms/step - loss: -182.9310 - I_var: 1.1107 - val_loss: -162.1347 - val_I_var: 1.0153\n",
      "Epoch 119/150\n",
      "111/111 [==============================] - 0s 3ms/step - loss: -183.4697 - I_var: 1.1131 - val_loss: -161.6600 - val_I_var: 1.0126\n",
      "Epoch 120/150\n",
      "111/111 [==============================] - 0s 3ms/step - loss: -183.4858 - I_var: 1.1134 - val_loss: -161.4412 - val_I_var: 1.0129\n",
      "Epoch 121/150\n",
      "111/111 [==============================] - 0s 3ms/step - loss: -183.1713 - I_var: 1.1119 - val_loss: -162.3033 - val_I_var: 1.0165\n",
      "Epoch 122/150\n",
      "111/111 [==============================] - 0s 3ms/step - loss: -183.2659 - I_var: 1.1122 - val_loss: -159.5685 - val_I_var: 1.0038\n",
      "Epoch 123/150\n",
      "111/111 [==============================] - 0s 3ms/step - loss: -183.1761 - I_var: 1.1120 - val_loss: -158.8884 - val_I_var: 1.0012\n",
      "Epoch 124/150\n",
      "111/111 [==============================] - 0s 3ms/step - loss: -183.1830 - I_var: 1.1119 - val_loss: -159.1934 - val_I_var: 1.0026\n",
      "Epoch 125/150\n",
      "111/111 [==============================] - 0s 3ms/step - loss: -183.7423 - I_var: 1.1149 - val_loss: -160.8762 - val_I_var: 1.0087\n",
      "Epoch 126/150\n",
      "111/111 [==============================] - 0s 3ms/step - loss: -183.7301 - I_var: 1.1145 - val_loss: -161.5522 - val_I_var: 1.0133\n",
      "Epoch 127/150\n",
      "111/111 [==============================] - 0s 3ms/step - loss: -183.7657 - I_var: 1.1147 - val_loss: -162.2274 - val_I_var: 1.0161\n",
      "Epoch 128/150\n",
      "111/111 [==============================] - 0s 3ms/step - loss: -183.4882 - I_var: 1.1132 - val_loss: -161.7590 - val_I_var: 1.0142\n",
      "Epoch 129/150\n",
      "111/111 [==============================] - 0s 3ms/step - loss: -183.2042 - I_var: 1.1117 - val_loss: -158.2211 - val_I_var: 0.9980\n",
      "Epoch 130/150\n",
      "111/111 [==============================] - 0s 3ms/step - loss: -183.2685 - I_var: 1.1124 - val_loss: -161.7870 - val_I_var: 1.0143\n",
      "Epoch 131/150\n",
      "111/111 [==============================] - 0s 3ms/step - loss: -183.8437 - I_var: 1.1151 - val_loss: -162.0290 - val_I_var: 1.0145\n",
      "Epoch 132/150\n",
      "111/111 [==============================] - 0s 3ms/step - loss: -182.8484 - I_var: 1.1102 - val_loss: -158.3553 - val_I_var: 0.9986\n",
      "Epoch 133/150\n",
      "111/111 [==============================] - 0s 3ms/step - loss: -182.5527 - I_var: 1.1088 - val_loss: -158.0594 - val_I_var: 0.9941\n",
      "Epoch 134/150\n",
      "111/111 [==============================] - 0s 3ms/step - loss: -183.7047 - I_var: 1.1143 - val_loss: -160.5609 - val_I_var: 1.0089\n",
      "Epoch 135/150\n",
      "111/111 [==============================] - 0s 3ms/step - loss: -183.5302 - I_var: 1.1133 - val_loss: -158.6495 - val_I_var: 1.0001\n",
      "Epoch 136/150\n",
      "111/111 [==============================] - 0s 3ms/step - loss: -183.7332 - I_var: 1.1143 - val_loss: -162.2649 - val_I_var: 1.0161\n",
      "Epoch 137/150\n",
      "111/111 [==============================] - 0s 3ms/step - loss: -183.0670 - I_var: 1.1116 - val_loss: -161.6933 - val_I_var: 1.0140\n",
      "Epoch 138/150\n",
      "111/111 [==============================] - 0s 3ms/step - loss: -184.1261 - I_var: 1.1164 - val_loss: -161.7153 - val_I_var: 1.0140\n",
      "Epoch 139/150\n",
      "111/111 [==============================] - 0s 3ms/step - loss: -183.9828 - I_var: 1.1158 - val_loss: -161.9030 - val_I_var: 1.0149\n",
      "Epoch 140/150\n",
      "111/111 [==============================] - 0s 3ms/step - loss: -184.1455 - I_var: 1.1167 - val_loss: -162.0300 - val_I_var: 1.0153\n",
      "Epoch 141/150\n",
      "111/111 [==============================] - 0s 3ms/step - loss: -183.6319 - I_var: 1.1141 - val_loss: -160.4180 - val_I_var: 1.0082\n",
      "Epoch 142/150\n",
      "111/111 [==============================] - 0s 3ms/step - loss: -183.5691 - I_var: 1.1138 - val_loss: -159.4577 - val_I_var: 1.0039\n",
      "Epoch 143/150\n",
      "111/111 [==============================] - 0s 3ms/step - loss: -184.2931 - I_var: 1.1173 - val_loss: -161.7021 - val_I_var: 1.0132\n",
      "Epoch 144/150\n",
      "111/111 [==============================] - 0s 3ms/step - loss: -184.1190 - I_var: 1.1166 - val_loss: -161.9482 - val_I_var: 1.0150\n",
      "Epoch 145/150\n",
      "111/111 [==============================] - 0s 3ms/step - loss: -183.9678 - I_var: 1.1158 - val_loss: -161.2018 - val_I_var: 1.0116\n",
      "Epoch 146/150\n",
      "111/111 [==============================] - 0s 3ms/step - loss: -183.0970 - I_var: 1.1115 - val_loss: -162.2697 - val_I_var: 1.0160\n",
      "Epoch 147/150\n",
      "111/111 [==============================] - 0s 3ms/step - loss: -184.1028 - I_var: 1.1162 - val_loss: -162.2345 - val_I_var: 1.0164\n",
      "Epoch 148/150\n",
      "111/111 [==============================] - 0s 3ms/step - loss: -183.8214 - I_var: 1.1150 - val_loss: -161.6013 - val_I_var: 1.0137\n",
      "Epoch 149/150\n",
      "111/111 [==============================] - 0s 3ms/step - loss: -184.3475 - I_var: 1.1177 - val_loss: -160.7465 - val_I_var: 1.0098\n",
      "Epoch 150/150\n",
      "111/111 [==============================] - 0s 3ms/step - loss: -184.0687 - I_var: 1.1161 - val_loss: -162.1033 - val_I_var: 1.0157\n",
      "Training time: 50.1 seconds\n"
     ]
    }
   ],
   "source": [
    "# Fit model to data\n",
    "history = model_GE.fit(learning_rate=.0005,\n",
    "                    epochs=150,\n",
    "                    batch_size=300,\n",
    "                    try_tqdm=False,\n",
    "                    early_stopping=False,\n",
    "                    early_stopping_patience=5,\n",
    "                    linear_initialization=False)"
   ]
  },
  {
   "cell_type": "code",
   "execution_count": 28,
   "metadata": {},
   "outputs": [
    {
     "name": "stdout",
     "output_type": "stream",
     "text": [
      "On test data:\n"
     ]
    },
    {
     "data": {
      "image/png": "[encoded data removed]",
      "text/plain": [
       "<Figure size 576x288 with 2 Axes>"
      ]
     },
     "metadata": {
      "needs_background": "light"
     },
     "output_type": "display_data"
    }
   ],
   "source": [
    "# Show training history\n",
    "print('On test data:')\n",
    "# x_test = test_df['x'].values\n",
    "# y_test = test_df[y_cols].values\n",
    "\n",
    "\n",
    "I_var_hist = model_GE.history['I_var']\n",
    "val_I_var_hist = model_GE.history['val_I_var']\n",
    "\n",
    "fig, axs = plt.subplots(1,2,figsize=[8,4])\n",
    "\n",
    "ax = axs[0]\n",
    "ax.plot(I_var_hist, label='I_var_train')\n",
    "ax.plot(val_I_var_hist, label='I_var_val')\n",
    "ax.legend()\n",
    "ax.set_xlabel('epochs')\n",
    "ax.set_ylabel('bits')\n",
    "#ax.set_xscale('log')\n",
    "ax.set_title('training hisotry')\n",
    "\n",
    "ax = axs[1]\n",
    "ax.plot(model_GE.history['loss'], label='loss_train')\n",
    "ax.plot(model_GE.history['val_loss'], label='loss_val')\n",
    "# ax.set_xlim(100,300)\n",
    "# ax.set_ylim(0.7*1e6,0.8*1e6)\n",
    "ax.legend()\n",
    "ax.set_xlabel('epochs')\n",
    "ax.set_ylabel('loss')\n",
    "# ax.set_xscale('log')\n",
    "# ax.set_yscale('log')\n",
    "ax.set_title('training hisotry')\n",
    "fig.tight_layout()"
   ]
  },
  {
   "cell_type": "code",
   "execution_count": 29,
   "metadata": {},
   "outputs": [],
   "source": [
    "phi = gpmapGE.x_to_phi(x_test_GE)"
   ]
  },
  {
   "cell_type": "code",
   "execution_count": 62,
   "metadata": {},
   "outputs": [
    {
     "data": {
      "image/png": "[encoded data removed]",
      "text/plain": [
       "<Figure size 648x324 with 2 Axes>"
      ]
     },
     "metadata": {
      "needs_background": "light"
     },
     "output_type": "display_data"
    }
   ],
   "source": [
    "fig, axs = plt.subplots(1,2, figsize=(9,4.5))\n",
    "\n",
    "ax = axs[0]\n",
    "yhat = mp_GE.phi_to_yhat(phi)\n",
    "ax.scatter(phi,y_test_GE,s=2,alpha=0.2,c='b',label='test data')\n",
    "#ax.scatter(phi,yhat* model.y_std+model.y_mean,s=1,alpha=0.1,c='r',label='$\\hat{y} = g(\\phi)$')\n",
    "ax.scatter(phi,yhat,s=2,alpha=0.3,c='r',label='$\\hat{y} = g(\\phi)$')\n",
    "\n",
    "ax.set_xlabel('latent phenotype ($\\phi$)')\n",
    "ax.set_ylabel('measurement ($y$)')\n",
    "ax.set_title('GRB2-SH3 - binding')\n",
    "leg = ax.legend()\n",
    "\n",
    "for lh in leg.legendHandles: \n",
    "    lh.set_alpha(1)\n",
    "    \n",
    "    \n",
    "ax = axs[1]\n",
    "\n",
    "lims = [min(min(yhat.numpy().ravel()),min(y_test_GE.ravel())),\n",
    "        max(max(yhat.numpy().ravel()),max(y_test_GE.ravel()))]\n",
    "\n",
    "ax.plot(lims,lims,ls='--',color='orange',lw=2)\n",
    "\n",
    "ax.scatter(yhat,y_test_GE,s=2,alpha=0.2,c='b',label='test data')\n",
    "Rsq = np.corrcoef(yhat.numpy().ravel(),y_test_GE)[0,1]**2\n",
    "\n",
    "ax.set_xlabel('$\\hat{y} = g(\\phi)$')\n",
    "ax.set_ylabel('measurement ($y$)')\n",
    "ax.set_title(f'GRB2-SH3, $R^2 = $ {Rsq:.3f}')\n",
    "leg = ax.legend()\n",
    "\n",
    "for lh in leg.legendHandles: \n",
    "    lh.set_alpha(1)\n",
    "\n",
    "fig.tight_layout()\n",
    "fig.savefig('plots/GRB2_SH3/global_epistasis_binding.png',dpi=300,bbox_inches='tight')    \n"
   ]
  },
  {
   "cell_type": "code",
   "execution_count": 31,
   "metadata": {},
   "outputs": [],
   "source": [
    "theta_lc_GE = gpmapGE.get_theta(model_GE,gauge='consensus')['theta_lc']"
   ]
  },
  {
   "cell_type": "code",
   "execution_count": 63,
   "metadata": {},
   "outputs": [
    {
     "data": {
      "image/png": "[encoded data removed]",
      "text/plain": [
       "<Figure size 360x360 with 1 Axes>"
      ]
     },
     "metadata": {
      "needs_background": "light"
     },
     "output_type": "display_data"
    }
   ],
   "source": [
    "plt.figure(figsize=(5,5))\n",
    "plt.scatter(theta_lc_DM.ravel(),theta_lc_GE.ravel(),c='blue',s=5,alpha=0.25)\n",
    "plt.xlabel('Theta discrete monotonic')\n",
    "plt.ylabel('Theta global epistasis')\n",
    "\n",
    "lims = [min(min(theta_lc_DM.ravel()),min(theta_lc_GE.ravel())),\n",
    "        max(max(theta_lc_DM.ravel()),max(theta_lc_GE.ravel()))]\n",
    "\n",
    "plt.plot(lims,lims,ls='--',color='orange')\n",
    "plt.scatter(theta_lc_DM.ravel(),theta_lc_GE.ravel(),c='blue',s=5,alpha=0.3)\n",
    "plt.title('binding')\n",
    "plt.savefig('plots/GRB2_SH3/theta_scatter_GE_DM_comparison_binding.png',dpi=300,bbox_inches='tight')"
   ]
  },
  {
   "cell_type": "code",
   "execution_count": 33,
   "metadata": {},
   "outputs": [
    {
     "data": {
      "text/html": [
       "<div>\n",
       "<style scoped>\n",
       "    .dataframe tbody tr th:only-of-type {\n",
       "        vertical-align: middle;\n",
       "    }\n",
       "\n",
       "    .dataframe tbody tr th {\n",
       "        vertical-align: top;\n",
       "    }\n",
       "\n",
       "    .dataframe thead th {\n",
       "        text-align: right;\n",
       "    }\n",
       "</style>\n",
       "<table border=\"1\" class=\"dataframe\">\n",
       "  <thead>\n",
       "    <tr style=\"text-align: right;\">\n",
       "      <th></th>\n",
       "      <th>Unnamed: 0</th>\n",
       "      <th>Pos</th>\n",
       "      <th>WT_AA</th>\n",
       "      <th>Mut</th>\n",
       "      <th>nt_seq</th>\n",
       "      <th>aa_seq</th>\n",
       "      <th>Nham_nt</th>\n",
       "      <th>Nham_aa</th>\n",
       "      <th>Nmut_codons</th>\n",
       "      <th>STOP</th>\n",
       "      <th>STOP_readthrough</th>\n",
       "      <th>mean_count</th>\n",
       "      <th>fitness</th>\n",
       "      <th>sigma</th>\n",
       "    </tr>\n",
       "  </thead>\n",
       "  <tbody>\n",
       "    <tr>\n",
       "      <th>0</th>\n",
       "      <td>1</td>\n",
       "      <td>1</td>\n",
       "      <td>T</td>\n",
       "      <td>K</td>\n",
       "      <td>NaN</td>\n",
       "      <td>KYVQALFDFDPQEDGELGFRRGDFIHVMDNSDPNWWKGACHGQTGM...</td>\n",
       "      <td>NaN</td>\n",
       "      <td>1</td>\n",
       "      <td>1</td>\n",
       "      <td>False</td>\n",
       "      <td>False</td>\n",
       "      <td>2181.666667</td>\n",
       "      <td>0.010464</td>\n",
       "      <td>0.005995</td>\n",
       "    </tr>\n",
       "    <tr>\n",
       "      <th>1</th>\n",
       "      <td>2</td>\n",
       "      <td>1</td>\n",
       "      <td>T</td>\n",
       "      <td>N</td>\n",
       "      <td>NaN</td>\n",
       "      <td>NYVQALFDFDPQEDGELGFRRGDFIHVMDNSDPNWWKGACHGQTGM...</td>\n",
       "      <td>NaN</td>\n",
       "      <td>1</td>\n",
       "      <td>1</td>\n",
       "      <td>False</td>\n",
       "      <td>False</td>\n",
       "      <td>16.000000</td>\n",
       "      <td>0.028944</td>\n",
       "      <td>0.087284</td>\n",
       "    </tr>\n",
       "    <tr>\n",
       "      <th>2</th>\n",
       "      <td>3</td>\n",
       "      <td>2</td>\n",
       "      <td>Y</td>\n",
       "      <td>K</td>\n",
       "      <td>NaN</td>\n",
       "      <td>TKVQALFDFDPQEDGELGFRRGDFIHVMDNSDPNWWKGACHGQTGM...</td>\n",
       "      <td>NaN</td>\n",
       "      <td>1</td>\n",
       "      <td>1</td>\n",
       "      <td>False</td>\n",
       "      <td>False</td>\n",
       "      <td>23.000000</td>\n",
       "      <td>-0.093964</td>\n",
       "      <td>0.092442</td>\n",
       "    </tr>\n",
       "    <tr>\n",
       "      <th>3</th>\n",
       "      <td>4</td>\n",
       "      <td>2</td>\n",
       "      <td>Y</td>\n",
       "      <td>N</td>\n",
       "      <td>NaN</td>\n",
       "      <td>TNVQALFDFDPQEDGELGFRRGDFIHVMDNSDPNWWKGACHGQTGM...</td>\n",
       "      <td>NaN</td>\n",
       "      <td>1</td>\n",
       "      <td>1</td>\n",
       "      <td>False</td>\n",
       "      <td>False</td>\n",
       "      <td>8892.666667</td>\n",
       "      <td>-0.035080</td>\n",
       "      <td>0.004516</td>\n",
       "    </tr>\n",
       "    <tr>\n",
       "      <th>4</th>\n",
       "      <td>5</td>\n",
       "      <td>2</td>\n",
       "      <td>Y</td>\n",
       "      <td>S</td>\n",
       "      <td>NaN</td>\n",
       "      <td>TSVQALFDFDPQEDGELGFRRGDFIHVMDNSDPNWWKGACHGQTGM...</td>\n",
       "      <td>NaN</td>\n",
       "      <td>1</td>\n",
       "      <td>1</td>\n",
       "      <td>False</td>\n",
       "      <td>False</td>\n",
       "      <td>54.666667</td>\n",
       "      <td>0.044625</td>\n",
       "      <td>0.027825</td>\n",
       "    </tr>\n",
       "    <tr>\n",
       "      <th>...</th>\n",
       "      <td>...</td>\n",
       "      <td>...</td>\n",
       "      <td>...</td>\n",
       "      <td>...</td>\n",
       "      <td>...</td>\n",
       "      <td>...</td>\n",
       "      <td>...</td>\n",
       "      <td>...</td>\n",
       "      <td>...</td>\n",
       "      <td>...</td>\n",
       "      <td>...</td>\n",
       "      <td>...</td>\n",
       "      <td>...</td>\n",
       "      <td>...</td>\n",
       "    </tr>\n",
       "    <tr>\n",
       "      <th>706</th>\n",
       "      <td>707</td>\n",
       "      <td>1</td>\n",
       "      <td>T</td>\n",
       "      <td>A</td>\n",
       "      <td>NaN</td>\n",
       "      <td>AYVQALFDFDPQEDGELGFRRGDFIHVMDNSDPNWWKGACHGQTGM...</td>\n",
       "      <td>NaN</td>\n",
       "      <td>1</td>\n",
       "      <td>1</td>\n",
       "      <td>False</td>\n",
       "      <td>False</td>\n",
       "      <td>11058.666667</td>\n",
       "      <td>-0.013506</td>\n",
       "      <td>0.004341</td>\n",
       "    </tr>\n",
       "    <tr>\n",
       "      <th>707</th>\n",
       "      <td>708</td>\n",
       "      <td>1</td>\n",
       "      <td>T</td>\n",
       "      <td>G</td>\n",
       "      <td>NaN</td>\n",
       "      <td>GYVQALFDFDPQEDGELGFRRGDFIHVMDNSDPNWWKGACHGQTGM...</td>\n",
       "      <td>NaN</td>\n",
       "      <td>1</td>\n",
       "      <td>1</td>\n",
       "      <td>False</td>\n",
       "      <td>False</td>\n",
       "      <td>14.000000</td>\n",
       "      <td>-0.012349</td>\n",
       "      <td>0.071471</td>\n",
       "    </tr>\n",
       "    <tr>\n",
       "      <th>708</th>\n",
       "      <td>709</td>\n",
       "      <td>1</td>\n",
       "      <td>T</td>\n",
       "      <td>V</td>\n",
       "      <td>NaN</td>\n",
       "      <td>VYVQALFDFDPQEDGELGFRRGDFIHVMDNSDPNWWKGACHGQTGM...</td>\n",
       "      <td>NaN</td>\n",
       "      <td>1</td>\n",
       "      <td>1</td>\n",
       "      <td>False</td>\n",
       "      <td>False</td>\n",
       "      <td>57.000000</td>\n",
       "      <td>-0.002641</td>\n",
       "      <td>0.028864</td>\n",
       "    </tr>\n",
       "    <tr>\n",
       "      <th>709</th>\n",
       "      <td>710</td>\n",
       "      <td>1</td>\n",
       "      <td>T</td>\n",
       "      <td>*</td>\n",
       "      <td>NaN</td>\n",
       "      <td>*YVQALFDFDPQEDGELGFRRGDFIHVMDNSDPNWWKGACHGQTGM...</td>\n",
       "      <td>NaN</td>\n",
       "      <td>1</td>\n",
       "      <td>1</td>\n",
       "      <td>True</td>\n",
       "      <td>False</td>\n",
       "      <td>15.000000</td>\n",
       "      <td>-0.219692</td>\n",
       "      <td>0.074135</td>\n",
       "    </tr>\n",
       "    <tr>\n",
       "      <th>710</th>\n",
       "      <td>711</td>\n",
       "      <td>1</td>\n",
       "      <td>T</td>\n",
       "      <td>L</td>\n",
       "      <td>NaN</td>\n",
       "      <td>LYVQALFDFDPQEDGELGFRRGDFIHVMDNSDPNWWKGACHGQTGM...</td>\n",
       "      <td>NaN</td>\n",
       "      <td>1</td>\n",
       "      <td>1</td>\n",
       "      <td>False</td>\n",
       "      <td>False</td>\n",
       "      <td>54.666667</td>\n",
       "      <td>-0.039343</td>\n",
       "      <td>0.029807</td>\n",
       "    </tr>\n",
       "  </tbody>\n",
       "</table>\n",
       "<p>711 rows × 14 columns</p>\n",
       "</div>"
      ],
      "text/plain": [
       "     Unnamed: 0  Pos WT_AA Mut  nt_seq  \\\n",
       "0             1    1     T   K     NaN   \n",
       "1             2    1     T   N     NaN   \n",
       "2             3    2     Y   K     NaN   \n",
       "3             4    2     Y   N     NaN   \n",
       "4             5    2     Y   S     NaN   \n",
       "..          ...  ...   ...  ..     ...   \n",
       "706         707    1     T   A     NaN   \n",
       "707         708    1     T   G     NaN   \n",
       "708         709    1     T   V     NaN   \n",
       "709         710    1     T   *     NaN   \n",
       "710         711    1     T   L     NaN   \n",
       "\n",
       "                                                aa_seq  Nham_nt  Nham_aa  \\\n",
       "0    KYVQALFDFDPQEDGELGFRRGDFIHVMDNSDPNWWKGACHGQTGM...      NaN        1   \n",
       "1    NYVQALFDFDPQEDGELGFRRGDFIHVMDNSDPNWWKGACHGQTGM...      NaN        1   \n",
       "2    TKVQALFDFDPQEDGELGFRRGDFIHVMDNSDPNWWKGACHGQTGM...      NaN        1   \n",
       "3    TNVQALFDFDPQEDGELGFRRGDFIHVMDNSDPNWWKGACHGQTGM...      NaN        1   \n",
       "4    TSVQALFDFDPQEDGELGFRRGDFIHVMDNSDPNWWKGACHGQTGM...      NaN        1   \n",
       "..                                                 ...      ...      ...   \n",
       "706  AYVQALFDFDPQEDGELGFRRGDFIHVMDNSDPNWWKGACHGQTGM...      NaN        1   \n",
       "707  GYVQALFDFDPQEDGELGFRRGDFIHVMDNSDPNWWKGACHGQTGM...      NaN        1   \n",
       "708  VYVQALFDFDPQEDGELGFRRGDFIHVMDNSDPNWWKGACHGQTGM...      NaN        1   \n",
       "709  *YVQALFDFDPQEDGELGFRRGDFIHVMDNSDPNWWKGACHGQTGM...      NaN        1   \n",
       "710  LYVQALFDFDPQEDGELGFRRGDFIHVMDNSDPNWWKGACHGQTGM...      NaN        1   \n",
       "\n",
       "     Nmut_codons   STOP  STOP_readthrough    mean_count   fitness     sigma  \n",
       "0              1  False             False   2181.666667  0.010464  0.005995  \n",
       "1              1  False             False     16.000000  0.028944  0.087284  \n",
       "2              1  False             False     23.000000 -0.093964  0.092442  \n",
       "3              1  False             False   8892.666667 -0.035080  0.004516  \n",
       "4              1  False             False     54.666667  0.044625  0.027825  \n",
       "..           ...    ...               ...           ...       ...       ...  \n",
       "706            1  False             False  11058.666667 -0.013506  0.004341  \n",
       "707            1  False             False     14.000000 -0.012349  0.071471  \n",
       "708            1  False             False     57.000000 -0.002641  0.028864  \n",
       "709            1   True             False     15.000000 -0.219692  0.074135  \n",
       "710            1  False             False     54.666667 -0.039343  0.029807  \n",
       "\n",
       "[711 rows x 14 columns]"
      ]
     },
     "execution_count": 33,
     "metadata": {},
     "output_type": "execute_result"
    }
   ],
   "source": [
    "lehner_binding_singles_df = pd.read_csv('data/GRB2-SH3.singles_binding.csv')\n",
    "lehner_binding_singles_df"
   ]
  },
  {
   "cell_type": "code",
   "execution_count": 34,
   "metadata": {},
   "outputs": [
    {
     "data": {
      "text/html": [
       "<div>\n",
       "<style scoped>\n",
       "    .dataframe tbody tr th:only-of-type {\n",
       "        vertical-align: middle;\n",
       "    }\n",
       "\n",
       "    .dataframe tbody tr th {\n",
       "        vertical-align: top;\n",
       "    }\n",
       "\n",
       "    .dataframe thead th {\n",
       "        text-align: right;\n",
       "    }\n",
       "</style>\n",
       "<table border=\"1\" class=\"dataframe\">\n",
       "  <thead>\n",
       "    <tr style=\"text-align: right;\">\n",
       "      <th></th>\n",
       "      <th>A</th>\n",
       "      <th>C</th>\n",
       "      <th>D</th>\n",
       "      <th>E</th>\n",
       "      <th>F</th>\n",
       "      <th>G</th>\n",
       "      <th>H</th>\n",
       "      <th>I</th>\n",
       "      <th>K</th>\n",
       "      <th>L</th>\n",
       "      <th>...</th>\n",
       "      <th>N</th>\n",
       "      <th>P</th>\n",
       "      <th>Q</th>\n",
       "      <th>R</th>\n",
       "      <th>S</th>\n",
       "      <th>T</th>\n",
       "      <th>V</th>\n",
       "      <th>W</th>\n",
       "      <th>Y</th>\n",
       "      <th>*</th>\n",
       "    </tr>\n",
       "  </thead>\n",
       "  <tbody>\n",
       "    <tr>\n",
       "      <th>0</th>\n",
       "      <td>NaN</td>\n",
       "      <td>NaN</td>\n",
       "      <td>NaN</td>\n",
       "      <td>NaN</td>\n",
       "      <td>NaN</td>\n",
       "      <td>NaN</td>\n",
       "      <td>NaN</td>\n",
       "      <td>NaN</td>\n",
       "      <td>NaN</td>\n",
       "      <td>NaN</td>\n",
       "      <td>...</td>\n",
       "      <td>NaN</td>\n",
       "      <td>NaN</td>\n",
       "      <td>NaN</td>\n",
       "      <td>NaN</td>\n",
       "      <td>NaN</td>\n",
       "      <td>NaN</td>\n",
       "      <td>NaN</td>\n",
       "      <td>NaN</td>\n",
       "      <td>NaN</td>\n",
       "      <td>NaN</td>\n",
       "    </tr>\n",
       "    <tr>\n",
       "      <th>1</th>\n",
       "      <td>NaN</td>\n",
       "      <td>NaN</td>\n",
       "      <td>NaN</td>\n",
       "      <td>NaN</td>\n",
       "      <td>NaN</td>\n",
       "      <td>NaN</td>\n",
       "      <td>NaN</td>\n",
       "      <td>NaN</td>\n",
       "      <td>NaN</td>\n",
       "      <td>NaN</td>\n",
       "      <td>...</td>\n",
       "      <td>NaN</td>\n",
       "      <td>NaN</td>\n",
       "      <td>NaN</td>\n",
       "      <td>NaN</td>\n",
       "      <td>NaN</td>\n",
       "      <td>NaN</td>\n",
       "      <td>NaN</td>\n",
       "      <td>NaN</td>\n",
       "      <td>NaN</td>\n",
       "      <td>NaN</td>\n",
       "    </tr>\n",
       "    <tr>\n",
       "      <th>2</th>\n",
       "      <td>NaN</td>\n",
       "      <td>NaN</td>\n",
       "      <td>NaN</td>\n",
       "      <td>NaN</td>\n",
       "      <td>NaN</td>\n",
       "      <td>NaN</td>\n",
       "      <td>NaN</td>\n",
       "      <td>NaN</td>\n",
       "      <td>NaN</td>\n",
       "      <td>NaN</td>\n",
       "      <td>...</td>\n",
       "      <td>NaN</td>\n",
       "      <td>NaN</td>\n",
       "      <td>NaN</td>\n",
       "      <td>NaN</td>\n",
       "      <td>NaN</td>\n",
       "      <td>NaN</td>\n",
       "      <td>NaN</td>\n",
       "      <td>NaN</td>\n",
       "      <td>NaN</td>\n",
       "      <td>NaN</td>\n",
       "    </tr>\n",
       "    <tr>\n",
       "      <th>3</th>\n",
       "      <td>NaN</td>\n",
       "      <td>NaN</td>\n",
       "      <td>NaN</td>\n",
       "      <td>NaN</td>\n",
       "      <td>NaN</td>\n",
       "      <td>NaN</td>\n",
       "      <td>NaN</td>\n",
       "      <td>NaN</td>\n",
       "      <td>NaN</td>\n",
       "      <td>NaN</td>\n",
       "      <td>...</td>\n",
       "      <td>NaN</td>\n",
       "      <td>NaN</td>\n",
       "      <td>NaN</td>\n",
       "      <td>NaN</td>\n",
       "      <td>NaN</td>\n",
       "      <td>NaN</td>\n",
       "      <td>NaN</td>\n",
       "      <td>NaN</td>\n",
       "      <td>NaN</td>\n",
       "      <td>NaN</td>\n",
       "    </tr>\n",
       "    <tr>\n",
       "      <th>4</th>\n",
       "      <td>NaN</td>\n",
       "      <td>NaN</td>\n",
       "      <td>NaN</td>\n",
       "      <td>NaN</td>\n",
       "      <td>NaN</td>\n",
       "      <td>NaN</td>\n",
       "      <td>NaN</td>\n",
       "      <td>NaN</td>\n",
       "      <td>NaN</td>\n",
       "      <td>NaN</td>\n",
       "      <td>...</td>\n",
       "      <td>NaN</td>\n",
       "      <td>NaN</td>\n",
       "      <td>NaN</td>\n",
       "      <td>NaN</td>\n",
       "      <td>NaN</td>\n",
       "      <td>NaN</td>\n",
       "      <td>NaN</td>\n",
       "      <td>NaN</td>\n",
       "      <td>NaN</td>\n",
       "      <td>NaN</td>\n",
       "    </tr>\n",
       "  </tbody>\n",
       "</table>\n",
       "<p>5 rows × 21 columns</p>\n",
       "</div>"
      ],
      "text/plain": [
       "    A   C   D   E   F   G   H   I   K   L  ...   N   P   Q   R   S   T   V  \\\n",
       "0 NaN NaN NaN NaN NaN NaN NaN NaN NaN NaN  ... NaN NaN NaN NaN NaN NaN NaN   \n",
       "1 NaN NaN NaN NaN NaN NaN NaN NaN NaN NaN  ... NaN NaN NaN NaN NaN NaN NaN   \n",
       "2 NaN NaN NaN NaN NaN NaN NaN NaN NaN NaN  ... NaN NaN NaN NaN NaN NaN NaN   \n",
       "3 NaN NaN NaN NaN NaN NaN NaN NaN NaN NaN  ... NaN NaN NaN NaN NaN NaN NaN   \n",
       "4 NaN NaN NaN NaN NaN NaN NaN NaN NaN NaN  ... NaN NaN NaN NaN NaN NaN NaN   \n",
       "\n",
       "    W   Y   *  \n",
       "0 NaN NaN NaN  \n",
       "1 NaN NaN NaN  \n",
       "2 NaN NaN NaN  \n",
       "3 NaN NaN NaN  \n",
       "4 NaN NaN NaN  \n",
       "\n",
       "[5 rows x 21 columns]"
      ]
     },
     "execution_count": 34,
     "metadata": {},
     "output_type": "execute_result"
    }
   ],
   "source": [
    "binding_singles_transformed_df = pd.DataFrame(np.nan*np.ones(shape=(57,21)),columns=alphabet)\n",
    "binding_singles_transformed_df.head()"
   ]
  },
  {
   "cell_type": "code",
   "execution_count": 35,
   "metadata": {},
   "outputs": [],
   "source": [
    "for idx in lehner_binding_singles_df.index:\n",
    "\n",
    "    mutant = lehner_binding_singles_df.loc[idx]['Mut']\n",
    "    value = lehner_binding_singles_df.loc[idx]['fitness']\n",
    "    \n",
    "    pos = lehner_binding_singles_df.loc[idx]['Pos']-1\n",
    "    binding_singles_transformed_df[mutant][pos] = value"
   ]
  },
  {
   "cell_type": "code",
   "execution_count": 36,
   "metadata": {},
   "outputs": [
    {
     "data": {
      "image/png": "[encoded data removed]",
      "text/plain": [
       "<Figure size 576x288 with 2 Axes>"
      ]
     },
     "metadata": {
      "needs_background": "light"
     },
     "output_type": "display_data"
    }
   ],
   "source": [
    "fig, axs = plt.subplots(1,2,figsize=(8,4))\n",
    "\n",
    "ax = axs[0]\n",
    "Rsq = np.corrcoef(theta_lc_consensus_EE_df.fillna(0).values.ravel(),binding_singles_transformed_df.fillna(0).values.ravel())[0,1]**2\n",
    "ax.scatter(theta_lc_consensus_EE_df.values.ravel(),binding_singles_transformed_df.values.ravel(),s=3,alpha=0.3,color='blue')\n",
    "ax.set_xlabel(' $\\\\theta$ - exponential enrichment')\n",
    "ax.set_ylabel(' Binding, singles - Lehner')\n",
    "ax.set_title(f'$R^2 = $ {Rsq:.3f}')\n",
    "\n",
    "ax = axs[1]\n",
    "Rsq = np.corrcoef(theta_lc_consensus_DM_df.fillna(0).values.ravel(),binding_singles_transformed_df.fillna(0).values.ravel())[0,1]**2\n",
    "ax.scatter(theta_lc_consensus_DM_df.values.ravel(),binding_singles_transformed_df.values.ravel(),s=3,alpha=0.3,color='blue')\n",
    "ax.set_xlabel(' $\\\\theta$ - discrete monotonic')\n",
    "ax.set_ylabel(' Binding, singles - Lehner')\n",
    "ax.set_title(f'$R^2 = $ {Rsq:.3f}')\n",
    "\n",
    "fig.tight_layout()\n",
    "\n",
    "fig.savefig('plots/GRB2_SH3/GRB2_SH3.singles_binding_comparison_to_Lehner.png',dpi=200,bbox_inches='tight')\n"
   ]
  },
  {
   "cell_type": "code",
   "execution_count": 37,
   "metadata": {},
   "outputs": [
    {
     "data": {
      "image/png": "[encoded data removed]",
      "text/plain": [
       "<Figure size 864x288 with 2 Axes>"
      ]
     },
     "metadata": {
      "needs_background": "light"
     },
     "output_type": "display_data"
    }
   ],
   "source": [
    "# # Create fig and ax objects\n",
    "fig, ax = plt.subplots(figsize=[12,4])\n",
    "\n",
    "# Draw heatmap\n",
    "ax, cb = mavenn.heatmap(ax=ax,\n",
    "                        values=binding_singles_transformed_df.values,\n",
    "                        alphabet=alphabet,\n",
    "                        seq=model_binding_DM.x_stats['consensus_seq'],\n",
    "                        seq_kwargs={'c':'gray', 's':20,'marker':'o'},\n",
    "                        cmap='RdBu',\n",
    "                        cbar=True,\n",
    "                        #clim = [-5,1],\n",
    "                        cmap_size='2%',\n",
    "                        cmap_pad=.3,\n",
    "                        ccenter=0)\n",
    "\n",
    "# Style colorbar\n",
    "cb.set_label('Additive effect - WT gauge ($\\\\theta$)',\n",
    "             labelpad=10, ha='center', va='center', rotation=-90)\n",
    "cb.outline.set_visible(False)\n",
    "cb.ax.tick_params(direction='in', size=20, color='white')\n",
    "ax.set_title('Lehner - binding')\n",
    "\n",
    "fig.savefig('plots/GRB2_SH3/Lehner_GP_map_binding.png',dpi=300,bbox_inches='tight')"
   ]
  },
  {
   "cell_type": "code",
   "execution_count": 38,
   "metadata": {},
   "outputs": [
    {
     "data": {
      "text/html": [
       "<div>\n",
       "<style scoped>\n",
       "    .dataframe tbody tr th:only-of-type {\n",
       "        vertical-align: middle;\n",
       "    }\n",
       "\n",
       "    .dataframe tbody tr th {\n",
       "        vertical-align: top;\n",
       "    }\n",
       "\n",
       "    .dataframe thead th {\n",
       "        text-align: right;\n",
       "    }\n",
       "</style>\n",
       "<table border=\"1\" class=\"dataframe\">\n",
       "  <thead>\n",
       "    <tr style=\"text-align: right;\">\n",
       "      <th></th>\n",
       "      <th>aa_seq</th>\n",
       "      <th>abundance_fitness</th>\n",
       "    </tr>\n",
       "  </thead>\n",
       "  <tbody>\n",
       "    <tr>\n",
       "      <th>0</th>\n",
       "      <td>NYVQALFDFRPQEDGELGFRRGDFIHVMDNSDPNWWKGACHGQTGM...</td>\n",
       "      <td>0.014463</td>\n",
       "    </tr>\n",
       "    <tr>\n",
       "      <th>1</th>\n",
       "      <td>NYVQALFDFDTQEDGELGFRRGDFIHVMDNSDPNWWKGACHGQTGM...</td>\n",
       "      <td>-0.161291</td>\n",
       "    </tr>\n",
       "    <tr>\n",
       "      <th>2</th>\n",
       "      <td>NYVQALFDFDPQEDEELGFRRGDFIHVMDNSDPNWWKGACHGQTGM...</td>\n",
       "      <td>-0.359899</td>\n",
       "    </tr>\n",
       "    <tr>\n",
       "      <th>3</th>\n",
       "      <td>NYVQALFDFDPQEDGELGRRRGDFIHVMDNSDPNWWKGACHGQTGM...</td>\n",
       "      <td>-1.348834</td>\n",
       "    </tr>\n",
       "    <tr>\n",
       "      <th>4</th>\n",
       "      <td>NYVQALFDFDPQEDGELGGRRGDFIHVMDNSDPNWWKGACHGQTGM...</td>\n",
       "      <td>-1.164175</td>\n",
       "    </tr>\n",
       "    <tr>\n",
       "      <th>...</th>\n",
       "      <td>...</td>\n",
       "      <td>...</td>\n",
       "    </tr>\n",
       "    <tr>\n",
       "      <th>69739</th>\n",
       "      <td>MYVQALFVFDPQEDGELGFRRGDFIHVMDNSDPNWWKGACHGQTGM...</td>\n",
       "      <td>-0.923700</td>\n",
       "    </tr>\n",
       "    <tr>\n",
       "      <th>69740</th>\n",
       "      <td>MYVQALF*FDPQEDGELGFRRGDFIHVMDNSDPNWWKGACHGQTGM...</td>\n",
       "      <td>-1.104500</td>\n",
       "    </tr>\n",
       "    <tr>\n",
       "      <th>69741</th>\n",
       "      <td>MYVQALFCFDPQEDGELGFRRGDFIHVMDNSDPNWWKGACHGQTGM...</td>\n",
       "      <td>-1.097747</td>\n",
       "    </tr>\n",
       "    <tr>\n",
       "      <th>69742</th>\n",
       "      <td>MYVQYLFDFDPQEDGELGFRRGDFIHVMDNSDPNWWKGACHGQTGM...</td>\n",
       "      <td>-1.181016</td>\n",
       "    </tr>\n",
       "    <tr>\n",
       "      <th>69743</th>\n",
       "      <td>MYVQSLFDFDPQEDGELGFRRGDFIHVMDNSDPNWWKGACHGQTGM...</td>\n",
       "      <td>-0.933371</td>\n",
       "    </tr>\n",
       "  </tbody>\n",
       "</table>\n",
       "<p>69744 rows × 2 columns</p>\n",
       "</div>"
      ],
      "text/plain": [
       "                                                  aa_seq  abundance_fitness\n",
       "0      NYVQALFDFRPQEDGELGFRRGDFIHVMDNSDPNWWKGACHGQTGM...           0.014463\n",
       "1      NYVQALFDFDTQEDGELGFRRGDFIHVMDNSDPNWWKGACHGQTGM...          -0.161291\n",
       "2      NYVQALFDFDPQEDEELGFRRGDFIHVMDNSDPNWWKGACHGQTGM...          -0.359899\n",
       "3      NYVQALFDFDPQEDGELGRRRGDFIHVMDNSDPNWWKGACHGQTGM...          -1.348834\n",
       "4      NYVQALFDFDPQEDGELGGRRGDFIHVMDNSDPNWWKGACHGQTGM...          -1.164175\n",
       "...                                                  ...                ...\n",
       "69739  MYVQALFVFDPQEDGELGFRRGDFIHVMDNSDPNWWKGACHGQTGM...          -0.923700\n",
       "69740  MYVQALF*FDPQEDGELGFRRGDFIHVMDNSDPNWWKGACHGQTGM...          -1.104500\n",
       "69741  MYVQALFCFDPQEDGELGFRRGDFIHVMDNSDPNWWKGACHGQTGM...          -1.097747\n",
       "69742  MYVQYLFDFDPQEDGELGFRRGDFIHVMDNSDPNWWKGACHGQTGM...          -1.181016\n",
       "69743  MYVQSLFDFDPQEDGELGFRRGDFIHVMDNSDPNWWKGACHGQTGM...          -0.933371\n",
       "\n",
       "[69744 rows x 2 columns]"
      ]
     },
     "execution_count": 38,
     "metadata": {},
     "output_type": "execute_result"
    }
   ],
   "source": [
    "abundance_data_df_GE = pd.read_csv('abundance_lehner_GE.csv',index_col=[0])\n",
    "abundance_data_df_GE.columns = ['aa_seq','abundance_fitness']\n",
    "abundance_data_df_GE"
   ]
  },
  {
   "cell_type": "code",
   "execution_count": 39,
   "metadata": {},
   "outputs": [
    {
     "data": {
      "text/plain": [
       "57"
      ]
     },
     "execution_count": 39,
     "metadata": {},
     "output_type": "execute_result"
    }
   ],
   "source": [
    "len(abundance_data_df_GE['aa_seq'].values[0])"
   ]
  },
  {
   "cell_type": "code",
   "execution_count": 40,
   "metadata": {},
   "outputs": [],
   "source": [
    "#len(data_df_GE['aa_seq'].values\n",
    "same_seqs = np.intersect1d(data_df_GE['aa_seq'].values,abundance_data_df_GE['aa_seq'].values)"
   ]
  },
  {
   "cell_type": "code",
   "execution_count": 41,
   "metadata": {},
   "outputs": [],
   "source": [
    "same_seqs_binding_df = data_df_GE[data_df_GE['aa_seq'].isin(same_seqs)].reset_index(drop=True)\n",
    "same_seqs_abundance_df = abundance_data_df_GE[abundance_data_df_GE['aa_seq'].isin(same_seqs)].reset_index(drop=True)\n"
   ]
  },
  {
   "cell_type": "code",
   "execution_count": 42,
   "metadata": {},
   "outputs": [
    {
     "data": {
      "text/plain": [
       "0        KYVQALFDFEPQEDGELGFRRGDFIHVMDNSDPNWWKGACHGQTGM...\n",
       "1        KYVQALFDFDPQEDGELGFSRGDFIHVMDNSDPNWWKGACHGQTGM...\n",
       "2        KYVQALFDFDPQEDGELGFRRGDFIHAMDNSDPNWWKGACHGQTGM...\n",
       "3        KYVQALFDFDPQEDGELGFRRGDFIHVKDNSDPNWWKGACHGQTGM...\n",
       "4        KYVQALFDFDPQEDGELGFRRGDFIHVMDNSDPN*WKGACHGQTGM...\n",
       "                               ...                        \n",
       "13835    SYVQALFVFDPQEDGELGFRRGDFIHVMDNSDPNWWKGACHGQTGM...\n",
       "13836    SYVLALFDFDPQEDGELGFRRGDFIHVMDNSDPNWWKGACHGQTGM...\n",
       "13837    SYV*ALFDFDPQEDGELGFRRGDFIHVMDNSDPNWWKGACHGQTGM...\n",
       "13838    LYVQALFDFDPQEDGELGFRRRDFIHVMDNSDPNWWKGACHGQTGM...\n",
       "13839    LYVQALFDFDPQEDGELGFRRGDFIHVMDNSDPNWWKGACHGQTGM...\n",
       "Name: aa_seq, Length: 13840, dtype: object"
      ]
     },
     "execution_count": 42,
     "metadata": {},
     "output_type": "execute_result"
    }
   ],
   "source": [
    "same_seqs_binding_df['aa_seq']"
   ]
  },
  {
   "cell_type": "code",
   "execution_count": 43,
   "metadata": {},
   "outputs": [
    {
     "data": {
      "text/plain": [
       "Index(['aa_seq', 'fitness'], dtype='object')"
      ]
     },
     "execution_count": 43,
     "metadata": {},
     "output_type": "execute_result"
    }
   ],
   "source": [
    "same_seqs_binding_df.columns"
   ]
  },
  {
   "cell_type": "code",
   "execution_count": 44,
   "metadata": {},
   "outputs": [
    {
     "data": {
      "text/plain": [
       "Index(['aa_seq', 'abundance_fitness'], dtype='object')"
      ]
     },
     "execution_count": 44,
     "metadata": {},
     "output_type": "execute_result"
    }
   ],
   "source": [
    "abundance_data_df_GE.columns"
   ]
  },
  {
   "cell_type": "code",
   "execution_count": null,
   "metadata": {},
   "outputs": [],
   "source": [
    "\n"
   ]
  },
  {
   "cell_type": "code",
   "execution_count": null,
   "metadata": {},
   "outputs": [],
   "source": [
    "#same_seqs_abundance_df.join(same_seqs_binding_df,on='aa_seq',how='inner')\n",
    "sequences = []\n",
    "binding_fitness = []\n",
    "abundance_fitness = []\n",
    "for seq in same_seqs_abundance_df['aa_seq'].values:\n",
    "    if len(same_seqs_binding_df[same_seqs_binding_df['aa_seq']==seq])==1:\n",
    "        sequences.append(seq)\n",
    "        binding_fitness.append(same_seqs_binding_df[same_seqs_binding_df['aa_seq']==seq]['fitness'].values[0])\n",
    "        abundance_fitness.append(same_seqs_abundance_df[same_seqs_abundance_df['aa_seq']==seq]['abundance_fitness'].values[0])\n"
   ]
  },
  {
   "cell_type": "code",
   "execution_count": null,
   "metadata": {},
   "outputs": [],
   "source": [
    "same_seq_data_dict = {'aa_seq':sequences,\n",
    "                      'binding_fitness':binding_fitness,\n",
    "                      'abundance_fitness':abundance_fitness}"
   ]
  },
  {
   "cell_type": "code",
   "execution_count": null,
   "metadata": {},
   "outputs": [],
   "source": [
    "same_seq_data_df = pd.DataFrame(same_seq_data_dict)\n",
    "same_seq_data_df"
   ]
  },
  {
   "cell_type": "code",
   "execution_count": null,
   "metadata": {},
   "outputs": [],
   "source": [
    "same_seq_data_df.to_csv('same_seq_data.csv',index=False)"
   ]
  },
  {
   "cell_type": "code",
   "execution_count": null,
   "metadata": {},
   "outputs": [],
   "source": []
  },
  {
   "cell_type": "code",
   "execution_count": null,
   "metadata": {},
   "outputs": [],
   "source": [
    "# joint_df = data_df_GE.merge(abundance_data_df_GE,on='aa_seq',how='inner').reset_index(drop=True).copy()\n",
    "# joint_df.columns = ['aa_seq','binding_fitness','abundance_fitness']\n",
    "# joint_df"
   ]
  },
  {
   "cell_type": "code",
   "execution_count": null,
   "metadata": {},
   "outputs": [],
   "source": [
    "joint_df"
   ]
  },
  {
   "cell_type": "code",
   "execution_count": null,
   "metadata": {},
   "outputs": [],
   "source": [
    "binding_phi = gpmapGE.x_to_phi(same_seq_data_df['aa_seq'].values)"
   ]
  },
  {
   "cell_type": "code",
   "execution_count": null,
   "metadata": {},
   "outputs": [],
   "source": [
    "np.savetxt('binding_phi.txt',binding_phi)"
   ]
  },
  {
   "cell_type": "code",
   "execution_count": null,
   "metadata": {},
   "outputs": [],
   "source": []
  }
 ],
 "metadata": {
  "kernelspec": {
   "display_name": "Python 3 (ipykernel)",
   "language": "python",
   "name": "python3"
  },
  "language_info": {
   "codemirror_mode": {
    "name": "ipython",
    "version": 3
   },
   "file_extension": ".py",
   "mimetype": "text/x-python",
   "name": "python",
   "nbconvert_exporter": "python",
   "pygments_lexer": "ipython3",
   "version": "3.9.7"
  }
 },
 "nbformat": 4,
 "nbformat_minor": 2
}
