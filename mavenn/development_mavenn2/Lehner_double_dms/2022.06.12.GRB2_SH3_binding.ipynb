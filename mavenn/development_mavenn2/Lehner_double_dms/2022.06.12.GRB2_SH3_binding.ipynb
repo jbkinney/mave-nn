{
 "cells": [
  {
   "cell_type": "code",
   "execution_count": 1,
   "metadata": {},
   "outputs": [],
   "source": [
    "import numpy as np\n",
    "import pandas as pd\n",
    "import matplotlib.pyplot as plt\n",
    "import sys\n",
    "sys.path.insert(0, '/Users/tareen/Desktop/Research_Projects/2022_mavenn2_github/mavenn')\n",
    "\n",
    "import mavenn\n",
    "import logomaker\n",
    "import seaborn as sns\n",
    "import re\n",
    "\n",
    "%matplotlib inline"
   ]
  },
  {
   "cell_type": "code",
   "execution_count": 2,
   "metadata": {},
   "outputs": [
    {
     "name": "stderr",
     "output_type": "stream",
     "text": [
      "/Library/Frameworks/Python.framework/Versions/3.9/lib/python3.9/site-packages/IPython/core/interactiveshell.py:3457: DtypeWarning: Columns (6) have mixed types.Specify dtype option on import or set low_memory=False.\n",
      "  exec(code_obj, self.user_global_ns, self.user_ns)\n"
     ]
    }
   ],
   "source": [
    "binding_df_full = pd.read_csv('data/GRB2-SH3.binding.csv')\n",
    "binding_df = binding_df_full[['aa_seq','count_e1_s0','count_e1_s1']].dropna().reset_index(drop=True).copy()"
   ]
  },
  {
   "cell_type": "code",
   "execution_count": 3,
   "metadata": {},
   "outputs": [],
   "source": [
    "abundance_df = pd.read_csv('data/GRB2-SH3.abundance.csv')\n",
    "abundance_df = abundance_df[['aa_seq','count_e1_s0','count_e1_s1']].dropna().reset_index(drop=True).copy()"
   ]
  },
  {
   "cell_type": "code",
   "execution_count": 4,
   "metadata": {},
   "outputs": [],
   "source": [
    "data_df = binding_df.copy()\n",
    "y_cols = data_df.columns[1:] "
   ]
  },
  {
   "cell_type": "code",
   "execution_count": 5,
   "metadata": {},
   "outputs": [],
   "source": [
    "X = data_df['aa_seq']\n",
    "y = data_df[y_cols]"
   ]
  },
  {
   "cell_type": "code",
   "execution_count": 6,
   "metadata": {},
   "outputs": [
    {
     "name": "stdout",
     "output_type": "stream",
     "text": [
      "L=57, Y=2\n"
     ]
    }
   ],
   "source": [
    "# set positional argumnets for gpmap function\n",
    "L = len(data_df['aa_seq'][0])\n",
    "alphabet=['A', 'C', 'D', 'E', 'F',\n",
    "          'G', 'H', 'I', 'K', 'L',\n",
    "          'M', 'N', 'P', 'Q', 'R',\n",
    "          'S', 'T', 'V', 'W', 'Y', '*']\n",
    "\n",
    "\n",
    "Y = len(y_cols)\n",
    "print(f'L={L}, Y={Y}')"
   ]
  },
  {
   "cell_type": "code",
   "execution_count": 7,
   "metadata": {},
   "outputs": [
    {
     "name": "stderr",
     "output_type": "stream",
     "text": [
      "2022-12-02 14:40:38.460984: I tensorflow/core/platform/cpu_feature_guard.cc:151] This TensorFlow binary is optimized with oneAPI Deep Neural Network Library (oneDNN) to use the following CPU instructions in performance-critical operations:  AVX2 FMA\n",
      "To enable them in other operations, rebuild TensorFlow with the appropriate compiler flags.\n"
     ]
    }
   ],
   "source": [
    "gpmap_binding_DM = mavenn.gpmap.AdditiveGPMapLayer(L, alphabet)\n",
    "gpmap_binding_EE = mavenn.gpmap.AdditiveGPMapLayer(L, alphabet)\n",
    "\n",
    "gpmap_abundance = mavenn.gpmap.AdditiveGPMapLayer(L, alphabet)\n",
    "\n",
    "# # instantiate gpmap object\n",
    "# gpmap = mavenn.gpmap.Multi_AdditiveGPMapLayer(L=L, \n",
    "#                                               alphabet=alphabet,\n",
    "#                                               number_latent_nodes=2)\n",
    "\n"
   ]
  },
  {
   "cell_type": "code",
   "execution_count": 8,
   "metadata": {},
   "outputs": [],
   "source": [
    "from sklearn.model_selection import train_test_split\n",
    "\n",
    "# split data into training and testing sets\n",
    "x_train, x_test, y_train, y_test = train_test_split(X, y, test_size=0.1)"
   ]
  },
  {
   "cell_type": "code",
   "execution_count": 9,
   "metadata": {},
   "outputs": [],
   "source": [
    "def model_local(gpmap, \n",
    "                mp,\n",
    "                x_train,\n",
    "                y_train):\n",
    "    \n",
    "    model = mavenn.Model2(gpmap=gpmap,\n",
    "                          mp_list=[mp])\n",
    "    \n",
    "    # Set training data\n",
    "    model.set_data(x=x_train.values,\n",
    "                   y_list=[y_train.values],\n",
    "                   shuffle=True)\n",
    "    \n",
    "    return model\n",
    "    "
   ]
  },
  {
   "cell_type": "code",
   "execution_count": 10,
   "metadata": {},
   "outputs": [],
   "source": [
    "mp_DM = mavenn.measurement_process_layers.DiscreteMonotonicMP(info_for_layers_dict={'H_y_norm':0},\n",
    "                                                               Y=Y,\n",
    "                                                               K=50,\n",
    "                                                               eta=1e-5,)\n",
    "\n",
    "\n",
    "mp_EE = mavenn.measurement_process_layers.ExponentialEnrichmentMP(Y=Y,\n",
    "                                                                  t_y=[0,1],\n",
    "                                                                  eta=1e-5,\n",
    "                                                                  info_for_layers_dict={'H_y_norm':0})\n"
   ]
  },
  {
   "cell_type": "code",
   "execution_count": 11,
   "metadata": {},
   "outputs": [
    {
     "name": "stdout",
     "output_type": "stream",
     "text": [
      "N = 38,449 observations set as training data.\n",
      "Using 20.0% for validation.\n",
      "Data shuffled.\n",
      "Time to set data: 3.37 sec.\n",
      "N = 38,449 observations set as training data.\n",
      "Using 20.0% for validation.\n",
      "Data shuffled.\n",
      "Time to set data: 2.96 sec.\n"
     ]
    }
   ],
   "source": [
    "model_binding_DM = model_local(gpmap_binding_DM,mp_DM, x_train, y_train)\n",
    "model_binding_EE = model_local(gpmap_binding_EE,mp_EE, x_train, y_train)"
   ]
  },
  {
   "cell_type": "code",
   "execution_count": 12,
   "metadata": {},
   "outputs": [],
   "source": [
    "# # Set training data\n",
    "# model.set_data(x=x_train.values,\n",
    "#                y_list=[y_train.values],\n",
    "#                shuffle=True)\n"
   ]
  },
  {
   "cell_type": "code",
   "execution_count": 13,
   "metadata": {},
   "outputs": [],
   "source": [
    "# from tensorflow.keras.utils import plot_model\n",
    "# plot_model(model.model,show_shapes=True,show_dtype=False,dpi=300,to_file='lehner.png')"
   ]
  },
  {
   "cell_type": "code",
   "execution_count": 14,
   "metadata": {},
   "outputs": [
    {
     "name": "stdout",
     "output_type": "stream",
     "text": [
      "Training time: 202.0 seconds\n",
      "Training time: 147.2 seconds\n"
     ]
    },
    {
     "data": {
      "text/plain": [
       "<keras.callbacks.History at 0x7fedb0bc0190>"
      ]
     },
     "execution_count": 14,
     "metadata": {},
     "output_type": "execute_result"
    }
   ],
   "source": [
    "\n",
    "# Fit model to data\n",
    "model_binding_DM.fit(learning_rate=.0005,\n",
    "                     epochs=300,\n",
    "                     batch_size=300,\n",
    "                     try_tqdm = False,\n",
    "                     early_stopping=False,\n",
    "                     verbose=False,\n",
    "                     early_stopping_patience=10,\n",
    "                     linear_initialization=False)\n",
    "\n",
    "model_binding_EE.fit(learning_rate=.0005,\n",
    "                     epochs=300,\n",
    "                     batch_size=300,\n",
    "                     try_tqdm = False,\n",
    "                     early_stopping=False,\n",
    "                     verbose=False,\n",
    "                     early_stopping_patience=10,\n",
    "                     linear_initialization=False)"
   ]
  },
  {
   "cell_type": "code",
   "execution_count": 15,
   "metadata": {},
   "outputs": [
    {
     "name": "stdout",
     "output_type": "stream",
     "text": [
      "On test data:\n"
     ]
    },
    {
     "data": {
      "image/png": "[encoded data removed]",
      "text/plain": [
       "<Figure size 288x288 with 1 Axes>"
      ]
     },
     "metadata": {
      "needs_background": "light"
     },
     "output_type": "display_data"
    }
   ],
   "source": [
    "# Show training history\n",
    "print('On test data:')\n",
    "# x_test = test_df['x'].values\n",
    "# y_test = test_df[y_cols].values\n",
    "\n",
    "\n",
    "I_var_hist = model_binding_DM.history['I_var']\n",
    "val_I_var_hist = model_binding_DM.history['val_I_var']\n",
    "\n",
    "fig, ax = plt.subplots(figsize=[4,4])\n",
    "\n",
    "ax.plot(I_var_hist, label='I_var_train-DM')\n",
    "ax.plot(val_I_var_hist, label='I_var_val-DM')\n",
    "#ax.set_xscale('log')\n",
    "ax.set_title('training history - binding')\n",
    "\n",
    "I_var_hist = model_binding_EE.history['I_var']\n",
    "val_I_var_hist = model_binding_EE.history['val_I_var']\n",
    "\n",
    "ax.plot(I_var_hist, label='I_var_train-EE')\n",
    "ax.plot(val_I_var_hist, label='I_var_val-EE')\n",
    "\n",
    "ax.legend()\n",
    "ax.set_xlabel('epochs')\n",
    "ax.set_ylabel('bits')\n",
    "\n",
    "fig.tight_layout()\n",
    "fig.savefig('plots/GRB2_SH3/training_history_binding.png',dpi=200,bbox_inches='tight')\n"
   ]
  },
  {
   "cell_type": "code",
   "execution_count": 16,
   "metadata": {},
   "outputs": [],
   "source": [
    "phi_DM = gpmap_binding_DM.x_to_phi(x_test)\n",
    "phi_EE = gpmap_binding_EE.x_to_phi(x_test)"
   ]
  },
  {
   "cell_type": "code",
   "execution_count": 17,
   "metadata": {},
   "outputs": [],
   "source": [
    "theta_lc_DM = gpmap_binding_DM.get_theta(model_binding_DM,gauge='consensus')['theta_lc']\n",
    "theta_lc_EE = gpmap_binding_EE.get_theta(model_binding_EE,gauge='consensus')['theta_lc']\n",
    "theta_lc_consensus_EE_df = pd.DataFrame(theta_lc_EE,columns=alphabet)\n",
    "theta_lc_consensus_DM_df = pd.DataFrame(theta_lc_DM,columns=alphabet)"
   ]
  },
  {
   "cell_type": "code",
   "execution_count": null,
   "metadata": {},
   "outputs": [],
   "source": []
  },
  {
   "cell_type": "code",
   "execution_count": 18,
   "metadata": {},
   "outputs": [
    {
     "data": {
      "image/png": "[encoded data removed]",
      "text/plain": [
       "<Figure size 864x576 with 4 Axes>"
      ]
     },
     "metadata": {
      "needs_background": "light"
     },
     "output_type": "display_data"
    }
   ],
   "source": [
    "\n",
    "# # Create fig and ax objects\n",
    "fig, axs = plt.subplots(2,1, figsize=[12,8])\n",
    "\n",
    "ax = axs[0]\n",
    "# Draw heatmap\n",
    "ax, cb = mavenn.heatmap(ax=ax,\n",
    "                        values=theta_lc_DM,\n",
    "                        alphabet=alphabet,\n",
    "                        seq=model_binding_DM.x_stats['consensus_seq'],\n",
    "                        seq_kwargs={'c':'gray', 's':20,'marker':'o'},\n",
    "                        cmap='RdBu',\n",
    "                        cbar=True,\n",
    "                        #clim = [-5,1],\n",
    "                        cmap_size='2%',\n",
    "                        cmap_pad=.3,\n",
    "                        ccenter=0)\n",
    "\n",
    "# Style colorbar\n",
    "cb.set_label('Additive effect - WT gauge ($\\\\theta$)',\n",
    "             labelpad=10, ha='center', va='center', rotation=-90)\n",
    "cb.outline.set_visible(False)\n",
    "cb.ax.tick_params(direction='in', size=20, color='white')\n",
    "ax.set_title('Discrete monotonic - binding')\n",
    "\n",
    "ax = axs[1]\n",
    "# Draw heatmap\n",
    "ax, cb = mavenn.heatmap(ax=ax,\n",
    "                        values=theta_lc_EE,\n",
    "                        alphabet=alphabet,\n",
    "                        seq=model_binding_EE.x_stats['consensus_seq'],\n",
    "                        seq_kwargs={'c':'gray', 's':20,'marker':'o'},\n",
    "                        cmap='RdBu',\n",
    "                        cbar=True,\n",
    "                        #clim = [-5,1],\n",
    "                        cmap_size='2%',\n",
    "                        cmap_pad=.3,\n",
    "                        ccenter=0)\n",
    "\n",
    "# Style colorbar\n",
    "cb.set_label('Additive effect - WT gauge ($\\\\theta$)',\n",
    "             labelpad=10, ha='center', va='center', rotation=-90)\n",
    "cb.outline.set_visible(False)\n",
    "cb.ax.tick_params(direction='in', size=20, color='white')\n",
    "ax.set_title('Exponential enrichment - binding')\n",
    "\n",
    "\n",
    "fig.tight_layout()\n",
    "fig.savefig('plots/GRB2_SH3/GP_map_binding.png',dpi=300,bbox_inches='tight')"
   ]
  },
  {
   "cell_type": "code",
   "execution_count": 19,
   "metadata": {},
   "outputs": [
    {
     "data": {
      "text/plain": [
       "Text(0, 0.5, 'Theta exponential enrichment')"
      ]
     },
     "execution_count": 19,
     "metadata": {},
     "output_type": "execute_result"
    },
    {
     "data": {
      "image/png": "[encoded data removed]",
      "text/plain": [
       "<Figure size 360x360 with 1 Axes>"
      ]
     },
     "metadata": {
      "needs_background": "light"
     },
     "output_type": "display_data"
    }
   ],
   "source": [
    "plt.figure(figsize=(5,5))\n",
    "plt.scatter(theta_lc_DM.ravel(),theta_lc_EE.ravel(),c='blue',s=5,alpha=0.3)\n",
    "plt.xlabel('Theta discrete monotonic')\n",
    "plt.ylabel('Theta exponential enrichment')"
   ]
  },
  {
   "cell_type": "code",
   "execution_count": 20,
   "metadata": {},
   "outputs": [
    {
     "data": {
      "image/png": "[encoded data removed]",
      "text/plain": [
       "<Figure size 864x432 with 4 Axes>"
      ]
     },
     "metadata": {
      "needs_background": "light"
     },
     "output_type": "display_data"
    }
   ],
   "source": [
    "# Create grid in phi space\n",
    "phi_lim = [-5, 5]\n",
    "phi_grid = np.linspace(phi_lim[0], phi_lim[1], 1000)\n",
    "\n",
    "# Create array of allowable y values\n",
    "Y = mp_DM.Y    # Y = number of bins\n",
    "y_lim = [-.5, Y-.5]\n",
    "y_all = range(Y)\n",
    "\n",
    "# Compute matrix of p(y|phi) values\n",
    "\n",
    "\n",
    "\n",
    "# Create figure with two panels\n",
    "fig, axs = plt.subplots(1,2,figsize=[12,6])\n",
    "\n",
    "ax = axs[0]\n",
    "# Right panel: draw measurement process as heatmap\n",
    "\n",
    "measurement_process = mp_DM.p_of_y_given_phi(y_all, phi_grid)\n",
    "im = ax.imshow(measurement_process,\n",
    "               cmap='Greens',\n",
    "               extent=phi_lim+y_lim,\n",
    "               vmin=0,\n",
    "               origin='lower',\n",
    "               interpolation='nearest',\n",
    "               aspect=\"auto\")\n",
    "ax.set_yticks(y_all)\n",
    "ax.set_ylabel('bin number (y)')\n",
    "ax.set_xlabel('latent phenotype ($\\phi$)')\n",
    "ax.set_title('measurement process - discrete monotonic')\n",
    "cb = plt.colorbar(im,ax=ax)\n",
    "cb.set_label('probability  $p(y|\\phi)$', rotation=-90, va=\"bottom\")\n",
    "\n",
    "ax = axs[1]\n",
    "# Right panel: draw measurement process as heatmap\n",
    "\n",
    "measurement_process = mp_EE.p_of_y_given_phi(y_all, phi_grid)\n",
    "im = ax.imshow(measurement_process,\n",
    "               cmap='Greens',\n",
    "               extent=phi_lim+y_lim,\n",
    "               vmin=0,\n",
    "               origin='lower',\n",
    "               interpolation='nearest',\n",
    "               aspect=\"auto\")\n",
    "ax.set_yticks(y_all)\n",
    "ax.set_ylabel('bin number (y)')\n",
    "ax.set_xlabel('latent phenotype ($\\phi$)')\n",
    "ax.set_title('measurement process - Exponential enrichment')\n",
    "cb = plt.colorbar(im,ax=ax)\n",
    "cb.set_label('probability  $p(y|\\phi)$', rotation=-90, va=\"bottom\")\n",
    "\n",
    "\n",
    "fig.tight_layout()\n",
    "fig.savefig('plots/GRB2_SH3/lehner_measurment_prcoess_binding.png',dpi=300,bbox_inches='tight')\n"
   ]
  },
  {
   "cell_type": "code",
   "execution_count": 21,
   "metadata": {},
   "outputs": [],
   "source": [
    "data_df_GE = binding_df_full[['aa_seq','fitness']].copy()"
   ]
  },
  {
   "cell_type": "code",
   "execution_count": 22,
   "metadata": {},
   "outputs": [
    {
     "data": {
      "image/png": "[encoded data removed]",
      "text/plain": [
       "<Figure size 432x288 with 1 Axes>"
      ]
     },
     "metadata": {
      "needs_background": "light"
     },
     "output_type": "display_data"
    }
   ],
   "source": [
    "plt.hist(data_df_GE['fitness'],bins=20,color='blue')\n",
    "plt.show()"
   ]
  },
  {
   "cell_type": "code",
   "execution_count": 23,
   "metadata": {},
   "outputs": [],
   "source": [
    "gpmapGE = mavenn.gpmap.AdditiveGPMapLayer(L, alphabet)\n",
    "mp_GE = mavenn.measurement_process_layers.GlobalEpsitasisMP(K=50,\n",
    "                                                           monotonic=True,\n",
    "                                                           ge_heteroskedasticity_order=2,\n",
    "                                                           ge_noise_model_type='Gaussian')"
   ]
  },
  {
   "cell_type": "code",
   "execution_count": 24,
   "metadata": {},
   "outputs": [],
   "source": [
    "from sklearn.model_selection import train_test_split\n",
    "\n",
    "# split data into training and testing sets\n",
    "x_train_GE, x_test_GE, y_train_GE, y_test_GE = train_test_split(data_df_GE['aa_seq'].values, \n",
    "                                                                data_df_GE['fitness'].values, test_size=0.1)"
   ]
  },
  {
   "cell_type": "code",
   "execution_count": 25,
   "metadata": {},
   "outputs": [
    {
     "name": "stdout",
     "output_type": "stream",
     "text": [
      "N = 41,749 observations set as training data.\n",
      "Using 19.8% for validation.\n",
      "Time to set data: 1.32 sec.\n"
     ]
    }
   ],
   "source": [
    "model_GE = mavenn.Model2(gpmap=gpmapGE,\n",
    "                      mp_list=[mp_GE])\n",
    "\n",
    "# Set training data\n",
    "model_GE.set_data(x=x_train_GE,\n",
    "               #y_list=[data_df['y'].values.reshape(-1,1)],\n",
    "               y_list=[y_train_GE.reshape(-1,1)],\n",
    "               shuffle=False)"
   ]
  },
  {
   "cell_type": "code",
   "execution_count": 26,
   "metadata": {},
   "outputs": [
    {
     "name": "stdout",
     "output_type": "stream",
     "text": [
      "Epoch 1/150\n",
      "112/112 [==============================] - 1s 4ms/step - loss: 276.1555 - I_var: -1.1089 - val_loss: 256.8932 - val_I_var: -1.0256\n",
      "Epoch 2/150\n",
      "112/112 [==============================] - 0s 3ms/step - loss: 246.3425 - I_var: -0.9654 - val_loss: 231.2460 - val_I_var: -0.9013\n",
      "Epoch 3/150\n",
      "112/112 [==============================] - 0s 3ms/step - loss: 222.1363 - I_var: -0.8487 - val_loss: 208.6376 - val_I_var: -0.7917\n",
      "Epoch 4/150\n",
      "112/112 [==============================] - 0s 3ms/step - loss: 200.9599 - I_var: -0.7469 - val_loss: 189.2097 - val_I_var: -0.6975\n",
      "Epoch 5/150\n",
      "112/112 [==============================] - 0s 3ms/step - loss: 182.0651 - I_var: -0.6557 - val_loss: 170.3313 - val_I_var: -0.6059\n",
      "Epoch 6/150\n",
      "112/112 [==============================] - 0s 3ms/step - loss: 158.4814 - I_var: -0.5419 - val_loss: 140.2261 - val_I_var: -0.4587\n",
      "Epoch 7/150\n",
      "112/112 [==============================] - 0s 3ms/step - loss: 121.7155 - I_var: -0.3648 - val_loss: 102.6553 - val_I_var: -0.2766\n",
      "Epoch 8/150\n",
      "112/112 [==============================] - 0s 3ms/step - loss: 85.9624 - I_var: -0.1928 - val_loss: 69.5037 - val_I_var: -0.1159\n",
      "Epoch 9/150\n",
      "112/112 [==============================] - 0s 3ms/step - loss: 55.1539 - I_var: -0.0439 - val_loss: 41.2508 - val_I_var: 0.0210\n",
      "Epoch 10/150\n",
      "112/112 [==============================] - 0s 3ms/step - loss: 28.4791 - I_var: 0.0844 - val_loss: 16.7086 - val_I_var: 0.1403\n",
      "Epoch 11/150\n",
      "112/112 [==============================] - 0s 3ms/step - loss: 5.8957 - I_var: 0.1931 - val_loss: -3.7029 - val_I_var: 0.2395\n",
      "Epoch 12/150\n",
      "112/112 [==============================] - 0s 3ms/step - loss: -13.1629 - I_var: 0.2850 - val_loss: -21.4529 - val_I_var: 0.3256\n",
      "Epoch 13/150\n",
      "112/112 [==============================] - 0s 3ms/step - loss: -28.5271 - I_var: 0.3589 - val_loss: -34.7808 - val_I_var: 0.3904\n",
      "Epoch 14/150\n",
      "112/112 [==============================] - 0s 3ms/step - loss: -41.3864 - I_var: 0.4208 - val_loss: -45.0138 - val_I_var: 0.4401\n",
      "Epoch 15/150\n",
      "112/112 [==============================] - 0s 3ms/step - loss: -50.3121 - I_var: 0.4637 - val_loss: -55.2404 - val_I_var: 0.4897\n",
      "Epoch 16/150\n",
      "112/112 [==============================] - 0s 3ms/step - loss: -59.1045 - I_var: 0.5063 - val_loss: -62.1861 - val_I_var: 0.5235\n",
      "Epoch 17/150\n",
      "112/112 [==============================] - 0s 3ms/step - loss: -65.2244 - I_var: 0.5355 - val_loss: -67.5664 - val_I_var: 0.5495\n",
      "Epoch 18/150\n",
      "112/112 [==============================] - 0s 3ms/step - loss: -70.3960 - I_var: 0.5607 - val_loss: -71.5855 - val_I_var: 0.5689\n",
      "Epoch 19/150\n",
      "112/112 [==============================] - 0s 3ms/step - loss: -74.1725 - I_var: 0.5793 - val_loss: -75.6741 - val_I_var: 0.5886\n",
      "Epoch 20/150\n",
      "112/112 [==============================] - 0s 3ms/step - loss: -78.7519 - I_var: 0.6004 - val_loss: -79.8579 - val_I_var: 0.6087\n",
      "Epoch 21/150\n",
      "112/112 [==============================] - 0s 3ms/step - loss: -82.7002 - I_var: 0.6191 - val_loss: -83.1321 - val_I_var: 0.6244\n",
      "Epoch 22/150\n",
      "112/112 [==============================] - 0s 3ms/step - loss: -86.2317 - I_var: 0.6367 - val_loss: -86.1021 - val_I_var: 0.6385\n",
      "Epoch 23/150\n",
      "112/112 [==============================] - 0s 3ms/step - loss: -90.2909 - I_var: 0.6567 - val_loss: -89.6452 - val_I_var: 0.6554\n",
      "Epoch 24/150\n",
      "112/112 [==============================] - 0s 3ms/step - loss: -94.1231 - I_var: 0.6755 - val_loss: -94.3999 - val_I_var: 0.6788\n",
      "Epoch 25/150\n",
      "112/112 [==============================] - 0s 3ms/step - loss: -98.5216 - I_var: 0.6964 - val_loss: -97.8833 - val_I_var: 0.6954\n",
      "Epoch 26/150\n",
      "112/112 [==============================] - 0s 3ms/step - loss: -102.5865 - I_var: 0.7156 - val_loss: -100.5688 - val_I_var: 0.7082\n",
      "Epoch 27/150\n",
      "112/112 [==============================] - 0s 3ms/step - loss: -106.1524 - I_var: 0.7328 - val_loss: -105.8789 - val_I_var: 0.7342\n",
      "Epoch 28/150\n",
      "112/112 [==============================] - 0s 3ms/step - loss: -110.0106 - I_var: 0.7512 - val_loss: -108.0248 - val_I_var: 0.7447\n",
      "Epoch 29/150\n",
      "112/112 [==============================] - 0s 3ms/step - loss: -114.3429 - I_var: 0.7726 - val_loss: -113.2754 - val_I_var: 0.7699\n",
      "Epoch 30/150\n",
      "112/112 [==============================] - 0s 3ms/step - loss: -117.8319 - I_var: 0.7891 - val_loss: -116.5197 - val_I_var: 0.7854\n",
      "Epoch 31/150\n",
      "112/112 [==============================] - 0s 3ms/step - loss: -122.5525 - I_var: 0.8123 - val_loss: -119.5959 - val_I_var: 0.8007\n",
      "Epoch 32/150\n",
      "112/112 [==============================] - 0s 3ms/step - loss: -125.8021 - I_var: 0.8283 - val_loss: -121.1376 - val_I_var: 0.8073\n",
      "Epoch 33/150\n",
      "112/112 [==============================] - 0s 3ms/step - loss: -130.0456 - I_var: 0.8479 - val_loss: -127.2018 - val_I_var: 0.8374\n",
      "Epoch 34/150\n",
      "112/112 [==============================] - 0s 3ms/step - loss: -133.4608 - I_var: 0.8643 - val_loss: -129.4668 - val_I_var: 0.8484\n",
      "Epoch 35/150\n",
      "112/112 [==============================] - 0s 3ms/step - loss: -137.5395 - I_var: 0.8842 - val_loss: -134.5986 - val_I_var: 0.8729\n",
      "Epoch 36/150\n",
      "112/112 [==============================] - 0s 3ms/step - loss: -140.5515 - I_var: 0.8994 - val_loss: -137.2714 - val_I_var: 0.8856\n",
      "Epoch 37/150\n",
      "112/112 [==============================] - 0s 3ms/step - loss: -143.7132 - I_var: 0.9140 - val_loss: -140.1505 - val_I_var: 0.8996\n",
      "Epoch 38/150\n",
      "112/112 [==============================] - 0s 3ms/step - loss: -147.0250 - I_var: 0.9304 - val_loss: -142.3166 - val_I_var: 0.9100\n",
      "Epoch 39/150\n",
      "112/112 [==============================] - 0s 3ms/step - loss: -150.2046 - I_var: 0.9452 - val_loss: -146.0632 - val_I_var: 0.9285\n",
      "Epoch 40/150\n",
      "112/112 [==============================] - 0s 3ms/step - loss: -152.3538 - I_var: 0.9556 - val_loss: -146.1629 - val_I_var: 0.9290\n",
      "Epoch 41/150\n",
      "112/112 [==============================] - 0s 3ms/step - loss: -155.1161 - I_var: 0.9684 - val_loss: -151.0543 - val_I_var: 0.9525\n",
      "Epoch 42/150\n",
      "112/112 [==============================] - 0s 3ms/step - loss: -157.8729 - I_var: 0.9827 - val_loss: -153.0106 - val_I_var: 0.9618\n",
      "Epoch 43/150\n",
      "112/112 [==============================] - 0s 3ms/step - loss: -159.9475 - I_var: 0.9913 - val_loss: -152.7807 - val_I_var: 0.9608\n",
      "Epoch 44/150\n",
      "112/112 [==============================] - 0s 3ms/step - loss: -161.9518 - I_var: 1.0009 - val_loss: -155.9492 - val_I_var: 0.9761\n",
      "Epoch 45/150\n",
      "112/112 [==============================] - 0s 3ms/step - loss: -163.8801 - I_var: 1.0102 - val_loss: -157.4099 - val_I_var: 0.9830\n",
      "Epoch 46/150\n",
      "112/112 [==============================] - 0s 3ms/step - loss: -164.6303 - I_var: 1.0159 - val_loss: -158.9013 - val_I_var: 0.9903\n",
      "Epoch 47/150\n",
      "112/112 [==============================] - 0s 3ms/step - loss: -166.6429 - I_var: 1.0249 - val_loss: -157.5567 - val_I_var: 0.9835\n",
      "Epoch 48/150\n",
      "112/112 [==============================] - 0s 3ms/step - loss: -167.8051 - I_var: 1.0300 - val_loss: -161.1920 - val_I_var: 1.0013\n",
      "Epoch 49/150\n",
      "112/112 [==============================] - 0s 3ms/step - loss: -169.2179 - I_var: 1.0361 - val_loss: -161.0623 - val_I_var: 1.0004\n",
      "Epoch 50/150\n",
      "112/112 [==============================] - 0s 3ms/step - loss: -170.4746 - I_var: 1.0433 - val_loss: -161.3551 - val_I_var: 1.0018\n",
      "Epoch 51/150\n",
      "112/112 [==============================] - 0s 3ms/step - loss: -170.5512 - I_var: 1.0432 - val_loss: -163.4098 - val_I_var: 1.0118\n",
      "Epoch 52/150\n",
      "112/112 [==============================] - 0s 3ms/step - loss: -172.3840 - I_var: 1.0526 - val_loss: -163.6042 - val_I_var: 1.0128\n",
      "Epoch 53/150\n",
      "112/112 [==============================] - 0s 3ms/step - loss: -172.3387 - I_var: 1.0513 - val_loss: -157.4394 - val_I_var: 0.9827\n",
      "Epoch 54/150\n",
      "112/112 [==============================] - 0s 3ms/step - loss: -173.0771 - I_var: 1.0543 - val_loss: -164.5365 - val_I_var: 1.0172\n",
      "Epoch 55/150\n",
      "112/112 [==============================] - 0s 3ms/step - loss: -174.4454 - I_var: 1.0609 - val_loss: -164.8396 - val_I_var: 1.0186\n",
      "Epoch 56/150\n",
      "112/112 [==============================] - 0s 3ms/step - loss: -175.2255 - I_var: 1.0659 - val_loss: -164.0685 - val_I_var: 1.0149\n",
      "Epoch 57/150\n",
      "112/112 [==============================] - 0s 3ms/step - loss: -175.6689 - I_var: 1.0676 - val_loss: -164.8036 - val_I_var: 1.0183\n",
      "Epoch 58/150\n"
     ]
    },
    {
     "name": "stdout",
     "output_type": "stream",
     "text": [
      "112/112 [==============================] - 0s 3ms/step - loss: -175.6209 - I_var: 1.0679 - val_loss: -163.8080 - val_I_var: 1.0137\n",
      "Epoch 59/150\n",
      "112/112 [==============================] - 0s 3ms/step - loss: -175.6476 - I_var: 1.0681 - val_loss: -165.4262 - val_I_var: 1.0214\n",
      "Epoch 60/150\n",
      "112/112 [==============================] - 0s 3ms/step - loss: -176.4526 - I_var: 1.0724 - val_loss: -165.7214 - val_I_var: 1.0227\n",
      "Epoch 61/150\n",
      "112/112 [==============================] - 0s 3ms/step - loss: -176.7901 - I_var: 1.0727 - val_loss: -165.3885 - val_I_var: 1.0211\n",
      "Epoch 62/150\n",
      "112/112 [==============================] - 0s 3ms/step - loss: -177.4139 - I_var: 1.0762 - val_loss: -162.3531 - val_I_var: 1.0062\n",
      "Epoch 63/150\n",
      "112/112 [==============================] - 0s 3ms/step - loss: -178.0303 - I_var: 1.0798 - val_loss: -162.6450 - val_I_var: 1.0078\n",
      "Epoch 64/150\n",
      "112/112 [==============================] - 0s 3ms/step - loss: -177.8815 - I_var: 1.0792 - val_loss: -163.1777 - val_I_var: 1.0105\n",
      "Epoch 65/150\n",
      "112/112 [==============================] - 0s 3ms/step - loss: -178.0887 - I_var: 1.0798 - val_loss: -163.3248 - val_I_var: 1.0113\n",
      "Epoch 66/150\n",
      "112/112 [==============================] - 0s 3ms/step - loss: -178.9264 - I_var: 1.0836 - val_loss: -165.3287 - val_I_var: 1.0207\n",
      "Epoch 67/150\n",
      "112/112 [==============================] - 0s 3ms/step - loss: -178.7870 - I_var: 1.0833 - val_loss: -165.5682 - val_I_var: 1.0220\n",
      "Epoch 68/150\n",
      "112/112 [==============================] - 0s 3ms/step - loss: -178.9818 - I_var: 1.0837 - val_loss: -165.1076 - val_I_var: 1.0197\n",
      "Epoch 69/150\n",
      "112/112 [==============================] - 0s 3ms/step - loss: -178.9823 - I_var: 1.0831 - val_loss: -164.4005 - val_I_var: 1.0162\n",
      "Epoch 70/150\n",
      "112/112 [==============================] - 0s 3ms/step - loss: -179.4031 - I_var: 1.0863 - val_loss: -165.6409 - val_I_var: 1.0223\n",
      "Epoch 71/150\n",
      "112/112 [==============================] - 0s 3ms/step - loss: -178.8862 - I_var: 1.0826 - val_loss: -165.7021 - val_I_var: 1.0227\n",
      "Epoch 72/150\n",
      "112/112 [==============================] - 0s 3ms/step - loss: -179.8584 - I_var: 1.0880 - val_loss: -165.5478 - val_I_var: 1.0219\n",
      "Epoch 73/150\n",
      "112/112 [==============================] - 0s 3ms/step - loss: -178.7946 - I_var: 1.0828 - val_loss: -164.3232 - val_I_var: 1.0160\n",
      "Epoch 74/150\n",
      "112/112 [==============================] - 0s 3ms/step - loss: -179.9519 - I_var: 1.0886 - val_loss: -165.6714 - val_I_var: 1.0226\n",
      "Epoch 75/150\n",
      "112/112 [==============================] - 0s 3ms/step - loss: -180.2913 - I_var: 1.0911 - val_loss: -165.1371 - val_I_var: 1.0199\n",
      "Epoch 76/150\n",
      "112/112 [==============================] - 0s 3ms/step - loss: -180.1597 - I_var: 1.0886 - val_loss: -165.6626 - val_I_var: 1.0226\n",
      "Epoch 77/150\n",
      "112/112 [==============================] - 0s 3ms/step - loss: -180.5606 - I_var: 1.0925 - val_loss: -165.1494 - val_I_var: 1.0201\n",
      "Epoch 78/150\n",
      "112/112 [==============================] - 0s 3ms/step - loss: -180.8541 - I_var: 1.0935 - val_loss: -165.3691 - val_I_var: 1.0211\n",
      "Epoch 79/150\n",
      "112/112 [==============================] - 0s 3ms/step - loss: -181.2934 - I_var: 1.0942 - val_loss: -165.3877 - val_I_var: 1.0214\n",
      "Epoch 80/150\n",
      "112/112 [==============================] - 0s 3ms/step - loss: -181.1542 - I_var: 1.0936 - val_loss: -165.0150 - val_I_var: 1.0195\n",
      "Epoch 81/150\n",
      "112/112 [==============================] - 0s 3ms/step - loss: -180.6773 - I_var: 1.0930 - val_loss: -164.6528 - val_I_var: 1.0178\n",
      "Epoch 82/150\n",
      "112/112 [==============================] - 0s 3ms/step - loss: -180.9151 - I_var: 1.0928 - val_loss: -163.7065 - val_I_var: 1.0133\n",
      "Epoch 83/150\n",
      "112/112 [==============================] - 0s 3ms/step - loss: -181.6725 - I_var: 1.0955 - val_loss: -163.7820 - val_I_var: 1.0136\n",
      "Epoch 84/150\n",
      "112/112 [==============================] - 0s 3ms/step - loss: -181.3683 - I_var: 1.0966 - val_loss: -165.5012 - val_I_var: 1.0220\n",
      "Epoch 85/150\n",
      "112/112 [==============================] - 0s 3ms/step - loss: -181.3280 - I_var: 1.0955 - val_loss: -165.5061 - val_I_var: 1.0221\n",
      "Epoch 86/150\n",
      "112/112 [==============================] - 0s 3ms/step - loss: -181.3196 - I_var: 1.0945 - val_loss: -161.6140 - val_I_var: 1.0031\n",
      "Epoch 87/150\n",
      "112/112 [==============================] - 0s 3ms/step - loss: -181.6932 - I_var: 1.0968 - val_loss: -164.9816 - val_I_var: 1.0195\n",
      "Epoch 88/150\n",
      "112/112 [==============================] - 0s 3ms/step - loss: -181.5128 - I_var: 1.0962 - val_loss: -165.1472 - val_I_var: 1.0204\n",
      "Epoch 89/150\n",
      "112/112 [==============================] - 0s 3ms/step - loss: -181.1642 - I_var: 1.0945 - val_loss: -165.4375 - val_I_var: 1.0219\n",
      "Epoch 90/150\n",
      "112/112 [==============================] - 0s 3ms/step - loss: -181.8798 - I_var: 1.0975 - val_loss: -165.2569 - val_I_var: 1.0210\n",
      "Epoch 91/150\n",
      "112/112 [==============================] - 0s 3ms/step - loss: -182.0778 - I_var: 1.0984 - val_loss: -164.4814 - val_I_var: 1.0172\n",
      "Epoch 92/150\n",
      "112/112 [==============================] - 0s 3ms/step - loss: -181.5450 - I_var: 1.0951 - val_loss: -165.3329 - val_I_var: 1.0216\n",
      "Epoch 93/150\n",
      "112/112 [==============================] - 0s 3ms/step - loss: -182.1881 - I_var: 1.0993 - val_loss: -163.9775 - val_I_var: 1.0149\n",
      "Epoch 94/150\n",
      "112/112 [==============================] - 0s 3ms/step - loss: -182.2812 - I_var: 1.1000 - val_loss: -164.7718 - val_I_var: 1.0189\n",
      "Epoch 95/150\n",
      "112/112 [==============================] - 0s 3ms/step - loss: -181.9963 - I_var: 1.0985 - val_loss: -161.5265 - val_I_var: 1.0029\n",
      "Epoch 96/150\n",
      "112/112 [==============================] - 0s 3ms/step - loss: -181.9201 - I_var: 1.0980 - val_loss: -165.4394 - val_I_var: 1.0221\n",
      "Epoch 97/150\n",
      "112/112 [==============================] - 0s 3ms/step - loss: -182.8464 - I_var: 1.1022 - val_loss: -165.3516 - val_I_var: 1.0217\n",
      "Epoch 98/150\n",
      "112/112 [==============================] - 0s 3ms/step - loss: -182.1595 - I_var: 1.0999 - val_loss: -161.6562 - val_I_var: 1.0037\n",
      "Epoch 99/150\n",
      "112/112 [==============================] - 0s 3ms/step - loss: -182.0617 - I_var: 1.0978 - val_loss: -161.9937 - val_I_var: 1.0053\n",
      "Epoch 100/150\n",
      "112/112 [==============================] - 0s 3ms/step - loss: -182.4596 - I_var: 1.1010 - val_loss: -164.0609 - val_I_var: 1.0155\n",
      "Epoch 101/150\n",
      "112/112 [==============================] - 0s 3ms/step - loss: -181.6683 - I_var: 1.0968 - val_loss: -165.0282 - val_I_var: 1.0203\n",
      "Epoch 102/150\n",
      "112/112 [==============================] - 0s 3ms/step - loss: -182.6109 - I_var: 1.1016 - val_loss: -165.0646 - val_I_var: 1.0205\n",
      "Epoch 103/150\n",
      "112/112 [==============================] - 0s 3ms/step - loss: -183.0542 - I_var: 1.1043 - val_loss: -164.4670 - val_I_var: 1.0176\n",
      "Epoch 104/150\n",
      "112/112 [==============================] - 0s 3ms/step - loss: -182.7933 - I_var: 1.1015 - val_loss: -164.8065 - val_I_var: 1.0194\n",
      "Epoch 105/150\n",
      "112/112 [==============================] - 0s 3ms/step - loss: -182.6471 - I_var: 1.1022 - val_loss: -163.6572 - val_I_var: 1.0138\n",
      "Epoch 106/150\n",
      "112/112 [==============================] - 0s 3ms/step - loss: -182.8473 - I_var: 1.1028 - val_loss: -164.7167 - val_I_var: 1.0190\n",
      "Epoch 107/150\n",
      "112/112 [==============================] - 0s 3ms/step - loss: -182.9055 - I_var: 1.1030 - val_loss: -165.1189 - val_I_var: 1.0211\n",
      "Epoch 108/150\n",
      "112/112 [==============================] - 0s 3ms/step - loss: -182.9497 - I_var: 1.1029 - val_loss: -165.2689 - val_I_var: 1.0219\n",
      "Epoch 109/150\n",
      "112/112 [==============================] - 0s 3ms/step - loss: -182.9735 - I_var: 1.1043 - val_loss: -163.7983 - val_I_var: 1.0149\n",
      "Epoch 110/150\n",
      "112/112 [==============================] - 0s 3ms/step - loss: -182.8242 - I_var: 1.1017 - val_loss: -165.1844 - val_I_var: 1.0215\n",
      "Epoch 111/150\n",
      "112/112 [==============================] - 0s 3ms/step - loss: -182.1629 - I_var: 1.0996 - val_loss: -164.9119 - val_I_var: 1.0202\n",
      "Epoch 112/150\n",
      "112/112 [==============================] - 0s 3ms/step - loss: -183.1614 - I_var: 1.1050 - val_loss: -164.6954 - val_I_var: 1.0191\n",
      "Epoch 113/150\n",
      "112/112 [==============================] - 0s 3ms/step - loss: -183.0893 - I_var: 1.1033 - val_loss: -164.9200 - val_I_var: 1.0203\n",
      "Epoch 114/150\n",
      "112/112 [==============================] - 0s 3ms/step - loss: -182.4665 - I_var: 1.0999 - val_loss: -164.2716 - val_I_var: 1.0172\n"
     ]
    },
    {
     "name": "stdout",
     "output_type": "stream",
     "text": [
      "Epoch 115/150\n",
      "112/112 [==============================] - 0s 3ms/step - loss: -182.8777 - I_var: 1.1020 - val_loss: -165.3510 - val_I_var: 1.0225\n",
      "Epoch 116/150\n",
      "112/112 [==============================] - 0s 3ms/step - loss: -183.3293 - I_var: 1.1044 - val_loss: -163.9081 - val_I_var: 1.0156\n",
      "Epoch 117/150\n",
      "112/112 [==============================] - 0s 3ms/step - loss: -182.9145 - I_var: 1.1029 - val_loss: -163.8983 - val_I_var: 1.0156\n",
      "Epoch 118/150\n",
      "112/112 [==============================] - 0s 3ms/step - loss: -183.4930 - I_var: 1.1064 - val_loss: -156.2287 - val_I_var: 0.9783\n",
      "Epoch 119/150\n",
      "112/112 [==============================] - 0s 3ms/step - loss: -182.4321 - I_var: 1.1003 - val_loss: -164.6682 - val_I_var: 1.0193\n",
      "Epoch 120/150\n",
      "112/112 [==============================] - 0s 3ms/step - loss: -183.5167 - I_var: 1.1060 - val_loss: -164.8251 - val_I_var: 1.0202\n",
      "Epoch 121/150\n",
      "112/112 [==============================] - 0s 3ms/step - loss: -183.4591 - I_var: 1.1059 - val_loss: -165.4969 - val_I_var: 1.0235\n",
      "Epoch 122/150\n",
      "112/112 [==============================] - 0s 3ms/step - loss: -183.6126 - I_var: 1.1065 - val_loss: -165.4534 - val_I_var: 1.0233\n",
      "Epoch 123/150\n",
      "112/112 [==============================] - 0s 3ms/step - loss: -183.3479 - I_var: 1.1054 - val_loss: -163.4886 - val_I_var: 1.0137\n",
      "Epoch 124/150\n",
      "112/112 [==============================] - 0s 3ms/step - loss: -183.8075 - I_var: 1.1073 - val_loss: -165.2043 - val_I_var: 1.0221\n",
      "Epoch 125/150\n",
      "112/112 [==============================] - 0s 3ms/step - loss: -183.2225 - I_var: 1.1052 - val_loss: -163.6791 - val_I_var: 1.0147\n",
      "Epoch 126/150\n",
      "112/112 [==============================] - 0s 3ms/step - loss: -183.2750 - I_var: 1.1042 - val_loss: -161.8466 - val_I_var: 1.0058\n",
      "Epoch 127/150\n",
      "112/112 [==============================] - 0s 3ms/step - loss: -183.5142 - I_var: 1.1057 - val_loss: -165.3134 - val_I_var: 1.0227\n",
      "Epoch 128/150\n",
      "112/112 [==============================] - 0s 3ms/step - loss: -183.2909 - I_var: 1.1057 - val_loss: -163.0783 - val_I_var: 1.0118\n",
      "Epoch 129/150\n",
      "112/112 [==============================] - 0s 3ms/step - loss: -183.4560 - I_var: 1.1058 - val_loss: -165.5169 - val_I_var: 1.0237\n",
      "Epoch 130/150\n",
      "112/112 [==============================] - 0s 3ms/step - loss: -183.7098 - I_var: 1.1060 - val_loss: -165.0180 - val_I_var: 1.0214\n",
      "Epoch 131/150\n",
      "112/112 [==============================] - 0s 3ms/step - loss: -183.7086 - I_var: 1.1069 - val_loss: -165.5249 - val_I_var: 1.0238\n",
      "Epoch 132/150\n",
      "112/112 [==============================] - 0s 3ms/step - loss: -183.8147 - I_var: 1.1067 - val_loss: -165.1443 - val_I_var: 1.0219\n",
      "Epoch 133/150\n",
      "112/112 [==============================] - 0s 3ms/step - loss: -183.4644 - I_var: 1.1053 - val_loss: -160.0369 - val_I_var: 0.9973\n",
      "Epoch 134/150\n",
      "112/112 [==============================] - 0s 3ms/step - loss: -183.2776 - I_var: 1.1046 - val_loss: -164.4921 - val_I_var: 1.0189\n",
      "Epoch 135/150\n",
      "112/112 [==============================] - 0s 3ms/step - loss: -183.7666 - I_var: 1.1069 - val_loss: -162.6685 - val_I_var: 1.0100\n",
      "Epoch 136/150\n",
      "112/112 [==============================] - 0s 3ms/step - loss: -183.7719 - I_var: 1.1068 - val_loss: -165.1158 - val_I_var: 1.0218\n",
      "Epoch 137/150\n",
      "112/112 [==============================] - 0s 3ms/step - loss: -183.7567 - I_var: 1.1065 - val_loss: -161.4644 - val_I_var: 1.0042\n",
      "Epoch 138/150\n",
      "112/112 [==============================] - 0s 3ms/step - loss: -184.1029 - I_var: 1.1075 - val_loss: -163.8633 - val_I_var: 1.0158\n",
      "Epoch 139/150\n",
      "112/112 [==============================] - 0s 3ms/step - loss: -184.1315 - I_var: 1.1085 - val_loss: -158.8369 - val_I_var: 0.9915\n",
      "Epoch 140/150\n",
      "112/112 [==============================] - 0s 3ms/step - loss: -183.8129 - I_var: 1.1076 - val_loss: -165.4884 - val_I_var: 1.0237\n",
      "Epoch 141/150\n",
      "112/112 [==============================] - 0s 3ms/step - loss: -183.9196 - I_var: 1.1068 - val_loss: -162.5853 - val_I_var: 1.0096\n",
      "Epoch 142/150\n",
      "112/112 [==============================] - 0s 3ms/step - loss: -183.9621 - I_var: 1.1079 - val_loss: -163.0032 - val_I_var: 1.0116\n",
      "Epoch 143/150\n",
      "112/112 [==============================] - 0s 3ms/step - loss: -183.5388 - I_var: 1.1055 - val_loss: -165.2734 - val_I_var: 1.0226\n",
      "Epoch 144/150\n",
      "112/112 [==============================] - 0s 3ms/step - loss: -183.7900 - I_var: 1.1067 - val_loss: -165.3064 - val_I_var: 1.0228\n",
      "Epoch 145/150\n",
      "112/112 [==============================] - 0s 3ms/step - loss: -184.4234 - I_var: 1.1100 - val_loss: -163.0921 - val_I_var: 1.0120\n",
      "Epoch 146/150\n",
      "112/112 [==============================] - 0s 3ms/step - loss: -184.2464 - I_var: 1.1096 - val_loss: -165.4251 - val_I_var: 1.0233\n",
      "Epoch 147/150\n",
      "112/112 [==============================] - 0s 3ms/step - loss: -184.4993 - I_var: 1.1097 - val_loss: -165.1052 - val_I_var: 1.0217\n",
      "Epoch 148/150\n",
      "112/112 [==============================] - 0s 3ms/step - loss: -184.3629 - I_var: 1.1097 - val_loss: -165.4511 - val_I_var: 1.0234\n",
      "Epoch 149/150\n",
      "112/112 [==============================] - 0s 3ms/step - loss: -184.3001 - I_var: 1.1097 - val_loss: -165.5100 - val_I_var: 1.0237\n",
      "Epoch 150/150\n",
      "112/112 [==============================] - 0s 3ms/step - loss: -184.3828 - I_var: 1.1098 - val_loss: -162.4126 - val_I_var: 1.0086\n",
      "Training time: 47.2 seconds\n"
     ]
    }
   ],
   "source": [
    "# Fit model to data\n",
    "history = model_GE.fit(learning_rate=.0005,\n",
    "                    epochs=150,\n",
    "                    batch_size=300,\n",
    "                    try_tqdm=False,\n",
    "                    early_stopping=False,\n",
    "                    early_stopping_patience=5,\n",
    "                    linear_initialization=False)"
   ]
  },
  {
   "cell_type": "code",
   "execution_count": 27,
   "metadata": {},
   "outputs": [
    {
     "name": "stdout",
     "output_type": "stream",
     "text": [
      "On test data:\n"
     ]
    },
    {
     "data": {
      "image/png": "[encoded data removed]",
      "text/plain": [
       "<Figure size 576x288 with 2 Axes>"
      ]
     },
     "metadata": {
      "needs_background": "light"
     },
     "output_type": "display_data"
    }
   ],
   "source": [
    "# Show training history\n",
    "print('On test data:')\n",
    "# x_test = test_df['x'].values\n",
    "# y_test = test_df[y_cols].values\n",
    "\n",
    "\n",
    "I_var_hist = model_GE.history['I_var']\n",
    "val_I_var_hist = model_GE.history['val_I_var']\n",
    "\n",
    "fig, axs = plt.subplots(1,2,figsize=[8,4])\n",
    "\n",
    "ax = axs[0]\n",
    "ax.plot(I_var_hist, label='I_var_train')\n",
    "ax.plot(val_I_var_hist, label='I_var_val')\n",
    "ax.legend()\n",
    "ax.set_xlabel('epochs')\n",
    "ax.set_ylabel('bits')\n",
    "#ax.set_xscale('log')\n",
    "ax.set_title('training hisotry')\n",
    "\n",
    "ax = axs[1]\n",
    "ax.plot(model_GE.history['loss'], label='loss_train')\n",
    "ax.plot(model_GE.history['val_loss'], label='loss_val')\n",
    "# ax.set_xlim(100,300)\n",
    "# ax.set_ylim(0.7*1e6,0.8*1e6)\n",
    "ax.legend()\n",
    "ax.set_xlabel('epochs')\n",
    "ax.set_ylabel('loss')\n",
    "# ax.set_xscale('log')\n",
    "# ax.set_yscale('log')\n",
    "ax.set_title('training hisotry')\n",
    "fig.tight_layout()"
   ]
  },
  {
   "cell_type": "code",
   "execution_count": 28,
   "metadata": {},
   "outputs": [],
   "source": [
    "phi = gpmapGE.x_to_phi(x_test_GE)"
   ]
  },
  {
   "cell_type": "code",
   "execution_count": 29,
   "metadata": {},
   "outputs": [
    {
     "data": {
      "image/png": "[encoded data removed]",
      "text/plain": [
       "<Figure size 648x324 with 2 Axes>"
      ]
     },
     "metadata": {
      "needs_background": "light"
     },
     "output_type": "display_data"
    }
   ],
   "source": [
    "fig, axs = plt.subplots(1,2, figsize=(9,4.5))\n",
    "\n",
    "ax = axs[0]\n",
    "yhat = mp_GE.phi_to_yhat(phi)\n",
    "ax.scatter(phi,y_test_GE,s=2,alpha=0.2,c='b',label='test data')\n",
    "#ax.scatter(phi,yhat* model.y_std+model.y_mean,s=1,alpha=0.1,c='r',label='$\\hat{y} = g(\\phi)$')\n",
    "ax.scatter(phi,yhat,s=2,alpha=0.3,c='r',label='$\\hat{y} = g(\\phi)$')\n",
    "\n",
    "ax.set_xlabel('latent phenotype ($\\phi$)')\n",
    "ax.set_ylabel('measurement ($y$)')\n",
    "ax.set_title('GRB2-SH3 - binding')\n",
    "leg = ax.legend()\n",
    "\n",
    "for lh in leg.legendHandles: \n",
    "    lh.set_alpha(1)\n",
    "    \n",
    "    \n",
    "ax = axs[1]\n",
    "ax.scatter(yhat,y_test_GE,s=2,alpha=0.2,c='b',label='test data')\n",
    "Rsq = np.corrcoef(yhat.numpy().ravel(),y_test_GE)[0,1]**2\n",
    "\n",
    "ax.set_xlabel('$\\hat{y} = g(\\phi)$')\n",
    "ax.set_ylabel('measurement ($y$)')\n",
    "ax.set_title(f'GRB2-SH3, $R^2 = $ {Rsq:.3f}')\n",
    "leg = ax.legend()\n",
    "\n",
    "for lh in leg.legendHandles: \n",
    "    lh.set_alpha(1)\n",
    "\n",
    "fig.tight_layout()\n",
    "fig.savefig('plots/GRB2_SH3/global_epistasis_binding_binding.png',dpi=300,bbox_inches='tight')    \n"
   ]
  },
  {
   "cell_type": "code",
   "execution_count": 30,
   "metadata": {},
   "outputs": [],
   "source": [
    "theta_lc_GE = gpmapGE.get_theta(model_GE,gauge='consensus')['theta_lc']"
   ]
  },
  {
   "cell_type": "code",
   "execution_count": 31,
   "metadata": {},
   "outputs": [
    {
     "data": {
      "text/plain": [
       "Text(0, 0.5, 'Theta global epistasis')"
      ]
     },
     "execution_count": 31,
     "metadata": {},
     "output_type": "execute_result"
    },
    {
     "data": {
      "image/png": "[encoded data removed]",
      "text/plain": [
       "<Figure size 360x360 with 1 Axes>"
      ]
     },
     "metadata": {
      "needs_background": "light"
     },
     "output_type": "display_data"
    }
   ],
   "source": [
    "plt.figure(figsize=(5,5))\n",
    "plt.scatter(theta_lc_DM.ravel(),theta_lc_GE.ravel(),c='blue',s=5,alpha=0.3)\n",
    "plt.xlabel('Theta discrete monotonic')\n",
    "plt.ylabel('Theta global epistasis')"
   ]
  },
  {
   "cell_type": "code",
   "execution_count": 32,
   "metadata": {},
   "outputs": [
    {
     "data": {
      "text/html": [
       "<div>\n",
       "<style scoped>\n",
       "    .dataframe tbody tr th:only-of-type {\n",
       "        vertical-align: middle;\n",
       "    }\n",
       "\n",
       "    .dataframe tbody tr th {\n",
       "        vertical-align: top;\n",
       "    }\n",
       "\n",
       "    .dataframe thead th {\n",
       "        text-align: right;\n",
       "    }\n",
       "</style>\n",
       "<table border=\"1\" class=\"dataframe\">\n",
       "  <thead>\n",
       "    <tr style=\"text-align: right;\">\n",
       "      <th></th>\n",
       "      <th>Unnamed: 0</th>\n",
       "      <th>Pos</th>\n",
       "      <th>WT_AA</th>\n",
       "      <th>Mut</th>\n",
       "      <th>nt_seq</th>\n",
       "      <th>aa_seq</th>\n",
       "      <th>Nham_nt</th>\n",
       "      <th>Nham_aa</th>\n",
       "      <th>Nmut_codons</th>\n",
       "      <th>STOP</th>\n",
       "      <th>STOP_readthrough</th>\n",
       "      <th>mean_count</th>\n",
       "      <th>fitness</th>\n",
       "      <th>sigma</th>\n",
       "    </tr>\n",
       "  </thead>\n",
       "  <tbody>\n",
       "    <tr>\n",
       "      <th>0</th>\n",
       "      <td>1</td>\n",
       "      <td>1</td>\n",
       "      <td>T</td>\n",
       "      <td>K</td>\n",
       "      <td>NaN</td>\n",
       "      <td>KYVQALFDFDPQEDGELGFRRGDFIHVMDNSDPNWWKGACHGQTGM...</td>\n",
       "      <td>NaN</td>\n",
       "      <td>1</td>\n",
       "      <td>1</td>\n",
       "      <td>False</td>\n",
       "      <td>False</td>\n",
       "      <td>2181.666667</td>\n",
       "      <td>0.010464</td>\n",
       "      <td>0.005995</td>\n",
       "    </tr>\n",
       "    <tr>\n",
       "      <th>1</th>\n",
       "      <td>2</td>\n",
       "      <td>1</td>\n",
       "      <td>T</td>\n",
       "      <td>N</td>\n",
       "      <td>NaN</td>\n",
       "      <td>NYVQALFDFDPQEDGELGFRRGDFIHVMDNSDPNWWKGACHGQTGM...</td>\n",
       "      <td>NaN</td>\n",
       "      <td>1</td>\n",
       "      <td>1</td>\n",
       "      <td>False</td>\n",
       "      <td>False</td>\n",
       "      <td>16.000000</td>\n",
       "      <td>0.028944</td>\n",
       "      <td>0.087284</td>\n",
       "    </tr>\n",
       "    <tr>\n",
       "      <th>2</th>\n",
       "      <td>3</td>\n",
       "      <td>2</td>\n",
       "      <td>Y</td>\n",
       "      <td>K</td>\n",
       "      <td>NaN</td>\n",
       "      <td>TKVQALFDFDPQEDGELGFRRGDFIHVMDNSDPNWWKGACHGQTGM...</td>\n",
       "      <td>NaN</td>\n",
       "      <td>1</td>\n",
       "      <td>1</td>\n",
       "      <td>False</td>\n",
       "      <td>False</td>\n",
       "      <td>23.000000</td>\n",
       "      <td>-0.093964</td>\n",
       "      <td>0.092442</td>\n",
       "    </tr>\n",
       "    <tr>\n",
       "      <th>3</th>\n",
       "      <td>4</td>\n",
       "      <td>2</td>\n",
       "      <td>Y</td>\n",
       "      <td>N</td>\n",
       "      <td>NaN</td>\n",
       "      <td>TNVQALFDFDPQEDGELGFRRGDFIHVMDNSDPNWWKGACHGQTGM...</td>\n",
       "      <td>NaN</td>\n",
       "      <td>1</td>\n",
       "      <td>1</td>\n",
       "      <td>False</td>\n",
       "      <td>False</td>\n",
       "      <td>8892.666667</td>\n",
       "      <td>-0.035080</td>\n",
       "      <td>0.004516</td>\n",
       "    </tr>\n",
       "    <tr>\n",
       "      <th>4</th>\n",
       "      <td>5</td>\n",
       "      <td>2</td>\n",
       "      <td>Y</td>\n",
       "      <td>S</td>\n",
       "      <td>NaN</td>\n",
       "      <td>TSVQALFDFDPQEDGELGFRRGDFIHVMDNSDPNWWKGACHGQTGM...</td>\n",
       "      <td>NaN</td>\n",
       "      <td>1</td>\n",
       "      <td>1</td>\n",
       "      <td>False</td>\n",
       "      <td>False</td>\n",
       "      <td>54.666667</td>\n",
       "      <td>0.044625</td>\n",
       "      <td>0.027825</td>\n",
       "    </tr>\n",
       "    <tr>\n",
       "      <th>...</th>\n",
       "      <td>...</td>\n",
       "      <td>...</td>\n",
       "      <td>...</td>\n",
       "      <td>...</td>\n",
       "      <td>...</td>\n",
       "      <td>...</td>\n",
       "      <td>...</td>\n",
       "      <td>...</td>\n",
       "      <td>...</td>\n",
       "      <td>...</td>\n",
       "      <td>...</td>\n",
       "      <td>...</td>\n",
       "      <td>...</td>\n",
       "      <td>...</td>\n",
       "    </tr>\n",
       "    <tr>\n",
       "      <th>706</th>\n",
       "      <td>707</td>\n",
       "      <td>1</td>\n",
       "      <td>T</td>\n",
       "      <td>A</td>\n",
       "      <td>NaN</td>\n",
       "      <td>AYVQALFDFDPQEDGELGFRRGDFIHVMDNSDPNWWKGACHGQTGM...</td>\n",
       "      <td>NaN</td>\n",
       "      <td>1</td>\n",
       "      <td>1</td>\n",
       "      <td>False</td>\n",
       "      <td>False</td>\n",
       "      <td>11058.666667</td>\n",
       "      <td>-0.013506</td>\n",
       "      <td>0.004341</td>\n",
       "    </tr>\n",
       "    <tr>\n",
       "      <th>707</th>\n",
       "      <td>708</td>\n",
       "      <td>1</td>\n",
       "      <td>T</td>\n",
       "      <td>G</td>\n",
       "      <td>NaN</td>\n",
       "      <td>GYVQALFDFDPQEDGELGFRRGDFIHVMDNSDPNWWKGACHGQTGM...</td>\n",
       "      <td>NaN</td>\n",
       "      <td>1</td>\n",
       "      <td>1</td>\n",
       "      <td>False</td>\n",
       "      <td>False</td>\n",
       "      <td>14.000000</td>\n",
       "      <td>-0.012349</td>\n",
       "      <td>0.071471</td>\n",
       "    </tr>\n",
       "    <tr>\n",
       "      <th>708</th>\n",
       "      <td>709</td>\n",
       "      <td>1</td>\n",
       "      <td>T</td>\n",
       "      <td>V</td>\n",
       "      <td>NaN</td>\n",
       "      <td>VYVQALFDFDPQEDGELGFRRGDFIHVMDNSDPNWWKGACHGQTGM...</td>\n",
       "      <td>NaN</td>\n",
       "      <td>1</td>\n",
       "      <td>1</td>\n",
       "      <td>False</td>\n",
       "      <td>False</td>\n",
       "      <td>57.000000</td>\n",
       "      <td>-0.002641</td>\n",
       "      <td>0.028864</td>\n",
       "    </tr>\n",
       "    <tr>\n",
       "      <th>709</th>\n",
       "      <td>710</td>\n",
       "      <td>1</td>\n",
       "      <td>T</td>\n",
       "      <td>*</td>\n",
       "      <td>NaN</td>\n",
       "      <td>*YVQALFDFDPQEDGELGFRRGDFIHVMDNSDPNWWKGACHGQTGM...</td>\n",
       "      <td>NaN</td>\n",
       "      <td>1</td>\n",
       "      <td>1</td>\n",
       "      <td>True</td>\n",
       "      <td>False</td>\n",
       "      <td>15.000000</td>\n",
       "      <td>-0.219692</td>\n",
       "      <td>0.074135</td>\n",
       "    </tr>\n",
       "    <tr>\n",
       "      <th>710</th>\n",
       "      <td>711</td>\n",
       "      <td>1</td>\n",
       "      <td>T</td>\n",
       "      <td>L</td>\n",
       "      <td>NaN</td>\n",
       "      <td>LYVQALFDFDPQEDGELGFRRGDFIHVMDNSDPNWWKGACHGQTGM...</td>\n",
       "      <td>NaN</td>\n",
       "      <td>1</td>\n",
       "      <td>1</td>\n",
       "      <td>False</td>\n",
       "      <td>False</td>\n",
       "      <td>54.666667</td>\n",
       "      <td>-0.039343</td>\n",
       "      <td>0.029807</td>\n",
       "    </tr>\n",
       "  </tbody>\n",
       "</table>\n",
       "<p>711 rows × 14 columns</p>\n",
       "</div>"
      ],
      "text/plain": [
       "     Unnamed: 0  Pos WT_AA Mut  nt_seq  \\\n",
       "0             1    1     T   K     NaN   \n",
       "1             2    1     T   N     NaN   \n",
       "2             3    2     Y   K     NaN   \n",
       "3             4    2     Y   N     NaN   \n",
       "4             5    2     Y   S     NaN   \n",
       "..          ...  ...   ...  ..     ...   \n",
       "706         707    1     T   A     NaN   \n",
       "707         708    1     T   G     NaN   \n",
       "708         709    1     T   V     NaN   \n",
       "709         710    1     T   *     NaN   \n",
       "710         711    1     T   L     NaN   \n",
       "\n",
       "                                                aa_seq  Nham_nt  Nham_aa  \\\n",
       "0    KYVQALFDFDPQEDGELGFRRGDFIHVMDNSDPNWWKGACHGQTGM...      NaN        1   \n",
       "1    NYVQALFDFDPQEDGELGFRRGDFIHVMDNSDPNWWKGACHGQTGM...      NaN        1   \n",
       "2    TKVQALFDFDPQEDGELGFRRGDFIHVMDNSDPNWWKGACHGQTGM...      NaN        1   \n",
       "3    TNVQALFDFDPQEDGELGFRRGDFIHVMDNSDPNWWKGACHGQTGM...      NaN        1   \n",
       "4    TSVQALFDFDPQEDGELGFRRGDFIHVMDNSDPNWWKGACHGQTGM...      NaN        1   \n",
       "..                                                 ...      ...      ...   \n",
       "706  AYVQALFDFDPQEDGELGFRRGDFIHVMDNSDPNWWKGACHGQTGM...      NaN        1   \n",
       "707  GYVQALFDFDPQEDGELGFRRGDFIHVMDNSDPNWWKGACHGQTGM...      NaN        1   \n",
       "708  VYVQALFDFDPQEDGELGFRRGDFIHVMDNSDPNWWKGACHGQTGM...      NaN        1   \n",
       "709  *YVQALFDFDPQEDGELGFRRGDFIHVMDNSDPNWWKGACHGQTGM...      NaN        1   \n",
       "710  LYVQALFDFDPQEDGELGFRRGDFIHVMDNSDPNWWKGACHGQTGM...      NaN        1   \n",
       "\n",
       "     Nmut_codons   STOP  STOP_readthrough    mean_count   fitness     sigma  \n",
       "0              1  False             False   2181.666667  0.010464  0.005995  \n",
       "1              1  False             False     16.000000  0.028944  0.087284  \n",
       "2              1  False             False     23.000000 -0.093964  0.092442  \n",
       "3              1  False             False   8892.666667 -0.035080  0.004516  \n",
       "4              1  False             False     54.666667  0.044625  0.027825  \n",
       "..           ...    ...               ...           ...       ...       ...  \n",
       "706            1  False             False  11058.666667 -0.013506  0.004341  \n",
       "707            1  False             False     14.000000 -0.012349  0.071471  \n",
       "708            1  False             False     57.000000 -0.002641  0.028864  \n",
       "709            1   True             False     15.000000 -0.219692  0.074135  \n",
       "710            1  False             False     54.666667 -0.039343  0.029807  \n",
       "\n",
       "[711 rows x 14 columns]"
      ]
     },
     "execution_count": 32,
     "metadata": {},
     "output_type": "execute_result"
    }
   ],
   "source": [
    "lehner_binding_singles_df = pd.read_csv('data/GRB2-SH3.singles_binding.csv')\n",
    "lehner_binding_singles_df"
   ]
  },
  {
   "cell_type": "code",
   "execution_count": 33,
   "metadata": {},
   "outputs": [
    {
     "data": {
      "text/html": [
       "<div>\n",
       "<style scoped>\n",
       "    .dataframe tbody tr th:only-of-type {\n",
       "        vertical-align: middle;\n",
       "    }\n",
       "\n",
       "    .dataframe tbody tr th {\n",
       "        vertical-align: top;\n",
       "    }\n",
       "\n",
       "    .dataframe thead th {\n",
       "        text-align: right;\n",
       "    }\n",
       "</style>\n",
       "<table border=\"1\" class=\"dataframe\">\n",
       "  <thead>\n",
       "    <tr style=\"text-align: right;\">\n",
       "      <th></th>\n",
       "      <th>A</th>\n",
       "      <th>C</th>\n",
       "      <th>D</th>\n",
       "      <th>E</th>\n",
       "      <th>F</th>\n",
       "      <th>G</th>\n",
       "      <th>H</th>\n",
       "      <th>I</th>\n",
       "      <th>K</th>\n",
       "      <th>L</th>\n",
       "      <th>...</th>\n",
       "      <th>N</th>\n",
       "      <th>P</th>\n",
       "      <th>Q</th>\n",
       "      <th>R</th>\n",
       "      <th>S</th>\n",
       "      <th>T</th>\n",
       "      <th>V</th>\n",
       "      <th>W</th>\n",
       "      <th>Y</th>\n",
       "      <th>*</th>\n",
       "    </tr>\n",
       "  </thead>\n",
       "  <tbody>\n",
       "    <tr>\n",
       "      <th>0</th>\n",
       "      <td>NaN</td>\n",
       "      <td>NaN</td>\n",
       "      <td>NaN</td>\n",
       "      <td>NaN</td>\n",
       "      <td>NaN</td>\n",
       "      <td>NaN</td>\n",
       "      <td>NaN</td>\n",
       "      <td>NaN</td>\n",
       "      <td>NaN</td>\n",
       "      <td>NaN</td>\n",
       "      <td>...</td>\n",
       "      <td>NaN</td>\n",
       "      <td>NaN</td>\n",
       "      <td>NaN</td>\n",
       "      <td>NaN</td>\n",
       "      <td>NaN</td>\n",
       "      <td>NaN</td>\n",
       "      <td>NaN</td>\n",
       "      <td>NaN</td>\n",
       "      <td>NaN</td>\n",
       "      <td>NaN</td>\n",
       "    </tr>\n",
       "    <tr>\n",
       "      <th>1</th>\n",
       "      <td>NaN</td>\n",
       "      <td>NaN</td>\n",
       "      <td>NaN</td>\n",
       "      <td>NaN</td>\n",
       "      <td>NaN</td>\n",
       "      <td>NaN</td>\n",
       "      <td>NaN</td>\n",
       "      <td>NaN</td>\n",
       "      <td>NaN</td>\n",
       "      <td>NaN</td>\n",
       "      <td>...</td>\n",
       "      <td>NaN</td>\n",
       "      <td>NaN</td>\n",
       "      <td>NaN</td>\n",
       "      <td>NaN</td>\n",
       "      <td>NaN</td>\n",
       "      <td>NaN</td>\n",
       "      <td>NaN</td>\n",
       "      <td>NaN</td>\n",
       "      <td>NaN</td>\n",
       "      <td>NaN</td>\n",
       "    </tr>\n",
       "    <tr>\n",
       "      <th>2</th>\n",
       "      <td>NaN</td>\n",
       "      <td>NaN</td>\n",
       "      <td>NaN</td>\n",
       "      <td>NaN</td>\n",
       "      <td>NaN</td>\n",
       "      <td>NaN</td>\n",
       "      <td>NaN</td>\n",
       "      <td>NaN</td>\n",
       "      <td>NaN</td>\n",
       "      <td>NaN</td>\n",
       "      <td>...</td>\n",
       "      <td>NaN</td>\n",
       "      <td>NaN</td>\n",
       "      <td>NaN</td>\n",
       "      <td>NaN</td>\n",
       "      <td>NaN</td>\n",
       "      <td>NaN</td>\n",
       "      <td>NaN</td>\n",
       "      <td>NaN</td>\n",
       "      <td>NaN</td>\n",
       "      <td>NaN</td>\n",
       "    </tr>\n",
       "    <tr>\n",
       "      <th>3</th>\n",
       "      <td>NaN</td>\n",
       "      <td>NaN</td>\n",
       "      <td>NaN</td>\n",
       "      <td>NaN</td>\n",
       "      <td>NaN</td>\n",
       "      <td>NaN</td>\n",
       "      <td>NaN</td>\n",
       "      <td>NaN</td>\n",
       "      <td>NaN</td>\n",
       "      <td>NaN</td>\n",
       "      <td>...</td>\n",
       "      <td>NaN</td>\n",
       "      <td>NaN</td>\n",
       "      <td>NaN</td>\n",
       "      <td>NaN</td>\n",
       "      <td>NaN</td>\n",
       "      <td>NaN</td>\n",
       "      <td>NaN</td>\n",
       "      <td>NaN</td>\n",
       "      <td>NaN</td>\n",
       "      <td>NaN</td>\n",
       "    </tr>\n",
       "    <tr>\n",
       "      <th>4</th>\n",
       "      <td>NaN</td>\n",
       "      <td>NaN</td>\n",
       "      <td>NaN</td>\n",
       "      <td>NaN</td>\n",
       "      <td>NaN</td>\n",
       "      <td>NaN</td>\n",
       "      <td>NaN</td>\n",
       "      <td>NaN</td>\n",
       "      <td>NaN</td>\n",
       "      <td>NaN</td>\n",
       "      <td>...</td>\n",
       "      <td>NaN</td>\n",
       "      <td>NaN</td>\n",
       "      <td>NaN</td>\n",
       "      <td>NaN</td>\n",
       "      <td>NaN</td>\n",
       "      <td>NaN</td>\n",
       "      <td>NaN</td>\n",
       "      <td>NaN</td>\n",
       "      <td>NaN</td>\n",
       "      <td>NaN</td>\n",
       "    </tr>\n",
       "  </tbody>\n",
       "</table>\n",
       "<p>5 rows × 21 columns</p>\n",
       "</div>"
      ],
      "text/plain": [
       "    A   C   D   E   F   G   H   I   K   L  ...   N   P   Q   R   S   T   V  \\\n",
       "0 NaN NaN NaN NaN NaN NaN NaN NaN NaN NaN  ... NaN NaN NaN NaN NaN NaN NaN   \n",
       "1 NaN NaN NaN NaN NaN NaN NaN NaN NaN NaN  ... NaN NaN NaN NaN NaN NaN NaN   \n",
       "2 NaN NaN NaN NaN NaN NaN NaN NaN NaN NaN  ... NaN NaN NaN NaN NaN NaN NaN   \n",
       "3 NaN NaN NaN NaN NaN NaN NaN NaN NaN NaN  ... NaN NaN NaN NaN NaN NaN NaN   \n",
       "4 NaN NaN NaN NaN NaN NaN NaN NaN NaN NaN  ... NaN NaN NaN NaN NaN NaN NaN   \n",
       "\n",
       "    W   Y   *  \n",
       "0 NaN NaN NaN  \n",
       "1 NaN NaN NaN  \n",
       "2 NaN NaN NaN  \n",
       "3 NaN NaN NaN  \n",
       "4 NaN NaN NaN  \n",
       "\n",
       "[5 rows x 21 columns]"
      ]
     },
     "execution_count": 33,
     "metadata": {},
     "output_type": "execute_result"
    }
   ],
   "source": [
    "binding_singles_transformed_df = pd.DataFrame(np.nan*np.ones(shape=(57,21)),columns=alphabet)\n",
    "binding_singles_transformed_df.head()"
   ]
  },
  {
   "cell_type": "code",
   "execution_count": 34,
   "metadata": {},
   "outputs": [],
   "source": [
    "for idx in lehner_binding_singles_df.index:\n",
    "\n",
    "    mutant = lehner_binding_singles_df.loc[idx]['Mut']\n",
    "    value = lehner_binding_singles_df.loc[idx]['fitness']\n",
    "    \n",
    "    pos = lehner_binding_singles_df.loc[idx]['Pos']-1\n",
    "    binding_singles_transformed_df[mutant][pos] = value"
   ]
  },
  {
   "cell_type": "code",
   "execution_count": 35,
   "metadata": {},
   "outputs": [
    {
     "data": {
      "image/png": "[encoded data removed]",
      "text/plain": [
       "<Figure size 576x288 with 2 Axes>"
      ]
     },
     "metadata": {
      "needs_background": "light"
     },
     "output_type": "display_data"
    }
   ],
   "source": [
    "fig, axs = plt.subplots(1,2,figsize=(8,4))\n",
    "\n",
    "ax = axs[0]\n",
    "Rsq = np.corrcoef(theta_lc_consensus_EE_df.fillna(0).values.ravel(),binding_singles_transformed_df.fillna(0).values.ravel())[0,1]**2\n",
    "ax.scatter(theta_lc_consensus_EE_df.values.ravel(),binding_singles_transformed_df.values.ravel(),s=3,alpha=0.3,color='blue')\n",
    "ax.set_xlabel(' $\\\\theta$ - exponential enrichment')\n",
    "ax.set_ylabel(' Binding, singles - Lehner')\n",
    "ax.set_title(f'$R^2 = $ {Rsq:.3f}')\n",
    "\n",
    "ax = axs[1]\n",
    "Rsq = np.corrcoef(theta_lc_consensus_DM_df.fillna(0).values.ravel(),binding_singles_transformed_df.fillna(0).values.ravel())[0,1]**2\n",
    "ax.scatter(theta_lc_consensus_DM_df.values.ravel(),binding_singles_transformed_df.values.ravel(),s=3,alpha=0.3,color='blue')\n",
    "ax.set_xlabel(' $\\\\theta$ - discrete monotonic')\n",
    "ax.set_ylabel(' Binding, singles - Lehner')\n",
    "ax.set_title(f'$R^2 = $ {Rsq:.3f}')\n",
    "\n",
    "fig.tight_layout()\n",
    "\n",
    "fig.savefig('plots/GRB2_SH3/GRB2_SH3.singles_binding_comparison_to_Lehner.png',dpi=200,bbox_inches='tight')\n"
   ]
  },
  {
   "cell_type": "code",
   "execution_count": 36,
   "metadata": {},
   "outputs": [
    {
     "data": {
      "image/png": "[encoded data removed]",
      "text/plain": [
       "<Figure size 864x288 with 2 Axes>"
      ]
     },
     "metadata": {
      "needs_background": "light"
     },
     "output_type": "display_data"
    }
   ],
   "source": [
    "# # Create fig and ax objects\n",
    "fig, ax = plt.subplots(figsize=[12,4])\n",
    "\n",
    "# Draw heatmap\n",
    "ax, cb = mavenn.heatmap(ax=ax,\n",
    "                        values=binding_singles_transformed_df.values,\n",
    "                        alphabet=alphabet,\n",
    "                        seq=model_binding_DM.x_stats['consensus_seq'],\n",
    "                        seq_kwargs={'c':'gray', 's':20,'marker':'o'},\n",
    "                        cmap='RdBu',\n",
    "                        cbar=True,\n",
    "                        #clim = [-5,1],\n",
    "                        cmap_size='2%',\n",
    "                        cmap_pad=.3,\n",
    "                        ccenter=0)\n",
    "\n",
    "# Style colorbar\n",
    "cb.set_label('Additive effect - WT gauge ($\\\\theta$)',\n",
    "             labelpad=10, ha='center', va='center', rotation=-90)\n",
    "cb.outline.set_visible(False)\n",
    "cb.ax.tick_params(direction='in', size=20, color='white')\n",
    "ax.set_title('Lehner - binding')\n",
    "\n",
    "fig.savefig('plots/GRB2_SH3/Lehner_GP_map_binding.png',dpi=300,bbox_inches='tight')"
   ]
  },
  {
   "cell_type": "code",
   "execution_count": 37,
   "metadata": {},
   "outputs": [
    {
     "data": {
      "text/html": [
       "<div>\n",
       "<style scoped>\n",
       "    .dataframe tbody tr th:only-of-type {\n",
       "        vertical-align: middle;\n",
       "    }\n",
       "\n",
       "    .dataframe tbody tr th {\n",
       "        vertical-align: top;\n",
       "    }\n",
       "\n",
       "    .dataframe thead th {\n",
       "        text-align: right;\n",
       "    }\n",
       "</style>\n",
       "<table border=\"1\" class=\"dataframe\">\n",
       "  <thead>\n",
       "    <tr style=\"text-align: right;\">\n",
       "      <th></th>\n",
       "      <th>aa_seq</th>\n",
       "      <th>abundance_fitness</th>\n",
       "    </tr>\n",
       "  </thead>\n",
       "  <tbody>\n",
       "    <tr>\n",
       "      <th>0</th>\n",
       "      <td>NYVQALFDFRPQEDGELGFRRGDFIHVMDNSDPNWWKGACHGQTGM...</td>\n",
       "      <td>0.014463</td>\n",
       "    </tr>\n",
       "    <tr>\n",
       "      <th>1</th>\n",
       "      <td>NYVQALFDFDTQEDGELGFRRGDFIHVMDNSDPNWWKGACHGQTGM...</td>\n",
       "      <td>-0.161291</td>\n",
       "    </tr>\n",
       "    <tr>\n",
       "      <th>2</th>\n",
       "      <td>NYVQALFDFDPQEDEELGFRRGDFIHVMDNSDPNWWKGACHGQTGM...</td>\n",
       "      <td>-0.359899</td>\n",
       "    </tr>\n",
       "    <tr>\n",
       "      <th>3</th>\n",
       "      <td>NYVQALFDFDPQEDGELGRRRGDFIHVMDNSDPNWWKGACHGQTGM...</td>\n",
       "      <td>-1.348834</td>\n",
       "    </tr>\n",
       "    <tr>\n",
       "      <th>4</th>\n",
       "      <td>NYVQALFDFDPQEDGELGGRRGDFIHVMDNSDPNWWKGACHGQTGM...</td>\n",
       "      <td>-1.164175</td>\n",
       "    </tr>\n",
       "    <tr>\n",
       "      <th>...</th>\n",
       "      <td>...</td>\n",
       "      <td>...</td>\n",
       "    </tr>\n",
       "    <tr>\n",
       "      <th>69739</th>\n",
       "      <td>MYVQALFVFDPQEDGELGFRRGDFIHVMDNSDPNWWKGACHGQTGM...</td>\n",
       "      <td>-0.923700</td>\n",
       "    </tr>\n",
       "    <tr>\n",
       "      <th>69740</th>\n",
       "      <td>MYVQALF*FDPQEDGELGFRRGDFIHVMDNSDPNWWKGACHGQTGM...</td>\n",
       "      <td>-1.104500</td>\n",
       "    </tr>\n",
       "    <tr>\n",
       "      <th>69741</th>\n",
       "      <td>MYVQALFCFDPQEDGELGFRRGDFIHVMDNSDPNWWKGACHGQTGM...</td>\n",
       "      <td>-1.097747</td>\n",
       "    </tr>\n",
       "    <tr>\n",
       "      <th>69742</th>\n",
       "      <td>MYVQYLFDFDPQEDGELGFRRGDFIHVMDNSDPNWWKGACHGQTGM...</td>\n",
       "      <td>-1.181016</td>\n",
       "    </tr>\n",
       "    <tr>\n",
       "      <th>69743</th>\n",
       "      <td>MYVQSLFDFDPQEDGELGFRRGDFIHVMDNSDPNWWKGACHGQTGM...</td>\n",
       "      <td>-0.933371</td>\n",
       "    </tr>\n",
       "  </tbody>\n",
       "</table>\n",
       "<p>69744 rows × 2 columns</p>\n",
       "</div>"
      ],
      "text/plain": [
       "                                                  aa_seq  abundance_fitness\n",
       "0      NYVQALFDFRPQEDGELGFRRGDFIHVMDNSDPNWWKGACHGQTGM...           0.014463\n",
       "1      NYVQALFDFDTQEDGELGFRRGDFIHVMDNSDPNWWKGACHGQTGM...          -0.161291\n",
       "2      NYVQALFDFDPQEDEELGFRRGDFIHVMDNSDPNWWKGACHGQTGM...          -0.359899\n",
       "3      NYVQALFDFDPQEDGELGRRRGDFIHVMDNSDPNWWKGACHGQTGM...          -1.348834\n",
       "4      NYVQALFDFDPQEDGELGGRRGDFIHVMDNSDPNWWKGACHGQTGM...          -1.164175\n",
       "...                                                  ...                ...\n",
       "69739  MYVQALFVFDPQEDGELGFRRGDFIHVMDNSDPNWWKGACHGQTGM...          -0.923700\n",
       "69740  MYVQALF*FDPQEDGELGFRRGDFIHVMDNSDPNWWKGACHGQTGM...          -1.104500\n",
       "69741  MYVQALFCFDPQEDGELGFRRGDFIHVMDNSDPNWWKGACHGQTGM...          -1.097747\n",
       "69742  MYVQYLFDFDPQEDGELGFRRGDFIHVMDNSDPNWWKGACHGQTGM...          -1.181016\n",
       "69743  MYVQSLFDFDPQEDGELGFRRGDFIHVMDNSDPNWWKGACHGQTGM...          -0.933371\n",
       "\n",
       "[69744 rows x 2 columns]"
      ]
     },
     "execution_count": 37,
     "metadata": {},
     "output_type": "execute_result"
    }
   ],
   "source": [
    "abundance_data_df_GE = pd.read_csv('abundance_lehner_GE.csv',index_col=[0])\n",
    "abundance_data_df_GE.columns = ['aa_seq','abundance_fitness']\n",
    "abundance_data_df_GE"
   ]
  },
  {
   "cell_type": "code",
   "execution_count": 38,
   "metadata": {},
   "outputs": [
    {
     "data": {
      "text/plain": [
       "57"
      ]
     },
     "execution_count": 38,
     "metadata": {},
     "output_type": "execute_result"
    }
   ],
   "source": [
    "len(abundance_data_df_GE['aa_seq'].values[0])"
   ]
  },
  {
   "cell_type": "code",
   "execution_count": 39,
   "metadata": {},
   "outputs": [],
   "source": [
    "#len(data_df_GE['aa_seq'].values\n",
    "same_seqs = np.intersect1d(data_df_GE['aa_seq'].values,abundance_data_df_GE['aa_seq'].values)"
   ]
  },
  {
   "cell_type": "code",
   "execution_count": 40,
   "metadata": {},
   "outputs": [],
   "source": [
    "same_seqs_binding_df = data_df_GE[data_df_GE['aa_seq'].isin(same_seqs)].reset_index(drop=True)\n",
    "same_seqs_abundance_df = abundance_data_df_GE[abundance_data_df_GE['aa_seq'].isin(same_seqs)].reset_index(drop=True)\n"
   ]
  },
  {
   "cell_type": "code",
   "execution_count": 41,
   "metadata": {},
   "outputs": [
    {
     "data": {
      "text/plain": [
       "0        KYVQALFDFEPQEDGELGFRRGDFIHVMDNSDPNWWKGACHGQTGM...\n",
       "1        KYVQALFDFDPQEDGELGFSRGDFIHVMDNSDPNWWKGACHGQTGM...\n",
       "2        KYVQALFDFDPQEDGELGFRRGDFIHAMDNSDPNWWKGACHGQTGM...\n",
       "3        KYVQALFDFDPQEDGELGFRRGDFIHVKDNSDPNWWKGACHGQTGM...\n",
       "4        KYVQALFDFDPQEDGELGFRRGDFIHVMDNSDPN*WKGACHGQTGM...\n",
       "                               ...                        \n",
       "13835    SYVQALFVFDPQEDGELGFRRGDFIHVMDNSDPNWWKGACHGQTGM...\n",
       "13836    SYVLALFDFDPQEDGELGFRRGDFIHVMDNSDPNWWKGACHGQTGM...\n",
       "13837    SYV*ALFDFDPQEDGELGFRRGDFIHVMDNSDPNWWKGACHGQTGM...\n",
       "13838    LYVQALFDFDPQEDGELGFRRRDFIHVMDNSDPNWWKGACHGQTGM...\n",
       "13839    LYVQALFDFDPQEDGELGFRRGDFIHVMDNSDPNWWKGACHGQTGM...\n",
       "Name: aa_seq, Length: 13840, dtype: object"
      ]
     },
     "execution_count": 41,
     "metadata": {},
     "output_type": "execute_result"
    }
   ],
   "source": [
    "same_seqs_binding_df['aa_seq']"
   ]
  },
  {
   "cell_type": "code",
   "execution_count": 42,
   "metadata": {},
   "outputs": [
    {
     "data": {
      "text/plain": [
       "Index(['aa_seq', 'fitness'], dtype='object')"
      ]
     },
     "execution_count": 42,
     "metadata": {},
     "output_type": "execute_result"
    }
   ],
   "source": [
    "same_seqs_binding_df.columns"
   ]
  },
  {
   "cell_type": "code",
   "execution_count": 43,
   "metadata": {},
   "outputs": [
    {
     "data": {
      "text/plain": [
       "Index(['aa_seq', 'abundance_fitness'], dtype='object')"
      ]
     },
     "execution_count": 43,
     "metadata": {},
     "output_type": "execute_result"
    }
   ],
   "source": [
    "abundance_data_df_GE.columns"
   ]
  },
  {
   "cell_type": "code",
   "execution_count": null,
   "metadata": {},
   "outputs": [],
   "source": [
    "\n"
   ]
  },
  {
   "cell_type": "code",
   "execution_count": 44,
   "metadata": {},
   "outputs": [],
   "source": [
    "#same_seqs_abundance_df.join(same_seqs_binding_df,on='aa_seq',how='inner')\n",
    "sequences = []\n",
    "binding_fitness = []\n",
    "abundance_fitness = []\n",
    "for seq in same_seqs_abundance_df['aa_seq'].values:\n",
    "    if len(same_seqs_binding_df[same_seqs_binding_df['aa_seq']==seq])==1:\n",
    "        sequences.append(seq)\n",
    "        binding_fitness.append(same_seqs_binding_df[same_seqs_binding_df['aa_seq']==seq]['fitness'].values[0])\n",
    "        abundance_fitness.append(same_seqs_abundance_df[same_seqs_abundance_df['aa_seq']==seq]['abundance_fitness'].values[0])\n"
   ]
  },
  {
   "cell_type": "code",
   "execution_count": 45,
   "metadata": {},
   "outputs": [],
   "source": [
    "same_seq_data_dict = {'aa_seq':sequences,\n",
    "                      'binding_fitness':binding_fitness,\n",
    "                      'abundance_fitness':abundance_fitness}"
   ]
  },
  {
   "cell_type": "code",
   "execution_count": 46,
   "metadata": {},
   "outputs": [
    {
     "data": {
      "text/html": [
       "<div>\n",
       "<style scoped>\n",
       "    .dataframe tbody tr th:only-of-type {\n",
       "        vertical-align: middle;\n",
       "    }\n",
       "\n",
       "    .dataframe tbody tr th {\n",
       "        vertical-align: top;\n",
       "    }\n",
       "\n",
       "    .dataframe thead th {\n",
       "        text-align: right;\n",
       "    }\n",
       "</style>\n",
       "<table border=\"1\" class=\"dataframe\">\n",
       "  <thead>\n",
       "    <tr style=\"text-align: right;\">\n",
       "      <th></th>\n",
       "      <th>aa_seq</th>\n",
       "      <th>binding_fitness</th>\n",
       "      <th>abundance_fitness</th>\n",
       "    </tr>\n",
       "  </thead>\n",
       "  <tbody>\n",
       "    <tr>\n",
       "      <th>0</th>\n",
       "      <td>NYVQALFDFDPQEDGELGFRRGDFIHVMDNSDPNWWKGACHGQTGM...</td>\n",
       "      <td>0.028944</td>\n",
       "      <td>0.005356</td>\n",
       "    </tr>\n",
       "    <tr>\n",
       "      <th>1</th>\n",
       "      <td>KYVQALFDFEPQEDGELGFRRGDFIHVMDNSDPNWWKGACHGQTGM...</td>\n",
       "      <td>-0.114049</td>\n",
       "      <td>0.093083</td>\n",
       "    </tr>\n",
       "    <tr>\n",
       "      <th>2</th>\n",
       "      <td>KYVQALFDFDPQEDGELGFRRGDFIHAMDNSDPNWWKGACHGQTGM...</td>\n",
       "      <td>-0.604463</td>\n",
       "      <td>-1.048527</td>\n",
       "    </tr>\n",
       "    <tr>\n",
       "      <th>3</th>\n",
       "      <td>KYVQALFDFDPQEDGELGFRRGDFIHVKDNSDPNWWKGACHGQTGM...</td>\n",
       "      <td>-0.015866</td>\n",
       "      <td>-0.119053</td>\n",
       "    </tr>\n",
       "    <tr>\n",
       "      <th>4</th>\n",
       "      <td>KYVQALFDFDPQEDGELGFRRGDFIHVMDNSDPN*WKGACHGQTGM...</td>\n",
       "      <td>-0.734009</td>\n",
       "      <td>-0.542546</td>\n",
       "    </tr>\n",
       "    <tr>\n",
       "      <th>...</th>\n",
       "      <td>...</td>\n",
       "      <td>...</td>\n",
       "      <td>...</td>\n",
       "    </tr>\n",
       "    <tr>\n",
       "      <th>5710</th>\n",
       "      <td>MYVQALFDFDPQEDGELGFRRGDVIHVMDNSDPNWWKGACHGQTGM...</td>\n",
       "      <td>0.084728</td>\n",
       "      <td>0.129528</td>\n",
       "    </tr>\n",
       "    <tr>\n",
       "      <th>5711</th>\n",
       "      <td>MYVQALFDFDPQEDGELGFRRGDFIHVMDNSDPNWWKGACHGQTGM...</td>\n",
       "      <td>-0.419314</td>\n",
       "      <td>-1.154684</td>\n",
       "    </tr>\n",
       "    <tr>\n",
       "      <th>5712</th>\n",
       "      <td>MYVQALFDFDPQEDGELGFRRGDFIHVMDNSDPNWWKGACHGQTGM...</td>\n",
       "      <td>0.039077</td>\n",
       "      <td>0.037401</td>\n",
       "    </tr>\n",
       "    <tr>\n",
       "      <th>5713</th>\n",
       "      <td>MYVQALFDFDPQEDGELGFRRGDFIHVMDNSDANWWKGACHGQTGM...</td>\n",
       "      <td>-0.168129</td>\n",
       "      <td>-0.103582</td>\n",
       "    </tr>\n",
       "    <tr>\n",
       "      <th>5714</th>\n",
       "      <td>MYVQALFVFDPQEDGELGFRRGDFIHVMDNSDPNWWKGACHGQTGM...</td>\n",
       "      <td>-0.159455</td>\n",
       "      <td>-0.923700</td>\n",
       "    </tr>\n",
       "  </tbody>\n",
       "</table>\n",
       "<p>5715 rows × 3 columns</p>\n",
       "</div>"
      ],
      "text/plain": [
       "                                                 aa_seq  binding_fitness  \\\n",
       "0     NYVQALFDFDPQEDGELGFRRGDFIHVMDNSDPNWWKGACHGQTGM...         0.028944   \n",
       "1     KYVQALFDFEPQEDGELGFRRGDFIHVMDNSDPNWWKGACHGQTGM...        -0.114049   \n",
       "2     KYVQALFDFDPQEDGELGFRRGDFIHAMDNSDPNWWKGACHGQTGM...        -0.604463   \n",
       "3     KYVQALFDFDPQEDGELGFRRGDFIHVKDNSDPNWWKGACHGQTGM...        -0.015866   \n",
       "4     KYVQALFDFDPQEDGELGFRRGDFIHVMDNSDPN*WKGACHGQTGM...        -0.734009   \n",
       "...                                                 ...              ...   \n",
       "5710  MYVQALFDFDPQEDGELGFRRGDVIHVMDNSDPNWWKGACHGQTGM...         0.084728   \n",
       "5711  MYVQALFDFDPQEDGELGFRRGDFIHVMDNSDPNWWKGACHGQTGM...        -0.419314   \n",
       "5712  MYVQALFDFDPQEDGELGFRRGDFIHVMDNSDPNWWKGACHGQTGM...         0.039077   \n",
       "5713  MYVQALFDFDPQEDGELGFRRGDFIHVMDNSDANWWKGACHGQTGM...        -0.168129   \n",
       "5714  MYVQALFVFDPQEDGELGFRRGDFIHVMDNSDPNWWKGACHGQTGM...        -0.159455   \n",
       "\n",
       "      abundance_fitness  \n",
       "0              0.005356  \n",
       "1              0.093083  \n",
       "2             -1.048527  \n",
       "3             -0.119053  \n",
       "4             -0.542546  \n",
       "...                 ...  \n",
       "5710           0.129528  \n",
       "5711          -1.154684  \n",
       "5712           0.037401  \n",
       "5713          -0.103582  \n",
       "5714          -0.923700  \n",
       "\n",
       "[5715 rows x 3 columns]"
      ]
     },
     "execution_count": 46,
     "metadata": {},
     "output_type": "execute_result"
    }
   ],
   "source": [
    "same_seq_data_df = pd.DataFrame(same_seq_data_dict)\n",
    "same_seq_data_df"
   ]
  },
  {
   "cell_type": "code",
   "execution_count": 47,
   "metadata": {},
   "outputs": [],
   "source": [
    "same_seq_data_df.to_csv('same_seq_data.csv',index=False)"
   ]
  },
  {
   "cell_type": "code",
   "execution_count": null,
   "metadata": {},
   "outputs": [],
   "source": []
  },
  {
   "cell_type": "code",
   "execution_count": 48,
   "metadata": {},
   "outputs": [],
   "source": [
    "# joint_df = data_df_GE.merge(abundance_data_df_GE,on='aa_seq',how='inner').reset_index(drop=True).copy()\n",
    "# joint_df.columns = ['aa_seq','binding_fitness','abundance_fitness']\n",
    "# joint_df"
   ]
  },
  {
   "cell_type": "code",
   "execution_count": 49,
   "metadata": {},
   "outputs": [
    {
     "ename": "NameError",
     "evalue": "name 'joint_df' is not defined",
     "output_type": "error",
     "traceback": [
      "\u001b[0;31m---------------------------------------------------------------------------\u001b[0m",
      "\u001b[0;31mNameError\u001b[0m                                 Traceback (most recent call last)",
      "\u001b[0;32m/var/folders/kx/rdhxdz2129n1dd59rnympr580000gp/T/ipykernel_38308/283219769.py\u001b[0m in \u001b[0;36m<module>\u001b[0;34m\u001b[0m\n\u001b[0;32m----> 1\u001b[0;31m \u001b[0mjoint_df\u001b[0m\u001b[0;34m\u001b[0m\u001b[0;34m\u001b[0m\u001b[0m\n\u001b[0m",
      "\u001b[0;31mNameError\u001b[0m: name 'joint_df' is not defined"
     ]
    }
   ],
   "source": [
    "joint_df"
   ]
  },
  {
   "cell_type": "code",
   "execution_count": null,
   "metadata": {},
   "outputs": [],
   "source": [
    "binding_phi = gpmapGE.x_to_phi(same_seq_data_df['aa_seq'].values)"
   ]
  },
  {
   "cell_type": "code",
   "execution_count": null,
   "metadata": {},
   "outputs": [],
   "source": [
    "np.savetxt('binding_phi.txt',binding_phi)"
   ]
  },
  {
   "cell_type": "code",
   "execution_count": null,
   "metadata": {},
   "outputs": [],
   "source": []
  }
 ],
 "metadata": {
  "kernelspec": {
   "display_name": "Python 3 (ipykernel)",
   "language": "python",
   "name": "python3"
  },
  "language_info": {
   "codemirror_mode": {
    "name": "ipython",
    "version": 3
   },
   "file_extension": ".py",
   "mimetype": "text/x-python",
   "name": "python",
   "nbconvert_exporter": "python",
   "pygments_lexer": "ipython3",
   "version": "3.9.7"
  }
 },
 "nbformat": 4,
 "nbformat_minor": 2
}
