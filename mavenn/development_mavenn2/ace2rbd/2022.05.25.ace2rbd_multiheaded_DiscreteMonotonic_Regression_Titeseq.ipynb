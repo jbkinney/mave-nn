{
 "cells": [
  {
   "cell_type": "code",
   "execution_count": null,
   "metadata": {},
   "outputs": [],
   "source": [
    "import numpy as np\n",
    "import pandas as pd\n",
    "import matplotlib.pyplot as plt\n",
    "import sys\n",
    "sys.path.insert(0, '/Users/tareen/Desktop/Research_Projects/2022_mavenn2_github/mavenn')\n",
    "\n",
    "import mavenn\n",
    "import logomaker\n",
    "import seaborn as sns\n",
    "import re\n",
    "\n",
    "%matplotlib inline"
   ]
  },
  {
   "cell_type": "code",
   "execution_count": null,
   "metadata": {},
   "outputs": [],
   "source": [
    "data_df_full = pd.read_csv('../data/2022.05.15.ace2rbd/ace2rbd_raw_counts_lib1.csv')\n",
    "y_cols = list(data_df_full.columns[8:])\n",
    "cols = y_cols.copy()\n",
    "cols.insert(0,'x')\n",
    "data_df = data_df_full[cols].copy()\n",
    "data_df.head(10)"
   ]
  },
  {
   "cell_type": "code",
   "execution_count": null,
   "metadata": {},
   "outputs": [],
   "source": [
    "X = data_df['x']\n",
    "y = data_df[y_cols]"
   ]
  },
  {
   "cell_type": "code",
   "execution_count": null,
   "metadata": {},
   "outputs": [],
   "source": [
    "# set positional argumnets for gpmap function\n",
    "L = len(data_df['x'][0])\n",
    "alphabet=['A', 'C', 'D', 'E', 'F',\n",
    "          'G', 'H', 'I', 'K', 'L',\n",
    "          'M', 'N', 'P', 'Q', 'R',\n",
    "          'S', 'T', 'V', 'W', 'Y', '*']\n",
    "\n",
    "\n",
    "Y = len(y_cols)\n",
    "print(f'L={L}, Y={Y}')"
   ]
  },
  {
   "cell_type": "code",
   "execution_count": null,
   "metadata": {},
   "outputs": [],
   "source": [
    "gpmap = mavenn.gpmap.AdditiveGPMapLayer(L, alphabet)\n",
    "\n",
    "# # instantiate gpmap object\n",
    "# gpmap = mavenn.gpmap.Multi_AdditiveGPMapLayer(L=L, \n",
    "#                                               alphabet=alphabet,\n",
    "#                                               number_latent_nodes=2)\n",
    "\n"
   ]
  },
  {
   "cell_type": "code",
   "execution_count": null,
   "metadata": {},
   "outputs": [],
   "source": [
    "from sklearn.model_selection import train_test_split\n",
    "\n",
    "# split data into training and testing sets\n",
    "x_train, x_test, y_train, y_test = train_test_split(X, y, test_size=0.2)"
   ]
  },
  {
   "cell_type": "code",
   "execution_count": null,
   "metadata": {},
   "outputs": [],
   "source": [
    "# read in parameters\n",
    "\n",
    "# number of reads in each bin summed\n",
    "N_y = np.sum(y,axis=0)"
   ]
  },
  {
   "cell_type": "code",
   "execution_count": null,
   "metadata": {},
   "outputs": [],
   "source": [
    "print(N_y)"
   ]
  },
  {
   "cell_type": "markdown",
   "metadata": {},
   "source": [
    "#### I approximated these values from Fig 2B"
   ]
  },
  {
   "cell_type": "code",
   "execution_count": null,
   "metadata": {},
   "outputs": [],
   "source": [
    "bounds = np.array([[0,180],[180,1400],[1400,10500],[10500,250000]])\n",
    "bounds_df = pd.DataFrame(bounds,columns=['lower_bound','upper_bound'])\n",
    "f_y_lower_bounds = bounds_df['lower_bound'].values\n",
    "f_y_upper_bounds = bounds_df['upper_bound'].values\n",
    "bounds_df"
   ]
  },
  {
   "cell_type": "markdown",
   "metadata": {},
   "source": [
    "### I don't know how to obtain these values\n",
    "Using arbitrary values for now just to be able to debug Titeseq MP.\n",
    "Get these from figure 2B"
   ]
  },
  {
   "cell_type": "code",
   "execution_count": null,
   "metadata": {},
   "outputs": [],
   "source": [
    "mu_neg = 50\n",
    "mu_pos = 700000\n",
    "sigma_neg = 100\n",
    "sigma_pos = 50000"
   ]
  },
  {
   "cell_type": "code",
   "execution_count": null,
   "metadata": {},
   "outputs": [],
   "source": [
    "mp_list = [mavenn.measurement_process_layers.DiscreteMonotonicMP(info_for_layers_dict={'H_y_norm':0},\n",
    "                                                                      Y=4,\n",
    "                                                                      K=50,\n",
    "                                                                      eta=1e-5,)\n",
    "           for mp in range(len(y_cols)//4)\n",
    "          ]"
   ]
  },
  {
   "cell_type": "code",
   "execution_count": null,
   "metadata": {},
   "outputs": [],
   "source": [
    "# there are 16 measurement processes in this \n",
    "len(mp_list)"
   ]
  },
  {
   "cell_type": "code",
   "execution_count": null,
   "metadata": {},
   "outputs": [],
   "source": [
    "model = mavenn.Model2(gpmap=gpmap,\n",
    "                      mp_list=mp_list)"
   ]
  },
  {
   "cell_type": "code",
   "execution_count": null,
   "metadata": {},
   "outputs": [],
   "source": [
    "model.model.summary()"
   ]
  },
  {
   "cell_type": "code",
   "execution_count": null,
   "metadata": {},
   "outputs": [],
   "source": [
    "# Set training data\n",
    "model.set_data(x=x_train,\n",
    "               \n",
    "               y_list=[\n",
    "                       y_train[y_cols[0:4]].values,\n",
    "                       y_train[y_cols[4:8]].values,\n",
    "                       y_train[y_cols[8:12]].values,\n",
    "                       y_train[y_cols[12:16]].values,\n",
    "                       y_train[y_cols[16:20]].values,\n",
    "                       y_train[y_cols[20:24]].values,\n",
    "                       y_train[y_cols[24:28]].values,\n",
    "                       y_train[y_cols[28:32]].values,\n",
    "                       y_train[y_cols[32:36]].values,\n",
    "                       y_train[y_cols[36:40]].values,\n",
    "                       y_train[y_cols[40:44]].values,\n",
    "                       y_train[y_cols[44:48]].values,\n",
    "                       y_train[y_cols[48:52]].values,\n",
    "                       y_train[y_cols[52:56]].values,                   \n",
    "                       y_train[y_cols[56:60]].values,                                      \n",
    "                       y_train[y_cols[60:64]].values,                                                         \n",
    "                      ],\n",
    "\n",
    "               shuffle=False)"
   ]
  },
  {
   "cell_type": "code",
   "execution_count": null,
   "metadata": {},
   "outputs": [],
   "source": [
    "from tensorflow.keras.utils import plot_model\n",
    "plot_model(model.model,show_shapes=True,show_dtype=False,dpi=300,to_file='titeseq_dar.png')"
   ]
  },
  {
   "cell_type": "code",
   "execution_count": null,
   "metadata": {},
   "outputs": [],
   "source": [
    "\n",
    "# Fit model to data\n",
    "model.fit(learning_rate=.0005,\n",
    "          epochs=300,\n",
    "          batch_size=250,\n",
    "          try_tqdm = False,\n",
    "          early_stopping=True,\n",
    "          early_stopping_patience=10,\n",
    "          linear_initialization=False)"
   ]
  },
  {
   "cell_type": "code",
   "execution_count": null,
   "metadata": {},
   "outputs": [],
   "source": [
    "# Show training history\n",
    "print('On test data:')\n",
    "# x_test = test_df['x'].values\n",
    "# y_test = test_df[y_cols].values\n",
    "\n",
    "\n",
    "I_var_hist = model.history['I_var']\n",
    "val_I_var_hist = model.history['val_I_var']\n",
    "\n",
    "fig, ax = plt.subplots(1,1,figsize=[4,4])\n",
    "ax.plot(I_var_hist, label='I_var_train')\n",
    "ax.plot(val_I_var_hist, label='I_var_val')\n",
    "ax.legend()\n",
    "ax.set_xlabel('epochs')\n",
    "ax.set_ylabel('bits')\n",
    "ax.set_title('training hisotry')"
   ]
  },
  {
   "cell_type": "code",
   "execution_count": null,
   "metadata": {},
   "outputs": [],
   "source": [
    "phi = gpmap.x_to_phi(x_test)"
   ]
  },
  {
   "cell_type": "code",
   "execution_count": null,
   "metadata": {},
   "outputs": [],
   "source": [
    "# Get G-P map parameters in matrix form\n",
    "theta = np.squeeze(gpmap.weights[1].numpy())\n",
    "\n",
    "# Create grid in phi space\n",
    "phi_lim = [-5, 3]\n",
    "phi_grid = np.linspace(phi_lim[0], phi_lim[1], 1000)\n",
    "\n",
    "# Create array of allowable y values\n",
    "# Y = mp_mpa.Y    # Y = number of bins\n",
    "# y_lim = [-.5, Y-.5]\n",
    "# y_all = range(Y)\n",
    "\n",
    "# Compute matrix of p(y|phi) values\n",
    "#measurement_process = mp_mpa.p_of_y_given_phi(y_all, phi_grid)\n",
    "\n",
    "# Create figure with two panels\n",
    "fig, axs = plt.subplots(1,1,figsize=[15,5])\n",
    "\n",
    "# Left panel: draw logo using logomaker\n",
    "ax = axs\n",
    "logo = logomaker.Logo(pd.DataFrame(theta,columns=model.alphabet), ax=ax,center_values=True,color_scheme='chemistry')\n",
    "ax.set_ylabel(r'parameter value ($\\theta_{l:c}$)')\n",
    "ax.set_xlabel(r'position ($l$)')\n",
    "ax.set_title('G-P map parameters, Titeseq fit - Discrete agnostic MP')\n",
    "\n",
    "# Right panel: draw measurement process as heatmap\n",
    "# ax = axs[1]\n",
    "# im = ax.imshow(measurement_process,\n",
    "#                cmap='Greens',\n",
    "#                extent=phi_lim+y_lim,\n",
    "#                vmin=0,\n",
    "#                origin='lower',\n",
    "#                interpolation='nearest',\n",
    "#                aspect=\"auto\")\n",
    "# ax.set_yticks(y_all)\n",
    "# ax.set_ylabel('bin number (y)')\n",
    "# ax.set_xlabel('latent phenotype ($\\phi$)')\n",
    "# ax.set_title('measurement process')\n",
    "# cb = plt.colorbar(im)\n",
    "# cb.set_label('probability  $p(y|\\phi)$', rotation=-90, va=\"bottom\")\n",
    "\n",
    "# Fix up plot\n",
    "fig.tight_layout()\n",
    "fig.savefig('ace2rbd_g-p_map_mpa_titeseq_only_DA-MP.png',dpi=300,bbox_inches='tight')\n",
    "plt.show()"
   ]
  },
  {
   "cell_type": "code",
   "execution_count": null,
   "metadata": {},
   "outputs": [],
   "source": [
    "np.save('titeseq_gpmap_discrete_monotonic',logo.df.values.ravel())"
   ]
  },
  {
   "cell_type": "code",
   "execution_count": null,
   "metadata": {},
   "outputs": [],
   "source": [
    "sortseq_gpmap = np.load('sortseq_gpmap_monotonic_agnostic.npy')\n",
    "titeseq_gpmap = np.load('titeseq_gpmap_discrete_monotonic.npy')"
   ]
  },
  {
   "cell_type": "code",
   "execution_count": null,
   "metadata": {},
   "outputs": [],
   "source": [
    "plt.figure(figsize=(5,5))\n",
    "# Compute R^2 between yhat_test and y_test\n",
    "Rsq = np.corrcoef(sortseq_gpmap,titeseq_gpmap)[0, 1]**2\n",
    "\n",
    "# Style plot\n",
    "xlim = [-1.5, 1.5]\n",
    "\n",
    "plt.scatter(sortseq_gpmap,titeseq_gpmap,s=4,color='blue',alpha=0.2)\n",
    "plt.xlabel('Sortseq G-P map parameters')\n",
    "plt.ylabel('Titeseq G-P map parameters')\n",
    "plt.title(f'$R^2$={Rsq:.3}');\n",
    "plt.plot(xlim, xlim, '--', color='k', label='diagonal')\n",
    "plt.xlim(xlim)\n",
    "plt.ylim(xlim)\n",
    "plt.show()"
   ]
  },
  {
   "cell_type": "code",
   "execution_count": null,
   "metadata": {},
   "outputs": [],
   "source": [
    "# Create grid in phi space\n",
    "phi_lim = [-5, 3]\n",
    "phi_grid = np.linspace(phi_lim[0], phi_lim[1], 1000)\n",
    "\n",
    "# Create array of allowable y values\n",
    "Y = mp_list[0].Y    # Y = number of bins\n",
    "y_lim = [-.5, Y-.5]\n",
    "y_all = range(Y)\n",
    "\n",
    "# Compute matrix of p(y|phi) values\n",
    "\n",
    "\n",
    "\n",
    "# Create figure with two panels\n",
    "fig, axs = plt.subplots(4,4,figsize=[16,16])\n",
    "\n",
    "mp_counter = 0\n",
    "for i in range(4):\n",
    "    for j in range(4):\n",
    "        \n",
    "        measurement_process = mp_list[mp_counter].p_of_y_given_phi(y_all, phi_grid)\n",
    "        # Right panel: draw measurement process as heatmap\n",
    "        ax = axs[i,j]\n",
    "\n",
    "        im = ax.imshow(measurement_process,\n",
    "                       cmap='Greens',\n",
    "                       extent=phi_lim+y_lim,\n",
    "                       vmin=0,\n",
    "                       origin='lower',\n",
    "                       interpolation='nearest',\n",
    "                       aspect=\"auto\")\n",
    "        ax.set_yticks(y_all)\n",
    "        ax.set_ylabel('bin number (y)')\n",
    "        ax.set_xlabel('latent phenotype ($\\phi$)')\n",
    "        ax.set_title(f'Titeseq MP-{mp_counter+1} - discrete monotonic')\n",
    "        mp_counter+=1\n",
    "        \n",
    "cb = plt.colorbar(im)\n",
    "cb.set_label('probability  $p(y|\\phi)$', rotation=-90, va=\"bottom\")\n",
    "fig.tight_layout()\n",
    "\n",
    "fig.savefig('ace2rbd_mpa_measurment_prcoess_expression_monotonic.png',dpi=300,bbox_inches='tight')\n"
   ]
  },
  {
   "cell_type": "code",
   "execution_count": null,
   "metadata": {},
   "outputs": [],
   "source": []
  }
 ],
 "metadata": {
  "kernelspec": {
   "display_name": "Python 3 (ipykernel)",
   "language": "python",
   "name": "python3"
  },
  "language_info": {
   "codemirror_mode": {
    "name": "ipython",
    "version": 3
   },
   "file_extension": ".py",
   "mimetype": "text/x-python",
   "name": "python",
   "nbconvert_exporter": "python",
   "pygments_lexer": "ipython3",
   "version": "3.9.7"
  }
 },
 "nbformat": 4,
 "nbformat_minor": 2
}
