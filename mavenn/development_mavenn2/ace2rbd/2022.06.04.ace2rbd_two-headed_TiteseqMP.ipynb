{
 "cells": [
  {
   "cell_type": "code",
   "execution_count": 1,
   "metadata": {},
   "outputs": [],
   "source": [
    "import numpy as np\n",
    "import pandas as pd\n",
    "import matplotlib.pyplot as plt\n",
    "import sys\n",
    "#sys.path.insert(0, '/Users/ammar.tareen/Desktop/Research_projects/mavenn2/')\n",
    "sys.path.insert(0, '/Users/tareen/Desktop/Research_Projects/2022_mavenn2_github/mavenn')\n",
    "\n",
    "import mavenn\n",
    "import logomaker\n",
    "import seaborn as sns\n",
    "import re\n",
    "\n",
    "%matplotlib inline"
   ]
  },
  {
   "cell_type": "code",
   "execution_count": 2,
   "metadata": {},
   "outputs": [
    {
     "data": {
      "text/html": [
       "<div>\n",
       "<style scoped>\n",
       "    .dataframe tbody tr th:only-of-type {\n",
       "        vertical-align: middle;\n",
       "    }\n",
       "\n",
       "    .dataframe tbody tr th {\n",
       "        vertical-align: top;\n",
       "    }\n",
       "\n",
       "    .dataframe thead th {\n",
       "        text-align: right;\n",
       "    }\n",
       "</style>\n",
       "<table border=\"1\" class=\"dataframe\">\n",
       "  <thead>\n",
       "    <tr style=\"text-align: right;\">\n",
       "      <th></th>\n",
       "      <th>x</th>\n",
       "      <th>TiteSeq_01_bin1</th>\n",
       "      <th>TiteSeq_01_bin2</th>\n",
       "      <th>TiteSeq_01_bin3</th>\n",
       "      <th>TiteSeq_01_bin4</th>\n",
       "      <th>TiteSeq_02_bin1</th>\n",
       "      <th>TiteSeq_02_bin2</th>\n",
       "      <th>TiteSeq_02_bin3</th>\n",
       "      <th>TiteSeq_02_bin4</th>\n",
       "      <th>TiteSeq_03_bin1</th>\n",
       "      <th>...</th>\n",
       "      <th>TiteSeq_14_bin3</th>\n",
       "      <th>TiteSeq_14_bin4</th>\n",
       "      <th>TiteSeq_15_bin1</th>\n",
       "      <th>TiteSeq_15_bin2</th>\n",
       "      <th>TiteSeq_15_bin3</th>\n",
       "      <th>TiteSeq_15_bin4</th>\n",
       "      <th>TiteSeq_16_bin1</th>\n",
       "      <th>TiteSeq_16_bin2</th>\n",
       "      <th>TiteSeq_16_bin3</th>\n",
       "      <th>TiteSeq_16_bin4</th>\n",
       "    </tr>\n",
       "  </thead>\n",
       "  <tbody>\n",
       "    <tr>\n",
       "      <th>0</th>\n",
       "      <td>NITNLCPFGEVFNATRFASVYAWNRKRISNCVADYSVLYNSASFST...</td>\n",
       "      <td>0</td>\n",
       "      <td>0</td>\n",
       "      <td>0</td>\n",
       "      <td>0</td>\n",
       "      <td>0</td>\n",
       "      <td>0</td>\n",
       "      <td>0</td>\n",
       "      <td>0</td>\n",
       "      <td>0</td>\n",
       "      <td>...</td>\n",
       "      <td>0</td>\n",
       "      <td>0</td>\n",
       "      <td>0</td>\n",
       "      <td>0</td>\n",
       "      <td>0</td>\n",
       "      <td>0</td>\n",
       "      <td>0</td>\n",
       "      <td>0</td>\n",
       "      <td>0</td>\n",
       "      <td>0</td>\n",
       "    </tr>\n",
       "    <tr>\n",
       "      <th>1</th>\n",
       "      <td>NITNLCPFGEVFSATRFASVYAWNRKRISNCVADYSVLYNSASFST...</td>\n",
       "      <td>0</td>\n",
       "      <td>0</td>\n",
       "      <td>0</td>\n",
       "      <td>0</td>\n",
       "      <td>0</td>\n",
       "      <td>0</td>\n",
       "      <td>0</td>\n",
       "      <td>0</td>\n",
       "      <td>1</td>\n",
       "      <td>...</td>\n",
       "      <td>0</td>\n",
       "      <td>0</td>\n",
       "      <td>21</td>\n",
       "      <td>0</td>\n",
       "      <td>0</td>\n",
       "      <td>0</td>\n",
       "      <td>17</td>\n",
       "      <td>0</td>\n",
       "      <td>0</td>\n",
       "      <td>0</td>\n",
       "    </tr>\n",
       "    <tr>\n",
       "      <th>2</th>\n",
       "      <td>NITNLCPFGEVFNATRFASVYCWNRKRISNCVADYSVLYNSASFST...</td>\n",
       "      <td>6</td>\n",
       "      <td>35</td>\n",
       "      <td>162</td>\n",
       "      <td>4</td>\n",
       "      <td>24</td>\n",
       "      <td>85</td>\n",
       "      <td>80</td>\n",
       "      <td>30</td>\n",
       "      <td>10</td>\n",
       "      <td>...</td>\n",
       "      <td>37</td>\n",
       "      <td>0</td>\n",
       "      <td>151</td>\n",
       "      <td>4</td>\n",
       "      <td>0</td>\n",
       "      <td>0</td>\n",
       "      <td>154</td>\n",
       "      <td>19</td>\n",
       "      <td>0</td>\n",
       "      <td>0</td>\n",
       "    </tr>\n",
       "    <tr>\n",
       "      <th>3</th>\n",
       "      <td>NITNLCPFGEVFFATRFASVYAWNRKRISNCVADYSVLYNSASFST...</td>\n",
       "      <td>0</td>\n",
       "      <td>1</td>\n",
       "      <td>3</td>\n",
       "      <td>439</td>\n",
       "      <td>1</td>\n",
       "      <td>0</td>\n",
       "      <td>14</td>\n",
       "      <td>307</td>\n",
       "      <td>17</td>\n",
       "      <td>...</td>\n",
       "      <td>82</td>\n",
       "      <td>0</td>\n",
       "      <td>180</td>\n",
       "      <td>12</td>\n",
       "      <td>0</td>\n",
       "      <td>12</td>\n",
       "      <td>306</td>\n",
       "      <td>20</td>\n",
       "      <td>0</td>\n",
       "      <td>0</td>\n",
       "    </tr>\n",
       "    <tr>\n",
       "      <th>4</th>\n",
       "      <td>NITNLKPFGEVFNAWRFASVYAWNRKRISNCVADYSVLYNSASFST...</td>\n",
       "      <td>0</td>\n",
       "      <td>0</td>\n",
       "      <td>3</td>\n",
       "      <td>0</td>\n",
       "      <td>0</td>\n",
       "      <td>0</td>\n",
       "      <td>0</td>\n",
       "      <td>0</td>\n",
       "      <td>4</td>\n",
       "      <td>...</td>\n",
       "      <td>0</td>\n",
       "      <td>0</td>\n",
       "      <td>0</td>\n",
       "      <td>0</td>\n",
       "      <td>0</td>\n",
       "      <td>0</td>\n",
       "      <td>0</td>\n",
       "      <td>0</td>\n",
       "      <td>0</td>\n",
       "      <td>0</td>\n",
       "    </tr>\n",
       "    <tr>\n",
       "      <th>5</th>\n",
       "      <td>NITNLCPFGEVFNATRFASVYAWNRKRISNCVADYSVLYNSASFST...</td>\n",
       "      <td>39</td>\n",
       "      <td>7</td>\n",
       "      <td>0</td>\n",
       "      <td>3</td>\n",
       "      <td>83</td>\n",
       "      <td>4</td>\n",
       "      <td>0</td>\n",
       "      <td>14</td>\n",
       "      <td>101</td>\n",
       "      <td>...</td>\n",
       "      <td>0</td>\n",
       "      <td>0</td>\n",
       "      <td>140</td>\n",
       "      <td>4</td>\n",
       "      <td>0</td>\n",
       "      <td>0</td>\n",
       "      <td>56</td>\n",
       "      <td>8</td>\n",
       "      <td>549</td>\n",
       "      <td>0</td>\n",
       "    </tr>\n",
       "    <tr>\n",
       "      <th>6</th>\n",
       "      <td>NITNLCPFGEVFNATRFVSVYAWNRKRISNCVADYSVLYNSASFST...</td>\n",
       "      <td>1</td>\n",
       "      <td>1</td>\n",
       "      <td>24</td>\n",
       "      <td>154</td>\n",
       "      <td>0</td>\n",
       "      <td>0</td>\n",
       "      <td>1</td>\n",
       "      <td>104</td>\n",
       "      <td>3</td>\n",
       "      <td>...</td>\n",
       "      <td>2</td>\n",
       "      <td>0</td>\n",
       "      <td>48</td>\n",
       "      <td>0</td>\n",
       "      <td>0</td>\n",
       "      <td>0</td>\n",
       "      <td>102</td>\n",
       "      <td>1</td>\n",
       "      <td>0</td>\n",
       "      <td>0</td>\n",
       "    </tr>\n",
       "    <tr>\n",
       "      <th>7</th>\n",
       "      <td>NITNLCPFGEVFNATRFASVYAWNRKRISNCVADYSVLYNSASFST...</td>\n",
       "      <td>0</td>\n",
       "      <td>0</td>\n",
       "      <td>0</td>\n",
       "      <td>4</td>\n",
       "      <td>0</td>\n",
       "      <td>0</td>\n",
       "      <td>0</td>\n",
       "      <td>1</td>\n",
       "      <td>0</td>\n",
       "      <td>...</td>\n",
       "      <td>0</td>\n",
       "      <td>0</td>\n",
       "      <td>0</td>\n",
       "      <td>0</td>\n",
       "      <td>0</td>\n",
       "      <td>0</td>\n",
       "      <td>3</td>\n",
       "      <td>0</td>\n",
       "      <td>0</td>\n",
       "      <td>0</td>\n",
       "    </tr>\n",
       "    <tr>\n",
       "      <th>8</th>\n",
       "      <td>NITNLCPFGEVFNATRFASVYAWNRKRISNCVADYSVLYNSASFST...</td>\n",
       "      <td>1</td>\n",
       "      <td>0</td>\n",
       "      <td>59</td>\n",
       "      <td>7</td>\n",
       "      <td>0</td>\n",
       "      <td>4</td>\n",
       "      <td>53</td>\n",
       "      <td>23</td>\n",
       "      <td>3</td>\n",
       "      <td>...</td>\n",
       "      <td>5</td>\n",
       "      <td>0</td>\n",
       "      <td>4</td>\n",
       "      <td>0</td>\n",
       "      <td>0</td>\n",
       "      <td>0</td>\n",
       "      <td>26</td>\n",
       "      <td>4</td>\n",
       "      <td>0</td>\n",
       "      <td>0</td>\n",
       "    </tr>\n",
       "    <tr>\n",
       "      <th>9</th>\n",
       "      <td>NITNLCPFGEVFNATRFASVYAWNRKRISNCVADYSVLYNSASFST...</td>\n",
       "      <td>0</td>\n",
       "      <td>0</td>\n",
       "      <td>0</td>\n",
       "      <td>16</td>\n",
       "      <td>0</td>\n",
       "      <td>0</td>\n",
       "      <td>0</td>\n",
       "      <td>4</td>\n",
       "      <td>0</td>\n",
       "      <td>...</td>\n",
       "      <td>0</td>\n",
       "      <td>0</td>\n",
       "      <td>8</td>\n",
       "      <td>0</td>\n",
       "      <td>0</td>\n",
       "      <td>0</td>\n",
       "      <td>0</td>\n",
       "      <td>0</td>\n",
       "      <td>0</td>\n",
       "      <td>0</td>\n",
       "    </tr>\n",
       "  </tbody>\n",
       "</table>\n",
       "<p>10 rows × 65 columns</p>\n",
       "</div>"
      ],
      "text/plain": [
       "                                                   x  TiteSeq_01_bin1  \\\n",
       "0  NITNLCPFGEVFNATRFASVYAWNRKRISNCVADYSVLYNSASFST...                0   \n",
       "1  NITNLCPFGEVFSATRFASVYAWNRKRISNCVADYSVLYNSASFST...                0   \n",
       "2  NITNLCPFGEVFNATRFASVYCWNRKRISNCVADYSVLYNSASFST...                6   \n",
       "3  NITNLCPFGEVFFATRFASVYAWNRKRISNCVADYSVLYNSASFST...                0   \n",
       "4  NITNLKPFGEVFNAWRFASVYAWNRKRISNCVADYSVLYNSASFST...                0   \n",
       "5  NITNLCPFGEVFNATRFASVYAWNRKRISNCVADYSVLYNSASFST...               39   \n",
       "6  NITNLCPFGEVFNATRFVSVYAWNRKRISNCVADYSVLYNSASFST...                1   \n",
       "7  NITNLCPFGEVFNATRFASVYAWNRKRISNCVADYSVLYNSASFST...                0   \n",
       "8  NITNLCPFGEVFNATRFASVYAWNRKRISNCVADYSVLYNSASFST...                1   \n",
       "9  NITNLCPFGEVFNATRFASVYAWNRKRISNCVADYSVLYNSASFST...                0   \n",
       "\n",
       "   TiteSeq_01_bin2  TiteSeq_01_bin3  TiteSeq_01_bin4  TiteSeq_02_bin1  \\\n",
       "0                0                0                0                0   \n",
       "1                0                0                0                0   \n",
       "2               35              162                4               24   \n",
       "3                1                3              439                1   \n",
       "4                0                3                0                0   \n",
       "5                7                0                3               83   \n",
       "6                1               24              154                0   \n",
       "7                0                0                4                0   \n",
       "8                0               59                7                0   \n",
       "9                0                0               16                0   \n",
       "\n",
       "   TiteSeq_02_bin2  TiteSeq_02_bin3  TiteSeq_02_bin4  TiteSeq_03_bin1  ...  \\\n",
       "0                0                0                0                0  ...   \n",
       "1                0                0                0                1  ...   \n",
       "2               85               80               30               10  ...   \n",
       "3                0               14              307               17  ...   \n",
       "4                0                0                0                4  ...   \n",
       "5                4                0               14              101  ...   \n",
       "6                0                1              104                3  ...   \n",
       "7                0                0                1                0  ...   \n",
       "8                4               53               23                3  ...   \n",
       "9                0                0                4                0  ...   \n",
       "\n",
       "   TiteSeq_14_bin3  TiteSeq_14_bin4  TiteSeq_15_bin1  TiteSeq_15_bin2  \\\n",
       "0                0                0                0                0   \n",
       "1                0                0               21                0   \n",
       "2               37                0              151                4   \n",
       "3               82                0              180               12   \n",
       "4                0                0                0                0   \n",
       "5                0                0              140                4   \n",
       "6                2                0               48                0   \n",
       "7                0                0                0                0   \n",
       "8                5                0                4                0   \n",
       "9                0                0                8                0   \n",
       "\n",
       "   TiteSeq_15_bin3  TiteSeq_15_bin4  TiteSeq_16_bin1  TiteSeq_16_bin2  \\\n",
       "0                0                0                0                0   \n",
       "1                0                0               17                0   \n",
       "2                0                0              154               19   \n",
       "3                0               12              306               20   \n",
       "4                0                0                0                0   \n",
       "5                0                0               56                8   \n",
       "6                0                0              102                1   \n",
       "7                0                0                3                0   \n",
       "8                0                0               26                4   \n",
       "9                0                0                0                0   \n",
       "\n",
       "   TiteSeq_16_bin3  TiteSeq_16_bin4  \n",
       "0                0                0  \n",
       "1                0                0  \n",
       "2                0                0  \n",
       "3                0                0  \n",
       "4                0                0  \n",
       "5              549                0  \n",
       "6                0                0  \n",
       "7                0                0  \n",
       "8                0                0  \n",
       "9                0                0  \n",
       "\n",
       "[10 rows x 65 columns]"
      ]
     },
     "execution_count": 2,
     "metadata": {},
     "output_type": "execute_result"
    }
   ],
   "source": [
    "data_df_full = pd.read_csv('../data/2022.05.15.ace2rbd/ace2rbd_raw_counts_lib1.csv')\n",
    "y_cols = list(data_df_full.columns[8:])\n",
    "cols = y_cols.copy()\n",
    "cols.insert(0,'x')\n",
    "data_df = data_df_full[cols].copy()\n",
    "data_df.head(10)"
   ]
  },
  {
   "cell_type": "code",
   "execution_count": 3,
   "metadata": {},
   "outputs": [],
   "source": [
    "y_cols_1 = list(data_df_full.columns[8:12])\n",
    "y_cols_2 = list(data_df_full.columns[68:72])"
   ]
  },
  {
   "cell_type": "code",
   "execution_count": 4,
   "metadata": {},
   "outputs": [],
   "source": [
    "y = data_df[y_cols_1+y_cols_2]"
   ]
  },
  {
   "cell_type": "code",
   "execution_count": 5,
   "metadata": {},
   "outputs": [],
   "source": [
    "X = data_df['x']\n",
    "#y = data_df[y_cols]"
   ]
  },
  {
   "cell_type": "code",
   "execution_count": 6,
   "metadata": {},
   "outputs": [],
   "source": [
    "from sklearn.model_selection import train_test_split\n",
    "\n",
    "# split data into training and testing sets\n",
    "x_train, x_test, y_train, y_test = train_test_split(X, y, test_size=0.1)"
   ]
  },
  {
   "cell_type": "code",
   "execution_count": 7,
   "metadata": {},
   "outputs": [
    {
     "name": "stdout",
     "output_type": "stream",
     "text": [
      "L=201, Y=8\n"
     ]
    }
   ],
   "source": [
    "# set positional argumnets for gpmap function\n",
    "L = len(data_df['x'][0])\n",
    "alphabet=['A', 'C', 'D', 'E', 'F',\n",
    "          'G', 'H', 'I', 'K', 'L',\n",
    "          'M', 'N', 'P', 'Q', 'R',\n",
    "          'S', 'T', 'V', 'W', 'Y',]\n",
    "\n",
    "\n",
    "#Y = len(y_cols)\n",
    "Y = 8\n",
    "print(f'L={L}, Y={Y}')"
   ]
  },
  {
   "cell_type": "code",
   "execution_count": 8,
   "metadata": {},
   "outputs": [
    {
     "name": "stderr",
     "output_type": "stream",
     "text": [
      "2022-06-06 11:56:38.659012: I tensorflow/core/platform/cpu_feature_guard.cc:151] This TensorFlow binary is optimized with oneAPI Deep Neural Network Library (oneDNN) to use the following CPU instructions in performance-critical operations:  AVX2 FMA\n",
      "To enable them in other operations, rebuild TensorFlow with the appropriate compiler flags.\n"
     ]
    }
   ],
   "source": [
    "# instantiate gpmap object\n",
    "gpmap = mavenn.gpmap.AdditiveGPMapLayer(L, alphabet)\n",
    "\n"
   ]
  },
  {
   "cell_type": "code",
   "execution_count": 9,
   "metadata": {},
   "outputs": [],
   "source": [
    "# read in parameters\n",
    "\n",
    "# number of reads in each bin summed\n",
    "N_y = np.sum(y,axis=0)"
   ]
  },
  {
   "cell_type": "code",
   "execution_count": 10,
   "metadata": {},
   "outputs": [
    {
     "name": "stdout",
     "output_type": "stream",
     "text": [
      "TiteSeq_01_bin1     2579236\n",
      "TiteSeq_01_bin2     1157805\n",
      "TiteSeq_01_bin3     1626103\n",
      "TiteSeq_01_bin4     5929980\n",
      "TiteSeq_16_bin1    10930706\n",
      "TiteSeq_16_bin2      684127\n",
      "TiteSeq_16_bin3     1299065\n",
      "TiteSeq_16_bin4      254070\n",
      "dtype: int64\n"
     ]
    }
   ],
   "source": [
    "print(N_y)"
   ]
  },
  {
   "cell_type": "markdown",
   "metadata": {},
   "source": [
    "#### I approximated these values from Fig 2B"
   ]
  },
  {
   "cell_type": "code",
   "execution_count": 11,
   "metadata": {},
   "outputs": [
    {
     "data": {
      "text/html": [
       "<div>\n",
       "<style scoped>\n",
       "    .dataframe tbody tr th:only-of-type {\n",
       "        vertical-align: middle;\n",
       "    }\n",
       "\n",
       "    .dataframe tbody tr th {\n",
       "        vertical-align: top;\n",
       "    }\n",
       "\n",
       "    .dataframe thead th {\n",
       "        text-align: right;\n",
       "    }\n",
       "</style>\n",
       "<table border=\"1\" class=\"dataframe\">\n",
       "  <thead>\n",
       "    <tr style=\"text-align: right;\">\n",
       "      <th></th>\n",
       "      <th>lower_bound</th>\n",
       "      <th>upper_bound</th>\n",
       "    </tr>\n",
       "  </thead>\n",
       "  <tbody>\n",
       "    <tr>\n",
       "      <th>0</th>\n",
       "      <td>0.000000</td>\n",
       "      <td>5.192957</td>\n",
       "    </tr>\n",
       "    <tr>\n",
       "      <th>1</th>\n",
       "      <td>5.192957</td>\n",
       "      <td>7.244228</td>\n",
       "    </tr>\n",
       "    <tr>\n",
       "      <th>2</th>\n",
       "      <td>7.244228</td>\n",
       "      <td>9.259131</td>\n",
       "    </tr>\n",
       "    <tr>\n",
       "      <th>3</th>\n",
       "      <td>9.259131</td>\n",
       "      <td>12.429216</td>\n",
       "    </tr>\n",
       "  </tbody>\n",
       "</table>\n",
       "</div>"
      ],
      "text/plain": [
       "   lower_bound  upper_bound\n",
       "0     0.000000     5.192957\n",
       "1     5.192957     7.244228\n",
       "2     7.244228     9.259131\n",
       "3     9.259131    12.429216"
      ]
     },
     "execution_count": 11,
     "metadata": {},
     "output_type": "execute_result"
    }
   ],
   "source": [
    "bounds = np.log(np.array([[1,180],[180,1400],[1400,10500],[10500,250000]]))\n",
    "\n",
    "bounds_df = pd.DataFrame(bounds,columns=['lower_bound','upper_bound'])\n",
    "f_y_lower_bounds = bounds_df['lower_bound'].values\n",
    "f_y_upper_bounds = bounds_df['upper_bound'].values\n",
    "bounds_df"
   ]
  },
  {
   "cell_type": "markdown",
   "metadata": {},
   "source": [
    "I don't know how to obtain these values. I based them roughly on Figure 2 from Star et al"
   ]
  },
  {
   "cell_type": "code",
   "execution_count": 12,
   "metadata": {},
   "outputs": [],
   "source": [
    "mu_neg = np.log(50)\n",
    "mu_pos = np.log(70000)\n",
    "\n",
    "# log10 variances\n",
    "# sigma_neg = 1/3.\n",
    "# sigma_pos = 1/3.\n",
    "\n",
    "# sigma_neg = 0.5\n",
    "# sigma_pos = 0.5\n",
    "\n",
    "sigma_neg = 1.5\n",
    "sigma_pos = 1.5\n",
    "\n"
   ]
  },
  {
   "cell_type": "code",
   "execution_count": 13,
   "metadata": {},
   "outputs": [
    {
     "data": {
      "text/plain": [
       "(11.156250521031495, 3.912023005428146)"
      ]
     },
     "execution_count": 13,
     "metadata": {},
     "output_type": "execute_result"
    }
   ],
   "source": [
    "mu_pos, mu_neg"
   ]
  },
  {
   "cell_type": "code",
   "execution_count": 14,
   "metadata": {},
   "outputs": [
    {
     "data": {
      "text/plain": [
       "array([ 5.19295685,  7.24422752,  9.25913054, 12.4292162 ])"
      ]
     },
     "execution_count": 14,
     "metadata": {},
     "output_type": "execute_result"
    }
   ],
   "source": [
    "f_y_upper_bounds"
   ]
  },
  {
   "cell_type": "code",
   "execution_count": 15,
   "metadata": {},
   "outputs": [],
   "source": [
    "#np.arange(10**(-13),10**(-6),10**(-12))\n",
    "cs = [0,10**(-13),10**(-12.5),\n",
    "     10**(-12),10**(-11.5),\n",
    "     10**(-11),10**(-10.5),\n",
    "     10**(-10),10**(-9.5),\n",
    "     10**(-9),10**(-8.5),\n",
    "     10**(-8),10**(-7.5),\n",
    "     10**(-7),10**(-6.5),\n",
    "     10**(-6)]\n",
    "\n",
    "#cs = [0,10**(-6)]\n",
    "#cs = [0.1,0.2]\n",
    "\n",
    "#cs = np.arange(0.1,1,0.06)"
   ]
  },
  {
   "cell_type": "code",
   "execution_count": 16,
   "metadata": {},
   "outputs": [
    {
     "data": {
      "text/plain": [
       "TiteSeq_01_bin1    2579236\n",
       "TiteSeq_01_bin2    1157805\n",
       "TiteSeq_01_bin3    1626103\n",
       "TiteSeq_01_bin4    5929980\n",
       "dtype: int64"
      ]
     },
     "execution_count": 16,
     "metadata": {},
     "output_type": "execute_result"
    }
   ],
   "source": [
    "N_y[0:4]"
   ]
  },
  {
   "cell_type": "code",
   "execution_count": 17,
   "metadata": {},
   "outputs": [],
   "source": [
    "# mp_list = [mavenn.measurement_process_layers.TiteSeqMP(N_y=N_y[4*mp_idx:4*mp_idx+4],\n",
    "#                                                          c=cs[mp_idx],\n",
    "#                                                          Y=4,\n",
    "#                                                          mu_pos=mu_pos,\n",
    "#                                                          sigma_pos=sigma_pos,\n",
    "#                                                          mu_neg=mu_neg,\n",
    "#                                                          sigma_neg=sigma_neg,\n",
    "#                                                          f_y_lower_bounds=f_y_lower_bounds,\n",
    "#                                                          f_y_upper_bounds=f_y_upper_bounds,\n",
    "#                                                          info_for_layers_dict={'H_y_norm':0},\n",
    "#                                                          eta=1e-5,)\n",
    "#            for mp_idx in range(len(y_cols)//4)\n",
    "#           ]"
   ]
  },
  {
   "cell_type": "code",
   "execution_count": 18,
   "metadata": {},
   "outputs": [
    {
     "data": {
      "text/plain": [
       "array([10930706,   684127,  1299065,   254070])"
      ]
     },
     "execution_count": 18,
     "metadata": {},
     "output_type": "execute_result"
    }
   ],
   "source": [
    "N_y[4:8].values"
   ]
  },
  {
   "cell_type": "code",
   "execution_count": 19,
   "metadata": {},
   "outputs": [],
   "source": [
    "TiteSeq_mp_1 = mavenn.measurement_process_layers.TiteSeqMP(N_y=N_y[0:4].values,\n",
    "                                                         c=0.001,\n",
    "                                                         Y=4,\n",
    "                                                         mu_pos=mu_pos,\n",
    "                                                         sigma_pos=sigma_pos,\n",
    "                                                         mu_neg=mu_neg,\n",
    "                                                         sigma_neg=sigma_neg,\n",
    "                                                         f_y_lower_bounds=f_y_lower_bounds,\n",
    "                                                         f_y_upper_bounds=f_y_upper_bounds,\n",
    "                                                         info_for_layers_dict={'H_y_norm':0},\n",
    "                                                         eta=1e-5,\n",
    "                                                         )\n",
    "\n",
    "TiteSeq_mp_2 = mavenn.measurement_process_layers.TiteSeqMP(N_y=N_y[4:8].values,\n",
    "                                                         c=0.0011,\n",
    "                                                         Y=4,\n",
    "                                                         mu_pos=mu_pos,\n",
    "                                                         sigma_pos=sigma_pos,\n",
    "                                                         mu_neg=mu_neg,\n",
    "                                                         sigma_neg=sigma_neg,\n",
    "                                                         f_y_lower_bounds=f_y_lower_bounds,\n",
    "                                                         f_y_upper_bounds=f_y_upper_bounds,\n",
    "                                                         info_for_layers_dict={'H_y_norm':0},\n",
    "                                                         eta=1e-5,\n",
    "                                                         )"
   ]
  },
  {
   "cell_type": "code",
   "execution_count": 20,
   "metadata": {},
   "outputs": [],
   "source": [
    "# model = mavenn.Model2(gpmap=gpmap,\n",
    "#                       mp_list=mp_list)\n",
    "\n",
    "model = mavenn.Model2(gpmap=gpmap,\n",
    "                      mp_list=[TiteSeq_mp_1, TiteSeq_mp_2])"
   ]
  },
  {
   "cell_type": "code",
   "execution_count": 21,
   "metadata": {},
   "outputs": [
    {
     "name": "stdout",
     "output_type": "stream",
     "text": [
      "Model: \"model\"\n",
      "__________________________________________________________________________________________________\n",
      " Layer (type)                   Output Shape         Param #     Connected to                     \n",
      "==================================================================================================\n",
      " Sequence_labels_input (InputLa  [(None, 4028)]      0           []                               \n",
      " yer)                                                                                             \n",
      "                                                                                                  \n",
      " Sequence_only (Lambda)         (None, 4020)         0           ['Sequence_labels_input[0][0]']  \n",
      "                                                                                                  \n",
      " additive_gp_map_layer (Additiv  (None, 1)           4021        ['Sequence_only[0][0]']          \n",
      " eGPMapLayer)                                                                                     \n",
      "                                                                                                  \n",
      " Labels_input_0 (Lambda)        (None, 4)            0           ['Sequence_labels_input[0][0]']  \n",
      "                                                                                                  \n",
      " Labels_input_1 (Lambda)        (None, 4)            0           ['Sequence_labels_input[0][0]']  \n",
      "                                                                                                  \n",
      " concatenate (Concatenate)      (None, 5)            0           ['additive_gp_map_layer[0][0]',  \n",
      "                                                                  'Labels_input_0[0][0]']         \n",
      "                                                                                                  \n",
      " concatenate_1 (Concatenate)    (None, 5)            0           ['additive_gp_map_layer[0][0]',  \n",
      "                                                                  'Labels_input_1[0][0]']         \n",
      "                                                                                                  \n",
      " tite_seq_mp (TiteSeqMP)        (None,)              1           ['concatenate[0][0]']            \n",
      "                                                                                                  \n",
      " tite_seq_mp_1 (TiteSeqMP)      (None,)              1           ['concatenate_1[0][0]']          \n",
      "                                                                                                  \n",
      "==================================================================================================\n",
      "Total params: 4,023\n",
      "Trainable params: 4,023\n",
      "Non-trainable params: 0\n",
      "__________________________________________________________________________________________________\n"
     ]
    }
   ],
   "source": [
    "model.model.summary()"
   ]
  },
  {
   "cell_type": "code",
   "execution_count": 22,
   "metadata": {},
   "outputs": [
    {
     "data": {
      "image/png": "[encoded data removed]",
      "text/plain": [
       "<Figure size 432x288 with 1 Axes>"
      ]
     },
     "metadata": {
      "needs_background": "light"
     },
     "output_type": "display_data"
    }
   ],
   "source": [
    "plt.hist(gpmap.get_weights()[1].ravel(),bins=10)\n",
    "plt.show()"
   ]
  },
  {
   "cell_type": "code",
   "execution_count": 23,
   "metadata": {},
   "outputs": [
    {
     "data": {
      "text/html": [
       "<div>\n",
       "<style scoped>\n",
       "    .dataframe tbody tr th:only-of-type {\n",
       "        vertical-align: middle;\n",
       "    }\n",
       "\n",
       "    .dataframe tbody tr th {\n",
       "        vertical-align: top;\n",
       "    }\n",
       "\n",
       "    .dataframe thead th {\n",
       "        text-align: right;\n",
       "    }\n",
       "</style>\n",
       "<table border=\"1\" class=\"dataframe\">\n",
       "  <thead>\n",
       "    <tr style=\"text-align: right;\">\n",
       "      <th></th>\n",
       "      <th>TiteSeq_16_bin1</th>\n",
       "      <th>TiteSeq_16_bin2</th>\n",
       "      <th>TiteSeq_16_bin3</th>\n",
       "      <th>TiteSeq_16_bin4</th>\n",
       "    </tr>\n",
       "  </thead>\n",
       "  <tbody>\n",
       "    <tr>\n",
       "      <th>24031</th>\n",
       "      <td>74</td>\n",
       "      <td>7</td>\n",
       "      <td>62</td>\n",
       "      <td>0</td>\n",
       "    </tr>\n",
       "    <tr>\n",
       "      <th>56510</th>\n",
       "      <td>0</td>\n",
       "      <td>0</td>\n",
       "      <td>0</td>\n",
       "      <td>0</td>\n",
       "    </tr>\n",
       "    <tr>\n",
       "      <th>25206</th>\n",
       "      <td>23</td>\n",
       "      <td>0</td>\n",
       "      <td>0</td>\n",
       "      <td>0</td>\n",
       "    </tr>\n",
       "    <tr>\n",
       "      <th>86263</th>\n",
       "      <td>27</td>\n",
       "      <td>1</td>\n",
       "      <td>0</td>\n",
       "      <td>0</td>\n",
       "    </tr>\n",
       "    <tr>\n",
       "      <th>46352</th>\n",
       "      <td>29</td>\n",
       "      <td>0</td>\n",
       "      <td>0</td>\n",
       "      <td>0</td>\n",
       "    </tr>\n",
       "    <tr>\n",
       "      <th>...</th>\n",
       "      <td>...</td>\n",
       "      <td>...</td>\n",
       "      <td>...</td>\n",
       "      <td>...</td>\n",
       "    </tr>\n",
       "    <tr>\n",
       "      <th>54727</th>\n",
       "      <td>18</td>\n",
       "      <td>1</td>\n",
       "      <td>0</td>\n",
       "      <td>0</td>\n",
       "    </tr>\n",
       "    <tr>\n",
       "      <th>31759</th>\n",
       "      <td>35</td>\n",
       "      <td>0</td>\n",
       "      <td>0</td>\n",
       "      <td>0</td>\n",
       "    </tr>\n",
       "    <tr>\n",
       "      <th>35250</th>\n",
       "      <td>785</td>\n",
       "      <td>33</td>\n",
       "      <td>0</td>\n",
       "      <td>0</td>\n",
       "    </tr>\n",
       "    <tr>\n",
       "      <th>609</th>\n",
       "      <td>171</td>\n",
       "      <td>11</td>\n",
       "      <td>0</td>\n",
       "      <td>0</td>\n",
       "    </tr>\n",
       "    <tr>\n",
       "      <th>71981</th>\n",
       "      <td>279</td>\n",
       "      <td>15</td>\n",
       "      <td>0</td>\n",
       "      <td>0</td>\n",
       "    </tr>\n",
       "  </tbody>\n",
       "</table>\n",
       "<p>83880 rows × 4 columns</p>\n",
       "</div>"
      ],
      "text/plain": [
       "       TiteSeq_16_bin1  TiteSeq_16_bin2  TiteSeq_16_bin3  TiteSeq_16_bin4\n",
       "24031               74                7               62                0\n",
       "56510                0                0                0                0\n",
       "25206               23                0                0                0\n",
       "86263               27                1                0                0\n",
       "46352               29                0                0                0\n",
       "...                ...              ...              ...              ...\n",
       "54727               18                1                0                0\n",
       "31759               35                0                0                0\n",
       "35250              785               33                0                0\n",
       "609                171               11                0                0\n",
       "71981              279               15                0                0\n",
       "\n",
       "[83880 rows x 4 columns]"
      ]
     },
     "execution_count": 23,
     "metadata": {},
     "output_type": "execute_result"
    }
   ],
   "source": [
    "y_train[y_cols_2]"
   ]
  },
  {
   "cell_type": "code",
   "execution_count": 24,
   "metadata": {},
   "outputs": [
    {
     "name": "stdout",
     "output_type": "stream",
     "text": [
      "N = 83,880 observations set as training data.\n",
      "Using 20.3% for validation.\n",
      "Time to set data: 28.0 sec.\n"
     ]
    }
   ],
   "source": [
    "# Set training data\n",
    "model.set_data(x=x_train,\n",
    "               \n",
    "               y_list=[\n",
    "                       y_train[y_cols_1].values,\n",
    "                       y_train[y_cols_2].values,                                                       \n",
    "                      ],\n",
    "\n",
    "               shuffle=False)"
   ]
  },
  {
   "cell_type": "code",
   "execution_count": 25,
   "metadata": {},
   "outputs": [],
   "source": [
    "# from tensorflow.keras.utils import plot_model\n",
    "# plot_model(model.model,show_shapes=True,show_dtype=False,dpi=200,to_file='titeseq_mp_2_heads.png')"
   ]
  },
  {
   "cell_type": "code",
   "execution_count": 26,
   "metadata": {
    "scrolled": false
   },
   "outputs": [
    {
     "name": "stdout",
     "output_type": "stream",
     "text": [
      "Epoch 1/50\n",
      "335/335 [==============================] - 11s 22ms/step - loss: 363856.8125 - tite_seq_mp_loss: 306895.2500 - tite_seq_mp_1_loss: 56961.6367 - I_var: -2.0917 - val_loss: 376179.9375 - val_tite_seq_mp_loss: 309678.1562 - val_tite_seq_mp_1_loss: 66501.7969 - val_I_var: -2.3899\n",
      "Epoch 2/50\n",
      "335/335 [==============================] - 4s 11ms/step - loss: 363077.0938 - tite_seq_mp_loss: 306507.6562 - tite_seq_mp_1_loss: 56569.5508 - I_var: -2.0867 - val_loss: 375422.3750 - val_tite_seq_mp_loss: 309208.6562 - val_tite_seq_mp_1_loss: 66213.6484 - val_I_var: -2.3757\n",
      "Epoch 3/50\n",
      "335/335 [==============================] - 4s 12ms/step - loss: 362319.7188 - tite_seq_mp_loss: 305980.1875 - tite_seq_mp_1_loss: 56339.4219 - I_var: -2.0324 - val_loss: 374105.7500 - val_tite_seq_mp_loss: 308383.0000 - val_tite_seq_mp_1_loss: 65722.7188 - val_I_var: -2.3515\n",
      "Epoch 4/50\n",
      "335/335 [==============================] - 3s 10ms/step - loss: 360915.4375 - tite_seq_mp_loss: 305170.3750 - tite_seq_mp_1_loss: 55744.8125 - I_var: -2.0227 - val_loss: 372001.9062 - val_tite_seq_mp_loss: 307060.2500 - val_tite_seq_mp_1_loss: 64941.6602 - val_I_var: -2.3130\n",
      "Epoch 5/50\n",
      "335/335 [==============================] - 4s 11ms/step - loss: 358429.5625 - tite_seq_mp_loss: 303660.0000 - tite_seq_mp_1_loss: 54769.3867 - I_var: -1.9743 - val_loss: 368444.5312 - val_tite_seq_mp_loss: 304790.9688 - val_tite_seq_mp_1_loss: 63653.5625 - val_I_var: -2.2493\n",
      "Epoch 6/50\n",
      "335/335 [==============================] - 3s 10ms/step - loss: 354516.5938 - tite_seq_mp_loss: 301288.1562 - tite_seq_mp_1_loss: 53228.5625 - I_var: -1.8889 - val_loss: 362955.4062 - val_tite_seq_mp_loss: 301297.9062 - val_tite_seq_mp_1_loss: 61657.5078 - val_I_var: -2.1506\n",
      "Epoch 7/50\n",
      "335/335 [==============================] - 4s 12ms/step - loss: 348912.9688 - tite_seq_mp_loss: 297935.5938 - tite_seq_mp_1_loss: 50977.5000 - I_var: -1.7857 - val_loss: 355283.3125 - val_tite_seq_mp_loss: 296507.8125 - val_tite_seq_mp_1_loss: 58775.4453 - val_I_var: -2.0082\n",
      "Epoch 8/50\n",
      "335/335 [==============================] - 3s 10ms/step - loss: 341383.2812 - tite_seq_mp_loss: 293536.9688 - tite_seq_mp_1_loss: 47846.2031 - I_var: -1.6161 - val_loss: 345819.1875 - val_tite_seq_mp_loss: 290766.1562 - val_tite_seq_mp_1_loss: 55053.0195 - val_I_var: -1.8240\n",
      "Epoch 9/50\n",
      "335/335 [==============================] - 3s 10ms/step - loss: 332676.6875 - tite_seq_mp_loss: 288673.2188 - tite_seq_mp_1_loss: 44003.4531 - I_var: -1.4127 - val_loss: 335605.3750 - val_tite_seq_mp_loss: 284855.7500 - val_tite_seq_mp_1_loss: 50749.5859 - val_I_var: -1.6109\n",
      "Epoch 10/50\n",
      "335/335 [==============================] - 3s 10ms/step - loss: 306539.4375 - tite_seq_mp_loss: 266671.4062 - tite_seq_mp_1_loss: 39868.1367 - I_var: -1.2040 - val_loss: 267809.5938 - val_tite_seq_mp_loss: 221433.5625 - val_tite_seq_mp_1_loss: 46375.9688 - val_I_var: -1.3937\n",
      "Epoch 11/50\n",
      "335/335 [==============================] - 3s 9ms/step - loss: 235025.8750 - tite_seq_mp_loss: 199334.1406 - tite_seq_mp_1_loss: 35691.7812 - I_var: -0.9696 - val_loss: 213343.5000 - val_tite_seq_mp_loss: 171318.7031 - val_tite_seq_mp_1_loss: 42024.7539 - val_I_var: -1.1768\n",
      "Epoch 12/50\n",
      "335/335 [==============================] - 3s 10ms/step - loss: 188426.3594 - tite_seq_mp_loss: 156643.1250 - tite_seq_mp_1_loss: 31783.1055 - I_var: -0.7702 - val_loss: 181362.5625 - val_tite_seq_mp_loss: 144540.4219 - val_tite_seq_mp_1_loss: 36822.0820 - val_I_var: -0.9172\n",
      "Epoch 13/50\n",
      "335/335 [==============================] - 3s 10ms/step - loss: 161394.9531 - tite_seq_mp_loss: 133401.0781 - tite_seq_mp_1_loss: 27993.9121 - I_var: -0.5636 - val_loss: 160192.8750 - val_tite_seq_mp_loss: 126542.6484 - val_tite_seq_mp_1_loss: 33650.2070 - val_I_var: -0.7559\n",
      "Epoch 14/50\n",
      "335/335 [==============================] - 3s 10ms/step - loss: 143394.2031 - tite_seq_mp_loss: 117051.0312 - tite_seq_mp_1_loss: 26343.1914 - I_var: -0.4868 - val_loss: 146567.0156 - val_tite_seq_mp_loss: 114097.9609 - val_tite_seq_mp_1_loss: 32469.0703 - val_I_var: -0.6929\n",
      "Epoch 15/50\n",
      "335/335 [==============================] - 3s 10ms/step - loss: 131218.4219 - tite_seq_mp_loss: 105314.9062 - tite_seq_mp_1_loss: 25903.5547 - I_var: -0.4510 - val_loss: 137770.5312 - val_tite_seq_mp_loss: 105579.5547 - val_tite_seq_mp_1_loss: 32190.9688 - val_I_var: -0.6766\n",
      "Epoch 16/50\n",
      "335/335 [==============================] - 3s 10ms/step - loss: 122478.0859 - tite_seq_mp_loss: 96646.1797 - tite_seq_mp_1_loss: 25831.9824 - I_var: -0.4602 - val_loss: 131776.7500 - val_tite_seq_mp_loss: 99629.9375 - val_tite_seq_mp_1_loss: 32146.7715 - val_I_var: -0.6733\n",
      "Epoch 17/50\n",
      "335/335 [==============================] - 3s 10ms/step - loss: 115967.8438 - tite_seq_mp_loss: 90141.3359 - tite_seq_mp_1_loss: 25826.6016 - I_var: -0.4511 - val_loss: 127575.9922 - val_tite_seq_mp_loss: 95432.2578 - val_tite_seq_mp_1_loss: 32143.7246 - val_I_var: -0.6730\n",
      "Epoch 18/50\n",
      "335/335 [==============================] - 4s 11ms/step - loss: 111206.2109 - tite_seq_mp_loss: 85383.4531 - tite_seq_mp_1_loss: 25822.7578 - I_var: -0.4642 - val_loss: 124989.4062 - val_tite_seq_mp_loss: 92828.9062 - val_tite_seq_mp_1_loss: 32160.5039 - val_I_var: -0.6740\n",
      "Epoch 19/50\n",
      "335/335 [==============================] - 4s 11ms/step - loss: 107868.6406 - tite_seq_mp_loss: 82046.7344 - tite_seq_mp_1_loss: 25821.9141 - I_var: -0.4539 - val_loss: 123464.0312 - val_tite_seq_mp_loss: 91323.6641 - val_tite_seq_mp_1_loss: 32140.3887 - val_I_var: -0.6727\n",
      "Epoch 20/50\n",
      "335/335 [==============================] - 3s 10ms/step - loss: 105656.0391 - tite_seq_mp_loss: 79829.6641 - tite_seq_mp_1_loss: 25826.3984 - I_var: -0.4589 - val_loss: 122762.1328 - val_tite_seq_mp_loss: 90622.4688 - val_tite_seq_mp_1_loss: 32139.6406 - val_I_var: -0.6726\n",
      "Epoch 21/50\n",
      "335/335 [==============================] - 3s 10ms/step - loss: 104203.9531 - tite_seq_mp_loss: 78387.0234 - tite_seq_mp_1_loss: 25816.8965 - I_var: -0.4588 - val_loss: 122549.5703 - val_tite_seq_mp_loss: 90415.8828 - val_tite_seq_mp_1_loss: 32133.6621 - val_I_var: -0.6722\n",
      "Epoch 22/50\n",
      "335/335 [==============================] - 3s 9ms/step - loss: 103304.8750 - tite_seq_mp_loss: 77482.2812 - tite_seq_mp_1_loss: 25822.5918 - I_var: -0.4560 - val_loss: 122650.1250 - val_tite_seq_mp_loss: 90504.1797 - val_tite_seq_mp_1_loss: 32145.9199 - val_I_var: -0.6730\n",
      "Epoch 23/50\n",
      "335/335 [==============================] - 3s 9ms/step - loss: 102760.0234 - tite_seq_mp_loss: 76930.4297 - tite_seq_mp_1_loss: 25829.5996 - I_var: -0.4649 - val_loss: 122886.6562 - val_tite_seq_mp_loss: 90747.4766 - val_tite_seq_mp_1_loss: 32139.1406 - val_I_var: -0.6724\n",
      "Epoch 24/50\n",
      "335/335 [==============================] - 3s 9ms/step - loss: 102430.2812 - tite_seq_mp_loss: 76599.2109 - tite_seq_mp_1_loss: 25831.0527 - I_var: -0.4623 - val_loss: 123110.5625 - val_tite_seq_mp_loss: 90962.0625 - val_tite_seq_mp_1_loss: 32148.4414 - val_I_var: -0.6732\n",
      "Epoch 25/50\n",
      "335/335 [==============================] - 3s 9ms/step - loss: 100870.8281 - tite_seq_mp_loss: 74823.9219 - tite_seq_mp_1_loss: 26046.7773 - I_var: -0.4626 - val_loss: 122045.9609 - val_tite_seq_mp_loss: 89859.2109 - val_tite_seq_mp_1_loss: 32186.5684 - val_I_var: -0.6730\n",
      "Epoch 26/50\n",
      "335/335 [==============================] - 3s 10ms/step - loss: 97020.2812 - tite_seq_mp_loss: 70849.9844 - tite_seq_mp_1_loss: 26169.9629 - I_var: -0.4747 - val_loss: 116863.1328 - val_tite_seq_mp_loss: 84027.9141 - val_tite_seq_mp_1_loss: 32834.8984 - val_I_var: -0.7094\n",
      "Epoch 27/50\n",
      "335/335 [==============================] - 3s 9ms/step - loss: 93315.3125 - tite_seq_mp_loss: 67109.5938 - tite_seq_mp_1_loss: 26205.2812 - I_var: -0.4786 - val_loss: 113685.5312 - val_tite_seq_mp_loss: 80141.3047 - val_tite_seq_mp_1_loss: 33543.8398 - val_I_var: -0.7486\n",
      "Epoch 28/50\n",
      "335/335 [==============================] - 3s 9ms/step - loss: 90108.4219 - tite_seq_mp_loss: 63732.5938 - tite_seq_mp_1_loss: 26375.3789 - I_var: -0.4897 - val_loss: 111585.8828 - val_tite_seq_mp_loss: 77638.0547 - val_tite_seq_mp_1_loss: 33947.2969 - val_I_var: -0.7700\n",
      "Epoch 29/50\n",
      "335/335 [==============================] - 3s 10ms/step - loss: 87201.0547 - tite_seq_mp_loss: 60599.7617 - tite_seq_mp_1_loss: 26600.6641 - I_var: -0.4998 - val_loss: 109452.8516 - val_tite_seq_mp_loss: 74897.6172 - val_tite_seq_mp_1_loss: 34554.5977 - val_I_var: -0.8036\n"
     ]
    },
    {
     "name": "stdout",
     "output_type": "stream",
     "text": [
      "Epoch 30/50\n",
      "335/335 [==============================] - 3s 9ms/step - loss: 84926.3828 - tite_seq_mp_loss: 58110.2734 - tite_seq_mp_1_loss: 26815.4180 - I_var: -0.4970 - val_loss: 107483.5391 - val_tite_seq_mp_loss: 71840.2109 - val_tite_seq_mp_1_loss: 35642.6055 - val_I_var: -0.8614\n",
      "Epoch 31/50\n",
      "335/335 [==============================] - 3s 10ms/step - loss: 82711.8672 - tite_seq_mp_loss: 55568.9258 - tite_seq_mp_1_loss: 27142.1289 - I_var: -0.5256 - val_loss: 109349.4141 - val_tite_seq_mp_loss: 74747.8906 - val_tite_seq_mp_1_loss: 34600.6797 - val_I_var: -0.8039\n",
      "Epoch 32/50\n",
      "335/335 [==============================] - 3s 9ms/step - loss: 81052.0000 - tite_seq_mp_loss: 53784.0156 - tite_seq_mp_1_loss: 27267.0664 - I_var: -0.5227 - val_loss: 104732.2266 - val_tite_seq_mp_loss: 68313.2031 - val_tite_seq_mp_1_loss: 36418.1289 - val_I_var: -0.9018\n",
      "Epoch 33/50\n",
      "335/335 [==============================] - 4s 11ms/step - loss: 79768.2891 - tite_seq_mp_loss: 52206.3984 - tite_seq_mp_1_loss: 27560.8594 - I_var: -0.5450 - val_loss: 103513.2891 - val_tite_seq_mp_loss: 66876.1484 - val_tite_seq_mp_1_loss: 36636.1172 - val_I_var: -0.9128\n",
      "Epoch 34/50\n",
      "335/335 [==============================] - 3s 9ms/step - loss: 78458.8516 - tite_seq_mp_loss: 50702.6211 - tite_seq_mp_1_loss: 27755.1504 - I_var: -0.5596 - val_loss: 103785.6641 - val_tite_seq_mp_loss: 67626.0234 - val_tite_seq_mp_1_loss: 36158.5039 - val_I_var: -0.8890\n",
      "Epoch 35/50\n",
      "335/335 [==============================] - 3s 9ms/step - loss: 77260.1016 - tite_seq_mp_loss: 49360.1953 - tite_seq_mp_1_loss: 27898.7676 - I_var: -0.5571 - val_loss: 103310.4219 - val_tite_seq_mp_loss: 66945.8594 - val_tite_seq_mp_1_loss: 36363.3516 - val_I_var: -0.8996\n",
      "Epoch 36/50\n",
      "335/335 [==============================] - 3s 10ms/step - loss: 76058.2188 - tite_seq_mp_loss: 47876.4023 - tite_seq_mp_1_loss: 28180.5312 - I_var: -0.5701 - val_loss: 103088.4688 - val_tite_seq_mp_loss: 66514.6094 - val_tite_seq_mp_1_loss: 36572.5547 - val_I_var: -0.9105\n",
      "Epoch 37/50\n",
      "335/335 [==============================] - 3s 10ms/step - loss: 75443.9922 - tite_seq_mp_loss: 47025.8164 - tite_seq_mp_1_loss: 28416.8008 - I_var: -0.5875 - val_loss: 99335.5391 - val_tite_seq_mp_loss: 60018.0938 - val_tite_seq_mp_1_loss: 39316.0156 - val_I_var: -1.0417\n",
      "Epoch 38/50\n",
      "335/335 [==============================] - 3s 10ms/step - loss: 74424.8906 - tite_seq_mp_loss: 45983.2969 - tite_seq_mp_1_loss: 28440.1094 - I_var: -0.5930 - val_loss: 98699.7422 - val_tite_seq_mp_loss: 60374.0859 - val_tite_seq_mp_1_loss: 38324.1719 - val_I_var: -0.9951\n",
      "Epoch 39/50\n",
      "335/335 [==============================] - 3s 9ms/step - loss: 73834.4609 - tite_seq_mp_loss: 45145.1289 - tite_seq_mp_1_loss: 28687.7949 - I_var: -0.5953 - val_loss: 97477.2344 - val_tite_seq_mp_loss: 57876.9688 - val_tite_seq_mp_1_loss: 39598.6953 - val_I_var: -1.0547\n",
      "Epoch 40/50\n",
      "335/335 [==============================] - 3s 9ms/step - loss: 73163.0312 - tite_seq_mp_loss: 44320.2227 - tite_seq_mp_1_loss: 28841.2598 - I_var: -0.6146 - val_loss: 96820.6328 - val_tite_seq_mp_loss: 57446.0234 - val_tite_seq_mp_1_loss: 39372.9570 - val_I_var: -1.0436\n",
      "Epoch 41/50\n",
      "335/335 [==============================] - 3s 10ms/step - loss: 72567.6719 - tite_seq_mp_loss: 43552.4531 - tite_seq_mp_1_loss: 29013.5254 - I_var: -0.6123 - val_loss: 98121.6719 - val_tite_seq_mp_loss: 59688.6758 - val_tite_seq_mp_1_loss: 38431.2617 - val_I_var: -1.0001\n",
      "Epoch 42/50\n",
      "335/335 [==============================] - 3s 9ms/step - loss: 71934.8750 - tite_seq_mp_loss: 42890.6016 - tite_seq_mp_1_loss: 29042.4941 - I_var: -0.6204 - val_loss: 95444.1016 - val_tite_seq_mp_loss: 55551.3867 - val_tite_seq_mp_1_loss: 39890.8633 - val_I_var: -1.0677\n",
      "Epoch 43/50\n",
      "335/335 [==============================] - 3s 10ms/step - loss: 71471.9453 - tite_seq_mp_loss: 42251.3203 - tite_seq_mp_1_loss: 29218.7246 - I_var: -0.6290 - val_loss: 94748.6484 - val_tite_seq_mp_loss: 54178.9180 - val_tite_seq_mp_1_loss: 40567.8281 - val_I_var: -1.0986\n",
      "Epoch 44/50\n",
      "335/335 [==============================] - 3s 10ms/step - loss: 70924.8281 - tite_seq_mp_loss: 41654.0977 - tite_seq_mp_1_loss: 29268.7656 - I_var: -0.6295 - val_loss: 94185.9531 - val_tite_seq_mp_loss: 53589.8711 - val_tite_seq_mp_1_loss: 40594.0898 - val_I_var: -1.0991\n",
      "Epoch 45/50\n",
      "335/335 [==============================] - 4s 11ms/step - loss: 70737.7500 - tite_seq_mp_loss: 41393.7930 - tite_seq_mp_1_loss: 29341.9219 - I_var: -0.6373 - val_loss: 95125.9141 - val_tite_seq_mp_loss: 55478.2148 - val_tite_seq_mp_1_loss: 39645.6016 - val_I_var: -1.0564\n",
      "Epoch 46/50\n",
      "335/335 [==============================] - 4s 12ms/step - loss: 70376.9531 - tite_seq_mp_loss: 40828.9219 - tite_seq_mp_1_loss: 29545.9238 - I_var: -0.6360 - val_loss: 93095.5625 - val_tite_seq_mp_loss: 52255.0430 - val_tite_seq_mp_1_loss: 40838.3438 - val_I_var: -1.1104\n",
      "Epoch 47/50\n",
      "335/335 [==============================] - 3s 10ms/step - loss: 69724.4844 - tite_seq_mp_loss: 40228.9766 - tite_seq_mp_1_loss: 29493.3047 - I_var: -0.6383 - val_loss: 93728.9688 - val_tite_seq_mp_loss: 53483.9453 - val_tite_seq_mp_1_loss: 40242.8086 - val_I_var: -1.0831\n",
      "Epoch 48/50\n",
      "335/335 [==============================] - 3s 10ms/step - loss: 69628.7656 - tite_seq_mp_loss: 40059.3359 - tite_seq_mp_1_loss: 29567.0996 - I_var: -0.6489 - val_loss: 92695.0078 - val_tite_seq_mp_loss: 52033.2734 - val_tite_seq_mp_1_loss: 40659.4258 - val_I_var: -1.1013\n",
      "Epoch 49/50\n",
      "335/335 [==============================] - 3s 10ms/step - loss: 69226.6328 - tite_seq_mp_loss: 39528.4102 - tite_seq_mp_1_loss: 29695.8574 - I_var: -0.6658 - val_loss: 91789.4688 - val_tite_seq_mp_loss: 49524.7695 - val_tite_seq_mp_1_loss: 42262.3086 - val_I_var: -1.1745\n",
      "Epoch 50/50\n",
      "335/335 [==============================] - 3s 10ms/step - loss: 69000.0938 - tite_seq_mp_loss: 39237.3516 - tite_seq_mp_1_loss: 29760.2871 - I_var: -0.6535 - val_loss: 91615.6875 - val_tite_seq_mp_loss: 50352.8008 - val_tite_seq_mp_1_loss: 41260.3906 - val_I_var: -1.1284\n",
      "Training time: 217.6 seconds\n"
     ]
    },
    {
     "data": {
      "text/plain": [
       "<keras.callbacks.History at 0x7fb360b27b20>"
      ]
     },
     "execution_count": 26,
     "metadata": {},
     "output_type": "execute_result"
    }
   ],
   "source": [
    "\n",
    "# Fit model to data\n",
    "model.fit(learning_rate=.001,\n",
    "          epochs=50,\n",
    "          batch_size=200,\n",
    "          try_tqdm = False,\n",
    "          early_stopping=False,\n",
    "          early_stopping_patience=10,\n",
    "          linear_initialization=False)"
   ]
  },
  {
   "cell_type": "code",
   "execution_count": 27,
   "metadata": {},
   "outputs": [
    {
     "name": "stdout",
     "output_type": "stream",
     "text": [
      "On test data:\n"
     ]
    },
    {
     "data": {
      "image/png": "[encoded data removed]",
      "text/plain": [
       "<Figure size 576x288 with 2 Axes>"
      ]
     },
     "metadata": {
      "needs_background": "light"
     },
     "output_type": "display_data"
    }
   ],
   "source": [
    "# Show training history\n",
    "print('On test data:')\n",
    "# x_test = test_df['x'].values\n",
    "# y_test = test_df[y_cols].values\n",
    "\n",
    "\n",
    "I_var_hist = model.history['I_var']\n",
    "val_I_var_hist = model.history['val_I_var']\n",
    "\n",
    "fig, axs = plt.subplots(1,2,figsize=[8,4])\n",
    "\n",
    "ax = axs[0]\n",
    "ax.plot(I_var_hist, label='I_var_train')\n",
    "ax.plot(val_I_var_hist, label='I_var_val')\n",
    "ax.legend()\n",
    "ax.set_xlabel('epochs')\n",
    "ax.set_ylabel('bits')\n",
    "#ax.set_xscale('log')\n",
    "ax.set_title('training hisotry')\n",
    "\n",
    "ax = axs[1]\n",
    "ax.plot(model.history['loss'], label='loss_train')\n",
    "ax.plot(model.history['val_loss'], label='loss_val')\n",
    "# ax.set_xlim(100,300)\n",
    "# ax.set_ylim(0.7*1e6,0.8*1e6)\n",
    "ax.legend()\n",
    "ax.set_xlabel('epochs')\n",
    "ax.set_ylabel('loss')\n",
    "# ax.set_xscale('log')\n",
    "# ax.set_yscale('log')\n",
    "ax.set_title('training hisotry')\n",
    "fig.tight_layout()"
   ]
  },
  {
   "cell_type": "code",
   "execution_count": 28,
   "metadata": {},
   "outputs": [
    {
     "data": {
      "text/plain": [
       "(1, 201, 20)"
      ]
     },
     "execution_count": 28,
     "metadata": {},
     "output_type": "execute_result"
    }
   ],
   "source": [
    "#phi = gpmap.x_to_phi(x_test)\n",
    "gpmap.weights[1].numpy().shape"
   ]
  },
  {
   "cell_type": "code",
   "execution_count": 29,
   "metadata": {},
   "outputs": [
    {
     "data": {
      "image/png": "[encoded data removed]",
      "text/plain": [
       "<Figure size 432x288 with 1 Axes>"
      ]
     },
     "metadata": {
      "needs_background": "light"
     },
     "output_type": "display_data"
    }
   ],
   "source": [
    "plt.hist(gpmap.get_weights()[1].ravel(),bins=10)\n",
    "plt.show()"
   ]
  },
  {
   "cell_type": "code",
   "execution_count": 30,
   "metadata": {},
   "outputs": [],
   "source": [
    "phi = gpmap.x_to_phi(x_test)\n",
    "theta = np.squeeze(gpmap.weights[1].numpy())\n"
   ]
  },
  {
   "cell_type": "code",
   "execution_count": 48,
   "metadata": {},
   "outputs": [
    {
     "data": {
      "image/png": "[encoded data removed]",
      "text/plain": [
       "<Figure size 1440x432 with 2 Axes>"
      ]
     },
     "metadata": {
      "needs_background": "light"
     },
     "output_type": "display_data"
    }
   ],
   "source": [
    "\n",
    "# # Create fig and ax objects\n",
    "fig, ax = plt.subplots(figsize=[20,6])\n",
    "\n",
    "# Draw heatmap\n",
    "ax, cb = mavenn.heatmap(values=theta,\n",
    "                        alphabet='protein',\n",
    "                        ax=ax,\n",
    "                        #gpmap_type='additive',\n",
    "                        #cmap='RdBu',\n",
    "                        #clim = [-5,1],\n",
    "                        cmap_size='2%')\n",
    "\n",
    "# Style heatmap\n",
    "ax.set_xticks(np.arange(0,201,5))\n",
    "ax.set_xticklabels([f'{x}' for x in range(331,531+1,5)])\n",
    "#ax.set_xlabel('nucleotide position', labelpad=5)\n",
    "\n",
    "# Style colorbar\n",
    "cb.set_label('G-P - No gauge ($\\\\theta$)',\n",
    "             labelpad=10, ha='center', va='center', rotation=-90)\n",
    "cb.outline.set_visible(False)\n",
    "cb.ax.tick_params(direction='in', size=20, color='white')"
   ]
  },
  {
   "cell_type": "code",
   "execution_count": null,
   "metadata": {},
   "outputs": [],
   "source": []
  },
  {
   "cell_type": "code",
   "execution_count": 32,
   "metadata": {},
   "outputs": [
    {
     "data": {
      "image/png": "[encoded data removed]",
      "text/plain": [
       "<Figure size 576x288 with 4 Axes>"
      ]
     },
     "metadata": {
      "needs_background": "light"
     },
     "output_type": "display_data"
    }
   ],
   "source": [
    "# Get G-P map parameters in matrix form\n",
    "\n",
    "\n",
    "# Create grid in phi space\n",
    "phi_lim = [-20, 20]\n",
    "phi_grid = np.linspace(phi_lim[0], phi_lim[1], 1000)\n",
    "\n",
    "# Create array of allowable y values\n",
    "Y = 4    # Y = number of bins\n",
    "y_lim = [-.5, Y-.5]\n",
    "y_all = range(Y)\n",
    "\n",
    "# Compute matrix of p(y|phi) values\n",
    "\n",
    "\n",
    "\n",
    "# Create figure with two panels\n",
    "fig, axs = plt.subplots(1,2,figsize=[8,4])\n",
    "\n",
    "mp_counter = 0\n",
    "for i in range(2):\n",
    "        \n",
    "        measurement_process = [TiteSeq_mp_1, TiteSeq_mp_2][mp_counter].p_of_y_given_phi(y_all, phi_grid)\n",
    "        # Right panel: draw measurement process as heatmap\n",
    "        ax = axs[i]\n",
    "\n",
    "        im = ax.imshow(measurement_process,\n",
    "                       cmap='Greens',\n",
    "                       extent=phi_lim+y_lim,\n",
    "                       vmin=0,\n",
    "                       origin='lower',\n",
    "                       interpolation='nearest',\n",
    "                       aspect=\"auto\")\n",
    "        ax.set_yticks(y_all)\n",
    "        ax.set_ylabel('bin number (y)')\n",
    "        ax.set_xlabel('latent phenotype ($\\phi$)')\n",
    "        ax.set_title(f'Titeseq MP-{mp_counter+1}')\n",
    "        mp_counter+=1\n",
    "        \n",
    "        cb = plt.colorbar(im,ax=ax)\n",
    "        cb.set_label('probability  $p(y|\\phi)$', rotation=-90, va=\"bottom\")\n",
    "fig.tight_layout()\n",
    "\n",
    "#fig.savefig('ace2rbd_mpa_measurment_prcoess_expression_monotonic.png',dpi=300,bbox_inches='tight')\n"
   ]
  },
  {
   "cell_type": "code",
   "execution_count": 33,
   "metadata": {},
   "outputs": [
    {
     "data": {
      "text/html": [
       "<div>\n",
       "<style scoped>\n",
       "    .dataframe tbody tr th:only-of-type {\n",
       "        vertical-align: middle;\n",
       "    }\n",
       "\n",
       "    .dataframe tbody tr th {\n",
       "        vertical-align: top;\n",
       "    }\n",
       "\n",
       "    .dataframe thead th {\n",
       "        text-align: right;\n",
       "    }\n",
       "</style>\n",
       "<table border=\"1\" class=\"dataframe\">\n",
       "  <thead>\n",
       "    <tr style=\"text-align: right;\">\n",
       "      <th></th>\n",
       "      <th>A</th>\n",
       "      <th>C</th>\n",
       "      <th>D</th>\n",
       "      <th>E</th>\n",
       "      <th>F</th>\n",
       "      <th>G</th>\n",
       "      <th>H</th>\n",
       "      <th>I</th>\n",
       "      <th>K</th>\n",
       "      <th>L</th>\n",
       "      <th>M</th>\n",
       "      <th>N</th>\n",
       "      <th>P</th>\n",
       "      <th>Q</th>\n",
       "      <th>R</th>\n",
       "      <th>S</th>\n",
       "      <th>T</th>\n",
       "      <th>V</th>\n",
       "      <th>W</th>\n",
       "      <th>Y</th>\n",
       "    </tr>\n",
       "  </thead>\n",
       "  <tbody>\n",
       "    <tr>\n",
       "      <th>0</th>\n",
       "      <td>-0.03</td>\n",
       "      <td>-0.09</td>\n",
       "      <td>0.03</td>\n",
       "      <td>0.00</td>\n",
       "      <td>-0.10</td>\n",
       "      <td>-0.04</td>\n",
       "      <td>-0.02</td>\n",
       "      <td>-0.07</td>\n",
       "      <td>-0.01</td>\n",
       "      <td>-0.05</td>\n",
       "      <td>-0.02</td>\n",
       "      <td>0.00</td>\n",
       "      <td>-0.03</td>\n",
       "      <td>0.01</td>\n",
       "      <td>-0.02</td>\n",
       "      <td>-0.03</td>\n",
       "      <td>0.06</td>\n",
       "      <td>-0.04</td>\n",
       "      <td>-0.16</td>\n",
       "      <td>-0.06</td>\n",
       "    </tr>\n",
       "    <tr>\n",
       "      <th>1</th>\n",
       "      <td>0.00</td>\n",
       "      <td>-0.09</td>\n",
       "      <td>-0.02</td>\n",
       "      <td>0.08</td>\n",
       "      <td>-0.22</td>\n",
       "      <td>-0.08</td>\n",
       "      <td>0.04</td>\n",
       "      <td>0.00</td>\n",
       "      <td>-0.05</td>\n",
       "      <td>0.00</td>\n",
       "      <td>0.00</td>\n",
       "      <td>0.00</td>\n",
       "      <td>0.06</td>\n",
       "      <td>-0.02</td>\n",
       "      <td>0.00</td>\n",
       "      <td>-0.04</td>\n",
       "      <td>-0.03</td>\n",
       "      <td>0.00</td>\n",
       "      <td>-0.03</td>\n",
       "      <td>-0.03</td>\n",
       "    </tr>\n",
       "    <tr>\n",
       "      <th>2</th>\n",
       "      <td>-0.01</td>\n",
       "      <td>-0.14</td>\n",
       "      <td>-0.01</td>\n",
       "      <td>-0.15</td>\n",
       "      <td>-0.15</td>\n",
       "      <td>-0.07</td>\n",
       "      <td>-0.07</td>\n",
       "      <td>-0.06</td>\n",
       "      <td>-0.01</td>\n",
       "      <td>-0.01</td>\n",
       "      <td>-0.02</td>\n",
       "      <td>-0.06</td>\n",
       "      <td>0.03</td>\n",
       "      <td>0.02</td>\n",
       "      <td>0.00</td>\n",
       "      <td>-0.08</td>\n",
       "      <td>0.00</td>\n",
       "      <td>-0.05</td>\n",
       "      <td>-0.21</td>\n",
       "      <td>-0.07</td>\n",
       "    </tr>\n",
       "    <tr>\n",
       "      <th>3</th>\n",
       "      <td>-0.03</td>\n",
       "      <td>-0.11</td>\n",
       "      <td>0.07</td>\n",
       "      <td>0.01</td>\n",
       "      <td>-0.22</td>\n",
       "      <td>-0.03</td>\n",
       "      <td>-0.02</td>\n",
       "      <td>-0.20</td>\n",
       "      <td>-0.03</td>\n",
       "      <td>-0.20</td>\n",
       "      <td>-0.05</td>\n",
       "      <td>0.00</td>\n",
       "      <td>-0.18</td>\n",
       "      <td>0.01</td>\n",
       "      <td>0.00</td>\n",
       "      <td>-0.06</td>\n",
       "      <td>-0.04</td>\n",
       "      <td>-0.07</td>\n",
       "      <td>-0.24</td>\n",
       "      <td>-0.09</td>\n",
       "    </tr>\n",
       "    <tr>\n",
       "      <th>4</th>\n",
       "      <td>0.04</td>\n",
       "      <td>-0.11</td>\n",
       "      <td>0.00</td>\n",
       "      <td>0.06</td>\n",
       "      <td>-0.03</td>\n",
       "      <td>-0.08</td>\n",
       "      <td>-0.03</td>\n",
       "      <td>-0.02</td>\n",
       "      <td>-0.03</td>\n",
       "      <td>0.00</td>\n",
       "      <td>0.01</td>\n",
       "      <td>0.03</td>\n",
       "      <td>0.06</td>\n",
       "      <td>-0.02</td>\n",
       "      <td>-0.01</td>\n",
       "      <td>0.01</td>\n",
       "      <td>0.02</td>\n",
       "      <td>-0.08</td>\n",
       "      <td>-0.05</td>\n",
       "      <td>-0.02</td>\n",
       "    </tr>\n",
       "  </tbody>\n",
       "</table>\n",
       "</div>"
      ],
      "text/plain": [
       "      A     C     D     E     F     G     H     I     K     L     M     N  \\\n",
       "0 -0.03 -0.09  0.03  0.00 -0.10 -0.04 -0.02 -0.07 -0.01 -0.05 -0.02  0.00   \n",
       "1  0.00 -0.09 -0.02  0.08 -0.22 -0.08  0.04  0.00 -0.05  0.00  0.00  0.00   \n",
       "2 -0.01 -0.14 -0.01 -0.15 -0.15 -0.07 -0.07 -0.06 -0.01 -0.01 -0.02 -0.06   \n",
       "3 -0.03 -0.11  0.07  0.01 -0.22 -0.03 -0.02 -0.20 -0.03 -0.20 -0.05  0.00   \n",
       "4  0.04 -0.11  0.00  0.06 -0.03 -0.08 -0.03 -0.02 -0.03  0.00  0.01  0.03   \n",
       "\n",
       "      P     Q     R     S     T     V     W     Y  \n",
       "0 -0.03  0.01 -0.02 -0.03  0.06 -0.04 -0.16 -0.06  \n",
       "1  0.06 -0.02  0.00 -0.04 -0.03  0.00 -0.03 -0.03  \n",
       "2  0.03  0.02  0.00 -0.08  0.00 -0.05 -0.21 -0.07  \n",
       "3 -0.18  0.01  0.00 -0.06 -0.04 -0.07 -0.24 -0.09  \n",
       "4  0.06 -0.02 -0.01  0.01  0.02 -0.08 -0.05 -0.02  "
      ]
     },
     "execution_count": 33,
     "metadata": {},
     "output_type": "execute_result"
    }
   ],
   "source": [
    "bloom_single_mut_df = pd.read_csv('single_mut_effects_Bloom.txt')\n",
    "\n",
    "bloom_bind_df = pd.DataFrame(columns=alphabet)\n",
    "for site in range(1,201+1,):\n",
    "\n",
    "    temp_df = bloom_single_mut_df[bloom_single_mut_df['site_RBD']==site].copy()\n",
    "    #temp_df['bind_lib1']\n",
    "    #expr_lib1\n",
    "    bloom_bind_df.loc[site-1] = temp_df['bind_avg'].values[0:20]\n",
    "\n",
    "bloom_bind_df.head()\n"
   ]
  },
  {
   "cell_type": "code",
   "execution_count": 34,
   "metadata": {},
   "outputs": [
    {
     "data": {
      "text/html": [
       "<div>\n",
       "<style scoped>\n",
       "    .dataframe tbody tr th:only-of-type {\n",
       "        vertical-align: middle;\n",
       "    }\n",
       "\n",
       "    .dataframe tbody tr th {\n",
       "        vertical-align: top;\n",
       "    }\n",
       "\n",
       "    .dataframe thead th {\n",
       "        text-align: right;\n",
       "    }\n",
       "</style>\n",
       "<table border=\"1\" class=\"dataframe\">\n",
       "  <thead>\n",
       "    <tr style=\"text-align: right;\">\n",
       "      <th></th>\n",
       "      <th>A</th>\n",
       "      <th>C</th>\n",
       "      <th>D</th>\n",
       "      <th>E</th>\n",
       "      <th>F</th>\n",
       "      <th>G</th>\n",
       "      <th>H</th>\n",
       "      <th>I</th>\n",
       "      <th>K</th>\n",
       "      <th>L</th>\n",
       "      <th>M</th>\n",
       "      <th>N</th>\n",
       "      <th>P</th>\n",
       "      <th>Q</th>\n",
       "      <th>R</th>\n",
       "      <th>S</th>\n",
       "      <th>T</th>\n",
       "      <th>V</th>\n",
       "      <th>W</th>\n",
       "      <th>Y</th>\n",
       "    </tr>\n",
       "  </thead>\n",
       "  <tbody>\n",
       "    <tr>\n",
       "      <th>0</th>\n",
       "      <td>-0.11</td>\n",
       "      <td>-1.26</td>\n",
       "      <td>-0.44</td>\n",
       "      <td>-0.31</td>\n",
       "      <td>-0.70</td>\n",
       "      <td>-0.25</td>\n",
       "      <td>-0.61</td>\n",
       "      <td>-0.85</td>\n",
       "      <td>-0.20</td>\n",
       "      <td>-0.75</td>\n",
       "      <td>-0.75</td>\n",
       "      <td>0.00</td>\n",
       "      <td>-0.21</td>\n",
       "      <td>-0.53</td>\n",
       "      <td>-0.44</td>\n",
       "      <td>-0.33</td>\n",
       "      <td>-0.34</td>\n",
       "      <td>-0.61</td>\n",
       "      <td>-1.12</td>\n",
       "      <td>-1.02</td>\n",
       "    </tr>\n",
       "    <tr>\n",
       "      <th>1</th>\n",
       "      <td>0.00</td>\n",
       "      <td>-0.12</td>\n",
       "      <td>0.03</td>\n",
       "      <td>0.01</td>\n",
       "      <td>-0.10</td>\n",
       "      <td>0.14</td>\n",
       "      <td>0.05</td>\n",
       "      <td>0.00</td>\n",
       "      <td>-0.06</td>\n",
       "      <td>-0.03</td>\n",
       "      <td>-0.02</td>\n",
       "      <td>0.05</td>\n",
       "      <td>-0.17</td>\n",
       "      <td>0.07</td>\n",
       "      <td>-0.04</td>\n",
       "      <td>-0.03</td>\n",
       "      <td>-0.04</td>\n",
       "      <td>0.02</td>\n",
       "      <td>-0.33</td>\n",
       "      <td>-0.07</td>\n",
       "    </tr>\n",
       "    <tr>\n",
       "      <th>2</th>\n",
       "      <td>-0.37</td>\n",
       "      <td>-0.93</td>\n",
       "      <td>-0.27</td>\n",
       "      <td>-0.31</td>\n",
       "      <td>-0.89</td>\n",
       "      <td>-0.41</td>\n",
       "      <td>-0.29</td>\n",
       "      <td>-1.03</td>\n",
       "      <td>-0.20</td>\n",
       "      <td>-0.55</td>\n",
       "      <td>-0.47</td>\n",
       "      <td>-0.35</td>\n",
       "      <td>-0.28</td>\n",
       "      <td>-0.35</td>\n",
       "      <td>-0.54</td>\n",
       "      <td>-0.04</td>\n",
       "      <td>0.00</td>\n",
       "      <td>-0.56</td>\n",
       "      <td>-0.63</td>\n",
       "      <td>-0.62</td>\n",
       "    </tr>\n",
       "    <tr>\n",
       "      <th>3</th>\n",
       "      <td>-0.12</td>\n",
       "      <td>-0.57</td>\n",
       "      <td>-0.04</td>\n",
       "      <td>-0.05</td>\n",
       "      <td>-0.97</td>\n",
       "      <td>-0.21</td>\n",
       "      <td>-0.12</td>\n",
       "      <td>-0.67</td>\n",
       "      <td>-0.02</td>\n",
       "      <td>-0.72</td>\n",
       "      <td>-0.40</td>\n",
       "      <td>0.00</td>\n",
       "      <td>-0.55</td>\n",
       "      <td>-0.08</td>\n",
       "      <td>-0.12</td>\n",
       "      <td>-0.19</td>\n",
       "      <td>-0.02</td>\n",
       "      <td>-0.47</td>\n",
       "      <td>-1.01</td>\n",
       "      <td>-0.61</td>\n",
       "    </tr>\n",
       "    <tr>\n",
       "      <th>4</th>\n",
       "      <td>-0.01</td>\n",
       "      <td>-0.38</td>\n",
       "      <td>-0.09</td>\n",
       "      <td>0.11</td>\n",
       "      <td>-0.16</td>\n",
       "      <td>-0.16</td>\n",
       "      <td>-0.10</td>\n",
       "      <td>-0.16</td>\n",
       "      <td>0.02</td>\n",
       "      <td>0.00</td>\n",
       "      <td>-0.15</td>\n",
       "      <td>-0.08</td>\n",
       "      <td>0.09</td>\n",
       "      <td>-0.05</td>\n",
       "      <td>-0.14</td>\n",
       "      <td>-0.08</td>\n",
       "      <td>-0.08</td>\n",
       "      <td>-0.10</td>\n",
       "      <td>-0.13</td>\n",
       "      <td>-0.12</td>\n",
       "    </tr>\n",
       "  </tbody>\n",
       "</table>\n",
       "</div>"
      ],
      "text/plain": [
       "      A     C     D     E     F     G     H     I     K     L     M     N  \\\n",
       "0 -0.11 -1.26 -0.44 -0.31 -0.70 -0.25 -0.61 -0.85 -0.20 -0.75 -0.75  0.00   \n",
       "1  0.00 -0.12  0.03  0.01 -0.10  0.14  0.05  0.00 -0.06 -0.03 -0.02  0.05   \n",
       "2 -0.37 -0.93 -0.27 -0.31 -0.89 -0.41 -0.29 -1.03 -0.20 -0.55 -0.47 -0.35   \n",
       "3 -0.12 -0.57 -0.04 -0.05 -0.97 -0.21 -0.12 -0.67 -0.02 -0.72 -0.40  0.00   \n",
       "4 -0.01 -0.38 -0.09  0.11 -0.16 -0.16 -0.10 -0.16  0.02  0.00 -0.15 -0.08   \n",
       "\n",
       "      P     Q     R     S     T     V     W     Y  \n",
       "0 -0.21 -0.53 -0.44 -0.33 -0.34 -0.61 -1.12 -1.02  \n",
       "1 -0.17  0.07 -0.04 -0.03 -0.04  0.02 -0.33 -0.07  \n",
       "2 -0.28 -0.35 -0.54 -0.04  0.00 -0.56 -0.63 -0.62  \n",
       "3 -0.55 -0.08 -0.12 -0.19 -0.02 -0.47 -1.01 -0.61  \n",
       "4  0.09 -0.05 -0.14 -0.08 -0.08 -0.10 -0.13 -0.12  "
      ]
     },
     "execution_count": 34,
     "metadata": {},
     "output_type": "execute_result"
    }
   ],
   "source": [
    "bloom_single_mut_df = pd.read_csv('single_mut_effects_Bloom.txt')\n",
    "bloom_exp_df = pd.DataFrame(columns=alphabet)\n",
    "for site in range(1,201+1,):\n",
    "\n",
    "    temp_df = bloom_single_mut_df[bloom_single_mut_df['site_RBD']==site].copy()\n",
    "    temp_df['expr_lib1']\n",
    "    bloom_exp_df.loc[site-1] = temp_df['expr_avg'].values[0:20]\n",
    "    \n",
    "bloom_exp_df.head()    "
   ]
  },
  {
   "cell_type": "code",
   "execution_count": 35,
   "metadata": {},
   "outputs": [],
   "source": [
    "theta_df = pd.DataFrame(theta,columns=alphabet)"
   ]
  },
  {
   "cell_type": "code",
   "execution_count": 36,
   "metadata": {},
   "outputs": [
    {
     "data": {
      "image/png": "[encoded data removed]",
      "text/plain": [
       "<Figure size 576x288 with 2 Axes>"
      ]
     },
     "metadata": {
      "needs_background": "light"
     },
     "output_type": "display_data"
    }
   ],
   "source": [
    "fig, axs = plt.subplots(1,2, figsize=(8,4))\n",
    "Rsq_0 = np.corrcoef(bloom_bind_df.fillna(0).values.ravel(), theta_df.fillna(0).values.ravel())[0,1]**2\n",
    "ax = axs[0]\n",
    "ax.scatter(bloom_bind_df.values.ravel(), theta_df.fillna(0).values.ravel(),s=2,alpha=0.2,color='blue')\n",
    "bloom_bind_df\n",
    "lims = [-5,1]\n",
    "#plt.plot(lims,lims,'--')\n",
    "ax.set_xlabel('Bloom single mut effects - Binding')\n",
    "ax.set_title(f'$R^2 = {Rsq_0:.3f}$')\n",
    "ax.set_ylabel('MAVE-NN2 Tite-seq G-P map $\\\\theta_0$')\n",
    "\n",
    "Rsq_1 = np.corrcoef(bloom_exp_df.fillna(0).values.ravel(), theta_df.fillna(0).values.ravel())[0,1]**2\n",
    "ax = axs[1]\n",
    "#ax.scatter(logo_bloomd.df.values, theta_1_df.values,s=2.5,alpha=0.25,color='blue')\n",
    "ax.scatter(bloom_exp_df.values.ravel(),theta_df.fillna(0).values.ravel(),s=2,alpha=0.2,color='blue')\n",
    "\n",
    "#bloom_exp_df\n",
    "# bloom_bind_df\n",
    "\n",
    "lims = [-5,1]\n",
    "#ax.plot(lims,lims,'--')\n",
    "ax.set_xlabel('Bloom single mut effects - Expression')\n",
    "ax.set_title(f'$R^2 = {Rsq_1:.3f}$')\n",
    "ax.set_ylabel('MAVE-NN2 Tite-seq G-P map $\\\\theta_1$')\n",
    "\n",
    "fig.tight_layout()"
   ]
  },
  {
   "cell_type": "code",
   "execution_count": 37,
   "metadata": {},
   "outputs": [],
   "source": [
    "theta_lc = gpmap.get_theta(model,gauge='consensus')['theta_lc']\n",
    "theta_lc_consensus_df = pd.DataFrame(theta_lc,columns=alphabet)"
   ]
  },
  {
   "cell_type": "code",
   "execution_count": 38,
   "metadata": {},
   "outputs": [
    {
     "data": {
      "image/png": "[encoded data removed]",
      "text/plain": [
       "<Figure size 288x288 with 1 Axes>"
      ]
     },
     "metadata": {
      "needs_background": "light"
     },
     "output_type": "display_data"
    }
   ],
   "source": [
    "plt.figure(figsize=(4,4))\n",
    "Rsq = np.corrcoef(bloom_bind_df.fillna(0).values.ravel(), theta_lc_consensus_df.fillna(0).values.ravel())[0,1]**2\n",
    "plt.scatter(bloom_bind_df.values, theta_lc_consensus_df.values,s=2.5,alpha=0.25,color='blue')\n",
    "\n",
    "#lims = [-5,1]\n",
    "#plt.plot(lims,lims,'--',color='gray',zorder=-1)\n",
    "plt.xlabel('Bloom single mut effects - Binding')\n",
    "plt.title(f'Titeseq MP, multiheaded \\n $R^2 = {Rsq:.3f}$')\n",
    "plt.ylabel('MAVE-NN2, G-P map')\n",
    "plt.tight_layout()\n",
    "#plt.savefig('mavenn_bloom_binding_comparison.png',dpi=200,bbox_inches='tight')"
   ]
  },
  {
   "cell_type": "code",
   "execution_count": 39,
   "metadata": {},
   "outputs": [
    {
     "data": {
      "image/png": "[encoded data removed]",
      "text/plain": [
       "<Figure size 288x288 with 1 Axes>"
      ]
     },
     "metadata": {
      "needs_background": "light"
     },
     "output_type": "display_data"
    }
   ],
   "source": [
    "plt.figure(figsize=(4,4))\n",
    "Rsq = np.corrcoef(bloom_exp_df.fillna(0).values.ravel(), theta_lc_consensus_df.fillna(0).values.ravel())[0,1]**2\n",
    "plt.scatter(bloom_exp_df.values, theta_lc_consensus_df.values,s=2.5,alpha=0.25,color='blue')\n",
    "\n",
    "#lims = [-5,1]\n",
    "#plt.plot(lims,lims,'--',color='gray',zorder=-1)\n",
    "plt.xlabel('Bloom single mut effects - Expression')\n",
    "plt.title(f'Titeseq MP, multiheaded ]\\n $R^2 = {Rsq:.3f}$')\n",
    "plt.ylabel('MAVE-NN2, G-P map')\n",
    "plt.tight_layout()\n",
    "#plt.savefig('mavenn_bloom_binding_comparison.png',dpi=200,bbox_inches='tight')"
   ]
  },
  {
   "cell_type": "code",
   "execution_count": null,
   "metadata": {},
   "outputs": [],
   "source": []
  }
 ],
 "metadata": {
  "kernelspec": {
   "display_name": "Python 3 (ipykernel)",
   "language": "python",
   "name": "python3"
  },
  "language_info": {
   "codemirror_mode": {
    "name": "ipython",
    "version": 3
   },
   "file_extension": ".py",
   "mimetype": "text/x-python",
   "name": "python",
   "nbconvert_exporter": "python",
   "pygments_lexer": "ipython3",
   "version": "3.9.7"
  }
 },
 "nbformat": 4,
 "nbformat_minor": 2
}
