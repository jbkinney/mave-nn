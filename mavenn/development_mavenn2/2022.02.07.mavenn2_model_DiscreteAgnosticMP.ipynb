{
 "cells": [
  {
   "cell_type": "code",
   "execution_count": 1,
   "metadata": {
    "collapsed": true
   },
   "outputs": [],
   "source": [
    "import numpy as np\n",
    "import pandas as pd\n",
    "import matplotlib.pyplot as plt\n",
    "import sys\n",
    "sys.path.insert(0, '/Users/tareen/Desktop/Research_Projects/2022_mavenn2_github/mavenn')\n",
    "\n",
    "import mavenn\n",
    "import logomaker\n",
    "import seaborn as sns\n",
    "import re\n",
    "\n",
    "%matplotlib inline"
   ]
  },
  {
   "cell_type": "code",
   "execution_count": 2,
   "metadata": {},
   "outputs": [
    {
     "name": "stdout",
     "output_type": "stream",
     "text": [
      "test N: 9,935\n",
      "training + validation N: 40,583\n"
     ]
    },
    {
     "data": {
      "text/html": [
       "<div>\n",
       "<style scoped>\n",
       "    .dataframe tbody tr th:only-of-type {\n",
       "        vertical-align: middle;\n",
       "    }\n",
       "\n",
       "    .dataframe tbody tr th {\n",
       "        vertical-align: top;\n",
       "    }\n",
       "\n",
       "    .dataframe thead th {\n",
       "        text-align: right;\n",
       "    }\n",
       "</style>\n",
       "<table border=\"1\" class=\"dataframe\">\n",
       "  <thead>\n",
       "    <tr style=\"text-align: right;\">\n",
       "      <th></th>\n",
       "      <th>set</th>\n",
       "      <th>ct_0</th>\n",
       "      <th>ct_1</th>\n",
       "      <th>ct_2</th>\n",
       "      <th>ct_3</th>\n",
       "      <th>ct_4</th>\n",
       "      <th>ct_5</th>\n",
       "      <th>ct_6</th>\n",
       "      <th>ct_7</th>\n",
       "      <th>ct_8</th>\n",
       "      <th>ct_9</th>\n",
       "      <th>x</th>\n",
       "    </tr>\n",
       "  </thead>\n",
       "  <tbody>\n",
       "    <tr>\n",
       "      <th>0</th>\n",
       "      <td>training</td>\n",
       "      <td>0</td>\n",
       "      <td>1</td>\n",
       "      <td>0</td>\n",
       "      <td>0</td>\n",
       "      <td>0</td>\n",
       "      <td>0</td>\n",
       "      <td>0</td>\n",
       "      <td>0</td>\n",
       "      <td>0</td>\n",
       "      <td>0</td>\n",
       "      <td>AAAAAAAGTGAGTTAGCCAACTAATTAGGCACCGTACGCTTTATAG...</td>\n",
       "    </tr>\n",
       "    <tr>\n",
       "      <th>1</th>\n",
       "      <td>training</td>\n",
       "      <td>0</td>\n",
       "      <td>0</td>\n",
       "      <td>0</td>\n",
       "      <td>0</td>\n",
       "      <td>0</td>\n",
       "      <td>0</td>\n",
       "      <td>0</td>\n",
       "      <td>0</td>\n",
       "      <td>0</td>\n",
       "      <td>1</td>\n",
       "      <td>AAAAAATGAGAGTTAGTTCACTCATTCGGCACCACAGGCTTTACAA...</td>\n",
       "    </tr>\n",
       "    <tr>\n",
       "      <th>2</th>\n",
       "      <td>training</td>\n",
       "      <td>0</td>\n",
       "      <td>0</td>\n",
       "      <td>0</td>\n",
       "      <td>0</td>\n",
       "      <td>0</td>\n",
       "      <td>0</td>\n",
       "      <td>0</td>\n",
       "      <td>0</td>\n",
       "      <td>0</td>\n",
       "      <td>1</td>\n",
       "      <td>AAAAAATGGGTGTTAGCTCTATCATTAGGCACCCCCGGCTTTACAC...</td>\n",
       "    </tr>\n",
       "    <tr>\n",
       "      <th>3</th>\n",
       "      <td>training</td>\n",
       "      <td>0</td>\n",
       "      <td>1</td>\n",
       "      <td>0</td>\n",
       "      <td>0</td>\n",
       "      <td>0</td>\n",
       "      <td>0</td>\n",
       "      <td>0</td>\n",
       "      <td>0</td>\n",
       "      <td>0</td>\n",
       "      <td>0</td>\n",
       "      <td>AAAAAATGTCAGTTAGCTGACTCATTAGGCACCCCTGGCTTTACGT...</td>\n",
       "    </tr>\n",
       "    <tr>\n",
       "      <th>4</th>\n",
       "      <td>validation</td>\n",
       "      <td>0</td>\n",
       "      <td>0</td>\n",
       "      <td>0</td>\n",
       "      <td>0</td>\n",
       "      <td>0</td>\n",
       "      <td>0</td>\n",
       "      <td>1</td>\n",
       "      <td>0</td>\n",
       "      <td>0</td>\n",
       "      <td>0</td>\n",
       "      <td>AAAAAATGTGAGAAAGCTCACTCCTTTGGCACCGCAGGCTTTACAC...</td>\n",
       "    </tr>\n",
       "  </tbody>\n",
       "</table>\n",
       "</div>"
      ],
      "text/plain": [
       "          set  ct_0  ct_1  ct_2  ct_3  ct_4  ct_5  ct_6  ct_7  ct_8  ct_9  \\\n",
       "0    training     0     1     0     0     0     0     0     0     0     0   \n",
       "1    training     0     0     0     0     0     0     0     0     0     1   \n",
       "2    training     0     0     0     0     0     0     0     0     0     1   \n",
       "3    training     0     1     0     0     0     0     0     0     0     0   \n",
       "4  validation     0     0     0     0     0     0     1     0     0     0   \n",
       "\n",
       "                                                   x  \n",
       "0  AAAAAAAGTGAGTTAGCCAACTAATTAGGCACCGTACGCTTTATAG...  \n",
       "1  AAAAAATGAGAGTTAGTTCACTCATTCGGCACCACAGGCTTTACAA...  \n",
       "2  AAAAAATGGGTGTTAGCTCTATCATTAGGCACCCCCGGCTTTACAC...  \n",
       "3  AAAAAATGTCAGTTAGCTGACTCATTAGGCACCCCTGGCTTTACGT...  \n",
       "4  AAAAAATGTGAGAAAGCTCACTCCTTTGGCACCGCAGGCTTTACAC...  "
      ]
     },
     "execution_count": 2,
     "metadata": {},
     "output_type": "execute_result"
    }
   ],
   "source": [
    "# Load example data\n",
    "data_df = mavenn.load_example_dataset('sortseq')\n",
    "\n",
    "# Separate test from data_df\n",
    "ix_test = data_df['set']=='test'\n",
    "test_df = data_df[ix_test].reset_index(drop=True)\n",
    "print(f'test N: {len(test_df):,}')\n",
    "\n",
    "# Remove test data from data_df\n",
    "data_df = data_df[~ix_test].reset_index(drop=True)\n",
    "print(f'training + validation N: {len(data_df):,}')\n",
    "data_df.head()"
   ]
  },
  {
   "cell_type": "code",
   "execution_count": 3,
   "metadata": {},
   "outputs": [
    {
     "name": "stdout",
     "output_type": "stream",
     "text": [
      "L=75, Y=10\n"
     ]
    }
   ],
   "source": [
    "# set positional argumnets for gpmap function\n",
    "L = len(data_df['x'][0])\n",
    "alphabet=['A','C','G','T']\n",
    "\n",
    "y_cols = data_df.columns[1:-1]\n",
    "Y = len(y_cols)\n",
    "print(f'L={L}, Y={Y}')\n",
    "\n",
    "# get test set data.\n",
    "x_test = test_df['x'].values"
   ]
  },
  {
   "cell_type": "code",
   "execution_count": 4,
   "metadata": {},
   "outputs": [
    {
     "name": "stderr",
     "output_type": "stream",
     "text": [
      "2022-03-29 00:01:34.441744: I tensorflow/core/platform/cpu_feature_guard.cc:151] This TensorFlow binary is optimized with oneAPI Deep Neural Network Library (oneDNN) to use the following CPU instructions in performance-critical operations:  AVX2 FMA\n",
      "To enable them in other operations, rebuild TensorFlow with the appropriate compiler flags.\n"
     ]
    }
   ],
   "source": [
    "# instantiate gpmap object\n",
    "gpmap = mavenn.gpmap.AdditiveGPMapLayer(L, alphabet)\n"
   ]
  },
  {
   "cell_type": "markdown",
   "metadata": {},
   "source": [
    "### Create measurement process object(s)"
   ]
  },
  {
   "cell_type": "code",
   "execution_count": 5,
   "metadata": {},
   "outputs": [],
   "source": [
    "# I think this shouldn't require any positional arguments.\n",
    "# mp_GE = mavenn.measurement_process_layers.GlobalEpistasisLayer(K=50,\n",
    "#                                                                eta=1e-5,\n",
    "#                                                                monotonic=True)\n",
    "mp_mpa = mavenn.measurement_process_layers.DiscreteAgnosticMP(info_for_layers_dict={'H_y_norm':0},\n",
    "                                                                      Y=10,\n",
    "                                                                      K=50,\n",
    "                                                                      eta=1e-5,)\n"
   ]
  },
  {
   "cell_type": "code",
   "execution_count": 6,
   "metadata": {},
   "outputs": [],
   "source": [
    "model = mavenn.Model2(gpmap=gpmap,\n",
    "                      mp_list=[mp_mpa])"
   ]
  },
  {
   "cell_type": "code",
   "execution_count": 7,
   "metadata": {},
   "outputs": [
    {
     "name": "stdout",
     "output_type": "stream",
     "text": [
      "Model: \"model\"\n",
      "__________________________________________________________________________________________________\n",
      " Layer (type)                   Output Shape         Param #     Connected to                     \n",
      "==================================================================================================\n",
      " Sequence_labels_input (InputLa  [(None, 310)]       0           []                               \n",
      " yer)                                                                                             \n",
      "                                                                                                  \n",
      " Sequence_only (Lambda)         (None, 300)          0           ['Sequence_labels_input[0][0]']  \n",
      "                                                                                                  \n",
      " additive_gp_map_layer (Additiv  (None, 1)           301         ['Sequence_only[0][0]']          \n",
      " eGPMapLayer)                                                                                     \n",
      "                                                                                                  \n",
      " Labels_input_0 (Lambda)        (None, 10)           0           ['Sequence_labels_input[0][0]']  \n",
      "                                                                                                  \n",
      " concatenate (Concatenate)      (None, 11)           0           ['additive_gp_map_layer[0][0]',  \n",
      "                                                                  'Labels_input_0[0][0]']         \n",
      "                                                                                                  \n",
      " discrete_agnostic_mp (Discrete  (None,)             1510        ['concatenate[0][0]']            \n",
      " AgnosticMP)                                                                                      \n",
      "                                                                                                  \n",
      "==================================================================================================\n",
      "Total params: 1,811\n",
      "Trainable params: 1,811\n",
      "Non-trainable params: 0\n",
      "__________________________________________________________________________________________________\n"
     ]
    }
   ],
   "source": [
    "model.model.summary()"
   ]
  },
  {
   "cell_type": "code",
   "execution_count": 8,
   "metadata": {},
   "outputs": [
    {
     "name": "stdout",
     "output_type": "stream",
     "text": [
      "N = 40,583 observations set as training data.\n",
      "Using 24.8% for validation.\n",
      "Time to set data: 1.11 sec.\n"
     ]
    }
   ],
   "source": [
    "# Set training data\n",
    "model.set_data(x=data_df['x'].values,\n",
    "               y_list=[data_df[y_cols].values],\n",
    "               validation_flags=(data_df['set']=='validation'),\n",
    "               shuffle=False)\n"
   ]
  },
  {
   "cell_type": "code",
   "execution_count": 9,
   "metadata": {},
   "outputs": [
    {
     "name": "stdout",
     "output_type": "stream",
     "text": [
      "Epoch 1/1000\n",
      "62/62 [==============================] - 1s 9ms/step - loss: 1175.9475 - I_var: 0.0130 - val_loss: 1124.7837 - val_I_var: 0.1362\n",
      "Epoch 2/1000\n",
      "62/62 [==============================] - 0s 6ms/step - loss: 1046.4801 - I_var: 0.3806 - val_loss: 988.6919 - val_I_var: 0.5273\n",
      "Epoch 3/1000\n",
      "62/62 [==============================] - 0s 5ms/step - loss: 994.4573 - I_var: 0.5236 - val_loss: 998.8061 - val_I_var: 0.5008\n",
      "Epoch 4/1000\n",
      "62/62 [==============================] - 0s 5ms/step - loss: 985.4398 - I_var: 0.5532 - val_loss: 977.4054 - val_I_var: 0.5593\n",
      "Epoch 5/1000\n",
      "62/62 [==============================] - 0s 5ms/step - loss: 978.4114 - I_var: 0.5719 - val_loss: 967.5831 - val_I_var: 0.5880\n",
      "Epoch 6/1000\n",
      "62/62 [==============================] - 0s 5ms/step - loss: 972.8793 - I_var: 0.5853 - val_loss: 962.4884 - val_I_var: 0.5992\n",
      "Epoch 7/1000\n",
      "62/62 [==============================] - 0s 5ms/step - loss: 969.6298 - I_var: 0.6010 - val_loss: 965.9338 - val_I_var: 0.5919\n",
      "Epoch 8/1000\n",
      "62/62 [==============================] - 0s 5ms/step - loss: 965.0436 - I_var: 0.6047 - val_loss: 967.5728 - val_I_var: 0.5835\n",
      "Epoch 9/1000\n",
      "62/62 [==============================] - 0s 5ms/step - loss: 963.2623 - I_var: 0.6070 - val_loss: 955.8895 - val_I_var: 0.6209\n",
      "Epoch 10/1000\n",
      "62/62 [==============================] - 0s 5ms/step - loss: 960.3533 - I_var: 0.6193 - val_loss: 948.6973 - val_I_var: 0.6396\n",
      "Epoch 11/1000\n",
      "62/62 [==============================] - 0s 6ms/step - loss: 959.4277 - I_var: 0.6189 - val_loss: 951.1292 - val_I_var: 0.6323\n",
      "Epoch 12/1000\n",
      "62/62 [==============================] - 0s 5ms/step - loss: 957.7811 - I_var: 0.6262 - val_loss: 950.8757 - val_I_var: 0.6353\n",
      "Epoch 13/1000\n",
      "62/62 [==============================] - 0s 6ms/step - loss: 957.6572 - I_var: 0.6297 - val_loss: 946.8781 - val_I_var: 0.6418\n",
      "Epoch 14/1000\n",
      "62/62 [==============================] - 0s 6ms/step - loss: 954.7644 - I_var: 0.6331 - val_loss: 943.8559 - val_I_var: 0.6514\n",
      "Epoch 15/1000\n",
      "62/62 [==============================] - 0s 6ms/step - loss: 953.4909 - I_var: 0.6381 - val_loss: 947.7333 - val_I_var: 0.6382\n",
      "Epoch 16/1000\n",
      "62/62 [==============================] - 0s 5ms/step - loss: 956.6696 - I_var: 0.6329 - val_loss: 946.0286 - val_I_var: 0.6459\n",
      "Epoch 17/1000\n",
      "62/62 [==============================] - 0s 6ms/step - loss: 953.6230 - I_var: 0.6403 - val_loss: 944.0081 - val_I_var: 0.6503\n",
      "Epoch 18/1000\n",
      "62/62 [==============================] - 0s 5ms/step - loss: 953.9772 - I_var: 0.6324 - val_loss: 963.7001 - val_I_var: 0.5963\n",
      "Epoch 19/1000\n",
      "62/62 [==============================] - 0s 6ms/step - loss: 955.9706 - I_var: 0.6306 - val_loss: 943.3063 - val_I_var: 0.6548\n",
      "Epoch 20/1000\n",
      "62/62 [==============================] - 0s 5ms/step - loss: 951.9052 - I_var: 0.6450 - val_loss: 943.6392 - val_I_var: 0.6520\n",
      "Epoch 21/1000\n",
      "62/62 [==============================] - 0s 7ms/step - loss: 953.7889 - I_var: 0.6279 - val_loss: 942.8363 - val_I_var: 0.6559\n",
      "Epoch 22/1000\n",
      "62/62 [==============================] - 0s 6ms/step - loss: 951.5600 - I_var: 0.6442 - val_loss: 944.3503 - val_I_var: 0.6512\n",
      "Epoch 23/1000\n",
      "62/62 [==============================] - 0s 5ms/step - loss: 953.6620 - I_var: 0.6389 - val_loss: 956.6171 - val_I_var: 0.6159\n",
      "Epoch 24/1000\n",
      "62/62 [==============================] - 0s 6ms/step - loss: 954.3502 - I_var: 0.6381 - val_loss: 944.3057 - val_I_var: 0.6525\n",
      "Epoch 25/1000\n",
      "62/62 [==============================] - 0s 6ms/step - loss: 952.5593 - I_var: 0.6368 - val_loss: 946.3125 - val_I_var: 0.6435\n",
      "Epoch 26/1000\n",
      "62/62 [==============================] - 0s 6ms/step - loss: 953.1493 - I_var: 0.6350 - val_loss: 940.9282 - val_I_var: 0.6600\n",
      "Epoch 27/1000\n",
      "62/62 [==============================] - 0s 5ms/step - loss: 951.6596 - I_var: 0.6471 - val_loss: 947.3343 - val_I_var: 0.6389\n",
      "Epoch 28/1000\n",
      "62/62 [==============================] - 1s 8ms/step - loss: 953.4139 - I_var: 0.6441 - val_loss: 945.8452 - val_I_var: 0.6487\n",
      "Epoch 29/1000\n",
      "62/62 [==============================] - 0s 7ms/step - loss: 952.7837 - I_var: 0.6400 - val_loss: 949.2510 - val_I_var: 0.6359\n",
      "Epoch 30/1000\n",
      "62/62 [==============================] - 0s 7ms/step - loss: 954.5355 - I_var: 0.6395 - val_loss: 944.0116 - val_I_var: 0.6509\n",
      "Epoch 31/1000\n",
      "62/62 [==============================] - 0s 6ms/step - loss: 953.5931 - I_var: 0.6386 - val_loss: 944.3012 - val_I_var: 0.6516\n",
      "Epoch 32/1000\n",
      "62/62 [==============================] - 0s 7ms/step - loss: 954.6440 - I_var: 0.6358 - val_loss: 949.4210 - val_I_var: 0.6342\n",
      "Epoch 33/1000\n",
      "62/62 [==============================] - 1s 10ms/step - loss: 951.7646 - I_var: 0.6426 - val_loss: 940.8927 - val_I_var: 0.6608\n",
      "Epoch 34/1000\n",
      "62/62 [==============================] - 0s 7ms/step - loss: 950.9084 - I_var: 0.6455 - val_loss: 940.9604 - val_I_var: 0.6616\n",
      "Epoch 35/1000\n",
      "62/62 [==============================] - 0s 7ms/step - loss: 950.8432 - I_var: 0.6395 - val_loss: 943.2307 - val_I_var: 0.6528\n",
      "Epoch 36/1000\n",
      "62/62 [==============================] - 0s 8ms/step - loss: 951.5212 - I_var: 0.6451 - val_loss: 942.0956 - val_I_var: 0.6546\n",
      "Epoch 37/1000\n",
      "62/62 [==============================] - 0s 7ms/step - loss: 952.3981 - I_var: 0.6401 - val_loss: 940.6264 - val_I_var: 0.6604\n",
      "Epoch 38/1000\n",
      "62/62 [==============================] - 0s 7ms/step - loss: 952.1716 - I_var: 0.6372 - val_loss: 943.8219 - val_I_var: 0.6530\n",
      "Epoch 39/1000\n",
      "62/62 [==============================] - 0s 7ms/step - loss: 952.0010 - I_var: 0.6442 - val_loss: 947.3567 - val_I_var: 0.6415\n",
      "Epoch 40/1000\n",
      "62/62 [==============================] - 0s 8ms/step - loss: 952.0116 - I_var: 0.6341 - val_loss: 942.4656 - val_I_var: 0.6544\n",
      "Epoch 41/1000\n",
      "62/62 [==============================] - 0s 7ms/step - loss: 953.9233 - I_var: 0.6350 - val_loss: 950.1121 - val_I_var: 0.6342\n",
      "Epoch 42/1000\n",
      "62/62 [==============================] - 0s 6ms/step - loss: 951.5363 - I_var: 0.6392 - val_loss: 944.2133 - val_I_var: 0.6519\n",
      "Epoch 43/1000\n",
      "62/62 [==============================] - 1s 9ms/step - loss: 952.1235 - I_var: 0.6406 - val_loss: 943.5916 - val_I_var: 0.6509\n",
      "Epoch 44/1000\n",
      "62/62 [==============================] - 1s 10ms/step - loss: 952.5771 - I_var: 0.6416 - val_loss: 944.8684 - val_I_var: 0.6467\n",
      "Epoch 45/1000\n",
      "62/62 [==============================] - 0s 6ms/step - loss: 951.9852 - I_var: 0.6495 - val_loss: 942.8490 - val_I_var: 0.6559\n",
      "Epoch 46/1000\n",
      "62/62 [==============================] - 0s 5ms/step - loss: 951.3914 - I_var: 0.6483 - val_loss: 945.8332 - val_I_var: 0.6467\n",
      "Epoch 47/1000\n",
      "62/62 [==============================] - 0s 5ms/step - loss: 952.5844 - I_var: 0.6396 - val_loss: 943.9701 - val_I_var: 0.6523\n",
      "Training time: 19.4 seconds\n"
     ]
    },
    {
     "data": {
      "text/plain": [
       "<keras.callbacks.History at 0x7fdca26b3700>"
      ]
     },
     "execution_count": 9,
     "metadata": {},
     "output_type": "execute_result"
    }
   ],
   "source": [
    "\n",
    "# Fit model to data\n",
    "model.fit(learning_rate=.005,\n",
    "          epochs=1000,\n",
    "          batch_size=500,\n",
    "          try_tqdm = False,\n",
    "          early_stopping=True,\n",
    "          early_stopping_patience=10,\n",
    "          linear_initialization=False)"
   ]
  },
  {
   "cell_type": "code",
   "execution_count": 14,
   "metadata": {},
   "outputs": [
    {
     "name": "stdout",
     "output_type": "stream",
     "text": [
      "On test data:\n"
     ]
    },
    {
     "data": {
      "text/plain": [
       "Text(0.5, 1.0, 'training hisotry')"
      ]
     },
     "execution_count": 14,
     "metadata": {},
     "output_type": "execute_result"
    },
    {
     "data": {
      "image/png": "[encoded data removed]",
      "text/plain": [
       "<Figure size 288x288 with 1 Axes>"
      ]
     },
     "metadata": {
      "needs_background": "light"
     },
     "output_type": "display_data"
    }
   ],
   "source": [
    "# Show training history\n",
    "print('On test data:')\n",
    "x_test = test_df['x'].values\n",
    "y_test = test_df[y_cols].values\n",
    "\n",
    "\n",
    "I_var_hist = model.history['I_var']\n",
    "val_I_var_hist = model.history['val_I_var']\n",
    "\n",
    "fig, ax = plt.subplots(1,1,figsize=[4,4])\n",
    "ax.plot(I_var_hist, label='I_var_train')\n",
    "ax.plot(val_I_var_hist, label='I_var_val')\n",
    "ax.legend()\n",
    "ax.set_xlabel('epochs')\n",
    "ax.set_ylabel('bits')\n",
    "ax.set_title('training hisotry')"
   ]
  },
  {
   "cell_type": "code",
   "execution_count": 39,
   "metadata": {},
   "outputs": [
    {
     "data": {
      "image/png": "[encoded data removed]",
      "text/plain": [
       "<Figure size 864x288 with 2 Axes>"
      ]
     },
     "metadata": {
      "needs_background": "light"
     },
     "output_type": "display_data"
    }
   ],
   "source": [
    "# Get G-P map parameters in matrix form\n",
    "theta = np.squeeze(gpmap.weights[1].numpy())\n",
    "\n",
    "# Create grid in phi space\n",
    "phi_lim = [-5, 3]\n",
    "phi_grid = np.linspace(phi_lim[0], phi_lim[1], 1000)\n",
    "\n",
    "# Create array of allowable y values\n",
    "Y = mp_mpa.Y    # Y = number of bins\n",
    "y_lim = [-.5, Y-.5]\n",
    "y_all = range(Y)\n",
    "\n",
    "# Compute matrix of p(y|phi) values\n",
    "#measurement_process = mp_mpa.p_of_y_given_phi(y_all, phi_grid)\n",
    "\n",
    "# Create figure with two panels\n",
    "fig, axs = plt.subplots(1,2,figsize=[12,4])\n",
    "\n",
    "# Left panel: draw logo using logomaker\n",
    "ax = axs[0]\n",
    "logo = logomaker.Logo(-pd.DataFrame(theta,columns=model.alphabet), ax=ax,center_values=True)\n",
    "ax.set_ylabel(r'parameter value ($\\theta_{l:c}$)')\n",
    "ax.set_xlabel(r'position ($l$)')\n",
    "ax.set_title('G-P map parameters')\n",
    "\n",
    "# Right panel: draw measurement process as heatmap\n",
    "# ax = axs[1]\n",
    "# im = ax.imshow(measurement_process,\n",
    "#                cmap='Greens',\n",
    "#                extent=phi_lim+y_lim,\n",
    "#                vmin=0,\n",
    "#                origin='lower',\n",
    "#                interpolation='nearest',\n",
    "#                aspect=\"auto\")\n",
    "# ax.set_yticks(y_all)\n",
    "# ax.set_ylabel('bin number (y)')\n",
    "# ax.set_xlabel('latent phenotype ($\\phi$)')\n",
    "# ax.set_title('measurement process')\n",
    "# cb = plt.colorbar(im)\n",
    "# cb.set_label('probability  $p(y|\\phi)$', rotation=-90, va=\"bottom\")\n",
    "\n",
    "# Fix up plot\n",
    "fig.tight_layout(w_pad=3)\n",
    "#fig.savefig('sortseq_g-p_map_mpa_visualization.png')\n",
    "plt.show()"
   ]
  },
  {
   "cell_type": "code",
   "execution_count": null,
   "metadata": {
    "collapsed": true
   },
   "outputs": [],
   "source": []
  }
 ],
 "metadata": {
  "kernelspec": {
   "display_name": "Python 3 (ipykernel)",
   "language": "python",
   "name": "python3"
  },
  "language_info": {
   "codemirror_mode": {
    "name": "ipython",
    "version": 3
   },
   "file_extension": ".py",
   "mimetype": "text/x-python",
   "name": "python",
   "nbconvert_exporter": "python",
   "pygments_lexer": "ipython3",
   "version": "3.9.7"
  }
 },
 "nbformat": 4,
 "nbformat_minor": 2
}
