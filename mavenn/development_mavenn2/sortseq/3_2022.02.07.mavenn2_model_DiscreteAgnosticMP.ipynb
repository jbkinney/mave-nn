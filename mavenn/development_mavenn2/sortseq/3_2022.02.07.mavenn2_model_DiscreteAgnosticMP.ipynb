{
 "cells": [
  {
   "cell_type": "code",
   "execution_count": 1,
   "metadata": {},
   "outputs": [],
   "source": [
    "import numpy as np\n",
    "import pandas as pd\n",
    "import matplotlib.pyplot as plt\n",
    "import sys\n",
    "#sys.path.insert(0, '/Users/ammar.tareen/Desktop/Research_projects/mavenn2/')\n",
    "sys.path.insert(0, '/Users/tareen/Desktop/Research_Projects/2022_mavenn2_github/mavenn')\n",
    "\n",
    "import mavenn\n",
    "import logomaker\n",
    "import seaborn as sns\n",
    "import re\n",
    "\n",
    "%matplotlib inline"
   ]
  },
  {
   "cell_type": "code",
   "execution_count": 2,
   "metadata": {},
   "outputs": [
    {
     "name": "stdout",
     "output_type": "stream",
     "text": [
      "test N: 9,935\n",
      "training + validation N: 40,583\n"
     ]
    },
    {
     "data": {
      "text/html": [
       "<div>\n",
       "<style scoped>\n",
       "    .dataframe tbody tr th:only-of-type {\n",
       "        vertical-align: middle;\n",
       "    }\n",
       "\n",
       "    .dataframe tbody tr th {\n",
       "        vertical-align: top;\n",
       "    }\n",
       "\n",
       "    .dataframe thead th {\n",
       "        text-align: right;\n",
       "    }\n",
       "</style>\n",
       "<table border=\"1\" class=\"dataframe\">\n",
       "  <thead>\n",
       "    <tr style=\"text-align: right;\">\n",
       "      <th></th>\n",
       "      <th>set</th>\n",
       "      <th>ct_0</th>\n",
       "      <th>ct_1</th>\n",
       "      <th>ct_2</th>\n",
       "      <th>ct_3</th>\n",
       "      <th>ct_4</th>\n",
       "      <th>ct_5</th>\n",
       "      <th>ct_6</th>\n",
       "      <th>ct_7</th>\n",
       "      <th>ct_8</th>\n",
       "      <th>ct_9</th>\n",
       "      <th>x</th>\n",
       "    </tr>\n",
       "  </thead>\n",
       "  <tbody>\n",
       "    <tr>\n",
       "      <th>0</th>\n",
       "      <td>training</td>\n",
       "      <td>0</td>\n",
       "      <td>1</td>\n",
       "      <td>0</td>\n",
       "      <td>0</td>\n",
       "      <td>0</td>\n",
       "      <td>0</td>\n",
       "      <td>0</td>\n",
       "      <td>0</td>\n",
       "      <td>0</td>\n",
       "      <td>0</td>\n",
       "      <td>AAAAAAAGTGAGTTAGCCAACTAATTAGGCACCGTACGCTTTATAG...</td>\n",
       "    </tr>\n",
       "    <tr>\n",
       "      <th>1</th>\n",
       "      <td>training</td>\n",
       "      <td>0</td>\n",
       "      <td>0</td>\n",
       "      <td>0</td>\n",
       "      <td>0</td>\n",
       "      <td>0</td>\n",
       "      <td>0</td>\n",
       "      <td>0</td>\n",
       "      <td>0</td>\n",
       "      <td>0</td>\n",
       "      <td>1</td>\n",
       "      <td>AAAAAATGAGAGTTAGTTCACTCATTCGGCACCACAGGCTTTACAA...</td>\n",
       "    </tr>\n",
       "    <tr>\n",
       "      <th>2</th>\n",
       "      <td>training</td>\n",
       "      <td>0</td>\n",
       "      <td>0</td>\n",
       "      <td>0</td>\n",
       "      <td>0</td>\n",
       "      <td>0</td>\n",
       "      <td>0</td>\n",
       "      <td>0</td>\n",
       "      <td>0</td>\n",
       "      <td>0</td>\n",
       "      <td>1</td>\n",
       "      <td>AAAAAATGGGTGTTAGCTCTATCATTAGGCACCCCCGGCTTTACAC...</td>\n",
       "    </tr>\n",
       "    <tr>\n",
       "      <th>3</th>\n",
       "      <td>training</td>\n",
       "      <td>0</td>\n",
       "      <td>1</td>\n",
       "      <td>0</td>\n",
       "      <td>0</td>\n",
       "      <td>0</td>\n",
       "      <td>0</td>\n",
       "      <td>0</td>\n",
       "      <td>0</td>\n",
       "      <td>0</td>\n",
       "      <td>0</td>\n",
       "      <td>AAAAAATGTCAGTTAGCTGACTCATTAGGCACCCCTGGCTTTACGT...</td>\n",
       "    </tr>\n",
       "    <tr>\n",
       "      <th>4</th>\n",
       "      <td>validation</td>\n",
       "      <td>0</td>\n",
       "      <td>0</td>\n",
       "      <td>0</td>\n",
       "      <td>0</td>\n",
       "      <td>0</td>\n",
       "      <td>0</td>\n",
       "      <td>1</td>\n",
       "      <td>0</td>\n",
       "      <td>0</td>\n",
       "      <td>0</td>\n",
       "      <td>AAAAAATGTGAGAAAGCTCACTCCTTTGGCACCGCAGGCTTTACAC...</td>\n",
       "    </tr>\n",
       "  </tbody>\n",
       "</table>\n",
       "</div>"
      ],
      "text/plain": [
       "          set  ct_0  ct_1  ct_2  ct_3  ct_4  ct_5  ct_6  ct_7  ct_8  ct_9  \\\n",
       "0    training     0     1     0     0     0     0     0     0     0     0   \n",
       "1    training     0     0     0     0     0     0     0     0     0     1   \n",
       "2    training     0     0     0     0     0     0     0     0     0     1   \n",
       "3    training     0     1     0     0     0     0     0     0     0     0   \n",
       "4  validation     0     0     0     0     0     0     1     0     0     0   \n",
       "\n",
       "                                                   x  \n",
       "0  AAAAAAAGTGAGTTAGCCAACTAATTAGGCACCGTACGCTTTATAG...  \n",
       "1  AAAAAATGAGAGTTAGTTCACTCATTCGGCACCACAGGCTTTACAA...  \n",
       "2  AAAAAATGGGTGTTAGCTCTATCATTAGGCACCCCCGGCTTTACAC...  \n",
       "3  AAAAAATGTCAGTTAGCTGACTCATTAGGCACCCCTGGCTTTACGT...  \n",
       "4  AAAAAATGTGAGAAAGCTCACTCCTTTGGCACCGCAGGCTTTACAC...  "
      ]
     },
     "execution_count": 2,
     "metadata": {},
     "output_type": "execute_result"
    }
   ],
   "source": [
    "# Load example data\n",
    "data_df = mavenn.load_example_dataset('sortseq')\n",
    "\n",
    "# Separate test from data_df\n",
    "ix_test = data_df['set']=='test'\n",
    "test_df = data_df[ix_test].reset_index(drop=True)\n",
    "print(f'test N: {len(test_df):,}')\n",
    "\n",
    "# Remove test data from data_df\n",
    "data_df = data_df[~ix_test].reset_index(drop=True)\n",
    "print(f'training + validation N: {len(data_df):,}')\n",
    "data_df.head()"
   ]
  },
  {
   "cell_type": "code",
   "execution_count": 3,
   "metadata": {},
   "outputs": [
    {
     "name": "stdout",
     "output_type": "stream",
     "text": [
      "L=75, Y=10\n"
     ]
    }
   ],
   "source": [
    "# set positional argumnets for gpmap function\n",
    "L = len(data_df['x'][0])\n",
    "alphabet=['A','C','G','T']\n",
    "\n",
    "y_cols = data_df.columns[1:-1]\n",
    "Y = len(y_cols)\n",
    "print(f'L={L}, Y={Y}')\n",
    "\n",
    "# get test set data.\n",
    "x_test = test_df['x'].values"
   ]
  },
  {
   "cell_type": "code",
   "execution_count": 4,
   "metadata": {},
   "outputs": [
    {
     "name": "stderr",
     "output_type": "stream",
     "text": [
      "2022-05-25 22:03:52.951046: I tensorflow/core/platform/cpu_feature_guard.cc:151] This TensorFlow binary is optimized with oneAPI Deep Neural Network Library (oneDNN) to use the following CPU instructions in performance-critical operations:  AVX2 FMA\n",
      "To enable them in other operations, rebuild TensorFlow with the appropriate compiler flags.\n"
     ]
    }
   ],
   "source": [
    "# instantiate gpmap object\n",
    "gpmap = mavenn.gpmap.AdditiveGPMapLayer(L, alphabet)\n"
   ]
  },
  {
   "cell_type": "markdown",
   "metadata": {},
   "source": [
    "### Create measurement process object(s)"
   ]
  },
  {
   "cell_type": "code",
   "execution_count": 5,
   "metadata": {},
   "outputs": [],
   "source": [
    "# I think this shouldn't require any positional arguments.\n",
    "# mp_GE = mavenn.measurement_process_layers.GlobalEpistasisLayer(K=50,\n",
    "#                                                                eta=1e-5,\n",
    "#                                                                monotonic=True)\n",
    "mp_mpa = mavenn.measurement_process_layers.DiscreteAgnosticMP(info_for_layers_dict={'H_y_norm':0},\n",
    "                                                                      Y=10,\n",
    "                                                                      K=50,\n",
    "                                                                      eta=1e-5,)\n"
   ]
  },
  {
   "cell_type": "code",
   "execution_count": 6,
   "metadata": {},
   "outputs": [],
   "source": [
    "model = mavenn.Model2(gpmap=gpmap,\n",
    "                      mp_list=[mp_mpa])"
   ]
  },
  {
   "cell_type": "code",
   "execution_count": 7,
   "metadata": {},
   "outputs": [
    {
     "name": "stdout",
     "output_type": "stream",
     "text": [
      "Model: \"model\"\n",
      "__________________________________________________________________________________________________\n",
      " Layer (type)                   Output Shape         Param #     Connected to                     \n",
      "==================================================================================================\n",
      " Sequence_labels_input (InputLa  [(None, 310)]       0           []                               \n",
      " yer)                                                                                             \n",
      "                                                                                                  \n",
      " Sequence_only (Lambda)         (None, 300)          0           ['Sequence_labels_input[0][0]']  \n",
      "                                                                                                  \n",
      " additive_gp_map_layer (Additiv  (None, 1)           301         ['Sequence_only[0][0]']          \n",
      " eGPMapLayer)                                                                                     \n",
      "                                                                                                  \n",
      " Labels_input_0 (Lambda)        (None, 10)           0           ['Sequence_labels_input[0][0]']  \n",
      "                                                                                                  \n",
      " concatenate (Concatenate)      (None, 11)           0           ['additive_gp_map_layer[0][0]',  \n",
      "                                                                  'Labels_input_0[0][0]']         \n",
      "                                                                                                  \n",
      " discrete_agnostic_mp (Discrete  (None,)             610         ['concatenate[0][0]']            \n",
      " AgnosticMP)                                                                                      \n",
      "                                                                                                  \n",
      "==================================================================================================\n",
      "Total params: 911\n",
      "Trainable params: 911\n",
      "Non-trainable params: 0\n",
      "__________________________________________________________________________________________________\n"
     ]
    }
   ],
   "source": [
    "model.model.summary()"
   ]
  },
  {
   "cell_type": "code",
   "execution_count": 8,
   "metadata": {},
   "outputs": [],
   "source": [
    "# #*np.ones(shape=y_list[0].shape[0])\n",
    "\n",
    "# y_cts_df = pd.DataFrame(np.random.rand(y_list[0].shape[0]))\n",
    "# y_cts_df.head()"
   ]
  },
  {
   "cell_type": "code",
   "execution_count": 9,
   "metadata": {},
   "outputs": [],
   "source": [
    "# y_dict = {}\n",
    "\n",
    "# y_list=[data_df[y_cols].values]\n",
    "# #y_dict[output_layer_index] = current_y_norm\n",
    "# y_discrete_df = pd.DataFrame(y_list[0])\n",
    "# y_discrete_df.head()"
   ]
  },
  {
   "cell_type": "code",
   "execution_count": 10,
   "metadata": {},
   "outputs": [],
   "source": [
    "# np.hstack([model.x_ohe,np.hstack([y_cts_df.values,y_discrete_df.values])])"
   ]
  },
  {
   "cell_type": "code",
   "execution_count": 11,
   "metadata": {},
   "outputs": [],
   "source": [
    "\n",
    "#np.hstack([y_cts_df.values])"
   ]
  },
  {
   "cell_type": "code",
   "execution_count": 12,
   "metadata": {},
   "outputs": [
    {
     "name": "stdout",
     "output_type": "stream",
     "text": [
      "N = 40,583 observations set as training data.\n",
      "Using 24.8% for validation.\n",
      "Data shuffled.\n",
      "Time to set data: 1.15 sec.\n"
     ]
    }
   ],
   "source": [
    "# Set training data\n",
    "model.set_data(x=data_df['x'].values,\n",
    "               y_list=[data_df[y_cols].values],\n",
    "               validation_flags=(data_df['set']=='validation'),\n",
    "               shuffle=True)\n"
   ]
  },
  {
   "cell_type": "code",
   "execution_count": 13,
   "metadata": {},
   "outputs": [
    {
     "name": "stdout",
     "output_type": "stream",
     "text": [
      "Epoch 1/1000\n",
      "153/153 [==============================] - 2s 6ms/step - loss: 469.1137 - I_var: 0.0177 - val_loss: 457.5742 - val_I_var: 0.0844\n",
      "Epoch 2/1000\n",
      "153/153 [==============================] - 1s 5ms/step - loss: 443.4623 - I_var: 0.1987 - val_loss: 423.0187 - val_I_var: 0.3278\n",
      "Epoch 3/1000\n",
      "153/153 [==============================] - 1s 4ms/step - loss: 413.6760 - I_var: 0.4084 - val_loss: 401.0231 - val_I_var: 0.4840\n",
      "Epoch 4/1000\n",
      "153/153 [==============================] - 1s 4ms/step - loss: 399.6374 - I_var: 0.5072 - val_loss: 394.7124 - val_I_var: 0.5299\n",
      "Epoch 5/1000\n",
      "153/153 [==============================] - 1s 4ms/step - loss: 395.2113 - I_var: 0.5380 - val_loss: 391.4266 - val_I_var: 0.5530\n",
      "Epoch 6/1000\n",
      "153/153 [==============================] - 1s 3ms/step - loss: 393.7407 - I_var: 0.5483 - val_loss: 390.0619 - val_I_var: 0.5632\n",
      "Epoch 7/1000\n",
      "153/153 [==============================] - 0s 3ms/step - loss: 391.9898 - I_var: 0.5605 - val_loss: 388.9914 - val_I_var: 0.5709\n",
      "Epoch 8/1000\n",
      "153/153 [==============================] - 1s 4ms/step - loss: 391.3041 - I_var: 0.5656 - val_loss: 387.4279 - val_I_var: 0.5817\n",
      "Epoch 9/1000\n",
      "153/153 [==============================] - 1s 9ms/step - loss: 389.8099 - I_var: 0.5763 - val_loss: 386.8124 - val_I_var: 0.5856\n",
      "Epoch 10/1000\n",
      "153/153 [==============================] - 1s 5ms/step - loss: 388.3623 - I_var: 0.5855 - val_loss: 385.4145 - val_I_var: 0.5956\n",
      "Epoch 11/1000\n",
      "153/153 [==============================] - 0s 3ms/step - loss: 387.6047 - I_var: 0.5909 - val_loss: 384.4318 - val_I_var: 0.6028\n",
      "Epoch 12/1000\n",
      "153/153 [==============================] - 1s 4ms/step - loss: 386.3973 - I_var: 0.5993 - val_loss: 383.8892 - val_I_var: 0.6068\n",
      "Epoch 13/1000\n",
      "153/153 [==============================] - 1s 4ms/step - loss: 385.7558 - I_var: 0.6046 - val_loss: 383.5388 - val_I_var: 0.6091\n",
      "Epoch 14/1000\n",
      "153/153 [==============================] - 1s 4ms/step - loss: 385.0132 - I_var: 0.6103 - val_loss: 382.5170 - val_I_var: 0.6161\n",
      "Epoch 15/1000\n",
      "153/153 [==============================] - 1s 4ms/step - loss: 384.0558 - I_var: 0.6167 - val_loss: 381.3996 - val_I_var: 0.6239\n",
      "Epoch 16/1000\n",
      "153/153 [==============================] - 1s 4ms/step - loss: 383.4770 - I_var: 0.6208 - val_loss: 381.4354 - val_I_var: 0.6241\n",
      "Epoch 17/1000\n",
      "153/153 [==============================] - 1s 3ms/step - loss: 383.2784 - I_var: 0.6218 - val_loss: 380.7461 - val_I_var: 0.6287\n",
      "Epoch 18/1000\n",
      "153/153 [==============================] - 1s 3ms/step - loss: 382.7443 - I_var: 0.6256 - val_loss: 380.9506 - val_I_var: 0.6278\n",
      "Epoch 19/1000\n",
      "153/153 [==============================] - 1s 4ms/step - loss: 382.2726 - I_var: 0.6290 - val_loss: 379.8104 - val_I_var: 0.6351\n",
      "Epoch 20/1000\n",
      "153/153 [==============================] - 1s 3ms/step - loss: 381.8618 - I_var: 0.6317 - val_loss: 379.8181 - val_I_var: 0.6352\n",
      "Epoch 21/1000\n",
      "153/153 [==============================] - 1s 4ms/step - loss: 381.6076 - I_var: 0.6334 - val_loss: 379.3980 - val_I_var: 0.6381\n",
      "Epoch 22/1000\n",
      "153/153 [==============================] - 1s 3ms/step - loss: 381.1053 - I_var: 0.6369 - val_loss: 378.3940 - val_I_var: 0.6455\n",
      "Epoch 23/1000\n",
      "153/153 [==============================] - 1s 4ms/step - loss: 381.1035 - I_var: 0.6369 - val_loss: 378.8041 - val_I_var: 0.6425\n",
      "Epoch 24/1000\n",
      "153/153 [==============================] - 1s 4ms/step - loss: 380.9824 - I_var: 0.6382 - val_loss: 380.0694 - val_I_var: 0.6339\n",
      "Epoch 25/1000\n",
      "153/153 [==============================] - 1s 4ms/step - loss: 380.7570 - I_var: 0.6401 - val_loss: 377.8415 - val_I_var: 0.6493\n",
      "Epoch 26/1000\n",
      "153/153 [==============================] - 1s 4ms/step - loss: 380.4085 - I_var: 0.6420 - val_loss: 378.9276 - val_I_var: 0.6411\n",
      "Epoch 27/1000\n",
      "153/153 [==============================] - 1s 4ms/step - loss: 380.4034 - I_var: 0.6416 - val_loss: 377.4447 - val_I_var: 0.6519\n",
      "Epoch 28/1000\n",
      "153/153 [==============================] - 1s 4ms/step - loss: 380.1218 - I_var: 0.6441 - val_loss: 377.3710 - val_I_var: 0.6523\n",
      "Epoch 29/1000\n",
      "153/153 [==============================] - 1s 4ms/step - loss: 379.8121 - I_var: 0.6456 - val_loss: 377.8348 - val_I_var: 0.6491\n",
      "Epoch 30/1000\n",
      "153/153 [==============================] - 1s 4ms/step - loss: 380.3410 - I_var: 0.6434 - val_loss: 377.2591 - val_I_var: 0.6535\n",
      "Epoch 31/1000\n",
      "153/153 [==============================] - 1s 4ms/step - loss: 379.9243 - I_var: 0.6460 - val_loss: 377.1114 - val_I_var: 0.6548\n",
      "Epoch 32/1000\n",
      "153/153 [==============================] - 1s 4ms/step - loss: 379.9525 - I_var: 0.6452 - val_loss: 377.2266 - val_I_var: 0.6534\n",
      "Epoch 33/1000\n",
      "153/153 [==============================] - 1s 4ms/step - loss: 380.1317 - I_var: 0.6442 - val_loss: 377.5568 - val_I_var: 0.6512\n",
      "Epoch 34/1000\n",
      "153/153 [==============================] - 1s 4ms/step - loss: 379.6409 - I_var: 0.6480 - val_loss: 376.7058 - val_I_var: 0.6574\n",
      "Epoch 35/1000\n",
      "153/153 [==============================] - 0s 3ms/step - loss: 379.8199 - I_var: 0.6461 - val_loss: 377.2906 - val_I_var: 0.6532\n",
      "Epoch 36/1000\n",
      "153/153 [==============================] - 0s 3ms/step - loss: 379.6516 - I_var: 0.6475 - val_loss: 377.1257 - val_I_var: 0.6544\n",
      "Epoch 37/1000\n",
      "153/153 [==============================] - 0s 3ms/step - loss: 379.5058 - I_var: 0.6493 - val_loss: 376.8562 - val_I_var: 0.6562\n",
      "Epoch 38/1000\n",
      "153/153 [==============================] - 0s 3ms/step - loss: 379.9983 - I_var: 0.6454 - val_loss: 377.1873 - val_I_var: 0.6542\n",
      "Epoch 39/1000\n",
      "153/153 [==============================] - 0s 3ms/step - loss: 379.8200 - I_var: 0.6461 - val_loss: 377.4008 - val_I_var: 0.6519\n",
      "Epoch 40/1000\n",
      "153/153 [==============================] - 0s 3ms/step - loss: 379.5163 - I_var: 0.6480 - val_loss: 378.0359 - val_I_var: 0.6478\n",
      "Epoch 41/1000\n",
      "153/153 [==============================] - 0s 3ms/step - loss: 379.5094 - I_var: 0.6492 - val_loss: 377.6674 - val_I_var: 0.6505\n",
      "Epoch 42/1000\n",
      "153/153 [==============================] - 0s 3ms/step - loss: 379.7199 - I_var: 0.6470 - val_loss: 377.0965 - val_I_var: 0.6545\n",
      "Epoch 43/1000\n",
      "153/153 [==============================] - 1s 9ms/step - loss: 379.3206 - I_var: 0.6495 - val_loss: 377.0421 - val_I_var: 0.6550\n",
      "Epoch 44/1000\n",
      "153/153 [==============================] - 1s 5ms/step - loss: 379.4514 - I_var: 0.6487 - val_loss: 377.1701 - val_I_var: 0.6534\n",
      "Training time: 29.1 seconds\n"
     ]
    },
    {
     "data": {
      "text/plain": [
       "<keras.callbacks.History at 0x7f85e8ddfa00>"
      ]
     },
     "execution_count": 13,
     "metadata": {},
     "output_type": "execute_result"
    }
   ],
   "source": [
    "\n",
    "# Fit model to data\n",
    "model.fit(learning_rate=.001,\n",
    "          epochs=1000,\n",
    "          batch_size=200,\n",
    "          try_tqdm = False,\n",
    "          early_stopping=True,\n",
    "          early_stopping_patience=10,\n",
    "          linear_initialization=False)"
   ]
  },
  {
   "cell_type": "code",
   "execution_count": 14,
   "metadata": {
    "scrolled": true
   },
   "outputs": [
    {
     "name": "stdout",
     "output_type": "stream",
     "text": [
      "On test data:\n"
     ]
    },
    {
     "data": {
      "text/plain": [
       "Text(0.5, 1.0, 'training hisotry')"
      ]
     },
     "execution_count": 14,
     "metadata": {},
     "output_type": "execute_result"
    },
    {
     "data": {
      "image/png": "[encoded data removed]",
      "text/plain": [
       "<Figure size 288x288 with 1 Axes>"
      ]
     },
     "metadata": {
      "needs_background": "light"
     },
     "output_type": "display_data"
    }
   ],
   "source": [
    "# Show training history\n",
    "print('On test data:')\n",
    "x_test = test_df['x'].values\n",
    "y_test = test_df[y_cols].values\n",
    "\n",
    "\n",
    "I_var_hist = model.history['I_var']\n",
    "val_I_var_hist = model.history['val_I_var']\n",
    "\n",
    "fig, ax = plt.subplots(1,1,figsize=[4,4])\n",
    "ax.plot(I_var_hist, label='I_var_train')\n",
    "ax.plot(val_I_var_hist, label='I_var_val')\n",
    "ax.legend()\n",
    "ax.set_xlabel('epochs')\n",
    "ax.set_ylabel('bits')\n",
    "ax.set_title('training hisotry')"
   ]
  },
  {
   "cell_type": "code",
   "execution_count": 15,
   "metadata": {},
   "outputs": [
    {
     "data": {
      "image/png": "[encoded data removed]",
      "text/plain": [
       "<Figure size 720x288 with 1 Axes>"
      ]
     },
     "metadata": {
      "needs_background": "light"
     },
     "output_type": "display_data"
    }
   ],
   "source": [
    "# Get G-P map parameters in matrix form\n",
    "theta = np.squeeze(gpmap.weights[1].numpy())\n",
    "\n",
    "# Create grid in phi space\n",
    "phi_lim = [-5, 3]\n",
    "phi_grid = np.linspace(phi_lim[0], phi_lim[1], 1000)\n",
    "\n",
    "# Create array of allowable y values\n",
    "Y = mp_mpa.Y    # Y = number of bins\n",
    "y_lim = [-.5, Y-.5]\n",
    "y_all = range(Y)\n",
    "\n",
    "# Compute matrix of p(y|phi) values\n",
    "#measurement_process = mp_mpa.p_of_y_given_phi(y_all, phi_grid)\n",
    "\n",
    "# Create figure with two panels\n",
    "fig, axs = plt.subplots(1,1,figsize=[10,4])\n",
    "\n",
    "# Left panel: draw logo using logomaker\n",
    "ax = axs\n",
    "logo = logomaker.Logo(pd.DataFrame(theta,columns=model.alphabet), ax=ax,center_values=True)\n",
    "ax.set_ylabel(r'parameter value ($\\theta_{l:c}$)')\n",
    "ax.set_xlabel(r'position ($l$)')\n",
    "ax.set_title('G-P map parameters')\n",
    "\n",
    "# Right panel: draw measurement process as heatmap\n",
    "# ax = axs[1]\n",
    "# im = ax.imshow(measurement_process,\n",
    "#                cmap='Greens',\n",
    "#                extent=phi_lim+y_lim,\n",
    "#                vmin=0,\n",
    "#                origin='lower',\n",
    "#                interpolation='nearest',\n",
    "#                aspect=\"auto\")\n",
    "# ax.set_yticks(y_all)\n",
    "# ax.set_ylabel('bin number (y)')\n",
    "# ax.set_xlabel('latent phenotype ($\\phi$)')\n",
    "# ax.set_title('measurement process')\n",
    "# cb = plt.colorbar(im)\n",
    "# cb.set_label('probability  $p(y|\\phi)$', rotation=-90, va=\"bottom\")\n",
    "\n",
    "# Fix up plot\n",
    "fig.tight_layout(w_pad=3)\n",
    "#fig.savefig('sortseq_g-p_map_mpa_visualization.png')\n",
    "plt.show()"
   ]
  },
  {
   "cell_type": "code",
   "execution_count": 16,
   "metadata": {},
   "outputs": [
    {
     "data": {
      "image/png": "[encoded data removed]",
      "text/plain": [
       "<Figure size 432x432 with 2 Axes>"
      ]
     },
     "metadata": {
      "needs_background": "light"
     },
     "output_type": "display_data"
    }
   ],
   "source": [
    "# Create grid in phi space\n",
    "phi_lim = [-5, 3]\n",
    "phi_grid = np.linspace(phi_lim[0], phi_lim[1], 1000)\n",
    "\n",
    "# Create array of allowable y values\n",
    "Y = mp_mpa.Y    # Y = number of bins\n",
    "y_lim = [-.5, Y-.5]\n",
    "y_all = range(Y)\n",
    "\n",
    "# Compute matrix of p(y|phi) values\n",
    "measurement_process = mp_mpa.p_of_y_given_phi(y_all, phi_grid)\n",
    "\n",
    "\n",
    "# Create figure with two panels\n",
    "fig, ax = plt.subplots(1,1,figsize=[6,6])\n",
    "\n",
    "# Right panel: draw measurement process as heatmap\n",
    "im = ax.imshow(measurement_process,\n",
    "               cmap='Greens',\n",
    "               extent=phi_lim+y_lim,\n",
    "               vmin=0,\n",
    "               origin='lower',\n",
    "               interpolation='nearest',\n",
    "               aspect=\"auto\")\n",
    "ax.set_yticks(y_all)\n",
    "ax.set_ylabel('bin number (y)')\n",
    "ax.set_xlabel('latent phenotype ($\\phi$)')\n",
    "ax.set_title('measurement process')\n",
    "cb = plt.colorbar(im)\n",
    "cb.set_label('probability  $p(y|\\phi)$', rotation=-90, va=\"bottom\")\n"
   ]
  },
  {
   "cell_type": "code",
   "execution_count": null,
   "metadata": {},
   "outputs": [],
   "source": []
  }
 ],
 "metadata": {
  "kernelspec": {
   "display_name": "Python 3 (ipykernel)",
   "language": "python",
   "name": "python3"
  },
  "language_info": {
   "codemirror_mode": {
    "name": "ipython",
    "version": 3
   },
   "file_extension": ".py",
   "mimetype": "text/x-python",
   "name": "python",
   "nbconvert_exporter": "python",
   "pygments_lexer": "ipython3",
   "version": "3.9.7"
  }
 },
 "nbformat": 4,
 "nbformat_minor": 2
}
