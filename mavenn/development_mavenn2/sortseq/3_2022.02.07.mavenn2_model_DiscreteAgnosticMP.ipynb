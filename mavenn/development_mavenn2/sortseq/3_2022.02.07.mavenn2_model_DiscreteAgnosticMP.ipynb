{
 "cells": [
  {
   "cell_type": "code",
   "execution_count": 1,
   "metadata": {},
   "outputs": [],
   "source": [
    "import numpy as np\n",
    "import pandas as pd\n",
    "import matplotlib.pyplot as plt\n",
    "import sys\n",
    "#sys.path.insert(0, '/Users/ammar.tareen/Desktop/Research_projects/mavenn2/')\n",
    "sys.path.insert(0, '/Users/tareen/Desktop/Research_Projects/2022_mavenn2_github/mavenn')\n",
    "\n",
    "import mavenn\n",
    "import logomaker\n",
    "import seaborn as sns\n",
    "import re\n",
    "\n",
    "%matplotlib inline"
   ]
  },
  {
   "cell_type": "code",
   "execution_count": 2,
   "metadata": {},
   "outputs": [
    {
     "name": "stdout",
     "output_type": "stream",
     "text": [
      "test N: 9,935\n",
      "training + validation N: 40,583\n"
     ]
    },
    {
     "data": {
      "text/html": [
       "<div>\n",
       "<style scoped>\n",
       "    .dataframe tbody tr th:only-of-type {\n",
       "        vertical-align: middle;\n",
       "    }\n",
       "\n",
       "    .dataframe tbody tr th {\n",
       "        vertical-align: top;\n",
       "    }\n",
       "\n",
       "    .dataframe thead th {\n",
       "        text-align: right;\n",
       "    }\n",
       "</style>\n",
       "<table border=\"1\" class=\"dataframe\">\n",
       "  <thead>\n",
       "    <tr style=\"text-align: right;\">\n",
       "      <th></th>\n",
       "      <th>set</th>\n",
       "      <th>ct_0</th>\n",
       "      <th>ct_1</th>\n",
       "      <th>ct_2</th>\n",
       "      <th>ct_3</th>\n",
       "      <th>ct_4</th>\n",
       "      <th>ct_5</th>\n",
       "      <th>ct_6</th>\n",
       "      <th>ct_7</th>\n",
       "      <th>ct_8</th>\n",
       "      <th>ct_9</th>\n",
       "      <th>x</th>\n",
       "    </tr>\n",
       "  </thead>\n",
       "  <tbody>\n",
       "    <tr>\n",
       "      <th>0</th>\n",
       "      <td>training</td>\n",
       "      <td>0</td>\n",
       "      <td>1</td>\n",
       "      <td>0</td>\n",
       "      <td>0</td>\n",
       "      <td>0</td>\n",
       "      <td>0</td>\n",
       "      <td>0</td>\n",
       "      <td>0</td>\n",
       "      <td>0</td>\n",
       "      <td>0</td>\n",
       "      <td>AAAAAAAGTGAGTTAGCCAACTAATTAGGCACCGTACGCTTTATAG...</td>\n",
       "    </tr>\n",
       "    <tr>\n",
       "      <th>1</th>\n",
       "      <td>training</td>\n",
       "      <td>0</td>\n",
       "      <td>0</td>\n",
       "      <td>0</td>\n",
       "      <td>0</td>\n",
       "      <td>0</td>\n",
       "      <td>0</td>\n",
       "      <td>0</td>\n",
       "      <td>0</td>\n",
       "      <td>0</td>\n",
       "      <td>1</td>\n",
       "      <td>AAAAAATGAGAGTTAGTTCACTCATTCGGCACCACAGGCTTTACAA...</td>\n",
       "    </tr>\n",
       "    <tr>\n",
       "      <th>2</th>\n",
       "      <td>training</td>\n",
       "      <td>0</td>\n",
       "      <td>0</td>\n",
       "      <td>0</td>\n",
       "      <td>0</td>\n",
       "      <td>0</td>\n",
       "      <td>0</td>\n",
       "      <td>0</td>\n",
       "      <td>0</td>\n",
       "      <td>0</td>\n",
       "      <td>1</td>\n",
       "      <td>AAAAAATGGGTGTTAGCTCTATCATTAGGCACCCCCGGCTTTACAC...</td>\n",
       "    </tr>\n",
       "    <tr>\n",
       "      <th>3</th>\n",
       "      <td>training</td>\n",
       "      <td>0</td>\n",
       "      <td>1</td>\n",
       "      <td>0</td>\n",
       "      <td>0</td>\n",
       "      <td>0</td>\n",
       "      <td>0</td>\n",
       "      <td>0</td>\n",
       "      <td>0</td>\n",
       "      <td>0</td>\n",
       "      <td>0</td>\n",
       "      <td>AAAAAATGTCAGTTAGCTGACTCATTAGGCACCCCTGGCTTTACGT...</td>\n",
       "    </tr>\n",
       "    <tr>\n",
       "      <th>4</th>\n",
       "      <td>validation</td>\n",
       "      <td>0</td>\n",
       "      <td>0</td>\n",
       "      <td>0</td>\n",
       "      <td>0</td>\n",
       "      <td>0</td>\n",
       "      <td>0</td>\n",
       "      <td>1</td>\n",
       "      <td>0</td>\n",
       "      <td>0</td>\n",
       "      <td>0</td>\n",
       "      <td>AAAAAATGTGAGAAAGCTCACTCCTTTGGCACCGCAGGCTTTACAC...</td>\n",
       "    </tr>\n",
       "  </tbody>\n",
       "</table>\n",
       "</div>"
      ],
      "text/plain": [
       "          set  ct_0  ct_1  ct_2  ct_3  ct_4  ct_5  ct_6  ct_7  ct_8  ct_9  \\\n",
       "0    training     0     1     0     0     0     0     0     0     0     0   \n",
       "1    training     0     0     0     0     0     0     0     0     0     1   \n",
       "2    training     0     0     0     0     0     0     0     0     0     1   \n",
       "3    training     0     1     0     0     0     0     0     0     0     0   \n",
       "4  validation     0     0     0     0     0     0     1     0     0     0   \n",
       "\n",
       "                                                   x  \n",
       "0  AAAAAAAGTGAGTTAGCCAACTAATTAGGCACCGTACGCTTTATAG...  \n",
       "1  AAAAAATGAGAGTTAGTTCACTCATTCGGCACCACAGGCTTTACAA...  \n",
       "2  AAAAAATGGGTGTTAGCTCTATCATTAGGCACCCCCGGCTTTACAC...  \n",
       "3  AAAAAATGTCAGTTAGCTGACTCATTAGGCACCCCTGGCTTTACGT...  \n",
       "4  AAAAAATGTGAGAAAGCTCACTCCTTTGGCACCGCAGGCTTTACAC...  "
      ]
     },
     "execution_count": 2,
     "metadata": {},
     "output_type": "execute_result"
    }
   ],
   "source": [
    "# Load example data\n",
    "data_df = mavenn.load_example_dataset('sortseq')\n",
    "\n",
    "# Separate test from data_df\n",
    "ix_test = data_df['set']=='test'\n",
    "test_df = data_df[ix_test].reset_index(drop=True)\n",
    "print(f'test N: {len(test_df):,}')\n",
    "\n",
    "# Remove test data from data_df\n",
    "data_df = data_df[~ix_test].reset_index(drop=True)\n",
    "print(f'training + validation N: {len(data_df):,}')\n",
    "data_df.head()"
   ]
  },
  {
   "cell_type": "code",
   "execution_count": 3,
   "metadata": {},
   "outputs": [
    {
     "name": "stdout",
     "output_type": "stream",
     "text": [
      "L=75, Y=10\n"
     ]
    }
   ],
   "source": [
    "# set positional argumnets for gpmap function\n",
    "L = len(data_df['x'][0])\n",
    "alphabet=['A','C','G','T']\n",
    "\n",
    "y_cols = data_df.columns[1:-1]\n",
    "Y = len(y_cols)\n",
    "print(f'L={L}, Y={Y}')\n",
    "\n",
    "# get test set data.\n",
    "x_test = test_df['x'].values"
   ]
  },
  {
   "cell_type": "code",
   "execution_count": 4,
   "metadata": {},
   "outputs": [
    {
     "name": "stderr",
     "output_type": "stream",
     "text": [
      "2022-05-24 13:48:16.548001: I tensorflow/core/platform/cpu_feature_guard.cc:151] This TensorFlow binary is optimized with oneAPI Deep Neural Network Library (oneDNN) to use the following CPU instructions in performance-critical operations:  AVX2 FMA\n",
      "To enable them in other operations, rebuild TensorFlow with the appropriate compiler flags.\n"
     ]
    }
   ],
   "source": [
    "# instantiate gpmap object\n",
    "gpmap = mavenn.gpmap.AdditiveGPMapLayer(L, alphabet)\n"
   ]
  },
  {
   "cell_type": "markdown",
   "metadata": {},
   "source": [
    "### Create measurement process object(s)"
   ]
  },
  {
   "cell_type": "code",
   "execution_count": 5,
   "metadata": {},
   "outputs": [],
   "source": [
    "# I think this shouldn't require any positional arguments.\n",
    "# mp_GE = mavenn.measurement_process_layers.GlobalEpistasisLayer(K=50,\n",
    "#                                                                eta=1e-5,\n",
    "#                                                                monotonic=True)\n",
    "mp_mpa = mavenn.measurement_process_layers.DiscreteAgnosticMP(info_for_layers_dict={'H_y_norm':0},\n",
    "                                                                      Y=10,\n",
    "                                                                      K=50,\n",
    "                                                                      eta=1e-5,)\n"
   ]
  },
  {
   "cell_type": "code",
   "execution_count": 6,
   "metadata": {},
   "outputs": [],
   "source": [
    "model = mavenn.Model2(gpmap=gpmap,\n",
    "                      mp_list=[mp_mpa])"
   ]
  },
  {
   "cell_type": "code",
   "execution_count": 7,
   "metadata": {},
   "outputs": [
    {
     "name": "stdout",
     "output_type": "stream",
     "text": [
      "Model: \"model\"\n",
      "__________________________________________________________________________________________________\n",
      " Layer (type)                   Output Shape         Param #     Connected to                     \n",
      "==================================================================================================\n",
      " Sequence_labels_input (InputLa  [(None, 310)]       0           []                               \n",
      " yer)                                                                                             \n",
      "                                                                                                  \n",
      " Sequence_only (Lambda)         (None, 300)          0           ['Sequence_labels_input[0][0]']  \n",
      "                                                                                                  \n",
      " additive_gp_map_layer (Additiv  (None, 1)           301         ['Sequence_only[0][0]']          \n",
      " eGPMapLayer)                                                                                     \n",
      "                                                                                                  \n",
      " Labels_input_0 (Lambda)        (None, 10)           0           ['Sequence_labels_input[0][0]']  \n",
      "                                                                                                  \n",
      " concatenate (Concatenate)      (None, 11)           0           ['additive_gp_map_layer[0][0]',  \n",
      "                                                                  'Labels_input_0[0][0]']         \n",
      "                                                                                                  \n",
      " discrete_agnostic_mp (Discrete  (None,)             1510        ['concatenate[0][0]']            \n",
      " AgnosticMP)                                                                                      \n",
      "                                                                                                  \n",
      "==================================================================================================\n",
      "Total params: 1,811\n",
      "Trainable params: 1,811\n",
      "Non-trainable params: 0\n",
      "__________________________________________________________________________________________________\n"
     ]
    }
   ],
   "source": [
    "model.model.summary()"
   ]
  },
  {
   "cell_type": "code",
   "execution_count": 8,
   "metadata": {},
   "outputs": [],
   "source": [
    "# #*np.ones(shape=y_list[0].shape[0])\n",
    "\n",
    "# y_cts_df = pd.DataFrame(np.random.rand(y_list[0].shape[0]))\n",
    "# y_cts_df.head()"
   ]
  },
  {
   "cell_type": "code",
   "execution_count": 9,
   "metadata": {},
   "outputs": [],
   "source": [
    "# y_dict = {}\n",
    "\n",
    "# y_list=[data_df[y_cols].values]\n",
    "# #y_dict[output_layer_index] = current_y_norm\n",
    "# y_discrete_df = pd.DataFrame(y_list[0])\n",
    "# y_discrete_df.head()"
   ]
  },
  {
   "cell_type": "code",
   "execution_count": 10,
   "metadata": {},
   "outputs": [],
   "source": [
    "# np.hstack([model.x_ohe,np.hstack([y_cts_df.values,y_discrete_df.values])])"
   ]
  },
  {
   "cell_type": "code",
   "execution_count": 11,
   "metadata": {},
   "outputs": [],
   "source": [
    "\n",
    "#np.hstack([y_cts_df.values])"
   ]
  },
  {
   "cell_type": "code",
   "execution_count": 12,
   "metadata": {},
   "outputs": [
    {
     "name": "stdout",
     "output_type": "stream",
     "text": [
      "N = 40,583 observations set as training data.\n",
      "Using 24.8% for validation.\n",
      "Data shuffled.\n",
      "Time to set data: 0.833 sec.\n"
     ]
    }
   ],
   "source": [
    "# Set training data\n",
    "model.set_data(x=data_df['x'].values,\n",
    "               y_list=[data_df[y_cols].values],\n",
    "               validation_flags=(data_df['set']=='validation'),\n",
    "               shuffle=True)\n"
   ]
  },
  {
   "cell_type": "code",
   "execution_count": 13,
   "metadata": {},
   "outputs": [
    {
     "name": "stdout",
     "output_type": "stream",
     "text": [
      "Epoch 1/1000\n",
      "153/153 [==============================] - 2s 4ms/step - loss: 468.9502 - I_var: 0.0193 - val_loss: 456.9369 - val_I_var: 0.0868\n",
      "Epoch 2/1000\n",
      "153/153 [==============================] - 0s 3ms/step - loss: 439.7765 - I_var: 0.2248 - val_loss: 417.5633 - val_I_var: 0.3656\n",
      "Epoch 3/1000\n",
      "153/153 [==============================] - 0s 3ms/step - loss: 408.7783 - I_var: 0.4427 - val_loss: 398.6610 - val_I_var: 0.5007\n",
      "Epoch 4/1000\n",
      "153/153 [==============================] - 0s 3ms/step - loss: 398.6881 - I_var: 0.5133 - val_loss: 394.2009 - val_I_var: 0.5322\n",
      "Epoch 5/1000\n",
      "153/153 [==============================] - 0s 3ms/step - loss: 396.2259 - I_var: 0.5308 - val_loss: 392.8126 - val_I_var: 0.5423\n",
      "Epoch 6/1000\n",
      "153/153 [==============================] - 0s 3ms/step - loss: 394.9293 - I_var: 0.5399 - val_loss: 392.1797 - val_I_var: 0.5466\n",
      "Epoch 7/1000\n",
      "153/153 [==============================] - 0s 3ms/step - loss: 394.1037 - I_var: 0.5461 - val_loss: 391.3838 - val_I_var: 0.5524\n",
      "Epoch 8/1000\n",
      "153/153 [==============================] - 0s 3ms/step - loss: 393.0797 - I_var: 0.5536 - val_loss: 390.3934 - val_I_var: 0.5594\n",
      "Epoch 9/1000\n",
      "153/153 [==============================] - 1s 3ms/step - loss: 392.1044 - I_var: 0.5603 - val_loss: 388.9811 - val_I_var: 0.5695\n",
      "Epoch 10/1000\n",
      "153/153 [==============================] - 0s 3ms/step - loss: 391.1442 - I_var: 0.5674 - val_loss: 387.8643 - val_I_var: 0.5775\n",
      "Epoch 11/1000\n",
      "153/153 [==============================] - 0s 3ms/step - loss: 389.9600 - I_var: 0.5751 - val_loss: 387.2120 - val_I_var: 0.5820\n",
      "Epoch 12/1000\n",
      "153/153 [==============================] - 0s 3ms/step - loss: 389.1645 - I_var: 0.5813 - val_loss: 386.3481 - val_I_var: 0.5882\n",
      "Epoch 13/1000\n",
      "153/153 [==============================] - 1s 3ms/step - loss: 388.2090 - I_var: 0.5874 - val_loss: 385.2932 - val_I_var: 0.5956\n",
      "Epoch 14/1000\n",
      "153/153 [==============================] - 0s 3ms/step - loss: 387.1748 - I_var: 0.5946 - val_loss: 384.5943 - val_I_var: 0.6001\n",
      "Epoch 15/1000\n",
      "153/153 [==============================] - 0s 3ms/step - loss: 386.5649 - I_var: 0.5989 - val_loss: 383.9585 - val_I_var: 0.6049\n",
      "Epoch 16/1000\n",
      "153/153 [==============================] - 1s 3ms/step - loss: 385.8840 - I_var: 0.6039 - val_loss: 383.5572 - val_I_var: 0.6079\n",
      "Epoch 17/1000\n",
      "153/153 [==============================] - 0s 3ms/step - loss: 385.0984 - I_var: 0.6091 - val_loss: 383.2297 - val_I_var: 0.6101\n",
      "Epoch 18/1000\n",
      "153/153 [==============================] - 0s 3ms/step - loss: 384.5598 - I_var: 0.6131 - val_loss: 381.8282 - val_I_var: 0.6201\n",
      "Epoch 19/1000\n",
      "153/153 [==============================] - 1s 4ms/step - loss: 384.1790 - I_var: 0.6153 - val_loss: 381.7266 - val_I_var: 0.6208\n",
      "Epoch 20/1000\n",
      "153/153 [==============================] - 0s 3ms/step - loss: 383.7856 - I_var: 0.6183 - val_loss: 380.7215 - val_I_var: 0.6278\n",
      "Epoch 21/1000\n",
      "153/153 [==============================] - 0s 3ms/step - loss: 383.2246 - I_var: 0.6221 - val_loss: 380.8641 - val_I_var: 0.6271\n",
      "Epoch 22/1000\n",
      "153/153 [==============================] - 0s 3ms/step - loss: 382.9250 - I_var: 0.6248 - val_loss: 379.9426 - val_I_var: 0.6335\n",
      "Epoch 23/1000\n",
      "153/153 [==============================] - 0s 3ms/step - loss: 382.5707 - I_var: 0.6263 - val_loss: 379.8582 - val_I_var: 0.6342\n",
      "Epoch 24/1000\n",
      "153/153 [==============================] - 0s 3ms/step - loss: 382.3449 - I_var: 0.6281 - val_loss: 379.4705 - val_I_var: 0.6367\n",
      "Epoch 25/1000\n",
      "153/153 [==============================] - 0s 3ms/step - loss: 382.2025 - I_var: 0.6291 - val_loss: 379.8588 - val_I_var: 0.6341\n",
      "Epoch 26/1000\n",
      "153/153 [==============================] - 0s 3ms/step - loss: 381.9240 - I_var: 0.6320 - val_loss: 379.2988 - val_I_var: 0.6381\n",
      "Epoch 27/1000\n",
      "153/153 [==============================] - 0s 3ms/step - loss: 381.6048 - I_var: 0.6334 - val_loss: 379.5934 - val_I_var: 0.6360\n",
      "Epoch 28/1000\n",
      "153/153 [==============================] - 1s 3ms/step - loss: 381.6600 - I_var: 0.6333 - val_loss: 378.8740 - val_I_var: 0.6409\n",
      "Epoch 29/1000\n",
      "153/153 [==============================] - 0s 3ms/step - loss: 381.4047 - I_var: 0.6347 - val_loss: 378.6415 - val_I_var: 0.6427\n",
      "Epoch 30/1000\n",
      "153/153 [==============================] - 0s 3ms/step - loss: 381.7903 - I_var: 0.6324 - val_loss: 378.7515 - val_I_var: 0.6420\n",
      "Epoch 31/1000\n",
      "153/153 [==============================] - 0s 3ms/step - loss: 381.2639 - I_var: 0.6361 - val_loss: 378.1708 - val_I_var: 0.6460\n",
      "Epoch 32/1000\n",
      "153/153 [==============================] - 0s 3ms/step - loss: 380.8934 - I_var: 0.6392 - val_loss: 378.3173 - val_I_var: 0.6450\n",
      "Epoch 33/1000\n",
      "153/153 [==============================] - 0s 3ms/step - loss: 380.8637 - I_var: 0.6392 - val_loss: 378.7760 - val_I_var: 0.6418\n",
      "Epoch 34/1000\n",
      "153/153 [==============================] - 0s 3ms/step - loss: 380.6884 - I_var: 0.6399 - val_loss: 378.1474 - val_I_var: 0.6463\n",
      "Epoch 35/1000\n",
      "153/153 [==============================] - 0s 3ms/step - loss: 380.5932 - I_var: 0.6404 - val_loss: 378.1496 - val_I_var: 0.6461\n",
      "Epoch 36/1000\n",
      "153/153 [==============================] - 0s 3ms/step - loss: 380.5183 - I_var: 0.6416 - val_loss: 379.5087 - val_I_var: 0.6366\n",
      "Epoch 37/1000\n",
      "153/153 [==============================] - 0s 3ms/step - loss: 380.4745 - I_var: 0.6421 - val_loss: 377.9731 - val_I_var: 0.6474\n",
      "Epoch 38/1000\n",
      "153/153 [==============================] - 0s 3ms/step - loss: 380.3966 - I_var: 0.6420 - val_loss: 378.2032 - val_I_var: 0.6456\n",
      "Epoch 39/1000\n",
      "153/153 [==============================] - 0s 3ms/step - loss: 380.4326 - I_var: 0.6430 - val_loss: 378.5273 - val_I_var: 0.6432\n",
      "Epoch 40/1000\n",
      "153/153 [==============================] - 0s 3ms/step - loss: 380.6297 - I_var: 0.6407 - val_loss: 377.4149 - val_I_var: 0.6515\n",
      "Epoch 41/1000\n",
      "153/153 [==============================] - 0s 3ms/step - loss: 380.2669 - I_var: 0.6437 - val_loss: 378.5742 - val_I_var: 0.6433\n",
      "Epoch 42/1000\n",
      "153/153 [==============================] - 1s 4ms/step - loss: 380.1147 - I_var: 0.6439 - val_loss: 377.4617 - val_I_var: 0.6512\n",
      "Epoch 43/1000\n",
      "153/153 [==============================] - 0s 3ms/step - loss: 380.1482 - I_var: 0.6441 - val_loss: 378.2440 - val_I_var: 0.6457\n",
      "Epoch 44/1000\n",
      "153/153 [==============================] - 0s 3ms/step - loss: 379.9756 - I_var: 0.6455 - val_loss: 377.5398 - val_I_var: 0.6504\n",
      "Epoch 45/1000\n",
      "153/153 [==============================] - 0s 3ms/step - loss: 379.7250 - I_var: 0.6460 - val_loss: 377.5718 - val_I_var: 0.6503\n",
      "Epoch 46/1000\n",
      "153/153 [==============================] - 0s 3ms/step - loss: 379.9189 - I_var: 0.6456 - val_loss: 377.2914 - val_I_var: 0.6521\n",
      "Epoch 47/1000\n",
      "153/153 [==============================] - 0s 3ms/step - loss: 379.8654 - I_var: 0.6459 - val_loss: 377.4149 - val_I_var: 0.6516\n",
      "Epoch 48/1000\n",
      "153/153 [==============================] - 0s 3ms/step - loss: 379.9278 - I_var: 0.6458 - val_loss: 377.1679 - val_I_var: 0.6532\n",
      "Epoch 49/1000\n",
      "153/153 [==============================] - 1s 4ms/step - loss: 379.7222 - I_var: 0.6476 - val_loss: 376.9299 - val_I_var: 0.6548\n",
      "Epoch 50/1000\n",
      "153/153 [==============================] - 0s 3ms/step - loss: 379.8051 - I_var: 0.6458 - val_loss: 377.5338 - val_I_var: 0.6505\n",
      "Epoch 51/1000\n",
      "153/153 [==============================] - 0s 3ms/step - loss: 379.7567 - I_var: 0.6476 - val_loss: 377.5937 - val_I_var: 0.6501\n",
      "Epoch 52/1000\n",
      "153/153 [==============================] - 0s 3ms/step - loss: 379.6675 - I_var: 0.6473 - val_loss: 377.2968 - val_I_var: 0.6522\n",
      "Epoch 53/1000\n",
      "153/153 [==============================] - 0s 3ms/step - loss: 379.6812 - I_var: 0.6473 - val_loss: 376.8179 - val_I_var: 0.6556\n",
      "Epoch 54/1000\n",
      "153/153 [==============================] - 0s 3ms/step - loss: 379.5406 - I_var: 0.6482 - val_loss: 378.1334 - val_I_var: 0.6462\n",
      "Epoch 55/1000\n",
      "153/153 [==============================] - 0s 3ms/step - loss: 379.9509 - I_var: 0.6461 - val_loss: 376.8787 - val_I_var: 0.6552\n",
      "Epoch 56/1000\n",
      "153/153 [==============================] - 0s 3ms/step - loss: 379.5587 - I_var: 0.6472 - val_loss: 377.0928 - val_I_var: 0.6538\n",
      "Epoch 57/1000\n",
      "153/153 [==============================] - 0s 3ms/step - loss: 379.7139 - I_var: 0.6472 - val_loss: 377.5058 - val_I_var: 0.6508\n",
      "Epoch 58/1000\n"
     ]
    },
    {
     "name": "stdout",
     "output_type": "stream",
     "text": [
      "153/153 [==============================] - 0s 3ms/step - loss: 380.0860 - I_var: 0.6453 - val_loss: 377.3430 - val_I_var: 0.6520\n",
      "Epoch 59/1000\n",
      "153/153 [==============================] - 0s 3ms/step - loss: 379.6763 - I_var: 0.6484 - val_loss: 377.0294 - val_I_var: 0.6541\n",
      "Epoch 60/1000\n",
      "153/153 [==============================] - 0s 3ms/step - loss: 379.5386 - I_var: 0.6484 - val_loss: 377.0785 - val_I_var: 0.6538\n",
      "Epoch 61/1000\n",
      "153/153 [==============================] - 0s 3ms/step - loss: 379.9112 - I_var: 0.6458 - val_loss: 377.1269 - val_I_var: 0.6535\n",
      "Epoch 62/1000\n",
      "153/153 [==============================] - 0s 3ms/step - loss: 379.7068 - I_var: 0.6467 - val_loss: 376.6550 - val_I_var: 0.6568\n",
      "Epoch 63/1000\n",
      "153/153 [==============================] - 0s 3ms/step - loss: 379.5488 - I_var: 0.6484 - val_loss: 377.3378 - val_I_var: 0.6520\n",
      "Epoch 64/1000\n",
      "153/153 [==============================] - 0s 3ms/step - loss: 379.6468 - I_var: 0.6470 - val_loss: 377.3801 - val_I_var: 0.6516\n",
      "Epoch 65/1000\n",
      "153/153 [==============================] - 0s 3ms/step - loss: 379.6537 - I_var: 0.6472 - val_loss: 377.0886 - val_I_var: 0.6535\n",
      "Epoch 66/1000\n",
      "153/153 [==============================] - 1s 4ms/step - loss: 379.4894 - I_var: 0.6480 - val_loss: 377.2315 - val_I_var: 0.6526\n",
      "Epoch 67/1000\n",
      "153/153 [==============================] - 0s 3ms/step - loss: 379.5121 - I_var: 0.6483 - val_loss: 377.1887 - val_I_var: 0.6529\n",
      "Epoch 68/1000\n",
      "153/153 [==============================] - 0s 3ms/step - loss: 379.5480 - I_var: 0.6481 - val_loss: 376.9230 - val_I_var: 0.6550\n",
      "Epoch 69/1000\n",
      "153/153 [==============================] - 0s 3ms/step - loss: 379.5057 - I_var: 0.6489 - val_loss: 377.3734 - val_I_var: 0.6518\n",
      "Epoch 70/1000\n",
      "153/153 [==============================] - 0s 3ms/step - loss: 379.4323 - I_var: 0.6489 - val_loss: 376.6932 - val_I_var: 0.6565\n",
      "Epoch 71/1000\n",
      "153/153 [==============================] - 0s 3ms/step - loss: 379.4921 - I_var: 0.6481 - val_loss: 377.0662 - val_I_var: 0.6538\n",
      "Epoch 72/1000\n",
      "153/153 [==============================] - 0s 3ms/step - loss: 379.4041 - I_var: 0.6497 - val_loss: 376.8471 - val_I_var: 0.6556\n",
      "Training time: 34.1 seconds\n"
     ]
    },
    {
     "data": {
      "text/plain": [
       "<keras.callbacks.History at 0x7f90f6d75bb0>"
      ]
     },
     "execution_count": 13,
     "metadata": {},
     "output_type": "execute_result"
    }
   ],
   "source": [
    "\n",
    "# Fit model to data\n",
    "model.fit(learning_rate=.001,\n",
    "          epochs=1000,\n",
    "          batch_size=200,\n",
    "          try_tqdm = False,\n",
    "          early_stopping=True,\n",
    "          early_stopping_patience=10,\n",
    "          linear_initialization=False)"
   ]
  },
  {
   "cell_type": "code",
   "execution_count": 14,
   "metadata": {},
   "outputs": [
    {
     "name": "stdout",
     "output_type": "stream",
     "text": [
      "On test data:\n"
     ]
    },
    {
     "data": {
      "text/plain": [
       "Text(0.5, 1.0, 'training hisotry')"
      ]
     },
     "execution_count": 14,
     "metadata": {},
     "output_type": "execute_result"
    },
    {
     "data": {
      "image/png": "[encoded data removed]",
      "text/plain": [
       "<Figure size 288x288 with 1 Axes>"
      ]
     },
     "metadata": {
      "needs_background": "light"
     },
     "output_type": "display_data"
    }
   ],
   "source": [
    "# Show training history\n",
    "print('On test data:')\n",
    "x_test = test_df['x'].values\n",
    "y_test = test_df[y_cols].values\n",
    "\n",
    "\n",
    "I_var_hist = model.history['I_var']\n",
    "val_I_var_hist = model.history['val_I_var']\n",
    "\n",
    "fig, ax = plt.subplots(1,1,figsize=[4,4])\n",
    "ax.plot(I_var_hist, label='I_var_train')\n",
    "ax.plot(val_I_var_hist, label='I_var_val')\n",
    "ax.legend()\n",
    "ax.set_xlabel('epochs')\n",
    "ax.set_ylabel('bits')\n",
    "ax.set_title('training hisotry')"
   ]
  },
  {
   "cell_type": "code",
   "execution_count": 15,
   "metadata": {},
   "outputs": [
    {
     "data": {
      "image/png": "[encoded data removed]",
      "text/plain": [
       "<Figure size 720x288 with 1 Axes>"
      ]
     },
     "metadata": {
      "needs_background": "light"
     },
     "output_type": "display_data"
    }
   ],
   "source": [
    "# Get G-P map parameters in matrix form\n",
    "theta = np.squeeze(gpmap.weights[1].numpy())\n",
    "\n",
    "# Create grid in phi space\n",
    "phi_lim = [-5, 3]\n",
    "phi_grid = np.linspace(phi_lim[0], phi_lim[1], 1000)\n",
    "\n",
    "# Create array of allowable y values\n",
    "Y = mp_mpa.Y    # Y = number of bins\n",
    "y_lim = [-.5, Y-.5]\n",
    "y_all = range(Y)\n",
    "\n",
    "# Compute matrix of p(y|phi) values\n",
    "#measurement_process = mp_mpa.p_of_y_given_phi(y_all, phi_grid)\n",
    "\n",
    "# Create figure with two panels\n",
    "fig, axs = plt.subplots(1,1,figsize=[10,4])\n",
    "\n",
    "# Left panel: draw logo using logomaker\n",
    "ax = axs\n",
    "logo = logomaker.Logo(pd.DataFrame(theta,columns=model.alphabet), ax=ax,center_values=True)\n",
    "ax.set_ylabel(r'parameter value ($\\theta_{l:c}$)')\n",
    "ax.set_xlabel(r'position ($l$)')\n",
    "ax.set_title('G-P map parameters')\n",
    "\n",
    "# Right panel: draw measurement process as heatmap\n",
    "# ax = axs[1]\n",
    "# im = ax.imshow(measurement_process,\n",
    "#                cmap='Greens',\n",
    "#                extent=phi_lim+y_lim,\n",
    "#                vmin=0,\n",
    "#                origin='lower',\n",
    "#                interpolation='nearest',\n",
    "#                aspect=\"auto\")\n",
    "# ax.set_yticks(y_all)\n",
    "# ax.set_ylabel('bin number (y)')\n",
    "# ax.set_xlabel('latent phenotype ($\\phi$)')\n",
    "# ax.set_title('measurement process')\n",
    "# cb = plt.colorbar(im)\n",
    "# cb.set_label('probability  $p(y|\\phi)$', rotation=-90, va=\"bottom\")\n",
    "\n",
    "# Fix up plot\n",
    "fig.tight_layout(w_pad=3)\n",
    "#fig.savefig('sortseq_g-p_map_mpa_visualization.png')\n",
    "plt.show()"
   ]
  },
  {
   "cell_type": "code",
   "execution_count": 16,
   "metadata": {},
   "outputs": [
    {
     "data": {
      "image/png": "[encoded data removed]",
      "text/plain": [
       "<Figure size 432x432 with 2 Axes>"
      ]
     },
     "metadata": {
      "needs_background": "light"
     },
     "output_type": "display_data"
    }
   ],
   "source": [
    "# Create grid in phi space\n",
    "phi_lim = [-5, 3]\n",
    "phi_grid = np.linspace(phi_lim[0], phi_lim[1], 1000)\n",
    "\n",
    "# Create array of allowable y values\n",
    "Y = mp_mpa.Y    # Y = number of bins\n",
    "y_lim = [-.5, Y-.5]\n",
    "y_all = range(Y)\n",
    "\n",
    "# Compute matrix of p(y|phi) values\n",
    "measurement_process = mp_mpa.p_of_y_given_phi(y_all, phi_grid)\n",
    "\n",
    "\n",
    "# Create figure with two panels\n",
    "fig, ax = plt.subplots(1,1,figsize=[6,6])\n",
    "\n",
    "# Right panel: draw measurement process as heatmap\n",
    "im = ax.imshow(measurement_process,\n",
    "               cmap='Greens',\n",
    "               extent=phi_lim+y_lim,\n",
    "               vmin=0,\n",
    "               origin='lower',\n",
    "               interpolation='nearest',\n",
    "               aspect=\"auto\")\n",
    "ax.set_yticks(y_all)\n",
    "ax.set_ylabel('bin number (y)')\n",
    "ax.set_xlabel('latent phenotype ($\\phi$)')\n",
    "ax.set_title('measurement process')\n",
    "cb = plt.colorbar(im)\n",
    "cb.set_label('probability  $p(y|\\phi)$', rotation=-90, va=\"bottom\")\n"
   ]
  },
  {
   "cell_type": "code",
   "execution_count": null,
   "metadata": {},
   "outputs": [],
   "source": []
  }
 ],
 "metadata": {
  "kernelspec": {
   "display_name": "Python 3 (ipykernel)",
   "language": "python",
   "name": "python3"
  },
  "language_info": {
   "codemirror_mode": {
    "name": "ipython",
    "version": 3
   },
   "file_extension": ".py",
   "mimetype": "text/x-python",
   "name": "python",
   "nbconvert_exporter": "python",
   "pygments_lexer": "ipython3",
   "version": "3.9.7"
  }
 },
 "nbformat": 4,
 "nbformat_minor": 2
}
