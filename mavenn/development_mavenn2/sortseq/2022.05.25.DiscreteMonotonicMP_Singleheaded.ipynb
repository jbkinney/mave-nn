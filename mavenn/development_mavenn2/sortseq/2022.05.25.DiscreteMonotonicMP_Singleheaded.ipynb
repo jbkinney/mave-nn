{
 "cells": [
  {
   "cell_type": "code",
   "execution_count": 1,
   "metadata": {},
   "outputs": [],
   "source": [
    "import numpy as np\n",
    "import pandas as pd\n",
    "import matplotlib.pyplot as plt\n",
    "import sys\n",
    "#sys.path.insert(0, '/Users/ammar.tareen/Desktop/Research_projects/mavenn2/')\n",
    "sys.path.insert(0, '/Users/tareen/Desktop/Research_Projects/2022_mavenn2_github/mavenn')\n",
    "\n",
    "import mavenn\n",
    "import logomaker\n",
    "import seaborn as sns\n",
    "import re\n",
    "\n",
    "%matplotlib inline"
   ]
  },
  {
   "cell_type": "code",
   "execution_count": 2,
   "metadata": {},
   "outputs": [
    {
     "name": "stdout",
     "output_type": "stream",
     "text": [
      "test N: 9,935\n",
      "training + validation N: 40,583\n"
     ]
    },
    {
     "data": {
      "text/html": [
       "<div>\n",
       "<style scoped>\n",
       "    .dataframe tbody tr th:only-of-type {\n",
       "        vertical-align: middle;\n",
       "    }\n",
       "\n",
       "    .dataframe tbody tr th {\n",
       "        vertical-align: top;\n",
       "    }\n",
       "\n",
       "    .dataframe thead th {\n",
       "        text-align: right;\n",
       "    }\n",
       "</style>\n",
       "<table border=\"1\" class=\"dataframe\">\n",
       "  <thead>\n",
       "    <tr style=\"text-align: right;\">\n",
       "      <th></th>\n",
       "      <th>set</th>\n",
       "      <th>ct_0</th>\n",
       "      <th>ct_1</th>\n",
       "      <th>ct_2</th>\n",
       "      <th>ct_3</th>\n",
       "      <th>ct_4</th>\n",
       "      <th>ct_5</th>\n",
       "      <th>ct_6</th>\n",
       "      <th>ct_7</th>\n",
       "      <th>ct_8</th>\n",
       "      <th>ct_9</th>\n",
       "      <th>x</th>\n",
       "    </tr>\n",
       "  </thead>\n",
       "  <tbody>\n",
       "    <tr>\n",
       "      <th>0</th>\n",
       "      <td>training</td>\n",
       "      <td>0</td>\n",
       "      <td>1</td>\n",
       "      <td>0</td>\n",
       "      <td>0</td>\n",
       "      <td>0</td>\n",
       "      <td>0</td>\n",
       "      <td>0</td>\n",
       "      <td>0</td>\n",
       "      <td>0</td>\n",
       "      <td>0</td>\n",
       "      <td>AAAAAAAGTGAGTTAGCCAACTAATTAGGCACCGTACGCTTTATAG...</td>\n",
       "    </tr>\n",
       "    <tr>\n",
       "      <th>1</th>\n",
       "      <td>training</td>\n",
       "      <td>0</td>\n",
       "      <td>0</td>\n",
       "      <td>0</td>\n",
       "      <td>0</td>\n",
       "      <td>0</td>\n",
       "      <td>0</td>\n",
       "      <td>0</td>\n",
       "      <td>0</td>\n",
       "      <td>0</td>\n",
       "      <td>1</td>\n",
       "      <td>AAAAAATGAGAGTTAGTTCACTCATTCGGCACCACAGGCTTTACAA...</td>\n",
       "    </tr>\n",
       "    <tr>\n",
       "      <th>2</th>\n",
       "      <td>training</td>\n",
       "      <td>0</td>\n",
       "      <td>0</td>\n",
       "      <td>0</td>\n",
       "      <td>0</td>\n",
       "      <td>0</td>\n",
       "      <td>0</td>\n",
       "      <td>0</td>\n",
       "      <td>0</td>\n",
       "      <td>0</td>\n",
       "      <td>1</td>\n",
       "      <td>AAAAAATGGGTGTTAGCTCTATCATTAGGCACCCCCGGCTTTACAC...</td>\n",
       "    </tr>\n",
       "    <tr>\n",
       "      <th>3</th>\n",
       "      <td>training</td>\n",
       "      <td>0</td>\n",
       "      <td>1</td>\n",
       "      <td>0</td>\n",
       "      <td>0</td>\n",
       "      <td>0</td>\n",
       "      <td>0</td>\n",
       "      <td>0</td>\n",
       "      <td>0</td>\n",
       "      <td>0</td>\n",
       "      <td>0</td>\n",
       "      <td>AAAAAATGTCAGTTAGCTGACTCATTAGGCACCCCTGGCTTTACGT...</td>\n",
       "    </tr>\n",
       "    <tr>\n",
       "      <th>4</th>\n",
       "      <td>validation</td>\n",
       "      <td>0</td>\n",
       "      <td>0</td>\n",
       "      <td>0</td>\n",
       "      <td>0</td>\n",
       "      <td>0</td>\n",
       "      <td>0</td>\n",
       "      <td>1</td>\n",
       "      <td>0</td>\n",
       "      <td>0</td>\n",
       "      <td>0</td>\n",
       "      <td>AAAAAATGTGAGAAAGCTCACTCCTTTGGCACCGCAGGCTTTACAC...</td>\n",
       "    </tr>\n",
       "  </tbody>\n",
       "</table>\n",
       "</div>"
      ],
      "text/plain": [
       "          set  ct_0  ct_1  ct_2  ct_3  ct_4  ct_5  ct_6  ct_7  ct_8  ct_9  \\\n",
       "0    training     0     1     0     0     0     0     0     0     0     0   \n",
       "1    training     0     0     0     0     0     0     0     0     0     1   \n",
       "2    training     0     0     0     0     0     0     0     0     0     1   \n",
       "3    training     0     1     0     0     0     0     0     0     0     0   \n",
       "4  validation     0     0     0     0     0     0     1     0     0     0   \n",
       "\n",
       "                                                   x  \n",
       "0  AAAAAAAGTGAGTTAGCCAACTAATTAGGCACCGTACGCTTTATAG...  \n",
       "1  AAAAAATGAGAGTTAGTTCACTCATTCGGCACCACAGGCTTTACAA...  \n",
       "2  AAAAAATGGGTGTTAGCTCTATCATTAGGCACCCCCGGCTTTACAC...  \n",
       "3  AAAAAATGTCAGTTAGCTGACTCATTAGGCACCCCTGGCTTTACGT...  \n",
       "4  AAAAAATGTGAGAAAGCTCACTCCTTTGGCACCGCAGGCTTTACAC...  "
      ]
     },
     "execution_count": 2,
     "metadata": {},
     "output_type": "execute_result"
    }
   ],
   "source": [
    "# Load example data\n",
    "data_df = mavenn.load_example_dataset('sortseq')\n",
    "\n",
    "# Separate test from data_df\n",
    "ix_test = data_df['set']=='test'\n",
    "test_df = data_df[ix_test].reset_index(drop=True)\n",
    "print(f'test N: {len(test_df):,}')\n",
    "\n",
    "# Remove test data from data_df\n",
    "data_df = data_df[~ix_test].reset_index(drop=True)\n",
    "print(f'training + validation N: {len(data_df):,}')\n",
    "data_df.head()"
   ]
  },
  {
   "cell_type": "code",
   "execution_count": 3,
   "metadata": {},
   "outputs": [
    {
     "name": "stdout",
     "output_type": "stream",
     "text": [
      "L=75, Y=10\n"
     ]
    }
   ],
   "source": [
    "# set positional argumnets for gpmap function\n",
    "L = len(data_df['x'][0])\n",
    "alphabet=['A','C','G','T']\n",
    "\n",
    "y_cols = data_df.columns[1:-1]\n",
    "Y = len(y_cols)\n",
    "print(f'L={L}, Y={Y}')\n",
    "\n",
    "# get test set data.\n",
    "x_test = test_df['x'].values"
   ]
  },
  {
   "cell_type": "code",
   "execution_count": 4,
   "metadata": {},
   "outputs": [
    {
     "name": "stderr",
     "output_type": "stream",
     "text": [
      "2022-05-25 22:18:42.726814: I tensorflow/core/platform/cpu_feature_guard.cc:151] This TensorFlow binary is optimized with oneAPI Deep Neural Network Library (oneDNN) to use the following CPU instructions in performance-critical operations:  AVX2 FMA\n",
      "To enable them in other operations, rebuild TensorFlow with the appropriate compiler flags.\n"
     ]
    }
   ],
   "source": [
    "# instantiate gpmap object\n",
    "gpmap = mavenn.gpmap.AdditiveGPMapLayer(L, alphabet)\n"
   ]
  },
  {
   "cell_type": "markdown",
   "metadata": {},
   "source": [
    "### Create measurement process object(s)"
   ]
  },
  {
   "cell_type": "code",
   "execution_count": 5,
   "metadata": {},
   "outputs": [],
   "source": [
    "# I think this shouldn't require any positional arguments.\n",
    "# mp_GE = mavenn.measurement_process_layers.GlobalEpistasisLayer(K=50,\n",
    "#                                                                eta=1e-5,\n",
    "#                                                                monotonic=True)\n",
    "mp_mpa = mavenn.measurement_process_layers.DiscreteMonotonicMP(info_for_layers_dict={'H_y_norm':0},\n",
    "                                                                      Y=10,\n",
    "                                                                      K=50,\n",
    "                                                                      eta=1e-5,)\n"
   ]
  },
  {
   "cell_type": "code",
   "execution_count": 6,
   "metadata": {},
   "outputs": [],
   "source": [
    "model = mavenn.Model2(gpmap=gpmap,\n",
    "                      mp_list=[mp_mpa])"
   ]
  },
  {
   "cell_type": "code",
   "execution_count": 7,
   "metadata": {},
   "outputs": [
    {
     "name": "stdout",
     "output_type": "stream",
     "text": [
      "Model: \"model\"\n",
      "__________________________________________________________________________________________________\n",
      " Layer (type)                   Output Shape         Param #     Connected to                     \n",
      "==================================================================================================\n",
      " Sequence_labels_input (InputLa  [(None, 310)]       0           []                               \n",
      " yer)                                                                                             \n",
      "                                                                                                  \n",
      " Sequence_only (Lambda)         (None, 300)          0           ['Sequence_labels_input[0][0]']  \n",
      "                                                                                                  \n",
      " additive_gp_map_layer (Additiv  (None, 1)           301         ['Sequence_only[0][0]']          \n",
      " eGPMapLayer)                                                                                     \n",
      "                                                                                                  \n",
      " Labels_input_0 (Lambda)        (None, 10)           0           ['Sequence_labels_input[0][0]']  \n",
      "                                                                                                  \n",
      " concatenate (Concatenate)      (None, 11)           0           ['additive_gp_map_layer[0][0]',  \n",
      "                                                                  'Labels_input_0[0][0]']         \n",
      "                                                                                                  \n",
      " discrete_monotonic_mp (Discret  (None,)             610         ['concatenate[0][0]']            \n",
      " eMonotonicMP)                                                                                    \n",
      "                                                                                                  \n",
      "==================================================================================================\n",
      "Total params: 911\n",
      "Trainable params: 911\n",
      "Non-trainable params: 0\n",
      "__________________________________________________________________________________________________\n"
     ]
    }
   ],
   "source": [
    "model.model.summary()"
   ]
  },
  {
   "cell_type": "code",
   "execution_count": 8,
   "metadata": {},
   "outputs": [],
   "source": [
    "# #*np.ones(shape=y_list[0].shape[0])\n",
    "\n",
    "# y_cts_df = pd.DataFrame(np.random.rand(y_list[0].shape[0]))\n",
    "# y_cts_df.head()"
   ]
  },
  {
   "cell_type": "code",
   "execution_count": 9,
   "metadata": {},
   "outputs": [],
   "source": [
    "# y_dict = {}\n",
    "\n",
    "# y_list=[data_df[y_cols].values]\n",
    "# #y_dict[output_layer_index] = current_y_norm\n",
    "# y_discrete_df = pd.DataFrame(y_list[0])\n",
    "# y_discrete_df.head()"
   ]
  },
  {
   "cell_type": "code",
   "execution_count": 10,
   "metadata": {},
   "outputs": [],
   "source": [
    "# np.hstack([model.x_ohe,np.hstack([y_cts_df.values,y_discrete_df.values])])"
   ]
  },
  {
   "cell_type": "code",
   "execution_count": 11,
   "metadata": {},
   "outputs": [],
   "source": [
    "\n",
    "#np.hstack([y_cts_df.values])"
   ]
  },
  {
   "cell_type": "code",
   "execution_count": 12,
   "metadata": {},
   "outputs": [
    {
     "name": "stdout",
     "output_type": "stream",
     "text": [
      "N = 40,583 observations set as training data.\n",
      "Using 24.8% for validation.\n",
      "Data shuffled.\n",
      "Time to set data: 0.877 sec.\n"
     ]
    }
   ],
   "source": [
    "# Set training data\n",
    "model.set_data(x=data_df['x'].values,\n",
    "               y_list=[data_df[y_cols].values],\n",
    "               validation_flags=(data_df['set']=='validation'),\n",
    "               shuffle=True)\n"
   ]
  },
  {
   "cell_type": "code",
   "execution_count": 13,
   "metadata": {},
   "outputs": [
    {
     "name": "stdout",
     "output_type": "stream",
     "text": [
      "Epoch 1/1000\n",
      "153/153 [==============================] - 1s 4ms/step - loss: 470.1479 - I_var: 0.0107 - val_loss: 460.5082 - val_I_var: 0.0634\n",
      "Epoch 2/1000\n",
      "153/153 [==============================] - 0s 3ms/step - loss: 445.4370 - I_var: 0.1846 - val_loss: 425.1452 - val_I_var: 0.3136\n",
      "Epoch 3/1000\n",
      "153/153 [==============================] - 0s 3ms/step - loss: 414.8613 - I_var: 0.3994 - val_loss: 403.4071 - val_I_var: 0.4678\n",
      "Epoch 4/1000\n",
      "153/153 [==============================] - 0s 3ms/step - loss: 400.3355 - I_var: 0.5011 - val_loss: 394.4593 - val_I_var: 0.5312\n",
      "Epoch 5/1000\n",
      "153/153 [==============================] - 0s 3ms/step - loss: 395.8131 - I_var: 0.5339 - val_loss: 392.9158 - val_I_var: 0.5423\n",
      "Epoch 6/1000\n",
      "153/153 [==============================] - 1s 3ms/step - loss: 393.8362 - I_var: 0.5478 - val_loss: 390.2939 - val_I_var: 0.5606\n",
      "Epoch 7/1000\n",
      "153/153 [==============================] - 0s 2ms/step - loss: 392.5998 - I_var: 0.5569 - val_loss: 389.2490 - val_I_var: 0.5678\n",
      "Epoch 8/1000\n",
      "153/153 [==============================] - 0s 3ms/step - loss: 391.4589 - I_var: 0.5645 - val_loss: 387.7643 - val_I_var: 0.5784\n",
      "Epoch 9/1000\n",
      "153/153 [==============================] - 0s 3ms/step - loss: 390.2099 - I_var: 0.5736 - val_loss: 386.9200 - val_I_var: 0.5843\n",
      "Epoch 10/1000\n",
      "153/153 [==============================] - 1s 4ms/step - loss: 389.1493 - I_var: 0.5808 - val_loss: 386.2839 - val_I_var: 0.5887\n",
      "Epoch 11/1000\n",
      "153/153 [==============================] - 0s 3ms/step - loss: 388.4331 - I_var: 0.5861 - val_loss: 385.1964 - val_I_var: 0.5962\n",
      "Epoch 12/1000\n",
      "153/153 [==============================] - 1s 4ms/step - loss: 387.3369 - I_var: 0.5928 - val_loss: 384.4796 - val_I_var: 0.6010\n",
      "Epoch 13/1000\n",
      "153/153 [==============================] - 0s 3ms/step - loss: 386.7710 - I_var: 0.5972 - val_loss: 383.5271 - val_I_var: 0.6078\n",
      "Epoch 14/1000\n",
      "153/153 [==============================] - 0s 3ms/step - loss: 385.9369 - I_var: 0.6032 - val_loss: 384.2658 - val_I_var: 0.6024\n",
      "Epoch 15/1000\n",
      "153/153 [==============================] - 0s 3ms/step - loss: 385.4886 - I_var: 0.6070 - val_loss: 382.8419 - val_I_var: 0.6125\n",
      "Epoch 16/1000\n",
      "153/153 [==============================] - 0s 3ms/step - loss: 384.6895 - I_var: 0.6121 - val_loss: 382.6003 - val_I_var: 0.6141\n",
      "Epoch 17/1000\n",
      "153/153 [==============================] - 0s 3ms/step - loss: 384.2709 - I_var: 0.6146 - val_loss: 381.6675 - val_I_var: 0.6205\n",
      "Epoch 18/1000\n",
      "153/153 [==============================] - 0s 3ms/step - loss: 384.0325 - I_var: 0.6162 - val_loss: 381.7098 - val_I_var: 0.6203\n",
      "Epoch 19/1000\n",
      "153/153 [==============================] - 0s 3ms/step - loss: 383.2408 - I_var: 0.6215 - val_loss: 380.8852 - val_I_var: 0.6259\n",
      "Epoch 20/1000\n",
      "153/153 [==============================] - 0s 3ms/step - loss: 382.9986 - I_var: 0.6239 - val_loss: 381.0438 - val_I_var: 0.6249\n",
      "Epoch 21/1000\n",
      "153/153 [==============================] - 0s 3ms/step - loss: 382.4533 - I_var: 0.6271 - val_loss: 379.9772 - val_I_var: 0.6324\n",
      "Epoch 22/1000\n",
      "153/153 [==============================] - 0s 3ms/step - loss: 382.4257 - I_var: 0.6278 - val_loss: 379.6700 - val_I_var: 0.6343\n",
      "Epoch 23/1000\n",
      "153/153 [==============================] - 0s 3ms/step - loss: 382.0999 - I_var: 0.6295 - val_loss: 379.1474 - val_I_var: 0.6382\n",
      "Epoch 24/1000\n",
      "153/153 [==============================] - 0s 3ms/step - loss: 381.7513 - I_var: 0.6327 - val_loss: 379.1207 - val_I_var: 0.6384\n",
      "Epoch 25/1000\n",
      "153/153 [==============================] - 0s 3ms/step - loss: 381.4657 - I_var: 0.6346 - val_loss: 379.0097 - val_I_var: 0.6389\n",
      "Epoch 26/1000\n",
      "153/153 [==============================] - 0s 3ms/step - loss: 381.1315 - I_var: 0.6374 - val_loss: 379.4524 - val_I_var: 0.6357\n",
      "Epoch 27/1000\n",
      "153/153 [==============================] - 0s 3ms/step - loss: 381.1849 - I_var: 0.6366 - val_loss: 378.1722 - val_I_var: 0.6447\n",
      "Epoch 28/1000\n",
      "153/153 [==============================] - 0s 3ms/step - loss: 381.0657 - I_var: 0.6372 - val_loss: 378.0193 - val_I_var: 0.6459\n",
      "Epoch 29/1000\n",
      "153/153 [==============================] - 0s 3ms/step - loss: 380.6587 - I_var: 0.6402 - val_loss: 377.8066 - val_I_var: 0.6475\n",
      "Epoch 30/1000\n",
      "153/153 [==============================] - 0s 3ms/step - loss: 380.7398 - I_var: 0.6405 - val_loss: 378.5620 - val_I_var: 0.6422\n",
      "Epoch 31/1000\n",
      "153/153 [==============================] - 0s 3ms/step - loss: 380.3429 - I_var: 0.6419 - val_loss: 378.4256 - val_I_var: 0.6431\n",
      "Epoch 32/1000\n",
      "153/153 [==============================] - 0s 3ms/step - loss: 380.4465 - I_var: 0.6419 - val_loss: 377.4552 - val_I_var: 0.6499\n",
      "Epoch 33/1000\n",
      "153/153 [==============================] - 0s 3ms/step - loss: 380.1480 - I_var: 0.6435 - val_loss: 377.4745 - val_I_var: 0.6498\n",
      "Epoch 34/1000\n",
      "153/153 [==============================] - 0s 3ms/step - loss: 380.4969 - I_var: 0.6421 - val_loss: 377.6772 - val_I_var: 0.6483\n",
      "Epoch 35/1000\n",
      "153/153 [==============================] - 0s 3ms/step - loss: 380.2709 - I_var: 0.6433 - val_loss: 377.3528 - val_I_var: 0.6507\n",
      "Epoch 36/1000\n",
      "153/153 [==============================] - 0s 3ms/step - loss: 380.0611 - I_var: 0.6449 - val_loss: 377.5483 - val_I_var: 0.6492\n",
      "Epoch 37/1000\n",
      "153/153 [==============================] - 0s 3ms/step - loss: 379.8791 - I_var: 0.6458 - val_loss: 377.4598 - val_I_var: 0.6500\n",
      "Epoch 38/1000\n",
      "153/153 [==============================] - 0s 3ms/step - loss: 380.0058 - I_var: 0.6452 - val_loss: 377.1615 - val_I_var: 0.6519\n",
      "Epoch 39/1000\n",
      "153/153 [==============================] - 0s 3ms/step - loss: 379.8448 - I_var: 0.6464 - val_loss: 377.3539 - val_I_var: 0.6508\n",
      "Epoch 40/1000\n",
      "153/153 [==============================] - 0s 3ms/step - loss: 379.8884 - I_var: 0.6460 - val_loss: 379.4384 - val_I_var: 0.6360\n",
      "Epoch 41/1000\n",
      "153/153 [==============================] - 0s 3ms/step - loss: 379.9112 - I_var: 0.6448 - val_loss: 377.4993 - val_I_var: 0.6496\n",
      "Epoch 42/1000\n",
      "153/153 [==============================] - 0s 3ms/step - loss: 379.6756 - I_var: 0.6470 - val_loss: 377.0020 - val_I_var: 0.6532\n",
      "Epoch 43/1000\n",
      "153/153 [==============================] - 0s 3ms/step - loss: 379.7936 - I_var: 0.6463 - val_loss: 376.7989 - val_I_var: 0.6548\n",
      "Epoch 44/1000\n",
      "153/153 [==============================] - 0s 3ms/step - loss: 379.9246 - I_var: 0.6458 - val_loss: 377.1137 - val_I_var: 0.6526\n",
      "Epoch 45/1000\n",
      "153/153 [==============================] - 0s 3ms/step - loss: 379.4928 - I_var: 0.6475 - val_loss: 377.7746 - val_I_var: 0.6477\n",
      "Epoch 46/1000\n",
      "153/153 [==============================] - 1s 3ms/step - loss: 379.6021 - I_var: 0.6476 - val_loss: 377.0426 - val_I_var: 0.6528\n",
      "Epoch 47/1000\n",
      "153/153 [==============================] - 0s 3ms/step - loss: 379.6887 - I_var: 0.6471 - val_loss: 377.7223 - val_I_var: 0.6482\n",
      "Epoch 48/1000\n",
      "153/153 [==============================] - 0s 3ms/step - loss: 379.7710 - I_var: 0.6468 - val_loss: 377.2657 - val_I_var: 0.6516\n",
      "Epoch 49/1000\n",
      "153/153 [==============================] - 0s 3ms/step - loss: 379.5532 - I_var: 0.6481 - val_loss: 376.5110 - val_I_var: 0.6568\n",
      "Epoch 50/1000\n",
      "153/153 [==============================] - 0s 3ms/step - loss: 379.4354 - I_var: 0.6488 - val_loss: 377.1358 - val_I_var: 0.6523\n",
      "Epoch 51/1000\n",
      "153/153 [==============================] - 0s 3ms/step - loss: 379.3821 - I_var: 0.6505 - val_loss: 378.2821 - val_I_var: 0.6445\n",
      "Epoch 52/1000\n",
      "153/153 [==============================] - 0s 3ms/step - loss: 379.7865 - I_var: 0.6469 - val_loss: 376.7774 - val_I_var: 0.6551\n",
      "Epoch 53/1000\n",
      "153/153 [==============================] - 0s 3ms/step - loss: 379.3741 - I_var: 0.6500 - val_loss: 377.9753 - val_I_var: 0.6467\n",
      "Epoch 54/1000\n",
      "153/153 [==============================] - 0s 3ms/step - loss: 379.4834 - I_var: 0.6491 - val_loss: 377.2661 - val_I_var: 0.6515\n",
      "Epoch 55/1000\n",
      "153/153 [==============================] - 1s 4ms/step - loss: 379.2492 - I_var: 0.6502 - val_loss: 377.3866 - val_I_var: 0.6505\n",
      "Epoch 56/1000\n",
      "153/153 [==============================] - 0s 3ms/step - loss: 379.5564 - I_var: 0.6478 - val_loss: 377.0188 - val_I_var: 0.6532\n",
      "Epoch 57/1000\n",
      "153/153 [==============================] - 1s 5ms/step - loss: 379.4757 - I_var: 0.6489 - val_loss: 376.6237 - val_I_var: 0.6558\n",
      "Epoch 58/1000\n"
     ]
    },
    {
     "name": "stdout",
     "output_type": "stream",
     "text": [
      "153/153 [==============================] - 0s 3ms/step - loss: 379.3708 - I_var: 0.6487 - val_loss: 378.1636 - val_I_var: 0.6454\n",
      "Epoch 59/1000\n",
      "153/153 [==============================] - 1s 4ms/step - loss: 379.8134 - I_var: 0.6462 - val_loss: 377.2948 - val_I_var: 0.6512\n",
      "Training time: 28.0 seconds\n"
     ]
    },
    {
     "data": {
      "text/plain": [
       "<keras.callbacks.History at 0x7fa1f170be20>"
      ]
     },
     "execution_count": 13,
     "metadata": {},
     "output_type": "execute_result"
    }
   ],
   "source": [
    "\n",
    "# Fit model to data\n",
    "model.fit(learning_rate=.001,\n",
    "          epochs=1000,\n",
    "          batch_size=200,\n",
    "          try_tqdm = False,\n",
    "          early_stopping=True,\n",
    "          early_stopping_patience=10,\n",
    "          linear_initialization=False)"
   ]
  },
  {
   "cell_type": "code",
   "execution_count": 14,
   "metadata": {
    "scrolled": true
   },
   "outputs": [
    {
     "name": "stdout",
     "output_type": "stream",
     "text": [
      "On test data:\n"
     ]
    },
    {
     "data": {
      "text/plain": [
       "Text(0.5, 1.0, 'training hisotry')"
      ]
     },
     "execution_count": 14,
     "metadata": {},
     "output_type": "execute_result"
    },
    {
     "data": {
      "image/png": "[encoded data removed]",
      "text/plain": [
       "<Figure size 288x288 with 1 Axes>"
      ]
     },
     "metadata": {
      "needs_background": "light"
     },
     "output_type": "display_data"
    }
   ],
   "source": [
    "# Show training history\n",
    "print('On test data:')\n",
    "x_test = test_df['x'].values\n",
    "y_test = test_df[y_cols].values\n",
    "\n",
    "\n",
    "I_var_hist = model.history['I_var']\n",
    "val_I_var_hist = model.history['val_I_var']\n",
    "\n",
    "fig, ax = plt.subplots(1,1,figsize=[4,4])\n",
    "ax.plot(I_var_hist, label='I_var_train')\n",
    "ax.plot(val_I_var_hist, label='I_var_val')\n",
    "ax.legend()\n",
    "ax.set_xlabel('epochs')\n",
    "ax.set_ylabel('bits')\n",
    "ax.set_title('training hisotry')"
   ]
  },
  {
   "cell_type": "code",
   "execution_count": 15,
   "metadata": {},
   "outputs": [
    {
     "data": {
      "image/png": "[encoded data removed]",
      "text/plain": [
       "<Figure size 720x288 with 1 Axes>"
      ]
     },
     "metadata": {
      "needs_background": "light"
     },
     "output_type": "display_data"
    }
   ],
   "source": [
    "# Get G-P map parameters in matrix form\n",
    "theta = np.squeeze(gpmap.weights[1].numpy())\n",
    "\n",
    "# Create grid in phi space\n",
    "phi_lim = [-5, 3]\n",
    "phi_grid = np.linspace(phi_lim[0], phi_lim[1], 1000)\n",
    "\n",
    "# Create array of allowable y values\n",
    "Y = mp_mpa.Y    # Y = number of bins\n",
    "y_lim = [-.5, Y-.5]\n",
    "y_all = range(Y)\n",
    "\n",
    "# Compute matrix of p(y|phi) values\n",
    "#measurement_process = mp_mpa.p_of_y_given_phi(y_all, phi_grid)\n",
    "\n",
    "# Create figure with two panels\n",
    "fig, axs = plt.subplots(1,1,figsize=[10,4])\n",
    "\n",
    "# Left panel: draw logo using logomaker\n",
    "ax = axs\n",
    "logo = logomaker.Logo(pd.DataFrame(theta,columns=model.alphabet), ax=ax,center_values=True)\n",
    "ax.set_ylabel(r'parameter value ($\\theta_{l:c}$)')\n",
    "ax.set_xlabel(r'position ($l$)')\n",
    "ax.set_title('G-P map parameters')\n",
    "\n",
    "# Right panel: draw measurement process as heatmap\n",
    "# ax = axs[1]\n",
    "# im = ax.imshow(measurement_process,\n",
    "#                cmap='Greens',\n",
    "#                extent=phi_lim+y_lim,\n",
    "#                vmin=0,\n",
    "#                origin='lower',\n",
    "#                interpolation='nearest',\n",
    "#                aspect=\"auto\")\n",
    "# ax.set_yticks(y_all)\n",
    "# ax.set_ylabel('bin number (y)')\n",
    "# ax.set_xlabel('latent phenotype ($\\phi$)')\n",
    "# ax.set_title('measurement process')\n",
    "# cb = plt.colorbar(im)\n",
    "# cb.set_label('probability  $p(y|\\phi)$', rotation=-90, va=\"bottom\")\n",
    "\n",
    "# Fix up plot\n",
    "fig.tight_layout(w_pad=3)\n",
    "#fig.savefig('sortseq_g-p_map_mpa_visualization.png')\n",
    "plt.show()"
   ]
  },
  {
   "cell_type": "code",
   "execution_count": 16,
   "metadata": {},
   "outputs": [
    {
     "data": {
      "image/png": "[encoded data removed]",
      "text/plain": [
       "<Figure size 432x432 with 2 Axes>"
      ]
     },
     "metadata": {
      "needs_background": "light"
     },
     "output_type": "display_data"
    }
   ],
   "source": [
    "# Create grid in phi space\n",
    "phi_lim = [-5, 3]\n",
    "phi_grid = np.linspace(phi_lim[0], phi_lim[1], 1000)\n",
    "\n",
    "# Create array of allowable y values\n",
    "Y = mp_mpa.Y    # Y = number of bins\n",
    "y_lim = [-.5, Y-.5]\n",
    "y_all = range(Y)\n",
    "\n",
    "# Compute matrix of p(y|phi) values\n",
    "measurement_process = mp_mpa.p_of_y_given_phi(y_all, phi_grid)\n",
    "\n",
    "\n",
    "# Create figure with two panels\n",
    "fig, ax = plt.subplots(1,1,figsize=[6,6])\n",
    "\n",
    "# Right panel: draw measurement process as heatmap\n",
    "im = ax.imshow(measurement_process,\n",
    "               cmap='Greens',\n",
    "               extent=phi_lim+y_lim,\n",
    "               vmin=0,\n",
    "               origin='lower',\n",
    "               interpolation='nearest',\n",
    "               aspect=\"auto\")\n",
    "ax.set_yticks(y_all)\n",
    "ax.set_ylabel('bin number (y)')\n",
    "ax.set_xlabel('latent phenotype ($\\phi$)')\n",
    "ax.set_title('measurement process')\n",
    "cb = plt.colorbar(im)\n",
    "cb.set_label('probability  $p(y|\\phi)$', rotation=-90, va=\"bottom\")\n"
   ]
  },
  {
   "cell_type": "code",
   "execution_count": null,
   "metadata": {},
   "outputs": [],
   "source": []
  }
 ],
 "metadata": {
  "kernelspec": {
   "display_name": "Python 3 (ipykernel)",
   "language": "python",
   "name": "python3"
  },
  "language_info": {
   "codemirror_mode": {
    "name": "ipython",
    "version": 3
   },
   "file_extension": ".py",
   "mimetype": "text/x-python",
   "name": "python",
   "nbconvert_exporter": "python",
   "pygments_lexer": "ipython3",
   "version": "3.9.7"
  }
 },
 "nbformat": 4,
 "nbformat_minor": 2
}
