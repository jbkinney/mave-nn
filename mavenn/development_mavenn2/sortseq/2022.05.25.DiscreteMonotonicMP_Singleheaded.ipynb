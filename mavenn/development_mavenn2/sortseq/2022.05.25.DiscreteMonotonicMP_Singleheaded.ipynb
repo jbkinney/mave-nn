{
 "cells": [
  {
   "cell_type": "code",
   "execution_count": 1,
   "metadata": {},
   "outputs": [],
   "source": [
    "import numpy as np\n",
    "import pandas as pd\n",
    "import matplotlib.pyplot as plt\n",
    "import sys\n",
    "#sys.path.insert(0, '/Users/ammar.tareen/Desktop/Research_projects/mavenn2/')\n",
    "sys.path.insert(0, '/Users/tareen/Desktop/Research_Projects/2022_mavenn2_github/mavenn')\n",
    "\n",
    "import mavenn\n",
    "import logomaker\n",
    "import seaborn as sns\n",
    "import re\n",
    "\n",
    "%matplotlib inline"
   ]
  },
  {
   "cell_type": "code",
   "execution_count": 2,
   "metadata": {},
   "outputs": [
    {
     "name": "stdout",
     "output_type": "stream",
     "text": [
      "test N: 9,935\n",
      "training + validation N: 40,583\n"
     ]
    },
    {
     "data": {
      "text/html": [
       "<div>\n",
       "<style scoped>\n",
       "    .dataframe tbody tr th:only-of-type {\n",
       "        vertical-align: middle;\n",
       "    }\n",
       "\n",
       "    .dataframe tbody tr th {\n",
       "        vertical-align: top;\n",
       "    }\n",
       "\n",
       "    .dataframe thead th {\n",
       "        text-align: right;\n",
       "    }\n",
       "</style>\n",
       "<table border=\"1\" class=\"dataframe\">\n",
       "  <thead>\n",
       "    <tr style=\"text-align: right;\">\n",
       "      <th></th>\n",
       "      <th>set</th>\n",
       "      <th>ct_0</th>\n",
       "      <th>ct_1</th>\n",
       "      <th>ct_2</th>\n",
       "      <th>ct_3</th>\n",
       "      <th>ct_4</th>\n",
       "      <th>ct_5</th>\n",
       "      <th>ct_6</th>\n",
       "      <th>ct_7</th>\n",
       "      <th>ct_8</th>\n",
       "      <th>ct_9</th>\n",
       "      <th>x</th>\n",
       "    </tr>\n",
       "  </thead>\n",
       "  <tbody>\n",
       "    <tr>\n",
       "      <th>0</th>\n",
       "      <td>training</td>\n",
       "      <td>0</td>\n",
       "      <td>1</td>\n",
       "      <td>0</td>\n",
       "      <td>0</td>\n",
       "      <td>0</td>\n",
       "      <td>0</td>\n",
       "      <td>0</td>\n",
       "      <td>0</td>\n",
       "      <td>0</td>\n",
       "      <td>0</td>\n",
       "      <td>AAAAAAAGTGAGTTAGCCAACTAATTAGGCACCGTACGCTTTATAG...</td>\n",
       "    </tr>\n",
       "    <tr>\n",
       "      <th>1</th>\n",
       "      <td>training</td>\n",
       "      <td>0</td>\n",
       "      <td>0</td>\n",
       "      <td>0</td>\n",
       "      <td>0</td>\n",
       "      <td>0</td>\n",
       "      <td>0</td>\n",
       "      <td>0</td>\n",
       "      <td>0</td>\n",
       "      <td>0</td>\n",
       "      <td>1</td>\n",
       "      <td>AAAAAATGAGAGTTAGTTCACTCATTCGGCACCACAGGCTTTACAA...</td>\n",
       "    </tr>\n",
       "    <tr>\n",
       "      <th>2</th>\n",
       "      <td>training</td>\n",
       "      <td>0</td>\n",
       "      <td>0</td>\n",
       "      <td>0</td>\n",
       "      <td>0</td>\n",
       "      <td>0</td>\n",
       "      <td>0</td>\n",
       "      <td>0</td>\n",
       "      <td>0</td>\n",
       "      <td>0</td>\n",
       "      <td>1</td>\n",
       "      <td>AAAAAATGGGTGTTAGCTCTATCATTAGGCACCCCCGGCTTTACAC...</td>\n",
       "    </tr>\n",
       "    <tr>\n",
       "      <th>3</th>\n",
       "      <td>training</td>\n",
       "      <td>0</td>\n",
       "      <td>1</td>\n",
       "      <td>0</td>\n",
       "      <td>0</td>\n",
       "      <td>0</td>\n",
       "      <td>0</td>\n",
       "      <td>0</td>\n",
       "      <td>0</td>\n",
       "      <td>0</td>\n",
       "      <td>0</td>\n",
       "      <td>AAAAAATGTCAGTTAGCTGACTCATTAGGCACCCCTGGCTTTACGT...</td>\n",
       "    </tr>\n",
       "    <tr>\n",
       "      <th>4</th>\n",
       "      <td>validation</td>\n",
       "      <td>0</td>\n",
       "      <td>0</td>\n",
       "      <td>0</td>\n",
       "      <td>0</td>\n",
       "      <td>0</td>\n",
       "      <td>0</td>\n",
       "      <td>1</td>\n",
       "      <td>0</td>\n",
       "      <td>0</td>\n",
       "      <td>0</td>\n",
       "      <td>AAAAAATGTGAGAAAGCTCACTCCTTTGGCACCGCAGGCTTTACAC...</td>\n",
       "    </tr>\n",
       "  </tbody>\n",
       "</table>\n",
       "</div>"
      ],
      "text/plain": [
       "          set  ct_0  ct_1  ct_2  ct_3  ct_4  ct_5  ct_6  ct_7  ct_8  ct_9  \\\n",
       "0    training     0     1     0     0     0     0     0     0     0     0   \n",
       "1    training     0     0     0     0     0     0     0     0     0     1   \n",
       "2    training     0     0     0     0     0     0     0     0     0     1   \n",
       "3    training     0     1     0     0     0     0     0     0     0     0   \n",
       "4  validation     0     0     0     0     0     0     1     0     0     0   \n",
       "\n",
       "                                                   x  \n",
       "0  AAAAAAAGTGAGTTAGCCAACTAATTAGGCACCGTACGCTTTATAG...  \n",
       "1  AAAAAATGAGAGTTAGTTCACTCATTCGGCACCACAGGCTTTACAA...  \n",
       "2  AAAAAATGGGTGTTAGCTCTATCATTAGGCACCCCCGGCTTTACAC...  \n",
       "3  AAAAAATGTCAGTTAGCTGACTCATTAGGCACCCCTGGCTTTACGT...  \n",
       "4  AAAAAATGTGAGAAAGCTCACTCCTTTGGCACCGCAGGCTTTACAC...  "
      ]
     },
     "execution_count": 2,
     "metadata": {},
     "output_type": "execute_result"
    }
   ],
   "source": [
    "# Load example data\n",
    "data_df = mavenn.load_example_dataset('sortseq')\n",
    "\n",
    "# Separate test from data_df\n",
    "ix_test = data_df['set']=='test'\n",
    "test_df = data_df[ix_test].reset_index(drop=True)\n",
    "print(f'test N: {len(test_df):,}')\n",
    "\n",
    "# Remove test data from data_df\n",
    "data_df = data_df[~ix_test].reset_index(drop=True)\n",
    "print(f'training + validation N: {len(data_df):,}')\n",
    "data_df.head()"
   ]
  },
  {
   "cell_type": "code",
   "execution_count": 3,
   "metadata": {},
   "outputs": [
    {
     "name": "stdout",
     "output_type": "stream",
     "text": [
      "L=75, Y=10\n"
     ]
    }
   ],
   "source": [
    "# set positional argumnets for gpmap function\n",
    "L = len(data_df['x'][0])\n",
    "alphabet=['A','C','G','T']\n",
    "\n",
    "y_cols = data_df.columns[1:-1]\n",
    "Y = len(y_cols)\n",
    "print(f'L={L}, Y={Y}')\n",
    "\n",
    "# get test set data.\n",
    "x_test = test_df['x'].values"
   ]
  },
  {
   "cell_type": "code",
   "execution_count": 4,
   "metadata": {},
   "outputs": [
    {
     "name": "stderr",
     "output_type": "stream",
     "text": [
      "2022-05-27 22:11:28.204909: I tensorflow/core/platform/cpu_feature_guard.cc:151] This TensorFlow binary is optimized with oneAPI Deep Neural Network Library (oneDNN) to use the following CPU instructions in performance-critical operations:  AVX2 FMA\n",
      "To enable them in other operations, rebuild TensorFlow with the appropriate compiler flags.\n"
     ]
    }
   ],
   "source": [
    "# instantiate gpmap object\n",
    "gpmap = mavenn.gpmap.AdditiveGPMapLayer(L, alphabet)\n"
   ]
  },
  {
   "cell_type": "markdown",
   "metadata": {},
   "source": [
    "### Create measurement process object(s)"
   ]
  },
  {
   "cell_type": "code",
   "execution_count": 5,
   "metadata": {},
   "outputs": [],
   "source": [
    "# I think this shouldn't require any positional arguments.\n",
    "# mp_GE = mavenn.measurement_process_layers.GlobalEpistasisLayer(K=50,\n",
    "#                                                                eta=1e-5,\n",
    "#                                                                monotonic=True)\n",
    "mp_mpa = mavenn.measurement_process_layers.DiscreteMonotonicMP(info_for_layers_dict={'H_y_norm':0},\n",
    "                                                                      Y=10,\n",
    "                                                                      K=50,\n",
    "                                                                      eta=1e-5,)\n"
   ]
  },
  {
   "cell_type": "code",
   "execution_count": 6,
   "metadata": {
    "scrolled": false
   },
   "outputs": [],
   "source": [
    "model = mavenn.Model2(gpmap=gpmap,\n",
    "                      mp_list=[mp_mpa])"
   ]
  },
  {
   "cell_type": "code",
   "execution_count": 7,
   "metadata": {},
   "outputs": [
    {
     "name": "stdout",
     "output_type": "stream",
     "text": [
      "Model: \"model\"\n",
      "__________________________________________________________________________________________________\n",
      " Layer (type)                   Output Shape         Param #     Connected to                     \n",
      "==================================================================================================\n",
      " Sequence_labels_input (InputLa  [(None, 310)]       0           []                               \n",
      " yer)                                                                                             \n",
      "                                                                                                  \n",
      " Sequence_only (Lambda)         (None, 300)          0           ['Sequence_labels_input[0][0]']  \n",
      "                                                                                                  \n",
      " additive_gp_map_layer (Additiv  (None, 1)           301         ['Sequence_only[0][0]']          \n",
      " eGPMapLayer)                                                                                     \n",
      "                                                                                                  \n",
      " Labels_input_0 (Lambda)        (None, 10)           0           ['Sequence_labels_input[0][0]']  \n",
      "                                                                                                  \n",
      " concatenate (Concatenate)      (None, 11)           0           ['additive_gp_map_layer[0][0]',  \n",
      "                                                                  'Labels_input_0[0][0]']         \n",
      "                                                                                                  \n",
      " discrete_monotonic_mp (Discret  (None,)             620         ['concatenate[0][0]']            \n",
      " eMonotonicMP)                                                                                    \n",
      "                                                                                                  \n",
      "==================================================================================================\n",
      "Total params: 921\n",
      "Trainable params: 921\n",
      "Non-trainable params: 0\n",
      "__________________________________________________________________________________________________\n"
     ]
    }
   ],
   "source": [
    "model.model.summary()"
   ]
  },
  {
   "cell_type": "code",
   "execution_count": 8,
   "metadata": {},
   "outputs": [],
   "source": [
    "# #*np.ones(shape=y_list[0].shape[0])\n",
    "\n",
    "# y_cts_df = pd.DataFrame(np.random.rand(y_list[0].shape[0]))\n",
    "# y_cts_df.head()"
   ]
  },
  {
   "cell_type": "code",
   "execution_count": 9,
   "metadata": {},
   "outputs": [],
   "source": [
    "# y_dict = {}\n",
    "\n",
    "# y_list=[data_df[y_cols].values]\n",
    "# #y_dict[output_layer_index] = current_y_norm\n",
    "# y_discrete_df = pd.DataFrame(y_list[0])\n",
    "# y_discrete_df.head()"
   ]
  },
  {
   "cell_type": "code",
   "execution_count": 10,
   "metadata": {},
   "outputs": [],
   "source": [
    "# np.hstack([model.x_ohe,np.hstack([y_cts_df.values,y_discrete_df.values])])"
   ]
  },
  {
   "cell_type": "code",
   "execution_count": 11,
   "metadata": {},
   "outputs": [],
   "source": [
    "\n",
    "#np.hstack([y_cts_df.values])"
   ]
  },
  {
   "cell_type": "code",
   "execution_count": 12,
   "metadata": {},
   "outputs": [
    {
     "name": "stdout",
     "output_type": "stream",
     "text": [
      "N = 40,583 observations set as training data.\n",
      "Using 24.8% for validation.\n",
      "Data shuffled.\n",
      "Time to set data: 0.853 sec.\n"
     ]
    }
   ],
   "source": [
    "# Set training data\n",
    "model.set_data(x=data_df['x'].values,\n",
    "               y_list=[data_df[y_cols].values],\n",
    "               validation_flags=(data_df['set']=='validation'),\n",
    "               shuffle=True)\n"
   ]
  },
  {
   "cell_type": "code",
   "execution_count": 13,
   "metadata": {},
   "outputs": [
    {
     "name": "stdout",
     "output_type": "stream",
     "text": [
      "Epoch 1/1000\n",
      "WARNING:tensorflow:Gradients do not exist for variables ['Variable:0'] when minimizing the loss. If you're using `model.compile()`, did you forget to provide a `loss`argument?\n",
      "WARNING:tensorflow:Gradients do not exist for variables ['Variable:0'] when minimizing the loss. If you're using `model.compile()`, did you forget to provide a `loss`argument?\n",
      "153/153 [==============================] - 2s 4ms/step - loss: 500.3477 - I_var: -0.2013 - val_loss: 468.0481 - val_I_var: 0.0097\n",
      "Epoch 2/1000\n",
      "153/153 [==============================] - 0s 3ms/step - loss: 468.6708 - I_var: 0.0210 - val_loss: 463.5758 - val_I_var: 0.0410\n",
      "Epoch 3/1000\n",
      "153/153 [==============================] - 0s 3ms/step - loss: 458.7474 - I_var: 0.0912 - val_loss: 445.9383 - val_I_var: 0.1647\n",
      "Epoch 4/1000\n",
      "153/153 [==============================] - 0s 3ms/step - loss: 433.5508 - I_var: 0.2686 - val_loss: 418.1557 - val_I_var: 0.3622\n",
      "Epoch 5/1000\n",
      "153/153 [==============================] - 0s 3ms/step - loss: 413.7762 - I_var: 0.4077 - val_loss: 407.0810 - val_I_var: 0.4410\n",
      "Epoch 6/1000\n",
      "153/153 [==============================] - 0s 3ms/step - loss: 407.1025 - I_var: 0.4549 - val_loss: 403.5172 - val_I_var: 0.4660\n",
      "Epoch 7/1000\n",
      "153/153 [==============================] - 0s 3ms/step - loss: 404.4787 - I_var: 0.4728 - val_loss: 402.4710 - val_I_var: 0.4729\n",
      "Epoch 8/1000\n",
      "153/153 [==============================] - 0s 3ms/step - loss: 402.9532 - I_var: 0.4833 - val_loss: 401.1909 - val_I_var: 0.4820\n",
      "Epoch 9/1000\n",
      "153/153 [==============================] - 0s 3ms/step - loss: 402.0134 - I_var: 0.4901 - val_loss: 401.8100 - val_I_var: 0.4773\n",
      "Epoch 10/1000\n",
      "153/153 [==============================] - 0s 3ms/step - loss: 401.4823 - I_var: 0.4934 - val_loss: 400.0110 - val_I_var: 0.4905\n",
      "Epoch 11/1000\n",
      "153/153 [==============================] - 0s 3ms/step - loss: 400.6571 - I_var: 0.4992 - val_loss: 398.8686 - val_I_var: 0.4990\n",
      "Epoch 12/1000\n",
      "153/153 [==============================] - 0s 3ms/step - loss: 399.9889 - I_var: 0.5039 - val_loss: 399.2680 - val_I_var: 0.4952\n",
      "Epoch 13/1000\n",
      "153/153 [==============================] - 0s 3ms/step - loss: 399.5275 - I_var: 0.5077 - val_loss: 398.7543 - val_I_var: 0.4998\n",
      "Epoch 14/1000\n",
      "153/153 [==============================] - 0s 3ms/step - loss: 398.9623 - I_var: 0.5121 - val_loss: 397.1636 - val_I_var: 0.5105\n",
      "Epoch 15/1000\n",
      "153/153 [==============================] - 0s 3ms/step - loss: 398.6753 - I_var: 0.5136 - val_loss: 396.8066 - val_I_var: 0.5129\n",
      "Epoch 16/1000\n",
      "153/153 [==============================] - 0s 3ms/step - loss: 398.1892 - I_var: 0.5158 - val_loss: 396.9073 - val_I_var: 0.5118\n",
      "Epoch 17/1000\n",
      "153/153 [==============================] - 0s 3ms/step - loss: 397.7054 - I_var: 0.5209 - val_loss: 396.4294 - val_I_var: 0.5159\n",
      "Epoch 18/1000\n",
      "153/153 [==============================] - 0s 3ms/step - loss: 397.3337 - I_var: 0.5241 - val_loss: 395.6826 - val_I_var: 0.5208\n",
      "Epoch 19/1000\n",
      "153/153 [==============================] - 0s 3ms/step - loss: 397.0054 - I_var: 0.5256 - val_loss: 395.3243 - val_I_var: 0.5233\n",
      "Epoch 20/1000\n",
      "153/153 [==============================] - 0s 3ms/step - loss: 396.7295 - I_var: 0.5279 - val_loss: 395.0569 - val_I_var: 0.5250\n",
      "Epoch 21/1000\n",
      "153/153 [==============================] - 0s 3ms/step - loss: 396.3221 - I_var: 0.5303 - val_loss: 396.3148 - val_I_var: 0.5169\n",
      "Epoch 22/1000\n",
      "153/153 [==============================] - 0s 3ms/step - loss: 396.0843 - I_var: 0.5318 - val_loss: 395.3174 - val_I_var: 0.5229\n",
      "Epoch 23/1000\n",
      "153/153 [==============================] - 0s 3ms/step - loss: 396.1610 - I_var: 0.5311 - val_loss: 394.4719 - val_I_var: 0.5288\n",
      "Epoch 24/1000\n",
      "153/153 [==============================] - 0s 3ms/step - loss: 395.5709 - I_var: 0.5356 - val_loss: 394.4288 - val_I_var: 0.5292\n",
      "Epoch 25/1000\n",
      "153/153 [==============================] - 0s 3ms/step - loss: 395.3533 - I_var: 0.5375 - val_loss: 394.1804 - val_I_var: 0.5309\n",
      "Epoch 26/1000\n",
      "153/153 [==============================] - 0s 3ms/step - loss: 395.3945 - I_var: 0.5373 - val_loss: 393.9298 - val_I_var: 0.5332\n",
      "Epoch 27/1000\n",
      "153/153 [==============================] - 0s 3ms/step - loss: 395.0205 - I_var: 0.5394 - val_loss: 394.0422 - val_I_var: 0.5317\n",
      "Epoch 28/1000\n",
      "153/153 [==============================] - 0s 3ms/step - loss: 394.9790 - I_var: 0.5399 - val_loss: 394.2797 - val_I_var: 0.5310\n",
      "Epoch 29/1000\n",
      "153/153 [==============================] - 0s 3ms/step - loss: 394.8154 - I_var: 0.5408 - val_loss: 393.2408 - val_I_var: 0.5380\n",
      "Epoch 30/1000\n",
      "153/153 [==============================] - 0s 3ms/step - loss: 394.8036 - I_var: 0.5410 - val_loss: 396.4515 - val_I_var: 0.5142\n",
      "Epoch 31/1000\n",
      "153/153 [==============================] - 0s 3ms/step - loss: 394.5637 - I_var: 0.5429 - val_loss: 394.2327 - val_I_var: 0.5316\n",
      "Epoch 32/1000\n",
      "153/153 [==============================] - 0s 3ms/step - loss: 394.1237 - I_var: 0.5447 - val_loss: 392.8964 - val_I_var: 0.5404\n",
      "Epoch 33/1000\n",
      "153/153 [==============================] - 0s 3ms/step - loss: 394.2641 - I_var: 0.5444 - val_loss: 393.7406 - val_I_var: 0.5337\n",
      "Epoch 34/1000\n",
      "153/153 [==============================] - 0s 3ms/step - loss: 394.2807 - I_var: 0.5452 - val_loss: 392.7646 - val_I_var: 0.5410\n",
      "Epoch 35/1000\n",
      "153/153 [==============================] - 0s 3ms/step - loss: 394.0281 - I_var: 0.5469 - val_loss: 392.6388 - val_I_var: 0.5423\n",
      "Epoch 36/1000\n",
      "153/153 [==============================] - 0s 3ms/step - loss: 393.9022 - I_var: 0.5479 - val_loss: 394.0317 - val_I_var: 0.5314\n",
      "Epoch 37/1000\n",
      "153/153 [==============================] - 0s 3ms/step - loss: 393.7150 - I_var: 0.5486 - val_loss: 392.8254 - val_I_var: 0.5407\n",
      "Epoch 38/1000\n",
      "153/153 [==============================] - 0s 3ms/step - loss: 393.7924 - I_var: 0.5481 - val_loss: 392.6048 - val_I_var: 0.5426\n",
      "Epoch 39/1000\n",
      "153/153 [==============================] - 0s 3ms/step - loss: 393.7328 - I_var: 0.5490 - val_loss: 393.4720 - val_I_var: 0.5370\n",
      "Epoch 40/1000\n",
      "153/153 [==============================] - 0s 3ms/step - loss: 393.5512 - I_var: 0.5506 - val_loss: 392.0469 - val_I_var: 0.5463\n",
      "Epoch 41/1000\n",
      "153/153 [==============================] - 0s 3ms/step - loss: 393.4675 - I_var: 0.5499 - val_loss: 391.9893 - val_I_var: 0.5468\n",
      "Epoch 42/1000\n",
      "153/153 [==============================] - 0s 3ms/step - loss: 393.3321 - I_var: 0.5511 - val_loss: 391.8908 - val_I_var: 0.5474\n",
      "Epoch 43/1000\n",
      "153/153 [==============================] - 0s 3ms/step - loss: 393.3012 - I_var: 0.5520 - val_loss: 391.8162 - val_I_var: 0.5479\n",
      "Epoch 44/1000\n",
      "153/153 [==============================] - 0s 3ms/step - loss: 393.1648 - I_var: 0.5523 - val_loss: 392.2056 - val_I_var: 0.5455\n",
      "Epoch 45/1000\n",
      "153/153 [==============================] - 0s 3ms/step - loss: 393.0988 - I_var: 0.5520 - val_loss: 392.3237 - val_I_var: 0.5449\n",
      "Epoch 46/1000\n",
      "153/153 [==============================] - 0s 3ms/step - loss: 393.2070 - I_var: 0.5525 - val_loss: 392.2851 - val_I_var: 0.5452\n",
      "Epoch 47/1000\n",
      "153/153 [==============================] - 0s 3ms/step - loss: 393.1075 - I_var: 0.5528 - val_loss: 392.6743 - val_I_var: 0.5412\n",
      "Epoch 48/1000\n",
      "153/153 [==============================] - 0s 3ms/step - loss: 393.0307 - I_var: 0.5532 - val_loss: 391.5043 - val_I_var: 0.5500\n",
      "Epoch 49/1000\n",
      "153/153 [==============================] - 0s 3ms/step - loss: 392.7667 - I_var: 0.5551 - val_loss: 391.7785 - val_I_var: 0.5486\n",
      "Epoch 50/1000\n",
      "153/153 [==============================] - 1s 4ms/step - loss: 392.7197 - I_var: 0.5553 - val_loss: 392.4759 - val_I_var: 0.5427\n",
      "Epoch 51/1000\n",
      "153/153 [==============================] - 0s 3ms/step - loss: 392.6647 - I_var: 0.5563 - val_loss: 391.4087 - val_I_var: 0.5511\n",
      "Epoch 52/1000\n",
      "153/153 [==============================] - 1s 4ms/step - loss: 392.6980 - I_var: 0.5560 - val_loss: 391.4389 - val_I_var: 0.5510\n",
      "Epoch 53/1000\n",
      "153/153 [==============================] - 0s 3ms/step - loss: 392.5097 - I_var: 0.5567 - val_loss: 391.1973 - val_I_var: 0.5521\n",
      "Epoch 54/1000\n",
      "153/153 [==============================] - 0s 3ms/step - loss: 392.4497 - I_var: 0.5579 - val_loss: 391.3174 - val_I_var: 0.5518\n",
      "Epoch 55/1000\n",
      "153/153 [==============================] - 0s 3ms/step - loss: 392.3240 - I_var: 0.5582 - val_loss: 390.9500 - val_I_var: 0.5541\n"
     ]
    },
    {
     "name": "stdout",
     "output_type": "stream",
     "text": [
      "Epoch 56/1000\n",
      "153/153 [==============================] - 0s 3ms/step - loss: 392.4138 - I_var: 0.5578 - val_loss: 391.1605 - val_I_var: 0.5523\n",
      "Epoch 57/1000\n",
      "153/153 [==============================] - 0s 3ms/step - loss: 392.4242 - I_var: 0.5577 - val_loss: 390.9607 - val_I_var: 0.5539\n",
      "Epoch 58/1000\n",
      "153/153 [==============================] - 0s 3ms/step - loss: 392.5223 - I_var: 0.5567 - val_loss: 390.9646 - val_I_var: 0.5541\n",
      "Epoch 59/1000\n",
      "153/153 [==============================] - 0s 3ms/step - loss: 392.1927 - I_var: 0.5590 - val_loss: 390.7658 - val_I_var: 0.5555\n",
      "Epoch 60/1000\n",
      "153/153 [==============================] - 0s 3ms/step - loss: 392.0936 - I_var: 0.5593 - val_loss: 390.7339 - val_I_var: 0.5557\n",
      "Epoch 61/1000\n",
      "153/153 [==============================] - 0s 3ms/step - loss: 392.2458 - I_var: 0.5598 - val_loss: 390.7822 - val_I_var: 0.5555\n",
      "Epoch 62/1000\n",
      "153/153 [==============================] - 0s 3ms/step - loss: 391.9713 - I_var: 0.5595 - val_loss: 391.0711 - val_I_var: 0.5537\n",
      "Epoch 63/1000\n",
      "153/153 [==============================] - 0s 3ms/step - loss: 392.0398 - I_var: 0.5600 - val_loss: 390.6374 - val_I_var: 0.5564\n",
      "Epoch 64/1000\n",
      "153/153 [==============================] - 0s 3ms/step - loss: 391.9743 - I_var: 0.5606 - val_loss: 390.7178 - val_I_var: 0.5557\n",
      "Epoch 65/1000\n",
      "153/153 [==============================] - 0s 3ms/step - loss: 392.3534 - I_var: 0.5590 - val_loss: 390.6318 - val_I_var: 0.5564\n",
      "Epoch 66/1000\n",
      "153/153 [==============================] - 0s 3ms/step - loss: 392.2244 - I_var: 0.5596 - val_loss: 390.6699 - val_I_var: 0.5564\n",
      "Epoch 67/1000\n",
      "153/153 [==============================] - 0s 3ms/step - loss: 391.7739 - I_var: 0.5609 - val_loss: 390.5378 - val_I_var: 0.5572\n",
      "Epoch 68/1000\n",
      "153/153 [==============================] - 0s 3ms/step - loss: 391.7258 - I_var: 0.5627 - val_loss: 391.3119 - val_I_var: 0.5509\n",
      "Epoch 69/1000\n",
      "153/153 [==============================] - 0s 3ms/step - loss: 391.8448 - I_var: 0.5623 - val_loss: 390.4612 - val_I_var: 0.5576\n",
      "Epoch 70/1000\n",
      "153/153 [==============================] - 0s 3ms/step - loss: 391.8804 - I_var: 0.5609 - val_loss: 390.9305 - val_I_var: 0.5539\n",
      "Epoch 71/1000\n",
      "153/153 [==============================] - 0s 3ms/step - loss: 391.8079 - I_var: 0.5613 - val_loss: 390.5099 - val_I_var: 0.5575\n",
      "Epoch 72/1000\n",
      "153/153 [==============================] - 0s 3ms/step - loss: 391.7380 - I_var: 0.5615 - val_loss: 392.0727 - val_I_var: 0.5472\n",
      "Epoch 73/1000\n",
      "153/153 [==============================] - 0s 3ms/step - loss: 391.8271 - I_var: 0.5620 - val_loss: 390.4223 - val_I_var: 0.5581\n",
      "Epoch 74/1000\n",
      "153/153 [==============================] - 0s 3ms/step - loss: 391.6987 - I_var: 0.5625 - val_loss: 390.3499 - val_I_var: 0.5587\n",
      "Epoch 75/1000\n",
      "153/153 [==============================] - 0s 3ms/step - loss: 391.6542 - I_var: 0.5631 - val_loss: 390.5928 - val_I_var: 0.5565\n",
      "Epoch 76/1000\n",
      "153/153 [==============================] - 0s 3ms/step - loss: 391.8309 - I_var: 0.5621 - val_loss: 391.4179 - val_I_var: 0.5517\n",
      "Epoch 77/1000\n",
      "153/153 [==============================] - 0s 3ms/step - loss: 391.6349 - I_var: 0.5634 - val_loss: 390.3705 - val_I_var: 0.5582\n",
      "Epoch 78/1000\n",
      "153/153 [==============================] - 0s 3ms/step - loss: 391.7020 - I_var: 0.5633 - val_loss: 390.3734 - val_I_var: 0.5581\n",
      "Epoch 79/1000\n",
      "153/153 [==============================] - 0s 3ms/step - loss: 391.4854 - I_var: 0.5639 - val_loss: 390.5428 - val_I_var: 0.5575\n",
      "Epoch 80/1000\n",
      "153/153 [==============================] - 0s 3ms/step - loss: 391.6443 - I_var: 0.5623 - val_loss: 390.5433 - val_I_var: 0.5575\n",
      "Epoch 81/1000\n",
      "153/153 [==============================] - 0s 3ms/step - loss: 391.7208 - I_var: 0.5634 - val_loss: 391.6522 - val_I_var: 0.5501\n",
      "Epoch 82/1000\n",
      "153/153 [==============================] - 0s 3ms/step - loss: 391.6172 - I_var: 0.5629 - val_loss: 390.5949 - val_I_var: 0.5573\n",
      "Epoch 83/1000\n",
      "153/153 [==============================] - 0s 3ms/step - loss: 391.7538 - I_var: 0.5626 - val_loss: 390.9091 - val_I_var: 0.5540\n",
      "Epoch 84/1000\n",
      "153/153 [==============================] - 0s 3ms/step - loss: 391.5816 - I_var: 0.5640 - val_loss: 390.3074 - val_I_var: 0.5586\n",
      "Epoch 85/1000\n",
      "153/153 [==============================] - 0s 3ms/step - loss: 391.5925 - I_var: 0.5637 - val_loss: 390.2158 - val_I_var: 0.5596\n",
      "Epoch 86/1000\n",
      "153/153 [==============================] - 0s 3ms/step - loss: 391.6671 - I_var: 0.5633 - val_loss: 391.0521 - val_I_var: 0.5530\n",
      "Epoch 87/1000\n",
      "153/153 [==============================] - 0s 3ms/step - loss: 391.5045 - I_var: 0.5646 - val_loss: 390.3188 - val_I_var: 0.5586\n",
      "Epoch 88/1000\n",
      "153/153 [==============================] - 0s 3ms/step - loss: 391.5794 - I_var: 0.5641 - val_loss: 390.2573 - val_I_var: 0.5592\n",
      "Epoch 89/1000\n",
      "153/153 [==============================] - 0s 3ms/step - loss: 391.3951 - I_var: 0.5644 - val_loss: 390.2696 - val_I_var: 0.5589\n",
      "Epoch 90/1000\n",
      "153/153 [==============================] - 0s 3ms/step - loss: 391.4109 - I_var: 0.5643 - val_loss: 390.2701 - val_I_var: 0.5590\n",
      "Epoch 91/1000\n",
      "153/153 [==============================] - 0s 3ms/step - loss: 391.4102 - I_var: 0.5652 - val_loss: 390.1076 - val_I_var: 0.5604\n",
      "Epoch 92/1000\n",
      "153/153 [==============================] - 0s 3ms/step - loss: 391.5162 - I_var: 0.5645 - val_loss: 390.3021 - val_I_var: 0.5593\n",
      "Epoch 93/1000\n",
      "153/153 [==============================] - 0s 3ms/step - loss: 391.3914 - I_var: 0.5653 - val_loss: 390.2450 - val_I_var: 0.5596\n",
      "Epoch 94/1000\n",
      "153/153 [==============================] - 0s 3ms/step - loss: 391.6060 - I_var: 0.5642 - val_loss: 390.4213 - val_I_var: 0.5576\n",
      "Epoch 95/1000\n",
      "153/153 [==============================] - 0s 3ms/step - loss: 391.4700 - I_var: 0.5651 - val_loss: 390.0689 - val_I_var: 0.5606\n",
      "Epoch 96/1000\n",
      "153/153 [==============================] - 0s 3ms/step - loss: 391.3740 - I_var: 0.5650 - val_loss: 390.1093 - val_I_var: 0.5602\n",
      "Epoch 97/1000\n",
      "153/153 [==============================] - 0s 3ms/step - loss: 391.3073 - I_var: 0.5656 - val_loss: 390.2029 - val_I_var: 0.5598\n",
      "Epoch 98/1000\n",
      "153/153 [==============================] - 0s 3ms/step - loss: 391.3072 - I_var: 0.5664 - val_loss: 390.4561 - val_I_var: 0.5575\n",
      "Epoch 99/1000\n",
      "153/153 [==============================] - 0s 3ms/step - loss: 391.2830 - I_var: 0.5654 - val_loss: 390.1217 - val_I_var: 0.5601\n",
      "Epoch 100/1000\n",
      "153/153 [==============================] - 0s 3ms/step - loss: 391.3461 - I_var: 0.5654 - val_loss: 390.3673 - val_I_var: 0.5582\n",
      "Epoch 101/1000\n",
      "153/153 [==============================] - 0s 3ms/step - loss: 391.2995 - I_var: 0.5658 - val_loss: 390.2454 - val_I_var: 0.5597\n",
      "Epoch 102/1000\n",
      "153/153 [==============================] - 0s 3ms/step - loss: 391.3759 - I_var: 0.5657 - val_loss: 391.3527 - val_I_var: 0.5523\n",
      "Epoch 103/1000\n",
      "153/153 [==============================] - 0s 3ms/step - loss: 391.3097 - I_var: 0.5652 - val_loss: 390.1234 - val_I_var: 0.5601\n",
      "Epoch 104/1000\n",
      "153/153 [==============================] - 0s 3ms/step - loss: 391.2407 - I_var: 0.5659 - val_loss: 390.3478 - val_I_var: 0.5591\n",
      "Epoch 105/1000\n",
      "153/153 [==============================] - 0s 3ms/step - loss: 391.1917 - I_var: 0.5659 - val_loss: 390.4105 - val_I_var: 0.5578\n",
      "Training time: 47.5 seconds\n"
     ]
    },
    {
     "data": {
      "text/plain": [
       "<keras.callbacks.History at 0x7fc278ede580>"
      ]
     },
     "execution_count": 13,
     "metadata": {},
     "output_type": "execute_result"
    }
   ],
   "source": [
    "\n",
    "# Fit model to data\n",
    "model.fit(learning_rate=.001,\n",
    "          epochs=1000,\n",
    "          batch_size=200,\n",
    "          try_tqdm = False,\n",
    "          early_stopping=True,\n",
    "          early_stopping_patience=10,\n",
    "          linear_initialization=False)"
   ]
  },
  {
   "cell_type": "code",
   "execution_count": 14,
   "metadata": {
    "scrolled": true
   },
   "outputs": [
    {
     "name": "stdout",
     "output_type": "stream",
     "text": [
      "On test data:\n"
     ]
    },
    {
     "data": {
      "text/plain": [
       "Text(0.5, 1.0, 'training hisotry')"
      ]
     },
     "execution_count": 14,
     "metadata": {},
     "output_type": "execute_result"
    },
    {
     "data": {
      "image/png": "[encoded data removed]",
      "text/plain": [
       "<Figure size 288x288 with 1 Axes>"
      ]
     },
     "metadata": {
      "needs_background": "light"
     },
     "output_type": "display_data"
    }
   ],
   "source": [
    "# Show training history\n",
    "print('On test data:')\n",
    "x_test = test_df['x'].values\n",
    "y_test = test_df[y_cols].values\n",
    "\n",
    "\n",
    "I_var_hist = model.history['I_var']\n",
    "val_I_var_hist = model.history['val_I_var']\n",
    "\n",
    "fig, ax = plt.subplots(1,1,figsize=[4,4])\n",
    "ax.plot(I_var_hist, label='I_var_train')\n",
    "ax.plot(val_I_var_hist, label='I_var_val')\n",
    "ax.legend()\n",
    "ax.set_xlabel('epochs')\n",
    "ax.set_ylabel('bits')\n",
    "ax.set_title('training hisotry')"
   ]
  },
  {
   "cell_type": "code",
   "execution_count": 15,
   "metadata": {},
   "outputs": [
    {
     "data": {
      "image/png": "[encoded data removed]",
      "text/plain": [
       "<Figure size 720x288 with 1 Axes>"
      ]
     },
     "metadata": {
      "needs_background": "light"
     },
     "output_type": "display_data"
    }
   ],
   "source": [
    "# Get G-P map parameters in matrix form\n",
    "theta = np.squeeze(gpmap.weights[1].numpy())\n",
    "\n",
    "# Create grid in phi space\n",
    "phi_lim = [-5, 3]\n",
    "phi_grid = np.linspace(phi_lim[0], phi_lim[1], 1000)\n",
    "\n",
    "# Create array of allowable y values\n",
    "Y = mp_mpa.Y    # Y = number of bins\n",
    "y_lim = [-.5, Y-.5]\n",
    "y_all = range(Y)\n",
    "\n",
    "# Compute matrix of p(y|phi) values\n",
    "#measurement_process = mp_mpa.p_of_y_given_phi(y_all, phi_grid)\n",
    "\n",
    "# Create figure with two panels\n",
    "fig, axs = plt.subplots(1,1,figsize=[10,4])\n",
    "\n",
    "# Left panel: draw logo using logomaker\n",
    "ax = axs\n",
    "logo = logomaker.Logo(pd.DataFrame(theta,columns=model.alphabet), ax=ax,center_values=True)\n",
    "ax.set_ylabel(r'parameter value ($\\theta_{l:c}$)')\n",
    "ax.set_xlabel(r'position ($l$)')\n",
    "ax.set_title('G-P map parameters')\n",
    "\n",
    "# Right panel: draw measurement process as heatmap\n",
    "# ax = axs[1]\n",
    "# im = ax.imshow(measurement_process,\n",
    "#                cmap='Greens',\n",
    "#                extent=phi_lim+y_lim,\n",
    "#                vmin=0,\n",
    "#                origin='lower',\n",
    "#                interpolation='nearest',\n",
    "#                aspect=\"auto\")\n",
    "# ax.set_yticks(y_all)\n",
    "# ax.set_ylabel('bin number (y)')\n",
    "# ax.set_xlabel('latent phenotype ($\\phi$)')\n",
    "# ax.set_title('measurement process')\n",
    "# cb = plt.colorbar(im)\n",
    "# cb.set_label('probability  $p(y|\\phi)$', rotation=-90, va=\"bottom\")\n",
    "\n",
    "# Fix up plot\n",
    "fig.tight_layout(w_pad=3)\n",
    "#fig.savefig('sortseq_g-p_map_mpa_visualization.png')\n",
    "plt.show()"
   ]
  },
  {
   "cell_type": "code",
   "execution_count": 16,
   "metadata": {},
   "outputs": [
    {
     "data": {
      "image/png": "[encoded data removed]",
      "text/plain": [
       "<Figure size 432x432 with 2 Axes>"
      ]
     },
     "metadata": {
      "needs_background": "light"
     },
     "output_type": "display_data"
    }
   ],
   "source": [
    "# Create grid in phi space\n",
    "phi_lim = [-5, 3]\n",
    "phi_grid = np.linspace(phi_lim[0], phi_lim[1], 1000)\n",
    "\n",
    "# Create array of allowable y values\n",
    "Y = mp_mpa.Y    # Y = number of bins\n",
    "y_lim = [-.5, Y-.5]\n",
    "y_all = range(Y)\n",
    "\n",
    "# Compute matrix of p(y|phi) values\n",
    "measurement_process = mp_mpa.p_of_y_given_phi(y_all, phi_grid)\n",
    "\n",
    "\n",
    "# Create figure with two panels\n",
    "fig, ax = plt.subplots(1,1,figsize=[6,6])\n",
    "\n",
    "# Right panel: draw measurement process as heatmap\n",
    "im = ax.imshow(measurement_process,\n",
    "               cmap='Greens',\n",
    "               extent=phi_lim+y_lim,\n",
    "               vmin=0,\n",
    "               origin='lower',\n",
    "               interpolation='nearest',\n",
    "               aspect=\"auto\")\n",
    "ax.set_yticks(y_all)\n",
    "ax.set_ylabel('bin number (y)')\n",
    "ax.set_xlabel('latent phenotype ($\\phi$)')\n",
    "ax.set_title('measurement process')\n",
    "cb = plt.colorbar(im)\n",
    "cb.set_label('probability  $p(y|\\phi)$', rotation=-90, va=\"bottom\")\n"
   ]
  }
 ],
 "metadata": {
  "kernelspec": {
   "display_name": "Python 3 (ipykernel)",
   "language": "python",
   "name": "python3"
  },
  "language_info": {
   "codemirror_mode": {
    "name": "ipython",
    "version": 3
   },
   "file_extension": ".py",
   "mimetype": "text/x-python",
   "name": "python",
   "nbconvert_exporter": "python",
   "pygments_lexer": "ipython3",
   "version": "3.9.7"
  }
 },
 "nbformat": 4,
 "nbformat_minor": 2
}
