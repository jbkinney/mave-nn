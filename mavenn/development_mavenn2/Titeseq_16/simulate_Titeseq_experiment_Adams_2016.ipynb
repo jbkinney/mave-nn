{
 "cells": [
  {
   "cell_type": "code",
   "execution_count": 11,
   "id": "80849a1e",
   "metadata": {},
   "outputs": [],
   "source": [
    "import numpy as np\n",
    "def hill(K,s,b,x):\n",
    "#hill function\n",
    "    return s*x/(K + x)+b\n",
    "\n",
    "\n",
    "def make_x(K, amp, basal, x, fraction, sigmas, num_cells, boundaries):\n",
    "    #makes x with 2 log-normal distributions. Kind of looks like real data\n",
    "    y = hill(K,amp,basal,x)\n",
    "    mu = np.log((y - (1 - fraction) * basal)/fraction) - sigmas[1]**2/2.\n",
    "    mu0 = np.log(basal) - sigmas[0]**2/2.\n",
    "    bound   = sigmas[1] * np.random.randn(int(np.round(num_cells*fraction)))+mu\n",
    "    unbound = sigmas[0] * np.random.randn(int(np.round(num_cells*(1-fraction))))+mu0\n",
    "    bound = np.hstack((bound, unbound))\n",
    "    bound = np.exp(bound)\n",
    "    x = np.histogram(bound, bins=boundaries)[0]\n",
    "    return x, bound\n",
    "\n",
    "def generate_bound(K, s, basal, fl, boundaries, sigmas, num_cells):\n",
    "    #Generates a fake sort distribution for the data, truex, and then turns that into noisy sequencing data R\n",
    "    truex = []\n",
    "    R = []\n",
    "    bounds = []\n",
    "    for ii, f in enumerate(fl):\n",
    "        x, bound = make_x(K, s, basal, f, 0.8, sigmas, num_cells, boundaries)\n",
    "        bounds.append(bound)\n",
    "        \n",
    "    return bounds\n",
    "\n",
    "\n",
    "def generate_counts(K, s, basal, k, S, T, fl, boundaries, sigmas):\n",
    "    #Generates a fake sort distribution for the data, truex, and then turns that into noisy sequencing data R\n",
    "    truex = []\n",
    "    R = []\n",
    "    bounds = []\n",
    "    for ii, f in enumerate(fl):\n",
    "        x, bound = make_x(K, s, basal, f, 0.8, sigmas, np.max([k*np.sum(S[ii]), 10]), boundaries)\n",
    "        bounds.append(bound)\n",
    "        x= np.array(x, dtype = float)/float(np.sum(x))\n",
    "        x*=k/np.sum(x)\n",
    "        truex.append(x)\n",
    "        Sx = x * S[ii].sum()\n",
    "        p = Sx / S[ii]\n",
    "        p[p>1] = 1\n",
    "        scale = 10**(np.random.rand()*4-2)\n",
    "        #scale = 1\n",
    "        R.append([float(np.random.binomial(int(T[ii][jj]/scale), p[jj])*scale) for jj in range(4)])\n",
    "    \n",
    "    truex = np.array(truex)\n",
    "    R = np.array(R)\n",
    "    return R, truex, bounds"
   ]
  },
  {
   "cell_type": "code",
   "execution_count": 18,
   "id": "99092dc1",
   "metadata": {},
   "outputs": [],
   "source": [
    "import numpy as np\n",
    "import pdb\n",
    "import pandas\n",
    "from KD_fit_log_poiss import x_star\n",
    "import pickle\n",
    "import matplotlib.pyplot as plt\n",
    "from matplotlib.ticker import MaxNLocator\n",
    "import sys\n",
    "#from make_simulated import *\n",
    "active_replicate = 0 #int(sys.argv[1])\n",
    "up_scale = 1.0 # float(sys.argv[2])\n",
    "np.random.seed(active_replicate)\n",
    "\n",
    "#########################################################\n",
    "# experimental data\n",
    "#########################################################\n",
    "# fluorescein concentrations\n",
    "fl = np.hstack((np.zeros(1),np.logspace(-9.5, -5, 10)))\n",
    "\n",
    "#total read counts. Should be good but uneven\n",
    "x = ['0', '10^-9.5', '10^-9', '10^-8.5', '10^-8', '10^-7.5', '10^-7', '10^-6.5', '10^-6', '10^-5.5', '10^-5']\n",
    "\n",
    "#total read counts taken from data\n",
    "replicate = pandas.read_csv('./data/replicate_'+str(active_replicate+1) + '.csv')\n",
    "\n",
    "T = np.zeros((11,4))\n",
    "for ii in range(len(x)):\n",
    "    for jj in range(4):\n",
    "        T[ii,jj] = np.sum(replicate['fluorescein'+x[ii]+'bin'+str(jj)])\n",
    "\n",
    "#scale up the read counts for ideal data\n",
    "T = T * up_scale\n",
    "\n",
    "# fraction of population estimated from sequencing data\n",
    "ks = replicate['fit_fraction']\n",
    "\n",
    "# total sort counts. taken from experimental data\n",
    "sort_counts_16_4_15 = np.array([[3.02E+06,\t2.56E+06,\t3.56E+06,\t2.41E+06],\n",
    "[4.99E+06,\t5.92E+06,\t1.39E+04,\t2.72E+02],\n",
    "[2.24E+06,\t4.00E+06,\t1.21E+06,\t3.87E+04],\n",
    "[1.67E+06,\t3.62E+06,\t1.57E+06,\t2.35E+05],\n",
    "[2.48E+06,\t3.12E+06,\t1.54E+06,\t5.90E+05],\n",
    "[1.91E+06,\t3.16E+06,\t1.42E+06,\t8.60E+05],\n",
    "[2.05E+06,\t3.34E+06,\t1.52E+06,\t1.05E+06],\n",
    "[1.09E+06,\t1.95E+06,\t1.00E+06,\t8.39E+05],\n",
    "[1.43E+06,\t2.02E+06,\t1.07E+06,\t1.00E+06],\n",
    "[1.98E+06,\t2.67E+06,\t1.47E+06,\t1.46E+06],\n",
    "[1.17E+06,\t2.00E+06,\t1.02E+06,\t1.37E+06],\n",
    "[3.02E+06,\t5.47E+06,\t2.69E+06,\t2.83E+06]])\n",
    "\n",
    "sort_counts_16_4_19 = np.array([[3.41E+06,\t1.98E+06,\t3.68E+06,\t2.41E+06],\n",
    "[2.60E+06,\t5.79E+06,\t1.63E+05,\t3.56E+02],\n",
    "[6.66E+05,\t1.98E+06,\t3.85E+05,\t1.63E+05],\n",
    "[6.18E+05,\t1.80E+06,\t5.60E+05,\t3.21E+05],\n",
    "[9.90E+05,\t2.61E+06,\t7.22E+05,\t6.32E+05],\n",
    "[1.50E+06,\t3.40E+06,\t8.80E+05,\t9.81E+05],\n",
    "[1.44E+06,\t3.45E+06,\t8.88E+05,\t1.08E+06],\n",
    "[1.03E+06,\t2.46E+06,\t6.74E+05,\t8.84E+05],\n",
    "[8.11E+05,\t2.06E+06,\t5.70E+05,\t7.71E+05],\n",
    "[1.43E+06,\t3.39E+06,\t8.81E+05,\t1.31E+06],\n",
    "[1.20E+06,\t2.91E+06,\t7.36E+05,\t1.19E+06],\n",
    "[1.38E+06,\t3.89E+06,\t1.09E+06,\t1.79E+06]])\n",
    "\n",
    "sort_counts_16_4_21 = np.array([[4.99E+06,\t2.98E+06,\t3.39E+06,\t1.32E+06],\n",
    "[5.21E+06,\t5.88E+06,\t2.19E+04,\t2.33E+02],\n",
    "[2.33E+06,\t4.05E+06,\t1.32E+06,\t1.10E+05],\n",
    "[2.41E+06,\t3.89E+06,\t1.69E+06,\t5.77E+05],\n",
    "[2.59E+06,\t3.70E+06,\t1.57E+06,\t1.09E+06],\n",
    "[2.53E+06,\t3.51E+06,\t1.53E+06,\t1.35E+06],\n",
    "[2.34E+06,\t2.45E+06,\t1.24E+06,\t1.26E+06],\n",
    "[2.36E+06,\t2.44E+06,\t1.31E+06,\t1.44E+06],\n",
    "[1.73E+06,\t2.15E+06,\t1.09E+06,\t1.32E+06],\n",
    "[2.78E+06,\t2.83E+06,\t1.49E+06,\t1.92E+06],\n",
    "[1.54E+06,\t2.08E+06,\t9.75E+05,\t1.28E+06],\n",
    "[2.30E+06,\t2.58E+06,\t1.53E+06,\t2.00E+06]])\n",
    "\n",
    "#sort counts amplified for ideal data\n",
    "S = [sort_counts_16_4_15, sort_counts_16_4_19, sort_counts_16_4_21]\n",
    "S = S[active_replicate][1:] * up_scale# choose the selected sort stats, then remove the first row, since it describes expression sorts\n",
    "\n",
    "# Relates read counts to sort counts. \n",
    "b = np.array([(np.sum(sorts)/sorts).tolist() for sorts in S])\n",
    "\n",
    "# bin boundaries\n",
    "# April 15 gates\n",
    "bin_vals_16_4_15 = np.array([[1.4775788014225415, 2.245106453825187],\n",
    "[2.2459637507318497, 2.9683536647430646],\n",
    "[2.96837636283699, 3.6663288893768895],\n",
    "[3.6675170811229103, 5.2856967691125885]])\n",
    "\n",
    "#April 19 gates\n",
    "bin_vals_16_4_19 = np.array([[1.4775788014225415, 2.245106453825187],\n",
    "[2.2459637507318497, 2.85027248745035],\n",
    "[2.8650326346119392, 3.474446976276228],\n",
    "[3.4849588153986915, 5.2856967691125885]])\n",
    "\n",
    "#April 21 gates\n",
    "bin_vals_16_4_21 = np.array([[1.4775788014225415,2.200826012340419],\n",
    "[2.216443456408671,2.8355123402887603],\n",
    "[2.8355123402887603,3.474446976276228],\n",
    "[3.4849588153986915,5.2856967691125885]])\n",
    "#########################################################################\n",
    "bin_vals = [bin_vals_16_4_15, bin_vals_16_4_19, bin_vals_16_4_21]\n",
    "bin_vals = bin_vals[active_replicate]\n",
    "\n",
    "delta = np.mean([bin_vals[2,1]-bin_vals[2,0], bin_vals[1,1]-bin_vals[1,0]])\n",
    "c = 10**(delta*np.array(range(4)))\n",
    "\n",
    "boundaries = np.array([0, 10**bin_vals[0,1], 10**bin_vals[1,1], 10**bin_vals[2,1], np.inf])\n",
    "\n",
    "########\n",
    "# basal mean values taken from flow cytometry reports\n",
    "##########\n",
    "basal = [194, 243, 177]\n",
    "basal = basal[active_replicate]\n",
    "\n",
    "######################\n",
    "# end of experimental data\n",
    "######################\n",
    "#######################\n",
    "# Simulate cells\n",
    "#######################\n",
    "true_K = []\n",
    "\n",
    "bin_range = bin_vals[3,1] - bin_vals[3,0]\n",
    "R = []\n",
    "\n",
    "KD_scan = np.logspace(-10, -4, 71)\n",
    "s_scan = np.logspace(np.log10(c[0]),np.log10(c[3])-0.02, 70)\n",
    "fitk = []\n",
    "stds = []\n",
    "\n",
    "for kk, k in enumerate(ks):\n",
    "    amplitude = 10**bin_vals[3,0] + np.random.rand()*10**bin_range \n",
    "    KD = 10 ** (-6 * np.random.rand() - 4)\n",
    "    temp_R, temp_x, fc_bound = generate_counts(KD, amplitude, basal, k, S, T, fl, boundaries, [np.sqrt(1), np.sqrt(0.5)])\n",
    "    true_K.append(KD)\n",
    "    R.append(temp_R)\n",
    "    x, KD, s, KD_sigma, get_obj, prob, log_prob, try_LL, k_guess = x_star(temp_R, T, b, [k], c, temp_x[0].dot(c)/temp_x[0].sum(), KD_scan, s_scan, fl)\n",
    "\n",
    "    #program gets inf and nan errors if there is no data.\n",
    "    if np.sum(R)==0:\n",
    "        fitk.append(1)\n",
    "        stds.append(np.inf)    \n",
    "    else:    \n",
    "        fitk.append(KD)\n",
    "        stds.append(KD_sigma)\n",
    "    \n",
    "    print(f'{kk} of {len(ks)} True KD:' + str(true_K[-1]) + ' Fit KD: ' + str(fitk[-1]))\n",
    "\n",
    "out_dict = dict()\n",
    "out_dict['true_KD'] = true_K\n",
    "out_dict['fit_KD'] = fitk\n",
    "out_dict['fit_KD_std'] = stds\n",
    "out = pandas.DataFrame(out_dict, columns = np.sort(out_dict.keys()))\n",
    "out.to_csv('data/ideal_'+str(active_replicate)+'_'+str(up_scale)+'.csv')"
   ]
  },
  {
   "cell_type": "code",
   "execution_count": 15,
   "id": "6467d980",
   "metadata": {},
   "outputs": [
    {
     "data": {
      "text/plain": [
       "0.000230520443261"
      ]
     },
     "execution_count": 15,
     "metadata": {},
     "output_type": "execute_result"
    }
   ],
   "source": [
    "k"
   ]
  },
  {
   "cell_type": "code",
   "execution_count": 46,
   "id": "4af4ca49",
   "metadata": {},
   "outputs": [],
   "source": [
    "R, truex, bounds = generate_counts(KD, amplitude, basal, k, S, T, fl, boundaries, [np.sqrt(1), np.sqrt(0.5)])"
   ]
  },
  {
   "cell_type": "code",
   "execution_count": 47,
   "id": "b68ec9ff",
   "metadata": {},
   "outputs": [
    {
     "data": {
      "text/plain": [
       "<matplotlib.image.AxesImage at 0x7fa3b608a0d0>"
      ]
     },
     "execution_count": 47,
     "metadata": {},
     "output_type": "execute_result"
    },
    {
     "data": {
      "image/png": "[encoded data removed]",
      "text/plain": [
       "<Figure size 432x288 with 1 Axes>"
      ]
     },
     "metadata": {
      "needs_background": "light"
     },
     "output_type": "display_data"
    }
   ],
   "source": [
    "plt.imshow(R)"
   ]
  },
  {
   "cell_type": "code",
   "execution_count": 48,
   "id": "b2c5c88d",
   "metadata": {},
   "outputs": [
    {
     "data": {
      "text/plain": [
       "<matplotlib.image.AxesImage at 0x7fa3b6121a90>"
      ]
     },
     "execution_count": 48,
     "metadata": {},
     "output_type": "execute_result"
    },
    {
     "data": {
      "image/png": "[encoded data removed]",
      "text/plain": [
       "<Figure size 432x288 with 1 Axes>"
      ]
     },
     "metadata": {
      "needs_background": "light"
     },
     "output_type": "display_data"
    }
   ],
   "source": [
    "plt.imshow(truex)"
   ]
  },
  {
   "cell_type": "code",
   "execution_count": null,
   "id": "6f2322c1",
   "metadata": {},
   "outputs": [],
   "source": []
  }
 ],
 "metadata": {
  "kernelspec": {
   "display_name": "Python 3 (ipykernel)",
   "language": "python",
   "name": "python3"
  },
  "language_info": {
   "codemirror_mode": {
    "name": "ipython",
    "version": 3
   },
   "file_extension": ".py",
   "mimetype": "text/x-python",
   "name": "python",
   "nbconvert_exporter": "python",
   "pygments_lexer": "ipython3",
   "version": "3.9.7"
  }
 },
 "nbformat": 4,
 "nbformat_minor": 5
}
