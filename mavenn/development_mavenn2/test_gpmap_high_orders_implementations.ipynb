{
 "cells": [
  {
   "cell_type": "code",
   "execution_count": 1,
   "metadata": {},
   "outputs": [],
   "source": [
    "import os\n",
    "import warnings\n",
    "# Ignore tensorflow CUDA backend warnings\n",
    "os.environ['TF_CPP_MIN_LOG_LEVEL'] = '2'\n",
    "warnings.filterwarnings('ignore')\n",
    "# Standard Imports\n",
    "import numpy as np\n",
    "import pandas as pd\n",
    "import matplotlib.pyplot as plt\n",
    "import sys\n",
    "# Path to local mavenn\n",
    "sys.path.insert(0, '/grid/kinney/home/kooshkb/workspace/mavenn')\n",
    "import mavenn"
   ]
  },
  {
   "cell_type": "code",
   "execution_count": 2,
   "metadata": {},
   "outputs": [
    {
     "name": "stdout",
     "output_type": "stream",
     "text": [
      "Training set   :   18,469 observations (  60.59%)\n",
      "Validation set :    5,936 observations (  19.47%)\n",
      "Test set       :    6,078 observations (  19.94%)\n",
      "-------------------------------------------------\n",
      "Total dataset  :   30,483 observations ( 100.00%)\n",
      "\n",
      "trainval_df:\n"
     ]
    },
    {
     "data": {
      "text/html": [
       "<div>\n",
       "<style scoped>\n",
       "    .dataframe tbody tr th:only-of-type {\n",
       "        vertical-align: middle;\n",
       "    }\n",
       "\n",
       "    .dataframe tbody tr th {\n",
       "        vertical-align: top;\n",
       "    }\n",
       "\n",
       "    .dataframe thead th {\n",
       "        text-align: right;\n",
       "    }\n",
       "</style>\n",
       "<table border=\"1\" class=\"dataframe\">\n",
       "  <thead>\n",
       "    <tr style=\"text-align: right;\">\n",
       "      <th></th>\n",
       "      <th>validation</th>\n",
       "      <th>tot_ct</th>\n",
       "      <th>ex_ct</th>\n",
       "      <th>y</th>\n",
       "      <th>x</th>\n",
       "    </tr>\n",
       "  </thead>\n",
       "  <tbody>\n",
       "    <tr>\n",
       "      <th>0</th>\n",
       "      <td>False</td>\n",
       "      <td>28</td>\n",
       "      <td>2</td>\n",
       "      <td>0.023406</td>\n",
       "      <td>GGAGUGAUG</td>\n",
       "    </tr>\n",
       "    <tr>\n",
       "      <th>1</th>\n",
       "      <td>False</td>\n",
       "      <td>193</td>\n",
       "      <td>15</td>\n",
       "      <td>-0.074999</td>\n",
       "      <td>UUCGCGCCA</td>\n",
       "    </tr>\n",
       "    <tr>\n",
       "      <th>2</th>\n",
       "      <td>False</td>\n",
       "      <td>27</td>\n",
       "      <td>0</td>\n",
       "      <td>-0.438475</td>\n",
       "      <td>UAAGCUUUU</td>\n",
       "    </tr>\n",
       "    <tr>\n",
       "      <th>3</th>\n",
       "      <td>False</td>\n",
       "      <td>130</td>\n",
       "      <td>2</td>\n",
       "      <td>-0.631467</td>\n",
       "      <td>AUGGUCGGG</td>\n",
       "    </tr>\n",
       "    <tr>\n",
       "      <th>4</th>\n",
       "      <td>False</td>\n",
       "      <td>552</td>\n",
       "      <td>19</td>\n",
       "      <td>-0.433012</td>\n",
       "      <td>AGGGCAGGA</td>\n",
       "    </tr>\n",
       "    <tr>\n",
       "      <th>...</th>\n",
       "      <td>...</td>\n",
       "      <td>...</td>\n",
       "      <td>...</td>\n",
       "      <td>...</td>\n",
       "      <td>...</td>\n",
       "    </tr>\n",
       "    <tr>\n",
       "      <th>24400</th>\n",
       "      <td>False</td>\n",
       "      <td>167</td>\n",
       "      <td>1467</td>\n",
       "      <td>1.950100</td>\n",
       "      <td>GAGGUAAAU</td>\n",
       "    </tr>\n",
       "    <tr>\n",
       "      <th>24401</th>\n",
       "      <td>False</td>\n",
       "      <td>682</td>\n",
       "      <td>17</td>\n",
       "      <td>-0.570465</td>\n",
       "      <td>AUCGCUAGA</td>\n",
       "    </tr>\n",
       "    <tr>\n",
       "      <th>24402</th>\n",
       "      <td>False</td>\n",
       "      <td>190</td>\n",
       "      <td>17</td>\n",
       "      <td>-0.017078</td>\n",
       "      <td>CUGGUUGCA</td>\n",
       "    </tr>\n",
       "    <tr>\n",
       "      <th>24403</th>\n",
       "      <td>False</td>\n",
       "      <td>154</td>\n",
       "      <td>10</td>\n",
       "      <td>-0.140256</td>\n",
       "      <td>CGCGCACAA</td>\n",
       "    </tr>\n",
       "    <tr>\n",
       "      <th>24404</th>\n",
       "      <td>False</td>\n",
       "      <td>265</td>\n",
       "      <td>6</td>\n",
       "      <td>-0.571100</td>\n",
       "      <td>AUAGUCUAA</td>\n",
       "    </tr>\n",
       "  </tbody>\n",
       "</table>\n",
       "<p>24405 rows × 5 columns</p>\n",
       "</div>"
      ],
      "text/plain": [
       "       validation  tot_ct  ex_ct         y          x\n",
       "0           False      28      2  0.023406  GGAGUGAUG\n",
       "1           False     193     15 -0.074999  UUCGCGCCA\n",
       "2           False      27      0 -0.438475  UAAGCUUUU\n",
       "3           False     130      2 -0.631467  AUGGUCGGG\n",
       "4           False     552     19 -0.433012  AGGGCAGGA\n",
       "...           ...     ...    ...       ...        ...\n",
       "24400       False     167   1467  1.950100  GAGGUAAAU\n",
       "24401       False     682     17 -0.570465  AUCGCUAGA\n",
       "24402       False     190     17 -0.017078  CUGGUUGCA\n",
       "24403       False     154     10 -0.140256  CGCGCACAA\n",
       "24404       False     265      6 -0.571100  AUAGUCUAA\n",
       "\n",
       "[24405 rows x 5 columns]"
      ]
     },
     "execution_count": 2,
     "metadata": {},
     "output_type": "execute_result"
    }
   ],
   "source": [
    "dataset = 'mpsa'\n",
    "# Load example data\n",
    "data_df = mavenn.load_example_dataset(dataset)\n",
    "\n",
    "# Split dataset\n",
    "trainval_df, test_df1 = mavenn.split_dataset(data_df)\n",
    "# for large test data we will ran out of memory for x_to_phi\n",
    "test_df = test_df1.sample(1000)\n",
    "# Preview trainval_df\n",
    "print('trainval_df:')\n",
    "trainval_df"
   ]
  },
  {
   "cell_type": "code",
   "execution_count": 3,
   "metadata": {},
   "outputs": [],
   "source": [
    "# Length of the sequences\n",
    "L = len(data_df['x'][0])\n",
    "# Alphabet for RNA\n",
    "alphabet = ['A', 'C', 'G', 'U']\n",
    "\n",
    "# Default fitting kwargs\n",
    "default_fit_kwargs = {\n",
    "    'learning_rate': 1e-3,\n",
    "    'epochs': 500,\n",
    "    'batch_size': 50,\n",
    "    'early_stopping': True,\n",
    "    'early_stopping_patience': 30,\n",
    "    'linear_initialization': False,\n",
    "    'verbose': False\n",
    "}"
   ]
  },
  {
   "cell_type": "code",
   "execution_count": 4,
   "metadata": {},
   "outputs": [
    {
     "name": "stdout",
     "output_type": "stream",
     "text": [
      "K1\n",
      "N = 24,405 observations set as training data.\n",
      "Using 24.3% for validation.\n",
      "Time to set data: 0.353 sec.\n"
     ]
    },
    {
     "data": {
      "application/vnd.jupyter.widget-view+json": {
       "model_id": "c75155a54acc4360bc020c018209ffae",
       "version_major": 2,
       "version_minor": 0
      },
      "text/plain": [
       "0epoch [00:00, ?epoch/s]"
      ]
     },
     "metadata": {},
     "output_type": "display_data"
    },
    {
     "name": "stdout",
     "output_type": "stream",
     "text": [
      "reaching code after fit\n",
      "Training time: 126.4 seconds\n",
      "0.1861347258090973\n",
      "K2\n",
      "N = 24,405 observations set as training data.\n",
      "Using 24.3% for validation.\n",
      "Time to set data: 0.338 sec.\n"
     ]
    },
    {
     "data": {
      "application/vnd.jupyter.widget-view+json": {
       "model_id": "765f04d066c247c793e22ba1020c8168",
       "version_major": 2,
       "version_minor": 0
      },
      "text/plain": [
       "0epoch [00:00, ?epoch/s]"
      ]
     },
     "metadata": {},
     "output_type": "display_data"
    },
    {
     "name": "stdout",
     "output_type": "stream",
     "text": [
      "reaching code after fit\n",
      "Training time: 244.0 seconds\n",
      "0.3630124032497406\n",
      "K3\n",
      "N = 24,405 observations set as training data.\n",
      "Using 24.3% for validation.\n",
      "Time to set data: 0.36 sec.\n"
     ]
    },
    {
     "data": {
      "application/vnd.jupyter.widget-view+json": {
       "model_id": "a9715fc2868e45e09fd7a2bf531075f6",
       "version_major": 2,
       "version_minor": 0
      },
      "text/plain": [
       "0epoch [00:00, ?epoch/s]"
      ]
     },
     "metadata": {},
     "output_type": "display_data"
    },
    {
     "name": "stdout",
     "output_type": "stream",
     "text": [
      "reaching code after fit\n",
      "Training time: 84.7 seconds\n",
      "0.48425883054733276\n",
      "K4\n",
      "N = 24,405 observations set as training data.\n",
      "Using 24.3% for validation.\n",
      "Time to set data: 0.35 sec.\n"
     ]
    },
    {
     "data": {
      "application/vnd.jupyter.widget-view+json": {
       "model_id": "d3b54208428d40879c933bc41ee6e725",
       "version_major": 2,
       "version_minor": 0
      },
      "text/plain": [
       "0epoch [00:00, ?epoch/s]"
      ]
     },
     "metadata": {},
     "output_type": "display_data"
    },
    {
     "name": "stdout",
     "output_type": "stream",
     "text": [
      "reaching code after fit\n",
      "Training time: 124.7 seconds\n",
      "0.6546922326087952\n"
     ]
    },
    {
     "data": {
      "image/png": "[encoded data removed]",
      "text/plain": [
       "<Figure size 1080x216 with 5 Axes>"
      ]
     },
     "metadata": {
      "needs_background": "light"
     },
     "output_type": "display_data"
    }
   ],
   "source": [
    "# Run over several GP map interaction orders\n",
    "gpmap_cases = ['K1', 'K2', 'K3', 'K4']\n",
    "\n",
    "line_colors = ['k', 'r', 'g', 'b', 'darkorange', 'purple']\n",
    "fig, axs = plt.subplots(1, len(gpmap_cases) + 1,\n",
    "                        figsize=(3 * (len(gpmap_cases) + 1), 3))\n",
    "\n",
    "# Loop over gp-map implementations\n",
    "for c, g in enumerate(gpmap_cases):\n",
    "    print(g)\n",
    "    if g == 'AdditiveGPMapLayer':\n",
    "        gpmap = mavenn.gpmap.AdditiveGPMapLayer(L=L, alphabet=alphabet)\n",
    "\n",
    "    if g == 'K1':\n",
    "        gpmap = mavenn.gpmap.KOrderGPMap(\n",
    "            L=L, alphabet=alphabet, interaction_order=1)\n",
    "\n",
    "    if g == 'PairwiseGPMapLayer':\n",
    "        gpmap = mavenn.gpmap.PairwiseGPMapLayer(\n",
    "            L=L, alphabet=alphabet, mask_type='pairwise')\n",
    "\n",
    "    if g == 'K2':\n",
    "        gpmap = mavenn.gpmap.KOrderGPMap(\n",
    "            L=L, alphabet=alphabet, interaction_order=2)\n",
    "\n",
    "    if g == 'K3':\n",
    "        gpmap = mavenn.gpmap.KOrderGPMap(\n",
    "            L=L, alphabet=alphabet, interaction_order=3)\n",
    "        \n",
    "    if g == 'K4':\n",
    "        gpmap = mavenn.gpmap.KOrderGPMap(\n",
    "            L=L, alphabet=alphabet, interaction_order=4)\n",
    "\n",
    "    # Initialize measurement process\n",
    "    mp_GE = mavenn.measurement_process_layers.GlobalEpsitasisMP(\n",
    "        K=50, ge_noise_model_type='SkewedT', ge_heteroskedasticity_order=2)\n",
    "    # Define Model\n",
    "    model = mavenn.Model2(gpmap=gpmap, mp_list=[mp_GE])\n",
    "    # Set training data\n",
    "    model.set_data(x=trainval_df['x'],\n",
    "                   y_list=[trainval_df['y'].values.reshape(-1, 1)],\n",
    "                   validation_flags=trainval_df['validation'],\n",
    "                   shuffle=False)\n",
    "\n",
    "    model.fit(**default_fit_kwargs)\n",
    "    # TODO: model.save is broken\n",
    "    # Get test data y values\n",
    "    y_test = test_df['y']\n",
    "    # Compute phi on test data\n",
    "    phi_test = model.gpmap.x_to_phi(test_df['x'])\n",
    "\n",
    "    # Set phi lims and create a grid in phi space\n",
    "    phi_lim = [min(phi_test) - .5, max(phi_test) + .5]\n",
    "    phi_grid = np.linspace(phi_lim[0], phi_lim[1], 1000).astype('float32')\n",
    "\n",
    "    yhat_grid = mp_GE.phi_to_yhat(phi_grid)\n",
    "\n",
    "    ax = axs[c + 1]\n",
    "    # Plot GE nonlinearity\n",
    "    ax.scatter(phi_test, y_test, c='C10', s=5,\n",
    "               alpha=0.3, zorder=-10, rasterized=True)\n",
    "    ax.plot(phi_grid, yhat_grid, linewidth=3,\n",
    "            color=line_colors[c], label=f'G-P model {g}')\n",
    "    final_I_var = model.history['I_var'][-1]\n",
    "    final_val_I_var = model.history['val_I_var'][-1]\n",
    "    ax.set_title(f'Ivar = {final_I_var:5.2f}, val Ivar={final_val_I_var:5.2f}')\n",
    "\n",
    "    # Style plot\n",
    "    ax = axs[0]\n",
    "    # Plot I_var_train, the variational information on training data as a function of epoch\n",
    "    ax.plot(model.history['I_var'], color=line_colors[c],\n",
    "            label=f'train Ivar {g}')\n",
    "    # Plot I_var_val, the variational information on validation data as a function of epoch\n",
    "    ax.plot(model.history['val_I_var'], '--',\n",
    "            color=line_colors[c], label=f'val I_var {g}')\n",
    "\n",
    "fs = 8\n",
    "for c in range(len(gpmap_cases)):\n",
    "    ax = axs[c + 1]\n",
    "    ax.set_xlabel('latent phenotype ($\\phi$)', fontsize=fs)\n",
    "    ax.set_ylim([-1.5, 2.5])\n",
    "    ax.set_ylabel('measurement ($y$)', fontsize=fs)\n",
    "    ax.legend(frameon=True, loc='lower right', fontsize=fs)\n",
    "# Style plots\n",
    "ax = axs[0]\n",
    "ax.set_xlabel('epochs', fontsize=fs)\n",
    "ax.set_ylabel('bits', fontsize=fs)\n",
    "ax.grid()\n",
    "\n",
    "plt.suptitle('MPSA GE modeling with several GP map orders')\n",
    "plt.tight_layout()\n",
    "plt.savefig('gp_implementations.pdf')\n",
    "plt.show()"
   ]
  }
 ],
 "metadata": {
  "kernelspec": {
   "display_name": "CUDA/GPU Python 3.9.5 (src)",
   "language": "python",
   "name": "python_3.9.5-gcccore-10.3.0"
  },
  "language_info": {
   "codemirror_mode": {
    "name": "ipython",
    "version": 3
   },
   "file_extension": ".py",
   "mimetype": "text/x-python",
   "name": "python",
   "nbconvert_exporter": "python",
   "pygments_lexer": "ipython3",
   "version": "3.9.5"
  }
 },
 "nbformat": 4,
 "nbformat_minor": 4
}
