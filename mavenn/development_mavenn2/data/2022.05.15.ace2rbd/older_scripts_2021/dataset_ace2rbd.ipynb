{
 "cells": [
  {
   "cell_type": "markdown",
   "id": "dca40d3f",
   "metadata": {},
   "source": [
    "# `'ace2rbd'` dataset"
   ]
  },
  {
   "cell_type": "code",
   "execution_count": 1,
   "id": "43acb29b",
   "metadata": {
    "ExecuteTime": {
     "end_time": "2021-11-11T17:43:32.103350Z",
     "start_time": "2021-11-11T17:43:30.074224Z"
    }
   },
   "outputs": [],
   "source": [
    "# Standard imports\n",
    "import pandas as pd\n",
    "import numpy as np\n",
    "import matplotlib.pyplot as plt\n",
    "%matplotlib inline\n",
    "\n",
    "# Special imports\n",
    "import mavenn"
   ]
  },
  {
   "cell_type": "markdown",
   "id": "5336886a",
   "metadata": {
    "ExecuteTime": {
     "end_time": "2021-11-11T17:26:47.608641Z",
     "start_time": "2021-11-11T17:26:47.392567Z"
    }
   },
   "source": [
    "## Summary"
   ]
  },
  {
   "cell_type": "markdown",
   "id": "030ff69a",
   "metadata": {
    "ExecuteTime": {
     "end_time": "2021-11-11T17:27:24.538136Z",
     "start_time": "2021-11-11T17:27:24.529622Z"
    }
   },
   "source": [
    "<span style=\"color:red\">DOCUMENTATION UNDER CONSTRUCTION</span>\n",
    "\n",
    "**Name**: ``'ace2rbd'``\n",
    "\n",
    "**Reference**: Starr T, Greaney A, Hilton S, Ellis D, Crawford K, Dingens A, Navarro M, Bowen J, Tortorici M, Walls A, King N, Veesler D, Bloom J (2020). Deep mutational scanning of SARS-CoV-2 receptor binding domain reveals constraints on folding and ACE2 binding. [Cell. 182(5):1295-1310.e20](https://dx.doi.org/10.1016/j.cell.2020.08.012)"
   ]
  },
  {
   "cell_type": "code",
   "execution_count": 2,
   "id": "3072cf25",
   "metadata": {
    "ExecuteTime": {
     "end_time": "2021-11-11T17:43:32.398510Z",
     "start_time": "2021-11-11T17:43:32.104387Z"
    }
   },
   "outputs": [
    {
     "data": {
      "text/html": [
       "<div>\n",
       "<style scoped>\n",
       "    .dataframe tbody tr th:only-of-type {\n",
       "        vertical-align: middle;\n",
       "    }\n",
       "\n",
       "    .dataframe tbody tr th {\n",
       "        vertical-align: top;\n",
       "    }\n",
       "\n",
       "    .dataframe thead th {\n",
       "        text-align: right;\n",
       "    }\n",
       "</style>\n",
       "<table border=\"1\" class=\"dataframe\">\n",
       "  <thead>\n",
       "    <tr style=\"text-align: right;\">\n",
       "      <th></th>\n",
       "      <th>set</th>\n",
       "      <th>hamming_dist</th>\n",
       "      <th>y</th>\n",
       "      <th>x</th>\n",
       "    </tr>\n",
       "  </thead>\n",
       "  <tbody>\n",
       "    <tr>\n",
       "      <th>0</th>\n",
       "      <td>training</td>\n",
       "      <td>2</td>\n",
       "      <td>-0.72</td>\n",
       "      <td>NITYLCPFGEVFNATRFASVYAWNRKRISNCVADYSVLYNSASFST...</td>\n",
       "    </tr>\n",
       "    <tr>\n",
       "      <th>1</th>\n",
       "      <td>training</td>\n",
       "      <td>3</td>\n",
       "      <td>-4.84</td>\n",
       "      <td>NITNLCPFGEVFNATRFASVYAWNRKRISNCVADYSVLYNSASFST...</td>\n",
       "    </tr>\n",
       "    <tr>\n",
       "      <th>2</th>\n",
       "      <td>training</td>\n",
       "      <td>2</td>\n",
       "      <td>-1.31</td>\n",
       "      <td>NITNLCPFGEVFNATRFASVYAWNRKRISNCVADYSVLYNSASFST...</td>\n",
       "    </tr>\n",
       "    <tr>\n",
       "      <th>3</th>\n",
       "      <td>training</td>\n",
       "      <td>4</td>\n",
       "      <td>-0.53</td>\n",
       "      <td>NITNLCPFGEVFNATRFASVYAWQRKRISNCVADYSVLYNSASFST...</td>\n",
       "    </tr>\n",
       "    <tr>\n",
       "      <th>4</th>\n",
       "      <td>training</td>\n",
       "      <td>2</td>\n",
       "      <td>-4.84</td>\n",
       "      <td>NITNLCPFGEVFNATRFASVYAWNRKRISNCVADYSVLYNSASFST...</td>\n",
       "    </tr>\n",
       "    <tr>\n",
       "      <th>...</th>\n",
       "      <td>...</td>\n",
       "      <td>...</td>\n",
       "      <td>...</td>\n",
       "      <td>...</td>\n",
       "    </tr>\n",
       "    <tr>\n",
       "      <th>146432</th>\n",
       "      <td>validation</td>\n",
       "      <td>2</td>\n",
       "      <td>0.05</td>\n",
       "      <td>NITNLCNFGEVFNATRFASVYAWNRKRISNCVADYSVLYNSASFST...</td>\n",
       "    </tr>\n",
       "    <tr>\n",
       "      <th>146433</th>\n",
       "      <td>validation</td>\n",
       "      <td>4</td>\n",
       "      <td>-4.84</td>\n",
       "      <td>NITNLCPFGCVFNATRFPSVYAWNRKRISNCVADYSVLYNSASFST...</td>\n",
       "    </tr>\n",
       "    <tr>\n",
       "      <th>146434</th>\n",
       "      <td>training</td>\n",
       "      <td>2</td>\n",
       "      <td>-1.23</td>\n",
       "      <td>NITNLCPFGEVFNATRFASVYAWNRKRISNCVADYSVLYNSASFST...</td>\n",
       "    </tr>\n",
       "    <tr>\n",
       "      <th>146435</th>\n",
       "      <td>validation</td>\n",
       "      <td>2</td>\n",
       "      <td>-1.06</td>\n",
       "      <td>NITNLCPFGEVFNATRFASVYAWNRKRISNCVADYSVLYNSASFST...</td>\n",
       "    </tr>\n",
       "    <tr>\n",
       "      <th>146436</th>\n",
       "      <td>training</td>\n",
       "      <td>3</td>\n",
       "      <td>-0.94</td>\n",
       "      <td>NITNLCPFGEVFNATRFASVYAWNRKRISNCVADYSVLYNSASFST...</td>\n",
       "    </tr>\n",
       "  </tbody>\n",
       "</table>\n",
       "<p>146437 rows × 4 columns</p>\n",
       "</div>"
      ],
      "text/plain": [
       "               set  hamming_dist     y  \\\n",
       "0         training             2 -0.72   \n",
       "1         training             3 -4.84   \n",
       "2         training             2 -1.31   \n",
       "3         training             4 -0.53   \n",
       "4         training             2 -4.84   \n",
       "...            ...           ...   ...   \n",
       "146432  validation             2  0.05   \n",
       "146433  validation             4 -4.84   \n",
       "146434    training             2 -1.23   \n",
       "146435  validation             2 -1.06   \n",
       "146436    training             3 -0.94   \n",
       "\n",
       "                                                        x  \n",
       "0       NITYLCPFGEVFNATRFASVYAWNRKRISNCVADYSVLYNSASFST...  \n",
       "1       NITNLCPFGEVFNATRFASVYAWNRKRISNCVADYSVLYNSASFST...  \n",
       "2       NITNLCPFGEVFNATRFASVYAWNRKRISNCVADYSVLYNSASFST...  \n",
       "3       NITNLCPFGEVFNATRFASVYAWQRKRISNCVADYSVLYNSASFST...  \n",
       "4       NITNLCPFGEVFNATRFASVYAWNRKRISNCVADYSVLYNSASFST...  \n",
       "...                                                   ...  \n",
       "146432  NITNLCNFGEVFNATRFASVYAWNRKRISNCVADYSVLYNSASFST...  \n",
       "146433  NITNLCPFGCVFNATRFPSVYAWNRKRISNCVADYSVLYNSASFST...  \n",
       "146434  NITNLCPFGEVFNATRFASVYAWNRKRISNCVADYSVLYNSASFST...  \n",
       "146435  NITNLCPFGEVFNATRFASVYAWNRKRISNCVADYSVLYNSASFST...  \n",
       "146436  NITNLCPFGEVFNATRFASVYAWNRKRISNCVADYSVLYNSASFST...  \n",
       "\n",
       "[146437 rows x 4 columns]"
      ]
     },
     "execution_count": 2,
     "metadata": {},
     "output_type": "execute_result"
    }
   ],
   "source": [
    "mavenn.load_example_dataset('ace2rbd')"
   ]
  },
  {
   "cell_type": "markdown",
   "id": "6fe018cb",
   "metadata": {},
   "source": [
    "## Preprocessing"
   ]
  },
  {
   "cell_type": "markdown",
   "id": "ecccf7df",
   "metadata": {
    "ExecuteTime": {
     "end_time": "2021-11-11T17:34:28.129865Z",
     "start_time": "2021-11-11T17:34:28.124430Z"
    }
   },
   "source": [
    "<span style=\"color:red\">DOCUMENTATION UNDER CONSTRUCTION</span>"
   ]
  }
 ],
 "metadata": {
  "kernelspec": {
   "display_name": "Python 3",
   "language": "python",
   "name": "python3"
  },
  "language_info": {
   "codemirror_mode": {
    "name": "ipython",
    "version": 3
   },
   "file_extension": ".py",
   "mimetype": "text/x-python",
   "name": "python",
   "nbconvert_exporter": "python",
   "pygments_lexer": "ipython3",
   "version": "3.9.2"
  },
  "varInspector": {
   "cols": {
    "lenName": 16,
    "lenType": 16,
    "lenVar": 40
   },
   "kernels_config": {
    "python": {
     "delete_cmd_postfix": "",
     "delete_cmd_prefix": "del ",
     "library": "var_list.py",
     "varRefreshCmd": "print(var_dic_list())"
    },
    "r": {
     "delete_cmd_postfix": ") ",
     "delete_cmd_prefix": "rm(",
     "library": "var_list.r",
     "varRefreshCmd": "cat(var_dic_list()) "
    }
   },
   "types_to_exclude": [
    "module",
    "function",
    "builtin_function_or_method",
    "instance",
    "_Feature"
   ],
   "window_display": false
  }
 },
 "nbformat": 4,
 "nbformat_minor": 5
}
