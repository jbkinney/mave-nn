{
 "cells": [
  {
   "cell_type": "code",
   "execution_count": 1,
   "metadata": {
    "collapsed": true
   },
   "outputs": [],
   "source": [
    "import numpy as np\n",
    "import pandas as pd\n",
    "import matplotlib.pyplot as plt\n",
    "import sys\n",
    "sys.path.insert(0, '/Users/tareen/Desktop/Research_Projects/2022_mavenn2_github/mavenn')\n",
    "\n",
    "import mavenn\n",
    "import logomaker\n",
    "import seaborn as sns\n",
    "import re\n",
    "\n",
    "%matplotlib inline"
   ]
  },
  {
   "cell_type": "code",
   "execution_count": null,
   "metadata": {
    "collapsed": true
   },
   "outputs": [],
   "source": [
    "# Load example data\n",
    "full_wt_df = pd.read_csv('data/sortseq/full-wt/data.txt',delim_whitespace=True)\n",
    "rnap_wt_df = pd.read_csv('data/sortseq/rnap-wt/data.txt',delim_whitespace=True)\n",
    "crp_wt_df = pd.read_csv('data/sortseq/crp-wt/data.txt',delim_whitespace=True)\n",
    "\n",
    "# # Separate test from data_df\n",
    "# ix_test = data_df['set']=='test'\n",
    "# test_df = data_df[ix_test].reset_index(drop=True)\n",
    "# print(f'test N: {len(test_df):,}')\n",
    "\n",
    "# # Remove test data from data_df\n",
    "# data_df = data_df[~ix_test].reset_index(drop=True)\n",
    "# print(f'training + validation N: {len(data_df):,}')\n"
   ]
  },
  {
   "cell_type": "code",
   "execution_count": null,
   "metadata": {
    "collapsed": true
   },
   "outputs": [],
   "source": [
    "data_df = full_wt_df.merge(rnap_wt_df,on='seq',how='outer').merge(crp_wt_df,on='seq',how='outer').fillna(0)"
   ]
  },
  {
   "cell_type": "code",
   "execution_count": null,
   "metadata": {
    "collapsed": true
   },
   "outputs": [],
   "source": [
    "y_cols = list(np.arange(0,30,1).astype(str))\n",
    "cols = list(np.arange(0,30,1).astype(str))\n",
    "cols.insert(0,'x')\n",
    "data_df.columns = cols"
   ]
  },
  {
   "cell_type": "code",
   "execution_count": null,
   "metadata": {
    "collapsed": true
   },
   "outputs": [],
   "source": [
    "X = data_df['x']\n",
    "y = data_df[y_cols]"
   ]
  },
  {
   "cell_type": "code",
   "execution_count": null,
   "metadata": {
    "collapsed": true
   },
   "outputs": [],
   "source": [
    "from sklearn.model_selection import train_test_split\n",
    "\n",
    "# split data into training and testing sets\n",
    "x_train, x_test, y_train, y_test = train_test_split(X, y, test_size=0.2)"
   ]
  },
  {
   "cell_type": "code",
   "execution_count": null,
   "metadata": {
    "collapsed": true
   },
   "outputs": [],
   "source": [
    "# from mavenn.src.layers.gpmap import GPMapLayer\n",
    "\n",
    "\n",
    "# # Tensorflow imports\n",
    "# import tensorflow as tf\n",
    "# import tensorflow.keras.backend as K\n",
    "# from tensorflow.keras.initializers import Constant\n",
    "# from tensorflow.keras.layers import Layer, Dense\n",
    "\n",
    "# class ThermodynamicLayer(GPMapLayer):\n",
    "#     \"\"\"Represents an thermodynamic model of transcription\n",
    "#        regulation in E. Coli at the xylE promoter, which \n",
    "#        contains binding sites for RNAP, CRP, and xylR.\n",
    "#     \"\"\"\n",
    "\n",
    "#     def __init__(self, \n",
    "#                  CRP_start,\n",
    "#                  CRP_end,\n",
    "#                  xylR_start,\n",
    "#                  xylR_end,\n",
    "#                  RNAP_start,\n",
    "#                  RNAP_end,\n",
    "#                  regularizer, \n",
    "#                  *args, **kwargs):\n",
    "#         \"\"\"Construct layer instance.\"\"\"\n",
    "        \n",
    "#         # set attributes\n",
    "#         self.CRP_start = CRP_start\n",
    "#         self.CRP_end = CRP_end        \n",
    "\n",
    "#         self.xylR_start = xylR_start\n",
    "#         self.xylR_end = xylR_end                        \n",
    "        \n",
    "#         self.RNAP_start = RNAP_start\n",
    "#         self.RNAP_end = RNAP_end        \n",
    "        \n",
    "#         #self.C=kwargs['C']\n",
    "#         self.C=4\n",
    "#         self.regularizer = tf.keras.regularizers.L2(regularizer)\n",
    "        \n",
    "#         # form helpful variables\n",
    "#         self.L_CRP = CRP_end-CRP_start\n",
    "#         self.L_RNAP = RNAP_end - RNAP_start\n",
    "#         self.L_xylR = xylR_end - xylR_start\n",
    "        \n",
    "#         super().__init__(*args, **kwargs)\n",
    "\n",
    "#     def build(self, input_shape):\n",
    "#         \"\"\"Build layer.\"\"\"\n",
    "        \n",
    "#         #1 define bias/chemical potential weight for crp\n",
    "#         self.mu_CRP = self.add_weight(name='mu_CRP',\n",
    "#                                        shape=(1,),\n",
    "#                                        initializer=Constant(0.),\n",
    "#                                        trainable=True,\n",
    "#                                        regularizer=self.regularizer)\n",
    "        \n",
    "        \n",
    "#         #2 define bias/chemical potential weight for xylR\n",
    "#         self.mu_xylR = self.add_weight(name='mu_xylR',\n",
    "#                                        shape=(1,),\n",
    "#                                        initializer=Constant(0.),\n",
    "#                                        trainable=True,\n",
    "#                                        regularizer=self.regularizer)                   \n",
    "\n",
    "#         #3 define bias/chemical potential weight for rnap\n",
    "#         self.mu_RNAP = self.add_weight(name='mu_RNAP',\n",
    "#                                        shape=(1,),\n",
    "#                                        initializer=Constant(0.),\n",
    "#                                        trainable=True,\n",
    "#                                        regularizer=self.regularizer)\n",
    "     \n",
    "        \n",
    "\n",
    "#         #4 Define theta_CRP_lc parameters\n",
    "#         theta_CRP_lc_shape = (1, self.L_CRP, self.C)\n",
    "\n",
    "#         #theta_CRP_lc_init = np.random.randn(*theta_CRP_lc_shape)/np.sqrt(self.L_CRP)\n",
    "#         self.theta_CRP_lc = self.add_weight(name='theta_CRP_lc',\n",
    "#                                         shape=theta_CRP_lc_shape,\n",
    "#                                         #initializer=Constant(CRP_init_values),\n",
    "#                                         trainable=True,\n",
    "#                                         regularizer=self.regularizer)\n",
    "\n",
    "                \n",
    "#         #5 Define theta_xylR_lc parameters\n",
    "#         theta_xylR_lc_shape = (1, self.L_xylR, self.C)\n",
    "\n",
    "#         #theta_xylR_lc_init = np.random.randn(*theta_xylR_lc_shape)/np.sqrt(self.L_xylR)\n",
    "#         self.theta_xylR_lc = self.add_weight(name='theta_xylR_lc',\n",
    "#                                         shape=theta_xylR_lc_shape,\n",
    "#                                         #initializer=Constant(xylR_init_values),\n",
    "#                                         trainable=True,\n",
    "#                                         regularizer=self.regularizer)        \n",
    "        \n",
    "#         #6 Define theta_rnap_lc parameters\n",
    "#         theta_RNAP_lc_shape = (1, self.L_RNAP, self.C)\n",
    "\n",
    "#         #theta_RNAP_lc_init = np.random.randn(*theta_RNAP_lc_shape)/np.sqrt(self.L_RNAP)\n",
    "#         self.theta_RNAP_lc = self.add_weight(name='theta_RNAP_lc',\n",
    "#                                         shape=theta_RNAP_lc_shape,\n",
    "#                                         #initializer=Constant(RNAP_init_values),\n",
    "#                                         trainable=True,\n",
    "#                                         regularizer=self.regularizer)\n",
    "\n",
    "        \n",
    "#         #7 define interaction term between CRP and xylR\n",
    "#         self.I_cx = self.add_weight(name='I_cx',\n",
    "#                                shape=(1,),\n",
    "#                                initializer=Constant(-1),\n",
    "#                                trainable=True)\n",
    "        \n",
    "#         #8 define interaction term between RNAP and xylR. \n",
    "#         self.I_rx = self.add_weight(name='I_rx',\n",
    "#                                shape=(1,),\n",
    "#                                initializer=Constant(-1),\n",
    "#                                trainable=True,\n",
    "#                                regularizer=self.regularizer)\n",
    "        \n",
    "# #         #9 define interaction term between CRP and RNAP\n",
    "# #         self.I_cr = self.add_weight(name='I_cr',\n",
    "# #                                shape=(1,),\n",
    "# #                                initializer=Constant(-1),\n",
    "# #                                trainable=True)        \n",
    "        \n",
    "# #         #10 define tsat term. \n",
    "#         self.tsat = self.add_weight(name='tsat',\n",
    "#                                shape=(1,),\n",
    "#                                initializer=Constant(1.),\n",
    "#                                trainable=False)        \n",
    "        \n",
    "#         # Call superclass build\n",
    "#         super().build(input_shape)\n",
    "\n",
    "#     def call(self, x_lc):\n",
    "#         \"\"\"Process layer input and return output.\n",
    "        \n",
    "#         x_lc: (tensor)\n",
    "#             Input tensor that represents one-hot encoded \n",
    "#             sequence values. \n",
    "#         \"\"\"\n",
    "        \n",
    "#         # extract locations of binding sites from entire lac-promoter sequence.\n",
    "#         x_CRP_lc = x_lc[:,self.C * self.CRP_start:self.C * self.CRP_end]\n",
    "#         x_xylR_lc = x_lc[:,self.C * self.xylR_start: self.C * self.xylR_end]\n",
    "#         x_RNAP_lc = x_lc[:,self.C * self.RNAP_start: self.C * self.RNAP_end]\n",
    "        \n",
    "#         # reshape according to crp and rnap lengths. \n",
    "#         x_CRP_lc = tf.reshape(x_CRP_lc, [-1, self.L_CRP, self.C])\n",
    "#         x_xylR_lc = tf.reshape(x_xylR_lc, [-1, self.L_xylR, self.C])        \n",
    "#         x_RNAP_lc = tf.reshape(x_RNAP_lc, [-1, self.L_RNAP, self.C])\n",
    "\n",
    "                \n",
    "#         # compute delta G for crp    \n",
    "#         phi_CRP = self.mu_CRP + \\\n",
    "#               tf.reshape(K.sum(self.theta_CRP_lc * x_CRP_lc, axis=[1, 2]),\n",
    "#                          shape=[-1, 1])\n",
    "            \n",
    "#         # compute delta G for LacI\n",
    "#         phi_xylR = self.mu_xylR + \\\n",
    "#               tf.reshape(K.sum(self.theta_xylR_lc * x_xylR_lc, axis=[1, 2]),\n",
    "#                          shape=[-1, 1])                             \n",
    "            \n",
    "#         # compute delta G for rnap\n",
    "#         phi_RNAP = self.mu_RNAP + \\\n",
    "#               tf.reshape(K.sum(self.theta_RNAP_lc * x_RNAP_lc, axis=[1, 2]),\n",
    "#                          shape=[-1, 1])                   \n",
    "        \n",
    "#         # partition function\n",
    "#         Z = (1+K.exp(-phi_CRP)+K.exp(-phi_xylR)+ \\\n",
    "#              K.exp(-phi_RNAP)+ \\\n",
    "#              K.exp(-phi_xylR-phi_RNAP-self.I_rx)+ \\\n",
    "#              #K.exp(-phi_CRP-phi_RNAP-self.I_cr)+ \\\n",
    "#              K.exp(-phi_CRP-phi_RNAP)+ \\\n",
    "#              K.exp(-phi_CRP-phi_xylR-phi_RNAP-self.I_cx-self.I_rx) +\\\n",
    "#              K.exp(-phi_CRP-phi_xylR-self.I_cx)\n",
    "#             )\n",
    "        \n",
    "#         transcription_states =  K.exp(-phi_RNAP)+ \\\n",
    "#                                 K.exp(-phi_xylR-phi_RNAP-self.I_rx)+ \\\n",
    "#                                 K.exp(-phi_CRP-phi_RNAP)+ \\\n",
    "#                                 K.exp(-phi_CRP-phi_xylR-phi_RNAP-self.I_cx-self.I_rx)\n",
    "        \n",
    "        \n",
    "        \n",
    "#         # compute rate of transcription\n",
    "#         t = (self.tsat)*(transcription_states)/Z\n",
    "        \n",
    "        \n",
    "#         # return rate of transcription\n",
    "#         return t"
   ]
  },
  {
   "cell_type": "code",
   "execution_count": null,
   "metadata": {
    "collapsed": true
   },
   "outputs": [],
   "source": [
    "# set positional argumnets for gpmap function\n",
    "L = len(data_df['x'][0])\n",
    "alphabet=['A','C','G','T']\n",
    "\n",
    "#y_cols = data_df.columns[1:-1]\n",
    "Y = len(y_cols)\n",
    "print(f'L={L}, Y={Y}')\n",
    "\n",
    "# get test set data."
   ]
  },
  {
   "cell_type": "code",
   "execution_count": null,
   "metadata": {
    "collapsed": true
   },
   "outputs": [],
   "source": []
  },
  {
   "cell_type": "code",
   "execution_count": null,
   "metadata": {
    "collapsed": true
   },
   "outputs": [],
   "source": [
    "# instantiate gpmap object\n",
    "gpmap = mavenn.gpmap.AdditiveGPMapLayer(L, alphabet)\n",
    "\n",
    "#therodynamic_gpmap = ThermodynamicLayer(alphabet=alphabet,**gpmap_kwargs)"
   ]
  },
  {
   "cell_type": "code",
   "execution_count": null,
   "metadata": {
    "collapsed": true
   },
   "outputs": [],
   "source": [
    "# I think this shouldn't require any positional arguments.\n",
    "# mp_GE = mavenn.measurement_process_layers.GlobalEpistasisLayer(K=50,\n",
    "#                                                                eta=1e-5,\n",
    "#                                                                monotonic=True)\n",
    "mp_mpa_1 = mavenn.measurement_process_layers.DiscreteAgnosticMP(info_for_layers_dict={'H_y_norm':0},\n",
    "                                                                      Y=10,\n",
    "                                                                      K=50,\n",
    "                                                                      eta=1e-5,)\n",
    "\n",
    "mp_mpa_2 = mavenn.measurement_process_layers.DiscreteAgnosticMP(info_for_layers_dict={'H_y_norm':0},\n",
    "                                                                      Y=10,\n",
    "                                                                      K=50,\n",
    "                                                                      eta=1e-5,)\n",
    "\n",
    "mp_mpa_3 = mavenn.measurement_process_layers.DiscreteAgnosticMP(info_for_layers_dict={'H_y_norm':0},\n",
    "                                                                      Y=10,\n",
    "                                                                      K=50,\n",
    "                                                                      eta=1e-5,)\n"
   ]
  },
  {
   "cell_type": "code",
   "execution_count": null,
   "metadata": {
    "collapsed": true
   },
   "outputs": [],
   "source": [
    "model = mavenn.Model2(gpmap=gpmap,\n",
    "                      mp_list=[mp_mpa_1, mp_mpa_2, mp_mpa_3])"
   ]
  },
  {
   "cell_type": "code",
   "execution_count": null,
   "metadata": {
    "collapsed": true
   },
   "outputs": [],
   "source": [
    "model.model.summary()"
   ]
  },
  {
   "cell_type": "code",
   "execution_count": null,
   "metadata": {
    "collapsed": true
   },
   "outputs": [],
   "source": [
    "from tensorflow.keras.utils import plot_model\n",
    "plot_model(model.model,show_shapes=True,show_dtype=False,dpi=200)"
   ]
  },
  {
   "cell_type": "code",
   "execution_count": null,
   "metadata": {
    "collapsed": true
   },
   "outputs": [],
   "source": [
    "\n",
    "# Fit model to data\n",
    "model.fit(learning_rate=.005,\n",
    "          epochs=50,\n",
    "          batch_size=1000,\n",
    "          try_tqdm = False,\n",
    "          early_stopping=True,\n",
    "          early_stopping_patience=10,\n",
    "          linear_initialization=False)"
   ]
  },
  {
   "cell_type": "code",
   "execution_count": null,
   "metadata": {
    "collapsed": true
   },
   "outputs": [],
   "source": [
    "# Show training history\n",
    "print('On test data:')\n",
    "# x_test = test_df['x'].values\n",
    "# y_test = test_df[y_cols].values\n",
    "\n",
    "\n",
    "I_var_hist = model.history['I_var']\n",
    "val_I_var_hist = model.history['val_I_var']\n",
    "\n",
    "fig, ax = plt.subplots(1,1,figsize=[4,4])\n",
    "ax.plot(I_var_hist, label='I_var_train')\n",
    "ax.plot(val_I_var_hist, label='I_var_val')\n",
    "ax.legend()\n",
    "ax.set_xlabel('epochs')\n",
    "ax.set_ylabel('bits')\n",
    "ax.set_title('training hisotry')"
   ]
  },
  {
   "cell_type": "code",
   "execution_count": null,
   "metadata": {
    "collapsed": true
   },
   "outputs": [],
   "source": [
    "phi = gpmap.x_to_phi(x_test)"
   ]
  },
  {
   "cell_type": "code",
   "execution_count": null,
   "metadata": {
    "collapsed": true
   },
   "outputs": [],
   "source": [
    "# Get G-P map parameters in matrix form\n",
    "theta = np.squeeze(gpmap.weights[1].numpy())\n",
    "\n",
    "# Create grid in phi space\n",
    "#phi_lim = [-5, 3]\n",
    "phi_lim = [min(phi), max(phi)]\n",
    "phi_grid = np.linspace(phi_lim[0], phi_lim[1], 1000)\n",
    "\n",
    "# Create array of allowable y values\n",
    "Y = 10    # Y = number of bins\n",
    "y_lim = [-.5, Y-.5]\n",
    "y_all = range(Y)\n",
    "\n",
    "# Compute matrix of p(y|phi) values\n",
    "measurement_process_1 = mp_mpa_1.p_of_all_y_given_phi(phi).numpy()\n",
    "measurement_process_2 = mp_mpa_2.p_of_all_y_given_phi(phi).numpy()\n",
    "measurement_process_3 = mp_mpa_3.p_of_all_y_given_phi(phi).numpy()\n",
    "\n",
    "measurement_process = np.hstack([measurement_process_1,measurement_process_2,measurement_process_3])\n",
    "\n",
    "# Create figure with two panels\n",
    "fig, axs = plt.subplots(1,2,figsize=[12,4])\n",
    "\n",
    "# Left panel: draw logo using logomaker\n",
    "ax = axs[0]\n",
    "logo = logomaker.Logo(pd.DataFrame(theta,columns=model.alphabet), ax=ax,center_values=True)\n",
    "ax.set_ylabel(r'parameter value ($\\theta_{l:c}$)')\n",
    "ax.set_xlabel(r'position ($l$)')\n",
    "ax.set_title('G-P map parameters')\n",
    "\n",
    "# Right panel: draw measurement process as heatmap\n",
    "ax = axs[1]\n",
    "im = ax.imshow(np.sort(measurement_process,axis=0).T,\n",
    "               cmap='Greens',\n",
    "               extent=phi_lim+y_lim,\n",
    "               vmin=0,\n",
    "               origin='lower',\n",
    "               interpolation='nearest',\n",
    "               aspect=\"auto\")\n",
    "ax.set_yticks(y_all)\n",
    "ax.set_ylabel('bin number (y)')\n",
    "ax.set_xlabel('latent phenotype ($\\phi$)')\n",
    "ax.set_title('measurement process')\n",
    "cb = plt.colorbar(im)\n",
    "cb.set_label('probability  $p(y|\\phi)$', rotation=-90, va=\"bottom\")\n",
    "\n",
    "# Fix up plot\n",
    "fig.tight_layout(w_pad=3)\n",
    "#fig.savefig('sortseq_g-p_map_mpa_visualization.png')\n",
    "plt.show()"
   ]
  },
  {
   "cell_type": "code",
   "execution_count": null,
   "metadata": {
    "collapsed": true
   },
   "outputs": [],
   "source": []
  },
  {
   "cell_type": "code",
   "execution_count": null,
   "metadata": {
    "collapsed": true
   },
   "outputs": [],
   "source": []
  },
  {
   "cell_type": "code",
   "execution_count": null,
   "metadata": {
    "collapsed": true
   },
   "outputs": [],
   "source": []
  }
 ],
 "metadata": {
  "kernelspec": {
   "display_name": "Python 3 (ipykernel)",
   "language": "python",
   "name": "python3"
  },
  "language_info": {
   "codemirror_mode": {
    "name": "ipython",
    "version": 3
   },
   "file_extension": ".py",
   "mimetype": "text/x-python",
   "name": "python",
   "nbconvert_exporter": "python",
   "pygments_lexer": "ipython3",
   "version": "3.9.7"
  }
 },
 "nbformat": 4,
 "nbformat_minor": 2
}
